{
  "nbformat": 4,
  "nbformat_minor": 0,
  "metadata": {
    "colab": {
      "provenance": [],
      "gpuType": "T4",
      "collapsed_sections": [
        "ULR5bhPHOHSE"
      ]
    },
    "kernelspec": {
      "name": "python3",
      "display_name": "Python 3"
    },
    "language_info": {
      "name": "python"
    },
    "accelerator": "GPU",
    "widgets": {
      "application/vnd.jupyter.widget-state+json": {
        "3e9bf4abafa244a5b50dc872e0e895f2": {
          "model_module": "@jupyter-widgets/controls",
          "model_name": "HBoxModel",
          "model_module_version": "1.5.0",
          "state": {
            "_dom_classes": [],
            "_model_module": "@jupyter-widgets/controls",
            "_model_module_version": "1.5.0",
            "_model_name": "HBoxModel",
            "_view_count": null,
            "_view_module": "@jupyter-widgets/controls",
            "_view_module_version": "1.5.0",
            "_view_name": "HBoxView",
            "box_style": "",
            "children": [
              "IPY_MODEL_7187681a12d94d24975829f33e661c8e",
              "IPY_MODEL_70afa6f98b6e4a7987ec31fa3c15bb01",
              "IPY_MODEL_e9c167e0787246a6a293641eeeabf4ab"
            ],
            "layout": "IPY_MODEL_074c59ed931f416791fe87753c5a7baf"
          }
        },
        "7187681a12d94d24975829f33e661c8e": {
          "model_module": "@jupyter-widgets/controls",
          "model_name": "HTMLModel",
          "model_module_version": "1.5.0",
          "state": {
            "_dom_classes": [],
            "_model_module": "@jupyter-widgets/controls",
            "_model_module_version": "1.5.0",
            "_model_name": "HTMLModel",
            "_view_count": null,
            "_view_module": "@jupyter-widgets/controls",
            "_view_module_version": "1.5.0",
            "_view_name": "HTMLView",
            "description": "",
            "description_tooltip": null,
            "layout": "IPY_MODEL_8c0cca9643e5409f85c59a7366ac054a",
            "placeholder": "​",
            "style": "IPY_MODEL_4f60587ef298468f815bce9f34846da3",
            "value": "Map (num_proc=8): 100%"
          }
        },
        "70afa6f98b6e4a7987ec31fa3c15bb01": {
          "model_module": "@jupyter-widgets/controls",
          "model_name": "FloatProgressModel",
          "model_module_version": "1.5.0",
          "state": {
            "_dom_classes": [],
            "_model_module": "@jupyter-widgets/controls",
            "_model_module_version": "1.5.0",
            "_model_name": "FloatProgressModel",
            "_view_count": null,
            "_view_module": "@jupyter-widgets/controls",
            "_view_module_version": "1.5.0",
            "_view_name": "ProgressView",
            "bar_style": "success",
            "description": "",
            "description_tooltip": null,
            "layout": "IPY_MODEL_12d2d78d62c24adca48a62896392b66a",
            "max": 7045,
            "min": 0,
            "orientation": "horizontal",
            "style": "IPY_MODEL_f5d4608a03b14878a02762321af58895",
            "value": 7045
          }
        },
        "e9c167e0787246a6a293641eeeabf4ab": {
          "model_module": "@jupyter-widgets/controls",
          "model_name": "HTMLModel",
          "model_module_version": "1.5.0",
          "state": {
            "_dom_classes": [],
            "_model_module": "@jupyter-widgets/controls",
            "_model_module_version": "1.5.0",
            "_model_name": "HTMLModel",
            "_view_count": null,
            "_view_module": "@jupyter-widgets/controls",
            "_view_module_version": "1.5.0",
            "_view_name": "HTMLView",
            "description": "",
            "description_tooltip": null,
            "layout": "IPY_MODEL_1d89dbe71d534dd39eae47fb385a24f5",
            "placeholder": "​",
            "style": "IPY_MODEL_679abf9473814a559a5196171e7a7d05",
            "value": " 7045/7045 [00:02&lt;00:00, 3296.17 examples/s]"
          }
        },
        "074c59ed931f416791fe87753c5a7baf": {
          "model_module": "@jupyter-widgets/base",
          "model_name": "LayoutModel",
          "model_module_version": "1.2.0",
          "state": {
            "_model_module": "@jupyter-widgets/base",
            "_model_module_version": "1.2.0",
            "_model_name": "LayoutModel",
            "_view_count": null,
            "_view_module": "@jupyter-widgets/base",
            "_view_module_version": "1.2.0",
            "_view_name": "LayoutView",
            "align_content": null,
            "align_items": null,
            "align_self": null,
            "border": null,
            "bottom": null,
            "display": null,
            "flex": null,
            "flex_flow": null,
            "grid_area": null,
            "grid_auto_columns": null,
            "grid_auto_flow": null,
            "grid_auto_rows": null,
            "grid_column": null,
            "grid_gap": null,
            "grid_row": null,
            "grid_template_areas": null,
            "grid_template_columns": null,
            "grid_template_rows": null,
            "height": null,
            "justify_content": null,
            "justify_items": null,
            "left": null,
            "margin": null,
            "max_height": null,
            "max_width": null,
            "min_height": null,
            "min_width": null,
            "object_fit": null,
            "object_position": null,
            "order": null,
            "overflow": null,
            "overflow_x": null,
            "overflow_y": null,
            "padding": null,
            "right": null,
            "top": null,
            "visibility": null,
            "width": null
          }
        },
        "8c0cca9643e5409f85c59a7366ac054a": {
          "model_module": "@jupyter-widgets/base",
          "model_name": "LayoutModel",
          "model_module_version": "1.2.0",
          "state": {
            "_model_module": "@jupyter-widgets/base",
            "_model_module_version": "1.2.0",
            "_model_name": "LayoutModel",
            "_view_count": null,
            "_view_module": "@jupyter-widgets/base",
            "_view_module_version": "1.2.0",
            "_view_name": "LayoutView",
            "align_content": null,
            "align_items": null,
            "align_self": null,
            "border": null,
            "bottom": null,
            "display": null,
            "flex": null,
            "flex_flow": null,
            "grid_area": null,
            "grid_auto_columns": null,
            "grid_auto_flow": null,
            "grid_auto_rows": null,
            "grid_column": null,
            "grid_gap": null,
            "grid_row": null,
            "grid_template_areas": null,
            "grid_template_columns": null,
            "grid_template_rows": null,
            "height": null,
            "justify_content": null,
            "justify_items": null,
            "left": null,
            "margin": null,
            "max_height": null,
            "max_width": null,
            "min_height": null,
            "min_width": null,
            "object_fit": null,
            "object_position": null,
            "order": null,
            "overflow": null,
            "overflow_x": null,
            "overflow_y": null,
            "padding": null,
            "right": null,
            "top": null,
            "visibility": null,
            "width": null
          }
        },
        "4f60587ef298468f815bce9f34846da3": {
          "model_module": "@jupyter-widgets/controls",
          "model_name": "DescriptionStyleModel",
          "model_module_version": "1.5.0",
          "state": {
            "_model_module": "@jupyter-widgets/controls",
            "_model_module_version": "1.5.0",
            "_model_name": "DescriptionStyleModel",
            "_view_count": null,
            "_view_module": "@jupyter-widgets/base",
            "_view_module_version": "1.2.0",
            "_view_name": "StyleView",
            "description_width": ""
          }
        },
        "12d2d78d62c24adca48a62896392b66a": {
          "model_module": "@jupyter-widgets/base",
          "model_name": "LayoutModel",
          "model_module_version": "1.2.0",
          "state": {
            "_model_module": "@jupyter-widgets/base",
            "_model_module_version": "1.2.0",
            "_model_name": "LayoutModel",
            "_view_count": null,
            "_view_module": "@jupyter-widgets/base",
            "_view_module_version": "1.2.0",
            "_view_name": "LayoutView",
            "align_content": null,
            "align_items": null,
            "align_self": null,
            "border": null,
            "bottom": null,
            "display": null,
            "flex": null,
            "flex_flow": null,
            "grid_area": null,
            "grid_auto_columns": null,
            "grid_auto_flow": null,
            "grid_auto_rows": null,
            "grid_column": null,
            "grid_gap": null,
            "grid_row": null,
            "grid_template_areas": null,
            "grid_template_columns": null,
            "grid_template_rows": null,
            "height": null,
            "justify_content": null,
            "justify_items": null,
            "left": null,
            "margin": null,
            "max_height": null,
            "max_width": null,
            "min_height": null,
            "min_width": null,
            "object_fit": null,
            "object_position": null,
            "order": null,
            "overflow": null,
            "overflow_x": null,
            "overflow_y": null,
            "padding": null,
            "right": null,
            "top": null,
            "visibility": null,
            "width": null
          }
        },
        "f5d4608a03b14878a02762321af58895": {
          "model_module": "@jupyter-widgets/controls",
          "model_name": "ProgressStyleModel",
          "model_module_version": "1.5.0",
          "state": {
            "_model_module": "@jupyter-widgets/controls",
            "_model_module_version": "1.5.0",
            "_model_name": "ProgressStyleModel",
            "_view_count": null,
            "_view_module": "@jupyter-widgets/base",
            "_view_module_version": "1.2.0",
            "_view_name": "StyleView",
            "bar_color": null,
            "description_width": ""
          }
        },
        "1d89dbe71d534dd39eae47fb385a24f5": {
          "model_module": "@jupyter-widgets/base",
          "model_name": "LayoutModel",
          "model_module_version": "1.2.0",
          "state": {
            "_model_module": "@jupyter-widgets/base",
            "_model_module_version": "1.2.0",
            "_model_name": "LayoutModel",
            "_view_count": null,
            "_view_module": "@jupyter-widgets/base",
            "_view_module_version": "1.2.0",
            "_view_name": "LayoutView",
            "align_content": null,
            "align_items": null,
            "align_self": null,
            "border": null,
            "bottom": null,
            "display": null,
            "flex": null,
            "flex_flow": null,
            "grid_area": null,
            "grid_auto_columns": null,
            "grid_auto_flow": null,
            "grid_auto_rows": null,
            "grid_column": null,
            "grid_gap": null,
            "grid_row": null,
            "grid_template_areas": null,
            "grid_template_columns": null,
            "grid_template_rows": null,
            "height": null,
            "justify_content": null,
            "justify_items": null,
            "left": null,
            "margin": null,
            "max_height": null,
            "max_width": null,
            "min_height": null,
            "min_width": null,
            "object_fit": null,
            "object_position": null,
            "order": null,
            "overflow": null,
            "overflow_x": null,
            "overflow_y": null,
            "padding": null,
            "right": null,
            "top": null,
            "visibility": null,
            "width": null
          }
        },
        "679abf9473814a559a5196171e7a7d05": {
          "model_module": "@jupyter-widgets/controls",
          "model_name": "DescriptionStyleModel",
          "model_module_version": "1.5.0",
          "state": {
            "_model_module": "@jupyter-widgets/controls",
            "_model_module_version": "1.5.0",
            "_model_name": "DescriptionStyleModel",
            "_view_count": null,
            "_view_module": "@jupyter-widgets/base",
            "_view_module_version": "1.2.0",
            "_view_name": "StyleView",
            "description_width": ""
          }
        },
        "af47ce5335b04bffac44cf0f57de1048": {
          "model_module": "@jupyter-widgets/controls",
          "model_name": "HBoxModel",
          "model_module_version": "1.5.0",
          "state": {
            "_dom_classes": [],
            "_model_module": "@jupyter-widgets/controls",
            "_model_module_version": "1.5.0",
            "_model_name": "HBoxModel",
            "_view_count": null,
            "_view_module": "@jupyter-widgets/controls",
            "_view_module_version": "1.5.0",
            "_view_name": "HBoxView",
            "box_style": "",
            "children": [
              "IPY_MODEL_b032fffcdd364eba901e93410d342730",
              "IPY_MODEL_fcf11ef158ac4283a80f832bcf6e0770",
              "IPY_MODEL_90e0f92c4f694e61a55049a7e91a4c90"
            ],
            "layout": "IPY_MODEL_b1eed3d7e3d24b188c3f2023a90d82e5"
          }
        },
        "b032fffcdd364eba901e93410d342730": {
          "model_module": "@jupyter-widgets/controls",
          "model_name": "HTMLModel",
          "model_module_version": "1.5.0",
          "state": {
            "_dom_classes": [],
            "_model_module": "@jupyter-widgets/controls",
            "_model_module_version": "1.5.0",
            "_model_name": "HTMLModel",
            "_view_count": null,
            "_view_module": "@jupyter-widgets/controls",
            "_view_module_version": "1.5.0",
            "_view_name": "HTMLView",
            "description": "",
            "description_tooltip": null,
            "layout": "IPY_MODEL_98419e776cfb4ef9890dca8a54b5d778",
            "placeholder": "​",
            "style": "IPY_MODEL_25dd6f3779524e32a491508c2929994e",
            "value": "Map (num_proc=8): 100%"
          }
        },
        "fcf11ef158ac4283a80f832bcf6e0770": {
          "model_module": "@jupyter-widgets/controls",
          "model_name": "FloatProgressModel",
          "model_module_version": "1.5.0",
          "state": {
            "_dom_classes": [],
            "_model_module": "@jupyter-widgets/controls",
            "_model_module_version": "1.5.0",
            "_model_name": "FloatProgressModel",
            "_view_count": null,
            "_view_module": "@jupyter-widgets/controls",
            "_view_module_version": "1.5.0",
            "_view_name": "ProgressView",
            "bar_style": "success",
            "description": "",
            "description_tooltip": null,
            "layout": "IPY_MODEL_a20fdc856d804215ba767baee2737c5a",
            "max": 1510,
            "min": 0,
            "orientation": "horizontal",
            "style": "IPY_MODEL_80b12d30e0b3479499fafbe5220d2f12",
            "value": 1510
          }
        },
        "90e0f92c4f694e61a55049a7e91a4c90": {
          "model_module": "@jupyter-widgets/controls",
          "model_name": "HTMLModel",
          "model_module_version": "1.5.0",
          "state": {
            "_dom_classes": [],
            "_model_module": "@jupyter-widgets/controls",
            "_model_module_version": "1.5.0",
            "_model_name": "HTMLModel",
            "_view_count": null,
            "_view_module": "@jupyter-widgets/controls",
            "_view_module_version": "1.5.0",
            "_view_name": "HTMLView",
            "description": "",
            "description_tooltip": null,
            "layout": "IPY_MODEL_6418739d47af4338a0b0be5327add115",
            "placeholder": "​",
            "style": "IPY_MODEL_1b4519a902e347ffb25df7aaf784cfc3",
            "value": " 1510/1510 [00:01&lt;00:00, 2124.69 examples/s]"
          }
        },
        "b1eed3d7e3d24b188c3f2023a90d82e5": {
          "model_module": "@jupyter-widgets/base",
          "model_name": "LayoutModel",
          "model_module_version": "1.2.0",
          "state": {
            "_model_module": "@jupyter-widgets/base",
            "_model_module_version": "1.2.0",
            "_model_name": "LayoutModel",
            "_view_count": null,
            "_view_module": "@jupyter-widgets/base",
            "_view_module_version": "1.2.0",
            "_view_name": "LayoutView",
            "align_content": null,
            "align_items": null,
            "align_self": null,
            "border": null,
            "bottom": null,
            "display": null,
            "flex": null,
            "flex_flow": null,
            "grid_area": null,
            "grid_auto_columns": null,
            "grid_auto_flow": null,
            "grid_auto_rows": null,
            "grid_column": null,
            "grid_gap": null,
            "grid_row": null,
            "grid_template_areas": null,
            "grid_template_columns": null,
            "grid_template_rows": null,
            "height": null,
            "justify_content": null,
            "justify_items": null,
            "left": null,
            "margin": null,
            "max_height": null,
            "max_width": null,
            "min_height": null,
            "min_width": null,
            "object_fit": null,
            "object_position": null,
            "order": null,
            "overflow": null,
            "overflow_x": null,
            "overflow_y": null,
            "padding": null,
            "right": null,
            "top": null,
            "visibility": null,
            "width": null
          }
        },
        "98419e776cfb4ef9890dca8a54b5d778": {
          "model_module": "@jupyter-widgets/base",
          "model_name": "LayoutModel",
          "model_module_version": "1.2.0",
          "state": {
            "_model_module": "@jupyter-widgets/base",
            "_model_module_version": "1.2.0",
            "_model_name": "LayoutModel",
            "_view_count": null,
            "_view_module": "@jupyter-widgets/base",
            "_view_module_version": "1.2.0",
            "_view_name": "LayoutView",
            "align_content": null,
            "align_items": null,
            "align_self": null,
            "border": null,
            "bottom": null,
            "display": null,
            "flex": null,
            "flex_flow": null,
            "grid_area": null,
            "grid_auto_columns": null,
            "grid_auto_flow": null,
            "grid_auto_rows": null,
            "grid_column": null,
            "grid_gap": null,
            "grid_row": null,
            "grid_template_areas": null,
            "grid_template_columns": null,
            "grid_template_rows": null,
            "height": null,
            "justify_content": null,
            "justify_items": null,
            "left": null,
            "margin": null,
            "max_height": null,
            "max_width": null,
            "min_height": null,
            "min_width": null,
            "object_fit": null,
            "object_position": null,
            "order": null,
            "overflow": null,
            "overflow_x": null,
            "overflow_y": null,
            "padding": null,
            "right": null,
            "top": null,
            "visibility": null,
            "width": null
          }
        },
        "25dd6f3779524e32a491508c2929994e": {
          "model_module": "@jupyter-widgets/controls",
          "model_name": "DescriptionStyleModel",
          "model_module_version": "1.5.0",
          "state": {
            "_model_module": "@jupyter-widgets/controls",
            "_model_module_version": "1.5.0",
            "_model_name": "DescriptionStyleModel",
            "_view_count": null,
            "_view_module": "@jupyter-widgets/base",
            "_view_module_version": "1.2.0",
            "_view_name": "StyleView",
            "description_width": ""
          }
        },
        "a20fdc856d804215ba767baee2737c5a": {
          "model_module": "@jupyter-widgets/base",
          "model_name": "LayoutModel",
          "model_module_version": "1.2.0",
          "state": {
            "_model_module": "@jupyter-widgets/base",
            "_model_module_version": "1.2.0",
            "_model_name": "LayoutModel",
            "_view_count": null,
            "_view_module": "@jupyter-widgets/base",
            "_view_module_version": "1.2.0",
            "_view_name": "LayoutView",
            "align_content": null,
            "align_items": null,
            "align_self": null,
            "border": null,
            "bottom": null,
            "display": null,
            "flex": null,
            "flex_flow": null,
            "grid_area": null,
            "grid_auto_columns": null,
            "grid_auto_flow": null,
            "grid_auto_rows": null,
            "grid_column": null,
            "grid_gap": null,
            "grid_row": null,
            "grid_template_areas": null,
            "grid_template_columns": null,
            "grid_template_rows": null,
            "height": null,
            "justify_content": null,
            "justify_items": null,
            "left": null,
            "margin": null,
            "max_height": null,
            "max_width": null,
            "min_height": null,
            "min_width": null,
            "object_fit": null,
            "object_position": null,
            "order": null,
            "overflow": null,
            "overflow_x": null,
            "overflow_y": null,
            "padding": null,
            "right": null,
            "top": null,
            "visibility": null,
            "width": null
          }
        },
        "80b12d30e0b3479499fafbe5220d2f12": {
          "model_module": "@jupyter-widgets/controls",
          "model_name": "ProgressStyleModel",
          "model_module_version": "1.5.0",
          "state": {
            "_model_module": "@jupyter-widgets/controls",
            "_model_module_version": "1.5.0",
            "_model_name": "ProgressStyleModel",
            "_view_count": null,
            "_view_module": "@jupyter-widgets/base",
            "_view_module_version": "1.2.0",
            "_view_name": "StyleView",
            "bar_color": null,
            "description_width": ""
          }
        },
        "6418739d47af4338a0b0be5327add115": {
          "model_module": "@jupyter-widgets/base",
          "model_name": "LayoutModel",
          "model_module_version": "1.2.0",
          "state": {
            "_model_module": "@jupyter-widgets/base",
            "_model_module_version": "1.2.0",
            "_model_name": "LayoutModel",
            "_view_count": null,
            "_view_module": "@jupyter-widgets/base",
            "_view_module_version": "1.2.0",
            "_view_name": "LayoutView",
            "align_content": null,
            "align_items": null,
            "align_self": null,
            "border": null,
            "bottom": null,
            "display": null,
            "flex": null,
            "flex_flow": null,
            "grid_area": null,
            "grid_auto_columns": null,
            "grid_auto_flow": null,
            "grid_auto_rows": null,
            "grid_column": null,
            "grid_gap": null,
            "grid_row": null,
            "grid_template_areas": null,
            "grid_template_columns": null,
            "grid_template_rows": null,
            "height": null,
            "justify_content": null,
            "justify_items": null,
            "left": null,
            "margin": null,
            "max_height": null,
            "max_width": null,
            "min_height": null,
            "min_width": null,
            "object_fit": null,
            "object_position": null,
            "order": null,
            "overflow": null,
            "overflow_x": null,
            "overflow_y": null,
            "padding": null,
            "right": null,
            "top": null,
            "visibility": null,
            "width": null
          }
        },
        "1b4519a902e347ffb25df7aaf784cfc3": {
          "model_module": "@jupyter-widgets/controls",
          "model_name": "DescriptionStyleModel",
          "model_module_version": "1.5.0",
          "state": {
            "_model_module": "@jupyter-widgets/controls",
            "_model_module_version": "1.5.0",
            "_model_name": "DescriptionStyleModel",
            "_view_count": null,
            "_view_module": "@jupyter-widgets/base",
            "_view_module_version": "1.2.0",
            "_view_name": "StyleView",
            "description_width": ""
          }
        },
        "83e07e6943a249e896bf8885585197df": {
          "model_module": "@jupyter-widgets/controls",
          "model_name": "HBoxModel",
          "model_module_version": "1.5.0",
          "state": {
            "_dom_classes": [],
            "_model_module": "@jupyter-widgets/controls",
            "_model_module_version": "1.5.0",
            "_model_name": "HBoxModel",
            "_view_count": null,
            "_view_module": "@jupyter-widgets/controls",
            "_view_module_version": "1.5.0",
            "_view_name": "HBoxView",
            "box_style": "",
            "children": [
              "IPY_MODEL_c7426a7a8a3947c1967521d76da88453",
              "IPY_MODEL_96f6ba3c5665437f99821d611029fcdf",
              "IPY_MODEL_a67fe4decfae47d190a26e7a51c209c5"
            ],
            "layout": "IPY_MODEL_cb8c69e2810a4d90b8ca85c85a00d726"
          }
        },
        "c7426a7a8a3947c1967521d76da88453": {
          "model_module": "@jupyter-widgets/controls",
          "model_name": "HTMLModel",
          "model_module_version": "1.5.0",
          "state": {
            "_dom_classes": [],
            "_model_module": "@jupyter-widgets/controls",
            "_model_module_version": "1.5.0",
            "_model_name": "HTMLModel",
            "_view_count": null,
            "_view_module": "@jupyter-widgets/controls",
            "_view_module_version": "1.5.0",
            "_view_name": "HTMLView",
            "description": "",
            "description_tooltip": null,
            "layout": "IPY_MODEL_7843b16f504e4c008ff3c4204217838b",
            "placeholder": "​",
            "style": "IPY_MODEL_9daf44f5af3b46ea9210399e2a352643",
            "value": "Map (num_proc=8): 100%"
          }
        },
        "96f6ba3c5665437f99821d611029fcdf": {
          "model_module": "@jupyter-widgets/controls",
          "model_name": "FloatProgressModel",
          "model_module_version": "1.5.0",
          "state": {
            "_dom_classes": [],
            "_model_module": "@jupyter-widgets/controls",
            "_model_module_version": "1.5.0",
            "_model_name": "FloatProgressModel",
            "_view_count": null,
            "_view_module": "@jupyter-widgets/controls",
            "_view_module_version": "1.5.0",
            "_view_name": "ProgressView",
            "bar_style": "success",
            "description": "",
            "description_tooltip": null,
            "layout": "IPY_MODEL_898f9591e90745ceac98cee50d45a948",
            "max": 1510,
            "min": 0,
            "orientation": "horizontal",
            "style": "IPY_MODEL_e990114774ca43c18508c14540e96a09",
            "value": 1510
          }
        },
        "a67fe4decfae47d190a26e7a51c209c5": {
          "model_module": "@jupyter-widgets/controls",
          "model_name": "HTMLModel",
          "model_module_version": "1.5.0",
          "state": {
            "_dom_classes": [],
            "_model_module": "@jupyter-widgets/controls",
            "_model_module_version": "1.5.0",
            "_model_name": "HTMLModel",
            "_view_count": null,
            "_view_module": "@jupyter-widgets/controls",
            "_view_module_version": "1.5.0",
            "_view_name": "HTMLView",
            "description": "",
            "description_tooltip": null,
            "layout": "IPY_MODEL_0a9a405a724d4a28b4f85a4df3cec219",
            "placeholder": "​",
            "style": "IPY_MODEL_544ca7164a6849d782eccf01de16a246",
            "value": " 1510/1510 [00:00&lt;00:00, 2338.46 examples/s]"
          }
        },
        "cb8c69e2810a4d90b8ca85c85a00d726": {
          "model_module": "@jupyter-widgets/base",
          "model_name": "LayoutModel",
          "model_module_version": "1.2.0",
          "state": {
            "_model_module": "@jupyter-widgets/base",
            "_model_module_version": "1.2.0",
            "_model_name": "LayoutModel",
            "_view_count": null,
            "_view_module": "@jupyter-widgets/base",
            "_view_module_version": "1.2.0",
            "_view_name": "LayoutView",
            "align_content": null,
            "align_items": null,
            "align_self": null,
            "border": null,
            "bottom": null,
            "display": null,
            "flex": null,
            "flex_flow": null,
            "grid_area": null,
            "grid_auto_columns": null,
            "grid_auto_flow": null,
            "grid_auto_rows": null,
            "grid_column": null,
            "grid_gap": null,
            "grid_row": null,
            "grid_template_areas": null,
            "grid_template_columns": null,
            "grid_template_rows": null,
            "height": null,
            "justify_content": null,
            "justify_items": null,
            "left": null,
            "margin": null,
            "max_height": null,
            "max_width": null,
            "min_height": null,
            "min_width": null,
            "object_fit": null,
            "object_position": null,
            "order": null,
            "overflow": null,
            "overflow_x": null,
            "overflow_y": null,
            "padding": null,
            "right": null,
            "top": null,
            "visibility": null,
            "width": null
          }
        },
        "7843b16f504e4c008ff3c4204217838b": {
          "model_module": "@jupyter-widgets/base",
          "model_name": "LayoutModel",
          "model_module_version": "1.2.0",
          "state": {
            "_model_module": "@jupyter-widgets/base",
            "_model_module_version": "1.2.0",
            "_model_name": "LayoutModel",
            "_view_count": null,
            "_view_module": "@jupyter-widgets/base",
            "_view_module_version": "1.2.0",
            "_view_name": "LayoutView",
            "align_content": null,
            "align_items": null,
            "align_self": null,
            "border": null,
            "bottom": null,
            "display": null,
            "flex": null,
            "flex_flow": null,
            "grid_area": null,
            "grid_auto_columns": null,
            "grid_auto_flow": null,
            "grid_auto_rows": null,
            "grid_column": null,
            "grid_gap": null,
            "grid_row": null,
            "grid_template_areas": null,
            "grid_template_columns": null,
            "grid_template_rows": null,
            "height": null,
            "justify_content": null,
            "justify_items": null,
            "left": null,
            "margin": null,
            "max_height": null,
            "max_width": null,
            "min_height": null,
            "min_width": null,
            "object_fit": null,
            "object_position": null,
            "order": null,
            "overflow": null,
            "overflow_x": null,
            "overflow_y": null,
            "padding": null,
            "right": null,
            "top": null,
            "visibility": null,
            "width": null
          }
        },
        "9daf44f5af3b46ea9210399e2a352643": {
          "model_module": "@jupyter-widgets/controls",
          "model_name": "DescriptionStyleModel",
          "model_module_version": "1.5.0",
          "state": {
            "_model_module": "@jupyter-widgets/controls",
            "_model_module_version": "1.5.0",
            "_model_name": "DescriptionStyleModel",
            "_view_count": null,
            "_view_module": "@jupyter-widgets/base",
            "_view_module_version": "1.2.0",
            "_view_name": "StyleView",
            "description_width": ""
          }
        },
        "898f9591e90745ceac98cee50d45a948": {
          "model_module": "@jupyter-widgets/base",
          "model_name": "LayoutModel",
          "model_module_version": "1.2.0",
          "state": {
            "_model_module": "@jupyter-widgets/base",
            "_model_module_version": "1.2.0",
            "_model_name": "LayoutModel",
            "_view_count": null,
            "_view_module": "@jupyter-widgets/base",
            "_view_module_version": "1.2.0",
            "_view_name": "LayoutView",
            "align_content": null,
            "align_items": null,
            "align_self": null,
            "border": null,
            "bottom": null,
            "display": null,
            "flex": null,
            "flex_flow": null,
            "grid_area": null,
            "grid_auto_columns": null,
            "grid_auto_flow": null,
            "grid_auto_rows": null,
            "grid_column": null,
            "grid_gap": null,
            "grid_row": null,
            "grid_template_areas": null,
            "grid_template_columns": null,
            "grid_template_rows": null,
            "height": null,
            "justify_content": null,
            "justify_items": null,
            "left": null,
            "margin": null,
            "max_height": null,
            "max_width": null,
            "min_height": null,
            "min_width": null,
            "object_fit": null,
            "object_position": null,
            "order": null,
            "overflow": null,
            "overflow_x": null,
            "overflow_y": null,
            "padding": null,
            "right": null,
            "top": null,
            "visibility": null,
            "width": null
          }
        },
        "e990114774ca43c18508c14540e96a09": {
          "model_module": "@jupyter-widgets/controls",
          "model_name": "ProgressStyleModel",
          "model_module_version": "1.5.0",
          "state": {
            "_model_module": "@jupyter-widgets/controls",
            "_model_module_version": "1.5.0",
            "_model_name": "ProgressStyleModel",
            "_view_count": null,
            "_view_module": "@jupyter-widgets/base",
            "_view_module_version": "1.2.0",
            "_view_name": "StyleView",
            "bar_color": null,
            "description_width": ""
          }
        },
        "0a9a405a724d4a28b4f85a4df3cec219": {
          "model_module": "@jupyter-widgets/base",
          "model_name": "LayoutModel",
          "model_module_version": "1.2.0",
          "state": {
            "_model_module": "@jupyter-widgets/base",
            "_model_module_version": "1.2.0",
            "_model_name": "LayoutModel",
            "_view_count": null,
            "_view_module": "@jupyter-widgets/base",
            "_view_module_version": "1.2.0",
            "_view_name": "LayoutView",
            "align_content": null,
            "align_items": null,
            "align_self": null,
            "border": null,
            "bottom": null,
            "display": null,
            "flex": null,
            "flex_flow": null,
            "grid_area": null,
            "grid_auto_columns": null,
            "grid_auto_flow": null,
            "grid_auto_rows": null,
            "grid_column": null,
            "grid_gap": null,
            "grid_row": null,
            "grid_template_areas": null,
            "grid_template_columns": null,
            "grid_template_rows": null,
            "height": null,
            "justify_content": null,
            "justify_items": null,
            "left": null,
            "margin": null,
            "max_height": null,
            "max_width": null,
            "min_height": null,
            "min_width": null,
            "object_fit": null,
            "object_position": null,
            "order": null,
            "overflow": null,
            "overflow_x": null,
            "overflow_y": null,
            "padding": null,
            "right": null,
            "top": null,
            "visibility": null,
            "width": null
          }
        },
        "544ca7164a6849d782eccf01de16a246": {
          "model_module": "@jupyter-widgets/controls",
          "model_name": "DescriptionStyleModel",
          "model_module_version": "1.5.0",
          "state": {
            "_model_module": "@jupyter-widgets/controls",
            "_model_module_version": "1.5.0",
            "_model_name": "DescriptionStyleModel",
            "_view_count": null,
            "_view_module": "@jupyter-widgets/base",
            "_view_module_version": "1.2.0",
            "_view_name": "StyleView",
            "description_width": ""
          }
        }
      }
    }
  },
  "cells": [
    {
      "cell_type": "code",
      "source": [
        "!pip install datasets\n",
        "!pip install transformers==4.31.0\n",
        "!pip install -U accelerate\n",
        "!pip install optuna\n",
        "!pip install optuna-dashboard\n",
        "!pip install wandb -qU"
      ],
      "metadata": {
        "id": "H7jYB7rgGW1m"
      },
      "execution_count": null,
      "outputs": []
    },
    {
      "cell_type": "code",
      "source": [
        "import transformers\n",
        "\n",
        "transformers.__version__"
      ],
      "metadata": {
        "colab": {
          "base_uri": "https://localhost:8080/",
          "height": 35
        },
        "id": "j4_y9G3V7bNh",
        "outputId": "fa164074-7485-4dd0-c854-ebbcb04977cb"
      },
      "execution_count": 2,
      "outputs": [
        {
          "output_type": "execute_result",
          "data": {
            "text/plain": [
              "'4.31.0'"
            ],
            "application/vnd.google.colaboratory.intrinsic+json": {
              "type": "string"
            }
          },
          "metadata": {},
          "execution_count": 2
        }
      ]
    },
    {
      "cell_type": "markdown",
      "source": [
        "#Data"
      ],
      "metadata": {
        "id": "csh2ZF7cWBlD"
      }
    },
    {
      "cell_type": "code",
      "source": [
        "from google.colab import drive\n",
        "\n",
        "drive.mount('/content/drive')"
      ],
      "metadata": {
        "colab": {
          "base_uri": "https://localhost:8080/"
        },
        "id": "czigEU5xCDaZ",
        "outputId": "f2f63993-22e0-4341-e443-49dc9e7a1a64"
      },
      "execution_count": 41,
      "outputs": [
        {
          "output_type": "stream",
          "name": "stderr",
          "text": [
            "127.0.0.1 - - [17/Sep/2023 16:24:22] \"GET /api/studies/0?after=2 HTTP/1.1\" 200 3303\n"
          ]
        },
        {
          "output_type": "stream",
          "name": "stdout",
          "text": [
            "Drive already mounted at /content/drive; to attempt to forcibly remount, call drive.mount(\"/content/drive\", force_remount=True).\n"
          ]
        }
      ]
    },
    {
      "cell_type": "code",
      "source": [
        "preprocessing_column = \"Light Stemming\""
      ],
      "metadata": {
        "id": "eBxapPX96sCK"
      },
      "execution_count": 4,
      "outputs": []
    },
    {
      "cell_type": "code",
      "execution_count": 5,
      "metadata": {
        "id": "LhsxCvYGEsT-"
      },
      "outputs": [],
      "source": [
        "import pickle\n",
        "\n",
        "with open('/content/drive/MyDrive/emotion_data_tweets/cleaned text data/train.pkl', 'rb') as f:\n",
        "    X_train = pickle.load(f)\n",
        "\n",
        "with open('/content/drive/MyDrive/emotion_data_tweets/cleaned text data/test.pkl', 'rb') as f:\n",
        "    X_test = pickle.load(f)\n",
        "\n",
        "with open('/content/drive/MyDrive/emotion_data_tweets/cleaned text data/val.pkl', 'rb') as f:\n",
        "    X_dev = pickle.load(f)"
      ]
    },
    {
      "cell_type": "code",
      "source": [
        "label_to_class = {\n",
        "    0: 'none',\n",
        "    1: 'anger',\n",
        "    2: 'joy',\n",
        "    3: 'sadness',\n",
        "    4: 'love',\n",
        "    5: 'sympathy',\n",
        "    6: 'surprise',\n",
        "    7: 'fear'\n",
        "}\n",
        "\n",
        "classes = ['none', 'anger', 'joy', 'sadness', 'love', 'sympathy', 'surprise', 'fear']"
      ],
      "metadata": {
        "id": "bpMubmmTqcsn"
      },
      "execution_count": 6,
      "outputs": []
    },
    {
      "cell_type": "code",
      "source": [
        "X_train.head()"
      ],
      "metadata": {
        "id": "8LHRao68FcI9",
        "colab": {
          "base_uri": "https://localhost:8080/",
          "height": 799
        },
        "outputId": "18215dca-1e25-4095-d088-bc19a6042d52"
      },
      "execution_count": 7,
      "outputs": [
        {
          "output_type": "execute_result",
          "data": {
            "text/plain": [
              "                                                  tweet  label  \\\n",
              "5081  1996   يا مهند ياحبيبي انت تدور لبش مع اي احد ...      1   \n",
              "8264  حلب عفرين  اعتقال عشرات الشباب من قريه باسوطه ...      3   \n",
              "9777             انا نفسي مره اجرب اكون ليك حد اقرب : )      3   \n",
              "740   الصراحه احساس مخزي ونحن نكتفي بالتمثيل المشرف ...      3   \n",
              "6537  57   عاجل الايطالي فابيو باسل يفوز بدهب الاولي...      0   \n",
              "\n",
              "                             tweet_with_replaced_emojis  \\\n",
              "5081  1996   يا مهند ياحبيبي انت تدور لبش مع اي احد ...   \n",
              "8264  حلب عفرين  اعتقال عشرات الشباب من قريه باسوطه ...   \n",
              "9777             انا نفسي مره اجرب اكون ليك حد اقرب : )   \n",
              "740   الصراحه احساس مخزي ونحن نكتفي بالتمثيل المشرف ...   \n",
              "6537  57   عاجل الايطالي فابيو باسل يفوز بدهب الاولي...   \n",
              "\n",
              "                      cleaned_data_with_replaced_emojis  \\\n",
              "5081  يامهند ياحبيبي تدور لبش اي احد متاكد ابو جاسم ...   \n",
              "8264  حلب عفرين اعتقال عشرات الشباب قريه باسوطه ريف ...   \n",
              "9777                             مره اجرب اكون ليك اقرب   \n",
              "740   الصراحه احساس مخزي نكتفي بالتمثيل المشرف الاول...   \n",
              "6537  عاجل الايطالي فابيو باسل يفوز بدهب الاوليمبياد...   \n",
              "\n",
              "                                         Light Stemming  \n",
              "5081  يامهند ياحبيبي تدور لبش اي احد متاكد ابو جاسم ...  \n",
              "8264  حلب عفر اعتقال عشر الشباب قريه باسوطه ريف عفر ...  \n",
              "9777                             مره اجرب اكون ليك اقرب  \n",
              "740   الصراحه احساس مخزي نكتفي بالتمثيل المشرف الاول...  \n",
              "6537  عاجل الايطالي فابيو باسل يفوز بدهب الاوليمبياد...  "
            ],
            "text/html": [
              "\n",
              "  <div id=\"df-b2c7ce6f-b67c-4f41-822e-190a96ddd829\" class=\"colab-df-container\">\n",
              "    <div>\n",
              "<style scoped>\n",
              "    .dataframe tbody tr th:only-of-type {\n",
              "        vertical-align: middle;\n",
              "    }\n",
              "\n",
              "    .dataframe tbody tr th {\n",
              "        vertical-align: top;\n",
              "    }\n",
              "\n",
              "    .dataframe thead th {\n",
              "        text-align: right;\n",
              "    }\n",
              "</style>\n",
              "<table border=\"1\" class=\"dataframe\">\n",
              "  <thead>\n",
              "    <tr style=\"text-align: right;\">\n",
              "      <th></th>\n",
              "      <th>tweet</th>\n",
              "      <th>label</th>\n",
              "      <th>tweet_with_replaced_emojis</th>\n",
              "      <th>cleaned_data_with_replaced_emojis</th>\n",
              "      <th>Light Stemming</th>\n",
              "    </tr>\n",
              "  </thead>\n",
              "  <tbody>\n",
              "    <tr>\n",
              "      <th>5081</th>\n",
              "      <td>1996   يا مهند ياحبيبي انت تدور لبش مع اي احد ...</td>\n",
              "      <td>1</td>\n",
              "      <td>1996   يا مهند ياحبيبي انت تدور لبش مع اي احد ...</td>\n",
              "      <td>يامهند ياحبيبي تدور لبش اي احد متاكد ابو جاسم ...</td>\n",
              "      <td>يامهند ياحبيبي تدور لبش اي احد متاكد ابو جاسم ...</td>\n",
              "    </tr>\n",
              "    <tr>\n",
              "      <th>8264</th>\n",
              "      <td>حلب عفرين  اعتقال عشرات الشباب من قريه باسوطه ...</td>\n",
              "      <td>3</td>\n",
              "      <td>حلب عفرين  اعتقال عشرات الشباب من قريه باسوطه ...</td>\n",
              "      <td>حلب عفرين اعتقال عشرات الشباب قريه باسوطه ريف ...</td>\n",
              "      <td>حلب عفر اعتقال عشر الشباب قريه باسوطه ريف عفر ...</td>\n",
              "    </tr>\n",
              "    <tr>\n",
              "      <th>9777</th>\n",
              "      <td>انا نفسي مره اجرب اكون ليك حد اقرب : )</td>\n",
              "      <td>3</td>\n",
              "      <td>انا نفسي مره اجرب اكون ليك حد اقرب : )</td>\n",
              "      <td>مره اجرب اكون ليك اقرب</td>\n",
              "      <td>مره اجرب اكون ليك اقرب</td>\n",
              "    </tr>\n",
              "    <tr>\n",
              "      <th>740</th>\n",
              "      <td>الصراحه احساس مخزي ونحن نكتفي بالتمثيل المشرف ...</td>\n",
              "      <td>3</td>\n",
              "      <td>الصراحه احساس مخزي ونحن نكتفي بالتمثيل المشرف ...</td>\n",
              "      <td>الصراحه احساس مخزي نكتفي بالتمثيل المشرف الاول...</td>\n",
              "      <td>الصراحه احساس مخزي نكتفي بالتمثيل المشرف الاول...</td>\n",
              "    </tr>\n",
              "    <tr>\n",
              "      <th>6537</th>\n",
              "      <td>57   عاجل الايطالي فابيو باسل يفوز بدهب الاولي...</td>\n",
              "      <td>0</td>\n",
              "      <td>57   عاجل الايطالي فابيو باسل يفوز بدهب الاولي...</td>\n",
              "      <td>عاجل الايطالي فابيو باسل يفوز بدهب الاوليمبياد...</td>\n",
              "      <td>عاجل الايطالي فابيو باسل يفوز بدهب الاوليمبياد...</td>\n",
              "    </tr>\n",
              "  </tbody>\n",
              "</table>\n",
              "</div>\n",
              "    <div class=\"colab-df-buttons\">\n",
              "\n",
              "  <div class=\"colab-df-container\">\n",
              "    <button class=\"colab-df-convert\" onclick=\"convertToInteractive('df-b2c7ce6f-b67c-4f41-822e-190a96ddd829')\"\n",
              "            title=\"Convert this dataframe to an interactive table.\"\n",
              "            style=\"display:none;\">\n",
              "\n",
              "  <svg xmlns=\"http://www.w3.org/2000/svg\" height=\"24px\" viewBox=\"0 -960 960 960\">\n",
              "    <path d=\"M120-120v-720h720v720H120Zm60-500h600v-160H180v160Zm220 220h160v-160H400v160Zm0 220h160v-160H400v160ZM180-400h160v-160H180v160Zm440 0h160v-160H620v160ZM180-180h160v-160H180v160Zm440 0h160v-160H620v160Z\"/>\n",
              "  </svg>\n",
              "    </button>\n",
              "\n",
              "  <style>\n",
              "    .colab-df-container {\n",
              "      display:flex;\n",
              "      gap: 12px;\n",
              "    }\n",
              "\n",
              "    .colab-df-convert {\n",
              "      background-color: #E8F0FE;\n",
              "      border: none;\n",
              "      border-radius: 50%;\n",
              "      cursor: pointer;\n",
              "      display: none;\n",
              "      fill: #1967D2;\n",
              "      height: 32px;\n",
              "      padding: 0 0 0 0;\n",
              "      width: 32px;\n",
              "    }\n",
              "\n",
              "    .colab-df-convert:hover {\n",
              "      background-color: #E2EBFA;\n",
              "      box-shadow: 0px 1px 2px rgba(60, 64, 67, 0.3), 0px 1px 3px 1px rgba(60, 64, 67, 0.15);\n",
              "      fill: #174EA6;\n",
              "    }\n",
              "\n",
              "    .colab-df-buttons div {\n",
              "      margin-bottom: 4px;\n",
              "    }\n",
              "\n",
              "    [theme=dark] .colab-df-convert {\n",
              "      background-color: #3B4455;\n",
              "      fill: #D2E3FC;\n",
              "    }\n",
              "\n",
              "    [theme=dark] .colab-df-convert:hover {\n",
              "      background-color: #434B5C;\n",
              "      box-shadow: 0px 1px 3px 1px rgba(0, 0, 0, 0.15);\n",
              "      filter: drop-shadow(0px 1px 2px rgba(0, 0, 0, 0.3));\n",
              "      fill: #FFFFFF;\n",
              "    }\n",
              "  </style>\n",
              "\n",
              "    <script>\n",
              "      const buttonEl =\n",
              "        document.querySelector('#df-b2c7ce6f-b67c-4f41-822e-190a96ddd829 button.colab-df-convert');\n",
              "      buttonEl.style.display =\n",
              "        google.colab.kernel.accessAllowed ? 'block' : 'none';\n",
              "\n",
              "      async function convertToInteractive(key) {\n",
              "        const element = document.querySelector('#df-b2c7ce6f-b67c-4f41-822e-190a96ddd829');\n",
              "        const dataTable =\n",
              "          await google.colab.kernel.invokeFunction('convertToInteractive',\n",
              "                                                    [key], {});\n",
              "        if (!dataTable) return;\n",
              "\n",
              "        const docLinkHtml = 'Like what you see? Visit the ' +\n",
              "          '<a target=\"_blank\" href=https://colab.research.google.com/notebooks/data_table.ipynb>data table notebook</a>'\n",
              "          + ' to learn more about interactive tables.';\n",
              "        element.innerHTML = '';\n",
              "        dataTable['output_type'] = 'display_data';\n",
              "        await google.colab.output.renderOutput(dataTable, element);\n",
              "        const docLink = document.createElement('div');\n",
              "        docLink.innerHTML = docLinkHtml;\n",
              "        element.appendChild(docLink);\n",
              "      }\n",
              "    </script>\n",
              "  </div>\n",
              "\n",
              "\n",
              "<div id=\"df-b849382d-2f2a-41c6-837f-a5f3a8f0908a\">\n",
              "  <button class=\"colab-df-quickchart\" onclick=\"quickchart('df-b849382d-2f2a-41c6-837f-a5f3a8f0908a')\"\n",
              "            title=\"Suggest charts.\"\n",
              "            style=\"display:none;\">\n",
              "\n",
              "<svg xmlns=\"http://www.w3.org/2000/svg\" height=\"24px\"viewBox=\"0 0 24 24\"\n",
              "     width=\"24px\">\n",
              "    <g>\n",
              "        <path d=\"M19 3H5c-1.1 0-2 .9-2 2v14c0 1.1.9 2 2 2h14c1.1 0 2-.9 2-2V5c0-1.1-.9-2-2-2zM9 17H7v-7h2v7zm4 0h-2V7h2v10zm4 0h-2v-4h2v4z\"/>\n",
              "    </g>\n",
              "</svg>\n",
              "  </button>\n",
              "\n",
              "<style>\n",
              "  .colab-df-quickchart {\n",
              "      --bg-color: #E8F0FE;\n",
              "      --fill-color: #1967D2;\n",
              "      --hover-bg-color: #E2EBFA;\n",
              "      --hover-fill-color: #174EA6;\n",
              "      --disabled-fill-color: #AAA;\n",
              "      --disabled-bg-color: #DDD;\n",
              "  }\n",
              "\n",
              "  [theme=dark] .colab-df-quickchart {\n",
              "      --bg-color: #3B4455;\n",
              "      --fill-color: #D2E3FC;\n",
              "      --hover-bg-color: #434B5C;\n",
              "      --hover-fill-color: #FFFFFF;\n",
              "      --disabled-bg-color: #3B4455;\n",
              "      --disabled-fill-color: #666;\n",
              "  }\n",
              "\n",
              "  .colab-df-quickchart {\n",
              "    background-color: var(--bg-color);\n",
              "    border: none;\n",
              "    border-radius: 50%;\n",
              "    cursor: pointer;\n",
              "    display: none;\n",
              "    fill: var(--fill-color);\n",
              "    height: 32px;\n",
              "    padding: 0;\n",
              "    width: 32px;\n",
              "  }\n",
              "\n",
              "  .colab-df-quickchart:hover {\n",
              "    background-color: var(--hover-bg-color);\n",
              "    box-shadow: 0 1px 2px rgba(60, 64, 67, 0.3), 0 1px 3px 1px rgba(60, 64, 67, 0.15);\n",
              "    fill: var(--button-hover-fill-color);\n",
              "  }\n",
              "\n",
              "  .colab-df-quickchart-complete:disabled,\n",
              "  .colab-df-quickchart-complete:disabled:hover {\n",
              "    background-color: var(--disabled-bg-color);\n",
              "    fill: var(--disabled-fill-color);\n",
              "    box-shadow: none;\n",
              "  }\n",
              "\n",
              "  .colab-df-spinner {\n",
              "    border: 2px solid var(--fill-color);\n",
              "    border-color: transparent;\n",
              "    border-bottom-color: var(--fill-color);\n",
              "    animation:\n",
              "      spin 1s steps(1) infinite;\n",
              "  }\n",
              "\n",
              "  @keyframes spin {\n",
              "    0% {\n",
              "      border-color: transparent;\n",
              "      border-bottom-color: var(--fill-color);\n",
              "      border-left-color: var(--fill-color);\n",
              "    }\n",
              "    20% {\n",
              "      border-color: transparent;\n",
              "      border-left-color: var(--fill-color);\n",
              "      border-top-color: var(--fill-color);\n",
              "    }\n",
              "    30% {\n",
              "      border-color: transparent;\n",
              "      border-left-color: var(--fill-color);\n",
              "      border-top-color: var(--fill-color);\n",
              "      border-right-color: var(--fill-color);\n",
              "    }\n",
              "    40% {\n",
              "      border-color: transparent;\n",
              "      border-right-color: var(--fill-color);\n",
              "      border-top-color: var(--fill-color);\n",
              "    }\n",
              "    60% {\n",
              "      border-color: transparent;\n",
              "      border-right-color: var(--fill-color);\n",
              "    }\n",
              "    80% {\n",
              "      border-color: transparent;\n",
              "      border-right-color: var(--fill-color);\n",
              "      border-bottom-color: var(--fill-color);\n",
              "    }\n",
              "    90% {\n",
              "      border-color: transparent;\n",
              "      border-bottom-color: var(--fill-color);\n",
              "    }\n",
              "  }\n",
              "</style>\n",
              "\n",
              "  <script>\n",
              "    async function quickchart(key) {\n",
              "      const quickchartButtonEl =\n",
              "        document.querySelector('#' + key + ' button');\n",
              "      quickchartButtonEl.disabled = true;  // To prevent multiple clicks.\n",
              "      quickchartButtonEl.classList.add('colab-df-spinner');\n",
              "      try {\n",
              "        const charts = await google.colab.kernel.invokeFunction(\n",
              "            'suggestCharts', [key], {});\n",
              "      } catch (error) {\n",
              "        console.error('Error during call to suggestCharts:', error);\n",
              "      }\n",
              "      quickchartButtonEl.classList.remove('colab-df-spinner');\n",
              "      quickchartButtonEl.classList.add('colab-df-quickchart-complete');\n",
              "    }\n",
              "    (() => {\n",
              "      let quickchartButtonEl =\n",
              "        document.querySelector('#df-b849382d-2f2a-41c6-837f-a5f3a8f0908a button');\n",
              "      quickchartButtonEl.style.display =\n",
              "        google.colab.kernel.accessAllowed ? 'block' : 'none';\n",
              "    })();\n",
              "  </script>\n",
              "</div>\n",
              "    </div>\n",
              "  </div>\n"
            ]
          },
          "metadata": {},
          "execution_count": 7
        }
      ]
    },
    {
      "cell_type": "code",
      "source": [
        "X_train = X_train[['tweet', preprocessing_column, 'label']]\n",
        "y_train = X_train['label']\n",
        "X_test = X_test[['tweet', preprocessing_column, 'label']]\n",
        "y_test = X_test['label']\n",
        "X_dev = X_dev[['tweet', preprocessing_column, 'label']]\n",
        "y_dev = X_dev['label']"
      ],
      "metadata": {
        "id": "JEVyBBZAIzdw"
      },
      "execution_count": 8,
      "outputs": []
    },
    {
      "cell_type": "code",
      "source": [
        "X_train.shape, X_test.shape, X_dev.shape"
      ],
      "metadata": {
        "id": "7jdX0XJYKrcO",
        "colab": {
          "base_uri": "https://localhost:8080/"
        },
        "outputId": "b841216d-f542-4201-9cd5-5fd0a9f35fff"
      },
      "execution_count": 9,
      "outputs": [
        {
          "output_type": "execute_result",
          "data": {
            "text/plain": [
              "((7045, 3), (1510, 3), (1510, 3))"
            ]
          },
          "metadata": {},
          "execution_count": 9
        }
      ]
    },
    {
      "cell_type": "code",
      "source": [
        "X_train"
      ],
      "metadata": {
        "id": "6uAuyneeoHV7",
        "colab": {
          "base_uri": "https://localhost:8080/",
          "height": 545
        },
        "outputId": "27972430-402c-46de-8734-2228b8afcf21"
      },
      "execution_count": 10,
      "outputs": [
        {
          "output_type": "execute_result",
          "data": {
            "text/plain": [
              "                                                  tweet  \\\n",
              "5081  1996   يا مهند ياحبيبي انت تدور لبش مع اي احد ...   \n",
              "8264  حلب عفرين  اعتقال عشرات الشباب من قريه باسوطه ...   \n",
              "9777             انا نفسي مره اجرب اكون ليك حد اقرب : )   \n",
              "740   الصراحه احساس مخزي ونحن نكتفي بالتمثيل المشرف ...   \n",
              "6537  57   عاجل الايطالي فابيو باسل يفوز بدهب الاولي...   \n",
              "...                                                 ...   \n",
              "5734  احمد الاحمر اوحش لاعب في الاوليمبياد ... اخره ...   \n",
              "5191                               انتي كان قصدك عليا !   \n",
              "5390  يا جدعان لو سمحتوا مش كل واحد عنده ميتين ام عق...   \n",
              "860        هتودينا في دهيا يا بلال ارحمنا ده مش وقت قلش   \n",
              "7270  شعب جمهوريه مصر العربيه يهنئ دوله القوات المسل...   \n",
              "\n",
              "                                         Light Stemming  label  \n",
              "5081  يامهند ياحبيبي تدور لبش اي احد متاكد ابو جاسم ...      1  \n",
              "8264  حلب عفر اعتقال عشر الشباب قريه باسوطه ريف عفر ...      3  \n",
              "9777                             مره اجرب اكون ليك اقرب      3  \n",
              "740   الصراحه احساس مخزي نكتفي بالتمثيل المشرف الاول...      3  \n",
              "6537  عاجل الايطالي فابيو باسل يفوز بدهب الاوليمبياد...      0  \n",
              "...                                                 ...    ...  \n",
              "5734  احمد الاحمر اوحش لاعب الاوليمبياد اخره تضخيم ا...      3  \n",
              "5191                                     انتي قصدك عليا      6  \n",
              "5390  جدع سمحت مش واحد ميت ام عقده نفسيه يروح داخل ش...      1  \n",
              "860                       هتودي دهيا يابلال ارحم مش قلش      1  \n",
              "7270  شعب جمهوريه مصر العربيه يهنئ دوله القو المسلحه...      1  \n",
              "\n",
              "[7045 rows x 3 columns]"
            ],
            "text/html": [
              "\n",
              "  <div id=\"df-3c123928-e518-4baa-b2c5-641e54b70328\" class=\"colab-df-container\">\n",
              "    <div>\n",
              "<style scoped>\n",
              "    .dataframe tbody tr th:only-of-type {\n",
              "        vertical-align: middle;\n",
              "    }\n",
              "\n",
              "    .dataframe tbody tr th {\n",
              "        vertical-align: top;\n",
              "    }\n",
              "\n",
              "    .dataframe thead th {\n",
              "        text-align: right;\n",
              "    }\n",
              "</style>\n",
              "<table border=\"1\" class=\"dataframe\">\n",
              "  <thead>\n",
              "    <tr style=\"text-align: right;\">\n",
              "      <th></th>\n",
              "      <th>tweet</th>\n",
              "      <th>Light Stemming</th>\n",
              "      <th>label</th>\n",
              "    </tr>\n",
              "  </thead>\n",
              "  <tbody>\n",
              "    <tr>\n",
              "      <th>5081</th>\n",
              "      <td>1996   يا مهند ياحبيبي انت تدور لبش مع اي احد ...</td>\n",
              "      <td>يامهند ياحبيبي تدور لبش اي احد متاكد ابو جاسم ...</td>\n",
              "      <td>1</td>\n",
              "    </tr>\n",
              "    <tr>\n",
              "      <th>8264</th>\n",
              "      <td>حلب عفرين  اعتقال عشرات الشباب من قريه باسوطه ...</td>\n",
              "      <td>حلب عفر اعتقال عشر الشباب قريه باسوطه ريف عفر ...</td>\n",
              "      <td>3</td>\n",
              "    </tr>\n",
              "    <tr>\n",
              "      <th>9777</th>\n",
              "      <td>انا نفسي مره اجرب اكون ليك حد اقرب : )</td>\n",
              "      <td>مره اجرب اكون ليك اقرب</td>\n",
              "      <td>3</td>\n",
              "    </tr>\n",
              "    <tr>\n",
              "      <th>740</th>\n",
              "      <td>الصراحه احساس مخزي ونحن نكتفي بالتمثيل المشرف ...</td>\n",
              "      <td>الصراحه احساس مخزي نكتفي بالتمثيل المشرف الاول...</td>\n",
              "      <td>3</td>\n",
              "    </tr>\n",
              "    <tr>\n",
              "      <th>6537</th>\n",
              "      <td>57   عاجل الايطالي فابيو باسل يفوز بدهب الاولي...</td>\n",
              "      <td>عاجل الايطالي فابيو باسل يفوز بدهب الاوليمبياد...</td>\n",
              "      <td>0</td>\n",
              "    </tr>\n",
              "    <tr>\n",
              "      <th>...</th>\n",
              "      <td>...</td>\n",
              "      <td>...</td>\n",
              "      <td>...</td>\n",
              "    </tr>\n",
              "    <tr>\n",
              "      <th>5734</th>\n",
              "      <td>احمد الاحمر اوحش لاعب في الاوليمبياد ... اخره ...</td>\n",
              "      <td>احمد الاحمر اوحش لاعب الاوليمبياد اخره تضخيم ا...</td>\n",
              "      <td>3</td>\n",
              "    </tr>\n",
              "    <tr>\n",
              "      <th>5191</th>\n",
              "      <td>انتي كان قصدك عليا !</td>\n",
              "      <td>انتي قصدك عليا</td>\n",
              "      <td>6</td>\n",
              "    </tr>\n",
              "    <tr>\n",
              "      <th>5390</th>\n",
              "      <td>يا جدعان لو سمحتوا مش كل واحد عنده ميتين ام عق...</td>\n",
              "      <td>جدع سمحت مش واحد ميت ام عقده نفسيه يروح داخل ش...</td>\n",
              "      <td>1</td>\n",
              "    </tr>\n",
              "    <tr>\n",
              "      <th>860</th>\n",
              "      <td>هتودينا في دهيا يا بلال ارحمنا ده مش وقت قلش</td>\n",
              "      <td>هتودي دهيا يابلال ارحم مش قلش</td>\n",
              "      <td>1</td>\n",
              "    </tr>\n",
              "    <tr>\n",
              "      <th>7270</th>\n",
              "      <td>شعب جمهوريه مصر العربيه يهنئ دوله القوات المسل...</td>\n",
              "      <td>شعب جمهوريه مصر العربيه يهنئ دوله القو المسلحه...</td>\n",
              "      <td>1</td>\n",
              "    </tr>\n",
              "  </tbody>\n",
              "</table>\n",
              "<p>7045 rows × 3 columns</p>\n",
              "</div>\n",
              "    <div class=\"colab-df-buttons\">\n",
              "\n",
              "  <div class=\"colab-df-container\">\n",
              "    <button class=\"colab-df-convert\" onclick=\"convertToInteractive('df-3c123928-e518-4baa-b2c5-641e54b70328')\"\n",
              "            title=\"Convert this dataframe to an interactive table.\"\n",
              "            style=\"display:none;\">\n",
              "\n",
              "  <svg xmlns=\"http://www.w3.org/2000/svg\" height=\"24px\" viewBox=\"0 -960 960 960\">\n",
              "    <path d=\"M120-120v-720h720v720H120Zm60-500h600v-160H180v160Zm220 220h160v-160H400v160Zm0 220h160v-160H400v160ZM180-400h160v-160H180v160Zm440 0h160v-160H620v160ZM180-180h160v-160H180v160Zm440 0h160v-160H620v160Z\"/>\n",
              "  </svg>\n",
              "    </button>\n",
              "\n",
              "  <style>\n",
              "    .colab-df-container {\n",
              "      display:flex;\n",
              "      gap: 12px;\n",
              "    }\n",
              "\n",
              "    .colab-df-convert {\n",
              "      background-color: #E8F0FE;\n",
              "      border: none;\n",
              "      border-radius: 50%;\n",
              "      cursor: pointer;\n",
              "      display: none;\n",
              "      fill: #1967D2;\n",
              "      height: 32px;\n",
              "      padding: 0 0 0 0;\n",
              "      width: 32px;\n",
              "    }\n",
              "\n",
              "    .colab-df-convert:hover {\n",
              "      background-color: #E2EBFA;\n",
              "      box-shadow: 0px 1px 2px rgba(60, 64, 67, 0.3), 0px 1px 3px 1px rgba(60, 64, 67, 0.15);\n",
              "      fill: #174EA6;\n",
              "    }\n",
              "\n",
              "    .colab-df-buttons div {\n",
              "      margin-bottom: 4px;\n",
              "    }\n",
              "\n",
              "    [theme=dark] .colab-df-convert {\n",
              "      background-color: #3B4455;\n",
              "      fill: #D2E3FC;\n",
              "    }\n",
              "\n",
              "    [theme=dark] .colab-df-convert:hover {\n",
              "      background-color: #434B5C;\n",
              "      box-shadow: 0px 1px 3px 1px rgba(0, 0, 0, 0.15);\n",
              "      filter: drop-shadow(0px 1px 2px rgba(0, 0, 0, 0.3));\n",
              "      fill: #FFFFFF;\n",
              "    }\n",
              "  </style>\n",
              "\n",
              "    <script>\n",
              "      const buttonEl =\n",
              "        document.querySelector('#df-3c123928-e518-4baa-b2c5-641e54b70328 button.colab-df-convert');\n",
              "      buttonEl.style.display =\n",
              "        google.colab.kernel.accessAllowed ? 'block' : 'none';\n",
              "\n",
              "      async function convertToInteractive(key) {\n",
              "        const element = document.querySelector('#df-3c123928-e518-4baa-b2c5-641e54b70328');\n",
              "        const dataTable =\n",
              "          await google.colab.kernel.invokeFunction('convertToInteractive',\n",
              "                                                    [key], {});\n",
              "        if (!dataTable) return;\n",
              "\n",
              "        const docLinkHtml = 'Like what you see? Visit the ' +\n",
              "          '<a target=\"_blank\" href=https://colab.research.google.com/notebooks/data_table.ipynb>data table notebook</a>'\n",
              "          + ' to learn more about interactive tables.';\n",
              "        element.innerHTML = '';\n",
              "        dataTable['output_type'] = 'display_data';\n",
              "        await google.colab.output.renderOutput(dataTable, element);\n",
              "        const docLink = document.createElement('div');\n",
              "        docLink.innerHTML = docLinkHtml;\n",
              "        element.appendChild(docLink);\n",
              "      }\n",
              "    </script>\n",
              "  </div>\n",
              "\n",
              "\n",
              "<div id=\"df-bac5cf77-180c-405d-af9d-0cc9a5e315e0\">\n",
              "  <button class=\"colab-df-quickchart\" onclick=\"quickchart('df-bac5cf77-180c-405d-af9d-0cc9a5e315e0')\"\n",
              "            title=\"Suggest charts.\"\n",
              "            style=\"display:none;\">\n",
              "\n",
              "<svg xmlns=\"http://www.w3.org/2000/svg\" height=\"24px\"viewBox=\"0 0 24 24\"\n",
              "     width=\"24px\">\n",
              "    <g>\n",
              "        <path d=\"M19 3H5c-1.1 0-2 .9-2 2v14c0 1.1.9 2 2 2h14c1.1 0 2-.9 2-2V5c0-1.1-.9-2-2-2zM9 17H7v-7h2v7zm4 0h-2V7h2v10zm4 0h-2v-4h2v4z\"/>\n",
              "    </g>\n",
              "</svg>\n",
              "  </button>\n",
              "\n",
              "<style>\n",
              "  .colab-df-quickchart {\n",
              "      --bg-color: #E8F0FE;\n",
              "      --fill-color: #1967D2;\n",
              "      --hover-bg-color: #E2EBFA;\n",
              "      --hover-fill-color: #174EA6;\n",
              "      --disabled-fill-color: #AAA;\n",
              "      --disabled-bg-color: #DDD;\n",
              "  }\n",
              "\n",
              "  [theme=dark] .colab-df-quickchart {\n",
              "      --bg-color: #3B4455;\n",
              "      --fill-color: #D2E3FC;\n",
              "      --hover-bg-color: #434B5C;\n",
              "      --hover-fill-color: #FFFFFF;\n",
              "      --disabled-bg-color: #3B4455;\n",
              "      --disabled-fill-color: #666;\n",
              "  }\n",
              "\n",
              "  .colab-df-quickchart {\n",
              "    background-color: var(--bg-color);\n",
              "    border: none;\n",
              "    border-radius: 50%;\n",
              "    cursor: pointer;\n",
              "    display: none;\n",
              "    fill: var(--fill-color);\n",
              "    height: 32px;\n",
              "    padding: 0;\n",
              "    width: 32px;\n",
              "  }\n",
              "\n",
              "  .colab-df-quickchart:hover {\n",
              "    background-color: var(--hover-bg-color);\n",
              "    box-shadow: 0 1px 2px rgba(60, 64, 67, 0.3), 0 1px 3px 1px rgba(60, 64, 67, 0.15);\n",
              "    fill: var(--button-hover-fill-color);\n",
              "  }\n",
              "\n",
              "  .colab-df-quickchart-complete:disabled,\n",
              "  .colab-df-quickchart-complete:disabled:hover {\n",
              "    background-color: var(--disabled-bg-color);\n",
              "    fill: var(--disabled-fill-color);\n",
              "    box-shadow: none;\n",
              "  }\n",
              "\n",
              "  .colab-df-spinner {\n",
              "    border: 2px solid var(--fill-color);\n",
              "    border-color: transparent;\n",
              "    border-bottom-color: var(--fill-color);\n",
              "    animation:\n",
              "      spin 1s steps(1) infinite;\n",
              "  }\n",
              "\n",
              "  @keyframes spin {\n",
              "    0% {\n",
              "      border-color: transparent;\n",
              "      border-bottom-color: var(--fill-color);\n",
              "      border-left-color: var(--fill-color);\n",
              "    }\n",
              "    20% {\n",
              "      border-color: transparent;\n",
              "      border-left-color: var(--fill-color);\n",
              "      border-top-color: var(--fill-color);\n",
              "    }\n",
              "    30% {\n",
              "      border-color: transparent;\n",
              "      border-left-color: var(--fill-color);\n",
              "      border-top-color: var(--fill-color);\n",
              "      border-right-color: var(--fill-color);\n",
              "    }\n",
              "    40% {\n",
              "      border-color: transparent;\n",
              "      border-right-color: var(--fill-color);\n",
              "      border-top-color: var(--fill-color);\n",
              "    }\n",
              "    60% {\n",
              "      border-color: transparent;\n",
              "      border-right-color: var(--fill-color);\n",
              "    }\n",
              "    80% {\n",
              "      border-color: transparent;\n",
              "      border-right-color: var(--fill-color);\n",
              "      border-bottom-color: var(--fill-color);\n",
              "    }\n",
              "    90% {\n",
              "      border-color: transparent;\n",
              "      border-bottom-color: var(--fill-color);\n",
              "    }\n",
              "  }\n",
              "</style>\n",
              "\n",
              "  <script>\n",
              "    async function quickchart(key) {\n",
              "      const quickchartButtonEl =\n",
              "        document.querySelector('#' + key + ' button');\n",
              "      quickchartButtonEl.disabled = true;  // To prevent multiple clicks.\n",
              "      quickchartButtonEl.classList.add('colab-df-spinner');\n",
              "      try {\n",
              "        const charts = await google.colab.kernel.invokeFunction(\n",
              "            'suggestCharts', [key], {});\n",
              "      } catch (error) {\n",
              "        console.error('Error during call to suggestCharts:', error);\n",
              "      }\n",
              "      quickchartButtonEl.classList.remove('colab-df-spinner');\n",
              "      quickchartButtonEl.classList.add('colab-df-quickchart-complete');\n",
              "    }\n",
              "    (() => {\n",
              "      let quickchartButtonEl =\n",
              "        document.querySelector('#df-bac5cf77-180c-405d-af9d-0cc9a5e315e0 button');\n",
              "      quickchartButtonEl.style.display =\n",
              "        google.colab.kernel.accessAllowed ? 'block' : 'none';\n",
              "    })();\n",
              "  </script>\n",
              "</div>\n",
              "    </div>\n",
              "  </div>\n"
            ]
          },
          "metadata": {},
          "execution_count": 10
        }
      ]
    },
    {
      "cell_type": "code",
      "source": [
        "X_train = X_train.rename_axis('id')\n",
        "X_test = X_test.rename_axis('id')\n",
        "X_dev = X_dev.rename_axis('id')\n",
        "\n",
        "X_train = X_train.reset_index(drop=True)\n",
        "X_test = X_test.reset_index(drop=True)\n",
        "X_dev = X_dev.reset_index(drop=True)"
      ],
      "metadata": {
        "id": "-RdzhhxyHXg7"
      },
      "execution_count": 11,
      "outputs": []
    },
    {
      "cell_type": "code",
      "source": [
        "from datasets import Dataset\n",
        "\n",
        "X_train = Dataset.from_pandas(X_train)\n",
        "X_test = Dataset.from_pandas(X_test)\n",
        "X_dev = Dataset.from_pandas(X_dev)\n",
        "X_train, X_test, X_dev"
      ],
      "metadata": {
        "id": "qc7-BJMiIaZC",
        "colab": {
          "base_uri": "https://localhost:8080/"
        },
        "outputId": "2dfb93ec-ab0f-47bf-ffac-c0c625dea710"
      },
      "execution_count": 12,
      "outputs": [
        {
          "output_type": "execute_result",
          "data": {
            "text/plain": [
              "(Dataset({\n",
              "     features: ['tweet', 'Light Stemming', 'label'],\n",
              "     num_rows: 7045\n",
              " }),\n",
              " Dataset({\n",
              "     features: ['tweet', 'Light Stemming', 'label'],\n",
              "     num_rows: 1510\n",
              " }),\n",
              " Dataset({\n",
              "     features: ['tweet', 'Light Stemming', 'label'],\n",
              "     num_rows: 1510\n",
              " }))"
            ]
          },
          "metadata": {},
          "execution_count": 12
        }
      ]
    },
    {
      "cell_type": "markdown",
      "source": [
        "#Transformer"
      ],
      "metadata": {
        "id": "Q3B8qS0QWFvM"
      }
    },
    {
      "cell_type": "markdown",
      "source": [
        "##Setup"
      ],
      "metadata": {
        "id": "bCGRNdQtmMto"
      }
    },
    {
      "cell_type": "code",
      "source": [
        "model_checkpoint = 'UBC-NLP/MARBERTv2'"
      ],
      "metadata": {
        "id": "WHKu53ZSiC8b"
      },
      "execution_count": 13,
      "outputs": []
    },
    {
      "cell_type": "code",
      "source": [
        "from transformers import AutoTokenizer\n",
        "\n",
        "tokenizer = AutoTokenizer.from_pretrained(model_checkpoint, use_fast=True)"
      ],
      "metadata": {
        "id": "pLeZGwXl664j"
      },
      "execution_count": 14,
      "outputs": []
    },
    {
      "cell_type": "code",
      "source": [
        "def tokenize_function(examples):\n",
        "    return tokenizer(examples[preprocessing_column], padding=\"max_length\", truncation=True, max_length=37)\n",
        "\n",
        "X_train = X_train.map(tokenize_function, batched=True, num_proc = 8)\n",
        "X_dev = X_test.map(tokenize_function, batched=True, num_proc = 8)\n",
        "X_test = X_test.map(tokenize_function, batched=True, num_proc = 8)"
      ],
      "metadata": {
        "id": "e7lAiBIuJqJH",
        "colab": {
          "base_uri": "https://localhost:8080/",
          "height": 197,
          "referenced_widgets": [
            "3e9bf4abafa244a5b50dc872e0e895f2",
            "7187681a12d94d24975829f33e661c8e",
            "70afa6f98b6e4a7987ec31fa3c15bb01",
            "e9c167e0787246a6a293641eeeabf4ab",
            "074c59ed931f416791fe87753c5a7baf",
            "8c0cca9643e5409f85c59a7366ac054a",
            "4f60587ef298468f815bce9f34846da3",
            "12d2d78d62c24adca48a62896392b66a",
            "f5d4608a03b14878a02762321af58895",
            "1d89dbe71d534dd39eae47fb385a24f5",
            "679abf9473814a559a5196171e7a7d05",
            "af47ce5335b04bffac44cf0f57de1048",
            "b032fffcdd364eba901e93410d342730",
            "fcf11ef158ac4283a80f832bcf6e0770",
            "90e0f92c4f694e61a55049a7e91a4c90",
            "b1eed3d7e3d24b188c3f2023a90d82e5",
            "98419e776cfb4ef9890dca8a54b5d778",
            "25dd6f3779524e32a491508c2929994e",
            "a20fdc856d804215ba767baee2737c5a",
            "80b12d30e0b3479499fafbe5220d2f12",
            "6418739d47af4338a0b0be5327add115",
            "1b4519a902e347ffb25df7aaf784cfc3",
            "83e07e6943a249e896bf8885585197df",
            "c7426a7a8a3947c1967521d76da88453",
            "96f6ba3c5665437f99821d611029fcdf",
            "a67fe4decfae47d190a26e7a51c209c5",
            "cb8c69e2810a4d90b8ca85c85a00d726",
            "7843b16f504e4c008ff3c4204217838b",
            "9daf44f5af3b46ea9210399e2a352643",
            "898f9591e90745ceac98cee50d45a948",
            "e990114774ca43c18508c14540e96a09",
            "0a9a405a724d4a28b4f85a4df3cec219",
            "544ca7164a6849d782eccf01de16a246"
          ]
        },
        "outputId": "1d68076e-8a23-4682-8398-66513b2f9d1f"
      },
      "execution_count": 15,
      "outputs": [
        {
          "output_type": "display_data",
          "data": {
            "text/plain": [
              "Map (num_proc=8):   0%|          | 0/7045 [00:00<?, ? examples/s]"
            ],
            "application/vnd.jupyter.widget-view+json": {
              "version_major": 2,
              "version_minor": 0,
              "model_id": "3e9bf4abafa244a5b50dc872e0e895f2"
            }
          },
          "metadata": {}
        },
        {
          "output_type": "display_data",
          "data": {
            "text/plain": [
              "Map (num_proc=8):   0%|          | 0/1510 [00:00<?, ? examples/s]"
            ],
            "application/vnd.jupyter.widget-view+json": {
              "version_major": 2,
              "version_minor": 0,
              "model_id": "af47ce5335b04bffac44cf0f57de1048"
            }
          },
          "metadata": {}
        },
        {
          "output_type": "display_data",
          "data": {
            "text/plain": [
              "Map (num_proc=8):   0%|          | 0/1510 [00:00<?, ? examples/s]"
            ],
            "application/vnd.jupyter.widget-view+json": {
              "version_major": 2,
              "version_minor": 0,
              "model_id": "83e07e6943a249e896bf8885585197df"
            }
          },
          "metadata": {}
        }
      ]
    },
    {
      "cell_type": "markdown",
      "source": [
        "##Model"
      ],
      "metadata": {
        "id": "_CEy123AmTmg"
      }
    },
    {
      "cell_type": "markdown",
      "source": [
        "###Train"
      ],
      "metadata": {
        "id": "y_bZ4eeOI_It"
      }
    },
    {
      "cell_type": "code",
      "source": [
        "import numpy as np\n",
        "from sklearn.metrics import (accuracy_score,\n",
        "                             f1_score,\n",
        "                             precision_score,\n",
        "                             recall_score\n",
        "                             )\n",
        "\n",
        "def compute_metrics(p):\n",
        "    preds = np.argmax(p.predictions, axis=1)\n",
        "    assert len(preds) == len(p.label_ids)\n",
        "\n",
        "    macro_f1 = f1_score(p.label_ids,preds,average='macro', zero_division=1)\n",
        "    macro_precision = precision_score(p.label_ids,preds,average='macro', zero_division=1)\n",
        "    macro_recall = recall_score(p.label_ids,preds,average='macro', zero_division=1)\n",
        "    acc = accuracy_score(p.label_ids,preds)\n",
        "    return {\n",
        "      'macro_f1' : macro_f1,\n",
        "      'macro_precision': macro_precision,\n",
        "      'macro_recall': macro_recall,\n",
        "      'accuracy': acc\n",
        "    }"
      ],
      "metadata": {
        "id": "II63X_2j937A"
      },
      "execution_count": 16,
      "outputs": []
    },
    {
      "cell_type": "code",
      "source": [
        "import wandb\n",
        "\n",
        "wandb.login(key=\"4e35381e2cbc42bf28886d9ae41505c75f15dc8d\")"
      ],
      "metadata": {
        "id": "XhVFabwxeG7C",
        "colab": {
          "base_uri": "https://localhost:8080/"
        },
        "outputId": "ed7bae2d-2664-4145-ffae-e200c5f6bff4"
      },
      "execution_count": 17,
      "outputs": [
        {
          "output_type": "stream",
          "name": "stderr",
          "text": [
            "\u001b[34m\u001b[1mwandb\u001b[0m: Currently logged in as: \u001b[33mahmedtawfiiiq\u001b[0m (\u001b[33memotion_justification\u001b[0m). Use \u001b[1m`wandb login --relogin`\u001b[0m to force relogin\n",
            "\u001b[34m\u001b[1mwandb\u001b[0m: \u001b[33mWARNING\u001b[0m If you're specifying your api key in code, ensure this code is not shared publicly.\n",
            "\u001b[34m\u001b[1mwandb\u001b[0m: \u001b[33mWARNING\u001b[0m Consider setting the WANDB_API_KEY environment variable, or running `wandb login` from the command line.\n",
            "\u001b[34m\u001b[1mwandb\u001b[0m: Appending key for api.wandb.ai to your netrc file: /root/.netrc\n"
          ]
        },
        {
          "output_type": "execute_result",
          "data": {
            "text/plain": [
              "True"
            ]
          },
          "metadata": {},
          "execution_count": 17
        }
      ]
    },
    {
      "cell_type": "code",
      "source": [
        "import os\n",
        "\n",
        "# set the wandb project where this run will be logged\n",
        "os.environ[\"WANDB_PROJECT\"]=\"emotion_sentiment_analysis\"\n",
        "\n",
        "# save your trained model checkpoint to wandb\n",
        "os.environ[\"WANDB_LOG_MODEL\"]=\"true\"\n",
        "\n",
        "# turn off watch to log faster\n",
        "os.environ[\"WANDB_WATCH\"]=\"false\""
      ],
      "metadata": {
        "id": "3XR786gIeXbu"
      },
      "execution_count": 18,
      "outputs": []
    },
    {
      "cell_type": "code",
      "source": [
        "import optuna\n",
        "from transformers import TrainingArguments, Trainer, EarlyStoppingCallback\n",
        "from transformers import AutoModelForSequenceClassification\n",
        "from torch.optim import AdamW\n",
        "\n",
        "\n",
        "def objective(trial: optuna.Trial):\n",
        "    model = AutoModelForSequenceClassification.from_pretrained(model_checkpoint, num_labels=8)\n",
        "    # optimizer = AdamW(model.parameters(), lr=1e-5)\n",
        "    training_args = TrainingArguments(\n",
        "        output_dir=\"./train\",\n",
        "        learning_rate=trial.suggest_float(\"learning_rate\", low=1e-5, high=5e-5, log=True),\n",
        "        # learning_rate = 5.9572096694887074e-05,\n",
        "        weight_decay=trial.suggest_float(\"weight_decay\", 0.0, 0.1),\n",
        "        num_train_epochs=trial.suggest_int(\"num_train_epochs\", low=1, high=5),\n",
        "        # num_train_epochs=4,\n",
        "        per_device_train_batch_size=trial.suggest_categorical(\"per_device_train_batch_size\", [16, 32]),\n",
        "        # per_device_train_batch_size=16,\n",
        "        per_device_eval_batch_size=16,\n",
        "        # seed = 34,\n",
        "        seed=trial.suggest_int(\"seed\", 10, 35),\n",
        "        logging_steps = 100,\n",
        "        load_best_model_at_end=True,\n",
        "        evaluation_strategy=\"steps\",\n",
        "        metric_for_best_model = 'macro_f1', # relative to training metrics to prevent overfitting\n",
        "        report_to=\"wandb\"\n",
        "    )\n",
        "    trainer = Trainer(\n",
        "        model=model,\n",
        "        args=training_args,\n",
        "        train_dataset=X_train,\n",
        "        eval_dataset=X_dev,\n",
        "        compute_metrics=compute_metrics,\n",
        "        # optimizers=(optimizer, None)\n",
        "    )\n",
        "    result = trainer.train()\n",
        "    metrics = trainer.evaluate()\n",
        "    return metrics[\"eval_macro_f1\"], result.training_loss"
      ],
      "metadata": {
        "id": "fbXhU98X8Lad"
      },
      "execution_count": 19,
      "outputs": []
    },
    {
      "cell_type": "code",
      "source": [
        "# Run optimization\n",
        "storage = optuna.storages.InMemoryStorage()\n",
        "study = optuna.create_study(storage=storage,\n",
        "                            study_name=\"hyper-parameter-search\",\n",
        "                            directions=[\"maximize\", \"minimize\"],\n",
        "                            pruner=optuna.pruners.HyperbandPruner())\n",
        "study.optimize(objective, n_trials=2)\n",
        "\n",
        "wandb.finish()"
      ],
      "metadata": {
        "id": "4bp8Z8lH4Q94",
        "colab": {
          "base_uri": "https://localhost:8080/",
          "height": 1000
        },
        "outputId": "125181ce-de7d-4250-9af1-b54d732ef47c"
      },
      "execution_count": 20,
      "outputs": [
        {
          "output_type": "stream",
          "name": "stderr",
          "text": [
            "[I 2023-09-17 15:57:56,257] A new study created in memory with name: hyper-parameter-search\n",
            "Some weights of BertForSequenceClassification were not initialized from the model checkpoint at UBC-NLP/MARBERTv2 and are newly initialized: ['classifier.bias', 'classifier.weight']\n",
            "You should probably TRAIN this model on a down-stream task to be able to use it for predictions and inference.\n",
            "/usr/local/lib/python3.10/dist-packages/transformers/optimization.py:411: FutureWarning: This implementation of AdamW is deprecated and will be removed in a future version. Use the PyTorch implementation torch.optim.AdamW instead, or set `no_deprecation_warning=True` to disable this warning\n",
            "  warnings.warn(\n",
            "\u001b[34m\u001b[1mwandb\u001b[0m: \u001b[33mWARNING\u001b[0m Changes to your `wandb` environment variables will be ignored because your `wandb` session has already started. For more information on how to modify your settings with `wandb.init()` arguments, please refer to \u001b[34m\u001b[4mhttps://wandb.me/wandb-init\u001b[0m.\n",
            "\u001b[34m\u001b[1mwandb\u001b[0m: Tracking run with wandb version 0.15.10\n",
            "\u001b[34m\u001b[1mwandb\u001b[0m: Run data is saved locally in \u001b[35m\u001b[1m/content/wandb/run-20230917_155814-510stdxd\u001b[0m\n",
            "\u001b[34m\u001b[1mwandb\u001b[0m: Run \u001b[1m`wandb offline`\u001b[0m to turn off syncing.\n",
            "\u001b[34m\u001b[1mwandb\u001b[0m: Syncing run \u001b[33msilver-water-18\u001b[0m\n",
            "\u001b[34m\u001b[1mwandb\u001b[0m: ⭐️ View project at \u001b[34m\u001b[4mhttps://wandb.ai/emotion_justification/emotion_sentiment_analysis\u001b[0m\n",
            "\u001b[34m\u001b[1mwandb\u001b[0m: 🚀 View run at \u001b[34m\u001b[4mhttps://wandb.ai/emotion_justification/emotion_sentiment_analysis/runs/510stdxd\u001b[0m\n"
          ]
        },
        {
          "output_type": "display_data",
          "data": {
            "text/plain": [
              "<IPython.core.display.HTML object>"
            ],
            "text/html": [
              "\n",
              "    <div>\n",
              "      \n",
              "      <progress value='221' max='221' style='width:300px; height:20px; vertical-align: middle;'></progress>\n",
              "      [221/221 01:12, Epoch 1/1]\n",
              "    </div>\n",
              "    <table border=\"1\" class=\"dataframe\">\n",
              "  <thead>\n",
              " <tr style=\"text-align: left;\">\n",
              "      <th>Step</th>\n",
              "      <th>Training Loss</th>\n",
              "      <th>Validation Loss</th>\n",
              "      <th>Macro F1</th>\n",
              "      <th>Macro Precision</th>\n",
              "      <th>Macro Recall</th>\n",
              "      <th>Accuracy</th>\n",
              "    </tr>\n",
              "  </thead>\n",
              "  <tbody>\n",
              "    <tr>\n",
              "      <td>100</td>\n",
              "      <td>1.621500</td>\n",
              "      <td>1.169767</td>\n",
              "      <td>0.580424</td>\n",
              "      <td>0.682107</td>\n",
              "      <td>0.630364</td>\n",
              "      <td>0.647020</td>\n",
              "    </tr>\n",
              "    <tr>\n",
              "      <td>200</td>\n",
              "      <td>1.110400</td>\n",
              "      <td>0.971462</td>\n",
              "      <td>0.670305</td>\n",
              "      <td>0.712048</td>\n",
              "      <td>0.684689</td>\n",
              "      <td>0.698675</td>\n",
              "    </tr>\n",
              "  </tbody>\n",
              "</table><p>"
            ]
          },
          "metadata": {}
        },
        {
          "output_type": "display_data",
          "data": {
            "text/plain": [
              "<IPython.core.display.HTML object>"
            ],
            "text/html": [
              "\n",
              "    <div>\n",
              "      \n",
              "      <progress value='95' max='95' style='width:300px; height:20px; vertical-align: middle;'></progress>\n",
              "      [95/95 00:03]\n",
              "    </div>\n",
              "    "
            ]
          },
          "metadata": {}
        },
        {
          "output_type": "stream",
          "name": "stderr",
          "text": [
            "[I 2023-09-17 15:59:32,964] Trial 0 finished with values: [0.6721954050892932, 1.3321262031658743] and parameters: {'learning_rate': 2.647024526368426e-05, 'weight_decay': 0.03161443556209128, 'num_train_epochs': 1, 'per_device_train_batch_size': 32, 'seed': 13}. \n",
            "Some weights of BertForSequenceClassification were not initialized from the model checkpoint at UBC-NLP/MARBERTv2 and are newly initialized: ['classifier.bias', 'classifier.weight']\n",
            "You should probably TRAIN this model on a down-stream task to be able to use it for predictions and inference.\n",
            "/usr/local/lib/python3.10/dist-packages/transformers/optimization.py:411: FutureWarning: This implementation of AdamW is deprecated and will be removed in a future version. Use the PyTorch implementation torch.optim.AdamW instead, or set `no_deprecation_warning=True` to disable this warning\n",
            "  warnings.warn(\n"
          ]
        },
        {
          "output_type": "display_data",
          "data": {
            "text/plain": [
              "<IPython.core.display.HTML object>"
            ],
            "text/html": [
              "\n",
              "    <div>\n",
              "      \n",
              "      <progress value='882' max='882' style='width:300px; height:20px; vertical-align: middle;'></progress>\n",
              "      [882/882 03:12, Epoch 2/2]\n",
              "    </div>\n",
              "    <table border=\"1\" class=\"dataframe\">\n",
              "  <thead>\n",
              " <tr style=\"text-align: left;\">\n",
              "      <th>Step</th>\n",
              "      <th>Training Loss</th>\n",
              "      <th>Validation Loss</th>\n",
              "      <th>Macro F1</th>\n",
              "      <th>Macro Precision</th>\n",
              "      <th>Macro Recall</th>\n",
              "      <th>Accuracy</th>\n",
              "    </tr>\n",
              "  </thead>\n",
              "  <tbody>\n",
              "    <tr>\n",
              "      <td>100</td>\n",
              "      <td>1.629800</td>\n",
              "      <td>1.184158</td>\n",
              "      <td>0.552503</td>\n",
              "      <td>0.681613</td>\n",
              "      <td>0.598106</td>\n",
              "      <td>0.618543</td>\n",
              "    </tr>\n",
              "    <tr>\n",
              "      <td>200</td>\n",
              "      <td>1.077700</td>\n",
              "      <td>0.908030</td>\n",
              "      <td>0.703083</td>\n",
              "      <td>0.731982</td>\n",
              "      <td>0.704253</td>\n",
              "      <td>0.714570</td>\n",
              "    </tr>\n",
              "    <tr>\n",
              "      <td>300</td>\n",
              "      <td>0.883300</td>\n",
              "      <td>0.818018</td>\n",
              "      <td>0.730562</td>\n",
              "      <td>0.742612</td>\n",
              "      <td>0.734118</td>\n",
              "      <td>0.739735</td>\n",
              "    </tr>\n",
              "    <tr>\n",
              "      <td>400</td>\n",
              "      <td>0.843100</td>\n",
              "      <td>0.820655</td>\n",
              "      <td>0.737665</td>\n",
              "      <td>0.761651</td>\n",
              "      <td>0.733854</td>\n",
              "      <td>0.743046</td>\n",
              "    </tr>\n",
              "    <tr>\n",
              "      <td>500</td>\n",
              "      <td>0.689000</td>\n",
              "      <td>0.775038</td>\n",
              "      <td>0.745126</td>\n",
              "      <td>0.755162</td>\n",
              "      <td>0.746388</td>\n",
              "      <td>0.750331</td>\n",
              "    </tr>\n",
              "    <tr>\n",
              "      <td>600</td>\n",
              "      <td>0.568100</td>\n",
              "      <td>0.777544</td>\n",
              "      <td>0.737302</td>\n",
              "      <td>0.748619</td>\n",
              "      <td>0.740669</td>\n",
              "      <td>0.745695</td>\n",
              "    </tr>\n",
              "    <tr>\n",
              "      <td>700</td>\n",
              "      <td>0.575400</td>\n",
              "      <td>0.751491</td>\n",
              "      <td>0.754562</td>\n",
              "      <td>0.760779</td>\n",
              "      <td>0.753206</td>\n",
              "      <td>0.756954</td>\n",
              "    </tr>\n",
              "    <tr>\n",
              "      <td>800</td>\n",
              "      <td>0.575300</td>\n",
              "      <td>0.751184</td>\n",
              "      <td>0.753524</td>\n",
              "      <td>0.756138</td>\n",
              "      <td>0.752033</td>\n",
              "      <td>0.752318</td>\n",
              "    </tr>\n",
              "  </tbody>\n",
              "</table><p>"
            ]
          },
          "metadata": {}
        },
        {
          "output_type": "display_data",
          "data": {
            "text/plain": [
              "<IPython.core.display.HTML object>"
            ],
            "text/html": [
              "\n",
              "    <div>\n",
              "      \n",
              "      <progress value='95' max='95' style='width:300px; height:20px; vertical-align: middle;'></progress>\n",
              "      [95/95 00:03]\n",
              "    </div>\n",
              "    "
            ]
          },
          "metadata": {}
        },
        {
          "output_type": "stream",
          "name": "stderr",
          "text": [
            "[I 2023-09-17 16:02:58,720] Trial 1 finished with values: [0.745126428487524, 0.8290072374062744] and parameters: {'learning_rate': 3.445716626454257e-05, 'weight_decay': 0.015627080588734864, 'num_train_epochs': 2, 'per_device_train_batch_size': 16, 'seed': 23}. \n",
            "\u001b[34m\u001b[1mwandb\u001b[0m: Waiting for W&B process to finish... \u001b[32m(success).\u001b[0m\n",
            "\u001b[34m\u001b[1mwandb\u001b[0m: \n",
            "\u001b[34m\u001b[1mwandb\u001b[0m: Run history:\n",
            "\u001b[34m\u001b[1mwandb\u001b[0m:                  eval/accuracy ▂▅▅▁▆▇▇█▇███\n",
            "\u001b[34m\u001b[1mwandb\u001b[0m:                      eval/loss █▅▅█▄▂▂▁▁▁▁▁\n",
            "\u001b[34m\u001b[1mwandb\u001b[0m:                  eval/macro_f1 ▂▅▅▁▆▇▇█▇███\n",
            "\u001b[34m\u001b[1mwandb\u001b[0m:           eval/macro_precision ▁▄▄▁▅▆█▇▇██▇\n",
            "\u001b[34m\u001b[1mwandb\u001b[0m:              eval/macro_recall ▂▅▅▁▆▇▇█▇███\n",
            "\u001b[34m\u001b[1mwandb\u001b[0m:                   eval/runtime ▁▁█▂▄▅▇▇▇▇▇▇\n",
            "\u001b[34m\u001b[1mwandb\u001b[0m:        eval/samples_per_second ██▁▇▅▄▂▂▂▂▂▂\n",
            "\u001b[34m\u001b[1mwandb\u001b[0m:          eval/steps_per_second ██▁▇▅▄▂▂▂▂▂▂\n",
            "\u001b[34m\u001b[1mwandb\u001b[0m:                    train/epoch ▂▂▄▄▄▄▁▁▂▂▃▃▄▄▅▅▅▅▆▆▇▇██\n",
            "\u001b[34m\u001b[1mwandb\u001b[0m:              train/global_step ▁▁▂▂▂▂▁▁▂▂▃▃▄▄▅▅▅▅▆▆▇▇██\n",
            "\u001b[34m\u001b[1mwandb\u001b[0m:            train/learning_rate ▄▁█▇▆▅▄▃▂▁\n",
            "\u001b[34m\u001b[1mwandb\u001b[0m:                     train/loss █▅█▄▃▃▂▁▁▁\n",
            "\u001b[34m\u001b[1mwandb\u001b[0m:               train/total_flos ▁█\n",
            "\u001b[34m\u001b[1mwandb\u001b[0m:               train/train_loss █▁\n",
            "\u001b[34m\u001b[1mwandb\u001b[0m:            train/train_runtime ▁█\n",
            "\u001b[34m\u001b[1mwandb\u001b[0m: train/train_samples_per_second █▁\n",
            "\u001b[34m\u001b[1mwandb\u001b[0m:   train/train_steps_per_second ▁█\n",
            "\u001b[34m\u001b[1mwandb\u001b[0m: \n",
            "\u001b[34m\u001b[1mwandb\u001b[0m: Run summary:\n",
            "\u001b[34m\u001b[1mwandb\u001b[0m:                  eval/accuracy 0.75033\n",
            "\u001b[34m\u001b[1mwandb\u001b[0m:                      eval/loss 0.77504\n",
            "\u001b[34m\u001b[1mwandb\u001b[0m:                  eval/macro_f1 0.74513\n",
            "\u001b[34m\u001b[1mwandb\u001b[0m:           eval/macro_precision 0.75516\n",
            "\u001b[34m\u001b[1mwandb\u001b[0m:              eval/macro_recall 0.74639\n",
            "\u001b[34m\u001b[1mwandb\u001b[0m:                   eval/runtime 3.859\n",
            "\u001b[34m\u001b[1mwandb\u001b[0m:        eval/samples_per_second 391.291\n",
            "\u001b[34m\u001b[1mwandb\u001b[0m:          eval/steps_per_second 24.618\n",
            "\u001b[34m\u001b[1mwandb\u001b[0m:                    train/epoch 2.0\n",
            "\u001b[34m\u001b[1mwandb\u001b[0m:              train/global_step 882\n",
            "\u001b[34m\u001b[1mwandb\u001b[0m:            train/learning_rate 0.0\n",
            "\u001b[34m\u001b[1mwandb\u001b[0m:                     train/loss 0.5753\n",
            "\u001b[34m\u001b[1mwandb\u001b[0m:               train/total_flos 267920070177120.0\n",
            "\u001b[34m\u001b[1mwandb\u001b[0m:               train/train_loss 0.82901\n",
            "\u001b[34m\u001b[1mwandb\u001b[0m:            train/train_runtime 181.8463\n",
            "\u001b[34m\u001b[1mwandb\u001b[0m: train/train_samples_per_second 77.483\n",
            "\u001b[34m\u001b[1mwandb\u001b[0m:   train/train_steps_per_second 4.85\n",
            "\u001b[34m\u001b[1mwandb\u001b[0m: \n",
            "\u001b[34m\u001b[1mwandb\u001b[0m: 🚀 View run \u001b[33msilver-water-18\u001b[0m at: \u001b[34m\u001b[4mhttps://wandb.ai/emotion_justification/emotion_sentiment_analysis/runs/510stdxd\u001b[0m\n",
            "\u001b[34m\u001b[1mwandb\u001b[0m: Synced 5 W&B file(s), 0 media file(s), 6 artifact file(s) and 0 other file(s)\n",
            "\u001b[34m\u001b[1mwandb\u001b[0m: Find logs at: \u001b[35m\u001b[1m./wandb/run-20230917_155814-510stdxd/logs\u001b[0m\n"
          ]
        }
      ]
    },
    {
      "cell_type": "code",
      "source": [
        "import optuna\n",
        "import threading\n",
        "from google.colab import output\n",
        "from optuna_dashboard import run_server\n",
        "\n",
        "# Start Optuna Dashboard\n",
        "port = 8090\n",
        "thread = threading.Thread(target=run_server, args=(storage,), kwargs={\"port\": port})\n",
        "thread.start()\n",
        "output.serve_kernel_port_as_window(port, path='/dashboard/')"
      ],
      "metadata": {
        "id": "b3oJ0j0h4g8U",
        "colab": {
          "base_uri": "https://localhost:8080/",
          "height": 104
        },
        "outputId": "aa1f4cc6-de95-4dcb-9a66-bcc2e5645862"
      },
      "execution_count": 21,
      "outputs": [
        {
          "output_type": "stream",
          "name": "stderr",
          "text": [
            "Bottle v0.12.25 server starting up (using WSGIRefServer())...\n"
          ]
        },
        {
          "output_type": "display_data",
          "data": {
            "text/plain": [
              "<IPython.core.display.Javascript object>"
            ],
            "application/javascript": [
              "(async (port, path, text, element) => {\n",
              "    if (!google.colab.kernel.accessAllowed) {\n",
              "      return;\n",
              "    }\n",
              "    element.appendChild(document.createTextNode(''));\n",
              "    const url = await google.colab.kernel.proxyPort(port);\n",
              "    const anchor = document.createElement('a');\n",
              "    anchor.href = new URL(path, url).toString();\n",
              "    anchor.target = '_blank';\n",
              "    anchor.setAttribute('data-href', url + path);\n",
              "    anchor.textContent = text;\n",
              "    element.appendChild(anchor);\n",
              "  })(8090, \"/dashboard/\", \"https://localhost:8090/dashboard/\", window.element)"
            ]
          },
          "metadata": {}
        },
        {
          "output_type": "stream",
          "name": "stderr",
          "text": [
            "Listening on http://localhost:8090/\n",
            "Hit Ctrl-C to quit.\n",
            "\n"
          ]
        }
      ]
    },
    {
      "cell_type": "markdown",
      "source": [
        "###Best Parameters"
      ],
      "metadata": {
        "id": "d5z_CAa5rQFq"
      }
    },
    {
      "cell_type": "code",
      "source": [
        "print(study.best_trials[0].params)"
      ],
      "metadata": {
        "id": "E3PbNqWMmLPC",
        "colab": {
          "base_uri": "https://localhost:8080/"
        },
        "outputId": "37ac271e-224d-4f97-b465-2c3d3a8323ba"
      },
      "execution_count": 22,
      "outputs": [
        {
          "output_type": "stream",
          "name": "stdout",
          "text": [
            "{'learning_rate': 3.445716626454257e-05, 'weight_decay': 0.015627080588734864, 'num_train_epochs': 2, 'per_device_train_batch_size': 16, 'seed': 23}\n"
          ]
        }
      ]
    },
    {
      "cell_type": "code",
      "source": [
        "model = AutoModelForSequenceClassification.from_pretrained(model_checkpoint, num_labels=8)\n",
        "training_args = TrainingArguments(output_dir=\"./results\",\n",
        "                                  logging_steps = 100,\n",
        "                                  evaluation_strategy=\"steps\")\n",
        "trainer = Trainer(model=model,\n",
        "                  args=training_args,\n",
        "                  train_dataset=X_train,\n",
        "                  eval_dataset=X_dev,\n",
        "                  compute_metrics=compute_metrics)"
      ],
      "metadata": {
        "id": "CMGioTYvoo-y",
        "colab": {
          "base_uri": "https://localhost:8080/"
        },
        "outputId": "426b3b2c-fd40-4a4c-93fa-beefcf22a7ac"
      },
      "execution_count": 23,
      "outputs": [
        {
          "output_type": "stream",
          "name": "stderr",
          "text": [
            "Some weights of BertForSequenceClassification were not initialized from the model checkpoint at UBC-NLP/MARBERTv2 and are newly initialized: ['classifier.bias', 'classifier.weight']\n",
            "You should probably TRAIN this model on a down-stream task to be able to use it for predictions and inference.\n"
          ]
        }
      ]
    },
    {
      "cell_type": "code",
      "source": [
        "for n, v in study.best_trials[0].params.items():\n",
        "    setattr(trainer.args, n, v)\n",
        "\n",
        "trainer.train()"
      ],
      "metadata": {
        "id": "mHD4vDiw-Hdt",
        "colab": {
          "base_uri": "https://localhost:8080/",
          "height": 589
        },
        "outputId": "f7b0fae9-2876-4dd4-a911-1cfaee4587e2"
      },
      "execution_count": 24,
      "outputs": [
        {
          "output_type": "stream",
          "name": "stderr",
          "text": [
            "/usr/local/lib/python3.10/dist-packages/transformers/optimization.py:411: FutureWarning: This implementation of AdamW is deprecated and will be removed in a future version. Use the PyTorch implementation torch.optim.AdamW instead, or set `no_deprecation_warning=True` to disable this warning\n",
            "  warnings.warn(\n",
            "\u001b[34m\u001b[1mwandb\u001b[0m: \u001b[33mWARNING\u001b[0m Changes to your `wandb` environment variables will be ignored because your `wandb` session has already started. For more information on how to modify your settings with `wandb.init()` arguments, please refer to \u001b[34m\u001b[4mhttps://wandb.me/wandb-init\u001b[0m.\n",
            "\u001b[34m\u001b[1mwandb\u001b[0m: Tracking run with wandb version 0.15.10\n",
            "\u001b[34m\u001b[1mwandb\u001b[0m: Run data is saved locally in \u001b[35m\u001b[1m/content/wandb/run-20230917_160316-i2ksl7v3\u001b[0m\n",
            "\u001b[34m\u001b[1mwandb\u001b[0m: Run \u001b[1m`wandb offline`\u001b[0m to turn off syncing.\n",
            "\u001b[34m\u001b[1mwandb\u001b[0m: Syncing run \u001b[33mrich-universe-19\u001b[0m\n",
            "\u001b[34m\u001b[1mwandb\u001b[0m: ⭐️ View project at \u001b[34m\u001b[4mhttps://wandb.ai/emotion_justification/emotion_sentiment_analysis\u001b[0m\n",
            "\u001b[34m\u001b[1mwandb\u001b[0m: 🚀 View run at \u001b[34m\u001b[4mhttps://wandb.ai/emotion_justification/emotion_sentiment_analysis/runs/i2ksl7v3\u001b[0m\n"
          ]
        },
        {
          "output_type": "display_data",
          "data": {
            "text/plain": [
              "<IPython.core.display.HTML object>"
            ],
            "text/html": [
              "\n",
              "    <div>\n",
              "      \n",
              "      <progress value='882' max='882' style='width:300px; height:20px; vertical-align: middle;'></progress>\n",
              "      [882/882 03:19, Epoch 2/2]\n",
              "    </div>\n",
              "    <table border=\"1\" class=\"dataframe\">\n",
              "  <thead>\n",
              " <tr style=\"text-align: left;\">\n",
              "      <th>Step</th>\n",
              "      <th>Training Loss</th>\n",
              "      <th>Validation Loss</th>\n",
              "      <th>Macro F1</th>\n",
              "      <th>Macro Precision</th>\n",
              "      <th>Macro Recall</th>\n",
              "      <th>Accuracy</th>\n",
              "    </tr>\n",
              "  </thead>\n",
              "  <tbody>\n",
              "    <tr>\n",
              "      <td>100</td>\n",
              "      <td>1.605000</td>\n",
              "      <td>1.179878</td>\n",
              "      <td>0.593882</td>\n",
              "      <td>0.660863</td>\n",
              "      <td>0.623672</td>\n",
              "      <td>0.641060</td>\n",
              "    </tr>\n",
              "    <tr>\n",
              "      <td>200</td>\n",
              "      <td>1.031400</td>\n",
              "      <td>0.892814</td>\n",
              "      <td>0.700865</td>\n",
              "      <td>0.718846</td>\n",
              "      <td>0.704100</td>\n",
              "      <td>0.712583</td>\n",
              "    </tr>\n",
              "    <tr>\n",
              "      <td>300</td>\n",
              "      <td>0.915800</td>\n",
              "      <td>0.820167</td>\n",
              "      <td>0.725504</td>\n",
              "      <td>0.732615</td>\n",
              "      <td>0.728534</td>\n",
              "      <td>0.733775</td>\n",
              "    </tr>\n",
              "    <tr>\n",
              "      <td>400</td>\n",
              "      <td>0.856700</td>\n",
              "      <td>0.789895</td>\n",
              "      <td>0.732670</td>\n",
              "      <td>0.747867</td>\n",
              "      <td>0.734125</td>\n",
              "      <td>0.739073</td>\n",
              "    </tr>\n",
              "    <tr>\n",
              "      <td>500</td>\n",
              "      <td>0.675800</td>\n",
              "      <td>0.800266</td>\n",
              "      <td>0.736442</td>\n",
              "      <td>0.739068</td>\n",
              "      <td>0.737404</td>\n",
              "      <td>0.739735</td>\n",
              "    </tr>\n",
              "    <tr>\n",
              "      <td>600</td>\n",
              "      <td>0.593400</td>\n",
              "      <td>0.775361</td>\n",
              "      <td>0.750909</td>\n",
              "      <td>0.759349</td>\n",
              "      <td>0.749639</td>\n",
              "      <td>0.754305</td>\n",
              "    </tr>\n",
              "    <tr>\n",
              "      <td>700</td>\n",
              "      <td>0.575800</td>\n",
              "      <td>0.753431</td>\n",
              "      <td>0.754281</td>\n",
              "      <td>0.762298</td>\n",
              "      <td>0.752135</td>\n",
              "      <td>0.756954</td>\n",
              "    </tr>\n",
              "    <tr>\n",
              "      <td>800</td>\n",
              "      <td>0.564400</td>\n",
              "      <td>0.744217</td>\n",
              "      <td>0.753948</td>\n",
              "      <td>0.768833</td>\n",
              "      <td>0.751945</td>\n",
              "      <td>0.758940</td>\n",
              "    </tr>\n",
              "  </tbody>\n",
              "</table><p>"
            ]
          },
          "metadata": {}
        },
        {
          "output_type": "execute_result",
          "data": {
            "text/plain": [
              "TrainOutput(global_step=882, training_loss=0.825423632078971, metrics={'train_runtime': 189.593, 'train_samples_per_second': 74.317, 'train_steps_per_second': 4.652, 'total_flos': 267920070177120.0, 'train_loss': 0.825423632078971, 'epoch': 2.0})"
            ]
          },
          "metadata": {},
          "execution_count": 24
        }
      ]
    },
    {
      "cell_type": "code",
      "source": [
        "trainer.evaluate()"
      ],
      "metadata": {
        "id": "7wnWzSM5dvyR",
        "colab": {
          "base_uri": "https://localhost:8080/",
          "height": 193
        },
        "outputId": "6232fef2-7161-4d88-d8e5-85098a6caf4b"
      },
      "execution_count": 25,
      "outputs": [
        {
          "output_type": "display_data",
          "data": {
            "text/plain": [
              "<IPython.core.display.HTML object>"
            ],
            "text/html": [
              "\n",
              "    <div>\n",
              "      \n",
              "      <progress value='189' max='189' style='width:300px; height:20px; vertical-align: middle;'></progress>\n",
              "      [189/189 00:04]\n",
              "    </div>\n",
              "    "
            ]
          },
          "metadata": {}
        },
        {
          "output_type": "execute_result",
          "data": {
            "text/plain": [
              "{'eval_loss': 0.7339994311332703,\n",
              " 'eval_macro_f1': 0.7602103614024804,\n",
              " 'eval_macro_precision': 0.7657291110689279,\n",
              " 'eval_macro_recall': 0.7584295426044253,\n",
              " 'eval_accuracy': 0.7615894039735099,\n",
              " 'eval_runtime': 4.5007,\n",
              " 'eval_samples_per_second': 335.504,\n",
              " 'eval_steps_per_second': 41.994,\n",
              " 'epoch': 2.0}"
            ]
          },
          "metadata": {},
          "execution_count": 25
        }
      ]
    },
    {
      "cell_type": "markdown",
      "source": [
        "###Evaluate"
      ],
      "metadata": {
        "id": "yqqmggkUmYpi"
      }
    },
    {
      "cell_type": "markdown",
      "source": [
        "####Test Data"
      ],
      "metadata": {
        "id": "v2CwjzfbNRuD"
      }
    },
    {
      "cell_type": "code",
      "source": [
        "import torch\n",
        "\n",
        "batch_size = 16\n",
        "\n",
        "device = \"cuda\" if torch.cuda.is_available() else \"cpu\"\n",
        "device"
      ],
      "metadata": {
        "id": "YllNF91yfUPu",
        "colab": {
          "base_uri": "https://localhost:8080/",
          "height": 35
        },
        "outputId": "f4271c0e-03ce-4c93-e120-1005a3b28a34"
      },
      "execution_count": 26,
      "outputs": [
        {
          "output_type": "execute_result",
          "data": {
            "text/plain": [
              "'cuda'"
            ],
            "application/vnd.google.colaboratory.intrinsic+json": {
              "type": "string"
            }
          },
          "metadata": {},
          "execution_count": 26
        }
      ]
    },
    {
      "cell_type": "code",
      "source": [
        "from torch.utils.data import TensorDataset, DataLoader\n",
        "\n",
        "input_ids = [i['input_ids'] for i in X_test]\n",
        "attention_masks = [i['attention_mask'] for i in X_test]\n",
        "\n",
        "inputs = torch.tensor(input_ids)\n",
        "masks = torch.tensor(attention_masks)\n",
        "test_data = TensorDataset(inputs, masks)\n",
        "\n",
        "test_dataloader = DataLoader(test_data, batch_size=batch_size)"
      ],
      "metadata": {
        "id": "lW6b027GkmnZ"
      },
      "execution_count": 27,
      "outputs": []
    },
    {
      "cell_type": "code",
      "source": [
        "from sklearn.metrics import classification_report\n",
        "\n",
        "model = trainer.model\n",
        "model.eval()\n",
        "model.to(device)\n",
        "\n",
        "test_pred = []\n",
        "for input, masks in test_dataloader:\n",
        "    torch.cuda.empty_cache()\n",
        "\n",
        "    input = input.to(device)\n",
        "    masks = masks.to(device)\n",
        "\n",
        "    output = model(input, attention_mask=masks)['logits']\n",
        "    predictions = torch.argmax(output, dim=1)\n",
        "    predictions = predictions.cpu().detach().numpy()\n",
        "\n",
        "    test_pred.extend(predictions)\n",
        "\n",
        "print(classification_report(X_test['label'], test_pred, target_names=classes))"
      ],
      "metadata": {
        "id": "wnJcFttrlFaZ",
        "colab": {
          "base_uri": "https://localhost:8080/"
        },
        "outputId": "f7ab1f14-e0c8-44ca-e7b8-40e3f2de7f7c"
      },
      "execution_count": 28,
      "outputs": [
        {
          "output_type": "stream",
          "name": "stdout",
          "text": [
            "              precision    recall  f1-score   support\n",
            "\n",
            "        none       0.71      0.85      0.77       229\n",
            "       anger       0.73      0.76      0.74       200\n",
            "         joy       0.66      0.63      0.65       205\n",
            "     sadness       0.67      0.66      0.67       185\n",
            "        love       0.79      0.80      0.80       193\n",
            "    sympathy       0.92      0.90      0.91       156\n",
            "    surprise       0.69      0.55      0.61       154\n",
            "        fear       0.95      0.93      0.94       188\n",
            "\n",
            "    accuracy                           0.76      1510\n",
            "   macro avg       0.77      0.76      0.76      1510\n",
            "weighted avg       0.76      0.76      0.76      1510\n",
            "\n"
          ]
        }
      ]
    },
    {
      "cell_type": "code",
      "source": [
        "from sklearn.metrics import confusion_matrix\n",
        "import matplotlib.pyplot as plt\n",
        "import seaborn as sns\n",
        "\n",
        "cm = confusion_matrix(X_test['label'], test_pred)\n",
        "\n",
        "plt.figure(figsize=(10, 8))\n",
        "sns.set(font_scale=1.2)\n",
        "sns.heatmap(cm, annot=True, fmt='d', cmap='Blues', xticklabels=classes, yticklabels=classes)\n",
        "plt.xlabel('Predicted')\n",
        "plt.ylabel('Actual')\n",
        "plt.title('Confusion Matrix')\n",
        "plt.show()"
      ],
      "metadata": {
        "id": "hkpfmUmIBxPy",
        "colab": {
          "base_uri": "https://localhost:8080/",
          "height": 576
        },
        "outputId": "a2d732c4-a006-4999-dabf-4da7943fe163"
      },
      "execution_count": 29,
      "outputs": [
        {
          "output_type": "display_data",
          "data": {
            "text/plain": [
              "<Figure size 1000x800 with 2 Axes>"
            ],
            "image/png": "[encoded data removed]"
          },
          "metadata": {}
        }
      ]
    },
    {
      "cell_type": "markdown",
      "source": [
        "####Train Data"
      ],
      "metadata": {
        "id": "gt23QeV1LCF8"
      }
    },
    {
      "cell_type": "code",
      "source": [
        "from torch.utils.data import TensorDataset, DataLoader\n",
        "\n",
        "input_ids = [i['input_ids'] for i in X_train]\n",
        "attention_masks = [i['attention_mask'] for i in X_train]\n",
        "\n",
        "inputs = torch.tensor(input_ids)\n",
        "masks = torch.tensor(attention_masks)\n",
        "train_data = TensorDataset(inputs, masks)\n",
        "\n",
        "train_dataloader = DataLoader(train_data, batch_size=batch_size)"
      ],
      "metadata": {
        "id": "jK2oeoMqLEH5"
      },
      "execution_count": 30,
      "outputs": []
    },
    {
      "cell_type": "code",
      "source": [
        "from sklearn.metrics import classification_report\n",
        "\n",
        "model = trainer.model\n",
        "model.eval()\n",
        "model.to(device)\n",
        "\n",
        "train_pred = []\n",
        "for input, masks in train_dataloader:\n",
        "    torch.cuda.empty_cache()\n",
        "\n",
        "    input = input.to(device)\n",
        "    masks = masks.to(device)\n",
        "\n",
        "    output = model(input, attention_mask=masks)['logits']\n",
        "    predictions = torch.argmax(output, dim=1)\n",
        "    predictions = predictions.cpu().detach().numpy()\n",
        "\n",
        "    train_pred.extend(predictions)\n",
        "\n",
        "print(classification_report(X_train['label'], train_pred, target_names=classes))"
      ],
      "metadata": {
        "id": "MUBSnLxKLG5h",
        "colab": {
          "base_uri": "https://localhost:8080/"
        },
        "outputId": "51c2f38b-d531-4e93-d101-1414890952d6"
      },
      "execution_count": 31,
      "outputs": [
        {
          "output_type": "stream",
          "name": "stdout",
          "text": [
            "              precision    recall  f1-score   support\n",
            "\n",
            "        none       0.85      0.93      0.89      1074\n",
            "       anger       0.90      0.94      0.92      1019\n",
            "         joy       0.84      0.86      0.85       891\n",
            "     sadness       0.86      0.84      0.85       885\n",
            "        love       0.91      0.89      0.90       850\n",
            "    sympathy       0.96      0.96      0.96       755\n",
            "    surprise       0.86      0.72      0.78       729\n",
            "        fear       0.98      0.95      0.96       842\n",
            "\n",
            "    accuracy                           0.89      7045\n",
            "   macro avg       0.89      0.89      0.89      7045\n",
            "weighted avg       0.89      0.89      0.89      7045\n",
            "\n"
          ]
        }
      ]
    },
    {
      "cell_type": "code",
      "source": [
        "from sklearn.metrics import confusion_matrix\n",
        "import matplotlib.pyplot as plt\n",
        "import seaborn as sns\n",
        "\n",
        "cm = confusion_matrix(X_train['label'], train_pred)\n",
        "\n",
        "plt.figure(figsize=(10, 8))\n",
        "sns.set(font_scale=1.2)\n",
        "sns.heatmap(cm, annot=True, fmt='d', cmap='Blues', xticklabels=classes, yticklabels=classes)\n",
        "plt.xlabel('Predicted')\n",
        "plt.ylabel('Actual')\n",
        "plt.title('Confusion Matrix')\n",
        "plt.show()"
      ],
      "metadata": {
        "id": "zvhFsRpmNGDa",
        "colab": {
          "base_uri": "https://localhost:8080/",
          "height": 568
        },
        "outputId": "67dce327-ca9a-4f5b-b4ef-185331f471a5"
      },
      "execution_count": 32,
      "outputs": [
        {
          "output_type": "display_data",
          "data": {
            "text/plain": [
              "<Figure size 1000x800 with 2 Axes>"
            ],
            "image/png": "[encoded data removed]"
          },
          "metadata": {}
        }
      ]
    },
    {
      "cell_type": "markdown",
      "source": [
        "##Saving the model"
      ],
      "metadata": {
        "id": "KUVVY5VT69W5"
      }
    },
    {
      "cell_type": "code",
      "source": [
        "path = F\"/content/drive/MyDrive/emotion_data_tweets/models\"\n",
        "model.save_pretrained(path)"
      ],
      "metadata": {
        "colab": {
          "base_uri": "https://localhost:8080/"
        },
        "id": "-ypBn2yE68sN",
        "outputId": "549cd75c-39dc-43e6-b9f1-19e3482d130d"
      },
      "execution_count": 42,
      "outputs": [
        {
          "output_type": "stream",
          "name": "stderr",
          "text": [
            "127.0.0.1 - - [17/Sep/2023 16:24:31] \"GET /api/studies/0?after=2 HTTP/1.1\" 200 3303\n"
          ]
        }
      ]
    },
    {
      "cell_type": "markdown",
      "source": [
        "##Loading the model"
      ],
      "metadata": {
        "id": "SoZ8eMGF9hN5"
      }
    },
    {
      "cell_type": "code",
      "source": [
        "loaded_model = AutoModelForSequenceClassification.from_pretrained(path).to(device)"
      ],
      "metadata": {
        "colab": {
          "base_uri": "https://localhost:8080/"
        },
        "id": "NTsoqZkR9Yvr",
        "outputId": "a2f9f47f-8b3a-4c2e-e793-39cef9fcf5a7"
      },
      "execution_count": 43,
      "outputs": [
        {
          "output_type": "stream",
          "name": "stderr",
          "text": [
            "127.0.0.1 - - [17/Sep/2023 16:26:31] \"GET /api/studies/0?after=2 HTTP/1.1\" 200 3303\n",
            "127.0.0.1 - - [17/Sep/2023 16:26:34] \"GET /api/studies/0?after=2 HTTP/1.1\" 200 3303\n"
          ]
        }
      ]
    },
    {
      "cell_type": "code",
      "source": [],
      "metadata": {
        "id": "ZL_QdU8c98jo"
      },
      "execution_count": null,
      "outputs": []
    },
    {
      "cell_type": "markdown",
      "source": [
        "####Test Loaded Model"
      ],
      "metadata": {
        "id": "UpseCX82987w"
      }
    },
    {
      "cell_type": "code",
      "source": [
        "from sklearn.metrics import classification_report\n",
        "\n",
        "loaded_model.eval()\n",
        "\n",
        "test_pred = []\n",
        "for input, masks in test_dataloader:\n",
        "    torch.cuda.empty_cache()\n",
        "\n",
        "    input = input.to(device)\n",
        "    masks = masks.to(device)\n",
        "\n",
        "    output = loaded_model(input, attention_mask=masks)['logits']\n",
        "    predictions = torch.argmax(output, dim=1)\n",
        "    predictions = predictions.cpu().detach().numpy()\n",
        "\n",
        "    test_pred.extend(predictions)\n",
        "\n",
        "print(classification_report(X_test['label'], test_pred, target_names=classes))"
      ],
      "metadata": {
        "colab": {
          "base_uri": "https://localhost:8080/"
        },
        "outputId": "ce12ee0e-7540-416c-883a-e9891db653bd",
        "id": "kybMUpf-987y"
      },
      "execution_count": 44,
      "outputs": [
        {
          "output_type": "stream",
          "name": "stderr",
          "text": [
            "127.0.0.1 - - [17/Sep/2023 16:28:31] \"GET /api/studies/0?after=2 HTTP/1.1\" 200 3303\n",
            "127.0.0.1 - - [17/Sep/2023 16:28:34] \"GET /api/studies/0?after=2 HTTP/1.1\" 200 3303\n"
          ]
        },
        {
          "output_type": "stream",
          "name": "stdout",
          "text": [
            "              precision    recall  f1-score   support\n",
            "\n",
            "        none       0.71      0.85      0.77       229\n",
            "       anger       0.73      0.76      0.74       200\n",
            "         joy       0.66      0.63      0.65       205\n",
            "     sadness       0.67      0.66      0.67       185\n",
            "        love       0.79      0.80      0.80       193\n",
            "    sympathy       0.92      0.90      0.91       156\n",
            "    surprise       0.69      0.55      0.61       154\n",
            "        fear       0.95      0.93      0.94       188\n",
            "\n",
            "    accuracy                           0.76      1510\n",
            "   macro avg       0.77      0.76      0.76      1510\n",
            "weighted avg       0.76      0.76      0.76      1510\n",
            "\n"
          ]
        }
      ]
    },
    {
      "cell_type": "code",
      "source": [
        "from sklearn.metrics import confusion_matrix\n",
        "import matplotlib.pyplot as plt\n",
        "import seaborn as sns\n",
        "\n",
        "cm = confusion_matrix(X_test['label'], test_pred)\n",
        "\n",
        "plt.figure(figsize=(10, 8))\n",
        "sns.set(font_scale=1.2)\n",
        "sns.heatmap(cm, annot=True, fmt='d', cmap='Blues', xticklabels=classes, yticklabels=classes)\n",
        "plt.xlabel('Predicted')\n",
        "plt.ylabel('Actual')\n",
        "plt.title('Confusion Matrix')\n",
        "plt.show()"
      ],
      "metadata": {
        "colab": {
          "base_uri": "https://localhost:8080/",
          "height": 576
        },
        "outputId": "a2d732c4-a006-4999-dabf-4da7943fe163",
        "id": "MuoP6KR9987z"
      },
      "execution_count": null,
      "outputs": [
        {
          "output_type": "display_data",
          "data": {
            "text/plain": [
              "<Figure size 1000x800 with 2 Axes>"
            ],
            "image/png": "[encoded data removed]"
          },
          "metadata": {}
        }
      ]
    }
  ]
}