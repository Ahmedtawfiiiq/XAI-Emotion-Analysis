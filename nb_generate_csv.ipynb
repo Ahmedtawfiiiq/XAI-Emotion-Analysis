{
  "metadata": {
    "colab": {
      "provenance": [],
      "gpuType": "T4"
    },
    "kernelspec": {
      "name": "python3",
      "display_name": "Python 3"
    },
    "language_info": {
      "name": "python",
      "version": "3.10.12",
      "mimetype": "text/x-python",
      "codemirror_mode": {
        "name": "ipython",
        "version": 3
      },
      "pygments_lexer": "ipython3",
      "nbconvert_exporter": "python",
      "file_extension": ".py"
    },
    "accelerator": "GPU"
  },
  "nbformat_minor": 0,
  "nbformat": 4,
  "cells": [
    {
      "cell_type": "code",
      "source": [
        "!pip install shap\n",
        "!pip install lime\n",
        "!pip install transformers"
      ],
      "metadata": {
        "colab": {
          "base_uri": "https://localhost:8080/"
        },
        "id": "kgqxZh6h1GAd",
        "outputId": "8e8e4511-0de8-4499-897f-b7df92e29a2a",
        "execution": {
          "iopub.status.busy": "2023-08-12T20:24:48.170117Z",
          "iopub.execute_input": "2023-08-12T20:24:48.170613Z",
          "iopub.status.idle": "2023-08-12T20:25:22.992388Z",
          "shell.execute_reply.started": "2023-08-12T20:24:48.170566Z",
          "shell.execute_reply": "2023-08-12T20:25:22.991179Z"
        },
        "trusted": true
      },
      "execution_count": 1,
      "outputs": [
        {
          "output_type": "stream",
          "name": "stdout",
          "text": [
            "Collecting shap\n",
            "  Downloading shap-0.42.1-cp310-cp310-manylinux_2_12_x86_64.manylinux2010_x86_64.manylinux_2_17_x86_64.manylinux2014_x86_64.whl (547 kB)\n",
            "\u001b[?25l     \u001b[90m━━━━━━━━━━━━━━━━━━━━━━━━━━━━━━━━━━━━━━━━\u001b[0m \u001b[32m0.0/547.9 kB\u001b[0m \u001b[31m?\u001b[0m eta \u001b[36m-:--:--\u001b[0m\r\u001b[2K     \u001b[91m━━━━━\u001b[0m\u001b[91m╸\u001b[0m\u001b[90m━━━━━━━━━━━━━━━━━━━━━━━━━━━━━━━━━━\u001b[0m \u001b[32m81.9/547.9 kB\u001b[0m \u001b[31m2.4 MB/s\u001b[0m eta \u001b[36m0:00:01\u001b[0m\r\u001b[2K     \u001b[90m━━━━━━━━━━━━━━━━━━━━━━━━━━━━━━━━━━━━━━━\u001b[0m \u001b[32m547.9/547.9 kB\u001b[0m \u001b[31m9.3 MB/s\u001b[0m eta \u001b[36m0:00:00\u001b[0m\n",
            "\u001b[?25hRequirement already satisfied: numpy in /usr/local/lib/python3.10/dist-packages (from shap) (1.23.5)\n",
            "Requirement already satisfied: scipy in /usr/local/lib/python3.10/dist-packages (from shap) (1.10.1)\n",
            "Requirement already satisfied: scikit-learn in /usr/local/lib/python3.10/dist-packages (from shap) (1.2.2)\n",
            "Requirement already satisfied: pandas in /usr/local/lib/python3.10/dist-packages (from shap) (1.5.3)\n",
            "Requirement already satisfied: tqdm>=4.27.0 in /usr/local/lib/python3.10/dist-packages (from shap) (4.66.1)\n",
            "Requirement already satisfied: packaging>20.9 in /usr/local/lib/python3.10/dist-packages (from shap) (23.1)\n",
            "Collecting slicer==0.0.7 (from shap)\n",
            "  Downloading slicer-0.0.7-py3-none-any.whl (14 kB)\n",
            "Requirement already satisfied: numba in /usr/local/lib/python3.10/dist-packages (from shap) (0.56.4)\n",
            "Requirement already satisfied: cloudpickle in /usr/local/lib/python3.10/dist-packages (from shap) (2.2.1)\n",
            "Requirement already satisfied: llvmlite<0.40,>=0.39.0dev0 in /usr/local/lib/python3.10/dist-packages (from numba->shap) (0.39.1)\n",
            "Requirement already satisfied: setuptools in /usr/local/lib/python3.10/dist-packages (from numba->shap) (67.7.2)\n",
            "Requirement already satisfied: python-dateutil>=2.8.1 in /usr/local/lib/python3.10/dist-packages (from pandas->shap) (2.8.2)\n",
            "Requirement already satisfied: pytz>=2020.1 in /usr/local/lib/python3.10/dist-packages (from pandas->shap) (2023.3)\n",
            "Requirement already satisfied: joblib>=1.1.1 in /usr/local/lib/python3.10/dist-packages (from scikit-learn->shap) (1.3.2)\n",
            "Requirement already satisfied: threadpoolctl>=2.0.0 in /usr/local/lib/python3.10/dist-packages (from scikit-learn->shap) (3.2.0)\n",
            "Requirement already satisfied: six>=1.5 in /usr/local/lib/python3.10/dist-packages (from python-dateutil>=2.8.1->pandas->shap) (1.16.0)\n",
            "Installing collected packages: slicer, shap\n",
            "Successfully installed shap-0.42.1 slicer-0.0.7\n",
            "Collecting lime\n",
            "  Downloading lime-0.2.0.1.tar.gz (275 kB)\n",
            "\u001b[2K     \u001b[90m━━━━━━━━━━━━━━━━━━━━━━━━━━━━━━━━━━━━━━━\u001b[0m \u001b[32m275.7/275.7 kB\u001b[0m \u001b[31m2.1 MB/s\u001b[0m eta \u001b[36m0:00:00\u001b[0m\n",
            "\u001b[?25h  Preparing metadata (setup.py) ... \u001b[?25l\u001b[?25hdone\n",
            "Requirement already satisfied: matplotlib in /usr/local/lib/python3.10/dist-packages (from lime) (3.7.1)\n",
            "Requirement already satisfied: numpy in /usr/local/lib/python3.10/dist-packages (from lime) (1.23.5)\n",
            "Requirement already satisfied: scipy in /usr/local/lib/python3.10/dist-packages (from lime) (1.10.1)\n",
            "Requirement already satisfied: tqdm in /usr/local/lib/python3.10/dist-packages (from lime) (4.66.1)\n",
            "Requirement already satisfied: scikit-learn>=0.18 in /usr/local/lib/python3.10/dist-packages (from lime) (1.2.2)\n",
            "Requirement already satisfied: scikit-image>=0.12 in /usr/local/lib/python3.10/dist-packages (from lime) (0.19.3)\n",
            "Requirement already satisfied: networkx>=2.2 in /usr/local/lib/python3.10/dist-packages (from scikit-image>=0.12->lime) (3.1)\n",
            "Requirement already satisfied: pillow!=7.1.0,!=7.1.1,!=8.3.0,>=6.1.0 in /usr/local/lib/python3.10/dist-packages (from scikit-image>=0.12->lime) (9.4.0)\n",
            "Requirement already satisfied: imageio>=2.4.1 in /usr/local/lib/python3.10/dist-packages (from scikit-image>=0.12->lime) (2.31.1)\n",
            "Requirement already satisfied: tifffile>=2019.7.26 in /usr/local/lib/python3.10/dist-packages (from scikit-image>=0.12->lime) (2023.8.12)\n",
            "Requirement already satisfied: PyWavelets>=1.1.1 in /usr/local/lib/python3.10/dist-packages (from scikit-image>=0.12->lime) (1.4.1)\n",
            "Requirement already satisfied: packaging>=20.0 in /usr/local/lib/python3.10/dist-packages (from scikit-image>=0.12->lime) (23.1)\n",
            "Requirement already satisfied: joblib>=1.1.1 in /usr/local/lib/python3.10/dist-packages (from scikit-learn>=0.18->lime) (1.3.2)\n",
            "Requirement already satisfied: threadpoolctl>=2.0.0 in /usr/local/lib/python3.10/dist-packages (from scikit-learn>=0.18->lime) (3.2.0)\n",
            "Requirement already satisfied: contourpy>=1.0.1 in /usr/local/lib/python3.10/dist-packages (from matplotlib->lime) (1.1.0)\n",
            "Requirement already satisfied: cycler>=0.10 in /usr/local/lib/python3.10/dist-packages (from matplotlib->lime) (0.11.0)\n",
            "Requirement already satisfied: fonttools>=4.22.0 in /usr/local/lib/python3.10/dist-packages (from matplotlib->lime) (4.42.0)\n",
            "Requirement already satisfied: kiwisolver>=1.0.1 in /usr/local/lib/python3.10/dist-packages (from matplotlib->lime) (1.4.4)\n",
            "Requirement already satisfied: pyparsing>=2.3.1 in /usr/local/lib/python3.10/dist-packages (from matplotlib->lime) (3.1.1)\n",
            "Requirement already satisfied: python-dateutil>=2.7 in /usr/local/lib/python3.10/dist-packages (from matplotlib->lime) (2.8.2)\n",
            "Requirement already satisfied: six>=1.5 in /usr/local/lib/python3.10/dist-packages (from python-dateutil>=2.7->matplotlib->lime) (1.16.0)\n",
            "Building wheels for collected packages: lime\n",
            "  Building wheel for lime (setup.py) ... \u001b[?25l\u001b[?25hdone\n",
            "  Created wheel for lime: filename=lime-0.2.0.1-py3-none-any.whl size=283835 sha256=0fbe910100754973f70918f80935c8646c5f916dc0815a7dfd9c5ea132ff317c\n",
            "  Stored in directory: /root/.cache/pip/wheels/fd/a2/af/9ac0a1a85a27f314a06b39e1f492bee1547d52549a4606ed89\n",
            "Successfully built lime\n",
            "Installing collected packages: lime\n",
            "Successfully installed lime-0.2.0.1\n",
            "Collecting transformers\n",
            "  Downloading transformers-4.31.0-py3-none-any.whl (7.4 MB)\n",
            "\u001b[2K     \u001b[90m━━━━━━━━━━━━━━━━━━━━━━━━━━━━━━━━━━━━━━━━\u001b[0m \u001b[32m7.4/7.4 MB\u001b[0m \u001b[31m15.6 MB/s\u001b[0m eta \u001b[36m0:00:00\u001b[0m\n",
            "\u001b[?25hRequirement already satisfied: filelock in /usr/local/lib/python3.10/dist-packages (from transformers) (3.12.2)\n",
            "Collecting huggingface-hub<1.0,>=0.14.1 (from transformers)\n",
            "  Downloading huggingface_hub-0.16.4-py3-none-any.whl (268 kB)\n",
            "\u001b[2K     \u001b[90m━━━━━━━━━━━━━━━━━━━━━━━━━━━━━━━━━━━━━━\u001b[0m \u001b[32m268.8/268.8 kB\u001b[0m \u001b[31m23.5 MB/s\u001b[0m eta \u001b[36m0:00:00\u001b[0m\n",
            "\u001b[?25hRequirement already satisfied: numpy>=1.17 in /usr/local/lib/python3.10/dist-packages (from transformers) (1.23.5)\n",
            "Requirement already satisfied: packaging>=20.0 in /usr/local/lib/python3.10/dist-packages (from transformers) (23.1)\n",
            "Requirement already satisfied: pyyaml>=5.1 in /usr/local/lib/python3.10/dist-packages (from transformers) (6.0.1)\n",
            "Requirement already satisfied: regex!=2019.12.17 in /usr/local/lib/python3.10/dist-packages (from transformers) (2023.6.3)\n",
            "Requirement already satisfied: requests in /usr/local/lib/python3.10/dist-packages (from transformers) (2.31.0)\n",
            "Collecting tokenizers!=0.11.3,<0.14,>=0.11.1 (from transformers)\n",
            "  Downloading tokenizers-0.13.3-cp310-cp310-manylinux_2_17_x86_64.manylinux2014_x86_64.whl (7.8 MB)\n",
            "\u001b[2K     \u001b[90m━━━━━━━━━━━━━━━━━━━━━━━━━━━━━━━━━━━━━━━━\u001b[0m \u001b[32m7.8/7.8 MB\u001b[0m \u001b[31m48.2 MB/s\u001b[0m eta \u001b[36m0:00:00\u001b[0m\n",
            "\u001b[?25hCollecting safetensors>=0.3.1 (from transformers)\n",
            "  Downloading safetensors-0.3.2-cp310-cp310-manylinux_2_17_x86_64.manylinux2014_x86_64.whl (1.3 MB)\n",
            "\u001b[2K     \u001b[90m━━━━━━━━━━━━━━━━━━━━━━━━━━━━━━━━━━━━━━━━\u001b[0m \u001b[32m1.3/1.3 MB\u001b[0m \u001b[31m31.5 MB/s\u001b[0m eta \u001b[36m0:00:00\u001b[0m\n",
            "\u001b[?25hRequirement already satisfied: tqdm>=4.27 in /usr/local/lib/python3.10/dist-packages (from transformers) (4.66.1)\n",
            "Requirement already satisfied: fsspec in /usr/local/lib/python3.10/dist-packages (from huggingface-hub<1.0,>=0.14.1->transformers) (2023.6.0)\n",
            "Requirement already satisfied: typing-extensions>=3.7.4.3 in /usr/local/lib/python3.10/dist-packages (from huggingface-hub<1.0,>=0.14.1->transformers) (4.7.1)\n",
            "Requirement already satisfied: charset-normalizer<4,>=2 in /usr/local/lib/python3.10/dist-packages (from requests->transformers) (3.2.0)\n",
            "Requirement already satisfied: idna<4,>=2.5 in /usr/local/lib/python3.10/dist-packages (from requests->transformers) (3.4)\n",
            "Requirement already satisfied: urllib3<3,>=1.21.1 in /usr/local/lib/python3.10/dist-packages (from requests->transformers) (2.0.4)\n",
            "Requirement already satisfied: certifi>=2017.4.17 in /usr/local/lib/python3.10/dist-packages (from requests->transformers) (2023.7.22)\n",
            "Installing collected packages: tokenizers, safetensors, huggingface-hub, transformers\n",
            "Successfully installed huggingface-hub-0.16.4 safetensors-0.3.2 tokenizers-0.13.3 transformers-4.31.0\n"
          ]
        }
      ]
    },
    {
      "cell_type": "code",
      "source": [
        "import shap\n",
        "import pickle\n",
        "import numpy as np\n",
        "import pandas as pd\n",
        "import seaborn as sns\n",
        "import matplotlib.pyplot as plt\n",
        "from sklearn.naive_bayes import MultinomialNB, GaussianNB, CategoricalNB\n",
        "from sklearn.metrics import accuracy_score\n",
        "from sklearn.linear_model import LogisticRegression\n",
        "from sklearn.model_selection import train_test_split\n",
        "from sklearn.model_selection import GridSearchCV\n",
        "from sklearn.preprocessing import OneHotEncoder, LabelEncoder\n",
        "from sklearn.feature_extraction.text import TfidfVectorizer\n",
        "from sklearn.ensemble import RandomForestClassifier\n",
        "\n",
        "# LIME packages\n",
        "from lime import lime_text\n",
        "from lime.lime_text import LimeTextExplainer\n",
        "from sklearn.pipeline import make_pipeline\n",
        "from lime.lime_text import IndexedString,IndexedCharacters\n",
        "from lime.lime_base import LimeBase\n",
        "from sklearn.linear_model import Ridge, lars_path\n",
        "from lime.lime_text import explanation\n",
        "from functools import partial\n",
        "import scipy as sp\n",
        "from sklearn.utils import check_random_state\n",
        "from sklearn.metrics import classification_report, confusion_matrix\n",
        "\n",
        "from transformers import AutoTokenizer, TFAutoModel\n",
        "import tensorflow as tf\n",
        "from tqdm import tqdm"
      ],
      "metadata": {
        "id": "qf_rYKBH1SrJ",
        "execution": {
          "iopub.status.busy": "2023-08-12T20:28:16.803415Z",
          "iopub.execute_input": "2023-08-12T20:28:16.804436Z",
          "iopub.status.idle": "2023-08-12T20:28:16.815364Z",
          "shell.execute_reply.started": "2023-08-12T20:28:16.804386Z",
          "shell.execute_reply": "2023-08-12T20:28:16.813909Z"
        },
        "trusted": true
      },
      "execution_count": 18,
      "outputs": []
    },
    {
      "cell_type": "code",
      "source": [
        "!pip install gdown"
      ],
      "metadata": {
        "colab": {
          "base_uri": "https://localhost:8080/"
        },
        "id": "cC3GLLPk1VqD",
        "outputId": "588f95e3-d81d-41d4-868e-b2bd6e5b0003",
        "execution": {
          "iopub.status.busy": "2023-08-12T20:28:17.086599Z",
          "iopub.execute_input": "2023-08-12T20:28:17.086961Z",
          "iopub.status.idle": "2023-08-12T20:28:28.734673Z",
          "shell.execute_reply.started": "2023-08-12T20:28:17.086933Z",
          "shell.execute_reply": "2023-08-12T20:28:28.733505Z"
        },
        "trusted": true
      },
      "execution_count": 3,
      "outputs": [
        {
          "output_type": "stream",
          "name": "stdout",
          "text": [
            "Requirement already satisfied: gdown in /usr/local/lib/python3.10/dist-packages (4.6.6)\n",
            "Requirement already satisfied: filelock in /usr/local/lib/python3.10/dist-packages (from gdown) (3.12.2)\n",
            "Requirement already satisfied: requests[socks] in /usr/local/lib/python3.10/dist-packages (from gdown) (2.31.0)\n",
            "Requirement already satisfied: six in /usr/local/lib/python3.10/dist-packages (from gdown) (1.16.0)\n",
            "Requirement already satisfied: tqdm in /usr/local/lib/python3.10/dist-packages (from gdown) (4.66.1)\n",
            "Requirement already satisfied: beautifulsoup4 in /usr/local/lib/python3.10/dist-packages (from gdown) (4.11.2)\n",
            "Requirement already satisfied: soupsieve>1.2 in /usr/local/lib/python3.10/dist-packages (from beautifulsoup4->gdown) (2.4.1)\n",
            "Requirement already satisfied: charset-normalizer<4,>=2 in /usr/local/lib/python3.10/dist-packages (from requests[socks]->gdown) (3.2.0)\n",
            "Requirement already satisfied: idna<4,>=2.5 in /usr/local/lib/python3.10/dist-packages (from requests[socks]->gdown) (3.4)\n",
            "Requirement already satisfied: urllib3<3,>=1.21.1 in /usr/local/lib/python3.10/dist-packages (from requests[socks]->gdown) (2.0.4)\n",
            "Requirement already satisfied: certifi>=2017.4.17 in /usr/local/lib/python3.10/dist-packages (from requests[socks]->gdown) (2023.7.22)\n",
            "Requirement already satisfied: PySocks!=1.5.7,>=1.5.6 in /usr/local/lib/python3.10/dist-packages (from requests[socks]->gdown) (1.7.1)\n"
          ]
        }
      ]
    },
    {
      "cell_type": "code",
      "source": [
        "'''\n",
        "https://drive.google.com/file/d/1Fs0PTy_xPsoX5bg4QTCrX6JAaQCHRzis/view?usp=drive_link\n",
        "https://drive.google.com/file/d/1JLa-ELhUskQINi0syf3YJWBX8jcCXdn4/view?usp=drive_link\n",
        "'''"
      ],
      "metadata": {
        "execution": {
          "iopub.status.busy": "2023-08-12T20:28:28.737419Z",
          "iopub.execute_input": "2023-08-12T20:28:28.737810Z",
          "iopub.status.idle": "2023-08-12T20:28:28.744825Z",
          "shell.execute_reply.started": "2023-08-12T20:28:28.737772Z",
          "shell.execute_reply": "2023-08-12T20:28:28.743747Z"
        },
        "trusted": true,
        "colab": {
          "base_uri": "https://localhost:8080/",
          "height": 53
        },
        "id": "oLP0-TKBKm7o",
        "outputId": "4a6e3e61-a8a8-4170-d199-3ab0d8b61118"
      },
      "execution_count": 4,
      "outputs": [
        {
          "output_type": "execute_result",
          "data": {
            "text/plain": [
              "'\\nhttps://drive.google.com/file/d/1Fs0PTy_xPsoX5bg4QTCrX6JAaQCHRzis/view?usp=drive_link\\nhttps://drive.google.com/file/d/1JLa-ELhUskQINi0syf3YJWBX8jcCXdn4/view?usp=drive_link\\n'"
            ],
            "application/vnd.google.colaboratory.intrinsic+json": {
              "type": "string"
            }
          },
          "metadata": {},
          "execution_count": 4
        }
      ]
    },
    {
      "cell_type": "code",
      "source": [
        "!gdown 1Fs0PTy_xPsoX5bg4QTCrX6JAaQCHRzis\n",
        "!gdown 1JLa-ELhUskQINi0syf3YJWBX8jcCXdn4"
      ],
      "metadata": {
        "execution": {
          "iopub.status.busy": "2023-08-12T20:28:28.746240Z",
          "iopub.execute_input": "2023-08-12T20:28:28.746599Z",
          "iopub.status.idle": "2023-08-12T20:28:34.188286Z",
          "shell.execute_reply.started": "2023-08-12T20:28:28.746566Z",
          "shell.execute_reply": "2023-08-12T20:28:34.186948Z"
        },
        "trusted": true,
        "colab": {
          "base_uri": "https://localhost:8080/"
        },
        "id": "uIqz_kSNKm7o",
        "outputId": "ec7eb66e-fa16-454e-aeda-0a4a2208ec7c"
      },
      "execution_count": 5,
      "outputs": [
        {
          "output_type": "stream",
          "name": "stdout",
          "text": [
            "Downloading...\n",
            "From: https://drive.google.com/uc?id=1Fs0PTy_xPsoX5bg4QTCrX6JAaQCHRzis\n",
            "To: /content/train.pkl\n",
            "100% 4.09M/4.09M [00:00<00:00, 246MB/s]\n",
            "Downloading...\n",
            "From: https://drive.google.com/uc?id=1JLa-ELhUskQINi0syf3YJWBX8jcCXdn4\n",
            "To: /content/test.pkl\n",
            "100% 1.01M/1.01M [00:00<00:00, 138MB/s]\n"
          ]
        }
      ]
    },
    {
      "cell_type": "code",
      "source": [
        "FILE_PATH = \"train.pkl\"\n",
        "\n",
        "with open(FILE_PATH, 'rb') as f:\n",
        "    df_train = pickle.load(f)"
      ],
      "metadata": {
        "id": "-xf7q31x1YW3",
        "execution": {
          "iopub.status.busy": "2023-08-12T20:28:34.195461Z",
          "iopub.execute_input": "2023-08-12T20:28:34.197830Z",
          "iopub.status.idle": "2023-08-12T20:28:34.245101Z",
          "shell.execute_reply.started": "2023-08-12T20:28:34.197790Z",
          "shell.execute_reply": "2023-08-12T20:28:34.244163Z"
        },
        "trusted": true
      },
      "execution_count": 6,
      "outputs": []
    },
    {
      "cell_type": "code",
      "source": [
        "FILE_PATH = \"test.pkl\"\n",
        "\n",
        "with open(FILE_PATH, 'rb') as f:\n",
        "    df_test = pickle.load(f)"
      ],
      "metadata": {
        "id": "byg3PJNQ13tX",
        "execution": {
          "iopub.status.busy": "2023-08-12T20:28:34.246610Z",
          "iopub.execute_input": "2023-08-12T20:28:34.247319Z",
          "iopub.status.idle": "2023-08-12T20:28:34.267716Z",
          "shell.execute_reply.started": "2023-08-12T20:28:34.247284Z",
          "shell.execute_reply": "2023-08-12T20:28:34.266804Z"
        },
        "trusted": true
      },
      "execution_count": 7,
      "outputs": []
    },
    {
      "cell_type": "code",
      "source": [
        "df_train.reset_index(drop = True, inplace = True)\n",
        "df_test.reset_index(drop = True, inplace = True)"
      ],
      "metadata": {
        "execution": {
          "iopub.status.busy": "2023-08-12T20:28:34.269166Z",
          "iopub.execute_input": "2023-08-12T20:28:34.269895Z",
          "iopub.status.idle": "2023-08-12T20:28:34.275029Z",
          "shell.execute_reply.started": "2023-08-12T20:28:34.269861Z",
          "shell.execute_reply": "2023-08-12T20:28:34.274023Z"
        },
        "trusted": true,
        "id": "fCo51GWPKm7q"
      },
      "execution_count": 8,
      "outputs": []
    },
    {
      "cell_type": "code",
      "source": [
        "df_train.head()"
      ],
      "metadata": {
        "colab": {
          "base_uri": "https://localhost:8080/",
          "height": 337
        },
        "id": "D9BmpiVX1-VC",
        "outputId": "383b79c3-89fe-4a03-935f-5ae048c958cf",
        "execution": {
          "iopub.status.busy": "2023-08-12T20:28:34.276443Z",
          "iopub.execute_input": "2023-08-12T20:28:34.276986Z",
          "iopub.status.idle": "2023-08-12T20:28:34.300686Z",
          "shell.execute_reply.started": "2023-08-12T20:28:34.276952Z",
          "shell.execute_reply": "2023-08-12T20:28:34.299644Z"
        },
        "trusted": true
      },
      "execution_count": 9,
      "outputs": [
        {
          "output_type": "execute_result",
          "data": {
            "text/plain": [
              "                                               tweet  label  \\\n",
              "0  شايف نفسه الحمار مع انه كان احتياط الموسم الما...      1   \n",
              "1  :   هزق البلد كلها ..مرتضي محدش عارف يوقفه ..ل...      1   \n",
              "2  استفتاء : عندما تنتهي الاوليمبياد وتعود بعثتنا...      0   \n",
              "3  Alhashemلا يوجد مخرج لنفط داعش سوي تركيا.هكذا ...      1   \n",
              "4  ما احب اركب جاهل معاي السياره عادي اتوتر طول م...      7   \n",
              "\n",
              "                               tweet_with_out_emojis  \\\n",
              "0  شايف نفسه الحمار مع انه كان احتياط الموسم الما...   \n",
              "1  :   هزق البلد كلها ..مرتضي محدش عارف يوقفه ..ل...   \n",
              "2  استفتاء : عندما تنتهي الاوليمبياد وتعود بعثتنا...   \n",
              "3  Alhashemلا يوجد مخرج لنفط داعش سوي تركيا.هكذا ...   \n",
              "4  ما احب اركب جاهل معاي السياره عادي اتوتر طول م...   \n",
              "\n",
              "                                        cleaned_data  \\\n",
              "0  شايف الحمار انه احتياط الموسم الماضي اليوفي اد...   \n",
              "1  هزق البلد مرتضي محدش عارف يوقفه لا وزير داخليه...   \n",
              "2  استفتاء تنتهي الاوليمبياد وتعود بعثتنا بالسلام...   \n",
              "3  لا يوجد مخرج لنفط داعش سوي تركياهكذا تقول الجغ...   \n",
              "4  احب اركب جاهل معاي السياره عادي اتوتر طول اسوق...   \n",
              "\n",
              "                                      Light Stemming  \\\n",
              "0  شايف الحمار انه احتياط الموسم الماضي اليوفي اد...   \n",
              "1  هزق البلد مرتضي محدش عارف يوقفه لا وزير داخليه...   \n",
              "2  استفتاء تنتهي الاوليمبياد وتعود بعثت بالسلامه ...   \n",
              "3  لا يوجد مخرج لنفط داعش سوي تركياهكذا تقول الجغ...   \n",
              "4  احب اركب جاهل معاي السياره عادي اتوتر طول اسوق...   \n",
              "\n",
              "                                       Root Stemming  \n",
              "0  شيف حمر انه حيط وسم اضي يوف دره ريل امر غرب هج...  \n",
              "1  هزق بلد رضي حدش عرف وقف لا وزر دخل شبب حتي بتع...  \n",
              "2      فاء نهي اوليمبياد تعد بعث سلم يدل حصل وجه نظر  \n",
              "3  لا وجد خرج نفط دعش سوي تركياهكذا تقل جغراف سؤل...  \n",
              "4        احب ركب جهل عاي سير عدي وتر طول اسق خيف فرح  "
            ],
            "text/html": [
              "\n",
              "\n",
              "  <div id=\"df-3de7e52d-ae46-4eb6-9f0c-3b445b297839\">\n",
              "    <div class=\"colab-df-container\">\n",
              "      <div>\n",
              "<style scoped>\n",
              "    .dataframe tbody tr th:only-of-type {\n",
              "        vertical-align: middle;\n",
              "    }\n",
              "\n",
              "    .dataframe tbody tr th {\n",
              "        vertical-align: top;\n",
              "    }\n",
              "\n",
              "    .dataframe thead th {\n",
              "        text-align: right;\n",
              "    }\n",
              "</style>\n",
              "<table border=\"1\" class=\"dataframe\">\n",
              "  <thead>\n",
              "    <tr style=\"text-align: right;\">\n",
              "      <th></th>\n",
              "      <th>tweet</th>\n",
              "      <th>label</th>\n",
              "      <th>tweet_with_out_emojis</th>\n",
              "      <th>cleaned_data</th>\n",
              "      <th>Light Stemming</th>\n",
              "      <th>Root Stemming</th>\n",
              "    </tr>\n",
              "  </thead>\n",
              "  <tbody>\n",
              "    <tr>\n",
              "      <th>0</th>\n",
              "      <td>شايف نفسه الحمار مع انه كان احتياط الموسم الما...</td>\n",
              "      <td>1</td>\n",
              "      <td>شايف نفسه الحمار مع انه كان احتياط الموسم الما...</td>\n",
              "      <td>شايف الحمار انه احتياط الموسم الماضي اليوفي اد...</td>\n",
              "      <td>شايف الحمار انه احتياط الموسم الماضي اليوفي اد...</td>\n",
              "      <td>شيف حمر انه حيط وسم اضي يوف دره ريل امر غرب هج...</td>\n",
              "    </tr>\n",
              "    <tr>\n",
              "      <th>1</th>\n",
              "      <td>:   هزق البلد كلها ..مرتضي محدش عارف يوقفه ..ل...</td>\n",
              "      <td>1</td>\n",
              "      <td>:   هزق البلد كلها ..مرتضي محدش عارف يوقفه ..ل...</td>\n",
              "      <td>هزق البلد مرتضي محدش عارف يوقفه لا وزير داخليه...</td>\n",
              "      <td>هزق البلد مرتضي محدش عارف يوقفه لا وزير داخليه...</td>\n",
              "      <td>هزق بلد رضي حدش عرف وقف لا وزر دخل شبب حتي بتع...</td>\n",
              "    </tr>\n",
              "    <tr>\n",
              "      <th>2</th>\n",
              "      <td>استفتاء : عندما تنتهي الاوليمبياد وتعود بعثتنا...</td>\n",
              "      <td>0</td>\n",
              "      <td>استفتاء : عندما تنتهي الاوليمبياد وتعود بعثتنا...</td>\n",
              "      <td>استفتاء تنتهي الاوليمبياد وتعود بعثتنا بالسلام...</td>\n",
              "      <td>استفتاء تنتهي الاوليمبياد وتعود بعثت بالسلامه ...</td>\n",
              "      <td>فاء نهي اوليمبياد تعد بعث سلم يدل حصل وجه نظر</td>\n",
              "    </tr>\n",
              "    <tr>\n",
              "      <th>3</th>\n",
              "      <td>Alhashemلا يوجد مخرج لنفط داعش سوي تركيا.هكذا ...</td>\n",
              "      <td>1</td>\n",
              "      <td>Alhashemلا يوجد مخرج لنفط داعش سوي تركيا.هكذا ...</td>\n",
              "      <td>لا يوجد مخرج لنفط داعش سوي تركياهكذا تقول الجغ...</td>\n",
              "      <td>لا يوجد مخرج لنفط داعش سوي تركياهكذا تقول الجغ...</td>\n",
              "      <td>لا وجد خرج نفط دعش سوي تركياهكذا تقل جغراف سؤل...</td>\n",
              "    </tr>\n",
              "    <tr>\n",
              "      <th>4</th>\n",
              "      <td>ما احب اركب جاهل معاي السياره عادي اتوتر طول م...</td>\n",
              "      <td>7</td>\n",
              "      <td>ما احب اركب جاهل معاي السياره عادي اتوتر طول م...</td>\n",
              "      <td>احب اركب جاهل معاي السياره عادي اتوتر طول اسوق...</td>\n",
              "      <td>احب اركب جاهل معاي السياره عادي اتوتر طول اسوق...</td>\n",
              "      <td>احب ركب جهل عاي سير عدي وتر طول اسق خيف فرح</td>\n",
              "    </tr>\n",
              "  </tbody>\n",
              "</table>\n",
              "</div>\n",
              "      <button class=\"colab-df-convert\" onclick=\"convertToInteractive('df-3de7e52d-ae46-4eb6-9f0c-3b445b297839')\"\n",
              "              title=\"Convert this dataframe to an interactive table.\"\n",
              "              style=\"display:none;\">\n",
              "\n",
              "  <svg xmlns=\"http://www.w3.org/2000/svg\" height=\"24px\"viewBox=\"0 0 24 24\"\n",
              "       width=\"24px\">\n",
              "    <path d=\"M0 0h24v24H0V0z\" fill=\"none\"/>\n",
              "    <path d=\"M18.56 5.44l.94 2.06.94-2.06 2.06-.94-2.06-.94-.94-2.06-.94 2.06-2.06.94zm-11 1L8.5 8.5l.94-2.06 2.06-.94-2.06-.94L8.5 2.5l-.94 2.06-2.06.94zm10 10l.94 2.06.94-2.06 2.06-.94-2.06-.94-.94-2.06-.94 2.06-2.06.94z\"/><path d=\"M17.41 7.96l-1.37-1.37c-.4-.4-.92-.59-1.43-.59-.52 0-1.04.2-1.43.59L10.3 9.45l-7.72 7.72c-.78.78-.78 2.05 0 2.83L4 21.41c.39.39.9.59 1.41.59.51 0 1.02-.2 1.41-.59l7.78-7.78 2.81-2.81c.8-.78.8-2.07 0-2.86zM5.41 20L4 18.59l7.72-7.72 1.47 1.35L5.41 20z\"/>\n",
              "  </svg>\n",
              "      </button>\n",
              "\n",
              "\n",
              "\n",
              "    <div id=\"df-45e484ea-5d1f-4a74-8907-34f21f434d3a\">\n",
              "      <button class=\"colab-df-quickchart\" onclick=\"quickchart('df-45e484ea-5d1f-4a74-8907-34f21f434d3a')\"\n",
              "              title=\"Suggest charts.\"\n",
              "              style=\"display:none;\">\n",
              "\n",
              "<svg xmlns=\"http://www.w3.org/2000/svg\" height=\"24px\"viewBox=\"0 0 24 24\"\n",
              "     width=\"24px\">\n",
              "    <g>\n",
              "        <path d=\"M19 3H5c-1.1 0-2 .9-2 2v14c0 1.1.9 2 2 2h14c1.1 0 2-.9 2-2V5c0-1.1-.9-2-2-2zM9 17H7v-7h2v7zm4 0h-2V7h2v10zm4 0h-2v-4h2v4z\"/>\n",
              "    </g>\n",
              "</svg>\n",
              "      </button>\n",
              "    </div>\n",
              "\n",
              "<style>\n",
              "  .colab-df-quickchart {\n",
              "    background-color: #E8F0FE;\n",
              "    border: none;\n",
              "    border-radius: 50%;\n",
              "    cursor: pointer;\n",
              "    display: none;\n",
              "    fill: #1967D2;\n",
              "    height: 32px;\n",
              "    padding: 0 0 0 0;\n",
              "    width: 32px;\n",
              "  }\n",
              "\n",
              "  .colab-df-quickchart:hover {\n",
              "    background-color: #E2EBFA;\n",
              "    box-shadow: 0px 1px 2px rgba(60, 64, 67, 0.3), 0px 1px 3px 1px rgba(60, 64, 67, 0.15);\n",
              "    fill: #174EA6;\n",
              "  }\n",
              "\n",
              "  [theme=dark] .colab-df-quickchart {\n",
              "    background-color: #3B4455;\n",
              "    fill: #D2E3FC;\n",
              "  }\n",
              "\n",
              "  [theme=dark] .colab-df-quickchart:hover {\n",
              "    background-color: #434B5C;\n",
              "    box-shadow: 0px 1px 3px 1px rgba(0, 0, 0, 0.15);\n",
              "    filter: drop-shadow(0px 1px 2px rgba(0, 0, 0, 0.3));\n",
              "    fill: #FFFFFF;\n",
              "  }\n",
              "</style>\n",
              "\n",
              "    <script>\n",
              "      async function quickchart(key) {\n",
              "        const containerElement = document.querySelector('#' + key);\n",
              "        const charts = await google.colab.kernel.invokeFunction(\n",
              "            'suggestCharts', [key], {});\n",
              "      }\n",
              "    </script>\n",
              "\n",
              "      <script>\n",
              "\n",
              "function displayQuickchartButton(domScope) {\n",
              "  let quickchartButtonEl =\n",
              "    domScope.querySelector('#df-45e484ea-5d1f-4a74-8907-34f21f434d3a button.colab-df-quickchart');\n",
              "  quickchartButtonEl.style.display =\n",
              "    google.colab.kernel.accessAllowed ? 'block' : 'none';\n",
              "}\n",
              "\n",
              "        displayQuickchartButton(document);\n",
              "      </script>\n",
              "      <style>\n",
              "    .colab-df-container {\n",
              "      display:flex;\n",
              "      flex-wrap:wrap;\n",
              "      gap: 12px;\n",
              "    }\n",
              "\n",
              "    .colab-df-convert {\n",
              "      background-color: #E8F0FE;\n",
              "      border: none;\n",
              "      border-radius: 50%;\n",
              "      cursor: pointer;\n",
              "      display: none;\n",
              "      fill: #1967D2;\n",
              "      height: 32px;\n",
              "      padding: 0 0 0 0;\n",
              "      width: 32px;\n",
              "    }\n",
              "\n",
              "    .colab-df-convert:hover {\n",
              "      background-color: #E2EBFA;\n",
              "      box-shadow: 0px 1px 2px rgba(60, 64, 67, 0.3), 0px 1px 3px 1px rgba(60, 64, 67, 0.15);\n",
              "      fill: #174EA6;\n",
              "    }\n",
              "\n",
              "    [theme=dark] .colab-df-convert {\n",
              "      background-color: #3B4455;\n",
              "      fill: #D2E3FC;\n",
              "    }\n",
              "\n",
              "    [theme=dark] .colab-df-convert:hover {\n",
              "      background-color: #434B5C;\n",
              "      box-shadow: 0px 1px 3px 1px rgba(0, 0, 0, 0.15);\n",
              "      filter: drop-shadow(0px 1px 2px rgba(0, 0, 0, 0.3));\n",
              "      fill: #FFFFFF;\n",
              "    }\n",
              "  </style>\n",
              "\n",
              "      <script>\n",
              "        const buttonEl =\n",
              "          document.querySelector('#df-3de7e52d-ae46-4eb6-9f0c-3b445b297839 button.colab-df-convert');\n",
              "        buttonEl.style.display =\n",
              "          google.colab.kernel.accessAllowed ? 'block' : 'none';\n",
              "\n",
              "        async function convertToInteractive(key) {\n",
              "          const element = document.querySelector('#df-3de7e52d-ae46-4eb6-9f0c-3b445b297839');\n",
              "          const dataTable =\n",
              "            await google.colab.kernel.invokeFunction('convertToInteractive',\n",
              "                                                     [key], {});\n",
              "          if (!dataTable) return;\n",
              "\n",
              "          const docLinkHtml = 'Like what you see? Visit the ' +\n",
              "            '<a target=\"_blank\" href=https://colab.research.google.com/notebooks/data_table.ipynb>data table notebook</a>'\n",
              "            + ' to learn more about interactive tables.';\n",
              "          element.innerHTML = '';\n",
              "          dataTable['output_type'] = 'display_data';\n",
              "          await google.colab.output.renderOutput(dataTable, element);\n",
              "          const docLink = document.createElement('div');\n",
              "          docLink.innerHTML = docLinkHtml;\n",
              "          element.appendChild(docLink);\n",
              "        }\n",
              "      </script>\n",
              "    </div>\n",
              "  </div>\n"
            ]
          },
          "metadata": {},
          "execution_count": 9
        }
      ]
    },
    {
      "cell_type": "code",
      "source": [
        "label_to_class = [\n",
        "    'none',\n",
        "    'anger',\n",
        "    'joy',\n",
        "    'sadness',\n",
        "    'love',\n",
        "    'sympathy',\n",
        "    'surprise',\n",
        "    'fear'\n",
        "]"
      ],
      "metadata": {
        "execution": {
          "iopub.status.busy": "2023-08-12T20:28:36.384941Z",
          "iopub.execute_input": "2023-08-12T20:28:36.386187Z",
          "iopub.status.idle": "2023-08-12T20:28:36.393170Z",
          "shell.execute_reply.started": "2023-08-12T20:28:36.386152Z",
          "shell.execute_reply": "2023-08-12T20:28:36.392196Z"
        },
        "trusted": true,
        "id": "s0V7UYUIKm7s"
      },
      "execution_count": 14,
      "outputs": []
    },
    {
      "cell_type": "code",
      "source": [
        "def map_label_to_class(indices, classes):\n",
        "  return [classes[idx] for idx in indices]"
      ],
      "metadata": {
        "id": "ZzxdevUt6jgX"
      },
      "execution_count": 15,
      "outputs": []
    },
    {
      "cell_type": "code",
      "source": [
        "def create_confusion_matrix(y_pred):\n",
        "  # creatin a confusion matrix\n",
        "  y_true = map_label_to_class(df_test['label'], label_to_class)\n",
        "  y_pred = map_label_to_class(y_pred, label_to_class)\n",
        "  cm = confusion_matrix(y_true, y_pred, labels=label_to_class)\n",
        "  # create a DataFrame for the confusion matrix with class names as index and columns\n",
        "  cm_df = pd.DataFrame(cm, index=label_to_class, columns=label_to_class)\n",
        "\n",
        "  # create a heatmap for visualization\n",
        "  plt.figure(figsize=(5, 5))\n",
        "  sns.heatmap(cm_df, annot=True, cmap='Blues', fmt='g')\n",
        "  plt.xlabel('Predicted')\n",
        "  plt.ylabel('True')\n",
        "  plt.title('Confusion Matrix')\n",
        "  plt.show()"
      ],
      "metadata": {
        "id": "VDU_OGnb6kF9"
      },
      "execution_count": 16,
      "outputs": []
    },
    {
      "cell_type": "markdown",
      "source": [
        "## Naive Bayes Model"
      ],
      "metadata": {
        "id": "ErMdprRoEsTB"
      }
    },
    {
      "cell_type": "code",
      "source": [
        "# use Tfidf Vectorizer root stemming\n",
        "tfidf_vectorizer_rs = TfidfVectorizer()\n",
        "# fit and transform the training data\n",
        "X_train_tfidf_rs = tfidf_vectorizer_rs.fit_transform(df_train['Root Stemming'])\n",
        "# transform the test data using the same vectorizer\n",
        "X_test_tfidf_rs = tfidf_vectorizer_rs.transform(df_test['Root Stemming'])\n",
        "\n",
        "# use Tfidf Vectorizer light stemming\n",
        "tfidf_vectorizer_ls = TfidfVectorizer()\n",
        "# fit and transform the training data\n",
        "X_train_tfidf_ls = tfidf_vectorizer_ls.fit_transform(df_train['Light Stemming'])\n",
        "# transform the test data using the same vectorizer\n",
        "X_test_tfidf_ls = tfidf_vectorizer_ls.transform(df_test['Light Stemming'])"
      ],
      "metadata": {
        "execution": {
          "iopub.status.busy": "2023-08-12T20:28:57.776904Z",
          "iopub.execute_input": "2023-08-12T20:28:57.777744Z",
          "iopub.status.idle": "2023-08-12T20:28:58.252471Z",
          "shell.execute_reply.started": "2023-08-12T20:28:57.777708Z",
          "shell.execute_reply": "2023-08-12T20:28:58.251463Z"
        },
        "trusted": true,
        "id": "MFffHoaWKm7w"
      },
      "execution_count": 11,
      "outputs": []
    },
    {
      "cell_type": "markdown",
      "source": [
        "## Using MultinomialNB"
      ],
      "metadata": {
        "id": "e0Wao92OKm77"
      }
    },
    {
      "cell_type": "code",
      "source": [
        "nb_vec = MultinomialNB(force_alpha=True, alpha=0.1, fit_prior=True)\n",
        "nb_vec.fit(X_train_tfidf_rs, df_train['label'])\n",
        "\n",
        "# test accuracy of tf-idf vectorizer\n",
        "y_pred = nb_vec.predict(X_test_tfidf_rs.toarray())\n",
        "# calculating the accuracy of the classifier\n",
        "accuracy = accuracy_score(df_test['label'], y_pred)\n",
        "print(\"Accuracy:\", accuracy)"
      ],
      "metadata": {
        "execution": {
          "iopub.status.busy": "2023-08-12T20:30:35.345707Z",
          "iopub.execute_input": "2023-08-12T20:30:35.346394Z",
          "iopub.status.idle": "2023-08-12T20:30:35.493470Z",
          "shell.execute_reply.started": "2023-08-12T20:30:35.346356Z",
          "shell.execute_reply": "2023-08-12T20:30:35.492475Z"
        },
        "trusted": true,
        "id": "UhKQD1fdKm77",
        "outputId": "9c087f53-6afa-48fd-c38e-79c0e37df338",
        "colab": {
          "base_uri": "https://localhost:8080/"
        }
      },
      "execution_count": 19,
      "outputs": [
        {
          "output_type": "stream",
          "name": "stdout",
          "text": [
            "Accuracy: 0.589170392449081\n"
          ]
        }
      ]
    },
    {
      "cell_type": "code",
      "source": [
        "print(classification_report(df_test['label'], y_pred, target_names = label_to_class))"
      ],
      "metadata": {
        "execution": {
          "iopub.status.busy": "2023-08-12T20:30:35.494791Z",
          "iopub.execute_input": "2023-08-12T20:30:35.495734Z",
          "iopub.status.idle": "2023-08-12T20:30:35.529094Z",
          "shell.execute_reply.started": "2023-08-12T20:30:35.495697Z",
          "shell.execute_reply": "2023-08-12T20:30:35.528048Z"
        },
        "trusted": true,
        "id": "NSUokSdyKm77",
        "outputId": "6c0958b4-6d39-47c0-d562-982c340525e5",
        "colab": {
          "base_uri": "https://localhost:8080/"
        }
      },
      "execution_count": 20,
      "outputs": [
        {
          "output_type": "stream",
          "name": "stdout",
          "text": [
            "              precision    recall  f1-score   support\n",
            "\n",
            "        none       0.50      0.76      0.60       307\n",
            "       anger       0.58      0.72      0.64       276\n",
            "         joy       0.53      0.35      0.43       268\n",
            "     sadness       0.43      0.31      0.36       258\n",
            "        love       0.65      0.69      0.67       250\n",
            "    sympathy       0.72      0.75      0.74       194\n",
            "    surprise       0.50      0.27      0.35       201\n",
            "        fear       0.79      0.79      0.79       259\n",
            "\n",
            "    accuracy                           0.59      2013\n",
            "   macro avg       0.59      0.58      0.57      2013\n",
            "weighted avg       0.58      0.59      0.57      2013\n",
            "\n"
          ]
        }
      ]
    },
    {
      "cell_type": "code",
      "source": [
        "# creatin a confusion matrix\n",
        "confusion_matrix(df_test['label'], y_pred)"
      ],
      "metadata": {
        "execution": {
          "iopub.status.busy": "2023-08-12T20:30:35.530417Z",
          "iopub.execute_input": "2023-08-12T20:30:35.531010Z",
          "iopub.status.idle": "2023-08-12T20:30:35.541462Z",
          "shell.execute_reply.started": "2023-08-12T20:30:35.530974Z",
          "shell.execute_reply": "2023-08-12T20:30:35.540276Z"
        },
        "trusted": true,
        "id": "7jRxo5v6Km78",
        "outputId": "c53c98ca-4571-456b-8b54-22a37c30d355",
        "colab": {
          "base_uri": "https://localhost:8080/"
        }
      },
      "execution_count": 21,
      "outputs": [
        {
          "output_type": "execute_result",
          "data": {
            "text/plain": [
              "array([[233,  18,  21,  14,   0,   2,  14,   5],\n",
              "       [ 25, 199,   8,  19,   5,   9,  10,   1],\n",
              "       [ 71,  21,  95,  16,  34,  11,  11,   9],\n",
              "       [ 63,  34,   7,  81,  30,  14,  12,  17],\n",
              "       [  3,  11,  28,  15, 173,  13,   0,   7],\n",
              "       [  4,  14,   5,  12,   7, 146,   1,   5],\n",
              "       [ 62,  37,   9,  14,  14,   1,  54,  10],\n",
              "       [  5,  12,   6,  17,   3,   6,   5, 205]])"
            ]
          },
          "metadata": {},
          "execution_count": 21
        }
      ]
    },
    {
      "cell_type": "code",
      "source": [
        "nb_vec = MultinomialNB(force_alpha=True, alpha=0.1, fit_prior=True)\n",
        "nb_vec.fit(X_train_tfidf_ls, df_train['label'])\n",
        "\n",
        "# test accuracy of tf-idf vectorizer\n",
        "y_pred = nb_vec.predict(X_test_tfidf_ls.toarray())\n",
        "# calculating the accuracy of the classifier\n",
        "accuracy = accuracy_score(df_test['label'], y_pred)\n",
        "print(\"Accuracy:\", accuracy)"
      ],
      "metadata": {
        "execution": {
          "iopub.status.busy": "2023-08-12T20:30:35.543074Z",
          "iopub.execute_input": "2023-08-12T20:30:35.543936Z",
          "iopub.status.idle": "2023-08-12T20:30:35.862304Z",
          "shell.execute_reply.started": "2023-08-12T20:30:35.543903Z",
          "shell.execute_reply": "2023-08-12T20:30:35.860205Z"
        },
        "trusted": true,
        "id": "AATEwmspKm78",
        "outputId": "dd8f2949-c6fa-4259-edee-803a37abf3c8"
      },
      "execution_count": null,
      "outputs": [
        {
          "name": "stdout",
          "text": "Accuracy: 0.6035767511177347\n",
          "output_type": "stream"
        }
      ]
    },
    {
      "cell_type": "code",
      "source": [
        "print(classification_report(df_test['label'], y_pred, target_names = label_to_class))"
      ],
      "metadata": {
        "execution": {
          "iopub.status.busy": "2023-08-12T20:30:35.863691Z",
          "iopub.execute_input": "2023-08-12T20:30:35.864025Z",
          "iopub.status.idle": "2023-08-12T20:30:35.889281Z",
          "shell.execute_reply.started": "2023-08-12T20:30:35.863991Z",
          "shell.execute_reply": "2023-08-12T20:30:35.888212Z"
        },
        "trusted": true,
        "id": "UUvqHdCkKm78",
        "outputId": "98e1946e-9861-4e03-af35-632a23c2d3af"
      },
      "execution_count": null,
      "outputs": [
        {
          "name": "stdout",
          "text": "              precision    recall  f1-score   support\n\n        none       0.49      0.80      0.61       307\n       anger       0.63      0.67      0.65       276\n         joy       0.55      0.40      0.47       268\n     sadness       0.45      0.28      0.35       258\n        love       0.64      0.70      0.67       250\n    sympathy       0.77      0.78      0.78       194\n    surprise       0.56      0.30      0.39       201\n        fear       0.77      0.83      0.80       259\n\n    accuracy                           0.60      2013\n   macro avg       0.61      0.60      0.59      2013\nweighted avg       0.60      0.60      0.59      2013\n\n",
          "output_type": "stream"
        }
      ]
    },
    {
      "cell_type": "code",
      "source": [
        "# creatin a confusion matrix\n",
        "create_confusion_matrix(y_pred)"
      ],
      "metadata": {
        "execution": {
          "iopub.status.busy": "2023-08-12T19:38:15.927141Z",
          "iopub.execute_input": "2023-08-12T19:38:15.927514Z",
          "iopub.status.idle": "2023-08-12T19:38:15.938131Z",
          "shell.execute_reply.started": "2023-08-12T19:38:15.927483Z",
          "shell.execute_reply": "2023-08-12T19:38:15.936977Z"
        },
        "trusted": true,
        "id": "F174_IgpKm78",
        "outputId": "a01cd9ae-92c2-47a6-94ee-8b0ed0730911",
        "colab": {
          "base_uri": "https://localhost:8080/",
          "height": 542
        }
      },
      "execution_count": 22,
      "outputs": [
        {
          "output_type": "display_data",
          "data": {
            "text/plain": [
              "<Figure size 500x500 with 2 Axes>"
            ],
            "image/png": "[encoded data removed]"
          },
          "metadata": {}
        }
      ]
    },
    {
      "cell_type": "code",
      "source": [
        "def create_csv(y_pred_idx, y_true_idx, file_path=\"examples.csv\"):\n",
        "  y_pred, y_true = map_label_to_class(y_pred_idx, label_to_class), map_label_to_class(y_true_idx, label_to_class)\n",
        "  with open(file_path, 'w') as file:\n",
        "    file.write('Index,True Label,Predicted Label\\n')\n",
        "    for i in range(len(y_pred)):\n",
        "      file.write(f'{i},{y_true[i]},{y_pred[i]}\\n')\n",
        "  print(\"Content has been written to the file.\")"
      ],
      "metadata": {
        "id": "VDBeVNX-7v5s"
      },
      "execution_count": 28,
      "outputs": []
    },
    {
      "cell_type": "code",
      "source": [
        "y_pred"
      ],
      "metadata": {
        "colab": {
          "base_uri": "https://localhost:8080/"
        },
        "id": "SkrScv1r85lY",
        "outputId": "3e26aa6b-09ed-47c7-cf74-175c15fed651"
      },
      "execution_count": 24,
      "outputs": [
        {
          "output_type": "execute_result",
          "data": {
            "text/plain": [
              "array([4, 7, 0, ..., 3, 1, 0])"
            ]
          },
          "metadata": {},
          "execution_count": 24
        }
      ]
    },
    {
      "cell_type": "code",
      "source": [
        "create_csv(y_pred, df_test['label'], file_path=\"examples.csv\")"
      ],
      "metadata": {
        "colab": {
          "base_uri": "https://localhost:8080/"
        },
        "id": "TLAYy3PX83yH",
        "outputId": "cf58f271-13bb-4447-f37c-cd6c11147e42"
      },
      "execution_count": 29,
      "outputs": [
        {
          "output_type": "stream",
          "name": "stdout",
          "text": [
            "Content has been written to the file.\n"
          ]
        }
      ]
    },
    {
      "cell_type": "code",
      "source": [],
      "metadata": {
        "id": "BPpW5-iH9JxI"
      },
      "execution_count": null,
      "outputs": []
    }
  ]
}