{
  "nbformat": 4,
  "nbformat_minor": 0,
  "metadata": {
    "colab": {
      "provenance": [],
      "gpuType": "T4"
    },
    "kernelspec": {
      "name": "python3",
      "display_name": "Python 3"
    },
    "language_info": {
      "name": "python"
    },
    "accelerator": "GPU",
    "widgets": {
      "application/vnd.jupyter.widget-state+json": {
        "f33d2c3c57644701ba2445267b8a052e": {
          "model_module": "@jupyter-widgets/controls",
          "model_name": "HBoxModel",
          "model_module_version": "1.5.0",
          "state": {
            "_dom_classes": [],
            "_model_module": "@jupyter-widgets/controls",
            "_model_module_version": "1.5.0",
            "_model_name": "HBoxModel",
            "_view_count": null,
            "_view_module": "@jupyter-widgets/controls",
            "_view_module_version": "1.5.0",
            "_view_name": "HBoxView",
            "box_style": "",
            "children": [
              "IPY_MODEL_59b2f7c56a3f455fa11718131c267311",
              "IPY_MODEL_41bc9bfacf8e4f699c467950d86fb55c",
              "IPY_MODEL_a2438a6f115249b3aa48e8411a8d1102"
            ],
            "layout": "IPY_MODEL_59661f2ddf364878b4a75d12710aa50f"
          }
        },
        "59b2f7c56a3f455fa11718131c267311": {
          "model_module": "@jupyter-widgets/controls",
          "model_name": "HTMLModel",
          "model_module_version": "1.5.0",
          "state": {
            "_dom_classes": [],
            "_model_module": "@jupyter-widgets/controls",
            "_model_module_version": "1.5.0",
            "_model_name": "HTMLModel",
            "_view_count": null,
            "_view_module": "@jupyter-widgets/controls",
            "_view_module_version": "1.5.0",
            "_view_name": "HTMLView",
            "description": "",
            "description_tooltip": null,
            "layout": "IPY_MODEL_075344b7604b4b849afba8da21ac9784",
            "placeholder": "​",
            "style": "IPY_MODEL_baca096c57d847089bc38014e1f12fd5",
            "value": "Map (num_proc=8): 100%"
          }
        },
        "41bc9bfacf8e4f699c467950d86fb55c": {
          "model_module": "@jupyter-widgets/controls",
          "model_name": "FloatProgressModel",
          "model_module_version": "1.5.0",
          "state": {
            "_dom_classes": [],
            "_model_module": "@jupyter-widgets/controls",
            "_model_module_version": "1.5.0",
            "_model_name": "FloatProgressModel",
            "_view_count": null,
            "_view_module": "@jupyter-widgets/controls",
            "_view_module_version": "1.5.0",
            "_view_name": "ProgressView",
            "bar_style": "success",
            "description": "",
            "description_tooltip": null,
            "layout": "IPY_MODEL_a17f3434bb15408cbacdd8442a344d95",
            "max": 7045,
            "min": 0,
            "orientation": "horizontal",
            "style": "IPY_MODEL_1d73b916f9714f708ebb972572906081",
            "value": 7045
          }
        },
        "a2438a6f115249b3aa48e8411a8d1102": {
          "model_module": "@jupyter-widgets/controls",
          "model_name": "HTMLModel",
          "model_module_version": "1.5.0",
          "state": {
            "_dom_classes": [],
            "_model_module": "@jupyter-widgets/controls",
            "_model_module_version": "1.5.0",
            "_model_name": "HTMLModel",
            "_view_count": null,
            "_view_module": "@jupyter-widgets/controls",
            "_view_module_version": "1.5.0",
            "_view_name": "HTMLView",
            "description": "",
            "description_tooltip": null,
            "layout": "IPY_MODEL_7811c6ea2819406ba6d3ac2a10d753e0",
            "placeholder": "​",
            "style": "IPY_MODEL_df7cbe3ad1ed4cca93bf03b8195f484c",
            "value": " 7045/7045 [00:02&lt;00:00, 5813.69 examples/s]"
          }
        },
        "59661f2ddf364878b4a75d12710aa50f": {
          "model_module": "@jupyter-widgets/base",
          "model_name": "LayoutModel",
          "model_module_version": "1.2.0",
          "state": {
            "_model_module": "@jupyter-widgets/base",
            "_model_module_version": "1.2.0",
            "_model_name": "LayoutModel",
            "_view_count": null,
            "_view_module": "@jupyter-widgets/base",
            "_view_module_version": "1.2.0",
            "_view_name": "LayoutView",
            "align_content": null,
            "align_items": null,
            "align_self": null,
            "border": null,
            "bottom": null,
            "display": null,
            "flex": null,
            "flex_flow": null,
            "grid_area": null,
            "grid_auto_columns": null,
            "grid_auto_flow": null,
            "grid_auto_rows": null,
            "grid_column": null,
            "grid_gap": null,
            "grid_row": null,
            "grid_template_areas": null,
            "grid_template_columns": null,
            "grid_template_rows": null,
            "height": null,
            "justify_content": null,
            "justify_items": null,
            "left": null,
            "margin": null,
            "max_height": null,
            "max_width": null,
            "min_height": null,
            "min_width": null,
            "object_fit": null,
            "object_position": null,
            "order": null,
            "overflow": null,
            "overflow_x": null,
            "overflow_y": null,
            "padding": null,
            "right": null,
            "top": null,
            "visibility": null,
            "width": null
          }
        },
        "075344b7604b4b849afba8da21ac9784": {
          "model_module": "@jupyter-widgets/base",
          "model_name": "LayoutModel",
          "model_module_version": "1.2.0",
          "state": {
            "_model_module": "@jupyter-widgets/base",
            "_model_module_version": "1.2.0",
            "_model_name": "LayoutModel",
            "_view_count": null,
            "_view_module": "@jupyter-widgets/base",
            "_view_module_version": "1.2.0",
            "_view_name": "LayoutView",
            "align_content": null,
            "align_items": null,
            "align_self": null,
            "border": null,
            "bottom": null,
            "display": null,
            "flex": null,
            "flex_flow": null,
            "grid_area": null,
            "grid_auto_columns": null,
            "grid_auto_flow": null,
            "grid_auto_rows": null,
            "grid_column": null,
            "grid_gap": null,
            "grid_row": null,
            "grid_template_areas": null,
            "grid_template_columns": null,
            "grid_template_rows": null,
            "height": null,
            "justify_content": null,
            "justify_items": null,
            "left": null,
            "margin": null,
            "max_height": null,
            "max_width": null,
            "min_height": null,
            "min_width": null,
            "object_fit": null,
            "object_position": null,
            "order": null,
            "overflow": null,
            "overflow_x": null,
            "overflow_y": null,
            "padding": null,
            "right": null,
            "top": null,
            "visibility": null,
            "width": null
          }
        },
        "baca096c57d847089bc38014e1f12fd5": {
          "model_module": "@jupyter-widgets/controls",
          "model_name": "DescriptionStyleModel",
          "model_module_version": "1.5.0",
          "state": {
            "_model_module": "@jupyter-widgets/controls",
            "_model_module_version": "1.5.0",
            "_model_name": "DescriptionStyleModel",
            "_view_count": null,
            "_view_module": "@jupyter-widgets/base",
            "_view_module_version": "1.2.0",
            "_view_name": "StyleView",
            "description_width": ""
          }
        },
        "a17f3434bb15408cbacdd8442a344d95": {
          "model_module": "@jupyter-widgets/base",
          "model_name": "LayoutModel",
          "model_module_version": "1.2.0",
          "state": {
            "_model_module": "@jupyter-widgets/base",
            "_model_module_version": "1.2.0",
            "_model_name": "LayoutModel",
            "_view_count": null,
            "_view_module": "@jupyter-widgets/base",
            "_view_module_version": "1.2.0",
            "_view_name": "LayoutView",
            "align_content": null,
            "align_items": null,
            "align_self": null,
            "border": null,
            "bottom": null,
            "display": null,
            "flex": null,
            "flex_flow": null,
            "grid_area": null,
            "grid_auto_columns": null,
            "grid_auto_flow": null,
            "grid_auto_rows": null,
            "grid_column": null,
            "grid_gap": null,
            "grid_row": null,
            "grid_template_areas": null,
            "grid_template_columns": null,
            "grid_template_rows": null,
            "height": null,
            "justify_content": null,
            "justify_items": null,
            "left": null,
            "margin": null,
            "max_height": null,
            "max_width": null,
            "min_height": null,
            "min_width": null,
            "object_fit": null,
            "object_position": null,
            "order": null,
            "overflow": null,
            "overflow_x": null,
            "overflow_y": null,
            "padding": null,
            "right": null,
            "top": null,
            "visibility": null,
            "width": null
          }
        },
        "1d73b916f9714f708ebb972572906081": {
          "model_module": "@jupyter-widgets/controls",
          "model_name": "ProgressStyleModel",
          "model_module_version": "1.5.0",
          "state": {
            "_model_module": "@jupyter-widgets/controls",
            "_model_module_version": "1.5.0",
            "_model_name": "ProgressStyleModel",
            "_view_count": null,
            "_view_module": "@jupyter-widgets/base",
            "_view_module_version": "1.2.0",
            "_view_name": "StyleView",
            "bar_color": null,
            "description_width": ""
          }
        },
        "7811c6ea2819406ba6d3ac2a10d753e0": {
          "model_module": "@jupyter-widgets/base",
          "model_name": "LayoutModel",
          "model_module_version": "1.2.0",
          "state": {
            "_model_module": "@jupyter-widgets/base",
            "_model_module_version": "1.2.0",
            "_model_name": "LayoutModel",
            "_view_count": null,
            "_view_module": "@jupyter-widgets/base",
            "_view_module_version": "1.2.0",
            "_view_name": "LayoutView",
            "align_content": null,
            "align_items": null,
            "align_self": null,
            "border": null,
            "bottom": null,
            "display": null,
            "flex": null,
            "flex_flow": null,
            "grid_area": null,
            "grid_auto_columns": null,
            "grid_auto_flow": null,
            "grid_auto_rows": null,
            "grid_column": null,
            "grid_gap": null,
            "grid_row": null,
            "grid_template_areas": null,
            "grid_template_columns": null,
            "grid_template_rows": null,
            "height": null,
            "justify_content": null,
            "justify_items": null,
            "left": null,
            "margin": null,
            "max_height": null,
            "max_width": null,
            "min_height": null,
            "min_width": null,
            "object_fit": null,
            "object_position": null,
            "order": null,
            "overflow": null,
            "overflow_x": null,
            "overflow_y": null,
            "padding": null,
            "right": null,
            "top": null,
            "visibility": null,
            "width": null
          }
        },
        "df7cbe3ad1ed4cca93bf03b8195f484c": {
          "model_module": "@jupyter-widgets/controls",
          "model_name": "DescriptionStyleModel",
          "model_module_version": "1.5.0",
          "state": {
            "_model_module": "@jupyter-widgets/controls",
            "_model_module_version": "1.5.0",
            "_model_name": "DescriptionStyleModel",
            "_view_count": null,
            "_view_module": "@jupyter-widgets/base",
            "_view_module_version": "1.2.0",
            "_view_name": "StyleView",
            "description_width": ""
          }
        },
        "118288e9d9fc49fa97e6dafa4a4f82b9": {
          "model_module": "@jupyter-widgets/controls",
          "model_name": "HBoxModel",
          "model_module_version": "1.5.0",
          "state": {
            "_dom_classes": [],
            "_model_module": "@jupyter-widgets/controls",
            "_model_module_version": "1.5.0",
            "_model_name": "HBoxModel",
            "_view_count": null,
            "_view_module": "@jupyter-widgets/controls",
            "_view_module_version": "1.5.0",
            "_view_name": "HBoxView",
            "box_style": "",
            "children": [
              "IPY_MODEL_bb7493952bf44c74b15cac9b79898924",
              "IPY_MODEL_169e4e57ca114162a789668834415176",
              "IPY_MODEL_7acd89a4b9d643b0a33029a39cd6dd91"
            ],
            "layout": "IPY_MODEL_42f6d48ea3ad4c4593bfb94e9ca81651"
          }
        },
        "bb7493952bf44c74b15cac9b79898924": {
          "model_module": "@jupyter-widgets/controls",
          "model_name": "HTMLModel",
          "model_module_version": "1.5.0",
          "state": {
            "_dom_classes": [],
            "_model_module": "@jupyter-widgets/controls",
            "_model_module_version": "1.5.0",
            "_model_name": "HTMLModel",
            "_view_count": null,
            "_view_module": "@jupyter-widgets/controls",
            "_view_module_version": "1.5.0",
            "_view_name": "HTMLView",
            "description": "",
            "description_tooltip": null,
            "layout": "IPY_MODEL_39eb8ab7990a437d8d4a164ab91d0906",
            "placeholder": "​",
            "style": "IPY_MODEL_e952708bb097430b9feea22546054c29",
            "value": "Map (num_proc=8): 100%"
          }
        },
        "169e4e57ca114162a789668834415176": {
          "model_module": "@jupyter-widgets/controls",
          "model_name": "FloatProgressModel",
          "model_module_version": "1.5.0",
          "state": {
            "_dom_classes": [],
            "_model_module": "@jupyter-widgets/controls",
            "_model_module_version": "1.5.0",
            "_model_name": "FloatProgressModel",
            "_view_count": null,
            "_view_module": "@jupyter-widgets/controls",
            "_view_module_version": "1.5.0",
            "_view_name": "ProgressView",
            "bar_style": "success",
            "description": "",
            "description_tooltip": null,
            "layout": "IPY_MODEL_f0b1ace6e62a4c2fb9c3ef2a4641d702",
            "max": 1510,
            "min": 0,
            "orientation": "horizontal",
            "style": "IPY_MODEL_bbe43df8f3fc4172919062606ecc0361",
            "value": 1510
          }
        },
        "7acd89a4b9d643b0a33029a39cd6dd91": {
          "model_module": "@jupyter-widgets/controls",
          "model_name": "HTMLModel",
          "model_module_version": "1.5.0",
          "state": {
            "_dom_classes": [],
            "_model_module": "@jupyter-widgets/controls",
            "_model_module_version": "1.5.0",
            "_model_name": "HTMLModel",
            "_view_count": null,
            "_view_module": "@jupyter-widgets/controls",
            "_view_module_version": "1.5.0",
            "_view_name": "HTMLView",
            "description": "",
            "description_tooltip": null,
            "layout": "IPY_MODEL_da3254a1f53745d48e0e6740ee0fccec",
            "placeholder": "​",
            "style": "IPY_MODEL_8e1a982ecc33422c870c3fbaac25f991",
            "value": " 1510/1510 [00:00&lt;00:00, 1892.76 examples/s]"
          }
        },
        "42f6d48ea3ad4c4593bfb94e9ca81651": {
          "model_module": "@jupyter-widgets/base",
          "model_name": "LayoutModel",
          "model_module_version": "1.2.0",
          "state": {
            "_model_module": "@jupyter-widgets/base",
            "_model_module_version": "1.2.0",
            "_model_name": "LayoutModel",
            "_view_count": null,
            "_view_module": "@jupyter-widgets/base",
            "_view_module_version": "1.2.0",
            "_view_name": "LayoutView",
            "align_content": null,
            "align_items": null,
            "align_self": null,
            "border": null,
            "bottom": null,
            "display": null,
            "flex": null,
            "flex_flow": null,
            "grid_area": null,
            "grid_auto_columns": null,
            "grid_auto_flow": null,
            "grid_auto_rows": null,
            "grid_column": null,
            "grid_gap": null,
            "grid_row": null,
            "grid_template_areas": null,
            "grid_template_columns": null,
            "grid_template_rows": null,
            "height": null,
            "justify_content": null,
            "justify_items": null,
            "left": null,
            "margin": null,
            "max_height": null,
            "max_width": null,
            "min_height": null,
            "min_width": null,
            "object_fit": null,
            "object_position": null,
            "order": null,
            "overflow": null,
            "overflow_x": null,
            "overflow_y": null,
            "padding": null,
            "right": null,
            "top": null,
            "visibility": null,
            "width": null
          }
        },
        "39eb8ab7990a437d8d4a164ab91d0906": {
          "model_module": "@jupyter-widgets/base",
          "model_name": "LayoutModel",
          "model_module_version": "1.2.0",
          "state": {
            "_model_module": "@jupyter-widgets/base",
            "_model_module_version": "1.2.0",
            "_model_name": "LayoutModel",
            "_view_count": null,
            "_view_module": "@jupyter-widgets/base",
            "_view_module_version": "1.2.0",
            "_view_name": "LayoutView",
            "align_content": null,
            "align_items": null,
            "align_self": null,
            "border": null,
            "bottom": null,
            "display": null,
            "flex": null,
            "flex_flow": null,
            "grid_area": null,
            "grid_auto_columns": null,
            "grid_auto_flow": null,
            "grid_auto_rows": null,
            "grid_column": null,
            "grid_gap": null,
            "grid_row": null,
            "grid_template_areas": null,
            "grid_template_columns": null,
            "grid_template_rows": null,
            "height": null,
            "justify_content": null,
            "justify_items": null,
            "left": null,
            "margin": null,
            "max_height": null,
            "max_width": null,
            "min_height": null,
            "min_width": null,
            "object_fit": null,
            "object_position": null,
            "order": null,
            "overflow": null,
            "overflow_x": null,
            "overflow_y": null,
            "padding": null,
            "right": null,
            "top": null,
            "visibility": null,
            "width": null
          }
        },
        "e952708bb097430b9feea22546054c29": {
          "model_module": "@jupyter-widgets/controls",
          "model_name": "DescriptionStyleModel",
          "model_module_version": "1.5.0",
          "state": {
            "_model_module": "@jupyter-widgets/controls",
            "_model_module_version": "1.5.0",
            "_model_name": "DescriptionStyleModel",
            "_view_count": null,
            "_view_module": "@jupyter-widgets/base",
            "_view_module_version": "1.2.0",
            "_view_name": "StyleView",
            "description_width": ""
          }
        },
        "f0b1ace6e62a4c2fb9c3ef2a4641d702": {
          "model_module": "@jupyter-widgets/base",
          "model_name": "LayoutModel",
          "model_module_version": "1.2.0",
          "state": {
            "_model_module": "@jupyter-widgets/base",
            "_model_module_version": "1.2.0",
            "_model_name": "LayoutModel",
            "_view_count": null,
            "_view_module": "@jupyter-widgets/base",
            "_view_module_version": "1.2.0",
            "_view_name": "LayoutView",
            "align_content": null,
            "align_items": null,
            "align_self": null,
            "border": null,
            "bottom": null,
            "display": null,
            "flex": null,
            "flex_flow": null,
            "grid_area": null,
            "grid_auto_columns": null,
            "grid_auto_flow": null,
            "grid_auto_rows": null,
            "grid_column": null,
            "grid_gap": null,
            "grid_row": null,
            "grid_template_areas": null,
            "grid_template_columns": null,
            "grid_template_rows": null,
            "height": null,
            "justify_content": null,
            "justify_items": null,
            "left": null,
            "margin": null,
            "max_height": null,
            "max_width": null,
            "min_height": null,
            "min_width": null,
            "object_fit": null,
            "object_position": null,
            "order": null,
            "overflow": null,
            "overflow_x": null,
            "overflow_y": null,
            "padding": null,
            "right": null,
            "top": null,
            "visibility": null,
            "width": null
          }
        },
        "bbe43df8f3fc4172919062606ecc0361": {
          "model_module": "@jupyter-widgets/controls",
          "model_name": "ProgressStyleModel",
          "model_module_version": "1.5.0",
          "state": {
            "_model_module": "@jupyter-widgets/controls",
            "_model_module_version": "1.5.0",
            "_model_name": "ProgressStyleModel",
            "_view_count": null,
            "_view_module": "@jupyter-widgets/base",
            "_view_module_version": "1.2.0",
            "_view_name": "StyleView",
            "bar_color": null,
            "description_width": ""
          }
        },
        "da3254a1f53745d48e0e6740ee0fccec": {
          "model_module": "@jupyter-widgets/base",
          "model_name": "LayoutModel",
          "model_module_version": "1.2.0",
          "state": {
            "_model_module": "@jupyter-widgets/base",
            "_model_module_version": "1.2.0",
            "_model_name": "LayoutModel",
            "_view_count": null,
            "_view_module": "@jupyter-widgets/base",
            "_view_module_version": "1.2.0",
            "_view_name": "LayoutView",
            "align_content": null,
            "align_items": null,
            "align_self": null,
            "border": null,
            "bottom": null,
            "display": null,
            "flex": null,
            "flex_flow": null,
            "grid_area": null,
            "grid_auto_columns": null,
            "grid_auto_flow": null,
            "grid_auto_rows": null,
            "grid_column": null,
            "grid_gap": null,
            "grid_row": null,
            "grid_template_areas": null,
            "grid_template_columns": null,
            "grid_template_rows": null,
            "height": null,
            "justify_content": null,
            "justify_items": null,
            "left": null,
            "margin": null,
            "max_height": null,
            "max_width": null,
            "min_height": null,
            "min_width": null,
            "object_fit": null,
            "object_position": null,
            "order": null,
            "overflow": null,
            "overflow_x": null,
            "overflow_y": null,
            "padding": null,
            "right": null,
            "top": null,
            "visibility": null,
            "width": null
          }
        },
        "8e1a982ecc33422c870c3fbaac25f991": {
          "model_module": "@jupyter-widgets/controls",
          "model_name": "DescriptionStyleModel",
          "model_module_version": "1.5.0",
          "state": {
            "_model_module": "@jupyter-widgets/controls",
            "_model_module_version": "1.5.0",
            "_model_name": "DescriptionStyleModel",
            "_view_count": null,
            "_view_module": "@jupyter-widgets/base",
            "_view_module_version": "1.2.0",
            "_view_name": "StyleView",
            "description_width": ""
          }
        },
        "a620c92e58be4ea2993262c62a46e8d0": {
          "model_module": "@jupyter-widgets/controls",
          "model_name": "HBoxModel",
          "model_module_version": "1.5.0",
          "state": {
            "_dom_classes": [],
            "_model_module": "@jupyter-widgets/controls",
            "_model_module_version": "1.5.0",
            "_model_name": "HBoxModel",
            "_view_count": null,
            "_view_module": "@jupyter-widgets/controls",
            "_view_module_version": "1.5.0",
            "_view_name": "HBoxView",
            "box_style": "",
            "children": [
              "IPY_MODEL_6da49c8311234330979199189110a1f3",
              "IPY_MODEL_04f15173754646a0800e6e0e36a13e68",
              "IPY_MODEL_7f34d0dfe0ed474e94bcced3cf367cd1"
            ],
            "layout": "IPY_MODEL_515ba4d359a04e2d984d0be441faec3b"
          }
        },
        "6da49c8311234330979199189110a1f3": {
          "model_module": "@jupyter-widgets/controls",
          "model_name": "HTMLModel",
          "model_module_version": "1.5.0",
          "state": {
            "_dom_classes": [],
            "_model_module": "@jupyter-widgets/controls",
            "_model_module_version": "1.5.0",
            "_model_name": "HTMLModel",
            "_view_count": null,
            "_view_module": "@jupyter-widgets/controls",
            "_view_module_version": "1.5.0",
            "_view_name": "HTMLView",
            "description": "",
            "description_tooltip": null,
            "layout": "IPY_MODEL_1d383799712a42689d45466a23197a46",
            "placeholder": "​",
            "style": "IPY_MODEL_40b4ef7c803046e19c77e16e23259624",
            "value": "Map (num_proc=8): 100%"
          }
        },
        "04f15173754646a0800e6e0e36a13e68": {
          "model_module": "@jupyter-widgets/controls",
          "model_name": "FloatProgressModel",
          "model_module_version": "1.5.0",
          "state": {
            "_dom_classes": [],
            "_model_module": "@jupyter-widgets/controls",
            "_model_module_version": "1.5.0",
            "_model_name": "FloatProgressModel",
            "_view_count": null,
            "_view_module": "@jupyter-widgets/controls",
            "_view_module_version": "1.5.0",
            "_view_name": "ProgressView",
            "bar_style": "success",
            "description": "",
            "description_tooltip": null,
            "layout": "IPY_MODEL_4ad9e496a1c94f299dce7fe5fa975ba1",
            "max": 1510,
            "min": 0,
            "orientation": "horizontal",
            "style": "IPY_MODEL_dfa343ffc00f4fe79b2c8b8a4022f55d",
            "value": 1510
          }
        },
        "7f34d0dfe0ed474e94bcced3cf367cd1": {
          "model_module": "@jupyter-widgets/controls",
          "model_name": "HTMLModel",
          "model_module_version": "1.5.0",
          "state": {
            "_dom_classes": [],
            "_model_module": "@jupyter-widgets/controls",
            "_model_module_version": "1.5.0",
            "_model_name": "HTMLModel",
            "_view_count": null,
            "_view_module": "@jupyter-widgets/controls",
            "_view_module_version": "1.5.0",
            "_view_name": "HTMLView",
            "description": "",
            "description_tooltip": null,
            "layout": "IPY_MODEL_88195bd2425d489193cc31a2578843d6",
            "placeholder": "​",
            "style": "IPY_MODEL_bffda45e3e3b4166ad3e477a8a7c3de1",
            "value": " 1510/1510 [00:00&lt;00:00, 2719.32 examples/s]"
          }
        },
        "515ba4d359a04e2d984d0be441faec3b": {
          "model_module": "@jupyter-widgets/base",
          "model_name": "LayoutModel",
          "model_module_version": "1.2.0",
          "state": {
            "_model_module": "@jupyter-widgets/base",
            "_model_module_version": "1.2.0",
            "_model_name": "LayoutModel",
            "_view_count": null,
            "_view_module": "@jupyter-widgets/base",
            "_view_module_version": "1.2.0",
            "_view_name": "LayoutView",
            "align_content": null,
            "align_items": null,
            "align_self": null,
            "border": null,
            "bottom": null,
            "display": null,
            "flex": null,
            "flex_flow": null,
            "grid_area": null,
            "grid_auto_columns": null,
            "grid_auto_flow": null,
            "grid_auto_rows": null,
            "grid_column": null,
            "grid_gap": null,
            "grid_row": null,
            "grid_template_areas": null,
            "grid_template_columns": null,
            "grid_template_rows": null,
            "height": null,
            "justify_content": null,
            "justify_items": null,
            "left": null,
            "margin": null,
            "max_height": null,
            "max_width": null,
            "min_height": null,
            "min_width": null,
            "object_fit": null,
            "object_position": null,
            "order": null,
            "overflow": null,
            "overflow_x": null,
            "overflow_y": null,
            "padding": null,
            "right": null,
            "top": null,
            "visibility": null,
            "width": null
          }
        },
        "1d383799712a42689d45466a23197a46": {
          "model_module": "@jupyter-widgets/base",
          "model_name": "LayoutModel",
          "model_module_version": "1.2.0",
          "state": {
            "_model_module": "@jupyter-widgets/base",
            "_model_module_version": "1.2.0",
            "_model_name": "LayoutModel",
            "_view_count": null,
            "_view_module": "@jupyter-widgets/base",
            "_view_module_version": "1.2.0",
            "_view_name": "LayoutView",
            "align_content": null,
            "align_items": null,
            "align_self": null,
            "border": null,
            "bottom": null,
            "display": null,
            "flex": null,
            "flex_flow": null,
            "grid_area": null,
            "grid_auto_columns": null,
            "grid_auto_flow": null,
            "grid_auto_rows": null,
            "grid_column": null,
            "grid_gap": null,
            "grid_row": null,
            "grid_template_areas": null,
            "grid_template_columns": null,
            "grid_template_rows": null,
            "height": null,
            "justify_content": null,
            "justify_items": null,
            "left": null,
            "margin": null,
            "max_height": null,
            "max_width": null,
            "min_height": null,
            "min_width": null,
            "object_fit": null,
            "object_position": null,
            "order": null,
            "overflow": null,
            "overflow_x": null,
            "overflow_y": null,
            "padding": null,
            "right": null,
            "top": null,
            "visibility": null,
            "width": null
          }
        },
        "40b4ef7c803046e19c77e16e23259624": {
          "model_module": "@jupyter-widgets/controls",
          "model_name": "DescriptionStyleModel",
          "model_module_version": "1.5.0",
          "state": {
            "_model_module": "@jupyter-widgets/controls",
            "_model_module_version": "1.5.0",
            "_model_name": "DescriptionStyleModel",
            "_view_count": null,
            "_view_module": "@jupyter-widgets/base",
            "_view_module_version": "1.2.0",
            "_view_name": "StyleView",
            "description_width": ""
          }
        },
        "4ad9e496a1c94f299dce7fe5fa975ba1": {
          "model_module": "@jupyter-widgets/base",
          "model_name": "LayoutModel",
          "model_module_version": "1.2.0",
          "state": {
            "_model_module": "@jupyter-widgets/base",
            "_model_module_version": "1.2.0",
            "_model_name": "LayoutModel",
            "_view_count": null,
            "_view_module": "@jupyter-widgets/base",
            "_view_module_version": "1.2.0",
            "_view_name": "LayoutView",
            "align_content": null,
            "align_items": null,
            "align_self": null,
            "border": null,
            "bottom": null,
            "display": null,
            "flex": null,
            "flex_flow": null,
            "grid_area": null,
            "grid_auto_columns": null,
            "grid_auto_flow": null,
            "grid_auto_rows": null,
            "grid_column": null,
            "grid_gap": null,
            "grid_row": null,
            "grid_template_areas": null,
            "grid_template_columns": null,
            "grid_template_rows": null,
            "height": null,
            "justify_content": null,
            "justify_items": null,
            "left": null,
            "margin": null,
            "max_height": null,
            "max_width": null,
            "min_height": null,
            "min_width": null,
            "object_fit": null,
            "object_position": null,
            "order": null,
            "overflow": null,
            "overflow_x": null,
            "overflow_y": null,
            "padding": null,
            "right": null,
            "top": null,
            "visibility": null,
            "width": null
          }
        },
        "dfa343ffc00f4fe79b2c8b8a4022f55d": {
          "model_module": "@jupyter-widgets/controls",
          "model_name": "ProgressStyleModel",
          "model_module_version": "1.5.0",
          "state": {
            "_model_module": "@jupyter-widgets/controls",
            "_model_module_version": "1.5.0",
            "_model_name": "ProgressStyleModel",
            "_view_count": null,
            "_view_module": "@jupyter-widgets/base",
            "_view_module_version": "1.2.0",
            "_view_name": "StyleView",
            "bar_color": null,
            "description_width": ""
          }
        },
        "88195bd2425d489193cc31a2578843d6": {
          "model_module": "@jupyter-widgets/base",
          "model_name": "LayoutModel",
          "model_module_version": "1.2.0",
          "state": {
            "_model_module": "@jupyter-widgets/base",
            "_model_module_version": "1.2.0",
            "_model_name": "LayoutModel",
            "_view_count": null,
            "_view_module": "@jupyter-widgets/base",
            "_view_module_version": "1.2.0",
            "_view_name": "LayoutView",
            "align_content": null,
            "align_items": null,
            "align_self": null,
            "border": null,
            "bottom": null,
            "display": null,
            "flex": null,
            "flex_flow": null,
            "grid_area": null,
            "grid_auto_columns": null,
            "grid_auto_flow": null,
            "grid_auto_rows": null,
            "grid_column": null,
            "grid_gap": null,
            "grid_row": null,
            "grid_template_areas": null,
            "grid_template_columns": null,
            "grid_template_rows": null,
            "height": null,
            "justify_content": null,
            "justify_items": null,
            "left": null,
            "margin": null,
            "max_height": null,
            "max_width": null,
            "min_height": null,
            "min_width": null,
            "object_fit": null,
            "object_position": null,
            "order": null,
            "overflow": null,
            "overflow_x": null,
            "overflow_y": null,
            "padding": null,
            "right": null,
            "top": null,
            "visibility": null,
            "width": null
          }
        },
        "bffda45e3e3b4166ad3e477a8a7c3de1": {
          "model_module": "@jupyter-widgets/controls",
          "model_name": "DescriptionStyleModel",
          "model_module_version": "1.5.0",
          "state": {
            "_model_module": "@jupyter-widgets/controls",
            "_model_module_version": "1.5.0",
            "_model_name": "DescriptionStyleModel",
            "_view_count": null,
            "_view_module": "@jupyter-widgets/base",
            "_view_module_version": "1.2.0",
            "_view_name": "StyleView",
            "description_width": ""
          }
        }
      }
    }
  },
  "cells": [
    {
      "cell_type": "code",
      "source": [
        "# !pip install datasets\n",
        "# !pip install transformers\n",
        "# !pip install -U accelerate\n",
        "# !pip install optuna\n",
        "# !pip install shap\n",
        "# !pip install lime\n",
        "# !pip install transformers-interpret\n",
        "# !pip install omnixai\n",
        "# !pip install ipython>=8.10.0\n",
        "# !pip install captum\n",
        "# !pip install git+https://github.com/yidinghao/interpreting-nlp\n",
        "# !pip install yattag\n",
        "\n",
        "# !pip install pyarabic"
      ],
      "metadata": {
        "id": "H7jYB7rgGW1m"
      },
      "execution_count": 1,
      "outputs": []
    },
    {
      "cell_type": "markdown",
      "source": [
        "#Data"
      ],
      "metadata": {
        "id": "csh2ZF7cWBlD"
      }
    },
    {
      "cell_type": "code",
      "execution_count": 2,
      "metadata": {
        "id": "LhsxCvYGEsT-"
      },
      "outputs": [],
      "source": [
        "import pickle\n",
        "\n",
        "with open('train_final.pkl', 'rb') as f:\n",
        "    X_train = pickle.load(f)\n",
        "\n",
        "with open('test_final.pkl', 'rb') as f:\n",
        "    X_test = pickle.load(f)\n",
        "\n",
        "with open('val_final.pkl', 'rb') as f:\n",
        "    X_dev = pickle.load(f)"
      ]
    },
    {
      "cell_type": "code",
      "source": [
        "label_to_class = {\n",
        "    0: 'none',\n",
        "    1: 'anger',\n",
        "    2: 'joy',\n",
        "    3: 'sadness',\n",
        "    4: 'love',\n",
        "    5: 'sympathy',\n",
        "    6: 'surprise',\n",
        "    7: 'fear'\n",
        "}\n",
        "\n",
        "classes = ['none', 'anger', 'joy', 'sadness', 'love', 'sympathy', 'surprise', 'fear']"
      ],
      "metadata": {
        "id": "bpMubmmTqcsn"
      },
      "execution_count": 3,
      "outputs": []
    },
    {
      "cell_type": "code",
      "source": [
        "X_train.head()"
      ],
      "metadata": {
        "id": "8LHRao68FcI9",
        "colab": {
          "base_uri": "https://localhost:8080/",
          "height": 449
        },
        "outputId": "32281e74-0261-41d1-aa6f-502382632fa8"
      },
      "execution_count": 4,
      "outputs": [
        {
          "output_type": "execute_result",
          "data": {
            "text/plain": [
              "                                                  tweet  label  \\\n",
              "5081  1996   يا مهند ياحبيبي انت تدور لبش مع اي احد ...      1   \n",
              "8264  حلب عفرين  اعتقال عشرات الشباب من قريه باسوطه ...      3   \n",
              "9777             انا نفسي مره اجرب اكون ليك حد اقرب : )      3   \n",
              "740   الصراحه احساس مخزي ونحن نكتفي بالتمثيل المشرف ...      3   \n",
              "6537  57   عاجل الايطالي فابيو باسل يفوز بدهب الاولي...      0   \n",
              "\n",
              "                                  tweet_with_out_emojis  \\\n",
              "5081  1996   يا مهند ياحبيبي انت تدور لبش مع اي احد ...   \n",
              "8264  حلب عفرين  اعتقال عشرات الشباب من قريه باسوطه ...   \n",
              "9777             انا نفسي مره اجرب اكون ليك حد اقرب : )   \n",
              "740   الصراحه احساس مخزي ونحن نكتفي بالتمثيل المشرف ...   \n",
              "6537  57   عاجل الايطالي فابيو باسل يفوز بدهب الاولي...   \n",
              "\n",
              "                                           cleaned_data  \\\n",
              "5081        مهند ياحبيبي تدور لبش متاكد ابو جاسم مايدري   \n",
              "8264  حلب عفرين اعتقال عشرات الشباب قريه باسوطه ريف ...   \n",
              "9777                             مره اجرب اكون ليك اقرب   \n",
              "740   الصراحه احساس مخزي نكتفي بالتمثيل المشرف الاول...   \n",
              "6537  عاجل الايطالي فابيو باسل يفوز بدهب الاوليمبياد...   \n",
              "\n",
              "                                          Root Stemming  \\\n",
              "5081                   هند حبب تدر لبش تكد ابو جسم ايدر   \n",
              "8264  حلب عفر عقل عشر شبب قره بسط ريف عفر قوت هرب عش...   \n",
              "9777                                مره جرب اكن ليك قرب   \n",
              "740           صرح حسس خزي كتف شرف اوليمبياد عوز صحه ريض   \n",
              "6537  عجل يطل ابو بسل يفز دهب اوليمبياد جودو بطل علم...   \n",
              "\n",
              "                                         Light Stemming  \n",
              "5081        مهند ياحبيبي تدور لبش متاكد ابو جاسم مايدري  \n",
              "8264  حلب عفر اعتقال عشر الشباب قريه باسوطه ريف عفر ...  \n",
              "9777                             مره اجرب اكون ليك اقرب  \n",
              "740   الصراحه احساس مخزي نكتفي بالتمثيل المشرف الاول...  \n",
              "6537  عاجل الايطالي فابيو باسل يفوز بدهب الاوليمبياد...  "
            ],
            "text/html": [
              "\n",
              "  <div id=\"df-58a5e747-ecca-48ad-a39b-04d5726d1293\" class=\"colab-df-container\">\n",
              "    <div>\n",
              "<style scoped>\n",
              "    .dataframe tbody tr th:only-of-type {\n",
              "        vertical-align: middle;\n",
              "    }\n",
              "\n",
              "    .dataframe tbody tr th {\n",
              "        vertical-align: top;\n",
              "    }\n",
              "\n",
              "    .dataframe thead th {\n",
              "        text-align: right;\n",
              "    }\n",
              "</style>\n",
              "<table border=\"1\" class=\"dataframe\">\n",
              "  <thead>\n",
              "    <tr style=\"text-align: right;\">\n",
              "      <th></th>\n",
              "      <th>tweet</th>\n",
              "      <th>label</th>\n",
              "      <th>tweet_with_out_emojis</th>\n",
              "      <th>cleaned_data</th>\n",
              "      <th>Root Stemming</th>\n",
              "      <th>Light Stemming</th>\n",
              "    </tr>\n",
              "  </thead>\n",
              "  <tbody>\n",
              "    <tr>\n",
              "      <th>5081</th>\n",
              "      <td>1996   يا مهند ياحبيبي انت تدور لبش مع اي احد ...</td>\n",
              "      <td>1</td>\n",
              "      <td>1996   يا مهند ياحبيبي انت تدور لبش مع اي احد ...</td>\n",
              "      <td>مهند ياحبيبي تدور لبش متاكد ابو جاسم مايدري</td>\n",
              "      <td>هند حبب تدر لبش تكد ابو جسم ايدر</td>\n",
              "      <td>مهند ياحبيبي تدور لبش متاكد ابو جاسم مايدري</td>\n",
              "    </tr>\n",
              "    <tr>\n",
              "      <th>8264</th>\n",
              "      <td>حلب عفرين  اعتقال عشرات الشباب من قريه باسوطه ...</td>\n",
              "      <td>3</td>\n",
              "      <td>حلب عفرين  اعتقال عشرات الشباب من قريه باسوطه ...</td>\n",
              "      <td>حلب عفرين اعتقال عشرات الشباب قريه باسوطه ريف ...</td>\n",
              "      <td>حلب عفر عقل عشر شبب قره بسط ريف عفر قوت هرب عش...</td>\n",
              "      <td>حلب عفر اعتقال عشر الشباب قريه باسوطه ريف عفر ...</td>\n",
              "    </tr>\n",
              "    <tr>\n",
              "      <th>9777</th>\n",
              "      <td>انا نفسي مره اجرب اكون ليك حد اقرب : )</td>\n",
              "      <td>3</td>\n",
              "      <td>انا نفسي مره اجرب اكون ليك حد اقرب : )</td>\n",
              "      <td>مره اجرب اكون ليك اقرب</td>\n",
              "      <td>مره جرب اكن ليك قرب</td>\n",
              "      <td>مره اجرب اكون ليك اقرب</td>\n",
              "    </tr>\n",
              "    <tr>\n",
              "      <th>740</th>\n",
              "      <td>الصراحه احساس مخزي ونحن نكتفي بالتمثيل المشرف ...</td>\n",
              "      <td>3</td>\n",
              "      <td>الصراحه احساس مخزي ونحن نكتفي بالتمثيل المشرف ...</td>\n",
              "      <td>الصراحه احساس مخزي نكتفي بالتمثيل المشرف الاول...</td>\n",
              "      <td>صرح حسس خزي كتف شرف اوليمبياد عوز صحه ريض</td>\n",
              "      <td>الصراحه احساس مخزي نكتفي بالتمثيل المشرف الاول...</td>\n",
              "    </tr>\n",
              "    <tr>\n",
              "      <th>6537</th>\n",
              "      <td>57   عاجل الايطالي فابيو باسل يفوز بدهب الاولي...</td>\n",
              "      <td>0</td>\n",
              "      <td>57   عاجل الايطالي فابيو باسل يفوز بدهب الاولي...</td>\n",
              "      <td>عاجل الايطالي فابيو باسل يفوز بدهب الاوليمبياد...</td>\n",
              "      <td>عجل يطل ابو بسل يفز دهب اوليمبياد جودو بطل علم...</td>\n",
              "      <td>عاجل الايطالي فابيو باسل يفوز بدهب الاوليمبياد...</td>\n",
              "    </tr>\n",
              "  </tbody>\n",
              "</table>\n",
              "</div>\n",
              "    <div class=\"colab-df-buttons\">\n",
              "\n",
              "  <div class=\"colab-df-container\">\n",
              "    <button class=\"colab-df-convert\" onclick=\"convertToInteractive('df-58a5e747-ecca-48ad-a39b-04d5726d1293')\"\n",
              "            title=\"Convert this dataframe to an interactive table.\"\n",
              "            style=\"display:none;\">\n",
              "\n",
              "  <svg xmlns=\"http://www.w3.org/2000/svg\" height=\"24px\" viewBox=\"0 -960 960 960\">\n",
              "    <path d=\"M120-120v-720h720v720H120Zm60-500h600v-160H180v160Zm220 220h160v-160H400v160Zm0 220h160v-160H400v160ZM180-400h160v-160H180v160Zm440 0h160v-160H620v160ZM180-180h160v-160H180v160Zm440 0h160v-160H620v160Z\"/>\n",
              "  </svg>\n",
              "    </button>\n",
              "\n",
              "  <style>\n",
              "    .colab-df-container {\n",
              "      display:flex;\n",
              "      gap: 12px;\n",
              "    }\n",
              "\n",
              "    .colab-df-convert {\n",
              "      background-color: #E8F0FE;\n",
              "      border: none;\n",
              "      border-radius: 50%;\n",
              "      cursor: pointer;\n",
              "      display: none;\n",
              "      fill: #1967D2;\n",
              "      height: 32px;\n",
              "      padding: 0 0 0 0;\n",
              "      width: 32px;\n",
              "    }\n",
              "\n",
              "    .colab-df-convert:hover {\n",
              "      background-color: #E2EBFA;\n",
              "      box-shadow: 0px 1px 2px rgba(60, 64, 67, 0.3), 0px 1px 3px 1px rgba(60, 64, 67, 0.15);\n",
              "      fill: #174EA6;\n",
              "    }\n",
              "\n",
              "    .colab-df-buttons div {\n",
              "      margin-bottom: 4px;\n",
              "    }\n",
              "\n",
              "    [theme=dark] .colab-df-convert {\n",
              "      background-color: #3B4455;\n",
              "      fill: #D2E3FC;\n",
              "    }\n",
              "\n",
              "    [theme=dark] .colab-df-convert:hover {\n",
              "      background-color: #434B5C;\n",
              "      box-shadow: 0px 1px 3px 1px rgba(0, 0, 0, 0.15);\n",
              "      filter: drop-shadow(0px 1px 2px rgba(0, 0, 0, 0.3));\n",
              "      fill: #FFFFFF;\n",
              "    }\n",
              "  </style>\n",
              "\n",
              "    <script>\n",
              "      const buttonEl =\n",
              "        document.querySelector('#df-58a5e747-ecca-48ad-a39b-04d5726d1293 button.colab-df-convert');\n",
              "      buttonEl.style.display =\n",
              "        google.colab.kernel.accessAllowed ? 'block' : 'none';\n",
              "\n",
              "      async function convertToInteractive(key) {\n",
              "        const element = document.querySelector('#df-58a5e747-ecca-48ad-a39b-04d5726d1293');\n",
              "        const dataTable =\n",
              "          await google.colab.kernel.invokeFunction('convertToInteractive',\n",
              "                                                    [key], {});\n",
              "        if (!dataTable) return;\n",
              "\n",
              "        const docLinkHtml = 'Like what you see? Visit the ' +\n",
              "          '<a target=\"_blank\" href=https://colab.research.google.com/notebooks/data_table.ipynb>data table notebook</a>'\n",
              "          + ' to learn more about interactive tables.';\n",
              "        element.innerHTML = '';\n",
              "        dataTable['output_type'] = 'display_data';\n",
              "        await google.colab.output.renderOutput(dataTable, element);\n",
              "        const docLink = document.createElement('div');\n",
              "        docLink.innerHTML = docLinkHtml;\n",
              "        element.appendChild(docLink);\n",
              "      }\n",
              "    </script>\n",
              "  </div>\n",
              "\n",
              "\n",
              "<div id=\"df-4918fdf4-55b1-4045-bdc5-ad96e69e3779\">\n",
              "  <button class=\"colab-df-quickchart\" onclick=\"quickchart('df-4918fdf4-55b1-4045-bdc5-ad96e69e3779')\"\n",
              "            title=\"Suggest charts.\"\n",
              "            style=\"display:none;\">\n",
              "\n",
              "<svg xmlns=\"http://www.w3.org/2000/svg\" height=\"24px\"viewBox=\"0 0 24 24\"\n",
              "     width=\"24px\">\n",
              "    <g>\n",
              "        <path d=\"M19 3H5c-1.1 0-2 .9-2 2v14c0 1.1.9 2 2 2h14c1.1 0 2-.9 2-2V5c0-1.1-.9-2-2-2zM9 17H7v-7h2v7zm4 0h-2V7h2v10zm4 0h-2v-4h2v4z\"/>\n",
              "    </g>\n",
              "</svg>\n",
              "  </button>\n",
              "\n",
              "<style>\n",
              "  .colab-df-quickchart {\n",
              "    background-color: #E8F0FE;\n",
              "    border: none;\n",
              "    border-radius: 50%;\n",
              "    cursor: pointer;\n",
              "    display: none;\n",
              "    fill: #1967D2;\n",
              "    height: 32px;\n",
              "    padding: 0 0 0 0;\n",
              "    width: 32px;\n",
              "  }\n",
              "\n",
              "  .colab-df-quickchart:hover {\n",
              "    background-color: #E2EBFA;\n",
              "    box-shadow: 0px 1px 2px rgba(60, 64, 67, 0.3), 0px 1px 3px 1px rgba(60, 64, 67, 0.15);\n",
              "    fill: #174EA6;\n",
              "  }\n",
              "\n",
              "  [theme=dark] .colab-df-quickchart {\n",
              "    background-color: #3B4455;\n",
              "    fill: #D2E3FC;\n",
              "  }\n",
              "\n",
              "  [theme=dark] .colab-df-quickchart:hover {\n",
              "    background-color: #434B5C;\n",
              "    box-shadow: 0px 1px 3px 1px rgba(0, 0, 0, 0.15);\n",
              "    filter: drop-shadow(0px 1px 2px rgba(0, 0, 0, 0.3));\n",
              "    fill: #FFFFFF;\n",
              "  }\n",
              "</style>\n",
              "\n",
              "  <script>\n",
              "    async function quickchart(key) {\n",
              "      const charts = await google.colab.kernel.invokeFunction(\n",
              "          'suggestCharts', [key], {});\n",
              "    }\n",
              "    (() => {\n",
              "      let quickchartButtonEl =\n",
              "        document.querySelector('#df-4918fdf4-55b1-4045-bdc5-ad96e69e3779 button');\n",
              "      quickchartButtonEl.style.display =\n",
              "        google.colab.kernel.accessAllowed ? 'block' : 'none';\n",
              "    })();\n",
              "  </script>\n",
              "</div>\n",
              "    </div>\n",
              "  </div>\n"
            ]
          },
          "metadata": {},
          "execution_count": 4
        }
      ]
    },
    {
      "cell_type": "code",
      "source": [
        "X_train = X_train[['tweet', 'tweet_with_out_emojis', 'label']]\n",
        "y_train = X_train['label']\n",
        "X_test = X_test[['tweet', 'tweet_with_out_emojis', 'label']]\n",
        "y_test = X_test['label']\n",
        "X_dev = X_dev[['tweet', 'tweet_with_out_emojis', 'label']]\n",
        "y_dev = X_dev['label']"
      ],
      "metadata": {
        "id": "JEVyBBZAIzdw"
      },
      "execution_count": 5,
      "outputs": []
    },
    {
      "cell_type": "code",
      "source": [
        "X_train.shape, X_test.shape, X_dev.shape"
      ],
      "metadata": {
        "id": "7jdX0XJYKrcO",
        "colab": {
          "base_uri": "https://localhost:8080/"
        },
        "outputId": "59c34aa4-9015-4f1a-91b7-5861a13c1bc9"
      },
      "execution_count": 6,
      "outputs": [
        {
          "output_type": "execute_result",
          "data": {
            "text/plain": [
              "((7045, 3), (1510, 3), (1510, 3))"
            ]
          },
          "metadata": {},
          "execution_count": 6
        }
      ]
    },
    {
      "cell_type": "code",
      "source": [
        "X_train"
      ],
      "metadata": {
        "id": "6uAuyneeoHV7",
        "colab": {
          "base_uri": "https://localhost:8080/",
          "height": 424
        },
        "outputId": "2a493ac3-ed98-403b-fbba-85ed76e9742a"
      },
      "execution_count": 7,
      "outputs": [
        {
          "output_type": "execute_result",
          "data": {
            "text/plain": [
              "                                                  tweet  \\\n",
              "5081  1996   يا مهند ياحبيبي انت تدور لبش مع اي احد ...   \n",
              "8264  حلب عفرين  اعتقال عشرات الشباب من قريه باسوطه ...   \n",
              "9777             انا نفسي مره اجرب اكون ليك حد اقرب : )   \n",
              "740   الصراحه احساس مخزي ونحن نكتفي بالتمثيل المشرف ...   \n",
              "6537  57   عاجل الايطالي فابيو باسل يفوز بدهب الاولي...   \n",
              "...                                                 ...   \n",
              "5734  احمد الاحمر اوحش لاعب في الاوليمبياد ... اخره ...   \n",
              "5191                               انتي كان قصدك عليا !   \n",
              "5390  يا جدعان لو سمحتوا مش كل واحد عنده ميتين ام عق...   \n",
              "860        هتودينا في دهيا يا بلال ارحمنا ده مش وقت قلش   \n",
              "7270  شعب جمهوريه مصر العربيه يهنئ دوله القوات المسل...   \n",
              "\n",
              "                                  tweet_with_out_emojis  label  \n",
              "5081  1996   يا مهند ياحبيبي انت تدور لبش مع اي احد ...      1  \n",
              "8264  حلب عفرين  اعتقال عشرات الشباب من قريه باسوطه ...      3  \n",
              "9777             انا نفسي مره اجرب اكون ليك حد اقرب : )      3  \n",
              "740   الصراحه احساس مخزي ونحن نكتفي بالتمثيل المشرف ...      3  \n",
              "6537  57   عاجل الايطالي فابيو باسل يفوز بدهب الاولي...      0  \n",
              "...                                                 ...    ...  \n",
              "5734  احمد الاحمر اوحش لاعب في الاوليمبياد ... اخره ...      3  \n",
              "5191                               انتي كان قصدك عليا !      6  \n",
              "5390  يا جدعان لو سمحتوا مش كل واحد عنده ميتين ام عق...      1  \n",
              "860        هتودينا في دهيا يا بلال ارحمنا ده مش وقت قلش      1  \n",
              "7270  شعب جمهوريه مصر العربيه يهنئ دوله القوات المسل...      1  \n",
              "\n",
              "[7045 rows x 3 columns]"
            ],
            "text/html": [
              "\n",
              "  <div id=\"df-5c006de8-7a48-4c32-a333-fdba70c3a6d2\" class=\"colab-df-container\">\n",
              "    <div>\n",
              "<style scoped>\n",
              "    .dataframe tbody tr th:only-of-type {\n",
              "        vertical-align: middle;\n",
              "    }\n",
              "\n",
              "    .dataframe tbody tr th {\n",
              "        vertical-align: top;\n",
              "    }\n",
              "\n",
              "    .dataframe thead th {\n",
              "        text-align: right;\n",
              "    }\n",
              "</style>\n",
              "<table border=\"1\" class=\"dataframe\">\n",
              "  <thead>\n",
              "    <tr style=\"text-align: right;\">\n",
              "      <th></th>\n",
              "      <th>tweet</th>\n",
              "      <th>tweet_with_out_emojis</th>\n",
              "      <th>label</th>\n",
              "    </tr>\n",
              "  </thead>\n",
              "  <tbody>\n",
              "    <tr>\n",
              "      <th>5081</th>\n",
              "      <td>1996   يا مهند ياحبيبي انت تدور لبش مع اي احد ...</td>\n",
              "      <td>1996   يا مهند ياحبيبي انت تدور لبش مع اي احد ...</td>\n",
              "      <td>1</td>\n",
              "    </tr>\n",
              "    <tr>\n",
              "      <th>8264</th>\n",
              "      <td>حلب عفرين  اعتقال عشرات الشباب من قريه باسوطه ...</td>\n",
              "      <td>حلب عفرين  اعتقال عشرات الشباب من قريه باسوطه ...</td>\n",
              "      <td>3</td>\n",
              "    </tr>\n",
              "    <tr>\n",
              "      <th>9777</th>\n",
              "      <td>انا نفسي مره اجرب اكون ليك حد اقرب : )</td>\n",
              "      <td>انا نفسي مره اجرب اكون ليك حد اقرب : )</td>\n",
              "      <td>3</td>\n",
              "    </tr>\n",
              "    <tr>\n",
              "      <th>740</th>\n",
              "      <td>الصراحه احساس مخزي ونحن نكتفي بالتمثيل المشرف ...</td>\n",
              "      <td>الصراحه احساس مخزي ونحن نكتفي بالتمثيل المشرف ...</td>\n",
              "      <td>3</td>\n",
              "    </tr>\n",
              "    <tr>\n",
              "      <th>6537</th>\n",
              "      <td>57   عاجل الايطالي فابيو باسل يفوز بدهب الاولي...</td>\n",
              "      <td>57   عاجل الايطالي فابيو باسل يفوز بدهب الاولي...</td>\n",
              "      <td>0</td>\n",
              "    </tr>\n",
              "    <tr>\n",
              "      <th>...</th>\n",
              "      <td>...</td>\n",
              "      <td>...</td>\n",
              "      <td>...</td>\n",
              "    </tr>\n",
              "    <tr>\n",
              "      <th>5734</th>\n",
              "      <td>احمد الاحمر اوحش لاعب في الاوليمبياد ... اخره ...</td>\n",
              "      <td>احمد الاحمر اوحش لاعب في الاوليمبياد ... اخره ...</td>\n",
              "      <td>3</td>\n",
              "    </tr>\n",
              "    <tr>\n",
              "      <th>5191</th>\n",
              "      <td>انتي كان قصدك عليا !</td>\n",
              "      <td>انتي كان قصدك عليا !</td>\n",
              "      <td>6</td>\n",
              "    </tr>\n",
              "    <tr>\n",
              "      <th>5390</th>\n",
              "      <td>يا جدعان لو سمحتوا مش كل واحد عنده ميتين ام عق...</td>\n",
              "      <td>يا جدعان لو سمحتوا مش كل واحد عنده ميتين ام عق...</td>\n",
              "      <td>1</td>\n",
              "    </tr>\n",
              "    <tr>\n",
              "      <th>860</th>\n",
              "      <td>هتودينا في دهيا يا بلال ارحمنا ده مش وقت قلش</td>\n",
              "      <td>هتودينا في دهيا يا بلال ارحمنا ده مش وقت قلش</td>\n",
              "      <td>1</td>\n",
              "    </tr>\n",
              "    <tr>\n",
              "      <th>7270</th>\n",
              "      <td>شعب جمهوريه مصر العربيه يهنئ دوله القوات المسل...</td>\n",
              "      <td>شعب جمهوريه مصر العربيه يهنئ دوله القوات المسل...</td>\n",
              "      <td>1</td>\n",
              "    </tr>\n",
              "  </tbody>\n",
              "</table>\n",
              "<p>7045 rows × 3 columns</p>\n",
              "</div>\n",
              "    <div class=\"colab-df-buttons\">\n",
              "\n",
              "  <div class=\"colab-df-container\">\n",
              "    <button class=\"colab-df-convert\" onclick=\"convertToInteractive('df-5c006de8-7a48-4c32-a333-fdba70c3a6d2')\"\n",
              "            title=\"Convert this dataframe to an interactive table.\"\n",
              "            style=\"display:none;\">\n",
              "\n",
              "  <svg xmlns=\"http://www.w3.org/2000/svg\" height=\"24px\" viewBox=\"0 -960 960 960\">\n",
              "    <path d=\"M120-120v-720h720v720H120Zm60-500h600v-160H180v160Zm220 220h160v-160H400v160Zm0 220h160v-160H400v160ZM180-400h160v-160H180v160Zm440 0h160v-160H620v160ZM180-180h160v-160H180v160Zm440 0h160v-160H620v160Z\"/>\n",
              "  </svg>\n",
              "    </button>\n",
              "\n",
              "  <style>\n",
              "    .colab-df-container {\n",
              "      display:flex;\n",
              "      gap: 12px;\n",
              "    }\n",
              "\n",
              "    .colab-df-convert {\n",
              "      background-color: #E8F0FE;\n",
              "      border: none;\n",
              "      border-radius: 50%;\n",
              "      cursor: pointer;\n",
              "      display: none;\n",
              "      fill: #1967D2;\n",
              "      height: 32px;\n",
              "      padding: 0 0 0 0;\n",
              "      width: 32px;\n",
              "    }\n",
              "\n",
              "    .colab-df-convert:hover {\n",
              "      background-color: #E2EBFA;\n",
              "      box-shadow: 0px 1px 2px rgba(60, 64, 67, 0.3), 0px 1px 3px 1px rgba(60, 64, 67, 0.15);\n",
              "      fill: #174EA6;\n",
              "    }\n",
              "\n",
              "    .colab-df-buttons div {\n",
              "      margin-bottom: 4px;\n",
              "    }\n",
              "\n",
              "    [theme=dark] .colab-df-convert {\n",
              "      background-color: #3B4455;\n",
              "      fill: #D2E3FC;\n",
              "    }\n",
              "\n",
              "    [theme=dark] .colab-df-convert:hover {\n",
              "      background-color: #434B5C;\n",
              "      box-shadow: 0px 1px 3px 1px rgba(0, 0, 0, 0.15);\n",
              "      filter: drop-shadow(0px 1px 2px rgba(0, 0, 0, 0.3));\n",
              "      fill: #FFFFFF;\n",
              "    }\n",
              "  </style>\n",
              "\n",
              "    <script>\n",
              "      const buttonEl =\n",
              "        document.querySelector('#df-5c006de8-7a48-4c32-a333-fdba70c3a6d2 button.colab-df-convert');\n",
              "      buttonEl.style.display =\n",
              "        google.colab.kernel.accessAllowed ? 'block' : 'none';\n",
              "\n",
              "      async function convertToInteractive(key) {\n",
              "        const element = document.querySelector('#df-5c006de8-7a48-4c32-a333-fdba70c3a6d2');\n",
              "        const dataTable =\n",
              "          await google.colab.kernel.invokeFunction('convertToInteractive',\n",
              "                                                    [key], {});\n",
              "        if (!dataTable) return;\n",
              "\n",
              "        const docLinkHtml = 'Like what you see? Visit the ' +\n",
              "          '<a target=\"_blank\" href=https://colab.research.google.com/notebooks/data_table.ipynb>data table notebook</a>'\n",
              "          + ' to learn more about interactive tables.';\n",
              "        element.innerHTML = '';\n",
              "        dataTable['output_type'] = 'display_data';\n",
              "        await google.colab.output.renderOutput(dataTable, element);\n",
              "        const docLink = document.createElement('div');\n",
              "        docLink.innerHTML = docLinkHtml;\n",
              "        element.appendChild(docLink);\n",
              "      }\n",
              "    </script>\n",
              "  </div>\n",
              "\n",
              "\n",
              "<div id=\"df-98d7ff06-5cf8-4a50-9f70-9599d3e891e7\">\n",
              "  <button class=\"colab-df-quickchart\" onclick=\"quickchart('df-98d7ff06-5cf8-4a50-9f70-9599d3e891e7')\"\n",
              "            title=\"Suggest charts.\"\n",
              "            style=\"display:none;\">\n",
              "\n",
              "<svg xmlns=\"http://www.w3.org/2000/svg\" height=\"24px\"viewBox=\"0 0 24 24\"\n",
              "     width=\"24px\">\n",
              "    <g>\n",
              "        <path d=\"M19 3H5c-1.1 0-2 .9-2 2v14c0 1.1.9 2 2 2h14c1.1 0 2-.9 2-2V5c0-1.1-.9-2-2-2zM9 17H7v-7h2v7zm4 0h-2V7h2v10zm4 0h-2v-4h2v4z\"/>\n",
              "    </g>\n",
              "</svg>\n",
              "  </button>\n",
              "\n",
              "<style>\n",
              "  .colab-df-quickchart {\n",
              "    background-color: #E8F0FE;\n",
              "    border: none;\n",
              "    border-radius: 50%;\n",
              "    cursor: pointer;\n",
              "    display: none;\n",
              "    fill: #1967D2;\n",
              "    height: 32px;\n",
              "    padding: 0 0 0 0;\n",
              "    width: 32px;\n",
              "  }\n",
              "\n",
              "  .colab-df-quickchart:hover {\n",
              "    background-color: #E2EBFA;\n",
              "    box-shadow: 0px 1px 2px rgba(60, 64, 67, 0.3), 0px 1px 3px 1px rgba(60, 64, 67, 0.15);\n",
              "    fill: #174EA6;\n",
              "  }\n",
              "\n",
              "  [theme=dark] .colab-df-quickchart {\n",
              "    background-color: #3B4455;\n",
              "    fill: #D2E3FC;\n",
              "  }\n",
              "\n",
              "  [theme=dark] .colab-df-quickchart:hover {\n",
              "    background-color: #434B5C;\n",
              "    box-shadow: 0px 1px 3px 1px rgba(0, 0, 0, 0.15);\n",
              "    filter: drop-shadow(0px 1px 2px rgba(0, 0, 0, 0.3));\n",
              "    fill: #FFFFFF;\n",
              "  }\n",
              "</style>\n",
              "\n",
              "  <script>\n",
              "    async function quickchart(key) {\n",
              "      const charts = await google.colab.kernel.invokeFunction(\n",
              "          'suggestCharts', [key], {});\n",
              "    }\n",
              "    (() => {\n",
              "      let quickchartButtonEl =\n",
              "        document.querySelector('#df-98d7ff06-5cf8-4a50-9f70-9599d3e891e7 button');\n",
              "      quickchartButtonEl.style.display =\n",
              "        google.colab.kernel.accessAllowed ? 'block' : 'none';\n",
              "    })();\n",
              "  </script>\n",
              "</div>\n",
              "    </div>\n",
              "  </div>\n"
            ]
          },
          "metadata": {},
          "execution_count": 7
        }
      ]
    },
    {
      "cell_type": "code",
      "source": [
        "X_train = X_train.rename_axis('id')\n",
        "X_test = X_test.rename_axis('id')\n",
        "X_dev = X_dev.rename_axis('id')\n",
        "\n",
        "X_train = X_train.reset_index(drop=True)\n",
        "X_test = X_test.reset_index(drop=True)\n",
        "X_dev = X_dev.reset_index(drop=True)"
      ],
      "metadata": {
        "id": "-RdzhhxyHXg7"
      },
      "execution_count": 8,
      "outputs": []
    },
    {
      "cell_type": "code",
      "source": [
        "from datasets import Dataset\n",
        "\n",
        "X_train = Dataset.from_pandas(X_train)\n",
        "X_test = Dataset.from_pandas(X_test)\n",
        "X_dev = Dataset.from_pandas(X_dev)\n",
        "X_train, X_test, X_dev"
      ],
      "metadata": {
        "id": "qc7-BJMiIaZC",
        "colab": {
          "base_uri": "https://localhost:8080/"
        },
        "outputId": "b8fc5ec9-9446-467f-f02c-bcf85e0c113e"
      },
      "execution_count": 9,
      "outputs": [
        {
          "output_type": "execute_result",
          "data": {
            "text/plain": [
              "(Dataset({\n",
              "     features: ['tweet', 'tweet_with_out_emojis', 'label'],\n",
              "     num_rows: 7045\n",
              " }),\n",
              " Dataset({\n",
              "     features: ['tweet', 'tweet_with_out_emojis', 'label'],\n",
              "     num_rows: 1510\n",
              " }),\n",
              " Dataset({\n",
              "     features: ['tweet', 'tweet_with_out_emojis', 'label'],\n",
              "     num_rows: 1510\n",
              " }))"
            ]
          },
          "metadata": {},
          "execution_count": 9
        }
      ]
    },
    {
      "cell_type": "markdown",
      "source": [
        "#Transformer"
      ],
      "metadata": {
        "id": "Q3B8qS0QWFvM"
      }
    },
    {
      "cell_type": "markdown",
      "source": [
        "##Setup"
      ],
      "metadata": {
        "id": "bCGRNdQtmMto"
      }
    },
    {
      "cell_type": "code",
      "source": [
        "model_checkpoint = 'UBC-NLP/MARBERTv2'"
      ],
      "metadata": {
        "id": "WHKu53ZSiC8b"
      },
      "execution_count": 10,
      "outputs": []
    },
    {
      "cell_type": "code",
      "source": [
        "from transformers import AutoTokenizer\n",
        "\n",
        "tokenizer = AutoTokenizer.from_pretrained(model_checkpoint, use_fast=True)"
      ],
      "metadata": {
        "id": "pLeZGwXl664j"
      },
      "execution_count": 11,
      "outputs": []
    },
    {
      "cell_type": "code",
      "source": [
        "from transformers import AutoModelForSequenceClassification\n",
        "# from interpret_nlp.modules.lrp_bert_modules import LRPBertForSequenceClassification\n",
        "\n",
        "model_init = lambda: AutoModelForSequenceClassification.from_pretrained(model_checkpoint, num_labels=8)\n",
        "# model_init = lambda: LRPBertForSequenceClassification.from_pretrained(model_checkpoint, num_labels=8)"
      ],
      "metadata": {
        "id": "H6zER1Dohtjp"
      },
      "execution_count": 12,
      "outputs": []
    },
    {
      "cell_type": "code",
      "source": [
        "def tokenize_function(examples):\n",
        "    return tokenizer(examples[\"tweet_with_out_emojis\"], padding=\"max_length\", truncation=True, max_length=37)\n",
        "\n",
        "X_train = X_train.map(tokenize_function, batched=True, num_proc = 8)\n",
        "X_dev = X_test.map(tokenize_function, batched=True, num_proc = 8)\n",
        "X_test = X_test.map(tokenize_function, batched=True, num_proc = 8)"
      ],
      "metadata": {
        "id": "e7lAiBIuJqJH",
        "colab": {
          "base_uri": "https://localhost:8080/",
          "referenced_widgets": [
            "f33d2c3c57644701ba2445267b8a052e",
            "59b2f7c56a3f455fa11718131c267311",
            "41bc9bfacf8e4f699c467950d86fb55c",
            "a2438a6f115249b3aa48e8411a8d1102",
            "59661f2ddf364878b4a75d12710aa50f",
            "075344b7604b4b849afba8da21ac9784",
            "baca096c57d847089bc38014e1f12fd5",
            "a17f3434bb15408cbacdd8442a344d95",
            "1d73b916f9714f708ebb972572906081",
            "7811c6ea2819406ba6d3ac2a10d753e0",
            "df7cbe3ad1ed4cca93bf03b8195f484c",
            "118288e9d9fc49fa97e6dafa4a4f82b9",
            "bb7493952bf44c74b15cac9b79898924",
            "169e4e57ca114162a789668834415176",
            "7acd89a4b9d643b0a33029a39cd6dd91",
            "42f6d48ea3ad4c4593bfb94e9ca81651",
            "39eb8ab7990a437d8d4a164ab91d0906",
            "e952708bb097430b9feea22546054c29",
            "f0b1ace6e62a4c2fb9c3ef2a4641d702",
            "bbe43df8f3fc4172919062606ecc0361",
            "da3254a1f53745d48e0e6740ee0fccec",
            "8e1a982ecc33422c870c3fbaac25f991",
            "a620c92e58be4ea2993262c62a46e8d0",
            "6da49c8311234330979199189110a1f3",
            "04f15173754646a0800e6e0e36a13e68",
            "7f34d0dfe0ed474e94bcced3cf367cd1",
            "515ba4d359a04e2d984d0be441faec3b",
            "1d383799712a42689d45466a23197a46",
            "40b4ef7c803046e19c77e16e23259624",
            "4ad9e496a1c94f299dce7fe5fa975ba1",
            "dfa343ffc00f4fe79b2c8b8a4022f55d",
            "88195bd2425d489193cc31a2578843d6",
            "bffda45e3e3b4166ad3e477a8a7c3de1"
          ],
          "height": 113
        },
        "outputId": "48a39d84-2821-4cd2-d0df-e248bc3a130a"
      },
      "execution_count": 13,
      "outputs": [
        {
          "output_type": "display_data",
          "data": {
            "text/plain": [
              "Map (num_proc=8):   0%|          | 0/7045 [00:00<?, ? examples/s]"
            ],
            "application/vnd.jupyter.widget-view+json": {
              "version_major": 2,
              "version_minor": 0,
              "model_id": "f33d2c3c57644701ba2445267b8a052e"
            }
          },
          "metadata": {}
        },
        {
          "output_type": "display_data",
          "data": {
            "text/plain": [
              "Map (num_proc=8):   0%|          | 0/1510 [00:00<?, ? examples/s]"
            ],
            "application/vnd.jupyter.widget-view+json": {
              "version_major": 2,
              "version_minor": 0,
              "model_id": "118288e9d9fc49fa97e6dafa4a4f82b9"
            }
          },
          "metadata": {}
        },
        {
          "output_type": "display_data",
          "data": {
            "text/plain": [
              "Map (num_proc=8):   0%|          | 0/1510 [00:00<?, ? examples/s]"
            ],
            "application/vnd.jupyter.widget-view+json": {
              "version_major": 2,
              "version_minor": 0,
              "model_id": "a620c92e58be4ea2993262c62a46e8d0"
            }
          },
          "metadata": {}
        }
      ]
    },
    {
      "cell_type": "code",
      "source": [
        "X_train"
      ],
      "metadata": {
        "id": "Wd9rUnFMKOkn",
        "colab": {
          "base_uri": "https://localhost:8080/"
        },
        "outputId": "bb2bbdc2-cce4-4a38-e442-a38eee6421b9"
      },
      "execution_count": 14,
      "outputs": [
        {
          "output_type": "execute_result",
          "data": {
            "text/plain": [
              "Dataset({\n",
              "    features: ['tweet', 'tweet_with_out_emojis', 'label', 'input_ids', 'token_type_ids', 'attention_mask'],\n",
              "    num_rows: 7045\n",
              "})"
            ]
          },
          "metadata": {},
          "execution_count": 14
        }
      ]
    },
    {
      "cell_type": "markdown",
      "source": [
        "##Model"
      ],
      "metadata": {
        "id": "_CEy123AmTmg"
      }
    },
    {
      "cell_type": "markdown",
      "source": [
        "###Train"
      ],
      "metadata": {
        "id": "y_bZ4eeOI_It"
      }
    },
    {
      "cell_type": "code",
      "source": [
        "import numpy as np\n",
        "from sklearn.metrics import (accuracy_score,\n",
        "                             f1_score,\n",
        "                             precision_score,\n",
        "                             recall_score\n",
        "                             )\n",
        "\n",
        "def compute_metrics(p):\n",
        "    preds = np.argmax(p.predictions, axis=1)\n",
        "    assert len(preds) == len(p.label_ids)\n",
        "\n",
        "    macro_f1 = f1_score(p.label_ids,preds,average='macro', zero_division=1)\n",
        "    macro_precision = precision_score(p.label_ids,preds,average='macro', zero_division=1)\n",
        "    macro_recall = recall_score(p.label_ids,preds,average='macro', zero_division=1)\n",
        "    acc = accuracy_score(p.label_ids,preds)\n",
        "    return {\n",
        "      'macro_f1' : macro_f1,\n",
        "      'macro_precision': macro_precision,\n",
        "      'macro_recall': macro_recall,\n",
        "      'accuracy': acc\n",
        "    }"
      ],
      "metadata": {
        "id": "II63X_2j937A"
      },
      "execution_count": 15,
      "outputs": []
    },
    {
      "cell_type": "code",
      "source": [
        "# best run parameters\n",
        "# dict_items([('learning_rate', 5.9572096694887074e-05), ('num_train_epochs', 4), ('seed', 34), ('per_device_train_batch_size', 16)])"
      ],
      "metadata": {
        "id": "iYYGFe72yEBT"
      },
      "execution_count": 16,
      "outputs": []
    },
    {
      "cell_type": "code",
      "source": [
        "from transformers import TrainingArguments, Trainer, EarlyStoppingCallback, IntervalStrategy\n",
        "\n",
        "batch_size = 16\n",
        "logging_steps = 100\n",
        "num_epochs = 4\n",
        "\n",
        "training_args = TrainingArguments(output_dir=\"./train\")\n",
        "training_args.do_train = True\n",
        "training_args.evaluate_during_training = True\n",
        "training_args.per_device_train_batch_size = batch_size\n",
        "training_args.per_device_eval_batch_size = batch_size\n",
        "training_args.evaluation_strategy = IntervalStrategy.STEPS\n",
        "training_args.num_train_epochs = num_epochs\n",
        "training_args.logging_steps = logging_steps\n",
        "training_args.eval_steps = logging_steps\n",
        "training_args.save_steps = 500\n",
        "training_args.save_total_limit = 5\n",
        "training_args.seed = 34\n",
        "training_args.learning_rate = 5.9572096694887074e-05\n",
        "training_args.load_best_model_at_end=True\n",
        "training_args.metric_for_best_model = 'macro_f1'"
      ],
      "metadata": {
        "id": "bD-Kqepe-A10"
      },
      "execution_count": 17,
      "outputs": []
    },
    {
      "cell_type": "code",
      "source": [
        "trainer = Trainer(\n",
        "    model_init=model_init,\n",
        "    args=training_args,\n",
        "    train_dataset=X_train,\n",
        "    eval_dataset=X_dev,\n",
        "    compute_metrics=compute_metrics,\n",
        "    callbacks=[EarlyStoppingCallback(early_stopping_patience=3)]\n",
        ")"
      ],
      "metadata": {
        "id": "s9Sl8eV4-C4G",
        "colab": {
          "base_uri": "https://localhost:8080/"
        },
        "outputId": "88834f57-595c-4f84-de72-a3727a65708e"
      },
      "execution_count": 18,
      "outputs": [
        {
          "output_type": "stream",
          "name": "stderr",
          "text": [
            "Some weights of BertForSequenceClassification were not initialized from the model checkpoint at UBC-NLP/MARBERTv2 and are newly initialized: ['classifier.bias', 'classifier.weight']\n",
            "You should probably TRAIN this model on a down-stream task to be able to use it for predictions and inference.\n"
          ]
        }
      ]
    },
    {
      "cell_type": "code",
      "source": [
        "best_run = trainer.hyperparameter_search(n_trials=10, direction=\"maximize\")\n",
        "# best_run"
      ],
      "metadata": {
        "id": "H6gCeWb0prkI",
        "colab": {
          "base_uri": "https://localhost:8080/",
          "height": 1000
        },
        "outputId": "e535348a-8d9e-4c27-cc9d-1a850d724820"
      },
      "execution_count": 19,
      "outputs": [
        {
          "output_type": "stream",
          "name": "stderr",
          "text": [
            "[I 2023-08-20 04:01:30,051] A new study created in memory with name: no-name-91bfc625-93e9-4819-a791-8222ad74ebf8\n",
            "Some weights of BertForSequenceClassification were not initialized from the model checkpoint at UBC-NLP/MARBERTv2 and are newly initialized: ['classifier.bias', 'classifier.weight']\n",
            "You should probably TRAIN this model on a down-stream task to be able to use it for predictions and inference.\n",
            "/usr/local/lib/python3.10/dist-packages/transformers/optimization.py:411: FutureWarning: This implementation of AdamW is deprecated and will be removed in a future version. Use the PyTorch implementation torch.optim.AdamW instead, or set `no_deprecation_warning=True` to disable this warning\n",
            "  warnings.warn(\n"
          ]
        },
        {
          "output_type": "display_data",
          "data": {
            "text/plain": [
              "<IPython.core.display.HTML object>"
            ],
            "text/html": [
              "\n",
              "    <div>\n",
              "      \n",
              "      <progress value='441' max='441' style='width:300px; height:20px; vertical-align: middle;'></progress>\n",
              "      [441/441 01:23, Epoch 1/1]\n",
              "    </div>\n",
              "    <table border=\"1\" class=\"dataframe\">\n",
              "  <thead>\n",
              " <tr style=\"text-align: left;\">\n",
              "      <th>Step</th>\n",
              "      <th>Training Loss</th>\n",
              "      <th>Validation Loss</th>\n",
              "      <th>Macro F1</th>\n",
              "      <th>Macro Precision</th>\n",
              "      <th>Macro Recall</th>\n",
              "      <th>Accuracy</th>\n",
              "    </tr>\n",
              "  </thead>\n",
              "  <tbody>\n",
              "    <tr>\n",
              "      <td>100</td>\n",
              "      <td>1.388500</td>\n",
              "      <td>0.871763</td>\n",
              "      <td>0.726923</td>\n",
              "      <td>0.755106</td>\n",
              "      <td>0.732625</td>\n",
              "      <td>0.737086</td>\n",
              "    </tr>\n",
              "    <tr>\n",
              "      <td>200</td>\n",
              "      <td>0.861200</td>\n",
              "      <td>0.716404</td>\n",
              "      <td>0.775759</td>\n",
              "      <td>0.781866</td>\n",
              "      <td>0.775099</td>\n",
              "      <td>0.776159</td>\n",
              "    </tr>\n",
              "    <tr>\n",
              "      <td>300</td>\n",
              "      <td>0.728300</td>\n",
              "      <td>0.685015</td>\n",
              "      <td>0.775942</td>\n",
              "      <td>0.778441</td>\n",
              "      <td>0.774983</td>\n",
              "      <td>0.772185</td>\n",
              "    </tr>\n",
              "    <tr>\n",
              "      <td>400</td>\n",
              "      <td>0.718300</td>\n",
              "      <td>0.638415</td>\n",
              "      <td>0.788644</td>\n",
              "      <td>0.792629</td>\n",
              "      <td>0.788135</td>\n",
              "      <td>0.788079</td>\n",
              "    </tr>\n",
              "  </tbody>\n",
              "</table><p>"
            ]
          },
          "metadata": {}
        },
        {
          "output_type": "stream",
          "name": "stderr",
          "text": [
            "[I 2023-08-20 04:02:59,646] Trial 0 finished with value: 3.15748798020891 and parameters: {'learning_rate': 5.006197220826247e-05, 'num_train_epochs': 1, 'seed': 38, 'per_device_train_batch_size': 16}. Best is trial 0 with value: 3.15748798020891.\n",
            "Some weights of BertForSequenceClassification were not initialized from the model checkpoint at UBC-NLP/MARBERTv2 and are newly initialized: ['classifier.bias', 'classifier.weight']\n",
            "You should probably TRAIN this model on a down-stream task to be able to use it for predictions and inference.\n",
            "/usr/local/lib/python3.10/dist-packages/transformers/optimization.py:411: FutureWarning: This implementation of AdamW is deprecated and will be removed in a future version. Use the PyTorch implementation torch.optim.AdamW instead, or set `no_deprecation_warning=True` to disable this warning\n",
            "  warnings.warn(\n"
          ]
        },
        {
          "output_type": "display_data",
          "data": {
            "text/plain": [
              "<IPython.core.display.HTML object>"
            ],
            "text/html": [
              "\n",
              "    <div>\n",
              "      \n",
              "      <progress value='800' max='8810' style='width:300px; height:20px; vertical-align: middle;'></progress>\n",
              "      [ 800/8810 02:07 < 21:22, 6.24 it/s, Epoch 0/5]\n",
              "    </div>\n",
              "    <table border=\"1\" class=\"dataframe\">\n",
              "  <thead>\n",
              " <tr style=\"text-align: left;\">\n",
              "      <th>Step</th>\n",
              "      <th>Training Loss</th>\n",
              "      <th>Validation Loss</th>\n",
              "      <th>Macro F1</th>\n",
              "      <th>Macro Precision</th>\n",
              "      <th>Macro Recall</th>\n",
              "      <th>Accuracy</th>\n",
              "    </tr>\n",
              "  </thead>\n",
              "  <tbody>\n",
              "    <tr>\n",
              "      <td>100</td>\n",
              "      <td>1.634200</td>\n",
              "      <td>1.176572</td>\n",
              "      <td>0.594328</td>\n",
              "      <td>0.714522</td>\n",
              "      <td>0.629901</td>\n",
              "      <td>0.645033</td>\n",
              "    </tr>\n",
              "    <tr>\n",
              "      <td>200</td>\n",
              "      <td>1.118300</td>\n",
              "      <td>0.910765</td>\n",
              "      <td>0.711639</td>\n",
              "      <td>0.717935</td>\n",
              "      <td>0.716964</td>\n",
              "      <td>0.715894</td>\n",
              "    </tr>\n",
              "    <tr>\n",
              "      <td>300</td>\n",
              "      <td>1.032300</td>\n",
              "      <td>0.945698</td>\n",
              "      <td>0.695981</td>\n",
              "      <td>0.735395</td>\n",
              "      <td>0.696171</td>\n",
              "      <td>0.698675</td>\n",
              "    </tr>\n",
              "    <tr>\n",
              "      <td>400</td>\n",
              "      <td>0.951500</td>\n",
              "      <td>0.908624</td>\n",
              "      <td>0.713996</td>\n",
              "      <td>0.767156</td>\n",
              "      <td>0.717786</td>\n",
              "      <td>0.727152</td>\n",
              "    </tr>\n",
              "    <tr>\n",
              "      <td>500</td>\n",
              "      <td>0.985500</td>\n",
              "      <td>0.908579</td>\n",
              "      <td>0.689269</td>\n",
              "      <td>0.758537</td>\n",
              "      <td>0.701151</td>\n",
              "      <td>0.712583</td>\n",
              "    </tr>\n",
              "    <tr>\n",
              "      <td>600</td>\n",
              "      <td>0.866600</td>\n",
              "      <td>0.908846</td>\n",
              "      <td>0.729481</td>\n",
              "      <td>0.753572</td>\n",
              "      <td>0.731230</td>\n",
              "      <td>0.734437</td>\n",
              "    </tr>\n",
              "    <tr>\n",
              "      <td>700</td>\n",
              "      <td>0.981000</td>\n",
              "      <td>0.927650</td>\n",
              "      <td>0.736155</td>\n",
              "      <td>0.786932</td>\n",
              "      <td>0.738625</td>\n",
              "      <td>0.743046</td>\n",
              "    </tr>\n",
              "    <tr>\n",
              "      <td>800</td>\n",
              "      <td>0.985500</td>\n",
              "      <td>0.853900</td>\n",
              "      <td>0.748754</td>\n",
              "      <td>0.762949</td>\n",
              "      <td>0.748389</td>\n",
              "      <td>0.748344</td>\n",
              "    </tr>\n",
              "  </tbody>\n",
              "</table><p>"
            ]
          },
          "metadata": {}
        },
        {
          "output_type": "stream",
          "name": "stderr",
          "text": [
            "[I 2023-08-20 04:05:10,220] Trial 1 finished with value: 3.0084371582535834 and parameters: {'learning_rate': 6.0706750750922215e-05, 'num_train_epochs': 5, 'seed': 22, 'per_device_train_batch_size': 4}. Best is trial 0 with value: 3.15748798020891.\n",
            "Some weights of BertForSequenceClassification were not initialized from the model checkpoint at UBC-NLP/MARBERTv2 and are newly initialized: ['classifier.bias', 'classifier.weight']\n",
            "You should probably TRAIN this model on a down-stream task to be able to use it for predictions and inference.\n",
            "/usr/local/lib/python3.10/dist-packages/transformers/optimization.py:411: FutureWarning: This implementation of AdamW is deprecated and will be removed in a future version. Use the PyTorch implementation torch.optim.AdamW instead, or set `no_deprecation_warning=True` to disable this warning\n",
            "  warnings.warn(\n"
          ]
        },
        {
          "output_type": "display_data",
          "data": {
            "text/plain": [
              "<IPython.core.display.HTML object>"
            ],
            "text/html": [
              "\n",
              "    <div>\n",
              "      \n",
              "      <progress value='800' max='5286' style='width:300px; height:20px; vertical-align: middle;'></progress>\n",
              "      [ 800/5286 02:00 < 11:15, 6.64 it/s, Epoch 0/3]\n",
              "    </div>\n",
              "    <table border=\"1\" class=\"dataframe\">\n",
              "  <thead>\n",
              " <tr style=\"text-align: left;\">\n",
              "      <th>Step</th>\n",
              "      <th>Training Loss</th>\n",
              "      <th>Validation Loss</th>\n",
              "      <th>Macro F1</th>\n",
              "      <th>Macro Precision</th>\n",
              "      <th>Macro Recall</th>\n",
              "      <th>Accuracy</th>\n",
              "    </tr>\n",
              "  </thead>\n",
              "  <tbody>\n",
              "    <tr>\n",
              "      <td>100</td>\n",
              "      <td>1.708300</td>\n",
              "      <td>1.219445</td>\n",
              "      <td>0.548521</td>\n",
              "      <td>0.661291</td>\n",
              "      <td>0.605727</td>\n",
              "      <td>0.620530</td>\n",
              "    </tr>\n",
              "    <tr>\n",
              "      <td>200</td>\n",
              "      <td>1.211300</td>\n",
              "      <td>1.049544</td>\n",
              "      <td>0.631787</td>\n",
              "      <td>0.687488</td>\n",
              "      <td>0.655649</td>\n",
              "      <td>0.667550</td>\n",
              "    </tr>\n",
              "    <tr>\n",
              "      <td>300</td>\n",
              "      <td>1.057900</td>\n",
              "      <td>1.022004</td>\n",
              "      <td>0.662853</td>\n",
              "      <td>0.732218</td>\n",
              "      <td>0.670221</td>\n",
              "      <td>0.681457</td>\n",
              "    </tr>\n",
              "    <tr>\n",
              "      <td>400</td>\n",
              "      <td>0.967200</td>\n",
              "      <td>0.910115</td>\n",
              "      <td>0.713818</td>\n",
              "      <td>0.735718</td>\n",
              "      <td>0.721566</td>\n",
              "      <td>0.713245</td>\n",
              "    </tr>\n",
              "    <tr>\n",
              "      <td>500</td>\n",
              "      <td>0.879700</td>\n",
              "      <td>0.944365</td>\n",
              "      <td>0.717324</td>\n",
              "      <td>0.743223</td>\n",
              "      <td>0.731501</td>\n",
              "      <td>0.727152</td>\n",
              "    </tr>\n",
              "    <tr>\n",
              "      <td>600</td>\n",
              "      <td>0.979200</td>\n",
              "      <td>0.949743</td>\n",
              "      <td>0.720629</td>\n",
              "      <td>0.734638</td>\n",
              "      <td>0.721877</td>\n",
              "      <td>0.718543</td>\n",
              "    </tr>\n",
              "    <tr>\n",
              "      <td>700</td>\n",
              "      <td>0.973800</td>\n",
              "      <td>0.925449</td>\n",
              "      <td>0.730729</td>\n",
              "      <td>0.743275</td>\n",
              "      <td>0.729681</td>\n",
              "      <td>0.728477</td>\n",
              "    </tr>\n",
              "    <tr>\n",
              "      <td>800</td>\n",
              "      <td>0.994200</td>\n",
              "      <td>0.877787</td>\n",
              "      <td>0.733044</td>\n",
              "      <td>0.747352</td>\n",
              "      <td>0.737094</td>\n",
              "      <td>0.734437</td>\n",
              "    </tr>\n",
              "  </tbody>\n",
              "</table><p>"
            ]
          },
          "metadata": {}
        },
        {
          "output_type": "stream",
          "name": "stderr",
          "text": [
            "[I 2023-08-20 04:07:12,969] Trial 2 finished with value: 2.9519282986201327 and parameters: {'learning_rate': 5.562952788636463e-05, 'num_train_epochs': 3, 'seed': 1, 'per_device_train_batch_size': 4}. Best is trial 0 with value: 3.15748798020891.\n",
            "Some weights of BertForSequenceClassification were not initialized from the model checkpoint at UBC-NLP/MARBERTv2 and are newly initialized: ['classifier.bias', 'classifier.weight']\n",
            "You should probably TRAIN this model on a down-stream task to be able to use it for predictions and inference.\n",
            "/usr/local/lib/python3.10/dist-packages/transformers/optimization.py:411: FutureWarning: This implementation of AdamW is deprecated and will be removed in a future version. Use the PyTorch implementation torch.optim.AdamW instead, or set `no_deprecation_warning=True` to disable this warning\n",
            "  warnings.warn(\n"
          ]
        },
        {
          "output_type": "display_data",
          "data": {
            "text/plain": [
              "<IPython.core.display.HTML object>"
            ],
            "text/html": [
              "\n",
              "    <div>\n",
              "      \n",
              "      <progress value='444' max='444' style='width:300px; height:20px; vertical-align: middle;'></progress>\n",
              "      [444/444 03:26, Epoch 4/4]\n",
              "    </div>\n",
              "    <table border=\"1\" class=\"dataframe\">\n",
              "  <thead>\n",
              " <tr style=\"text-align: left;\">\n",
              "      <th>Step</th>\n",
              "      <th>Training Loss</th>\n",
              "      <th>Validation Loss</th>\n",
              "      <th>Macro F1</th>\n",
              "      <th>Macro Precision</th>\n",
              "      <th>Macro Recall</th>\n",
              "      <th>Accuracy</th>\n",
              "    </tr>\n",
              "  </thead>\n",
              "  <tbody>\n",
              "    <tr>\n",
              "      <td>100</td>\n",
              "      <td>1.473400</td>\n",
              "      <td>0.928830</td>\n",
              "      <td>0.715125</td>\n",
              "      <td>0.747149</td>\n",
              "      <td>0.722929</td>\n",
              "      <td>0.729801</td>\n",
              "    </tr>\n",
              "    <tr>\n",
              "      <td>200</td>\n",
              "      <td>0.833800</td>\n",
              "      <td>0.728031</td>\n",
              "      <td>0.769989</td>\n",
              "      <td>0.788647</td>\n",
              "      <td>0.768129</td>\n",
              "      <td>0.772848</td>\n",
              "    </tr>\n",
              "    <tr>\n",
              "      <td>300</td>\n",
              "      <td>0.614500</td>\n",
              "      <td>0.682531</td>\n",
              "      <td>0.787402</td>\n",
              "      <td>0.795013</td>\n",
              "      <td>0.784866</td>\n",
              "      <td>0.786093</td>\n",
              "    </tr>\n",
              "    <tr>\n",
              "      <td>400</td>\n",
              "      <td>0.535700</td>\n",
              "      <td>0.674765</td>\n",
              "      <td>0.791454</td>\n",
              "      <td>0.795935</td>\n",
              "      <td>0.790362</td>\n",
              "      <td>0.790728</td>\n",
              "    </tr>\n",
              "  </tbody>\n",
              "</table><p>"
            ]
          },
          "metadata": {}
        },
        {
          "output_type": "stream",
          "name": "stderr",
          "text": [
            "[I 2023-08-20 04:10:42,912] Trial 3 finished with value: 3.168478469026155 and parameters: {'learning_rate': 1.9237126464684223e-05, 'num_train_epochs': 4, 'seed': 5, 'per_device_train_batch_size': 64}. Best is trial 3 with value: 3.168478469026155.\n",
            "Some weights of BertForSequenceClassification were not initialized from the model checkpoint at UBC-NLP/MARBERTv2 and are newly initialized: ['classifier.bias', 'classifier.weight']\n",
            "You should probably TRAIN this model on a down-stream task to be able to use it for predictions and inference.\n",
            "/usr/local/lib/python3.10/dist-packages/transformers/optimization.py:411: FutureWarning: This implementation of AdamW is deprecated and will be removed in a future version. Use the PyTorch implementation torch.optim.AdamW instead, or set `no_deprecation_warning=True` to disable this warning\n",
            "  warnings.warn(\n"
          ]
        },
        {
          "output_type": "display_data",
          "data": {
            "text/plain": [
              "<IPython.core.display.HTML object>"
            ],
            "text/html": [
              "\n",
              "    <div>\n",
              "      \n",
              "      <progress value='800' max='882' style='width:300px; height:20px; vertical-align: middle;'></progress>\n",
              "      [800/882 02:39 < 00:16, 5.00 it/s, Epoch 1/2]\n",
              "    </div>\n",
              "    <table border=\"1\" class=\"dataframe\">\n",
              "  <thead>\n",
              " <tr style=\"text-align: left;\">\n",
              "      <th>Step</th>\n",
              "      <th>Training Loss</th>\n",
              "      <th>Validation Loss</th>\n",
              "      <th>Macro F1</th>\n",
              "      <th>Macro Precision</th>\n",
              "      <th>Macro Recall</th>\n",
              "      <th>Accuracy</th>\n",
              "    </tr>\n",
              "  </thead>\n",
              "  <tbody>\n",
              "    <tr>\n",
              "      <td>100</td>\n",
              "      <td>2.051200</td>\n",
              "      <td>2.030438</td>\n",
              "      <td>0.135042</td>\n",
              "      <td>0.267700</td>\n",
              "      <td>0.190831</td>\n",
              "      <td>0.214570</td>\n",
              "    </tr>\n",
              "    <tr>\n",
              "      <td>200</td>\n",
              "      <td>2.023800</td>\n",
              "      <td>1.987171</td>\n",
              "      <td>0.216409</td>\n",
              "      <td>0.354964</td>\n",
              "      <td>0.264642</td>\n",
              "      <td>0.289404</td>\n",
              "    </tr>\n",
              "    <tr>\n",
              "      <td>300</td>\n",
              "      <td>1.993000</td>\n",
              "      <td>1.943976</td>\n",
              "      <td>0.319446</td>\n",
              "      <td>0.435358</td>\n",
              "      <td>0.362223</td>\n",
              "      <td>0.387417</td>\n",
              "    </tr>\n",
              "    <tr>\n",
              "      <td>400</td>\n",
              "      <td>1.943300</td>\n",
              "      <td>1.902523</td>\n",
              "      <td>0.353789</td>\n",
              "      <td>0.451656</td>\n",
              "      <td>0.406047</td>\n",
              "      <td>0.431788</td>\n",
              "    </tr>\n",
              "    <tr>\n",
              "      <td>500</td>\n",
              "      <td>1.915200</td>\n",
              "      <td>1.869902</td>\n",
              "      <td>0.399406</td>\n",
              "      <td>0.511887</td>\n",
              "      <td>0.450008</td>\n",
              "      <td>0.474834</td>\n",
              "    </tr>\n",
              "    <tr>\n",
              "      <td>600</td>\n",
              "      <td>1.887300</td>\n",
              "      <td>1.845246</td>\n",
              "      <td>0.408608</td>\n",
              "      <td>0.529277</td>\n",
              "      <td>0.464318</td>\n",
              "      <td>0.489404</td>\n",
              "    </tr>\n",
              "    <tr>\n",
              "      <td>700</td>\n",
              "      <td>1.865900</td>\n",
              "      <td>1.827879</td>\n",
              "      <td>0.407402</td>\n",
              "      <td>0.560042</td>\n",
              "      <td>0.470482</td>\n",
              "      <td>0.495364</td>\n",
              "    </tr>\n",
              "    <tr>\n",
              "      <td>800</td>\n",
              "      <td>1.861900</td>\n",
              "      <td>1.818889</td>\n",
              "      <td>0.408072</td>\n",
              "      <td>0.559274</td>\n",
              "      <td>0.471692</td>\n",
              "      <td>0.496689</td>\n",
              "    </tr>\n",
              "  </tbody>\n",
              "</table><p>"
            ]
          },
          "metadata": {}
        },
        {
          "output_type": "stream",
          "name": "stderr",
          "text": [
            "[I 2023-08-20 04:13:25,689] Trial 4 finished with value: 1.9357257789524427 and parameters: {'learning_rate': 1.1088405071232587e-06, 'num_train_epochs': 2, 'seed': 2, 'per_device_train_batch_size': 16}. Best is trial 3 with value: 3.168478469026155.\n",
            "Some weights of BertForSequenceClassification were not initialized from the model checkpoint at UBC-NLP/MARBERTv2 and are newly initialized: ['classifier.bias', 'classifier.weight']\n",
            "You should probably TRAIN this model on a down-stream task to be able to use it for predictions and inference.\n",
            "/usr/local/lib/python3.10/dist-packages/transformers/optimization.py:411: FutureWarning: This implementation of AdamW is deprecated and will be removed in a future version. Use the PyTorch implementation torch.optim.AdamW instead, or set `no_deprecation_warning=True` to disable this warning\n",
            "  warnings.warn(\n"
          ]
        },
        {
          "output_type": "display_data",
          "data": {
            "text/plain": [
              "<IPython.core.display.HTML object>"
            ],
            "text/html": [
              "\n",
              "    <div>\n",
              "      \n",
              "      <progress value='100' max='3524' style='width:300px; height:20px; vertical-align: middle;'></progress>\n",
              "      [ 100/3524 00:13 < 07:38, 7.47 it/s, Epoch 0/2]\n",
              "    </div>\n",
              "    <table border=\"1\" class=\"dataframe\">\n",
              "  <thead>\n",
              " <tr style=\"text-align: left;\">\n",
              "      <th>Step</th>\n",
              "      <th>Training Loss</th>\n",
              "      <th>Validation Loss</th>\n",
              "      <th>Macro F1</th>\n",
              "      <th>Macro Precision</th>\n",
              "      <th>Macro Recall</th>\n",
              "      <th>Accuracy</th>\n",
              "    </tr>\n",
              "  </thead>\n",
              "  <tbody>\n",
              "    <tr>\n",
              "      <td>100</td>\n",
              "      <td>2.049200</td>\n",
              "      <td>1.989897</td>\n",
              "      <td>0.266748</td>\n",
              "      <td>0.453230</td>\n",
              "      <td>0.343639</td>\n",
              "      <td>0.366887</td>\n",
              "    </tr>\n",
              "  </tbody>\n",
              "</table><p>"
            ]
          },
          "metadata": {}
        },
        {
          "output_type": "stream",
          "name": "stderr",
          "text": [
            "[I 2023-08-20 04:13:42,471] Trial 5 pruned. \n",
            "Some weights of BertForSequenceClassification were not initialized from the model checkpoint at UBC-NLP/MARBERTv2 and are newly initialized: ['classifier.bias', 'classifier.weight']\n",
            "You should probably TRAIN this model on a down-stream task to be able to use it for predictions and inference.\n",
            "/usr/local/lib/python3.10/dist-packages/transformers/optimization.py:411: FutureWarning: This implementation of AdamW is deprecated and will be removed in a future version. Use the PyTorch implementation torch.optim.AdamW instead, or set `no_deprecation_warning=True` to disable this warning\n",
            "  warnings.warn(\n"
          ]
        },
        {
          "output_type": "display_data",
          "data": {
            "text/plain": [
              "<IPython.core.display.HTML object>"
            ],
            "text/html": [
              "\n",
              "    <div>\n",
              "      \n",
              "      <progress value='100' max='5286' style='width:300px; height:20px; vertical-align: middle;'></progress>\n",
              "      [ 100/5286 00:13 < 11:32, 7.49 it/s, Epoch 0/3]\n",
              "    </div>\n",
              "    <table border=\"1\" class=\"dataframe\">\n",
              "  <thead>\n",
              " <tr style=\"text-align: left;\">\n",
              "      <th>Step</th>\n",
              "      <th>Training Loss</th>\n",
              "      <th>Validation Loss</th>\n",
              "      <th>Macro F1</th>\n",
              "      <th>Macro Precision</th>\n",
              "      <th>Macro Recall</th>\n",
              "      <th>Accuracy</th>\n",
              "    </tr>\n",
              "  </thead>\n",
              "  <tbody>\n",
              "    <tr>\n",
              "      <td>100</td>\n",
              "      <td>1.917900</td>\n",
              "      <td>1.668867</td>\n",
              "      <td>0.419071</td>\n",
              "      <td>0.676792</td>\n",
              "      <td>0.489916</td>\n",
              "      <td>0.515232</td>\n",
              "    </tr>\n",
              "  </tbody>\n",
              "</table><p>"
            ]
          },
          "metadata": {}
        },
        {
          "output_type": "stream",
          "name": "stderr",
          "text": [
            "[I 2023-08-20 04:13:58,941] Trial 6 pruned. \n",
            "Some weights of BertForSequenceClassification were not initialized from the model checkpoint at UBC-NLP/MARBERTv2 and are newly initialized: ['classifier.bias', 'classifier.weight']\n",
            "You should probably TRAIN this model on a down-stream task to be able to use it for predictions and inference.\n",
            "/usr/local/lib/python3.10/dist-packages/transformers/optimization.py:411: FutureWarning: This implementation of AdamW is deprecated and will be removed in a future version. Use the PyTorch implementation torch.optim.AdamW instead, or set `no_deprecation_warning=True` to disable this warning\n",
            "  warnings.warn(\n"
          ]
        },
        {
          "output_type": "display_data",
          "data": {
            "text/plain": [
              "<IPython.core.display.HTML object>"
            ],
            "text/html": [
              "\n",
              "    <div>\n",
              "      \n",
              "      <progress value='100' max='1323' style='width:300px; height:20px; vertical-align: middle;'></progress>\n",
              "      [ 100/1323 00:18 < 03:56, 5.17 it/s, Epoch 0/3]\n",
              "    </div>\n",
              "    <table border=\"1\" class=\"dataframe\">\n",
              "  <thead>\n",
              " <tr style=\"text-align: left;\">\n",
              "      <th>Step</th>\n",
              "      <th>Training Loss</th>\n",
              "      <th>Validation Loss</th>\n",
              "      <th>Macro F1</th>\n",
              "      <th>Macro Precision</th>\n",
              "      <th>Macro Recall</th>\n",
              "      <th>Accuracy</th>\n",
              "    </tr>\n",
              "  </thead>\n",
              "  <tbody>\n",
              "    <tr>\n",
              "      <td>100</td>\n",
              "      <td>1.980200</td>\n",
              "      <td>1.800540</td>\n",
              "      <td>0.429498</td>\n",
              "      <td>0.545866</td>\n",
              "      <td>0.475789</td>\n",
              "      <td>0.505960</td>\n",
              "    </tr>\n",
              "  </tbody>\n",
              "</table><p>"
            ]
          },
          "metadata": {}
        },
        {
          "output_type": "stream",
          "name": "stderr",
          "text": [
            "[I 2023-08-20 04:14:20,694] Trial 7 pruned. \n",
            "Some weights of BertForSequenceClassification were not initialized from the model checkpoint at UBC-NLP/MARBERTv2 and are newly initialized: ['classifier.bias', 'classifier.weight']\n",
            "You should probably TRAIN this model on a down-stream task to be able to use it for predictions and inference.\n",
            "/usr/local/lib/python3.10/dist-packages/transformers/optimization.py:411: FutureWarning: This implementation of AdamW is deprecated and will be removed in a future version. Use the PyTorch implementation torch.optim.AdamW instead, or set `no_deprecation_warning=True` to disable this warning\n",
            "  warnings.warn(\n"
          ]
        },
        {
          "output_type": "display_data",
          "data": {
            "text/plain": [
              "<IPython.core.display.HTML object>"
            ],
            "text/html": [
              "\n",
              "    <div>\n",
              "      \n",
              "      <progress value='100' max='1105' style='width:300px; height:20px; vertical-align: middle;'></progress>\n",
              "      [ 100/1105 00:28 < 04:53, 3.42 it/s, Epoch 0/5]\n",
              "    </div>\n",
              "    <table border=\"1\" class=\"dataframe\">\n",
              "  <thead>\n",
              " <tr style=\"text-align: left;\">\n",
              "      <th>Step</th>\n",
              "      <th>Training Loss</th>\n",
              "      <th>Validation Loss</th>\n",
              "      <th>Macro F1</th>\n",
              "      <th>Macro Precision</th>\n",
              "      <th>Macro Recall</th>\n",
              "      <th>Accuracy</th>\n",
              "    </tr>\n",
              "  </thead>\n",
              "  <tbody>\n",
              "    <tr>\n",
              "      <td>100</td>\n",
              "      <td>1.988700</td>\n",
              "      <td>1.862020</td>\n",
              "      <td>0.388228</td>\n",
              "      <td>0.522833</td>\n",
              "      <td>0.446053</td>\n",
              "      <td>0.467550</td>\n",
              "    </tr>\n",
              "  </tbody>\n",
              "</table><p>"
            ]
          },
          "metadata": {}
        },
        {
          "output_type": "stream",
          "name": "stderr",
          "text": [
            "[I 2023-08-20 04:14:51,929] Trial 8 pruned. \n",
            "Some weights of BertForSequenceClassification were not initialized from the model checkpoint at UBC-NLP/MARBERTv2 and are newly initialized: ['classifier.bias', 'classifier.weight']\n",
            "You should probably TRAIN this model on a down-stream task to be able to use it for predictions and inference.\n",
            "/usr/local/lib/python3.10/dist-packages/transformers/optimization.py:411: FutureWarning: This implementation of AdamW is deprecated and will be removed in a future version. Use the PyTorch implementation torch.optim.AdamW instead, or set `no_deprecation_warning=True` to disable this warning\n",
            "  warnings.warn(\n"
          ]
        },
        {
          "output_type": "display_data",
          "data": {
            "text/plain": [
              "<IPython.core.display.HTML object>"
            ],
            "text/html": [
              "\n",
              "    <div>\n",
              "      \n",
              "      <progress value='100' max='1323' style='width:300px; height:20px; vertical-align: middle;'></progress>\n",
              "      [ 100/1323 00:18 < 03:54, 5.23 it/s, Epoch 0/3]\n",
              "    </div>\n",
              "    <table border=\"1\" class=\"dataframe\">\n",
              "  <thead>\n",
              " <tr style=\"text-align: left;\">\n",
              "      <th>Step</th>\n",
              "      <th>Training Loss</th>\n",
              "      <th>Validation Loss</th>\n",
              "      <th>Macro F1</th>\n",
              "      <th>Macro Precision</th>\n",
              "      <th>Macro Recall</th>\n",
              "      <th>Accuracy</th>\n",
              "    </tr>\n",
              "  </thead>\n",
              "  <tbody>\n",
              "    <tr>\n",
              "      <td>100</td>\n",
              "      <td>2.046300</td>\n",
              "      <td>1.986989</td>\n",
              "      <td>0.298872</td>\n",
              "      <td>0.459021</td>\n",
              "      <td>0.345049</td>\n",
              "      <td>0.372848</td>\n",
              "    </tr>\n",
              "  </tbody>\n",
              "</table><p>"
            ]
          },
          "metadata": {}
        },
        {
          "output_type": "stream",
          "name": "stderr",
          "text": [
            "[I 2023-08-20 04:15:13,290] Trial 9 pruned. \n"
          ]
        }
      ]
    },
    {
      "cell_type": "code",
      "source": [
        "best_run.hyperparameters.items()\n",
        "# dict_items([('learning_rate', 1.4788265245160328e-05), ('num_train_epochs', 3), ('seed', 11), ('per_device_train_batch_size', 16)])"
      ],
      "metadata": {
        "id": "0HG1qPJZgREJ",
        "colab": {
          "base_uri": "https://localhost:8080/"
        },
        "outputId": "239b723b-ca51-4f3f-92c1-4e0c19c1468b"
      },
      "execution_count": 20,
      "outputs": [
        {
          "output_type": "execute_result",
          "data": {
            "text/plain": [
              "dict_items([('learning_rate', 1.9237126464684223e-05), ('num_train_epochs', 4), ('seed', 5), ('per_device_train_batch_size', 64)])"
            ]
          },
          "metadata": {},
          "execution_count": 20
        }
      ]
    },
    {
      "cell_type": "code",
      "source": [
        "for n, v in best_run.hyperparameters.items():\n",
        "    setattr(trainer.args, n, v)\n",
        "\n",
        "trainer.train()"
      ],
      "metadata": {
        "id": "mHD4vDiw-Hdt",
        "colab": {
          "base_uri": "https://localhost:8080/",
          "height": 342
        },
        "outputId": "eb731674-4072-4c36-dbf5-c5135f22dd10"
      },
      "execution_count": 21,
      "outputs": [
        {
          "output_type": "stream",
          "name": "stderr",
          "text": [
            "Some weights of BertForSequenceClassification were not initialized from the model checkpoint at UBC-NLP/MARBERTv2 and are newly initialized: ['classifier.bias', 'classifier.weight']\n",
            "You should probably TRAIN this model on a down-stream task to be able to use it for predictions and inference.\n",
            "/usr/local/lib/python3.10/dist-packages/transformers/optimization.py:411: FutureWarning: This implementation of AdamW is deprecated and will be removed in a future version. Use the PyTorch implementation torch.optim.AdamW instead, or set `no_deprecation_warning=True` to disable this warning\n",
            "  warnings.warn(\n"
          ]
        },
        {
          "output_type": "display_data",
          "data": {
            "text/plain": [
              "<IPython.core.display.HTML object>"
            ],
            "text/html": [
              "\n",
              "    <div>\n",
              "      \n",
              "      <progress value='444' max='444' style='width:300px; height:20px; vertical-align: middle;'></progress>\n",
              "      [444/444 03:26, Epoch 4/4]\n",
              "    </div>\n",
              "    <table border=\"1\" class=\"dataframe\">\n",
              "  <thead>\n",
              " <tr style=\"text-align: left;\">\n",
              "      <th>Step</th>\n",
              "      <th>Training Loss</th>\n",
              "      <th>Validation Loss</th>\n",
              "      <th>Macro F1</th>\n",
              "      <th>Macro Precision</th>\n",
              "      <th>Macro Recall</th>\n",
              "      <th>Accuracy</th>\n",
              "    </tr>\n",
              "  </thead>\n",
              "  <tbody>\n",
              "    <tr>\n",
              "      <td>100</td>\n",
              "      <td>1.473400</td>\n",
              "      <td>0.928830</td>\n",
              "      <td>0.715125</td>\n",
              "      <td>0.747149</td>\n",
              "      <td>0.722929</td>\n",
              "      <td>0.729801</td>\n",
              "    </tr>\n",
              "    <tr>\n",
              "      <td>200</td>\n",
              "      <td>0.833800</td>\n",
              "      <td>0.728031</td>\n",
              "      <td>0.769989</td>\n",
              "      <td>0.788647</td>\n",
              "      <td>0.768129</td>\n",
              "      <td>0.772848</td>\n",
              "    </tr>\n",
              "    <tr>\n",
              "      <td>300</td>\n",
              "      <td>0.614500</td>\n",
              "      <td>0.682531</td>\n",
              "      <td>0.787402</td>\n",
              "      <td>0.795013</td>\n",
              "      <td>0.784866</td>\n",
              "      <td>0.786093</td>\n",
              "    </tr>\n",
              "    <tr>\n",
              "      <td>400</td>\n",
              "      <td>0.535700</td>\n",
              "      <td>0.674765</td>\n",
              "      <td>0.791454</td>\n",
              "      <td>0.795935</td>\n",
              "      <td>0.790362</td>\n",
              "      <td>0.790728</td>\n",
              "    </tr>\n",
              "  </tbody>\n",
              "</table><p>"
            ]
          },
          "metadata": {}
        },
        {
          "output_type": "execute_result",
          "data": {
            "text/plain": [
              "TrainOutput(global_step=444, training_loss=0.8286021980079444, metrics={'train_runtime': 206.9145, 'train_samples_per_second': 136.191, 'train_steps_per_second': 2.146, 'total_flos': 535840140354240.0, 'train_loss': 0.8286021980079444, 'epoch': 4.0})"
            ]
          },
          "metadata": {},
          "execution_count": 21
        }
      ]
    },
    {
      "cell_type": "code",
      "source": [
        "trainer.evaluate()"
      ],
      "metadata": {
        "id": "7wnWzSM5dvyR",
        "colab": {
          "base_uri": "https://localhost:8080/",
          "height": 193
        },
        "outputId": "679d8077-344d-4ec3-fedc-598f2f009549"
      },
      "execution_count": 22,
      "outputs": [
        {
          "output_type": "display_data",
          "data": {
            "text/plain": [
              "<IPython.core.display.HTML object>"
            ],
            "text/html": [
              "\n",
              "    <div>\n",
              "      \n",
              "      <progress value='95' max='95' style='width:300px; height:20px; vertical-align: middle;'></progress>\n",
              "      [95/95 00:03]\n",
              "    </div>\n",
              "    "
            ]
          },
          "metadata": {}
        },
        {
          "output_type": "execute_result",
          "data": {
            "text/plain": [
              "{'eval_loss': 0.6703460216522217,\n",
              " 'eval_macro_f1': 0.7876414448166329,\n",
              " 'eval_macro_precision': 0.7905721887309964,\n",
              " 'eval_macro_recall': 0.7863814356661404,\n",
              " 'eval_accuracy': 0.785430463576159,\n",
              " 'eval_runtime': 3.6825,\n",
              " 'eval_samples_per_second': 410.045,\n",
              " 'eval_steps_per_second': 25.798,\n",
              " 'epoch': 4.0}"
            ]
          },
          "metadata": {},
          "execution_count": 22
        }
      ]
    },
    {
      "cell_type": "markdown",
      "source": [
        "###Evaluate"
      ],
      "metadata": {
        "id": "yqqmggkUmYpi"
      }
    },
    {
      "cell_type": "markdown",
      "source": [
        "####Test Data"
      ],
      "metadata": {
        "id": "v2CwjzfbNRuD"
      }
    },
    {
      "cell_type": "code",
      "source": [
        "import torch\n",
        "\n",
        "device = \"cuda\" if torch.cuda.is_available() else \"cpu\"\n",
        "device"
      ],
      "metadata": {
        "id": "YllNF91yfUPu",
        "colab": {
          "base_uri": "https://localhost:8080/",
          "height": 35
        },
        "outputId": "2aef75d5-ab08-44a7-b917-e5bf120588cb"
      },
      "execution_count": 23,
      "outputs": [
        {
          "output_type": "execute_result",
          "data": {
            "text/plain": [
              "'cuda'"
            ],
            "application/vnd.google.colaboratory.intrinsic+json": {
              "type": "string"
            }
          },
          "metadata": {},
          "execution_count": 23
        }
      ]
    },
    {
      "cell_type": "code",
      "source": [
        "from torch.utils.data import TensorDataset, DataLoader\n",
        "\n",
        "input_ids = [i['input_ids'] for i in X_test]\n",
        "attention_masks = [i['attention_mask'] for i in X_test]\n",
        "\n",
        "inputs = torch.tensor(input_ids)\n",
        "masks = torch.tensor(attention_masks)\n",
        "test_data = TensorDataset(inputs, masks)\n",
        "\n",
        "test_dataloader = DataLoader(test_data, batch_size=batch_size)"
      ],
      "metadata": {
        "id": "lW6b027GkmnZ"
      },
      "execution_count": 24,
      "outputs": []
    },
    {
      "cell_type": "code",
      "source": [
        "from sklearn.metrics import classification_report\n",
        "\n",
        "model = trainer.model\n",
        "model.eval()\n",
        "model.to(device)\n",
        "\n",
        "test_pred = []\n",
        "for input, masks in test_dataloader:\n",
        "    torch.cuda.empty_cache()\n",
        "\n",
        "    input = input.to(device)\n",
        "    masks = masks.to(device)\n",
        "\n",
        "    output = model(input, attention_mask=masks)['logits']\n",
        "    predictions = torch.argmax(output, dim=1)\n",
        "    predictions = predictions.cpu().detach().numpy()\n",
        "\n",
        "    test_pred.extend(predictions)\n",
        "\n",
        "print(classification_report(X_test['label'], test_pred, target_names=classes))"
      ],
      "metadata": {
        "id": "wnJcFttrlFaZ",
        "colab": {
          "base_uri": "https://localhost:8080/"
        },
        "outputId": "66d29928-d2c2-48ff-fb50-dc2160c9326b"
      },
      "execution_count": 25,
      "outputs": [
        {
          "output_type": "stream",
          "name": "stdout",
          "text": [
            "              precision    recall  f1-score   support\n",
            "\n",
            "        none       0.75      0.79      0.77       229\n",
            "       anger       0.77      0.80      0.79       200\n",
            "         joy       0.69      0.68      0.69       205\n",
            "     sadness       0.67      0.72      0.69       185\n",
            "        love       0.80      0.77      0.79       193\n",
            "    sympathy       0.93      0.94      0.94       156\n",
            "    surprise       0.76      0.64      0.69       154\n",
            "        fear       0.95      0.95      0.95       188\n",
            "\n",
            "    accuracy                           0.79      1510\n",
            "   macro avg       0.79      0.79      0.79      1510\n",
            "weighted avg       0.79      0.79      0.79      1510\n",
            "\n"
          ]
        }
      ]
    },
    {
      "cell_type": "code",
      "source": [
        "from sklearn.metrics import confusion_matrix\n",
        "import matplotlib.pyplot as plt\n",
        "import seaborn as sns\n",
        "\n",
        "cm = confusion_matrix(X_test['label'], test_pred)\n",
        "\n",
        "plt.figure(figsize=(10, 8))\n",
        "sns.set(font_scale=1.2)\n",
        "sns.heatmap(cm, annot=True, fmt='d', cmap='Blues', xticklabels=classes, yticklabels=classes)\n",
        "plt.xlabel('Predicted')\n",
        "plt.ylabel('Actual')\n",
        "plt.title('Confusion Matrix')\n",
        "plt.show()"
      ],
      "metadata": {
        "colab": {
          "base_uri": "https://localhost:8080/",
          "height": 761
        },
        "id": "hkpfmUmIBxPy",
        "outputId": "6b44f372-ac59-4f8f-ab7d-cc213f268595"
      },
      "execution_count": 26,
      "outputs": [
        {
          "output_type": "display_data",
          "data": {
            "text/plain": [
              "<Figure size 1000x800 with 2 Axes>"
            ],
            "image/png": "[encoded data removed]"
          },
          "metadata": {}
        }
      ]
    },
    {
      "cell_type": "markdown",
      "source": [
        "####Train Data"
      ],
      "metadata": {
        "id": "gt23QeV1LCF8"
      }
    },
    {
      "cell_type": "code",
      "source": [
        "from torch.utils.data import TensorDataset, DataLoader\n",
        "\n",
        "input_ids = [i['input_ids'] for i in X_train]\n",
        "attention_masks = [i['attention_mask'] for i in X_train]\n",
        "\n",
        "inputs = torch.tensor(input_ids)\n",
        "masks = torch.tensor(attention_masks)\n",
        "train_data = TensorDataset(inputs, masks)\n",
        "\n",
        "train_dataloader = DataLoader(train_data, batch_size=batch_size)"
      ],
      "metadata": {
        "id": "jK2oeoMqLEH5"
      },
      "execution_count": 27,
      "outputs": []
    },
    {
      "cell_type": "code",
      "source": [
        "from sklearn.metrics import classification_report\n",
        "\n",
        "model = trainer.model\n",
        "model.eval()\n",
        "model.to(device)\n",
        "\n",
        "train_pred = []\n",
        "for input, masks in train_dataloader:\n",
        "    torch.cuda.empty_cache()\n",
        "\n",
        "    input = input.to(device)\n",
        "    masks = masks.to(device)\n",
        "\n",
        "    output = model(input, attention_mask=masks)['logits']\n",
        "    predictions = torch.argmax(output, dim=1)\n",
        "    predictions = predictions.cpu().detach().numpy()\n",
        "\n",
        "    train_pred.extend(predictions)\n",
        "\n",
        "print(classification_report(X_train['label'], train_pred, target_names=classes))"
      ],
      "metadata": {
        "colab": {
          "base_uri": "https://localhost:8080/"
        },
        "id": "MUBSnLxKLG5h",
        "outputId": "c380d8c5-ee44-4680-a075-9b4b42ff0ad7"
      },
      "execution_count": 28,
      "outputs": [
        {
          "output_type": "stream",
          "name": "stdout",
          "text": [
            "              precision    recall  f1-score   support\n",
            "\n",
            "        none       0.88      0.92      0.90      1074\n",
            "       anger       0.88      0.93      0.91      1019\n",
            "         joy       0.84      0.88      0.86       891\n",
            "     sadness       0.86      0.83      0.85       885\n",
            "        love       0.91      0.88      0.89       850\n",
            "    sympathy       0.95      0.98      0.96       755\n",
            "    surprise       0.88      0.79      0.83       729\n",
            "        fear       0.98      0.94      0.96       842\n",
            "\n",
            "    accuracy                           0.90      7045\n",
            "   macro avg       0.90      0.89      0.89      7045\n",
            "weighted avg       0.90      0.90      0.89      7045\n",
            "\n"
          ]
        }
      ]
    },
    {
      "cell_type": "code",
      "source": [
        "from sklearn.metrics import confusion_matrix\n",
        "import matplotlib.pyplot as plt\n",
        "import seaborn as sns\n",
        "\n",
        "cm = confusion_matrix(X_train['label'], train_pred)\n",
        "\n",
        "plt.figure(figsize=(10, 8))\n",
        "sns.set(font_scale=1.2)\n",
        "sns.heatmap(cm, annot=True, fmt='d', cmap='Blues', xticklabels=classes, yticklabels=classes)\n",
        "plt.xlabel('Predicted')\n",
        "plt.ylabel('Actual')\n",
        "plt.title('Confusion Matrix')\n",
        "plt.show()"
      ],
      "metadata": {
        "colab": {
          "base_uri": "https://localhost:8080/",
          "height": 761
        },
        "id": "zvhFsRpmNGDa",
        "outputId": "e5c4f9fc-5fb3-4959-b2bf-7cea7b96557a"
      },
      "execution_count": 29,
      "outputs": [
        {
          "output_type": "display_data",
          "data": {
            "text/plain": [
              "<Figure size 1000x800 with 2 Axes>"
            ],
            "image/png": "[encoded data removed]"
          },
          "metadata": {}
        }
      ]
    },
    {
      "cell_type": "markdown",
      "source": [
        "####Dev Data"
      ],
      "metadata": {
        "id": "ULR5bhPHOHSE"
      }
    },
    {
      "cell_type": "code",
      "source": [
        "from torch.utils.data import TensorDataset, DataLoader\n",
        "\n",
        "input_ids = [i['input_ids'] for i in X_dev]\n",
        "attention_masks = [i['attention_mask'] for i in X_dev]\n",
        "\n",
        "inputs = torch.tensor(input_ids)\n",
        "masks = torch.tensor(attention_masks)\n",
        "dev_data = TensorDataset(inputs, masks)\n",
        "\n",
        "dev_dataloader = DataLoader(dev_data, batch_size=batch_size)"
      ],
      "metadata": {
        "id": "PcdL44f7OJAQ"
      },
      "execution_count": 30,
      "outputs": []
    },
    {
      "cell_type": "code",
      "source": [
        "from sklearn.metrics import classification_report\n",
        "\n",
        "model = trainer.model\n",
        "model.eval()\n",
        "model.to(device)\n",
        "\n",
        "dev_pred = []\n",
        "for input, masks in dev_dataloader:\n",
        "    torch.cuda.empty_cache()\n",
        "\n",
        "    input = input.to(device)\n",
        "    masks = masks.to(device)\n",
        "\n",
        "    output = model(input, attention_mask=masks)['logits']\n",
        "    predictions = torch.argmax(output, dim=1)\n",
        "    predictions = predictions.cpu().detach().numpy()\n",
        "\n",
        "    dev_pred.extend(predictions)\n",
        "\n",
        "print(classification_report(X_dev['label'], dev_pred, target_names=classes))"
      ],
      "metadata": {
        "colab": {
          "base_uri": "https://localhost:8080/"
        },
        "id": "c8kp5em6OJHm",
        "outputId": "cc2ff190-7178-4472-eed7-243eafbf7be9"
      },
      "execution_count": 31,
      "outputs": [
        {
          "output_type": "stream",
          "name": "stdout",
          "text": [
            "              precision    recall  f1-score   support\n",
            "\n",
            "        none       0.75      0.79      0.77       229\n",
            "       anger       0.77      0.80      0.79       200\n",
            "         joy       0.69      0.68      0.69       205\n",
            "     sadness       0.67      0.72      0.69       185\n",
            "        love       0.80      0.77      0.79       193\n",
            "    sympathy       0.93      0.94      0.94       156\n",
            "    surprise       0.76      0.64      0.69       154\n",
            "        fear       0.95      0.95      0.95       188\n",
            "\n",
            "    accuracy                           0.79      1510\n",
            "   macro avg       0.79      0.79      0.79      1510\n",
            "weighted avg       0.79      0.79      0.79      1510\n",
            "\n"
          ]
        }
      ]
    },
    {
      "cell_type": "code",
      "source": [
        "from sklearn.metrics import confusion_matrix\n",
        "import matplotlib.pyplot as plt\n",
        "import seaborn as sns\n",
        "\n",
        "cm = confusion_matrix(X_dev['label'], dev_pred)\n",
        "\n",
        "plt.figure(figsize=(10, 8))\n",
        "sns.set(font_scale=1.2)\n",
        "sns.heatmap(cm, annot=True, fmt='d', cmap='Blues', xticklabels=classes, yticklabels=classes)\n",
        "plt.xlabel('Predicted')\n",
        "plt.ylabel('Actual')\n",
        "plt.title('Confusion Matrix')\n",
        "plt.show()"
      ],
      "metadata": {
        "colab": {
          "base_uri": "https://localhost:8080/",
          "height": 761
        },
        "id": "y0-osMyyOPpd",
        "outputId": "ee29491a-4f14-431b-b190-8ee18e009776"
      },
      "execution_count": 32,
      "outputs": [
        {
          "output_type": "display_data",
          "data": {
            "text/plain": [
              "<Figure size 1000x800 with 2 Axes>"
            ],
            "image/png": "[encoded data removed]"
          },
          "metadata": {}
        }
      ]
    }
  ]
}