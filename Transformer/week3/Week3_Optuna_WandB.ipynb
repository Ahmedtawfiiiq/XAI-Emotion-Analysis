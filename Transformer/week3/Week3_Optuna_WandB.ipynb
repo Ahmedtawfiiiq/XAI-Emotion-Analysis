{
  "nbformat": 4,
  "nbformat_minor": 0,
  "metadata": {
    "colab": {
      "provenance": [],
      "gpuType": "T4",
      "collapsed_sections": [
        "csh2ZF7cWBlD",
        "bCGRNdQtmMto"
      ]
    },
    "kernelspec": {
      "name": "python3",
      "display_name": "Python 3"
    },
    "language_info": {
      "name": "python"
    },
    "accelerator": "GPU",
    "widgets": {
      "application/vnd.jupyter.widget-state+json": {
        "63e1917722a34e21a067ec595edb9731": {
          "model_module": "@jupyter-widgets/controls",
          "model_name": "HBoxModel",
          "model_module_version": "1.5.0",
          "state": {
            "_dom_classes": [],
            "_model_module": "@jupyter-widgets/controls",
            "_model_module_version": "1.5.0",
            "_model_name": "HBoxModel",
            "_view_count": null,
            "_view_module": "@jupyter-widgets/controls",
            "_view_module_version": "1.5.0",
            "_view_name": "HBoxView",
            "box_style": "",
            "children": [
              "IPY_MODEL_910cad3bed824bfc9fe7b3a5283d4cad",
              "IPY_MODEL_5cf1f10fdcf44b918f532782bf3e8c25",
              "IPY_MODEL_18943e978a4e434fb74b4116e73348da"
            ],
            "layout": "IPY_MODEL_61bbd3bd85a54f73843e48110f214080"
          }
        },
        "910cad3bed824bfc9fe7b3a5283d4cad": {
          "model_module": "@jupyter-widgets/controls",
          "model_name": "HTMLModel",
          "model_module_version": "1.5.0",
          "state": {
            "_dom_classes": [],
            "_model_module": "@jupyter-widgets/controls",
            "_model_module_version": "1.5.0",
            "_model_name": "HTMLModel",
            "_view_count": null,
            "_view_module": "@jupyter-widgets/controls",
            "_view_module_version": "1.5.0",
            "_view_name": "HTMLView",
            "description": "",
            "description_tooltip": null,
            "layout": "IPY_MODEL_0ecc78bd317d45cbb25e9f4915e04f74",
            "placeholder": "​",
            "style": "IPY_MODEL_0f87abb9aeed4a2687320938497b8129",
            "value": "Downloading (…)okenizer_config.json: 100%"
          }
        },
        "5cf1f10fdcf44b918f532782bf3e8c25": {
          "model_module": "@jupyter-widgets/controls",
          "model_name": "FloatProgressModel",
          "model_module_version": "1.5.0",
          "state": {
            "_dom_classes": [],
            "_model_module": "@jupyter-widgets/controls",
            "_model_module_version": "1.5.0",
            "_model_name": "FloatProgressModel",
            "_view_count": null,
            "_view_module": "@jupyter-widgets/controls",
            "_view_module_version": "1.5.0",
            "_view_name": "ProgressView",
            "bar_style": "success",
            "description": "",
            "description_tooltip": null,
            "layout": "IPY_MODEL_3296e50c14dd44778adc2af77bea32a1",
            "max": 439,
            "min": 0,
            "orientation": "horizontal",
            "style": "IPY_MODEL_cb7150b3dd6a447d958d1b56a2a6b5b2",
            "value": 439
          }
        },
        "18943e978a4e434fb74b4116e73348da": {
          "model_module": "@jupyter-widgets/controls",
          "model_name": "HTMLModel",
          "model_module_version": "1.5.0",
          "state": {
            "_dom_classes": [],
            "_model_module": "@jupyter-widgets/controls",
            "_model_module_version": "1.5.0",
            "_model_name": "HTMLModel",
            "_view_count": null,
            "_view_module": "@jupyter-widgets/controls",
            "_view_module_version": "1.5.0",
            "_view_name": "HTMLView",
            "description": "",
            "description_tooltip": null,
            "layout": "IPY_MODEL_e751c47b68924ba8958e33c5eadf09f1",
            "placeholder": "​",
            "style": "IPY_MODEL_6c89e2c92deb4c96b0654644db2fadd2",
            "value": " 439/439 [00:00&lt;00:00, 14.0kB/s]"
          }
        },
        "61bbd3bd85a54f73843e48110f214080": {
          "model_module": "@jupyter-widgets/base",
          "model_name": "LayoutModel",
          "model_module_version": "1.2.0",
          "state": {
            "_model_module": "@jupyter-widgets/base",
            "_model_module_version": "1.2.0",
            "_model_name": "LayoutModel",
            "_view_count": null,
            "_view_module": "@jupyter-widgets/base",
            "_view_module_version": "1.2.0",
            "_view_name": "LayoutView",
            "align_content": null,
            "align_items": null,
            "align_self": null,
            "border": null,
            "bottom": null,
            "display": null,
            "flex": null,
            "flex_flow": null,
            "grid_area": null,
            "grid_auto_columns": null,
            "grid_auto_flow": null,
            "grid_auto_rows": null,
            "grid_column": null,
            "grid_gap": null,
            "grid_row": null,
            "grid_template_areas": null,
            "grid_template_columns": null,
            "grid_template_rows": null,
            "height": null,
            "justify_content": null,
            "justify_items": null,
            "left": null,
            "margin": null,
            "max_height": null,
            "max_width": null,
            "min_height": null,
            "min_width": null,
            "object_fit": null,
            "object_position": null,
            "order": null,
            "overflow": null,
            "overflow_x": null,
            "overflow_y": null,
            "padding": null,
            "right": null,
            "top": null,
            "visibility": null,
            "width": null
          }
        },
        "0ecc78bd317d45cbb25e9f4915e04f74": {
          "model_module": "@jupyter-widgets/base",
          "model_name": "LayoutModel",
          "model_module_version": "1.2.0",
          "state": {
            "_model_module": "@jupyter-widgets/base",
            "_model_module_version": "1.2.0",
            "_model_name": "LayoutModel",
            "_view_count": null,
            "_view_module": "@jupyter-widgets/base",
            "_view_module_version": "1.2.0",
            "_view_name": "LayoutView",
            "align_content": null,
            "align_items": null,
            "align_self": null,
            "border": null,
            "bottom": null,
            "display": null,
            "flex": null,
            "flex_flow": null,
            "grid_area": null,
            "grid_auto_columns": null,
            "grid_auto_flow": null,
            "grid_auto_rows": null,
            "grid_column": null,
            "grid_gap": null,
            "grid_row": null,
            "grid_template_areas": null,
            "grid_template_columns": null,
            "grid_template_rows": null,
            "height": null,
            "justify_content": null,
            "justify_items": null,
            "left": null,
            "margin": null,
            "max_height": null,
            "max_width": null,
            "min_height": null,
            "min_width": null,
            "object_fit": null,
            "object_position": null,
            "order": null,
            "overflow": null,
            "overflow_x": null,
            "overflow_y": null,
            "padding": null,
            "right": null,
            "top": null,
            "visibility": null,
            "width": null
          }
        },
        "0f87abb9aeed4a2687320938497b8129": {
          "model_module": "@jupyter-widgets/controls",
          "model_name": "DescriptionStyleModel",
          "model_module_version": "1.5.0",
          "state": {
            "_model_module": "@jupyter-widgets/controls",
            "_model_module_version": "1.5.0",
            "_model_name": "DescriptionStyleModel",
            "_view_count": null,
            "_view_module": "@jupyter-widgets/base",
            "_view_module_version": "1.2.0",
            "_view_name": "StyleView",
            "description_width": ""
          }
        },
        "3296e50c14dd44778adc2af77bea32a1": {
          "model_module": "@jupyter-widgets/base",
          "model_name": "LayoutModel",
          "model_module_version": "1.2.0",
          "state": {
            "_model_module": "@jupyter-widgets/base",
            "_model_module_version": "1.2.0",
            "_model_name": "LayoutModel",
            "_view_count": null,
            "_view_module": "@jupyter-widgets/base",
            "_view_module_version": "1.2.0",
            "_view_name": "LayoutView",
            "align_content": null,
            "align_items": null,
            "align_self": null,
            "border": null,
            "bottom": null,
            "display": null,
            "flex": null,
            "flex_flow": null,
            "grid_area": null,
            "grid_auto_columns": null,
            "grid_auto_flow": null,
            "grid_auto_rows": null,
            "grid_column": null,
            "grid_gap": null,
            "grid_row": null,
            "grid_template_areas": null,
            "grid_template_columns": null,
            "grid_template_rows": null,
            "height": null,
            "justify_content": null,
            "justify_items": null,
            "left": null,
            "margin": null,
            "max_height": null,
            "max_width": null,
            "min_height": null,
            "min_width": null,
            "object_fit": null,
            "object_position": null,
            "order": null,
            "overflow": null,
            "overflow_x": null,
            "overflow_y": null,
            "padding": null,
            "right": null,
            "top": null,
            "visibility": null,
            "width": null
          }
        },
        "cb7150b3dd6a447d958d1b56a2a6b5b2": {
          "model_module": "@jupyter-widgets/controls",
          "model_name": "ProgressStyleModel",
          "model_module_version": "1.5.0",
          "state": {
            "_model_module": "@jupyter-widgets/controls",
            "_model_module_version": "1.5.0",
            "_model_name": "ProgressStyleModel",
            "_view_count": null,
            "_view_module": "@jupyter-widgets/base",
            "_view_module_version": "1.2.0",
            "_view_name": "StyleView",
            "bar_color": null,
            "description_width": ""
          }
        },
        "e751c47b68924ba8958e33c5eadf09f1": {
          "model_module": "@jupyter-widgets/base",
          "model_name": "LayoutModel",
          "model_module_version": "1.2.0",
          "state": {
            "_model_module": "@jupyter-widgets/base",
            "_model_module_version": "1.2.0",
            "_model_name": "LayoutModel",
            "_view_count": null,
            "_view_module": "@jupyter-widgets/base",
            "_view_module_version": "1.2.0",
            "_view_name": "LayoutView",
            "align_content": null,
            "align_items": null,
            "align_self": null,
            "border": null,
            "bottom": null,
            "display": null,
            "flex": null,
            "flex_flow": null,
            "grid_area": null,
            "grid_auto_columns": null,
            "grid_auto_flow": null,
            "grid_auto_rows": null,
            "grid_column": null,
            "grid_gap": null,
            "grid_row": null,
            "grid_template_areas": null,
            "grid_template_columns": null,
            "grid_template_rows": null,
            "height": null,
            "justify_content": null,
            "justify_items": null,
            "left": null,
            "margin": null,
            "max_height": null,
            "max_width": null,
            "min_height": null,
            "min_width": null,
            "object_fit": null,
            "object_position": null,
            "order": null,
            "overflow": null,
            "overflow_x": null,
            "overflow_y": null,
            "padding": null,
            "right": null,
            "top": null,
            "visibility": null,
            "width": null
          }
        },
        "6c89e2c92deb4c96b0654644db2fadd2": {
          "model_module": "@jupyter-widgets/controls",
          "model_name": "DescriptionStyleModel",
          "model_module_version": "1.5.0",
          "state": {
            "_model_module": "@jupyter-widgets/controls",
            "_model_module_version": "1.5.0",
            "_model_name": "DescriptionStyleModel",
            "_view_count": null,
            "_view_module": "@jupyter-widgets/base",
            "_view_module_version": "1.2.0",
            "_view_name": "StyleView",
            "description_width": ""
          }
        },
        "9c8c5a66dd534ba6ae4d22bd1bf4611e": {
          "model_module": "@jupyter-widgets/controls",
          "model_name": "HBoxModel",
          "model_module_version": "1.5.0",
          "state": {
            "_dom_classes": [],
            "_model_module": "@jupyter-widgets/controls",
            "_model_module_version": "1.5.0",
            "_model_name": "HBoxModel",
            "_view_count": null,
            "_view_module": "@jupyter-widgets/controls",
            "_view_module_version": "1.5.0",
            "_view_name": "HBoxView",
            "box_style": "",
            "children": [
              "IPY_MODEL_c94c6025b6de47cbb0046eb8821581f1",
              "IPY_MODEL_f3ce7739109240a1a01720b756acbe84",
              "IPY_MODEL_f8f390d756164592849420780753d95c"
            ],
            "layout": "IPY_MODEL_effced9286c94b5c801b1a1759c89066"
          }
        },
        "c94c6025b6de47cbb0046eb8821581f1": {
          "model_module": "@jupyter-widgets/controls",
          "model_name": "HTMLModel",
          "model_module_version": "1.5.0",
          "state": {
            "_dom_classes": [],
            "_model_module": "@jupyter-widgets/controls",
            "_model_module_version": "1.5.0",
            "_model_name": "HTMLModel",
            "_view_count": null,
            "_view_module": "@jupyter-widgets/controls",
            "_view_module_version": "1.5.0",
            "_view_name": "HTMLView",
            "description": "",
            "description_tooltip": null,
            "layout": "IPY_MODEL_68c0a036483a42c790e884a8fbae9a84",
            "placeholder": "​",
            "style": "IPY_MODEL_637d9634ee95410c889b69e65739d93f",
            "value": "Downloading (…)solve/main/vocab.txt: 100%"
          }
        },
        "f3ce7739109240a1a01720b756acbe84": {
          "model_module": "@jupyter-widgets/controls",
          "model_name": "FloatProgressModel",
          "model_module_version": "1.5.0",
          "state": {
            "_dom_classes": [],
            "_model_module": "@jupyter-widgets/controls",
            "_model_module_version": "1.5.0",
            "_model_name": "FloatProgressModel",
            "_view_count": null,
            "_view_module": "@jupyter-widgets/controls",
            "_view_module_version": "1.5.0",
            "_view_name": "ProgressView",
            "bar_style": "success",
            "description": "",
            "description_tooltip": null,
            "layout": "IPY_MODEL_3414283a01f24274bdd14a5f46c46f37",
            "max": 1099714,
            "min": 0,
            "orientation": "horizontal",
            "style": "IPY_MODEL_5ed4af6fb25746e4a254298e8f25cdae",
            "value": 1099714
          }
        },
        "f8f390d756164592849420780753d95c": {
          "model_module": "@jupyter-widgets/controls",
          "model_name": "HTMLModel",
          "model_module_version": "1.5.0",
          "state": {
            "_dom_classes": [],
            "_model_module": "@jupyter-widgets/controls",
            "_model_module_version": "1.5.0",
            "_model_name": "HTMLModel",
            "_view_count": null,
            "_view_module": "@jupyter-widgets/controls",
            "_view_module_version": "1.5.0",
            "_view_name": "HTMLView",
            "description": "",
            "description_tooltip": null,
            "layout": "IPY_MODEL_41c48ecd323f426a964bf9a5143bd2c2",
            "placeholder": "​",
            "style": "IPY_MODEL_c6f382cbcebb4cacb2ba0e0a197dcc3f",
            "value": " 1.10M/1.10M [00:00&lt;00:00, 4.45MB/s]"
          }
        },
        "effced9286c94b5c801b1a1759c89066": {
          "model_module": "@jupyter-widgets/base",
          "model_name": "LayoutModel",
          "model_module_version": "1.2.0",
          "state": {
            "_model_module": "@jupyter-widgets/base",
            "_model_module_version": "1.2.0",
            "_model_name": "LayoutModel",
            "_view_count": null,
            "_view_module": "@jupyter-widgets/base",
            "_view_module_version": "1.2.0",
            "_view_name": "LayoutView",
            "align_content": null,
            "align_items": null,
            "align_self": null,
            "border": null,
            "bottom": null,
            "display": null,
            "flex": null,
            "flex_flow": null,
            "grid_area": null,
            "grid_auto_columns": null,
            "grid_auto_flow": null,
            "grid_auto_rows": null,
            "grid_column": null,
            "grid_gap": null,
            "grid_row": null,
            "grid_template_areas": null,
            "grid_template_columns": null,
            "grid_template_rows": null,
            "height": null,
            "justify_content": null,
            "justify_items": null,
            "left": null,
            "margin": null,
            "max_height": null,
            "max_width": null,
            "min_height": null,
            "min_width": null,
            "object_fit": null,
            "object_position": null,
            "order": null,
            "overflow": null,
            "overflow_x": null,
            "overflow_y": null,
            "padding": null,
            "right": null,
            "top": null,
            "visibility": null,
            "width": null
          }
        },
        "68c0a036483a42c790e884a8fbae9a84": {
          "model_module": "@jupyter-widgets/base",
          "model_name": "LayoutModel",
          "model_module_version": "1.2.0",
          "state": {
            "_model_module": "@jupyter-widgets/base",
            "_model_module_version": "1.2.0",
            "_model_name": "LayoutModel",
            "_view_count": null,
            "_view_module": "@jupyter-widgets/base",
            "_view_module_version": "1.2.0",
            "_view_name": "LayoutView",
            "align_content": null,
            "align_items": null,
            "align_self": null,
            "border": null,
            "bottom": null,
            "display": null,
            "flex": null,
            "flex_flow": null,
            "grid_area": null,
            "grid_auto_columns": null,
            "grid_auto_flow": null,
            "grid_auto_rows": null,
            "grid_column": null,
            "grid_gap": null,
            "grid_row": null,
            "grid_template_areas": null,
            "grid_template_columns": null,
            "grid_template_rows": null,
            "height": null,
            "justify_content": null,
            "justify_items": null,
            "left": null,
            "margin": null,
            "max_height": null,
            "max_width": null,
            "min_height": null,
            "min_width": null,
            "object_fit": null,
            "object_position": null,
            "order": null,
            "overflow": null,
            "overflow_x": null,
            "overflow_y": null,
            "padding": null,
            "right": null,
            "top": null,
            "visibility": null,
            "width": null
          }
        },
        "637d9634ee95410c889b69e65739d93f": {
          "model_module": "@jupyter-widgets/controls",
          "model_name": "DescriptionStyleModel",
          "model_module_version": "1.5.0",
          "state": {
            "_model_module": "@jupyter-widgets/controls",
            "_model_module_version": "1.5.0",
            "_model_name": "DescriptionStyleModel",
            "_view_count": null,
            "_view_module": "@jupyter-widgets/base",
            "_view_module_version": "1.2.0",
            "_view_name": "StyleView",
            "description_width": ""
          }
        },
        "3414283a01f24274bdd14a5f46c46f37": {
          "model_module": "@jupyter-widgets/base",
          "model_name": "LayoutModel",
          "model_module_version": "1.2.0",
          "state": {
            "_model_module": "@jupyter-widgets/base",
            "_model_module_version": "1.2.0",
            "_model_name": "LayoutModel",
            "_view_count": null,
            "_view_module": "@jupyter-widgets/base",
            "_view_module_version": "1.2.0",
            "_view_name": "LayoutView",
            "align_content": null,
            "align_items": null,
            "align_self": null,
            "border": null,
            "bottom": null,
            "display": null,
            "flex": null,
            "flex_flow": null,
            "grid_area": null,
            "grid_auto_columns": null,
            "grid_auto_flow": null,
            "grid_auto_rows": null,
            "grid_column": null,
            "grid_gap": null,
            "grid_row": null,
            "grid_template_areas": null,
            "grid_template_columns": null,
            "grid_template_rows": null,
            "height": null,
            "justify_content": null,
            "justify_items": null,
            "left": null,
            "margin": null,
            "max_height": null,
            "max_width": null,
            "min_height": null,
            "min_width": null,
            "object_fit": null,
            "object_position": null,
            "order": null,
            "overflow": null,
            "overflow_x": null,
            "overflow_y": null,
            "padding": null,
            "right": null,
            "top": null,
            "visibility": null,
            "width": null
          }
        },
        "5ed4af6fb25746e4a254298e8f25cdae": {
          "model_module": "@jupyter-widgets/controls",
          "model_name": "ProgressStyleModel",
          "model_module_version": "1.5.0",
          "state": {
            "_model_module": "@jupyter-widgets/controls",
            "_model_module_version": "1.5.0",
            "_model_name": "ProgressStyleModel",
            "_view_count": null,
            "_view_module": "@jupyter-widgets/base",
            "_view_module_version": "1.2.0",
            "_view_name": "StyleView",
            "bar_color": null,
            "description_width": ""
          }
        },
        "41c48ecd323f426a964bf9a5143bd2c2": {
          "model_module": "@jupyter-widgets/base",
          "model_name": "LayoutModel",
          "model_module_version": "1.2.0",
          "state": {
            "_model_module": "@jupyter-widgets/base",
            "_model_module_version": "1.2.0",
            "_model_name": "LayoutModel",
            "_view_count": null,
            "_view_module": "@jupyter-widgets/base",
            "_view_module_version": "1.2.0",
            "_view_name": "LayoutView",
            "align_content": null,
            "align_items": null,
            "align_self": null,
            "border": null,
            "bottom": null,
            "display": null,
            "flex": null,
            "flex_flow": null,
            "grid_area": null,
            "grid_auto_columns": null,
            "grid_auto_flow": null,
            "grid_auto_rows": null,
            "grid_column": null,
            "grid_gap": null,
            "grid_row": null,
            "grid_template_areas": null,
            "grid_template_columns": null,
            "grid_template_rows": null,
            "height": null,
            "justify_content": null,
            "justify_items": null,
            "left": null,
            "margin": null,
            "max_height": null,
            "max_width": null,
            "min_height": null,
            "min_width": null,
            "object_fit": null,
            "object_position": null,
            "order": null,
            "overflow": null,
            "overflow_x": null,
            "overflow_y": null,
            "padding": null,
            "right": null,
            "top": null,
            "visibility": null,
            "width": null
          }
        },
        "c6f382cbcebb4cacb2ba0e0a197dcc3f": {
          "model_module": "@jupyter-widgets/controls",
          "model_name": "DescriptionStyleModel",
          "model_module_version": "1.5.0",
          "state": {
            "_model_module": "@jupyter-widgets/controls",
            "_model_module_version": "1.5.0",
            "_model_name": "DescriptionStyleModel",
            "_view_count": null,
            "_view_module": "@jupyter-widgets/base",
            "_view_module_version": "1.2.0",
            "_view_name": "StyleView",
            "description_width": ""
          }
        },
        "244300d15b2d4cc99a7e602bf877f087": {
          "model_module": "@jupyter-widgets/controls",
          "model_name": "HBoxModel",
          "model_module_version": "1.5.0",
          "state": {
            "_dom_classes": [],
            "_model_module": "@jupyter-widgets/controls",
            "_model_module_version": "1.5.0",
            "_model_name": "HBoxModel",
            "_view_count": null,
            "_view_module": "@jupyter-widgets/controls",
            "_view_module_version": "1.5.0",
            "_view_name": "HBoxView",
            "box_style": "",
            "children": [
              "IPY_MODEL_b615d076ca3b46df9f618f65828fcae0",
              "IPY_MODEL_2a404913ec404baebf6aff3d980c5051",
              "IPY_MODEL_4e1e35b7df114fad80495500e9a5e4bc"
            ],
            "layout": "IPY_MODEL_dd5b2d521d904f2fb628082c3625aabc"
          }
        },
        "b615d076ca3b46df9f618f65828fcae0": {
          "model_module": "@jupyter-widgets/controls",
          "model_name": "HTMLModel",
          "model_module_version": "1.5.0",
          "state": {
            "_dom_classes": [],
            "_model_module": "@jupyter-widgets/controls",
            "_model_module_version": "1.5.0",
            "_model_name": "HTMLModel",
            "_view_count": null,
            "_view_module": "@jupyter-widgets/controls",
            "_view_module_version": "1.5.0",
            "_view_name": "HTMLView",
            "description": "",
            "description_tooltip": null,
            "layout": "IPY_MODEL_43f876d144af41599eb58babce839989",
            "placeholder": "​",
            "style": "IPY_MODEL_de7bee5f16a84a529c853d7e1dd89277",
            "value": "Downloading (…)cial_tokens_map.json: 100%"
          }
        },
        "2a404913ec404baebf6aff3d980c5051": {
          "model_module": "@jupyter-widgets/controls",
          "model_name": "FloatProgressModel",
          "model_module_version": "1.5.0",
          "state": {
            "_dom_classes": [],
            "_model_module": "@jupyter-widgets/controls",
            "_model_module_version": "1.5.0",
            "_model_name": "FloatProgressModel",
            "_view_count": null,
            "_view_module": "@jupyter-widgets/controls",
            "_view_module_version": "1.5.0",
            "_view_name": "ProgressView",
            "bar_style": "success",
            "description": "",
            "description_tooltip": null,
            "layout": "IPY_MODEL_615fcb7f35f344ed9958454e33a69dfb",
            "max": 112,
            "min": 0,
            "orientation": "horizontal",
            "style": "IPY_MODEL_449125db41c144238433b7d642718f12",
            "value": 112
          }
        },
        "4e1e35b7df114fad80495500e9a5e4bc": {
          "model_module": "@jupyter-widgets/controls",
          "model_name": "HTMLModel",
          "model_module_version": "1.5.0",
          "state": {
            "_dom_classes": [],
            "_model_module": "@jupyter-widgets/controls",
            "_model_module_version": "1.5.0",
            "_model_name": "HTMLModel",
            "_view_count": null,
            "_view_module": "@jupyter-widgets/controls",
            "_view_module_version": "1.5.0",
            "_view_name": "HTMLView",
            "description": "",
            "description_tooltip": null,
            "layout": "IPY_MODEL_358fcf263d08436e90389cbe4735de89",
            "placeholder": "​",
            "style": "IPY_MODEL_135a5bf992c24f26a64b7491f93ad9c5",
            "value": " 112/112 [00:00&lt;00:00, 2.62kB/s]"
          }
        },
        "dd5b2d521d904f2fb628082c3625aabc": {
          "model_module": "@jupyter-widgets/base",
          "model_name": "LayoutModel",
          "model_module_version": "1.2.0",
          "state": {
            "_model_module": "@jupyter-widgets/base",
            "_model_module_version": "1.2.0",
            "_model_name": "LayoutModel",
            "_view_count": null,
            "_view_module": "@jupyter-widgets/base",
            "_view_module_version": "1.2.0",
            "_view_name": "LayoutView",
            "align_content": null,
            "align_items": null,
            "align_self": null,
            "border": null,
            "bottom": null,
            "display": null,
            "flex": null,
            "flex_flow": null,
            "grid_area": null,
            "grid_auto_columns": null,
            "grid_auto_flow": null,
            "grid_auto_rows": null,
            "grid_column": null,
            "grid_gap": null,
            "grid_row": null,
            "grid_template_areas": null,
            "grid_template_columns": null,
            "grid_template_rows": null,
            "height": null,
            "justify_content": null,
            "justify_items": null,
            "left": null,
            "margin": null,
            "max_height": null,
            "max_width": null,
            "min_height": null,
            "min_width": null,
            "object_fit": null,
            "object_position": null,
            "order": null,
            "overflow": null,
            "overflow_x": null,
            "overflow_y": null,
            "padding": null,
            "right": null,
            "top": null,
            "visibility": null,
            "width": null
          }
        },
        "43f876d144af41599eb58babce839989": {
          "model_module": "@jupyter-widgets/base",
          "model_name": "LayoutModel",
          "model_module_version": "1.2.0",
          "state": {
            "_model_module": "@jupyter-widgets/base",
            "_model_module_version": "1.2.0",
            "_model_name": "LayoutModel",
            "_view_count": null,
            "_view_module": "@jupyter-widgets/base",
            "_view_module_version": "1.2.0",
            "_view_name": "LayoutView",
            "align_content": null,
            "align_items": null,
            "align_self": null,
            "border": null,
            "bottom": null,
            "display": null,
            "flex": null,
            "flex_flow": null,
            "grid_area": null,
            "grid_auto_columns": null,
            "grid_auto_flow": null,
            "grid_auto_rows": null,
            "grid_column": null,
            "grid_gap": null,
            "grid_row": null,
            "grid_template_areas": null,
            "grid_template_columns": null,
            "grid_template_rows": null,
            "height": null,
            "justify_content": null,
            "justify_items": null,
            "left": null,
            "margin": null,
            "max_height": null,
            "max_width": null,
            "min_height": null,
            "min_width": null,
            "object_fit": null,
            "object_position": null,
            "order": null,
            "overflow": null,
            "overflow_x": null,
            "overflow_y": null,
            "padding": null,
            "right": null,
            "top": null,
            "visibility": null,
            "width": null
          }
        },
        "de7bee5f16a84a529c853d7e1dd89277": {
          "model_module": "@jupyter-widgets/controls",
          "model_name": "DescriptionStyleModel",
          "model_module_version": "1.5.0",
          "state": {
            "_model_module": "@jupyter-widgets/controls",
            "_model_module_version": "1.5.0",
            "_model_name": "DescriptionStyleModel",
            "_view_count": null,
            "_view_module": "@jupyter-widgets/base",
            "_view_module_version": "1.2.0",
            "_view_name": "StyleView",
            "description_width": ""
          }
        },
        "615fcb7f35f344ed9958454e33a69dfb": {
          "model_module": "@jupyter-widgets/base",
          "model_name": "LayoutModel",
          "model_module_version": "1.2.0",
          "state": {
            "_model_module": "@jupyter-widgets/base",
            "_model_module_version": "1.2.0",
            "_model_name": "LayoutModel",
            "_view_count": null,
            "_view_module": "@jupyter-widgets/base",
            "_view_module_version": "1.2.0",
            "_view_name": "LayoutView",
            "align_content": null,
            "align_items": null,
            "align_self": null,
            "border": null,
            "bottom": null,
            "display": null,
            "flex": null,
            "flex_flow": null,
            "grid_area": null,
            "grid_auto_columns": null,
            "grid_auto_flow": null,
            "grid_auto_rows": null,
            "grid_column": null,
            "grid_gap": null,
            "grid_row": null,
            "grid_template_areas": null,
            "grid_template_columns": null,
            "grid_template_rows": null,
            "height": null,
            "justify_content": null,
            "justify_items": null,
            "left": null,
            "margin": null,
            "max_height": null,
            "max_width": null,
            "min_height": null,
            "min_width": null,
            "object_fit": null,
            "object_position": null,
            "order": null,
            "overflow": null,
            "overflow_x": null,
            "overflow_y": null,
            "padding": null,
            "right": null,
            "top": null,
            "visibility": null,
            "width": null
          }
        },
        "449125db41c144238433b7d642718f12": {
          "model_module": "@jupyter-widgets/controls",
          "model_name": "ProgressStyleModel",
          "model_module_version": "1.5.0",
          "state": {
            "_model_module": "@jupyter-widgets/controls",
            "_model_module_version": "1.5.0",
            "_model_name": "ProgressStyleModel",
            "_view_count": null,
            "_view_module": "@jupyter-widgets/base",
            "_view_module_version": "1.2.0",
            "_view_name": "StyleView",
            "bar_color": null,
            "description_width": ""
          }
        },
        "358fcf263d08436e90389cbe4735de89": {
          "model_module": "@jupyter-widgets/base",
          "model_name": "LayoutModel",
          "model_module_version": "1.2.0",
          "state": {
            "_model_module": "@jupyter-widgets/base",
            "_model_module_version": "1.2.0",
            "_model_name": "LayoutModel",
            "_view_count": null,
            "_view_module": "@jupyter-widgets/base",
            "_view_module_version": "1.2.0",
            "_view_name": "LayoutView",
            "align_content": null,
            "align_items": null,
            "align_self": null,
            "border": null,
            "bottom": null,
            "display": null,
            "flex": null,
            "flex_flow": null,
            "grid_area": null,
            "grid_auto_columns": null,
            "grid_auto_flow": null,
            "grid_auto_rows": null,
            "grid_column": null,
            "grid_gap": null,
            "grid_row": null,
            "grid_template_areas": null,
            "grid_template_columns": null,
            "grid_template_rows": null,
            "height": null,
            "justify_content": null,
            "justify_items": null,
            "left": null,
            "margin": null,
            "max_height": null,
            "max_width": null,
            "min_height": null,
            "min_width": null,
            "object_fit": null,
            "object_position": null,
            "order": null,
            "overflow": null,
            "overflow_x": null,
            "overflow_y": null,
            "padding": null,
            "right": null,
            "top": null,
            "visibility": null,
            "width": null
          }
        },
        "135a5bf992c24f26a64b7491f93ad9c5": {
          "model_module": "@jupyter-widgets/controls",
          "model_name": "DescriptionStyleModel",
          "model_module_version": "1.5.0",
          "state": {
            "_model_module": "@jupyter-widgets/controls",
            "_model_module_version": "1.5.0",
            "_model_name": "DescriptionStyleModel",
            "_view_count": null,
            "_view_module": "@jupyter-widgets/base",
            "_view_module_version": "1.2.0",
            "_view_name": "StyleView",
            "description_width": ""
          }
        },
        "1599b36fc8fb4a2cb4564ff931ac5bf2": {
          "model_module": "@jupyter-widgets/controls",
          "model_name": "HBoxModel",
          "model_module_version": "1.5.0",
          "state": {
            "_dom_classes": [],
            "_model_module": "@jupyter-widgets/controls",
            "_model_module_version": "1.5.0",
            "_model_name": "HBoxModel",
            "_view_count": null,
            "_view_module": "@jupyter-widgets/controls",
            "_view_module_version": "1.5.0",
            "_view_name": "HBoxView",
            "box_style": "",
            "children": [
              "IPY_MODEL_71ed34ed6bdd4840902b688d9b42b534",
              "IPY_MODEL_785a8575369b4b15b2db05a48e6fb5f0",
              "IPY_MODEL_e739897c4d7741baaf00b610d77b4dc8"
            ],
            "layout": "IPY_MODEL_3e2ac497612347079450926d492c99e7"
          }
        },
        "71ed34ed6bdd4840902b688d9b42b534": {
          "model_module": "@jupyter-widgets/controls",
          "model_name": "HTMLModel",
          "model_module_version": "1.5.0",
          "state": {
            "_dom_classes": [],
            "_model_module": "@jupyter-widgets/controls",
            "_model_module_version": "1.5.0",
            "_model_name": "HTMLModel",
            "_view_count": null,
            "_view_module": "@jupyter-widgets/controls",
            "_view_module_version": "1.5.0",
            "_view_name": "HTMLView",
            "description": "",
            "description_tooltip": null,
            "layout": "IPY_MODEL_a5afea7eea1d42e38a6fecf470c6b194",
            "placeholder": "​",
            "style": "IPY_MODEL_d40f1e40057f4fbf91e23a44271a408b",
            "value": "Map (num_proc=8): 100%"
          }
        },
        "785a8575369b4b15b2db05a48e6fb5f0": {
          "model_module": "@jupyter-widgets/controls",
          "model_name": "FloatProgressModel",
          "model_module_version": "1.5.0",
          "state": {
            "_dom_classes": [],
            "_model_module": "@jupyter-widgets/controls",
            "_model_module_version": "1.5.0",
            "_model_name": "FloatProgressModel",
            "_view_count": null,
            "_view_module": "@jupyter-widgets/controls",
            "_view_module_version": "1.5.0",
            "_view_name": "ProgressView",
            "bar_style": "success",
            "description": "",
            "description_tooltip": null,
            "layout": "IPY_MODEL_dba289e0f6304c099dc0a2a7944cf6d7",
            "max": 7045,
            "min": 0,
            "orientation": "horizontal",
            "style": "IPY_MODEL_e2ea65c98f484425a8b4219e050fffc4",
            "value": 7045
          }
        },
        "e739897c4d7741baaf00b610d77b4dc8": {
          "model_module": "@jupyter-widgets/controls",
          "model_name": "HTMLModel",
          "model_module_version": "1.5.0",
          "state": {
            "_dom_classes": [],
            "_model_module": "@jupyter-widgets/controls",
            "_model_module_version": "1.5.0",
            "_model_name": "HTMLModel",
            "_view_count": null,
            "_view_module": "@jupyter-widgets/controls",
            "_view_module_version": "1.5.0",
            "_view_name": "HTMLView",
            "description": "",
            "description_tooltip": null,
            "layout": "IPY_MODEL_cdb41c72379c4bfb8a370767c0e60072",
            "placeholder": "​",
            "style": "IPY_MODEL_762f86ce30fc430b993e9ded9f282df6",
            "value": " 7045/7045 [00:01&lt;00:00, 7604.28 examples/s]"
          }
        },
        "3e2ac497612347079450926d492c99e7": {
          "model_module": "@jupyter-widgets/base",
          "model_name": "LayoutModel",
          "model_module_version": "1.2.0",
          "state": {
            "_model_module": "@jupyter-widgets/base",
            "_model_module_version": "1.2.0",
            "_model_name": "LayoutModel",
            "_view_count": null,
            "_view_module": "@jupyter-widgets/base",
            "_view_module_version": "1.2.0",
            "_view_name": "LayoutView",
            "align_content": null,
            "align_items": null,
            "align_self": null,
            "border": null,
            "bottom": null,
            "display": null,
            "flex": null,
            "flex_flow": null,
            "grid_area": null,
            "grid_auto_columns": null,
            "grid_auto_flow": null,
            "grid_auto_rows": null,
            "grid_column": null,
            "grid_gap": null,
            "grid_row": null,
            "grid_template_areas": null,
            "grid_template_columns": null,
            "grid_template_rows": null,
            "height": null,
            "justify_content": null,
            "justify_items": null,
            "left": null,
            "margin": null,
            "max_height": null,
            "max_width": null,
            "min_height": null,
            "min_width": null,
            "object_fit": null,
            "object_position": null,
            "order": null,
            "overflow": null,
            "overflow_x": null,
            "overflow_y": null,
            "padding": null,
            "right": null,
            "top": null,
            "visibility": null,
            "width": null
          }
        },
        "a5afea7eea1d42e38a6fecf470c6b194": {
          "model_module": "@jupyter-widgets/base",
          "model_name": "LayoutModel",
          "model_module_version": "1.2.0",
          "state": {
            "_model_module": "@jupyter-widgets/base",
            "_model_module_version": "1.2.0",
            "_model_name": "LayoutModel",
            "_view_count": null,
            "_view_module": "@jupyter-widgets/base",
            "_view_module_version": "1.2.0",
            "_view_name": "LayoutView",
            "align_content": null,
            "align_items": null,
            "align_self": null,
            "border": null,
            "bottom": null,
            "display": null,
            "flex": null,
            "flex_flow": null,
            "grid_area": null,
            "grid_auto_columns": null,
            "grid_auto_flow": null,
            "grid_auto_rows": null,
            "grid_column": null,
            "grid_gap": null,
            "grid_row": null,
            "grid_template_areas": null,
            "grid_template_columns": null,
            "grid_template_rows": null,
            "height": null,
            "justify_content": null,
            "justify_items": null,
            "left": null,
            "margin": null,
            "max_height": null,
            "max_width": null,
            "min_height": null,
            "min_width": null,
            "object_fit": null,
            "object_position": null,
            "order": null,
            "overflow": null,
            "overflow_x": null,
            "overflow_y": null,
            "padding": null,
            "right": null,
            "top": null,
            "visibility": null,
            "width": null
          }
        },
        "d40f1e40057f4fbf91e23a44271a408b": {
          "model_module": "@jupyter-widgets/controls",
          "model_name": "DescriptionStyleModel",
          "model_module_version": "1.5.0",
          "state": {
            "_model_module": "@jupyter-widgets/controls",
            "_model_module_version": "1.5.0",
            "_model_name": "DescriptionStyleModel",
            "_view_count": null,
            "_view_module": "@jupyter-widgets/base",
            "_view_module_version": "1.2.0",
            "_view_name": "StyleView",
            "description_width": ""
          }
        },
        "dba289e0f6304c099dc0a2a7944cf6d7": {
          "model_module": "@jupyter-widgets/base",
          "model_name": "LayoutModel",
          "model_module_version": "1.2.0",
          "state": {
            "_model_module": "@jupyter-widgets/base",
            "_model_module_version": "1.2.0",
            "_model_name": "LayoutModel",
            "_view_count": null,
            "_view_module": "@jupyter-widgets/base",
            "_view_module_version": "1.2.0",
            "_view_name": "LayoutView",
            "align_content": null,
            "align_items": null,
            "align_self": null,
            "border": null,
            "bottom": null,
            "display": null,
            "flex": null,
            "flex_flow": null,
            "grid_area": null,
            "grid_auto_columns": null,
            "grid_auto_flow": null,
            "grid_auto_rows": null,
            "grid_column": null,
            "grid_gap": null,
            "grid_row": null,
            "grid_template_areas": null,
            "grid_template_columns": null,
            "grid_template_rows": null,
            "height": null,
            "justify_content": null,
            "justify_items": null,
            "left": null,
            "margin": null,
            "max_height": null,
            "max_width": null,
            "min_height": null,
            "min_width": null,
            "object_fit": null,
            "object_position": null,
            "order": null,
            "overflow": null,
            "overflow_x": null,
            "overflow_y": null,
            "padding": null,
            "right": null,
            "top": null,
            "visibility": null,
            "width": null
          }
        },
        "e2ea65c98f484425a8b4219e050fffc4": {
          "model_module": "@jupyter-widgets/controls",
          "model_name": "ProgressStyleModel",
          "model_module_version": "1.5.0",
          "state": {
            "_model_module": "@jupyter-widgets/controls",
            "_model_module_version": "1.5.0",
            "_model_name": "ProgressStyleModel",
            "_view_count": null,
            "_view_module": "@jupyter-widgets/base",
            "_view_module_version": "1.2.0",
            "_view_name": "StyleView",
            "bar_color": null,
            "description_width": ""
          }
        },
        "cdb41c72379c4bfb8a370767c0e60072": {
          "model_module": "@jupyter-widgets/base",
          "model_name": "LayoutModel",
          "model_module_version": "1.2.0",
          "state": {
            "_model_module": "@jupyter-widgets/base",
            "_model_module_version": "1.2.0",
            "_model_name": "LayoutModel",
            "_view_count": null,
            "_view_module": "@jupyter-widgets/base",
            "_view_module_version": "1.2.0",
            "_view_name": "LayoutView",
            "align_content": null,
            "align_items": null,
            "align_self": null,
            "border": null,
            "bottom": null,
            "display": null,
            "flex": null,
            "flex_flow": null,
            "grid_area": null,
            "grid_auto_columns": null,
            "grid_auto_flow": null,
            "grid_auto_rows": null,
            "grid_column": null,
            "grid_gap": null,
            "grid_row": null,
            "grid_template_areas": null,
            "grid_template_columns": null,
            "grid_template_rows": null,
            "height": null,
            "justify_content": null,
            "justify_items": null,
            "left": null,
            "margin": null,
            "max_height": null,
            "max_width": null,
            "min_height": null,
            "min_width": null,
            "object_fit": null,
            "object_position": null,
            "order": null,
            "overflow": null,
            "overflow_x": null,
            "overflow_y": null,
            "padding": null,
            "right": null,
            "top": null,
            "visibility": null,
            "width": null
          }
        },
        "762f86ce30fc430b993e9ded9f282df6": {
          "model_module": "@jupyter-widgets/controls",
          "model_name": "DescriptionStyleModel",
          "model_module_version": "1.5.0",
          "state": {
            "_model_module": "@jupyter-widgets/controls",
            "_model_module_version": "1.5.0",
            "_model_name": "DescriptionStyleModel",
            "_view_count": null,
            "_view_module": "@jupyter-widgets/base",
            "_view_module_version": "1.2.0",
            "_view_name": "StyleView",
            "description_width": ""
          }
        },
        "20c904738a584e8cac6964629a59b5e8": {
          "model_module": "@jupyter-widgets/controls",
          "model_name": "HBoxModel",
          "model_module_version": "1.5.0",
          "state": {
            "_dom_classes": [],
            "_model_module": "@jupyter-widgets/controls",
            "_model_module_version": "1.5.0",
            "_model_name": "HBoxModel",
            "_view_count": null,
            "_view_module": "@jupyter-widgets/controls",
            "_view_module_version": "1.5.0",
            "_view_name": "HBoxView",
            "box_style": "",
            "children": [
              "IPY_MODEL_5e857deb2eae420a8026ba79572689d8",
              "IPY_MODEL_328ea78fd64b46059779694c9fef4107",
              "IPY_MODEL_ceda410d1b114fd8ac3fa9a51eebdebc"
            ],
            "layout": "IPY_MODEL_9c2cb68b4f6a42e9a2a88eb8f7afd00c"
          }
        },
        "5e857deb2eae420a8026ba79572689d8": {
          "model_module": "@jupyter-widgets/controls",
          "model_name": "HTMLModel",
          "model_module_version": "1.5.0",
          "state": {
            "_dom_classes": [],
            "_model_module": "@jupyter-widgets/controls",
            "_model_module_version": "1.5.0",
            "_model_name": "HTMLModel",
            "_view_count": null,
            "_view_module": "@jupyter-widgets/controls",
            "_view_module_version": "1.5.0",
            "_view_name": "HTMLView",
            "description": "",
            "description_tooltip": null,
            "layout": "IPY_MODEL_c16f25e9055f4836891c33a824d68675",
            "placeholder": "​",
            "style": "IPY_MODEL_ac8540320e74414db878cda598774bd6",
            "value": "Map (num_proc=8): 100%"
          }
        },
        "328ea78fd64b46059779694c9fef4107": {
          "model_module": "@jupyter-widgets/controls",
          "model_name": "FloatProgressModel",
          "model_module_version": "1.5.0",
          "state": {
            "_dom_classes": [],
            "_model_module": "@jupyter-widgets/controls",
            "_model_module_version": "1.5.0",
            "_model_name": "FloatProgressModel",
            "_view_count": null,
            "_view_module": "@jupyter-widgets/controls",
            "_view_module_version": "1.5.0",
            "_view_name": "ProgressView",
            "bar_style": "success",
            "description": "",
            "description_tooltip": null,
            "layout": "IPY_MODEL_6c4a9a7ddbc04f32b6f814f5af2e3536",
            "max": 1510,
            "min": 0,
            "orientation": "horizontal",
            "style": "IPY_MODEL_653a9eb06981497faf8ae44703cf74b8",
            "value": 1510
          }
        },
        "ceda410d1b114fd8ac3fa9a51eebdebc": {
          "model_module": "@jupyter-widgets/controls",
          "model_name": "HTMLModel",
          "model_module_version": "1.5.0",
          "state": {
            "_dom_classes": [],
            "_model_module": "@jupyter-widgets/controls",
            "_model_module_version": "1.5.0",
            "_model_name": "HTMLModel",
            "_view_count": null,
            "_view_module": "@jupyter-widgets/controls",
            "_view_module_version": "1.5.0",
            "_view_name": "HTMLView",
            "description": "",
            "description_tooltip": null,
            "layout": "IPY_MODEL_29c64811845d43a9a070da99213bf053",
            "placeholder": "​",
            "style": "IPY_MODEL_8d3dbd155ca845de99455b4b1de3512a",
            "value": " 1510/1510 [00:01&lt;00:00, 2423.78 examples/s]"
          }
        },
        "9c2cb68b4f6a42e9a2a88eb8f7afd00c": {
          "model_module": "@jupyter-widgets/base",
          "model_name": "LayoutModel",
          "model_module_version": "1.2.0",
          "state": {
            "_model_module": "@jupyter-widgets/base",
            "_model_module_version": "1.2.0",
            "_model_name": "LayoutModel",
            "_view_count": null,
            "_view_module": "@jupyter-widgets/base",
            "_view_module_version": "1.2.0",
            "_view_name": "LayoutView",
            "align_content": null,
            "align_items": null,
            "align_self": null,
            "border": null,
            "bottom": null,
            "display": null,
            "flex": null,
            "flex_flow": null,
            "grid_area": null,
            "grid_auto_columns": null,
            "grid_auto_flow": null,
            "grid_auto_rows": null,
            "grid_column": null,
            "grid_gap": null,
            "grid_row": null,
            "grid_template_areas": null,
            "grid_template_columns": null,
            "grid_template_rows": null,
            "height": null,
            "justify_content": null,
            "justify_items": null,
            "left": null,
            "margin": null,
            "max_height": null,
            "max_width": null,
            "min_height": null,
            "min_width": null,
            "object_fit": null,
            "object_position": null,
            "order": null,
            "overflow": null,
            "overflow_x": null,
            "overflow_y": null,
            "padding": null,
            "right": null,
            "top": null,
            "visibility": null,
            "width": null
          }
        },
        "c16f25e9055f4836891c33a824d68675": {
          "model_module": "@jupyter-widgets/base",
          "model_name": "LayoutModel",
          "model_module_version": "1.2.0",
          "state": {
            "_model_module": "@jupyter-widgets/base",
            "_model_module_version": "1.2.0",
            "_model_name": "LayoutModel",
            "_view_count": null,
            "_view_module": "@jupyter-widgets/base",
            "_view_module_version": "1.2.0",
            "_view_name": "LayoutView",
            "align_content": null,
            "align_items": null,
            "align_self": null,
            "border": null,
            "bottom": null,
            "display": null,
            "flex": null,
            "flex_flow": null,
            "grid_area": null,
            "grid_auto_columns": null,
            "grid_auto_flow": null,
            "grid_auto_rows": null,
            "grid_column": null,
            "grid_gap": null,
            "grid_row": null,
            "grid_template_areas": null,
            "grid_template_columns": null,
            "grid_template_rows": null,
            "height": null,
            "justify_content": null,
            "justify_items": null,
            "left": null,
            "margin": null,
            "max_height": null,
            "max_width": null,
            "min_height": null,
            "min_width": null,
            "object_fit": null,
            "object_position": null,
            "order": null,
            "overflow": null,
            "overflow_x": null,
            "overflow_y": null,
            "padding": null,
            "right": null,
            "top": null,
            "visibility": null,
            "width": null
          }
        },
        "ac8540320e74414db878cda598774bd6": {
          "model_module": "@jupyter-widgets/controls",
          "model_name": "DescriptionStyleModel",
          "model_module_version": "1.5.0",
          "state": {
            "_model_module": "@jupyter-widgets/controls",
            "_model_module_version": "1.5.0",
            "_model_name": "DescriptionStyleModel",
            "_view_count": null,
            "_view_module": "@jupyter-widgets/base",
            "_view_module_version": "1.2.0",
            "_view_name": "StyleView",
            "description_width": ""
          }
        },
        "6c4a9a7ddbc04f32b6f814f5af2e3536": {
          "model_module": "@jupyter-widgets/base",
          "model_name": "LayoutModel",
          "model_module_version": "1.2.0",
          "state": {
            "_model_module": "@jupyter-widgets/base",
            "_model_module_version": "1.2.0",
            "_model_name": "LayoutModel",
            "_view_count": null,
            "_view_module": "@jupyter-widgets/base",
            "_view_module_version": "1.2.0",
            "_view_name": "LayoutView",
            "align_content": null,
            "align_items": null,
            "align_self": null,
            "border": null,
            "bottom": null,
            "display": null,
            "flex": null,
            "flex_flow": null,
            "grid_area": null,
            "grid_auto_columns": null,
            "grid_auto_flow": null,
            "grid_auto_rows": null,
            "grid_column": null,
            "grid_gap": null,
            "grid_row": null,
            "grid_template_areas": null,
            "grid_template_columns": null,
            "grid_template_rows": null,
            "height": null,
            "justify_content": null,
            "justify_items": null,
            "left": null,
            "margin": null,
            "max_height": null,
            "max_width": null,
            "min_height": null,
            "min_width": null,
            "object_fit": null,
            "object_position": null,
            "order": null,
            "overflow": null,
            "overflow_x": null,
            "overflow_y": null,
            "padding": null,
            "right": null,
            "top": null,
            "visibility": null,
            "width": null
          }
        },
        "653a9eb06981497faf8ae44703cf74b8": {
          "model_module": "@jupyter-widgets/controls",
          "model_name": "ProgressStyleModel",
          "model_module_version": "1.5.0",
          "state": {
            "_model_module": "@jupyter-widgets/controls",
            "_model_module_version": "1.5.0",
            "_model_name": "ProgressStyleModel",
            "_view_count": null,
            "_view_module": "@jupyter-widgets/base",
            "_view_module_version": "1.2.0",
            "_view_name": "StyleView",
            "bar_color": null,
            "description_width": ""
          }
        },
        "29c64811845d43a9a070da99213bf053": {
          "model_module": "@jupyter-widgets/base",
          "model_name": "LayoutModel",
          "model_module_version": "1.2.0",
          "state": {
            "_model_module": "@jupyter-widgets/base",
            "_model_module_version": "1.2.0",
            "_model_name": "LayoutModel",
            "_view_count": null,
            "_view_module": "@jupyter-widgets/base",
            "_view_module_version": "1.2.0",
            "_view_name": "LayoutView",
            "align_content": null,
            "align_items": null,
            "align_self": null,
            "border": null,
            "bottom": null,
            "display": null,
            "flex": null,
            "flex_flow": null,
            "grid_area": null,
            "grid_auto_columns": null,
            "grid_auto_flow": null,
            "grid_auto_rows": null,
            "grid_column": null,
            "grid_gap": null,
            "grid_row": null,
            "grid_template_areas": null,
            "grid_template_columns": null,
            "grid_template_rows": null,
            "height": null,
            "justify_content": null,
            "justify_items": null,
            "left": null,
            "margin": null,
            "max_height": null,
            "max_width": null,
            "min_height": null,
            "min_width": null,
            "object_fit": null,
            "object_position": null,
            "order": null,
            "overflow": null,
            "overflow_x": null,
            "overflow_y": null,
            "padding": null,
            "right": null,
            "top": null,
            "visibility": null,
            "width": null
          }
        },
        "8d3dbd155ca845de99455b4b1de3512a": {
          "model_module": "@jupyter-widgets/controls",
          "model_name": "DescriptionStyleModel",
          "model_module_version": "1.5.0",
          "state": {
            "_model_module": "@jupyter-widgets/controls",
            "_model_module_version": "1.5.0",
            "_model_name": "DescriptionStyleModel",
            "_view_count": null,
            "_view_module": "@jupyter-widgets/base",
            "_view_module_version": "1.2.0",
            "_view_name": "StyleView",
            "description_width": ""
          }
        },
        "7268c3c637854c208e1e6ee49a9f7138": {
          "model_module": "@jupyter-widgets/controls",
          "model_name": "HBoxModel",
          "model_module_version": "1.5.0",
          "state": {
            "_dom_classes": [],
            "_model_module": "@jupyter-widgets/controls",
            "_model_module_version": "1.5.0",
            "_model_name": "HBoxModel",
            "_view_count": null,
            "_view_module": "@jupyter-widgets/controls",
            "_view_module_version": "1.5.0",
            "_view_name": "HBoxView",
            "box_style": "",
            "children": [
              "IPY_MODEL_dc3e12c6b46d4ff4800735830da35bf0",
              "IPY_MODEL_a512e25ca18a4a98931454a2f463391c",
              "IPY_MODEL_ab2647fafc7543b79a7eec760f547698"
            ],
            "layout": "IPY_MODEL_b00c4faefbef43f99071517703a7a3de"
          }
        },
        "dc3e12c6b46d4ff4800735830da35bf0": {
          "model_module": "@jupyter-widgets/controls",
          "model_name": "HTMLModel",
          "model_module_version": "1.5.0",
          "state": {
            "_dom_classes": [],
            "_model_module": "@jupyter-widgets/controls",
            "_model_module_version": "1.5.0",
            "_model_name": "HTMLModel",
            "_view_count": null,
            "_view_module": "@jupyter-widgets/controls",
            "_view_module_version": "1.5.0",
            "_view_name": "HTMLView",
            "description": "",
            "description_tooltip": null,
            "layout": "IPY_MODEL_c3db43534a84459ca720332de6cf07b1",
            "placeholder": "​",
            "style": "IPY_MODEL_0f51cb3de8e64ef5b0eac5ca721ebd18",
            "value": "Map (num_proc=8): 100%"
          }
        },
        "a512e25ca18a4a98931454a2f463391c": {
          "model_module": "@jupyter-widgets/controls",
          "model_name": "FloatProgressModel",
          "model_module_version": "1.5.0",
          "state": {
            "_dom_classes": [],
            "_model_module": "@jupyter-widgets/controls",
            "_model_module_version": "1.5.0",
            "_model_name": "FloatProgressModel",
            "_view_count": null,
            "_view_module": "@jupyter-widgets/controls",
            "_view_module_version": "1.5.0",
            "_view_name": "ProgressView",
            "bar_style": "success",
            "description": "",
            "description_tooltip": null,
            "layout": "IPY_MODEL_b3a5069c15b44c55ac5c0f4290a9fb20",
            "max": 1510,
            "min": 0,
            "orientation": "horizontal",
            "style": "IPY_MODEL_0e0b9dfdccc54585ad642222eb2ba509",
            "value": 1510
          }
        },
        "ab2647fafc7543b79a7eec760f547698": {
          "model_module": "@jupyter-widgets/controls",
          "model_name": "HTMLModel",
          "model_module_version": "1.5.0",
          "state": {
            "_dom_classes": [],
            "_model_module": "@jupyter-widgets/controls",
            "_model_module_version": "1.5.0",
            "_model_name": "HTMLModel",
            "_view_count": null,
            "_view_module": "@jupyter-widgets/controls",
            "_view_module_version": "1.5.0",
            "_view_name": "HTMLView",
            "description": "",
            "description_tooltip": null,
            "layout": "IPY_MODEL_46bb0a94d34b4c4f8f8484c4544ab02f",
            "placeholder": "​",
            "style": "IPY_MODEL_347c3004730a4fcf87aa374c9e5d4162",
            "value": " 1510/1510 [00:00&lt;00:00, 1357.07 examples/s]"
          }
        },
        "b00c4faefbef43f99071517703a7a3de": {
          "model_module": "@jupyter-widgets/base",
          "model_name": "LayoutModel",
          "model_module_version": "1.2.0",
          "state": {
            "_model_module": "@jupyter-widgets/base",
            "_model_module_version": "1.2.0",
            "_model_name": "LayoutModel",
            "_view_count": null,
            "_view_module": "@jupyter-widgets/base",
            "_view_module_version": "1.2.0",
            "_view_name": "LayoutView",
            "align_content": null,
            "align_items": null,
            "align_self": null,
            "border": null,
            "bottom": null,
            "display": null,
            "flex": null,
            "flex_flow": null,
            "grid_area": null,
            "grid_auto_columns": null,
            "grid_auto_flow": null,
            "grid_auto_rows": null,
            "grid_column": null,
            "grid_gap": null,
            "grid_row": null,
            "grid_template_areas": null,
            "grid_template_columns": null,
            "grid_template_rows": null,
            "height": null,
            "justify_content": null,
            "justify_items": null,
            "left": null,
            "margin": null,
            "max_height": null,
            "max_width": null,
            "min_height": null,
            "min_width": null,
            "object_fit": null,
            "object_position": null,
            "order": null,
            "overflow": null,
            "overflow_x": null,
            "overflow_y": null,
            "padding": null,
            "right": null,
            "top": null,
            "visibility": null,
            "width": null
          }
        },
        "c3db43534a84459ca720332de6cf07b1": {
          "model_module": "@jupyter-widgets/base",
          "model_name": "LayoutModel",
          "model_module_version": "1.2.0",
          "state": {
            "_model_module": "@jupyter-widgets/base",
            "_model_module_version": "1.2.0",
            "_model_name": "LayoutModel",
            "_view_count": null,
            "_view_module": "@jupyter-widgets/base",
            "_view_module_version": "1.2.0",
            "_view_name": "LayoutView",
            "align_content": null,
            "align_items": null,
            "align_self": null,
            "border": null,
            "bottom": null,
            "display": null,
            "flex": null,
            "flex_flow": null,
            "grid_area": null,
            "grid_auto_columns": null,
            "grid_auto_flow": null,
            "grid_auto_rows": null,
            "grid_column": null,
            "grid_gap": null,
            "grid_row": null,
            "grid_template_areas": null,
            "grid_template_columns": null,
            "grid_template_rows": null,
            "height": null,
            "justify_content": null,
            "justify_items": null,
            "left": null,
            "margin": null,
            "max_height": null,
            "max_width": null,
            "min_height": null,
            "min_width": null,
            "object_fit": null,
            "object_position": null,
            "order": null,
            "overflow": null,
            "overflow_x": null,
            "overflow_y": null,
            "padding": null,
            "right": null,
            "top": null,
            "visibility": null,
            "width": null
          }
        },
        "0f51cb3de8e64ef5b0eac5ca721ebd18": {
          "model_module": "@jupyter-widgets/controls",
          "model_name": "DescriptionStyleModel",
          "model_module_version": "1.5.0",
          "state": {
            "_model_module": "@jupyter-widgets/controls",
            "_model_module_version": "1.5.0",
            "_model_name": "DescriptionStyleModel",
            "_view_count": null,
            "_view_module": "@jupyter-widgets/base",
            "_view_module_version": "1.2.0",
            "_view_name": "StyleView",
            "description_width": ""
          }
        },
        "b3a5069c15b44c55ac5c0f4290a9fb20": {
          "model_module": "@jupyter-widgets/base",
          "model_name": "LayoutModel",
          "model_module_version": "1.2.0",
          "state": {
            "_model_module": "@jupyter-widgets/base",
            "_model_module_version": "1.2.0",
            "_model_name": "LayoutModel",
            "_view_count": null,
            "_view_module": "@jupyter-widgets/base",
            "_view_module_version": "1.2.0",
            "_view_name": "LayoutView",
            "align_content": null,
            "align_items": null,
            "align_self": null,
            "border": null,
            "bottom": null,
            "display": null,
            "flex": null,
            "flex_flow": null,
            "grid_area": null,
            "grid_auto_columns": null,
            "grid_auto_flow": null,
            "grid_auto_rows": null,
            "grid_column": null,
            "grid_gap": null,
            "grid_row": null,
            "grid_template_areas": null,
            "grid_template_columns": null,
            "grid_template_rows": null,
            "height": null,
            "justify_content": null,
            "justify_items": null,
            "left": null,
            "margin": null,
            "max_height": null,
            "max_width": null,
            "min_height": null,
            "min_width": null,
            "object_fit": null,
            "object_position": null,
            "order": null,
            "overflow": null,
            "overflow_x": null,
            "overflow_y": null,
            "padding": null,
            "right": null,
            "top": null,
            "visibility": null,
            "width": null
          }
        },
        "0e0b9dfdccc54585ad642222eb2ba509": {
          "model_module": "@jupyter-widgets/controls",
          "model_name": "ProgressStyleModel",
          "model_module_version": "1.5.0",
          "state": {
            "_model_module": "@jupyter-widgets/controls",
            "_model_module_version": "1.5.0",
            "_model_name": "ProgressStyleModel",
            "_view_count": null,
            "_view_module": "@jupyter-widgets/base",
            "_view_module_version": "1.2.0",
            "_view_name": "StyleView",
            "bar_color": null,
            "description_width": ""
          }
        },
        "46bb0a94d34b4c4f8f8484c4544ab02f": {
          "model_module": "@jupyter-widgets/base",
          "model_name": "LayoutModel",
          "model_module_version": "1.2.0",
          "state": {
            "_model_module": "@jupyter-widgets/base",
            "_model_module_version": "1.2.0",
            "_model_name": "LayoutModel",
            "_view_count": null,
            "_view_module": "@jupyter-widgets/base",
            "_view_module_version": "1.2.0",
            "_view_name": "LayoutView",
            "align_content": null,
            "align_items": null,
            "align_self": null,
            "border": null,
            "bottom": null,
            "display": null,
            "flex": null,
            "flex_flow": null,
            "grid_area": null,
            "grid_auto_columns": null,
            "grid_auto_flow": null,
            "grid_auto_rows": null,
            "grid_column": null,
            "grid_gap": null,
            "grid_row": null,
            "grid_template_areas": null,
            "grid_template_columns": null,
            "grid_template_rows": null,
            "height": null,
            "justify_content": null,
            "justify_items": null,
            "left": null,
            "margin": null,
            "max_height": null,
            "max_width": null,
            "min_height": null,
            "min_width": null,
            "object_fit": null,
            "object_position": null,
            "order": null,
            "overflow": null,
            "overflow_x": null,
            "overflow_y": null,
            "padding": null,
            "right": null,
            "top": null,
            "visibility": null,
            "width": null
          }
        },
        "347c3004730a4fcf87aa374c9e5d4162": {
          "model_module": "@jupyter-widgets/controls",
          "model_name": "DescriptionStyleModel",
          "model_module_version": "1.5.0",
          "state": {
            "_model_module": "@jupyter-widgets/controls",
            "_model_module_version": "1.5.0",
            "_model_name": "DescriptionStyleModel",
            "_view_count": null,
            "_view_module": "@jupyter-widgets/base",
            "_view_module_version": "1.2.0",
            "_view_name": "StyleView",
            "description_width": ""
          }
        },
        "2fa28c9c6800456692a6d99fcf4916fb": {
          "model_module": "@jupyter-widgets/controls",
          "model_name": "HBoxModel",
          "model_module_version": "1.5.0",
          "state": {
            "_dom_classes": [],
            "_model_module": "@jupyter-widgets/controls",
            "_model_module_version": "1.5.0",
            "_model_name": "HBoxModel",
            "_view_count": null,
            "_view_module": "@jupyter-widgets/controls",
            "_view_module_version": "1.5.0",
            "_view_name": "HBoxView",
            "box_style": "",
            "children": [
              "IPY_MODEL_9558f468613548bbaefbff5ca2c897ca",
              "IPY_MODEL_0554405aef264da4b3d12ba4974d06e6",
              "IPY_MODEL_1ce25bf28b264e2db34b20f99b247d5f"
            ],
            "layout": "IPY_MODEL_a1e7502eead141e2b3ccc80f286339de"
          }
        },
        "9558f468613548bbaefbff5ca2c897ca": {
          "model_module": "@jupyter-widgets/controls",
          "model_name": "HTMLModel",
          "model_module_version": "1.5.0",
          "state": {
            "_dom_classes": [],
            "_model_module": "@jupyter-widgets/controls",
            "_model_module_version": "1.5.0",
            "_model_name": "HTMLModel",
            "_view_count": null,
            "_view_module": "@jupyter-widgets/controls",
            "_view_module_version": "1.5.0",
            "_view_name": "HTMLView",
            "description": "",
            "description_tooltip": null,
            "layout": "IPY_MODEL_4668c85fd7074dba8c24c436c6c2585e",
            "placeholder": "​",
            "style": "IPY_MODEL_518d3f830a8141a3af8e71cee7eaac44",
            "value": "Downloading (…)lve/main/config.json: 100%"
          }
        },
        "0554405aef264da4b3d12ba4974d06e6": {
          "model_module": "@jupyter-widgets/controls",
          "model_name": "FloatProgressModel",
          "model_module_version": "1.5.0",
          "state": {
            "_dom_classes": [],
            "_model_module": "@jupyter-widgets/controls",
            "_model_module_version": "1.5.0",
            "_model_name": "FloatProgressModel",
            "_view_count": null,
            "_view_module": "@jupyter-widgets/controls",
            "_view_module_version": "1.5.0",
            "_view_name": "ProgressView",
            "bar_style": "success",
            "description": "",
            "description_tooltip": null,
            "layout": "IPY_MODEL_4208a60d2c404a7ab6b08f4076349ba5",
            "max": 757,
            "min": 0,
            "orientation": "horizontal",
            "style": "IPY_MODEL_49bbeadd45b4402faa5ef8882a75b867",
            "value": 757
          }
        },
        "1ce25bf28b264e2db34b20f99b247d5f": {
          "model_module": "@jupyter-widgets/controls",
          "model_name": "HTMLModel",
          "model_module_version": "1.5.0",
          "state": {
            "_dom_classes": [],
            "_model_module": "@jupyter-widgets/controls",
            "_model_module_version": "1.5.0",
            "_model_name": "HTMLModel",
            "_view_count": null,
            "_view_module": "@jupyter-widgets/controls",
            "_view_module_version": "1.5.0",
            "_view_name": "HTMLView",
            "description": "",
            "description_tooltip": null,
            "layout": "IPY_MODEL_5ea707f2605e411d81b03d69eb2d5695",
            "placeholder": "​",
            "style": "IPY_MODEL_34309fc29fc143ba895351a67fae0f54",
            "value": " 757/757 [00:00&lt;00:00, 46.2kB/s]"
          }
        },
        "a1e7502eead141e2b3ccc80f286339de": {
          "model_module": "@jupyter-widgets/base",
          "model_name": "LayoutModel",
          "model_module_version": "1.2.0",
          "state": {
            "_model_module": "@jupyter-widgets/base",
            "_model_module_version": "1.2.0",
            "_model_name": "LayoutModel",
            "_view_count": null,
            "_view_module": "@jupyter-widgets/base",
            "_view_module_version": "1.2.0",
            "_view_name": "LayoutView",
            "align_content": null,
            "align_items": null,
            "align_self": null,
            "border": null,
            "bottom": null,
            "display": null,
            "flex": null,
            "flex_flow": null,
            "grid_area": null,
            "grid_auto_columns": null,
            "grid_auto_flow": null,
            "grid_auto_rows": null,
            "grid_column": null,
            "grid_gap": null,
            "grid_row": null,
            "grid_template_areas": null,
            "grid_template_columns": null,
            "grid_template_rows": null,
            "height": null,
            "justify_content": null,
            "justify_items": null,
            "left": null,
            "margin": null,
            "max_height": null,
            "max_width": null,
            "min_height": null,
            "min_width": null,
            "object_fit": null,
            "object_position": null,
            "order": null,
            "overflow": null,
            "overflow_x": null,
            "overflow_y": null,
            "padding": null,
            "right": null,
            "top": null,
            "visibility": null,
            "width": null
          }
        },
        "4668c85fd7074dba8c24c436c6c2585e": {
          "model_module": "@jupyter-widgets/base",
          "model_name": "LayoutModel",
          "model_module_version": "1.2.0",
          "state": {
            "_model_module": "@jupyter-widgets/base",
            "_model_module_version": "1.2.0",
            "_model_name": "LayoutModel",
            "_view_count": null,
            "_view_module": "@jupyter-widgets/base",
            "_view_module_version": "1.2.0",
            "_view_name": "LayoutView",
            "align_content": null,
            "align_items": null,
            "align_self": null,
            "border": null,
            "bottom": null,
            "display": null,
            "flex": null,
            "flex_flow": null,
            "grid_area": null,
            "grid_auto_columns": null,
            "grid_auto_flow": null,
            "grid_auto_rows": null,
            "grid_column": null,
            "grid_gap": null,
            "grid_row": null,
            "grid_template_areas": null,
            "grid_template_columns": null,
            "grid_template_rows": null,
            "height": null,
            "justify_content": null,
            "justify_items": null,
            "left": null,
            "margin": null,
            "max_height": null,
            "max_width": null,
            "min_height": null,
            "min_width": null,
            "object_fit": null,
            "object_position": null,
            "order": null,
            "overflow": null,
            "overflow_x": null,
            "overflow_y": null,
            "padding": null,
            "right": null,
            "top": null,
            "visibility": null,
            "width": null
          }
        },
        "518d3f830a8141a3af8e71cee7eaac44": {
          "model_module": "@jupyter-widgets/controls",
          "model_name": "DescriptionStyleModel",
          "model_module_version": "1.5.0",
          "state": {
            "_model_module": "@jupyter-widgets/controls",
            "_model_module_version": "1.5.0",
            "_model_name": "DescriptionStyleModel",
            "_view_count": null,
            "_view_module": "@jupyter-widgets/base",
            "_view_module_version": "1.2.0",
            "_view_name": "StyleView",
            "description_width": ""
          }
        },
        "4208a60d2c404a7ab6b08f4076349ba5": {
          "model_module": "@jupyter-widgets/base",
          "model_name": "LayoutModel",
          "model_module_version": "1.2.0",
          "state": {
            "_model_module": "@jupyter-widgets/base",
            "_model_module_version": "1.2.0",
            "_model_name": "LayoutModel",
            "_view_count": null,
            "_view_module": "@jupyter-widgets/base",
            "_view_module_version": "1.2.0",
            "_view_name": "LayoutView",
            "align_content": null,
            "align_items": null,
            "align_self": null,
            "border": null,
            "bottom": null,
            "display": null,
            "flex": null,
            "flex_flow": null,
            "grid_area": null,
            "grid_auto_columns": null,
            "grid_auto_flow": null,
            "grid_auto_rows": null,
            "grid_column": null,
            "grid_gap": null,
            "grid_row": null,
            "grid_template_areas": null,
            "grid_template_columns": null,
            "grid_template_rows": null,
            "height": null,
            "justify_content": null,
            "justify_items": null,
            "left": null,
            "margin": null,
            "max_height": null,
            "max_width": null,
            "min_height": null,
            "min_width": null,
            "object_fit": null,
            "object_position": null,
            "order": null,
            "overflow": null,
            "overflow_x": null,
            "overflow_y": null,
            "padding": null,
            "right": null,
            "top": null,
            "visibility": null,
            "width": null
          }
        },
        "49bbeadd45b4402faa5ef8882a75b867": {
          "model_module": "@jupyter-widgets/controls",
          "model_name": "ProgressStyleModel",
          "model_module_version": "1.5.0",
          "state": {
            "_model_module": "@jupyter-widgets/controls",
            "_model_module_version": "1.5.0",
            "_model_name": "ProgressStyleModel",
            "_view_count": null,
            "_view_module": "@jupyter-widgets/base",
            "_view_module_version": "1.2.0",
            "_view_name": "StyleView",
            "bar_color": null,
            "description_width": ""
          }
        },
        "5ea707f2605e411d81b03d69eb2d5695": {
          "model_module": "@jupyter-widgets/base",
          "model_name": "LayoutModel",
          "model_module_version": "1.2.0",
          "state": {
            "_model_module": "@jupyter-widgets/base",
            "_model_module_version": "1.2.0",
            "_model_name": "LayoutModel",
            "_view_count": null,
            "_view_module": "@jupyter-widgets/base",
            "_view_module_version": "1.2.0",
            "_view_name": "LayoutView",
            "align_content": null,
            "align_items": null,
            "align_self": null,
            "border": null,
            "bottom": null,
            "display": null,
            "flex": null,
            "flex_flow": null,
            "grid_area": null,
            "grid_auto_columns": null,
            "grid_auto_flow": null,
            "grid_auto_rows": null,
            "grid_column": null,
            "grid_gap": null,
            "grid_row": null,
            "grid_template_areas": null,
            "grid_template_columns": null,
            "grid_template_rows": null,
            "height": null,
            "justify_content": null,
            "justify_items": null,
            "left": null,
            "margin": null,
            "max_height": null,
            "max_width": null,
            "min_height": null,
            "min_width": null,
            "object_fit": null,
            "object_position": null,
            "order": null,
            "overflow": null,
            "overflow_x": null,
            "overflow_y": null,
            "padding": null,
            "right": null,
            "top": null,
            "visibility": null,
            "width": null
          }
        },
        "34309fc29fc143ba895351a67fae0f54": {
          "model_module": "@jupyter-widgets/controls",
          "model_name": "DescriptionStyleModel",
          "model_module_version": "1.5.0",
          "state": {
            "_model_module": "@jupyter-widgets/controls",
            "_model_module_version": "1.5.0",
            "_model_name": "DescriptionStyleModel",
            "_view_count": null,
            "_view_module": "@jupyter-widgets/base",
            "_view_module_version": "1.2.0",
            "_view_name": "StyleView",
            "description_width": ""
          }
        },
        "350eabf2c0324c678aa3d20d5ea5e8f3": {
          "model_module": "@jupyter-widgets/controls",
          "model_name": "HBoxModel",
          "model_module_version": "1.5.0",
          "state": {
            "_dom_classes": [],
            "_model_module": "@jupyter-widgets/controls",
            "_model_module_version": "1.5.0",
            "_model_name": "HBoxModel",
            "_view_count": null,
            "_view_module": "@jupyter-widgets/controls",
            "_view_module_version": "1.5.0",
            "_view_name": "HBoxView",
            "box_style": "",
            "children": [
              "IPY_MODEL_713df16e342c4e948cc633358c87dd65",
              "IPY_MODEL_dfa5e713a82a4f469d35bd9d1bee6059",
              "IPY_MODEL_0d75d872824841998188c4d036440339"
            ],
            "layout": "IPY_MODEL_9d5156575b154e20aec06eb221e6b0eb"
          }
        },
        "713df16e342c4e948cc633358c87dd65": {
          "model_module": "@jupyter-widgets/controls",
          "model_name": "HTMLModel",
          "model_module_version": "1.5.0",
          "state": {
            "_dom_classes": [],
            "_model_module": "@jupyter-widgets/controls",
            "_model_module_version": "1.5.0",
            "_model_name": "HTMLModel",
            "_view_count": null,
            "_view_module": "@jupyter-widgets/controls",
            "_view_module_version": "1.5.0",
            "_view_name": "HTMLView",
            "description": "",
            "description_tooltip": null,
            "layout": "IPY_MODEL_f1a7326cee37463988ce3795f7f20a13",
            "placeholder": "​",
            "style": "IPY_MODEL_63a577ed22184892bd3900f3a469ff14",
            "value": "Downloading pytorch_model.bin: 100%"
          }
        },
        "dfa5e713a82a4f469d35bd9d1bee6059": {
          "model_module": "@jupyter-widgets/controls",
          "model_name": "FloatProgressModel",
          "model_module_version": "1.5.0",
          "state": {
            "_dom_classes": [],
            "_model_module": "@jupyter-widgets/controls",
            "_model_module_version": "1.5.0",
            "_model_name": "FloatProgressModel",
            "_view_count": null,
            "_view_module": "@jupyter-widgets/controls",
            "_view_module_version": "1.5.0",
            "_view_name": "ProgressView",
            "bar_style": "success",
            "description": "",
            "description_tooltip": null,
            "layout": "IPY_MODEL_d1bc136a12c248fab5692be84742786e",
            "max": 654190940,
            "min": 0,
            "orientation": "horizontal",
            "style": "IPY_MODEL_e97583d7f78240c2bed5f8d075094268",
            "value": 654190940
          }
        },
        "0d75d872824841998188c4d036440339": {
          "model_module": "@jupyter-widgets/controls",
          "model_name": "HTMLModel",
          "model_module_version": "1.5.0",
          "state": {
            "_dom_classes": [],
            "_model_module": "@jupyter-widgets/controls",
            "_model_module_version": "1.5.0",
            "_model_name": "HTMLModel",
            "_view_count": null,
            "_view_module": "@jupyter-widgets/controls",
            "_view_module_version": "1.5.0",
            "_view_name": "HTMLView",
            "description": "",
            "description_tooltip": null,
            "layout": "IPY_MODEL_be68ba1b0f844ab9aed3eccb2f074386",
            "placeholder": "​",
            "style": "IPY_MODEL_fa5b06b81f62415d8a3bee86da619d89",
            "value": " 654M/654M [00:08&lt;00:00, 99.1MB/s]"
          }
        },
        "9d5156575b154e20aec06eb221e6b0eb": {
          "model_module": "@jupyter-widgets/base",
          "model_name": "LayoutModel",
          "model_module_version": "1.2.0",
          "state": {
            "_model_module": "@jupyter-widgets/base",
            "_model_module_version": "1.2.0",
            "_model_name": "LayoutModel",
            "_view_count": null,
            "_view_module": "@jupyter-widgets/base",
            "_view_module_version": "1.2.0",
            "_view_name": "LayoutView",
            "align_content": null,
            "align_items": null,
            "align_self": null,
            "border": null,
            "bottom": null,
            "display": null,
            "flex": null,
            "flex_flow": null,
            "grid_area": null,
            "grid_auto_columns": null,
            "grid_auto_flow": null,
            "grid_auto_rows": null,
            "grid_column": null,
            "grid_gap": null,
            "grid_row": null,
            "grid_template_areas": null,
            "grid_template_columns": null,
            "grid_template_rows": null,
            "height": null,
            "justify_content": null,
            "justify_items": null,
            "left": null,
            "margin": null,
            "max_height": null,
            "max_width": null,
            "min_height": null,
            "min_width": null,
            "object_fit": null,
            "object_position": null,
            "order": null,
            "overflow": null,
            "overflow_x": null,
            "overflow_y": null,
            "padding": null,
            "right": null,
            "top": null,
            "visibility": null,
            "width": null
          }
        },
        "f1a7326cee37463988ce3795f7f20a13": {
          "model_module": "@jupyter-widgets/base",
          "model_name": "LayoutModel",
          "model_module_version": "1.2.0",
          "state": {
            "_model_module": "@jupyter-widgets/base",
            "_model_module_version": "1.2.0",
            "_model_name": "LayoutModel",
            "_view_count": null,
            "_view_module": "@jupyter-widgets/base",
            "_view_module_version": "1.2.0",
            "_view_name": "LayoutView",
            "align_content": null,
            "align_items": null,
            "align_self": null,
            "border": null,
            "bottom": null,
            "display": null,
            "flex": null,
            "flex_flow": null,
            "grid_area": null,
            "grid_auto_columns": null,
            "grid_auto_flow": null,
            "grid_auto_rows": null,
            "grid_column": null,
            "grid_gap": null,
            "grid_row": null,
            "grid_template_areas": null,
            "grid_template_columns": null,
            "grid_template_rows": null,
            "height": null,
            "justify_content": null,
            "justify_items": null,
            "left": null,
            "margin": null,
            "max_height": null,
            "max_width": null,
            "min_height": null,
            "min_width": null,
            "object_fit": null,
            "object_position": null,
            "order": null,
            "overflow": null,
            "overflow_x": null,
            "overflow_y": null,
            "padding": null,
            "right": null,
            "top": null,
            "visibility": null,
            "width": null
          }
        },
        "63a577ed22184892bd3900f3a469ff14": {
          "model_module": "@jupyter-widgets/controls",
          "model_name": "DescriptionStyleModel",
          "model_module_version": "1.5.0",
          "state": {
            "_model_module": "@jupyter-widgets/controls",
            "_model_module_version": "1.5.0",
            "_model_name": "DescriptionStyleModel",
            "_view_count": null,
            "_view_module": "@jupyter-widgets/base",
            "_view_module_version": "1.2.0",
            "_view_name": "StyleView",
            "description_width": ""
          }
        },
        "d1bc136a12c248fab5692be84742786e": {
          "model_module": "@jupyter-widgets/base",
          "model_name": "LayoutModel",
          "model_module_version": "1.2.0",
          "state": {
            "_model_module": "@jupyter-widgets/base",
            "_model_module_version": "1.2.0",
            "_model_name": "LayoutModel",
            "_view_count": null,
            "_view_module": "@jupyter-widgets/base",
            "_view_module_version": "1.2.0",
            "_view_name": "LayoutView",
            "align_content": null,
            "align_items": null,
            "align_self": null,
            "border": null,
            "bottom": null,
            "display": null,
            "flex": null,
            "flex_flow": null,
            "grid_area": null,
            "grid_auto_columns": null,
            "grid_auto_flow": null,
            "grid_auto_rows": null,
            "grid_column": null,
            "grid_gap": null,
            "grid_row": null,
            "grid_template_areas": null,
            "grid_template_columns": null,
            "grid_template_rows": null,
            "height": null,
            "justify_content": null,
            "justify_items": null,
            "left": null,
            "margin": null,
            "max_height": null,
            "max_width": null,
            "min_height": null,
            "min_width": null,
            "object_fit": null,
            "object_position": null,
            "order": null,
            "overflow": null,
            "overflow_x": null,
            "overflow_y": null,
            "padding": null,
            "right": null,
            "top": null,
            "visibility": null,
            "width": null
          }
        },
        "e97583d7f78240c2bed5f8d075094268": {
          "model_module": "@jupyter-widgets/controls",
          "model_name": "ProgressStyleModel",
          "model_module_version": "1.5.0",
          "state": {
            "_model_module": "@jupyter-widgets/controls",
            "_model_module_version": "1.5.0",
            "_model_name": "ProgressStyleModel",
            "_view_count": null,
            "_view_module": "@jupyter-widgets/base",
            "_view_module_version": "1.2.0",
            "_view_name": "StyleView",
            "bar_color": null,
            "description_width": ""
          }
        },
        "be68ba1b0f844ab9aed3eccb2f074386": {
          "model_module": "@jupyter-widgets/base",
          "model_name": "LayoutModel",
          "model_module_version": "1.2.0",
          "state": {
            "_model_module": "@jupyter-widgets/base",
            "_model_module_version": "1.2.0",
            "_model_name": "LayoutModel",
            "_view_count": null,
            "_view_module": "@jupyter-widgets/base",
            "_view_module_version": "1.2.0",
            "_view_name": "LayoutView",
            "align_content": null,
            "align_items": null,
            "align_self": null,
            "border": null,
            "bottom": null,
            "display": null,
            "flex": null,
            "flex_flow": null,
            "grid_area": null,
            "grid_auto_columns": null,
            "grid_auto_flow": null,
            "grid_auto_rows": null,
            "grid_column": null,
            "grid_gap": null,
            "grid_row": null,
            "grid_template_areas": null,
            "grid_template_columns": null,
            "grid_template_rows": null,
            "height": null,
            "justify_content": null,
            "justify_items": null,
            "left": null,
            "margin": null,
            "max_height": null,
            "max_width": null,
            "min_height": null,
            "min_width": null,
            "object_fit": null,
            "object_position": null,
            "order": null,
            "overflow": null,
            "overflow_x": null,
            "overflow_y": null,
            "padding": null,
            "right": null,
            "top": null,
            "visibility": null,
            "width": null
          }
        },
        "fa5b06b81f62415d8a3bee86da619d89": {
          "model_module": "@jupyter-widgets/controls",
          "model_name": "DescriptionStyleModel",
          "model_module_version": "1.5.0",
          "state": {
            "_model_module": "@jupyter-widgets/controls",
            "_model_module_version": "1.5.0",
            "_model_name": "DescriptionStyleModel",
            "_view_count": null,
            "_view_module": "@jupyter-widgets/base",
            "_view_module_version": "1.2.0",
            "_view_name": "StyleView",
            "description_width": ""
          }
        }
      }
    }
  },
  "cells": [
    {
      "cell_type": "code",
      "source": [
        "# !pip install datasets\n",
        "# !pip install transformers==4.31.0\n",
        "# !pip install -U accelerate\n",
        "# !pip install optuna\n",
        "# !pip install optuna-dashboard\n",
        "# !pip install wandb -qU"
      ],
      "metadata": {
        "id": "H7jYB7rgGW1m"
      },
      "execution_count": 21,
      "outputs": []
    },
    {
      "cell_type": "code",
      "source": [
        "import transformers\n",
        "\n",
        "transformers.__version__"
      ],
      "metadata": {
        "colab": {
          "base_uri": "https://localhost:8080/",
          "height": 35
        },
        "id": "j4_y9G3V7bNh",
        "outputId": "df8e83b2-5f0f-473b-d928-56a676bed21f"
      },
      "execution_count": 2,
      "outputs": [
        {
          "output_type": "execute_result",
          "data": {
            "text/plain": [
              "'4.31.0'"
            ],
            "application/vnd.google.colaboratory.intrinsic+json": {
              "type": "string"
            }
          },
          "metadata": {},
          "execution_count": 2
        }
      ]
    },
    {
      "cell_type": "markdown",
      "source": [
        "#Data"
      ],
      "metadata": {
        "id": "csh2ZF7cWBlD"
      }
    },
    {
      "cell_type": "code",
      "source": [
        "preprocessing_column = \"Light Stemming\""
      ],
      "metadata": {
        "id": "eBxapPX96sCK"
      },
      "execution_count": 5,
      "outputs": []
    },
    {
      "cell_type": "code",
      "execution_count": 6,
      "metadata": {
        "id": "LhsxCvYGEsT-"
      },
      "outputs": [],
      "source": [
        "import pickle\n",
        "\n",
        "with open('train.pkl', 'rb') as f:\n",
        "    X_train = pickle.load(f)\n",
        "\n",
        "with open('test.pkl', 'rb') as f:\n",
        "    X_test = pickle.load(f)\n",
        "\n",
        "with open('val.pkl', 'rb') as f:\n",
        "    X_dev = pickle.load(f)"
      ]
    },
    {
      "cell_type": "code",
      "source": [
        "label_to_class = {\n",
        "    0: 'none',\n",
        "    1: 'anger',\n",
        "    2: 'joy',\n",
        "    3: 'sadness',\n",
        "    4: 'love',\n",
        "    5: 'sympathy',\n",
        "    6: 'surprise',\n",
        "    7: 'fear'\n",
        "}\n",
        "\n",
        "classes = ['none', 'anger', 'joy', 'sadness', 'love', 'sympathy', 'surprise', 'fear']"
      ],
      "metadata": {
        "id": "bpMubmmTqcsn"
      },
      "execution_count": 7,
      "outputs": []
    },
    {
      "cell_type": "code",
      "source": [
        "X_train.head()"
      ],
      "metadata": {
        "id": "8LHRao68FcI9",
        "colab": {
          "base_uri": "https://localhost:8080/",
          "height": 0
        },
        "outputId": "1158e37a-724f-438d-9dde-3484209b155f"
      },
      "execution_count": 8,
      "outputs": [
        {
          "output_type": "execute_result",
          "data": {
            "text/plain": [
              "                                                  tweet  label  \\\n",
              "5081  1996   يا مهند ياحبيبي انت تدور لبش مع اي احد ...      1   \n",
              "8264  حلب عفرين  اعتقال عشرات الشباب من قريه باسوطه ...      3   \n",
              "9777             انا نفسي مره اجرب اكون ليك حد اقرب : )      3   \n",
              "740   الصراحه احساس مخزي ونحن نكتفي بالتمثيل المشرف ...      3   \n",
              "6537  57   عاجل الايطالي فابيو باسل يفوز بدهب الاولي...      0   \n",
              "\n",
              "                             tweet_with_replaced_emojis  \\\n",
              "5081  1996   يا مهند ياحبيبي انت تدور لبش مع اي احد ...   \n",
              "8264  حلب عفرين  اعتقال عشرات الشباب من قريه باسوطه ...   \n",
              "9777             انا نفسي مره اجرب اكون ليك حد اقرب : )   \n",
              "740   الصراحه احساس مخزي ونحن نكتفي بالتمثيل المشرف ...   \n",
              "6537  57   عاجل الايطالي فابيو باسل يفوز بدهب الاولي...   \n",
              "\n",
              "                      cleaned_data_with_replaced_emojis  \\\n",
              "5081  يامهند ياحبيبي تدور لبش اي احد متاكد ابو جاسم ...   \n",
              "8264  حلب عفرين اعتقال عشرات الشباب قريه باسوطه ريف ...   \n",
              "9777                             مره اجرب اكون ليك اقرب   \n",
              "740   الصراحه احساس مخزي نكتفي بالتمثيل المشرف الاول...   \n",
              "6537  عاجل الايطالي فابيو باسل يفوز بدهب الاوليمبياد...   \n",
              "\n",
              "                                         Light Stemming  \n",
              "5081  يامهند ياحبيبي تدور لبش اي احد متاكد ابو جاسم ...  \n",
              "8264  حلب عفر اعتقال عشر الشباب قريه باسوطه ريف عفر ...  \n",
              "9777                             مره اجرب اكون ليك اقرب  \n",
              "740   الصراحه احساس مخزي نكتفي بالتمثيل المشرف الاول...  \n",
              "6537  عاجل الايطالي فابيو باسل يفوز بدهب الاوليمبياد...  "
            ],
            "text/html": [
              "\n",
              "  <div id=\"df-1086ac88-88db-41b5-90d8-1f0c6c3c0543\" class=\"colab-df-container\">\n",
              "    <div>\n",
              "<style scoped>\n",
              "    .dataframe tbody tr th:only-of-type {\n",
              "        vertical-align: middle;\n",
              "    }\n",
              "\n",
              "    .dataframe tbody tr th {\n",
              "        vertical-align: top;\n",
              "    }\n",
              "\n",
              "    .dataframe thead th {\n",
              "        text-align: right;\n",
              "    }\n",
              "</style>\n",
              "<table border=\"1\" class=\"dataframe\">\n",
              "  <thead>\n",
              "    <tr style=\"text-align: right;\">\n",
              "      <th></th>\n",
              "      <th>tweet</th>\n",
              "      <th>label</th>\n",
              "      <th>tweet_with_replaced_emojis</th>\n",
              "      <th>cleaned_data_with_replaced_emojis</th>\n",
              "      <th>Light Stemming</th>\n",
              "    </tr>\n",
              "  </thead>\n",
              "  <tbody>\n",
              "    <tr>\n",
              "      <th>5081</th>\n",
              "      <td>1996   يا مهند ياحبيبي انت تدور لبش مع اي احد ...</td>\n",
              "      <td>1</td>\n",
              "      <td>1996   يا مهند ياحبيبي انت تدور لبش مع اي احد ...</td>\n",
              "      <td>يامهند ياحبيبي تدور لبش اي احد متاكد ابو جاسم ...</td>\n",
              "      <td>يامهند ياحبيبي تدور لبش اي احد متاكد ابو جاسم ...</td>\n",
              "    </tr>\n",
              "    <tr>\n",
              "      <th>8264</th>\n",
              "      <td>حلب عفرين  اعتقال عشرات الشباب من قريه باسوطه ...</td>\n",
              "      <td>3</td>\n",
              "      <td>حلب عفرين  اعتقال عشرات الشباب من قريه باسوطه ...</td>\n",
              "      <td>حلب عفرين اعتقال عشرات الشباب قريه باسوطه ريف ...</td>\n",
              "      <td>حلب عفر اعتقال عشر الشباب قريه باسوطه ريف عفر ...</td>\n",
              "    </tr>\n",
              "    <tr>\n",
              "      <th>9777</th>\n",
              "      <td>انا نفسي مره اجرب اكون ليك حد اقرب : )</td>\n",
              "      <td>3</td>\n",
              "      <td>انا نفسي مره اجرب اكون ليك حد اقرب : )</td>\n",
              "      <td>مره اجرب اكون ليك اقرب</td>\n",
              "      <td>مره اجرب اكون ليك اقرب</td>\n",
              "    </tr>\n",
              "    <tr>\n",
              "      <th>740</th>\n",
              "      <td>الصراحه احساس مخزي ونحن نكتفي بالتمثيل المشرف ...</td>\n",
              "      <td>3</td>\n",
              "      <td>الصراحه احساس مخزي ونحن نكتفي بالتمثيل المشرف ...</td>\n",
              "      <td>الصراحه احساس مخزي نكتفي بالتمثيل المشرف الاول...</td>\n",
              "      <td>الصراحه احساس مخزي نكتفي بالتمثيل المشرف الاول...</td>\n",
              "    </tr>\n",
              "    <tr>\n",
              "      <th>6537</th>\n",
              "      <td>57   عاجل الايطالي فابيو باسل يفوز بدهب الاولي...</td>\n",
              "      <td>0</td>\n",
              "      <td>57   عاجل الايطالي فابيو باسل يفوز بدهب الاولي...</td>\n",
              "      <td>عاجل الايطالي فابيو باسل يفوز بدهب الاوليمبياد...</td>\n",
              "      <td>عاجل الايطالي فابيو باسل يفوز بدهب الاوليمبياد...</td>\n",
              "    </tr>\n",
              "  </tbody>\n",
              "</table>\n",
              "</div>\n",
              "    <div class=\"colab-df-buttons\">\n",
              "\n",
              "  <div class=\"colab-df-container\">\n",
              "    <button class=\"colab-df-convert\" onclick=\"convertToInteractive('df-1086ac88-88db-41b5-90d8-1f0c6c3c0543')\"\n",
              "            title=\"Convert this dataframe to an interactive table.\"\n",
              "            style=\"display:none;\">\n",
              "\n",
              "  <svg xmlns=\"http://www.w3.org/2000/svg\" height=\"24px\" viewBox=\"0 -960 960 960\">\n",
              "    <path d=\"M120-120v-720h720v720H120Zm60-500h600v-160H180v160Zm220 220h160v-160H400v160Zm0 220h160v-160H400v160ZM180-400h160v-160H180v160Zm440 0h160v-160H620v160ZM180-180h160v-160H180v160Zm440 0h160v-160H620v160Z\"/>\n",
              "  </svg>\n",
              "    </button>\n",
              "\n",
              "  <style>\n",
              "    .colab-df-container {\n",
              "      display:flex;\n",
              "      gap: 12px;\n",
              "    }\n",
              "\n",
              "    .colab-df-convert {\n",
              "      background-color: #E8F0FE;\n",
              "      border: none;\n",
              "      border-radius: 50%;\n",
              "      cursor: pointer;\n",
              "      display: none;\n",
              "      fill: #1967D2;\n",
              "      height: 32px;\n",
              "      padding: 0 0 0 0;\n",
              "      width: 32px;\n",
              "    }\n",
              "\n",
              "    .colab-df-convert:hover {\n",
              "      background-color: #E2EBFA;\n",
              "      box-shadow: 0px 1px 2px rgba(60, 64, 67, 0.3), 0px 1px 3px 1px rgba(60, 64, 67, 0.15);\n",
              "      fill: #174EA6;\n",
              "    }\n",
              "\n",
              "    .colab-df-buttons div {\n",
              "      margin-bottom: 4px;\n",
              "    }\n",
              "\n",
              "    [theme=dark] .colab-df-convert {\n",
              "      background-color: #3B4455;\n",
              "      fill: #D2E3FC;\n",
              "    }\n",
              "\n",
              "    [theme=dark] .colab-df-convert:hover {\n",
              "      background-color: #434B5C;\n",
              "      box-shadow: 0px 1px 3px 1px rgba(0, 0, 0, 0.15);\n",
              "      filter: drop-shadow(0px 1px 2px rgba(0, 0, 0, 0.3));\n",
              "      fill: #FFFFFF;\n",
              "    }\n",
              "  </style>\n",
              "\n",
              "    <script>\n",
              "      const buttonEl =\n",
              "        document.querySelector('#df-1086ac88-88db-41b5-90d8-1f0c6c3c0543 button.colab-df-convert');\n",
              "      buttonEl.style.display =\n",
              "        google.colab.kernel.accessAllowed ? 'block' : 'none';\n",
              "\n",
              "      async function convertToInteractive(key) {\n",
              "        const element = document.querySelector('#df-1086ac88-88db-41b5-90d8-1f0c6c3c0543');\n",
              "        const dataTable =\n",
              "          await google.colab.kernel.invokeFunction('convertToInteractive',\n",
              "                                                    [key], {});\n",
              "        if (!dataTable) return;\n",
              "\n",
              "        const docLinkHtml = 'Like what you see? Visit the ' +\n",
              "          '<a target=\"_blank\" href=https://colab.research.google.com/notebooks/data_table.ipynb>data table notebook</a>'\n",
              "          + ' to learn more about interactive tables.';\n",
              "        element.innerHTML = '';\n",
              "        dataTable['output_type'] = 'display_data';\n",
              "        await google.colab.output.renderOutput(dataTable, element);\n",
              "        const docLink = document.createElement('div');\n",
              "        docLink.innerHTML = docLinkHtml;\n",
              "        element.appendChild(docLink);\n",
              "      }\n",
              "    </script>\n",
              "  </div>\n",
              "\n",
              "\n",
              "<div id=\"df-57564c9b-821d-44e7-ad5d-d10d1a88c367\">\n",
              "  <button class=\"colab-df-quickchart\" onclick=\"quickchart('df-57564c9b-821d-44e7-ad5d-d10d1a88c367')\"\n",
              "            title=\"Suggest charts.\"\n",
              "            style=\"display:none;\">\n",
              "\n",
              "<svg xmlns=\"http://www.w3.org/2000/svg\" height=\"24px\"viewBox=\"0 0 24 24\"\n",
              "     width=\"24px\">\n",
              "    <g>\n",
              "        <path d=\"M19 3H5c-1.1 0-2 .9-2 2v14c0 1.1.9 2 2 2h14c1.1 0 2-.9 2-2V5c0-1.1-.9-2-2-2zM9 17H7v-7h2v7zm4 0h-2V7h2v10zm4 0h-2v-4h2v4z\"/>\n",
              "    </g>\n",
              "</svg>\n",
              "  </button>\n",
              "\n",
              "<style>\n",
              "  .colab-df-quickchart {\n",
              "    background-color: #E8F0FE;\n",
              "    border: none;\n",
              "    border-radius: 50%;\n",
              "    cursor: pointer;\n",
              "    display: none;\n",
              "    fill: #1967D2;\n",
              "    height: 32px;\n",
              "    padding: 0 0 0 0;\n",
              "    width: 32px;\n",
              "  }\n",
              "\n",
              "  .colab-df-quickchart:hover {\n",
              "    background-color: #E2EBFA;\n",
              "    box-shadow: 0px 1px 2px rgba(60, 64, 67, 0.3), 0px 1px 3px 1px rgba(60, 64, 67, 0.15);\n",
              "    fill: #174EA6;\n",
              "  }\n",
              "\n",
              "  [theme=dark] .colab-df-quickchart {\n",
              "    background-color: #3B4455;\n",
              "    fill: #D2E3FC;\n",
              "  }\n",
              "\n",
              "  [theme=dark] .colab-df-quickchart:hover {\n",
              "    background-color: #434B5C;\n",
              "    box-shadow: 0px 1px 3px 1px rgba(0, 0, 0, 0.15);\n",
              "    filter: drop-shadow(0px 1px 2px rgba(0, 0, 0, 0.3));\n",
              "    fill: #FFFFFF;\n",
              "  }\n",
              "</style>\n",
              "\n",
              "  <script>\n",
              "    async function quickchart(key) {\n",
              "      const charts = await google.colab.kernel.invokeFunction(\n",
              "          'suggestCharts', [key], {});\n",
              "    }\n",
              "    (() => {\n",
              "      let quickchartButtonEl =\n",
              "        document.querySelector('#df-57564c9b-821d-44e7-ad5d-d10d1a88c367 button');\n",
              "      quickchartButtonEl.style.display =\n",
              "        google.colab.kernel.accessAllowed ? 'block' : 'none';\n",
              "    })();\n",
              "  </script>\n",
              "</div>\n",
              "    </div>\n",
              "  </div>\n"
            ]
          },
          "metadata": {},
          "execution_count": 8
        }
      ]
    },
    {
      "cell_type": "code",
      "source": [
        "X_train = X_train[['tweet', preprocessing_column, 'label']]\n",
        "y_train = X_train['label']\n",
        "X_test = X_test[['tweet', preprocessing_column, 'label']]\n",
        "y_test = X_test['label']\n",
        "X_dev = X_dev[['tweet', preprocessing_column, 'label']]\n",
        "y_dev = X_dev['label']"
      ],
      "metadata": {
        "id": "JEVyBBZAIzdw"
      },
      "execution_count": 9,
      "outputs": []
    },
    {
      "cell_type": "code",
      "source": [
        "X_train.shape, X_test.shape, X_dev.shape"
      ],
      "metadata": {
        "id": "7jdX0XJYKrcO",
        "colab": {
          "base_uri": "https://localhost:8080/"
        },
        "outputId": "17ca8e33-1368-42d5-8232-c98203b6ca1d"
      },
      "execution_count": 10,
      "outputs": [
        {
          "output_type": "execute_result",
          "data": {
            "text/plain": [
              "((7045, 3), (1510, 3), (1510, 3))"
            ]
          },
          "metadata": {},
          "execution_count": 10
        }
      ]
    },
    {
      "cell_type": "code",
      "source": [
        "X_train"
      ],
      "metadata": {
        "id": "6uAuyneeoHV7",
        "colab": {
          "base_uri": "https://localhost:8080/",
          "height": 0
        },
        "outputId": "0805ebe0-84e8-46a1-c25f-0667e2e95473"
      },
      "execution_count": 11,
      "outputs": [
        {
          "output_type": "execute_result",
          "data": {
            "text/plain": [
              "                                                  tweet  \\\n",
              "5081  1996   يا مهند ياحبيبي انت تدور لبش مع اي احد ...   \n",
              "8264  حلب عفرين  اعتقال عشرات الشباب من قريه باسوطه ...   \n",
              "9777             انا نفسي مره اجرب اكون ليك حد اقرب : )   \n",
              "740   الصراحه احساس مخزي ونحن نكتفي بالتمثيل المشرف ...   \n",
              "6537  57   عاجل الايطالي فابيو باسل يفوز بدهب الاولي...   \n",
              "...                                                 ...   \n",
              "5734  احمد الاحمر اوحش لاعب في الاوليمبياد ... اخره ...   \n",
              "5191                               انتي كان قصدك عليا !   \n",
              "5390  يا جدعان لو سمحتوا مش كل واحد عنده ميتين ام عق...   \n",
              "860        هتودينا في دهيا يا بلال ارحمنا ده مش وقت قلش   \n",
              "7270  شعب جمهوريه مصر العربيه يهنئ دوله القوات المسل...   \n",
              "\n",
              "                                         Light Stemming  label  \n",
              "5081  يامهند ياحبيبي تدور لبش اي احد متاكد ابو جاسم ...      1  \n",
              "8264  حلب عفر اعتقال عشر الشباب قريه باسوطه ريف عفر ...      3  \n",
              "9777                             مره اجرب اكون ليك اقرب      3  \n",
              "740   الصراحه احساس مخزي نكتفي بالتمثيل المشرف الاول...      3  \n",
              "6537  عاجل الايطالي فابيو باسل يفوز بدهب الاوليمبياد...      0  \n",
              "...                                                 ...    ...  \n",
              "5734  احمد الاحمر اوحش لاعب الاوليمبياد اخره تضخيم ا...      3  \n",
              "5191                                     انتي قصدك عليا      6  \n",
              "5390  جدع سمحت مش واحد ميت ام عقده نفسيه يروح داخل ش...      1  \n",
              "860                       هتودي دهيا يابلال ارحم مش قلش      1  \n",
              "7270  شعب جمهوريه مصر العربيه يهنئ دوله القو المسلحه...      1  \n",
              "\n",
              "[7045 rows x 3 columns]"
            ],
            "text/html": [
              "\n",
              "  <div id=\"df-513443fd-ff4c-483d-9e75-23114010c1b5\" class=\"colab-df-container\">\n",
              "    <div>\n",
              "<style scoped>\n",
              "    .dataframe tbody tr th:only-of-type {\n",
              "        vertical-align: middle;\n",
              "    }\n",
              "\n",
              "    .dataframe tbody tr th {\n",
              "        vertical-align: top;\n",
              "    }\n",
              "\n",
              "    .dataframe thead th {\n",
              "        text-align: right;\n",
              "    }\n",
              "</style>\n",
              "<table border=\"1\" class=\"dataframe\">\n",
              "  <thead>\n",
              "    <tr style=\"text-align: right;\">\n",
              "      <th></th>\n",
              "      <th>tweet</th>\n",
              "      <th>Light Stemming</th>\n",
              "      <th>label</th>\n",
              "    </tr>\n",
              "  </thead>\n",
              "  <tbody>\n",
              "    <tr>\n",
              "      <th>5081</th>\n",
              "      <td>1996   يا مهند ياحبيبي انت تدور لبش مع اي احد ...</td>\n",
              "      <td>يامهند ياحبيبي تدور لبش اي احد متاكد ابو جاسم ...</td>\n",
              "      <td>1</td>\n",
              "    </tr>\n",
              "    <tr>\n",
              "      <th>8264</th>\n",
              "      <td>حلب عفرين  اعتقال عشرات الشباب من قريه باسوطه ...</td>\n",
              "      <td>حلب عفر اعتقال عشر الشباب قريه باسوطه ريف عفر ...</td>\n",
              "      <td>3</td>\n",
              "    </tr>\n",
              "    <tr>\n",
              "      <th>9777</th>\n",
              "      <td>انا نفسي مره اجرب اكون ليك حد اقرب : )</td>\n",
              "      <td>مره اجرب اكون ليك اقرب</td>\n",
              "      <td>3</td>\n",
              "    </tr>\n",
              "    <tr>\n",
              "      <th>740</th>\n",
              "      <td>الصراحه احساس مخزي ونحن نكتفي بالتمثيل المشرف ...</td>\n",
              "      <td>الصراحه احساس مخزي نكتفي بالتمثيل المشرف الاول...</td>\n",
              "      <td>3</td>\n",
              "    </tr>\n",
              "    <tr>\n",
              "      <th>6537</th>\n",
              "      <td>57   عاجل الايطالي فابيو باسل يفوز بدهب الاولي...</td>\n",
              "      <td>عاجل الايطالي فابيو باسل يفوز بدهب الاوليمبياد...</td>\n",
              "      <td>0</td>\n",
              "    </tr>\n",
              "    <tr>\n",
              "      <th>...</th>\n",
              "      <td>...</td>\n",
              "      <td>...</td>\n",
              "      <td>...</td>\n",
              "    </tr>\n",
              "    <tr>\n",
              "      <th>5734</th>\n",
              "      <td>احمد الاحمر اوحش لاعب في الاوليمبياد ... اخره ...</td>\n",
              "      <td>احمد الاحمر اوحش لاعب الاوليمبياد اخره تضخيم ا...</td>\n",
              "      <td>3</td>\n",
              "    </tr>\n",
              "    <tr>\n",
              "      <th>5191</th>\n",
              "      <td>انتي كان قصدك عليا !</td>\n",
              "      <td>انتي قصدك عليا</td>\n",
              "      <td>6</td>\n",
              "    </tr>\n",
              "    <tr>\n",
              "      <th>5390</th>\n",
              "      <td>يا جدعان لو سمحتوا مش كل واحد عنده ميتين ام عق...</td>\n",
              "      <td>جدع سمحت مش واحد ميت ام عقده نفسيه يروح داخل ش...</td>\n",
              "      <td>1</td>\n",
              "    </tr>\n",
              "    <tr>\n",
              "      <th>860</th>\n",
              "      <td>هتودينا في دهيا يا بلال ارحمنا ده مش وقت قلش</td>\n",
              "      <td>هتودي دهيا يابلال ارحم مش قلش</td>\n",
              "      <td>1</td>\n",
              "    </tr>\n",
              "    <tr>\n",
              "      <th>7270</th>\n",
              "      <td>شعب جمهوريه مصر العربيه يهنئ دوله القوات المسل...</td>\n",
              "      <td>شعب جمهوريه مصر العربيه يهنئ دوله القو المسلحه...</td>\n",
              "      <td>1</td>\n",
              "    </tr>\n",
              "  </tbody>\n",
              "</table>\n",
              "<p>7045 rows × 3 columns</p>\n",
              "</div>\n",
              "    <div class=\"colab-df-buttons\">\n",
              "\n",
              "  <div class=\"colab-df-container\">\n",
              "    <button class=\"colab-df-convert\" onclick=\"convertToInteractive('df-513443fd-ff4c-483d-9e75-23114010c1b5')\"\n",
              "            title=\"Convert this dataframe to an interactive table.\"\n",
              "            style=\"display:none;\">\n",
              "\n",
              "  <svg xmlns=\"http://www.w3.org/2000/svg\" height=\"24px\" viewBox=\"0 -960 960 960\">\n",
              "    <path d=\"M120-120v-720h720v720H120Zm60-500h600v-160H180v160Zm220 220h160v-160H400v160Zm0 220h160v-160H400v160ZM180-400h160v-160H180v160Zm440 0h160v-160H620v160ZM180-180h160v-160H180v160Zm440 0h160v-160H620v160Z\"/>\n",
              "  </svg>\n",
              "    </button>\n",
              "\n",
              "  <style>\n",
              "    .colab-df-container {\n",
              "      display:flex;\n",
              "      gap: 12px;\n",
              "    }\n",
              "\n",
              "    .colab-df-convert {\n",
              "      background-color: #E8F0FE;\n",
              "      border: none;\n",
              "      border-radius: 50%;\n",
              "      cursor: pointer;\n",
              "      display: none;\n",
              "      fill: #1967D2;\n",
              "      height: 32px;\n",
              "      padding: 0 0 0 0;\n",
              "      width: 32px;\n",
              "    }\n",
              "\n",
              "    .colab-df-convert:hover {\n",
              "      background-color: #E2EBFA;\n",
              "      box-shadow: 0px 1px 2px rgba(60, 64, 67, 0.3), 0px 1px 3px 1px rgba(60, 64, 67, 0.15);\n",
              "      fill: #174EA6;\n",
              "    }\n",
              "\n",
              "    .colab-df-buttons div {\n",
              "      margin-bottom: 4px;\n",
              "    }\n",
              "\n",
              "    [theme=dark] .colab-df-convert {\n",
              "      background-color: #3B4455;\n",
              "      fill: #D2E3FC;\n",
              "    }\n",
              "\n",
              "    [theme=dark] .colab-df-convert:hover {\n",
              "      background-color: #434B5C;\n",
              "      box-shadow: 0px 1px 3px 1px rgba(0, 0, 0, 0.15);\n",
              "      filter: drop-shadow(0px 1px 2px rgba(0, 0, 0, 0.3));\n",
              "      fill: #FFFFFF;\n",
              "    }\n",
              "  </style>\n",
              "\n",
              "    <script>\n",
              "      const buttonEl =\n",
              "        document.querySelector('#df-513443fd-ff4c-483d-9e75-23114010c1b5 button.colab-df-convert');\n",
              "      buttonEl.style.display =\n",
              "        google.colab.kernel.accessAllowed ? 'block' : 'none';\n",
              "\n",
              "      async function convertToInteractive(key) {\n",
              "        const element = document.querySelector('#df-513443fd-ff4c-483d-9e75-23114010c1b5');\n",
              "        const dataTable =\n",
              "          await google.colab.kernel.invokeFunction('convertToInteractive',\n",
              "                                                    [key], {});\n",
              "        if (!dataTable) return;\n",
              "\n",
              "        const docLinkHtml = 'Like what you see? Visit the ' +\n",
              "          '<a target=\"_blank\" href=https://colab.research.google.com/notebooks/data_table.ipynb>data table notebook</a>'\n",
              "          + ' to learn more about interactive tables.';\n",
              "        element.innerHTML = '';\n",
              "        dataTable['output_type'] = 'display_data';\n",
              "        await google.colab.output.renderOutput(dataTable, element);\n",
              "        const docLink = document.createElement('div');\n",
              "        docLink.innerHTML = docLinkHtml;\n",
              "        element.appendChild(docLink);\n",
              "      }\n",
              "    </script>\n",
              "  </div>\n",
              "\n",
              "\n",
              "<div id=\"df-075af834-3e49-4e32-81ab-a9b1ebaf1d34\">\n",
              "  <button class=\"colab-df-quickchart\" onclick=\"quickchart('df-075af834-3e49-4e32-81ab-a9b1ebaf1d34')\"\n",
              "            title=\"Suggest charts.\"\n",
              "            style=\"display:none;\">\n",
              "\n",
              "<svg xmlns=\"http://www.w3.org/2000/svg\" height=\"24px\"viewBox=\"0 0 24 24\"\n",
              "     width=\"24px\">\n",
              "    <g>\n",
              "        <path d=\"M19 3H5c-1.1 0-2 .9-2 2v14c0 1.1.9 2 2 2h14c1.1 0 2-.9 2-2V5c0-1.1-.9-2-2-2zM9 17H7v-7h2v7zm4 0h-2V7h2v10zm4 0h-2v-4h2v4z\"/>\n",
              "    </g>\n",
              "</svg>\n",
              "  </button>\n",
              "\n",
              "<style>\n",
              "  .colab-df-quickchart {\n",
              "    background-color: #E8F0FE;\n",
              "    border: none;\n",
              "    border-radius: 50%;\n",
              "    cursor: pointer;\n",
              "    display: none;\n",
              "    fill: #1967D2;\n",
              "    height: 32px;\n",
              "    padding: 0 0 0 0;\n",
              "    width: 32px;\n",
              "  }\n",
              "\n",
              "  .colab-df-quickchart:hover {\n",
              "    background-color: #E2EBFA;\n",
              "    box-shadow: 0px 1px 2px rgba(60, 64, 67, 0.3), 0px 1px 3px 1px rgba(60, 64, 67, 0.15);\n",
              "    fill: #174EA6;\n",
              "  }\n",
              "\n",
              "  [theme=dark] .colab-df-quickchart {\n",
              "    background-color: #3B4455;\n",
              "    fill: #D2E3FC;\n",
              "  }\n",
              "\n",
              "  [theme=dark] .colab-df-quickchart:hover {\n",
              "    background-color: #434B5C;\n",
              "    box-shadow: 0px 1px 3px 1px rgba(0, 0, 0, 0.15);\n",
              "    filter: drop-shadow(0px 1px 2px rgba(0, 0, 0, 0.3));\n",
              "    fill: #FFFFFF;\n",
              "  }\n",
              "</style>\n",
              "\n",
              "  <script>\n",
              "    async function quickchart(key) {\n",
              "      const charts = await google.colab.kernel.invokeFunction(\n",
              "          'suggestCharts', [key], {});\n",
              "    }\n",
              "    (() => {\n",
              "      let quickchartButtonEl =\n",
              "        document.querySelector('#df-075af834-3e49-4e32-81ab-a9b1ebaf1d34 button');\n",
              "      quickchartButtonEl.style.display =\n",
              "        google.colab.kernel.accessAllowed ? 'block' : 'none';\n",
              "    })();\n",
              "  </script>\n",
              "</div>\n",
              "    </div>\n",
              "  </div>\n"
            ]
          },
          "metadata": {},
          "execution_count": 11
        }
      ]
    },
    {
      "cell_type": "code",
      "source": [
        "X_train = X_train.rename_axis('id')\n",
        "X_test = X_test.rename_axis('id')\n",
        "X_dev = X_dev.rename_axis('id')\n",
        "\n",
        "X_train = X_train.reset_index(drop=True)\n",
        "X_test = X_test.reset_index(drop=True)\n",
        "X_dev = X_dev.reset_index(drop=True)"
      ],
      "metadata": {
        "id": "-RdzhhxyHXg7"
      },
      "execution_count": 12,
      "outputs": []
    },
    {
      "cell_type": "code",
      "source": [
        "from datasets import Dataset\n",
        "\n",
        "X_train = Dataset.from_pandas(X_train)\n",
        "X_test = Dataset.from_pandas(X_test)\n",
        "X_dev = Dataset.from_pandas(X_dev)\n",
        "X_train, X_test, X_dev"
      ],
      "metadata": {
        "id": "qc7-BJMiIaZC",
        "colab": {
          "base_uri": "https://localhost:8080/"
        },
        "outputId": "1d3e4c09-b32f-4aa7-dde5-c39283aee8fd"
      },
      "execution_count": 13,
      "outputs": [
        {
          "output_type": "execute_result",
          "data": {
            "text/plain": [
              "(Dataset({\n",
              "     features: ['tweet', 'Light Stemming', 'label'],\n",
              "     num_rows: 7045\n",
              " }),\n",
              " Dataset({\n",
              "     features: ['tweet', 'Light Stemming', 'label'],\n",
              "     num_rows: 1510\n",
              " }),\n",
              " Dataset({\n",
              "     features: ['tweet', 'Light Stemming', 'label'],\n",
              "     num_rows: 1510\n",
              " }))"
            ]
          },
          "metadata": {},
          "execution_count": 13
        }
      ]
    },
    {
      "cell_type": "markdown",
      "source": [
        "#Transformer"
      ],
      "metadata": {
        "id": "Q3B8qS0QWFvM"
      }
    },
    {
      "cell_type": "markdown",
      "source": [
        "##Setup"
      ],
      "metadata": {
        "id": "bCGRNdQtmMto"
      }
    },
    {
      "cell_type": "code",
      "source": [
        "model_checkpoint = 'UBC-NLP/MARBERTv2'"
      ],
      "metadata": {
        "id": "WHKu53ZSiC8b"
      },
      "execution_count": 14,
      "outputs": []
    },
    {
      "cell_type": "code",
      "source": [
        "from transformers import AutoTokenizer\n",
        "\n",
        "tokenizer = AutoTokenizer.from_pretrained(model_checkpoint, use_fast=True)"
      ],
      "metadata": {
        "id": "pLeZGwXl664j",
        "colab": {
          "base_uri": "https://localhost:8080/",
          "height": 0,
          "referenced_widgets": [
            "63e1917722a34e21a067ec595edb9731",
            "910cad3bed824bfc9fe7b3a5283d4cad",
            "5cf1f10fdcf44b918f532782bf3e8c25",
            "18943e978a4e434fb74b4116e73348da",
            "61bbd3bd85a54f73843e48110f214080",
            "0ecc78bd317d45cbb25e9f4915e04f74",
            "0f87abb9aeed4a2687320938497b8129",
            "3296e50c14dd44778adc2af77bea32a1",
            "cb7150b3dd6a447d958d1b56a2a6b5b2",
            "e751c47b68924ba8958e33c5eadf09f1",
            "6c89e2c92deb4c96b0654644db2fadd2",
            "9c8c5a66dd534ba6ae4d22bd1bf4611e",
            "c94c6025b6de47cbb0046eb8821581f1",
            "f3ce7739109240a1a01720b756acbe84",
            "f8f390d756164592849420780753d95c",
            "effced9286c94b5c801b1a1759c89066",
            "68c0a036483a42c790e884a8fbae9a84",
            "637d9634ee95410c889b69e65739d93f",
            "3414283a01f24274bdd14a5f46c46f37",
            "5ed4af6fb25746e4a254298e8f25cdae",
            "41c48ecd323f426a964bf9a5143bd2c2",
            "c6f382cbcebb4cacb2ba0e0a197dcc3f",
            "244300d15b2d4cc99a7e602bf877f087",
            "b615d076ca3b46df9f618f65828fcae0",
            "2a404913ec404baebf6aff3d980c5051",
            "4e1e35b7df114fad80495500e9a5e4bc",
            "dd5b2d521d904f2fb628082c3625aabc",
            "43f876d144af41599eb58babce839989",
            "de7bee5f16a84a529c853d7e1dd89277",
            "615fcb7f35f344ed9958454e33a69dfb",
            "449125db41c144238433b7d642718f12",
            "358fcf263d08436e90389cbe4735de89",
            "135a5bf992c24f26a64b7491f93ad9c5"
          ]
        },
        "outputId": "e32e1e9b-e593-40e0-f9fe-5aac39e5457f"
      },
      "execution_count": 15,
      "outputs": [
        {
          "output_type": "display_data",
          "data": {
            "text/plain": [
              "Downloading (…)okenizer_config.json:   0%|          | 0.00/439 [00:00<?, ?B/s]"
            ],
            "application/vnd.jupyter.widget-view+json": {
              "version_major": 2,
              "version_minor": 0,
              "model_id": "63e1917722a34e21a067ec595edb9731"
            }
          },
          "metadata": {}
        },
        {
          "output_type": "display_data",
          "data": {
            "text/plain": [
              "Downloading (…)solve/main/vocab.txt:   0%|          | 0.00/1.10M [00:00<?, ?B/s]"
            ],
            "application/vnd.jupyter.widget-view+json": {
              "version_major": 2,
              "version_minor": 0,
              "model_id": "9c8c5a66dd534ba6ae4d22bd1bf4611e"
            }
          },
          "metadata": {}
        },
        {
          "output_type": "display_data",
          "data": {
            "text/plain": [
              "Downloading (…)cial_tokens_map.json:   0%|          | 0.00/112 [00:00<?, ?B/s]"
            ],
            "application/vnd.jupyter.widget-view+json": {
              "version_major": 2,
              "version_minor": 0,
              "model_id": "244300d15b2d4cc99a7e602bf877f087"
            }
          },
          "metadata": {}
        }
      ]
    },
    {
      "cell_type": "code",
      "source": [
        "def tokenize_function(examples):\n",
        "    return tokenizer(examples[preprocessing_column], padding=\"max_length\", truncation=True, max_length=37)\n",
        "\n",
        "X_train = X_train.map(tokenize_function, batched=True, num_proc = 8)\n",
        "X_dev = X_test.map(tokenize_function, batched=True, num_proc = 8)\n",
        "X_test = X_test.map(tokenize_function, batched=True, num_proc = 8)"
      ],
      "metadata": {
        "id": "e7lAiBIuJqJH",
        "colab": {
          "base_uri": "https://localhost:8080/",
          "referenced_widgets": [
            "1599b36fc8fb4a2cb4564ff931ac5bf2",
            "71ed34ed6bdd4840902b688d9b42b534",
            "785a8575369b4b15b2db05a48e6fb5f0",
            "e739897c4d7741baaf00b610d77b4dc8",
            "3e2ac497612347079450926d492c99e7",
            "a5afea7eea1d42e38a6fecf470c6b194",
            "d40f1e40057f4fbf91e23a44271a408b",
            "dba289e0f6304c099dc0a2a7944cf6d7",
            "e2ea65c98f484425a8b4219e050fffc4",
            "cdb41c72379c4bfb8a370767c0e60072",
            "762f86ce30fc430b993e9ded9f282df6",
            "20c904738a584e8cac6964629a59b5e8",
            "5e857deb2eae420a8026ba79572689d8",
            "328ea78fd64b46059779694c9fef4107",
            "ceda410d1b114fd8ac3fa9a51eebdebc",
            "9c2cb68b4f6a42e9a2a88eb8f7afd00c",
            "c16f25e9055f4836891c33a824d68675",
            "ac8540320e74414db878cda598774bd6",
            "6c4a9a7ddbc04f32b6f814f5af2e3536",
            "653a9eb06981497faf8ae44703cf74b8",
            "29c64811845d43a9a070da99213bf053",
            "8d3dbd155ca845de99455b4b1de3512a",
            "7268c3c637854c208e1e6ee49a9f7138",
            "dc3e12c6b46d4ff4800735830da35bf0",
            "a512e25ca18a4a98931454a2f463391c",
            "ab2647fafc7543b79a7eec760f547698",
            "b00c4faefbef43f99071517703a7a3de",
            "c3db43534a84459ca720332de6cf07b1",
            "0f51cb3de8e64ef5b0eac5ca721ebd18",
            "b3a5069c15b44c55ac5c0f4290a9fb20",
            "0e0b9dfdccc54585ad642222eb2ba509",
            "46bb0a94d34b4c4f8f8484c4544ab02f",
            "347c3004730a4fcf87aa374c9e5d4162"
          ],
          "height": 0
        },
        "outputId": "e10922e0-ddcf-440d-b440-76fd73c5a180"
      },
      "execution_count": 16,
      "outputs": [
        {
          "output_type": "display_data",
          "data": {
            "text/plain": [
              "Map (num_proc=8):   0%|          | 0/7045 [00:00<?, ? examples/s]"
            ],
            "application/vnd.jupyter.widget-view+json": {
              "version_major": 2,
              "version_minor": 0,
              "model_id": "1599b36fc8fb4a2cb4564ff931ac5bf2"
            }
          },
          "metadata": {}
        },
        {
          "output_type": "display_data",
          "data": {
            "text/plain": [
              "Map (num_proc=8):   0%|          | 0/1510 [00:00<?, ? examples/s]"
            ],
            "application/vnd.jupyter.widget-view+json": {
              "version_major": 2,
              "version_minor": 0,
              "model_id": "20c904738a584e8cac6964629a59b5e8"
            }
          },
          "metadata": {}
        },
        {
          "output_type": "display_data",
          "data": {
            "text/plain": [
              "Map (num_proc=8):   0%|          | 0/1510 [00:00<?, ? examples/s]"
            ],
            "application/vnd.jupyter.widget-view+json": {
              "version_major": 2,
              "version_minor": 0,
              "model_id": "7268c3c637854c208e1e6ee49a9f7138"
            }
          },
          "metadata": {}
        }
      ]
    },
    {
      "cell_type": "markdown",
      "source": [
        "##Model"
      ],
      "metadata": {
        "id": "_CEy123AmTmg"
      }
    },
    {
      "cell_type": "markdown",
      "source": [
        "###Train"
      ],
      "metadata": {
        "id": "y_bZ4eeOI_It"
      }
    },
    {
      "cell_type": "code",
      "source": [
        "import numpy as np\n",
        "from sklearn.metrics import (accuracy_score,\n",
        "                             f1_score,\n",
        "                             precision_score,\n",
        "                             recall_score\n",
        "                             )\n",
        "\n",
        "def compute_metrics(p):\n",
        "    preds = np.argmax(p.predictions, axis=1)\n",
        "    assert len(preds) == len(p.label_ids)\n",
        "\n",
        "    macro_f1 = f1_score(p.label_ids,preds,average='macro', zero_division=1)\n",
        "    macro_precision = precision_score(p.label_ids,preds,average='macro', zero_division=1)\n",
        "    macro_recall = recall_score(p.label_ids,preds,average='macro', zero_division=1)\n",
        "    acc = accuracy_score(p.label_ids,preds)\n",
        "    return {\n",
        "      'macro_f1' : macro_f1,\n",
        "      'macro_precision': macro_precision,\n",
        "      'macro_recall': macro_recall,\n",
        "      'accuracy': acc\n",
        "    }"
      ],
      "metadata": {
        "id": "II63X_2j937A"
      },
      "execution_count": 17,
      "outputs": []
    },
    {
      "cell_type": "code",
      "source": [
        "import wandb\n",
        "\n",
        "wandb.login(key=\"your key\")"
      ],
      "metadata": {
        "colab": {
          "base_uri": "https://localhost:8080/"
        },
        "id": "XhVFabwxeG7C",
        "outputId": "81922d92-73ae-4646-c0d4-a519ab092f3c"
      },
      "execution_count": 24,
      "outputs": [
        {
          "output_type": "stream",
          "name": "stderr",
          "text": [
            "\u001b[34m\u001b[1mwandb\u001b[0m: W&B API key is configured. Use \u001b[1m`wandb login --relogin`\u001b[0m to force relogin\n",
            "\u001b[34m\u001b[1mwandb\u001b[0m: \u001b[33mWARNING\u001b[0m If you're specifying your api key in code, ensure this code is not shared publicly.\n",
            "\u001b[34m\u001b[1mwandb\u001b[0m: \u001b[33mWARNING\u001b[0m Consider setting the WANDB_API_KEY environment variable, or running `wandb login` from the command line.\n",
            "\u001b[34m\u001b[1mwandb\u001b[0m: Appending key for api.wandb.ai to your netrc file: /root/.netrc\n"
          ]
        },
        {
          "output_type": "execute_result",
          "data": {
            "text/plain": [
              "True"
            ]
          },
          "metadata": {},
          "execution_count": 24
        }
      ]
    },
    {
      "cell_type": "code",
      "source": [
        "import os\n",
        "\n",
        "# set the wandb project where this run will be logged\n",
        "os.environ[\"WANDB_PROJECT\"]=\"emotion_sentiment_analysis\"\n",
        "\n",
        "# save your trained model checkpoint to wandb\n",
        "os.environ[\"WANDB_LOG_MODEL\"]=\"true\"\n",
        "\n",
        "# turn off watch to log faster\n",
        "os.environ[\"WANDB_WATCH\"]=\"false\""
      ],
      "metadata": {
        "id": "3XR786gIeXbu"
      },
      "execution_count": 26,
      "outputs": []
    },
    {
      "cell_type": "code",
      "source": [
        "import optuna\n",
        "from transformers import TrainingArguments, Trainer, EarlyStoppingCallback\n",
        "from transformers import AutoModelForSequenceClassification\n",
        "from torch.optim import AdamW\n",
        "\n",
        "\n",
        "def objective(trial: optuna.Trial):\n",
        "    model = AutoModelForSequenceClassification.from_pretrained(model_checkpoint, num_labels=8)\n",
        "    # optimizer = AdamW(model.parameters(), lr=1e-5)\n",
        "    training_args = TrainingArguments(\n",
        "        output_dir=\"./train\",\n",
        "        learning_rate=trial.suggest_float(\"learning_rate\", low=1e-5, high=5e-5, log=True),\n",
        "        # learning_rate = 5.9572096694887074e-05,\n",
        "        weight_decay=trial.suggest_float(\"weight_decay\", 0.0, 0.1),\n",
        "        num_train_epochs=trial.suggest_int(\"num_train_epochs\", low=1, high=5),\n",
        "        # num_train_epochs=4,\n",
        "        per_device_train_batch_size=trial.suggest_categorical(\"per_device_train_batch_size\", [16, 32]),\n",
        "        # per_device_train_batch_size=16,\n",
        "        per_device_eval_batch_size=16,\n",
        "        # seed = 34,\n",
        "        seed=trial.suggest_int(\"seed\", 10, 35),\n",
        "        logging_steps = 100,\n",
        "        load_best_model_at_end=True,\n",
        "        evaluation_strategy=\"steps\",\n",
        "        metric_for_best_model = 'macro_f1', # relative to training metrics to prevent overfitting\n",
        "        report_to=\"wandb\"\n",
        "    )\n",
        "    trainer = Trainer(\n",
        "        model=model,\n",
        "        args=training_args,\n",
        "        train_dataset=X_train,\n",
        "        eval_dataset=X_dev,\n",
        "        compute_metrics=compute_metrics,\n",
        "        # optimizers=(optimizer, None)\n",
        "    )\n",
        "    result = trainer.train()\n",
        "    metrics = trainer.evaluate()\n",
        "    return metrics[\"eval_macro_f1\"], result.training_loss"
      ],
      "metadata": {
        "id": "fbXhU98X8Lad"
      },
      "execution_count": 27,
      "outputs": []
    },
    {
      "cell_type": "code",
      "source": [
        "# Run optimization\n",
        "storage = optuna.storages.InMemoryStorage()\n",
        "study = optuna.create_study(storage=storage,\n",
        "                            study_name=\"hyper-parameter-search\",\n",
        "                            directions=[\"maximize\", \"minimize\"],\n",
        "                            pruner=optuna.pruners.HyperbandPruner())\n",
        "study.optimize(objective, n_trials=2)\n",
        "\n",
        "wandb.finish()"
      ],
      "metadata": {
        "colab": {
          "base_uri": "https://localhost:8080/",
          "height": 1000,
          "referenced_widgets": [
            "2fa28c9c6800456692a6d99fcf4916fb",
            "9558f468613548bbaefbff5ca2c897ca",
            "0554405aef264da4b3d12ba4974d06e6",
            "1ce25bf28b264e2db34b20f99b247d5f",
            "a1e7502eead141e2b3ccc80f286339de",
            "4668c85fd7074dba8c24c436c6c2585e",
            "518d3f830a8141a3af8e71cee7eaac44",
            "4208a60d2c404a7ab6b08f4076349ba5",
            "49bbeadd45b4402faa5ef8882a75b867",
            "5ea707f2605e411d81b03d69eb2d5695",
            "34309fc29fc143ba895351a67fae0f54",
            "350eabf2c0324c678aa3d20d5ea5e8f3",
            "713df16e342c4e948cc633358c87dd65",
            "dfa5e713a82a4f469d35bd9d1bee6059",
            "0d75d872824841998188c4d036440339",
            "9d5156575b154e20aec06eb221e6b0eb",
            "f1a7326cee37463988ce3795f7f20a13",
            "63a577ed22184892bd3900f3a469ff14",
            "d1bc136a12c248fab5692be84742786e",
            "e97583d7f78240c2bed5f8d075094268",
            "be68ba1b0f844ab9aed3eccb2f074386",
            "fa5b06b81f62415d8a3bee86da619d89"
          ]
        },
        "id": "4bp8Z8lH4Q94",
        "outputId": "ce2ed349-d7a6-4fe2-a6ae-303289dd2285"
      },
      "execution_count": 28,
      "outputs": [
        {
          "output_type": "stream",
          "name": "stderr",
          "text": [
            "[I 2023-08-24 03:07:03,331] A new study created in memory with name: hyper-parameter-search\n"
          ]
        },
        {
          "output_type": "display_data",
          "data": {
            "text/plain": [
              "Downloading (…)lve/main/config.json:   0%|          | 0.00/757 [00:00<?, ?B/s]"
            ],
            "application/vnd.jupyter.widget-view+json": {
              "version_major": 2,
              "version_minor": 0,
              "model_id": "2fa28c9c6800456692a6d99fcf4916fb"
            }
          },
          "metadata": {}
        },
        {
          "output_type": "display_data",
          "data": {
            "text/plain": [
              "Downloading pytorch_model.bin:   0%|          | 0.00/654M [00:00<?, ?B/s]"
            ],
            "application/vnd.jupyter.widget-view+json": {
              "version_major": 2,
              "version_minor": 0,
              "model_id": "350eabf2c0324c678aa3d20d5ea5e8f3"
            }
          },
          "metadata": {}
        },
        {
          "output_type": "stream",
          "name": "stderr",
          "text": [
            "Some weights of BertForSequenceClassification were not initialized from the model checkpoint at UBC-NLP/MARBERTv2 and are newly initialized: ['classifier.bias', 'classifier.weight']\n",
            "You should probably TRAIN this model on a down-stream task to be able to use it for predictions and inference.\n",
            "/usr/local/lib/python3.10/dist-packages/transformers/optimization.py:411: FutureWarning: This implementation of AdamW is deprecated and will be removed in a future version. Use the PyTorch implementation torch.optim.AdamW instead, or set `no_deprecation_warning=True` to disable this warning\n",
            "  warnings.warn(\n"
          ]
        },
        {
          "output_type": "display_data",
          "data": {
            "text/plain": [
              "<IPython.core.display.HTML object>"
            ],
            "text/html": [
              "Changes to your `wandb` environment variables will be ignored because your `wandb` session has already started. For more information on how to modify your settings with `wandb.init()` arguments, please refer to <a href='https://wandb.me/wandb-init' target=\"_blank\">the W&B docs</a>."
            ]
          },
          "metadata": {}
        },
        {
          "output_type": "stream",
          "name": "stderr",
          "text": [
            "\u001b[34m\u001b[1mwandb\u001b[0m: Currently logged in as: \u001b[33mahmedtawfiiiq\u001b[0m (\u001b[33memotion_justification\u001b[0m). Use \u001b[1m`wandb login --relogin`\u001b[0m to force relogin\n"
          ]
        },
        {
          "output_type": "display_data",
          "data": {
            "text/plain": [
              "<IPython.core.display.HTML object>"
            ],
            "text/html": [
              "Tracking run with wandb version 0.15.8"
            ]
          },
          "metadata": {}
        },
        {
          "output_type": "display_data",
          "data": {
            "text/plain": [
              "<IPython.core.display.HTML object>"
            ],
            "text/html": [
              "Run data is saved locally in <code>/content/wandb/run-20230824_030725-u9u0ggju</code>"
            ]
          },
          "metadata": {}
        },
        {
          "output_type": "display_data",
          "data": {
            "text/plain": [
              "<IPython.core.display.HTML object>"
            ],
            "text/html": [
              "Syncing run <strong><a href='https://wandb.ai/emotion_justification/emotion_sentiment_analysis/runs/u9u0ggju' target=\"_blank\">young-vortex-1</a></strong> to <a href='https://wandb.ai/emotion_justification/emotion_sentiment_analysis' target=\"_blank\">Weights & Biases</a> (<a href='https://wandb.me/run' target=\"_blank\">docs</a>)<br/>"
            ]
          },
          "metadata": {}
        },
        {
          "output_type": "display_data",
          "data": {
            "text/plain": [
              "<IPython.core.display.HTML object>"
            ],
            "text/html": [
              " View project at <a href='https://wandb.ai/emotion_justification/emotion_sentiment_analysis' target=\"_blank\">https://wandb.ai/emotion_justification/emotion_sentiment_analysis</a>"
            ]
          },
          "metadata": {}
        },
        {
          "output_type": "display_data",
          "data": {
            "text/plain": [
              "<IPython.core.display.HTML object>"
            ],
            "text/html": [
              " View run at <a href='https://wandb.ai/emotion_justification/emotion_sentiment_analysis/runs/u9u0ggju' target=\"_blank\">https://wandb.ai/emotion_justification/emotion_sentiment_analysis/runs/u9u0ggju</a>"
            ]
          },
          "metadata": {}
        },
        {
          "output_type": "display_data",
          "data": {
            "text/plain": [
              "<IPython.core.display.HTML object>"
            ],
            "text/html": [
              "\n",
              "    <div>\n",
              "      \n",
              "      <progress value='884' max='884' style='width:300px; height:20px; vertical-align: middle;'></progress>\n",
              "      [884/884 04:15, Epoch 4/4]\n",
              "    </div>\n",
              "    <table border=\"1\" class=\"dataframe\">\n",
              "  <thead>\n",
              " <tr style=\"text-align: left;\">\n",
              "      <th>Step</th>\n",
              "      <th>Training Loss</th>\n",
              "      <th>Validation Loss</th>\n",
              "      <th>Macro F1</th>\n",
              "      <th>Macro Precision</th>\n",
              "      <th>Macro Recall</th>\n",
              "      <th>Accuracy</th>\n",
              "    </tr>\n",
              "  </thead>\n",
              "  <tbody>\n",
              "    <tr>\n",
              "      <td>100</td>\n",
              "      <td>1.759500</td>\n",
              "      <td>1.409956</td>\n",
              "      <td>0.475978</td>\n",
              "      <td>0.589979</td>\n",
              "      <td>0.557072</td>\n",
              "      <td>0.577483</td>\n",
              "    </tr>\n",
              "    <tr>\n",
              "      <td>200</td>\n",
              "      <td>1.231100</td>\n",
              "      <td>1.026600</td>\n",
              "      <td>0.653059</td>\n",
              "      <td>0.699288</td>\n",
              "      <td>0.674677</td>\n",
              "      <td>0.686093</td>\n",
              "    </tr>\n",
              "    <tr>\n",
              "      <td>300</td>\n",
              "      <td>0.952800</td>\n",
              "      <td>0.900137</td>\n",
              "      <td>0.709928</td>\n",
              "      <td>0.723287</td>\n",
              "      <td>0.713494</td>\n",
              "      <td>0.719868</td>\n",
              "    </tr>\n",
              "    <tr>\n",
              "      <td>400</td>\n",
              "      <td>0.859800</td>\n",
              "      <td>0.840386</td>\n",
              "      <td>0.727730</td>\n",
              "      <td>0.744161</td>\n",
              "      <td>0.727533</td>\n",
              "      <td>0.734437</td>\n",
              "    </tr>\n",
              "    <tr>\n",
              "      <td>500</td>\n",
              "      <td>0.754700</td>\n",
              "      <td>0.813644</td>\n",
              "      <td>0.743795</td>\n",
              "      <td>0.758315</td>\n",
              "      <td>0.744139</td>\n",
              "      <td>0.750993</td>\n",
              "    </tr>\n",
              "    <tr>\n",
              "      <td>600</td>\n",
              "      <td>0.699300</td>\n",
              "      <td>0.804361</td>\n",
              "      <td>0.744317</td>\n",
              "      <td>0.756518</td>\n",
              "      <td>0.744379</td>\n",
              "      <td>0.750331</td>\n",
              "    </tr>\n",
              "    <tr>\n",
              "      <td>700</td>\n",
              "      <td>0.631300</td>\n",
              "      <td>0.795962</td>\n",
              "      <td>0.740585</td>\n",
              "      <td>0.749965</td>\n",
              "      <td>0.741613</td>\n",
              "      <td>0.747682</td>\n",
              "    </tr>\n",
              "    <tr>\n",
              "      <td>800</td>\n",
              "      <td>0.609000</td>\n",
              "      <td>0.788626</td>\n",
              "      <td>0.745915</td>\n",
              "      <td>0.753729</td>\n",
              "      <td>0.745831</td>\n",
              "      <td>0.750993</td>\n",
              "    </tr>\n",
              "  </tbody>\n",
              "</table><p>"
            ]
          },
          "metadata": {}
        },
        {
          "output_type": "display_data",
          "data": {
            "text/plain": [
              "<IPython.core.display.HTML object>"
            ],
            "text/html": [
              "\n",
              "    <div>\n",
              "      \n",
              "      <progress value='95' max='95' style='width:300px; height:20px; vertical-align: middle;'></progress>\n",
              "      [95/95 00:03]\n",
              "    </div>\n",
              "    "
            ]
          },
          "metadata": {}
        },
        {
          "output_type": "stream",
          "name": "stderr",
          "text": [
            "[I 2023-08-24 03:11:53,210] Trial 0 finished with values: [0.7437954737597776, 0.9034952232740584] and parameters: {'learning_rate': 1.4224112391242973e-05, 'weight_decay': 0.01801974924723373, 'num_train_epochs': 4, 'per_device_train_batch_size': 32, 'seed': 16}. \n",
            "Some weights of BertForSequenceClassification were not initialized from the model checkpoint at UBC-NLP/MARBERTv2 and are newly initialized: ['classifier.bias', 'classifier.weight']\n",
            "You should probably TRAIN this model on a down-stream task to be able to use it for predictions and inference.\n",
            "/usr/local/lib/python3.10/dist-packages/transformers/optimization.py:411: FutureWarning: This implementation of AdamW is deprecated and will be removed in a future version. Use the PyTorch implementation torch.optim.AdamW instead, or set `no_deprecation_warning=True` to disable this warning\n",
            "  warnings.warn(\n"
          ]
        },
        {
          "output_type": "display_data",
          "data": {
            "text/plain": [
              "<IPython.core.display.HTML object>"
            ],
            "text/html": [
              "\n",
              "    <div>\n",
              "      \n",
              "      <progress value='2205' max='2205' style='width:300px; height:20px; vertical-align: middle;'></progress>\n",
              "      [2205/2205 07:57, Epoch 5/5]\n",
              "    </div>\n",
              "    <table border=\"1\" class=\"dataframe\">\n",
              "  <thead>\n",
              " <tr style=\"text-align: left;\">\n",
              "      <th>Step</th>\n",
              "      <th>Training Loss</th>\n",
              "      <th>Validation Loss</th>\n",
              "      <th>Macro F1</th>\n",
              "      <th>Macro Precision</th>\n",
              "      <th>Macro Recall</th>\n",
              "      <th>Accuracy</th>\n",
              "    </tr>\n",
              "  </thead>\n",
              "  <tbody>\n",
              "    <tr>\n",
              "      <td>100</td>\n",
              "      <td>1.524600</td>\n",
              "      <td>1.073174</td>\n",
              "      <td>0.620317</td>\n",
              "      <td>0.714155</td>\n",
              "      <td>0.646358</td>\n",
              "      <td>0.662252</td>\n",
              "    </tr>\n",
              "    <tr>\n",
              "      <td>200</td>\n",
              "      <td>1.011600</td>\n",
              "      <td>0.894442</td>\n",
              "      <td>0.694221</td>\n",
              "      <td>0.724883</td>\n",
              "      <td>0.699825</td>\n",
              "      <td>0.709934</td>\n",
              "    </tr>\n",
              "    <tr>\n",
              "      <td>300</td>\n",
              "      <td>0.892200</td>\n",
              "      <td>0.875493</td>\n",
              "      <td>0.699952</td>\n",
              "      <td>0.731653</td>\n",
              "      <td>0.698728</td>\n",
              "      <td>0.707947</td>\n",
              "    </tr>\n",
              "    <tr>\n",
              "      <td>400</td>\n",
              "      <td>0.853800</td>\n",
              "      <td>0.798247</td>\n",
              "      <td>0.735523</td>\n",
              "      <td>0.760420</td>\n",
              "      <td>0.738484</td>\n",
              "      <td>0.745695</td>\n",
              "    </tr>\n",
              "    <tr>\n",
              "      <td>500</td>\n",
              "      <td>0.689700</td>\n",
              "      <td>0.785836</td>\n",
              "      <td>0.738969</td>\n",
              "      <td>0.748513</td>\n",
              "      <td>0.737441</td>\n",
              "      <td>0.743046</td>\n",
              "    </tr>\n",
              "    <tr>\n",
              "      <td>600</td>\n",
              "      <td>0.606600</td>\n",
              "      <td>0.809940</td>\n",
              "      <td>0.740554</td>\n",
              "      <td>0.745941</td>\n",
              "      <td>0.739429</td>\n",
              "      <td>0.743046</td>\n",
              "    </tr>\n",
              "    <tr>\n",
              "      <td>700</td>\n",
              "      <td>0.557100</td>\n",
              "      <td>0.775436</td>\n",
              "      <td>0.741922</td>\n",
              "      <td>0.753699</td>\n",
              "      <td>0.738817</td>\n",
              "      <td>0.742384</td>\n",
              "    </tr>\n",
              "    <tr>\n",
              "      <td>800</td>\n",
              "      <td>0.588400</td>\n",
              "      <td>0.784856</td>\n",
              "      <td>0.744455</td>\n",
              "      <td>0.757740</td>\n",
              "      <td>0.744492</td>\n",
              "      <td>0.747020</td>\n",
              "    </tr>\n",
              "    <tr>\n",
              "      <td>900</td>\n",
              "      <td>0.471800</td>\n",
              "      <td>0.832488</td>\n",
              "      <td>0.749202</td>\n",
              "      <td>0.760362</td>\n",
              "      <td>0.750338</td>\n",
              "      <td>0.754967</td>\n",
              "    </tr>\n",
              "    <tr>\n",
              "      <td>1000</td>\n",
              "      <td>0.324200</td>\n",
              "      <td>0.909056</td>\n",
              "      <td>0.746589</td>\n",
              "      <td>0.748602</td>\n",
              "      <td>0.746199</td>\n",
              "      <td>0.747020</td>\n",
              "    </tr>\n",
              "    <tr>\n",
              "      <td>1100</td>\n",
              "      <td>0.354500</td>\n",
              "      <td>0.882444</td>\n",
              "      <td>0.741811</td>\n",
              "      <td>0.749765</td>\n",
              "      <td>0.741990</td>\n",
              "      <td>0.742384</td>\n",
              "    </tr>\n",
              "    <tr>\n",
              "      <td>1200</td>\n",
              "      <td>0.293100</td>\n",
              "      <td>0.949975</td>\n",
              "      <td>0.739528</td>\n",
              "      <td>0.740932</td>\n",
              "      <td>0.739058</td>\n",
              "      <td>0.738411</td>\n",
              "    </tr>\n",
              "    <tr>\n",
              "      <td>1300</td>\n",
              "      <td>0.307600</td>\n",
              "      <td>0.929361</td>\n",
              "      <td>0.749074</td>\n",
              "      <td>0.752324</td>\n",
              "      <td>0.747938</td>\n",
              "      <td>0.749669</td>\n",
              "    </tr>\n",
              "    <tr>\n",
              "      <td>1400</td>\n",
              "      <td>0.207600</td>\n",
              "      <td>1.052832</td>\n",
              "      <td>0.747517</td>\n",
              "      <td>0.749616</td>\n",
              "      <td>0.747463</td>\n",
              "      <td>0.747682</td>\n",
              "    </tr>\n",
              "    <tr>\n",
              "      <td>1500</td>\n",
              "      <td>0.156700</td>\n",
              "      <td>1.092509</td>\n",
              "      <td>0.744978</td>\n",
              "      <td>0.746889</td>\n",
              "      <td>0.746101</td>\n",
              "      <td>0.747682</td>\n",
              "    </tr>\n",
              "    <tr>\n",
              "      <td>1600</td>\n",
              "      <td>0.179200</td>\n",
              "      <td>1.128897</td>\n",
              "      <td>0.742176</td>\n",
              "      <td>0.745536</td>\n",
              "      <td>0.744216</td>\n",
              "      <td>0.745695</td>\n",
              "    </tr>\n",
              "    <tr>\n",
              "      <td>1700</td>\n",
              "      <td>0.187400</td>\n",
              "      <td>1.173420</td>\n",
              "      <td>0.741304</td>\n",
              "      <td>0.744488</td>\n",
              "      <td>0.743023</td>\n",
              "      <td>0.739735</td>\n",
              "    </tr>\n",
              "    <tr>\n",
              "      <td>1800</td>\n",
              "      <td>0.152400</td>\n",
              "      <td>1.201787</td>\n",
              "      <td>0.736675</td>\n",
              "      <td>0.737997</td>\n",
              "      <td>0.737280</td>\n",
              "      <td>0.735762</td>\n",
              "    </tr>\n",
              "    <tr>\n",
              "      <td>1900</td>\n",
              "      <td>0.086300</td>\n",
              "      <td>1.235788</td>\n",
              "      <td>0.743542</td>\n",
              "      <td>0.744638</td>\n",
              "      <td>0.745741</td>\n",
              "      <td>0.745695</td>\n",
              "    </tr>\n",
              "    <tr>\n",
              "      <td>2000</td>\n",
              "      <td>0.083900</td>\n",
              "      <td>1.268675</td>\n",
              "      <td>0.747006</td>\n",
              "      <td>0.748489</td>\n",
              "      <td>0.748252</td>\n",
              "      <td>0.749007</td>\n",
              "    </tr>\n",
              "    <tr>\n",
              "      <td>2100</td>\n",
              "      <td>0.093600</td>\n",
              "      <td>1.279189</td>\n",
              "      <td>0.742354</td>\n",
              "      <td>0.742501</td>\n",
              "      <td>0.743835</td>\n",
              "      <td>0.743046</td>\n",
              "    </tr>\n",
              "    <tr>\n",
              "      <td>2200</td>\n",
              "      <td>0.098400</td>\n",
              "      <td>1.290696</td>\n",
              "      <td>0.744015</td>\n",
              "      <td>0.744769</td>\n",
              "      <td>0.745171</td>\n",
              "      <td>0.744371</td>\n",
              "    </tr>\n",
              "  </tbody>\n",
              "</table><p>"
            ]
          },
          "metadata": {}
        },
        {
          "output_type": "display_data",
          "data": {
            "text/plain": [
              "<IPython.core.display.HTML object>"
            ],
            "text/html": [
              "\n",
              "    <div>\n",
              "      \n",
              "      <progress value='95' max='95' style='width:300px; height:20px; vertical-align: middle;'></progress>\n",
              "      [95/95 00:03]\n",
              "    </div>\n",
              "    "
            ]
          },
          "metadata": {}
        },
        {
          "output_type": "stream",
          "name": "stderr",
          "text": [
            "[I 2023-08-24 03:20:01,977] Trial 1 finished with values: [0.7470059920759964, 0.44149693977805765] and parameters: {'learning_rate': 3.910335149933312e-05, 'weight_decay': 0.03677111553512169, 'num_train_epochs': 5, 'per_device_train_batch_size': 16, 'seed': 28}. \n"
          ]
        },
        {
          "output_type": "display_data",
          "data": {
            "text/plain": [
              "<IPython.core.display.HTML object>"
            ],
            "text/html": [
              "Waiting for W&B process to finish... <strong style=\"color:green\">(success).</strong>"
            ]
          },
          "metadata": {}
        },
        {
          "output_type": "display_data",
          "data": {
            "text/plain": [
              "<IPython.core.display.HTML object>"
            ],
            "text/html": [
              "<style>\n",
              "    table.wandb td:nth-child(1) { padding: 0 10px; text-align: left ; width: auto;} td:nth-child(2) {text-align: left ; width: 100%}\n",
              "    .wandb-row { display: flex; flex-direction: row; flex-wrap: wrap; justify-content: flex-start; width: 100% }\n",
              "    .wandb-col { display: flex; flex-direction: column; flex-basis: 100%; flex: 1; padding: 10px; }\n",
              "    </style>\n",
              "<div class=\"wandb-row\"><div class=\"wandb-col\"><h3>Run history:</h3><br/><table class=\"wandb\"><tr><td>eval/accuracy</td><td>▁▅▇▇█████▄▆▆████████▇████▇▇█████</td></tr><tr><td>eval/loss</td><td>█▄▂▂▁▁▁▁▁▄▂▂▁▁▁▁▁▂▂▂▃▃▄▄▅▅▆▆▆▇▇▆</td></tr><tr><td>eval/macro_f1</td><td>▁▆▇▇█████▅▇▇████████████████████</td></tr><tr><td>eval/macro_precision</td><td>▁▅▆▇█████▆▇▇██▇█████▇██▇▇▇▇▇█▇▇█</td></tr><tr><td>eval/macro_recall</td><td>▁▅▇▇█████▄▆▆████████████████████</td></tr><tr><td>eval/runtime</td><td>▂▁▇▅▃▅▃▃▄▅▃▂▄▃▄▃▃▄▄▅▄▃▃▅▅▄▃▃▄▄▄█</td></tr><tr><td>eval/samples_per_second</td><td>▇█▂▄▆▄▆▆▅▄▆▆▅▆▅▆▅▄▅▄▅▆▆▄▃▅▆▆▅▅▅▁</td></tr><tr><td>eval/steps_per_second</td><td>▇█▂▄▆▄▆▆▅▄▆▆▅▆▅▆▅▄▅▄▅▆▆▄▃▅▆▆▅▅▅▁</td></tr><tr><td>train/epoch</td><td>▁▁▂▃▃▄▄▅▅▆▇▇▁▁▂▂▂▂▃▃▃▃▄▄▄▅▅▅▅▆▆▆▆▇▇▇████</td></tr><tr><td>train/global_step</td><td>▁▁▁▂▂▂▂▃▃▃▄▄▁▁▂▂▂▂▃▃▃▃▄▄▄▅▅▅▅▆▆▆▆▇▇▇████</td></tr><tr><td>train/learning_rate</td><td>▃▃▃▂▂▂▂▁██▇▇▇▆▆▆▅▅▅▄▄▄▃▃▃▂▂▂▁▁</td></tr><tr><td>train/loss</td><td>█▆▅▄▄▄▃▃▇▅▄▄▄▃▃▃▃▂▂▂▂▂▁▁▁▁▁▁▁▁</td></tr><tr><td>train/total_flos</td><td>▁█</td></tr><tr><td>train/train_loss</td><td>█▁</td></tr><tr><td>train/train_runtime</td><td>▁█</td></tr><tr><td>train/train_samples_per_second</td><td>█▁</td></tr><tr><td>train/train_steps_per_second</td><td>▁█</td></tr></table><br/></div><div class=\"wandb-col\"><h3>Run summary:</h3><br/><table class=\"wandb\"><tr><td>eval/accuracy</td><td>0.74901</td></tr><tr><td>eval/loss</td><td>1.26868</td></tr><tr><td>eval/macro_f1</td><td>0.74701</td></tr><tr><td>eval/macro_precision</td><td>0.74849</td></tr><tr><td>eval/macro_recall</td><td>0.74825</td></tr><tr><td>eval/runtime</td><td>3.8557</td></tr><tr><td>eval/samples_per_second</td><td>391.633</td></tr><tr><td>eval/steps_per_second</td><td>24.639</td></tr><tr><td>train/epoch</td><td>5.0</td></tr><tr><td>train/global_step</td><td>2205</td></tr><tr><td>train/learning_rate</td><td>0.0</td></tr><tr><td>train/loss</td><td>0.0984</td></tr><tr><td>train/total_flos</td><td>669800175442800.0</td></tr><tr><td>train/train_loss</td><td>0.4415</td></tr><tr><td>train/train_runtime</td><td>464.2113</td></tr><tr><td>train/train_samples_per_second</td><td>75.881</td></tr><tr><td>train/train_steps_per_second</td><td>4.75</td></tr></table><br/></div></div>"
            ]
          },
          "metadata": {}
        },
        {
          "output_type": "display_data",
          "data": {
            "text/plain": [
              "<IPython.core.display.HTML object>"
            ],
            "text/html": [
              " View run <strong style=\"color:#cdcd00\">young-vortex-1</strong> at: <a href='https://wandb.ai/emotion_justification/emotion_sentiment_analysis/runs/u9u0ggju' target=\"_blank\">https://wandb.ai/emotion_justification/emotion_sentiment_analysis/runs/u9u0ggju</a><br/>Synced 5 W&B file(s), 0 media file(s), 6 artifact file(s) and 0 other file(s)"
            ]
          },
          "metadata": {}
        },
        {
          "output_type": "display_data",
          "data": {
            "text/plain": [
              "<IPython.core.display.HTML object>"
            ],
            "text/html": [
              "Find logs at: <code>./wandb/run-20230824_030725-u9u0ggju/logs</code>"
            ]
          },
          "metadata": {}
        }
      ]
    },
    {
      "cell_type": "code",
      "source": [
        "import optuna\n",
        "import threading\n",
        "from google.colab import output\n",
        "from optuna_dashboard import run_server\n",
        "\n",
        "# Start Optuna Dashboard\n",
        "port = 8090\n",
        "thread = threading.Thread(target=run_server, args=(storage,), kwargs={\"port\": port})\n",
        "thread.start()\n",
        "output.serve_kernel_port_as_window(port, path='/dashboard/')"
      ],
      "metadata": {
        "colab": {
          "base_uri": "https://localhost:8080/",
          "height": 104
        },
        "id": "b3oJ0j0h4g8U",
        "outputId": "fe1f14b4-9a16-4af0-c7b1-00068a5444db"
      },
      "execution_count": 29,
      "outputs": [
        {
          "output_type": "stream",
          "name": "stderr",
          "text": [
            "Bottle v0.12.25 server starting up (using WSGIRefServer())...\n",
            "Listening on http://localhost:8090/\n",
            "Hit Ctrl-C to quit.\n",
            "\n"
          ]
        },
        {
          "output_type": "display_data",
          "data": {
            "text/plain": [
              "<IPython.core.display.Javascript object>"
            ],
            "application/javascript": [
              "(async (port, path, text, element) => {\n",
              "    if (!google.colab.kernel.accessAllowed) {\n",
              "      return;\n",
              "    }\n",
              "    element.appendChild(document.createTextNode(''));\n",
              "    const url = await google.colab.kernel.proxyPort(port);\n",
              "    const anchor = document.createElement('a');\n",
              "    anchor.href = new URL(path, url).toString();\n",
              "    anchor.target = '_blank';\n",
              "    anchor.setAttribute('data-href', url + path);\n",
              "    anchor.textContent = text;\n",
              "    element.appendChild(anchor);\n",
              "  })(8090, \"/dashboard/\", \"https://localhost:8090/dashboard/\", window.element)"
            ]
          },
          "metadata": {}
        }
      ]
    },
    {
      "cell_type": "markdown",
      "source": [
        "###Best Parameters"
      ],
      "metadata": {
        "id": "d5z_CAa5rQFq"
      }
    },
    {
      "cell_type": "code",
      "source": [
        "print(study.best_trials[0].params)"
      ],
      "metadata": {
        "colab": {
          "base_uri": "https://localhost:8080/"
        },
        "id": "E3PbNqWMmLPC",
        "outputId": "3b0743e7-f84e-4f29-a1cd-396f0a0a6cb5"
      },
      "execution_count": 30,
      "outputs": [
        {
          "output_type": "stream",
          "name": "stdout",
          "text": [
            "{'learning_rate': 3.910335149933312e-05, 'weight_decay': 0.03677111553512169, 'num_train_epochs': 5, 'per_device_train_batch_size': 16, 'seed': 28}\n"
          ]
        }
      ]
    },
    {
      "cell_type": "code",
      "source": [
        "model = AutoModelForSequenceClassification.from_pretrained(model_checkpoint, num_labels=8)\n",
        "training_args = TrainingArguments(output_dir=\"./results\",\n",
        "                                  logging_steps = 100,\n",
        "                                  evaluation_strategy=\"steps\")\n",
        "trainer = Trainer(model=model,\n",
        "                  args=training_args,\n",
        "                  train_dataset=X_train,\n",
        "                  eval_dataset=X_dev,\n",
        "                  compute_metrics=compute_metrics)"
      ],
      "metadata": {
        "colab": {
          "base_uri": "https://localhost:8080/"
        },
        "id": "CMGioTYvoo-y",
        "outputId": "8b62cd4a-41cc-4de6-954e-e1b3c23af69d"
      },
      "execution_count": 31,
      "outputs": [
        {
          "output_type": "stream",
          "name": "stderr",
          "text": [
            "Some weights of BertForSequenceClassification were not initialized from the model checkpoint at UBC-NLP/MARBERTv2 and are newly initialized: ['classifier.bias', 'classifier.weight']\n",
            "You should probably TRAIN this model on a down-stream task to be able to use it for predictions and inference.\n"
          ]
        }
      ]
    },
    {
      "cell_type": "code",
      "source": [
        "for n, v in study.best_trials[0].params.items():\n",
        "    setattr(trainer.args, n, v)\n",
        "\n",
        "trainer.train()"
      ],
      "metadata": {
        "id": "mHD4vDiw-Hdt",
        "colab": {
          "base_uri": "https://localhost:8080/",
          "height": 0
        },
        "outputId": "3d449ce4-6419-46fa-a8ba-ce179330d730"
      },
      "execution_count": 32,
      "outputs": [
        {
          "output_type": "stream",
          "name": "stderr",
          "text": [
            "/usr/local/lib/python3.10/dist-packages/transformers/optimization.py:411: FutureWarning: This implementation of AdamW is deprecated and will be removed in a future version. Use the PyTorch implementation torch.optim.AdamW instead, or set `no_deprecation_warning=True` to disable this warning\n",
            "  warnings.warn(\n"
          ]
        },
        {
          "output_type": "display_data",
          "data": {
            "text/plain": [
              "<IPython.core.display.HTML object>"
            ],
            "text/html": [
              "Changes to your `wandb` environment variables will be ignored because your `wandb` session has already started. For more information on how to modify your settings with `wandb.init()` arguments, please refer to <a href='https://wandb.me/wandb-init' target=\"_blank\">the W&B docs</a>."
            ]
          },
          "metadata": {}
        },
        {
          "output_type": "display_data",
          "data": {
            "text/plain": [
              "<IPython.core.display.HTML object>"
            ],
            "text/html": [
              "Tracking run with wandb version 0.15.8"
            ]
          },
          "metadata": {}
        },
        {
          "output_type": "display_data",
          "data": {
            "text/plain": [
              "<IPython.core.display.HTML object>"
            ],
            "text/html": [
              "Run data is saved locally in <code>/content/wandb/run-20230824_032219-d1u1m5ub</code>"
            ]
          },
          "metadata": {}
        },
        {
          "output_type": "display_data",
          "data": {
            "text/plain": [
              "<IPython.core.display.HTML object>"
            ],
            "text/html": [
              "Syncing run <strong><a href='https://wandb.ai/emotion_justification/emotion_sentiment_analysis/runs/d1u1m5ub' target=\"_blank\">generous-disco-2</a></strong> to <a href='https://wandb.ai/emotion_justification/emotion_sentiment_analysis' target=\"_blank\">Weights & Biases</a> (<a href='https://wandb.me/run' target=\"_blank\">docs</a>)<br/>"
            ]
          },
          "metadata": {}
        },
        {
          "output_type": "display_data",
          "data": {
            "text/plain": [
              "<IPython.core.display.HTML object>"
            ],
            "text/html": [
              " View project at <a href='https://wandb.ai/emotion_justification/emotion_sentiment_analysis' target=\"_blank\">https://wandb.ai/emotion_justification/emotion_sentiment_analysis</a>"
            ]
          },
          "metadata": {}
        },
        {
          "output_type": "display_data",
          "data": {
            "text/plain": [
              "<IPython.core.display.HTML object>"
            ],
            "text/html": [
              " View run at <a href='https://wandb.ai/emotion_justification/emotion_sentiment_analysis/runs/d1u1m5ub' target=\"_blank\">https://wandb.ai/emotion_justification/emotion_sentiment_analysis/runs/d1u1m5ub</a>"
            ]
          },
          "metadata": {}
        },
        {
          "output_type": "display_data",
          "data": {
            "text/plain": [
              "<IPython.core.display.HTML object>"
            ],
            "text/html": [
              "\n",
              "    <div>\n",
              "      \n",
              "      <progress value='2205' max='2205' style='width:300px; height:20px; vertical-align: middle;'></progress>\n",
              "      [2205/2205 08:26, Epoch 5/5]\n",
              "    </div>\n",
              "    <table border=\"1\" class=\"dataframe\">\n",
              "  <thead>\n",
              " <tr style=\"text-align: left;\">\n",
              "      <th>Step</th>\n",
              "      <th>Training Loss</th>\n",
              "      <th>Validation Loss</th>\n",
              "      <th>Macro F1</th>\n",
              "      <th>Macro Precision</th>\n",
              "      <th>Macro Recall</th>\n",
              "      <th>Accuracy</th>\n",
              "    </tr>\n",
              "  </thead>\n",
              "  <tbody>\n",
              "    <tr>\n",
              "      <td>100</td>\n",
              "      <td>1.559100</td>\n",
              "      <td>1.172845</td>\n",
              "      <td>0.577206</td>\n",
              "      <td>0.679949</td>\n",
              "      <td>0.598976</td>\n",
              "      <td>0.617219</td>\n",
              "    </tr>\n",
              "    <tr>\n",
              "      <td>200</td>\n",
              "      <td>0.991600</td>\n",
              "      <td>0.879727</td>\n",
              "      <td>0.700188</td>\n",
              "      <td>0.723612</td>\n",
              "      <td>0.700566</td>\n",
              "      <td>0.709272</td>\n",
              "    </tr>\n",
              "    <tr>\n",
              "      <td>300</td>\n",
              "      <td>0.883200</td>\n",
              "      <td>0.819969</td>\n",
              "      <td>0.718326</td>\n",
              "      <td>0.728648</td>\n",
              "      <td>0.722332</td>\n",
              "      <td>0.727152</td>\n",
              "    </tr>\n",
              "    <tr>\n",
              "      <td>400</td>\n",
              "      <td>0.848700</td>\n",
              "      <td>0.771384</td>\n",
              "      <td>0.741327</td>\n",
              "      <td>0.743942</td>\n",
              "      <td>0.740025</td>\n",
              "      <td>0.741060</td>\n",
              "    </tr>\n",
              "    <tr>\n",
              "      <td>500</td>\n",
              "      <td>0.637700</td>\n",
              "      <td>0.802520</td>\n",
              "      <td>0.744773</td>\n",
              "      <td>0.749427</td>\n",
              "      <td>0.745439</td>\n",
              "      <td>0.749007</td>\n",
              "    </tr>\n",
              "    <tr>\n",
              "      <td>600</td>\n",
              "      <td>0.562200</td>\n",
              "      <td>0.794675</td>\n",
              "      <td>0.743160</td>\n",
              "      <td>0.754362</td>\n",
              "      <td>0.740469</td>\n",
              "      <td>0.745033</td>\n",
              "    </tr>\n",
              "    <tr>\n",
              "      <td>700</td>\n",
              "      <td>0.559400</td>\n",
              "      <td>0.813206</td>\n",
              "      <td>0.740661</td>\n",
              "      <td>0.748018</td>\n",
              "      <td>0.738761</td>\n",
              "      <td>0.741722</td>\n",
              "    </tr>\n",
              "    <tr>\n",
              "      <td>800</td>\n",
              "      <td>0.556300</td>\n",
              "      <td>0.793283</td>\n",
              "      <td>0.751970</td>\n",
              "      <td>0.754511</td>\n",
              "      <td>0.750832</td>\n",
              "      <td>0.752318</td>\n",
              "    </tr>\n",
              "    <tr>\n",
              "      <td>900</td>\n",
              "      <td>0.542700</td>\n",
              "      <td>0.821519</td>\n",
              "      <td>0.734006</td>\n",
              "      <td>0.740363</td>\n",
              "      <td>0.733246</td>\n",
              "      <td>0.731126</td>\n",
              "    </tr>\n",
              "    <tr>\n",
              "      <td>1000</td>\n",
              "      <td>0.338700</td>\n",
              "      <td>0.921623</td>\n",
              "      <td>0.732654</td>\n",
              "      <td>0.756509</td>\n",
              "      <td>0.729539</td>\n",
              "      <td>0.735762</td>\n",
              "    </tr>\n",
              "    <tr>\n",
              "      <td>1100</td>\n",
              "      <td>0.295100</td>\n",
              "      <td>0.893653</td>\n",
              "      <td>0.748504</td>\n",
              "      <td>0.754081</td>\n",
              "      <td>0.747727</td>\n",
              "      <td>0.749007</td>\n",
              "    </tr>\n",
              "    <tr>\n",
              "      <td>1200</td>\n",
              "      <td>0.298700</td>\n",
              "      <td>0.897939</td>\n",
              "      <td>0.749702</td>\n",
              "      <td>0.755553</td>\n",
              "      <td>0.748736</td>\n",
              "      <td>0.752318</td>\n",
              "    </tr>\n",
              "    <tr>\n",
              "      <td>1300</td>\n",
              "      <td>0.268400</td>\n",
              "      <td>0.946830</td>\n",
              "      <td>0.735459</td>\n",
              "      <td>0.741419</td>\n",
              "      <td>0.736780</td>\n",
              "      <td>0.739073</td>\n",
              "    </tr>\n",
              "    <tr>\n",
              "      <td>1400</td>\n",
              "      <td>0.183000</td>\n",
              "      <td>1.053213</td>\n",
              "      <td>0.742793</td>\n",
              "      <td>0.747606</td>\n",
              "      <td>0.743329</td>\n",
              "      <td>0.746358</td>\n",
              "    </tr>\n",
              "    <tr>\n",
              "      <td>1500</td>\n",
              "      <td>0.169200</td>\n",
              "      <td>1.137351</td>\n",
              "      <td>0.728173</td>\n",
              "      <td>0.730012</td>\n",
              "      <td>0.730399</td>\n",
              "      <td>0.729801</td>\n",
              "    </tr>\n",
              "    <tr>\n",
              "      <td>1600</td>\n",
              "      <td>0.172900</td>\n",
              "      <td>1.140551</td>\n",
              "      <td>0.737919</td>\n",
              "      <td>0.742687</td>\n",
              "      <td>0.736272</td>\n",
              "      <td>0.735099</td>\n",
              "    </tr>\n",
              "    <tr>\n",
              "      <td>1700</td>\n",
              "      <td>0.159500</td>\n",
              "      <td>1.147726</td>\n",
              "      <td>0.744593</td>\n",
              "      <td>0.754082</td>\n",
              "      <td>0.742259</td>\n",
              "      <td>0.746358</td>\n",
              "    </tr>\n",
              "    <tr>\n",
              "      <td>1800</td>\n",
              "      <td>0.116500</td>\n",
              "      <td>1.210605</td>\n",
              "      <td>0.740767</td>\n",
              "      <td>0.742614</td>\n",
              "      <td>0.741079</td>\n",
              "      <td>0.740397</td>\n",
              "    </tr>\n",
              "    <tr>\n",
              "      <td>1900</td>\n",
              "      <td>0.086500</td>\n",
              "      <td>1.244668</td>\n",
              "      <td>0.738697</td>\n",
              "      <td>0.745355</td>\n",
              "      <td>0.736941</td>\n",
              "      <td>0.738411</td>\n",
              "    </tr>\n",
              "    <tr>\n",
              "      <td>2000</td>\n",
              "      <td>0.068900</td>\n",
              "      <td>1.251313</td>\n",
              "      <td>0.744618</td>\n",
              "      <td>0.747075</td>\n",
              "      <td>0.744273</td>\n",
              "      <td>0.746358</td>\n",
              "    </tr>\n",
              "    <tr>\n",
              "      <td>2100</td>\n",
              "      <td>0.059800</td>\n",
              "      <td>1.265391</td>\n",
              "      <td>0.742499</td>\n",
              "      <td>0.744321</td>\n",
              "      <td>0.742343</td>\n",
              "      <td>0.743709</td>\n",
              "    </tr>\n",
              "    <tr>\n",
              "      <td>2200</td>\n",
              "      <td>0.107000</td>\n",
              "      <td>1.272903</td>\n",
              "      <td>0.738578</td>\n",
              "      <td>0.741354</td>\n",
              "      <td>0.738357</td>\n",
              "      <td>0.739073</td>\n",
              "    </tr>\n",
              "  </tbody>\n",
              "</table><p>"
            ]
          },
          "metadata": {}
        },
        {
          "output_type": "execute_result",
          "data": {
            "text/plain": [
              "TrainOutput(global_step=2205, training_loss=0.42927900816476533, metrics={'train_runtime': 494.5884, 'train_samples_per_second': 71.221, 'train_steps_per_second': 4.458, 'total_flos': 669800175442800.0, 'train_loss': 0.42927900816476533, 'epoch': 5.0})"
            ]
          },
          "metadata": {},
          "execution_count": 32
        }
      ]
    },
    {
      "cell_type": "code",
      "source": [
        "trainer.evaluate()"
      ],
      "metadata": {
        "id": "7wnWzSM5dvyR",
        "colab": {
          "base_uri": "https://localhost:8080/",
          "height": 0
        },
        "outputId": "2f9335f9-631f-418b-cda0-cf520ebcee3a"
      },
      "execution_count": 33,
      "outputs": [
        {
          "output_type": "display_data",
          "data": {
            "text/plain": [
              "<IPython.core.display.HTML object>"
            ],
            "text/html": [
              "\n",
              "    <div>\n",
              "      \n",
              "      <progress value='189' max='189' style='width:300px; height:20px; vertical-align: middle;'></progress>\n",
              "      [189/189 00:04]\n",
              "    </div>\n",
              "    "
            ]
          },
          "metadata": {}
        },
        {
          "output_type": "execute_result",
          "data": {
            "text/plain": [
              "{'eval_loss': 1.2729406356811523,\n",
              " 'eval_macro_f1': 0.7385782601219473,\n",
              " 'eval_macro_precision': 0.7413537940410229,\n",
              " 'eval_macro_recall': 0.7383572478144302,\n",
              " 'eval_accuracy': 0.7390728476821192,\n",
              " 'eval_runtime': 4.971,\n",
              " 'eval_samples_per_second': 303.76,\n",
              " 'eval_steps_per_second': 38.02,\n",
              " 'epoch': 5.0}"
            ]
          },
          "metadata": {},
          "execution_count": 33
        }
      ]
    },
    {
      "cell_type": "markdown",
      "source": [
        "###Evaluate"
      ],
      "metadata": {
        "id": "yqqmggkUmYpi"
      }
    },
    {
      "cell_type": "markdown",
      "source": [
        "####Test Data"
      ],
      "metadata": {
        "id": "v2CwjzfbNRuD"
      }
    },
    {
      "cell_type": "code",
      "source": [
        "import torch\n",
        "\n",
        "batch_size = 16\n",
        "\n",
        "device = \"cuda\" if torch.cuda.is_available() else \"cpu\"\n",
        "device"
      ],
      "metadata": {
        "id": "YllNF91yfUPu",
        "colab": {
          "base_uri": "https://localhost:8080/",
          "height": 35
        },
        "outputId": "39b26a5b-5151-4a84-8f7e-edeb14e29e5e"
      },
      "execution_count": 34,
      "outputs": [
        {
          "output_type": "execute_result",
          "data": {
            "text/plain": [
              "'cuda'"
            ],
            "application/vnd.google.colaboratory.intrinsic+json": {
              "type": "string"
            }
          },
          "metadata": {},
          "execution_count": 34
        }
      ]
    },
    {
      "cell_type": "code",
      "source": [
        "from torch.utils.data import TensorDataset, DataLoader\n",
        "\n",
        "input_ids = [i['input_ids'] for i in X_test]\n",
        "attention_masks = [i['attention_mask'] for i in X_test]\n",
        "\n",
        "inputs = torch.tensor(input_ids)\n",
        "masks = torch.tensor(attention_masks)\n",
        "test_data = TensorDataset(inputs, masks)\n",
        "\n",
        "test_dataloader = DataLoader(test_data, batch_size=batch_size)"
      ],
      "metadata": {
        "id": "lW6b027GkmnZ"
      },
      "execution_count": 35,
      "outputs": []
    },
    {
      "cell_type": "code",
      "source": [
        "from sklearn.metrics import classification_report\n",
        "\n",
        "model = trainer.model\n",
        "model.eval()\n",
        "model.to(device)\n",
        "\n",
        "test_pred = []\n",
        "for input, masks in test_dataloader:\n",
        "    torch.cuda.empty_cache()\n",
        "\n",
        "    input = input.to(device)\n",
        "    masks = masks.to(device)\n",
        "\n",
        "    output = model(input, attention_mask=masks)['logits']\n",
        "    predictions = torch.argmax(output, dim=1)\n",
        "    predictions = predictions.cpu().detach().numpy()\n",
        "\n",
        "    test_pred.extend(predictions)\n",
        "\n",
        "print(classification_report(X_test['label'], test_pred, target_names=classes))"
      ],
      "metadata": {
        "id": "wnJcFttrlFaZ",
        "colab": {
          "base_uri": "https://localhost:8080/"
        },
        "outputId": "6204a4e3-3dec-4ba6-f53a-7b340c5abf53"
      },
      "execution_count": 36,
      "outputs": [
        {
          "output_type": "stream",
          "name": "stdout",
          "text": [
            "              precision    recall  f1-score   support\n",
            "\n",
            "        none       0.70      0.80      0.75       229\n",
            "       anger       0.76      0.69      0.72       200\n",
            "         joy       0.66      0.58      0.62       205\n",
            "     sadness       0.60      0.67      0.63       185\n",
            "        love       0.80      0.79      0.79       193\n",
            "    sympathy       0.90      0.88      0.89       156\n",
            "    surprise       0.59      0.56      0.58       154\n",
            "        fear       0.93      0.94      0.93       188\n",
            "\n",
            "    accuracy                           0.74      1510\n",
            "   macro avg       0.74      0.74      0.74      1510\n",
            "weighted avg       0.74      0.74      0.74      1510\n",
            "\n"
          ]
        }
      ]
    },
    {
      "cell_type": "code",
      "source": [
        "from sklearn.metrics import confusion_matrix\n",
        "import matplotlib.pyplot as plt\n",
        "import seaborn as sns\n",
        "\n",
        "cm = confusion_matrix(X_test['label'], test_pred)\n",
        "\n",
        "plt.figure(figsize=(10, 8))\n",
        "sns.set(font_scale=1.2)\n",
        "sns.heatmap(cm, annot=True, fmt='d', cmap='Blues', xticklabels=classes, yticklabels=classes)\n",
        "plt.xlabel('Predicted')\n",
        "plt.ylabel('Actual')\n",
        "plt.title('Confusion Matrix')\n",
        "plt.show()"
      ],
      "metadata": {
        "colab": {
          "base_uri": "https://localhost:8080/",
          "height": 761
        },
        "id": "hkpfmUmIBxPy",
        "outputId": "0e5f7835-2762-429c-e6c9-06540548b3cb"
      },
      "execution_count": 37,
      "outputs": [
        {
          "output_type": "display_data",
          "data": {
            "text/plain": [
              "<Figure size 1000x800 with 2 Axes>"
            ],
            "image/png": "[encoded data removed]"
          },
          "metadata": {}
        }
      ]
    },
    {
      "cell_type": "markdown",
      "source": [
        "####Train Data"
      ],
      "metadata": {
        "id": "gt23QeV1LCF8"
      }
    },
    {
      "cell_type": "code",
      "source": [
        "from torch.utils.data import TensorDataset, DataLoader\n",
        "\n",
        "input_ids = [i['input_ids'] for i in X_train]\n",
        "attention_masks = [i['attention_mask'] for i in X_train]\n",
        "\n",
        "inputs = torch.tensor(input_ids)\n",
        "masks = torch.tensor(attention_masks)\n",
        "train_data = TensorDataset(inputs, masks)\n",
        "\n",
        "train_dataloader = DataLoader(train_data, batch_size=batch_size)"
      ],
      "metadata": {
        "id": "jK2oeoMqLEH5"
      },
      "execution_count": 38,
      "outputs": []
    },
    {
      "cell_type": "code",
      "source": [
        "from sklearn.metrics import classification_report\n",
        "\n",
        "model = trainer.model\n",
        "model.eval()\n",
        "model.to(device)\n",
        "\n",
        "train_pred = []\n",
        "for input, masks in train_dataloader:\n",
        "    torch.cuda.empty_cache()\n",
        "\n",
        "    input = input.to(device)\n",
        "    masks = masks.to(device)\n",
        "\n",
        "    output = model(input, attention_mask=masks)['logits']\n",
        "    predictions = torch.argmax(output, dim=1)\n",
        "    predictions = predictions.cpu().detach().numpy()\n",
        "\n",
        "    train_pred.extend(predictions)\n",
        "\n",
        "print(classification_report(X_train['label'], train_pred, target_names=classes))"
      ],
      "metadata": {
        "colab": {
          "base_uri": "https://localhost:8080/"
        },
        "id": "MUBSnLxKLG5h",
        "outputId": "14a020a9-389e-40bb-cd3f-9df4cf0d7b08"
      },
      "execution_count": 39,
      "outputs": [
        {
          "output_type": "stream",
          "name": "stdout",
          "text": [
            "              precision    recall  f1-score   support\n",
            "\n",
            "        none       0.98      0.99      0.99      1074\n",
            "       anger       0.99      0.99      0.99      1019\n",
            "         joy       0.99      0.99      0.99       891\n",
            "     sadness       0.99      0.98      0.99       885\n",
            "        love       1.00      0.99      0.99       850\n",
            "    sympathy       0.99      0.99      0.99       755\n",
            "    surprise       0.98      0.98      0.98       729\n",
            "        fear       0.99      0.99      0.99       842\n",
            "\n",
            "    accuracy                           0.99      7045\n",
            "   macro avg       0.99      0.99      0.99      7045\n",
            "weighted avg       0.99      0.99      0.99      7045\n",
            "\n"
          ]
        }
      ]
    },
    {
      "cell_type": "code",
      "source": [
        "from sklearn.metrics import confusion_matrix\n",
        "import matplotlib.pyplot as plt\n",
        "import seaborn as sns\n",
        "\n",
        "cm = confusion_matrix(X_train['label'], train_pred)\n",
        "\n",
        "plt.figure(figsize=(10, 8))\n",
        "sns.set(font_scale=1.2)\n",
        "sns.heatmap(cm, annot=True, fmt='d', cmap='Blues', xticklabels=classes, yticklabels=classes)\n",
        "plt.xlabel('Predicted')\n",
        "plt.ylabel('Actual')\n",
        "plt.title('Confusion Matrix')\n",
        "plt.show()"
      ],
      "metadata": {
        "colab": {
          "base_uri": "https://localhost:8080/",
          "height": 751
        },
        "id": "zvhFsRpmNGDa",
        "outputId": "4e5c1221-3c11-4d97-f474-0090553f754e"
      },
      "execution_count": 40,
      "outputs": [
        {
          "output_type": "display_data",
          "data": {
            "text/plain": [
              "<Figure size 1000x800 with 2 Axes>"
            ],
            "image/png": "[encoded data removed]"
          },
          "metadata": {}
        }
      ]
    },
    {
      "cell_type": "markdown",
      "source": [
        "####Dev Data"
      ],
      "metadata": {
        "id": "ULR5bhPHOHSE"
      }
    },
    {
      "cell_type": "code",
      "source": [
        "from torch.utils.data import TensorDataset, DataLoader\n",
        "\n",
        "input_ids = [i['input_ids'] for i in X_dev]\n",
        "attention_masks = [i['attention_mask'] for i in X_dev]\n",
        "\n",
        "inputs = torch.tensor(input_ids)\n",
        "masks = torch.tensor(attention_masks)\n",
        "dev_data = TensorDataset(inputs, masks)\n",
        "\n",
        "dev_dataloader = DataLoader(dev_data, batch_size=batch_size)"
      ],
      "metadata": {
        "id": "PcdL44f7OJAQ"
      },
      "execution_count": 41,
      "outputs": []
    },
    {
      "cell_type": "code",
      "source": [
        "from sklearn.metrics import classification_report\n",
        "\n",
        "model = trainer.model\n",
        "model.eval()\n",
        "model.to(device)\n",
        "\n",
        "dev_pred = []\n",
        "for input, masks in dev_dataloader:\n",
        "    torch.cuda.empty_cache()\n",
        "\n",
        "    input = input.to(device)\n",
        "    masks = masks.to(device)\n",
        "\n",
        "    output = model(input, attention_mask=masks)['logits']\n",
        "    predictions = torch.argmax(output, dim=1)\n",
        "    predictions = predictions.cpu().detach().numpy()\n",
        "\n",
        "    dev_pred.extend(predictions)\n",
        "\n",
        "print(classification_report(X_dev['label'], dev_pred, target_names=classes))"
      ],
      "metadata": {
        "colab": {
          "base_uri": "https://localhost:8080/"
        },
        "id": "c8kp5em6OJHm",
        "outputId": "212b3548-45dc-4372-9d59-58e811b7f5d9"
      },
      "execution_count": 42,
      "outputs": [
        {
          "output_type": "stream",
          "name": "stdout",
          "text": [
            "              precision    recall  f1-score   support\n",
            "\n",
            "        none       0.70      0.80      0.75       229\n",
            "       anger       0.76      0.69      0.72       200\n",
            "         joy       0.66      0.58      0.62       205\n",
            "     sadness       0.60      0.67      0.63       185\n",
            "        love       0.80      0.79      0.79       193\n",
            "    sympathy       0.90      0.88      0.89       156\n",
            "    surprise       0.59      0.56      0.58       154\n",
            "        fear       0.93      0.94      0.93       188\n",
            "\n",
            "    accuracy                           0.74      1510\n",
            "   macro avg       0.74      0.74      0.74      1510\n",
            "weighted avg       0.74      0.74      0.74      1510\n",
            "\n"
          ]
        }
      ]
    },
    {
      "cell_type": "code",
      "source": [
        "from sklearn.metrics import confusion_matrix\n",
        "import matplotlib.pyplot as plt\n",
        "import seaborn as sns\n",
        "\n",
        "cm = confusion_matrix(X_dev['label'], dev_pred)\n",
        "\n",
        "plt.figure(figsize=(10, 8))\n",
        "sns.set(font_scale=1.2)\n",
        "sns.heatmap(cm, annot=True, fmt='d', cmap='Blues', xticklabels=classes, yticklabels=classes)\n",
        "plt.xlabel('Predicted')\n",
        "plt.ylabel('Actual')\n",
        "plt.title('Confusion Matrix')\n",
        "plt.show()"
      ],
      "metadata": {
        "colab": {
          "base_uri": "https://localhost:8080/",
          "height": 761
        },
        "id": "y0-osMyyOPpd",
        "outputId": "844bdc46-6040-4586-849d-f23eb9d07867"
      },
      "execution_count": 43,
      "outputs": [
        {
          "output_type": "display_data",
          "data": {
            "text/plain": [
              "<Figure size 1000x800 with 2 Axes>"
            ],
            "image/png": "[encoded data removed]"
          },
          "metadata": {}
        }
      ]
    }
  ]
}