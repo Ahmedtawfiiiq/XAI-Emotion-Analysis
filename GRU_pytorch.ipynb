{
  "nbformat": 4,
  "nbformat_minor": 0,
  "metadata": {
    "colab": {
      "provenance": [],
      "gpuType": "T4"
    },
    "kernelspec": {
      "name": "python3",
      "display_name": "Python 3"
    },
    "language_info": {
      "name": "python"
    },
    "accelerator": "GPU"
  },
  "cells": [
    {
      "cell_type": "code",
      "source": [
        "import numpy as np\n",
        "import pandas as pd\n",
        "import pickle"
      ],
      "metadata": {
        "id": "YZoHA0OHzOSn"
      },
      "execution_count": 1,
      "outputs": []
    },
    {
      "cell_type": "code",
      "execution_count": 1,
      "metadata": {
        "colab": {
          "base_uri": "https://localhost:8080/"
        },
        "id": "EBrazBLqvTZB",
        "outputId": "298a4fb6-a966-44a2-b1d8-1804b03b050c"
      },
      "outputs": [
        {
          "output_type": "stream",
          "name": "stdout",
          "text": [
            "Requirement already satisfied: gdown in /usr/local/lib/python3.10/dist-packages (4.6.6)\n",
            "Requirement already satisfied: filelock in /usr/local/lib/python3.10/dist-packages (from gdown) (3.12.2)\n",
            "Requirement already satisfied: requests[socks] in /usr/local/lib/python3.10/dist-packages (from gdown) (2.31.0)\n",
            "Requirement already satisfied: six in /usr/local/lib/python3.10/dist-packages (from gdown) (1.16.0)\n",
            "Requirement already satisfied: tqdm in /usr/local/lib/python3.10/dist-packages (from gdown) (4.66.0)\n",
            "Requirement already satisfied: beautifulsoup4 in /usr/local/lib/python3.10/dist-packages (from gdown) (4.11.2)\n",
            "Requirement already satisfied: soupsieve>1.2 in /usr/local/lib/python3.10/dist-packages (from beautifulsoup4->gdown) (2.4.1)\n",
            "Requirement already satisfied: charset-normalizer<4,>=2 in /usr/local/lib/python3.10/dist-packages (from requests[socks]->gdown) (3.2.0)\n",
            "Requirement already satisfied: idna<4,>=2.5 in /usr/local/lib/python3.10/dist-packages (from requests[socks]->gdown) (3.4)\n",
            "Requirement already satisfied: urllib3<3,>=1.21.1 in /usr/local/lib/python3.10/dist-packages (from requests[socks]->gdown) (2.0.4)\n",
            "Requirement already satisfied: certifi>=2017.4.17 in /usr/local/lib/python3.10/dist-packages (from requests[socks]->gdown) (2023.7.22)\n",
            "Requirement already satisfied: PySocks!=1.5.7,>=1.5.6 in /usr/local/lib/python3.10/dist-packages (from requests[socks]->gdown) (1.7.1)\n"
          ]
        }
      ],
      "source": [
        "!pip install gdown"
      ]
    },
    {
      "cell_type": "code",
      "source": [
        "!gdown \"1-0CfuTbiTOIfDr4R76MO4Hd7GVeFlSrn\"\n",
        "!gdown \"13UONDopwe65QnuMK6jJWQUIdyx3OI-FA\"\n",
        "!gdown \"1-0eCfZ8xSvLAI4RuC2e1WLf_Z09GmAaN\"\n",
        "\n",
        "! gdown \"1Kqf7-0Jkp1doGJWyhgxW1ku738IO4xji\"\n",
        "! gdown \"1x_D1Feh88EFHQ63SEe55sAymUnztqzeK\"\n",
        "! gdown \"1CcvUQxEuzPbwLOYjA1rxmyBxMF_au6wZ\"\n"
      ],
      "metadata": {
        "colab": {
          "base_uri": "https://localhost:8080/"
        },
        "id": "JAKQ0fZExN1n",
        "outputId": "e6bfeaf2-bc80-4657-ff5b-66eaa1cbaa8b"
      },
      "execution_count": 2,
      "outputs": [
        {
          "output_type": "stream",
          "name": "stdout",
          "text": [
            "Downloading...\n",
            "From: https://drive.google.com/uc?id=1-0CfuTbiTOIfDr4R76MO4Hd7GVeFlSrn\n",
            "To: /content/test_embeddings_per_word.pkl\n",
            "100% 464M/464M [00:04<00:00, 104MB/s] \n",
            "Downloading...\n",
            "From: https://drive.google.com/uc?id=13UONDopwe65QnuMK6jJWQUIdyx3OI-FA\n",
            "To: /content/train_embeddings_per_word.pkl\n",
            "100% 2.16G/2.16G [00:16<00:00, 133MB/s]\n",
            "Downloading...\n",
            "From: https://drive.google.com/uc?id=1-0eCfZ8xSvLAI4RuC2e1WLf_Z09GmAaN\n",
            "To: /content/val_embeddings_per_word.pkl\n",
            "100% 464M/464M [00:02<00:00, 199MB/s]\n",
            "Downloading...\n",
            "From: https://drive.google.com/uc?id=1Kqf7-0Jkp1doGJWyhgxW1ku738IO4xji\n",
            "To: /content/test.pkl\n",
            "100% 762k/762k [00:00<00:00, 127MB/s]\n",
            "Downloading...\n",
            "From: https://drive.google.com/uc?id=1x_D1Feh88EFHQ63SEe55sAymUnztqzeK\n",
            "To: /content/train.pkl\n",
            "100% 3.59M/3.59M [00:00<00:00, 62.8MB/s]\n",
            "Downloading...\n",
            "From: https://drive.google.com/uc?id=1CcvUQxEuzPbwLOYjA1rxmyBxMF_au6wZ\n",
            "To: /content/val.pkl\n",
            "100% 769k/769k [00:00<00:00, 103MB/s]\n"
          ]
        }
      ]
    },
    {
      "cell_type": "code",
      "source": [
        "file_path = '/content/test.pkl'\n",
        "with open(file_path, 'rb') as file:\n",
        "    test = pickle.load(file)\n",
        "\n",
        "file_path = '/content/train.pkl'\n",
        "with open(file_path, 'rb') as file:\n",
        "    train = pickle.load(file)\n",
        "\n",
        "file_path = '/content/val.pkl'\n",
        "with open(file_path, 'rb') as file:\n",
        "    val = pickle.load(file)"
      ],
      "metadata": {
        "id": "VIWgu9w-xN4Q"
      },
      "execution_count": 16,
      "outputs": []
    },
    {
      "cell_type": "code",
      "source": [
        "with open('/content/train_embeddings_per_word.pkl', 'rb') as f:\n",
        "    train_embedd = pickle.load(f)\n",
        "\n",
        "with open('/content/test_embeddings_per_word.pkl', 'rb') as f:\n",
        "    test_embedd= pickle.load(f)\n",
        "\n",
        "with open('/content/val_embeddings_per_word.pkl', 'rb') as f:\n",
        "    val_embedd= pickle.load(f)\n"
      ],
      "metadata": {
        "id": "Icgih_CAzYCT"
      },
      "execution_count": 17,
      "outputs": []
    },
    {
      "cell_type": "markdown",
      "source": [
        "# intiate the model"
      ],
      "metadata": {
        "id": "CCqz0Qxl0E87"
      }
    },
    {
      "cell_type": "code",
      "source": [
        "import torch\n",
        "import torch.nn as nn\n",
        "import torch.optim as optim\n",
        "from sklearn.metrics import accuracy_score\n",
        "class GRUModel(nn.Module):\n",
        "    def __init__(self, input_size, hidden_size, output_size, dropout_rate):\n",
        "        super(GRUModel, self).__init__()\n",
        "\n",
        "        self.gru = nn.GRU(input_size, hidden_size, batch_first=True)\n",
        "        self.dropout = nn.Dropout(dropout_rate)\n",
        "        self.dense = nn.Linear(hidden_size, output_size)\n",
        "        self.softmax = nn.Softmax(dim=1)\n",
        "\n",
        "    def forward(self, x):\n",
        "        _, h_n = self.gru(x)\n",
        "        out = self.dropout(h_n[-1, :, :])  # Using the last hidden state\n",
        "        out = self.dense(out)\n",
        "        out = self.softmax(out)\n",
        "        return out\n",
        "\n",
        "# Parameters\n",
        "EPOCHS = 50\n",
        "LEARNING_RATE = 0.0053516485623658835\n",
        "INPUT_SIZE = 768\n",
        "HIDDEN_SIZE = 256\n",
        "OUTPUT_SIZE = 8  # Output size for softmax layer\n",
        "DROPOUT_RATE = 0.011691195516528197\n",
        "patience = 10\n",
        "BATCH_SIZE = 64\n",
        "\n",
        "\n",
        "# Create the model\n",
        "model = GRUModel(INPUT_SIZE, HIDDEN_SIZE, OUTPUT_SIZE, DROPOUT_RATE)\n",
        "\n",
        "# Define the loss function and optimizer\n",
        "criterion = nn.CrossEntropyLoss()  # Cross-Entropy loss for classification\n",
        "optimizer = torch.optim.Adam(model.parameters(), lr=LEARNING_RATE)\n",
        "\n",
        "# Display the model architecture\n",
        "print(model)\n"
      ],
      "metadata": {
        "colab": {
          "base_uri": "https://localhost:8080/"
        },
        "id": "4VXjWcUFxN68",
        "outputId": "7b5ea08e-8e26-4007-cf2d-61859984b5ef"
      },
      "execution_count": 5,
      "outputs": [
        {
          "output_type": "stream",
          "name": "stdout",
          "text": [
            "GRUModel(\n",
            "  (gru): GRU(768, 256, batch_first=True)\n",
            "  (dropout): Dropout(p=0.011691195516528197, inplace=False)\n",
            "  (dense): Linear(in_features=256, out_features=8, bias=True)\n",
            "  (softmax): Softmax(dim=1)\n",
            ")\n"
          ]
        }
      ]
    },
    {
      "cell_type": "code",
      "source": [
        "#preparing the labels for traning\n",
        "from tensorflow.keras.utils import to_categorical\n",
        "y_train_one_hot = to_categorical(train['label'], num_classes=8)\n",
        "y_val_one_hot   = to_categorical(val['label'], num_classes=8)\n",
        "y_test_one_hot  = to_categorical(test['label'], num_classes=8)"
      ],
      "metadata": {
        "id": "vfMrrCgExODa"
      },
      "execution_count": 7,
      "outputs": []
    },
    {
      "cell_type": "code",
      "source": [],
      "metadata": {
        "id": "cBZSOIJO12R7"
      },
      "execution_count": null,
      "outputs": []
    },
    {
      "cell_type": "markdown",
      "source": [
        "cpu training"
      ],
      "metadata": {
        "id": "3yz8dh7G0fqU"
      }
    },
    {
      "cell_type": "code",
      "source": [
        "# Convert NumPy arrays to PyTorch tensors\n",
        "train_embedd_tensor = torch.tensor(train_embedd, dtype=torch.float32)\n",
        "y_train_one_hot_tensor = torch.tensor(y_train_one_hot, dtype=torch.float32)\n",
        "\n",
        "val_embedd_tensor = torch.tensor(val_embedd, dtype=torch.float32)\n",
        "y_val_one_hot_tensor = torch.tensor(y_val_one_hot, dtype=torch.float32)\n",
        "\n",
        "# Initialize the model, loss function, and optimizer\n",
        "model = GRUModel(INPUT_SIZE, HIDDEN_SIZE, OUTPUT_SIZE, DROPOUT_RATE)\n",
        "criterion = nn.CrossEntropyLoss()  # Assuming labels are integers, not one-hot encoded\n",
        "optimizer = optim.Adam(model.parameters(), lr=LEARNING_RATE)"
      ],
      "metadata": {
        "id": "1P5h-4HuxOGA"
      },
      "execution_count": 16,
      "outputs": []
    },
    {
      "cell_type": "markdown",
      "source": [
        "gpu training"
      ],
      "metadata": {
        "id": "-3t2Z2rg0kWx"
      }
    },
    {
      "cell_type": "code",
      "source": [
        "train_embedd_tensor = torch.tensor(train_embedd, dtype=torch.float32).cuda()\n",
        "y_train_one_hot_tensor = torch.tensor(y_train_one_hot, dtype=torch.float32).cuda()\n",
        "\n",
        "val_embedd_tensor = torch.tensor(val_embedd, dtype=torch.float32).cuda()\n",
        "y_val_one_hot_tensor = torch.tensor(y_val_one_hot, dtype=torch.float32).cuda()\n",
        "\n",
        "# Initialize the model, loss function, and optimizer and move them to GPU\n",
        "model = GRUModel(INPUT_SIZE, HIDDEN_SIZE, OUTPUT_SIZE, DROPOUT_RATE).cuda()\n",
        "criterion = nn.CrossEntropyLoss()  # Assuming labels are integers, not one-hot encoded\n",
        "optimizer = optim.Adam(model.parameters(), lr=LEARNING_RATE)"
      ],
      "metadata": {
        "id": "qTttXiDBxOIZ"
      },
      "execution_count": 26,
      "outputs": []
    },
    {
      "cell_type": "markdown",
      "source": [
        "data loaders"
      ],
      "metadata": {
        "id": "B5sThdBP0tvl"
      }
    },
    {
      "cell_type": "code",
      "source": [
        "# Create data loaders\n",
        "train_dataset = torch.utils.data.TensorDataset(train_embedd_tensor, y_train_one_hot_tensor)\n",
        "train_loader = torch.utils.data.DataLoader(train_dataset, batch_size=BATCH_SIZE, shuffle=True)\n",
        "\n",
        "val_dataset = torch.utils.data.TensorDataset(val_embedd_tensor, y_val_one_hot_tensor)\n",
        "val_loader = torch.utils.data.DataLoader(val_dataset, batch_size=BATCH_SIZE, shuffle=False)"
      ],
      "metadata": {
        "id": "4b_wupPS0wAR"
      },
      "execution_count": 27,
      "outputs": []
    },
    {
      "cell_type": "code",
      "source": [
        "# Initialize early stopping\n",
        "best_val_loss = float('inf')\n",
        "counter = 0\n",
        "\n",
        "# Training loop\n",
        "for epoch in range(EPOCHS):\n",
        "    model.train()\n",
        "    train_loss = 0.0\n",
        "    train_acc = 0.0\n",
        "\n",
        "    for inputs, labels in train_loader:\n",
        "        optimizer.zero_grad()\n",
        "        outputs = model(inputs)\n",
        "        loss = criterion(outputs, torch.argmax(labels, dim=1))  # Assuming labels are one-hot encoded\n",
        "        loss.backward()\n",
        "        optimizer.step()\n",
        "\n",
        "        train_loss += loss.item() * inputs.size(0)\n",
        "        _, preds = torch.max(outputs, 1)\n",
        "        train_acc += torch.sum(preds == torch.argmax(labels, dim=1)).item()\n",
        "\n",
        "    train_loss = train_loss / len(train_loader.dataset)\n",
        "    train_acc = train_acc / len(train_loader.dataset)\n",
        "\n",
        "    model.eval()\n",
        "    val_loss = 0.0\n",
        "    val_acc = 0.0\n",
        "\n",
        "    with torch.no_grad():\n",
        "        for inputs, labels in val_loader:\n",
        "            outputs = model(inputs)\n",
        "            loss = criterion(outputs, torch.argmax(labels, dim=1))  # Assuming labels are one-hot encoded\n",
        "\n",
        "            val_loss += loss.item() * inputs.size(0)\n",
        "            _, preds = torch.max(outputs, 1)\n",
        "            val_acc += torch.sum(preds == torch.argmax(labels, dim=1)).item()\n",
        "\n",
        "    val_loss = val_loss / len(val_loader.dataset)\n",
        "    val_acc = val_acc / len(val_loader.dataset)\n",
        "\n",
        "    print(f'Epoch [{epoch+1}/{EPOCHS}] - '\n",
        "          f'Train Loss: {train_loss:.4f}, Train Acc: {train_acc:.4f}, '\n",
        "          f'Val Loss: {val_loss:.4f}, Val Acc: {val_acc:.4f}')\n",
        "\n",
        "    # Check for early stopping\n",
        "    if val_loss < best_val_loss:\n",
        "        best_val_loss = val_loss\n",
        "        counter = 0\n",
        "    else:\n",
        "        counter += 1\n",
        "        if counter >= patience:\n",
        "            print(\"Early stopping triggered.\")\n",
        "            break\n",
        "\n",
        "print(\"Training completed.\")\n",
        "\n",
        "# Test the model on test data and compute accuracy\n",
        "test_embedd_tensor = torch.tensor(test_embedd, dtype=torch.float32).cuda()\n",
        "y_test_one_hot_tensor = torch.tensor(y_test_one_hot, dtype=torch.float32).cuda()\n",
        "test_dataset = torch.utils.data.TensorDataset(test_embedd_tensor, y_test_one_hot_tensor)\n",
        "test_loader = torch.utils.data.DataLoader(test_dataset, batch_size=BATCH_SIZE, shuffle=False)\n",
        "\n",
        "model.eval()\n",
        "test_acc = 0.0\n",
        "\n",
        "with torch.no_grad():\n",
        "    for inputs, labels in test_loader:\n",
        "        outputs = model(inputs)\n",
        "        _, preds = torch.max(outputs, 1)\n",
        "        test_acc += torch.sum(preds == torch.argmax(labels, dim=1)).item()\n",
        "\n",
        "test_acc = test_acc / len(test_loader.dataset)\n",
        "print(f'Test Accuracy: {test_acc:.4f}')"
      ],
      "metadata": {
        "colab": {
          "base_uri": "https://localhost:8080/"
        },
        "id": "FqJO_-YE13WM",
        "outputId": "cc56cddb-823d-483d-9d9a-e6c518392487"
      },
      "execution_count": 28,
      "outputs": [
        {
          "output_type": "stream",
          "name": "stdout",
          "text": [
            "Epoch [1/50] - Train Loss: 1.8691, Train Acc: 0.4009, Val Loss: 1.6873, Val Acc: 0.5841\n",
            "Epoch [2/50] - Train Loss: 1.6455, Train Acc: 0.6322, Val Loss: 1.6262, Val Acc: 0.6543\n",
            "Epoch [3/50] - Train Loss: 1.5901, Train Acc: 0.6873, Val Loss: 1.6813, Val Acc: 0.5901\n",
            "Epoch [4/50] - Train Loss: 1.5551, Train Acc: 0.7215, Val Loss: 1.5659, Val Acc: 0.7099\n",
            "Epoch [5/50] - Train Loss: 1.5463, Train Acc: 0.7287, Val Loss: 1.5516, Val Acc: 0.7272\n",
            "Epoch [6/50] - Train Loss: 1.5288, Train Acc: 0.7468, Val Loss: 1.5439, Val Acc: 0.7364\n",
            "Epoch [7/50] - Train Loss: 1.5058, Train Acc: 0.7688, Val Loss: 1.5398, Val Acc: 0.7364\n",
            "Epoch [8/50] - Train Loss: 1.4933, Train Acc: 0.7831, Val Loss: 1.5446, Val Acc: 0.7305\n",
            "Epoch [9/50] - Train Loss: 1.4946, Train Acc: 0.7793, Val Loss: 1.5288, Val Acc: 0.7470\n",
            "Epoch [10/50] - Train Loss: 1.4854, Train Acc: 0.7905, Val Loss: 1.5286, Val Acc: 0.7497\n",
            "Epoch [11/50] - Train Loss: 1.4795, Train Acc: 0.7960, Val Loss: 1.5208, Val Acc: 0.7563\n",
            "Epoch [12/50] - Train Loss: 1.4715, Train Acc: 0.8028, Val Loss: 1.5431, Val Acc: 0.7298\n",
            "Epoch [13/50] - Train Loss: 1.4653, Train Acc: 0.8121, Val Loss: 1.5093, Val Acc: 0.7642\n",
            "Epoch [14/50] - Train Loss: 1.4519, Train Acc: 0.8236, Val Loss: 1.5225, Val Acc: 0.7543\n",
            "Epoch [15/50] - Train Loss: 1.4683, Train Acc: 0.8058, Val Loss: 1.5345, Val Acc: 0.7397\n",
            "Epoch [16/50] - Train Loss: 1.4663, Train Acc: 0.8104, Val Loss: 1.5180, Val Acc: 0.7556\n",
            "Epoch [17/50] - Train Loss: 1.4488, Train Acc: 0.8275, Val Loss: 1.5201, Val Acc: 0.7576\n",
            "Epoch [18/50] - Train Loss: 1.4434, Train Acc: 0.8352, Val Loss: 1.5342, Val Acc: 0.7377\n",
            "Epoch [19/50] - Train Loss: 1.4460, Train Acc: 0.8292, Val Loss: 1.5196, Val Acc: 0.7556\n",
            "Epoch [20/50] - Train Loss: 1.4341, Train Acc: 0.8426, Val Loss: 1.5087, Val Acc: 0.7649\n",
            "Epoch [21/50] - Train Loss: 1.4357, Train Acc: 0.8405, Val Loss: 1.5157, Val Acc: 0.7543\n",
            "Epoch [22/50] - Train Loss: 1.4326, Train Acc: 0.8430, Val Loss: 1.5225, Val Acc: 0.7556\n",
            "Epoch [23/50] - Train Loss: 1.4246, Train Acc: 0.8518, Val Loss: 1.5242, Val Acc: 0.7477\n",
            "Epoch [24/50] - Train Loss: 1.4212, Train Acc: 0.8555, Val Loss: 1.5163, Val Acc: 0.7570\n",
            "Epoch [25/50] - Train Loss: 1.4263, Train Acc: 0.8500, Val Loss: 1.5134, Val Acc: 0.7629\n",
            "Epoch [26/50] - Train Loss: 1.4176, Train Acc: 0.8579, Val Loss: 1.5167, Val Acc: 0.7530\n",
            "Epoch [27/50] - Train Loss: 1.4219, Train Acc: 0.8534, Val Loss: 1.5253, Val Acc: 0.7457\n",
            "Epoch [28/50] - Train Loss: 1.4138, Train Acc: 0.8626, Val Loss: 1.5335, Val Acc: 0.7351\n",
            "Epoch [29/50] - Train Loss: 1.4116, Train Acc: 0.8639, Val Loss: 1.5242, Val Acc: 0.7510\n",
            "Epoch [30/50] - Train Loss: 1.4148, Train Acc: 0.8590, Val Loss: 1.5395, Val Acc: 0.7325\n",
            "Early stopping triggered.\n",
            "Training completed.\n",
            "Test Accuracy: 0.7417\n"
          ]
        }
      ]
    },
    {
      "cell_type": "markdown",
      "source": [
        "# Evluation on the model"
      ],
      "metadata": {
        "id": "p5W_a2Fn19_N"
      }
    },
    {
      "cell_type": "code",
      "source": [
        "label_to_class = {\n",
        "    0: 'none',\n",
        "    1: 'anger',\n",
        "    2: 'joy',\n",
        "    3: 'sadness',\n",
        "    4: 'love',\n",
        "    5: 'sympathy',\n",
        "    6: 'surprise',\n",
        "    7: 'fear'\n",
        "}\n",
        "classes = ['none', 'anger', 'joy', 'sadness', 'love', 'sympathy', 'surprise', 'fear']"
      ],
      "metadata": {
        "id": "IZmw1PEL2Yrv"
      },
      "execution_count": 29,
      "outputs": []
    },
    {
      "cell_type": "code",
      "source": [
        "import torch\n",
        "import torch.nn as nn\n",
        "import torch.optim as optim\n",
        "import numpy as np\n",
        "import matplotlib.pyplot as plt\n",
        "import seaborn as sns\n",
        "from sklearn.metrics import classification_report, confusion_matrix\n",
        "from sklearn.utils import shuffle\n",
        "\n",
        "# Define the GRUModel class (as shown in the previous response)\n",
        "\n",
        "# Convert NumPy arrays to PyTorch tensors and move them to GPU\n",
        "test_embedd_tensor = torch.tensor(test_embedd, dtype=torch.float32).cuda()\n",
        "\n",
        "# Create a DataLoader for test data\n",
        "test_dataset = torch.utils.data.TensorDataset(test_embedd_tensor)\n",
        "test_loader = torch.utils.data.DataLoader(test_dataset, batch_size=BATCH_SIZE, shuffle=False)\n",
        "\n",
        "# Set the model to evaluation mode\n",
        "model.eval()\n",
        "\n",
        "# Initialize lists to store true labels and predicted labels\n",
        "true_labels = []\n",
        "predicted_labels = []\n",
        "\n",
        "# Make predictions\n",
        "with torch.no_grad():\n",
        "    for inputs in test_loader:\n",
        "        outputs = model(inputs[0])  # Assuming inputs contain a single tensor\n",
        "        _, preds = torch.max(outputs, 1)\n",
        "        predicted_labels.extend(preds.cpu().numpy())\n",
        "\n",
        "# Convert true labels from one-hot to class indices\n",
        "true_labels = y_test_one_hot.argmax(axis=1)\n",
        "\n",
        "# Generate classification report\n",
        "target_names = classes  # Replace 'classes' with your list of class names\n",
        "print(classification_report(true_labels, predicted_labels, target_names=target_names))\n",
        "\n",
        "# Generate confusion matrix\n",
        "cm = confusion_matrix(true_labels, predicted_labels)\n",
        "\n",
        "# Create a heatmap of the confusion matrix using seaborn\n",
        "plt.figure(figsize=(10, 8))\n",
        "sns.set(font_scale=1.2)\n",
        "sns.heatmap(cm, annot=True, fmt='d', cmap='Blues', xticklabels=classes, yticklabels=classes)\n",
        "plt.xlabel('Predicted')\n",
        "plt.ylabel('Actual')\n",
        "plt.title('Confusion Matrix')\n",
        "plt.show()\n"
      ],
      "metadata": {
        "colab": {
          "base_uri": "https://localhost:8080/",
          "height": 1000
        },
        "id": "lcEOecxY2DdK",
        "outputId": "413aedf1-dfe1-41f3-a9a4-5de4347d939f"
      },
      "execution_count": 30,
      "outputs": [
        {
          "output_type": "stream",
          "name": "stdout",
          "text": [
            "              precision    recall  f1-score   support\n",
            "\n",
            "        none       0.68      0.86      0.76       229\n",
            "       anger       0.60      0.85      0.70       200\n",
            "         joy       0.65      0.64      0.65       205\n",
            "     sadness       0.92      0.37      0.53       185\n",
            "        love       0.81      0.75      0.78       193\n",
            "    sympathy       0.90      0.83      0.86       156\n",
            "    surprise       0.68      0.68      0.68       154\n",
            "        fear       0.94      0.92      0.93       188\n",
            "\n",
            "    accuracy                           0.74      1510\n",
            "   macro avg       0.77      0.74      0.74      1510\n",
            "weighted avg       0.77      0.74      0.74      1510\n",
            "\n"
          ]
        },
        {
          "output_type": "display_data",
          "data": {
            "text/plain": [
              "<Figure size 1000x800 with 2 Axes>"
            ],
            "image/png": "[encoded data removed]"
          },
          "metadata": {}
        }
      ]
    },
    {
      "cell_type": "code",
      "source": [],
      "metadata": {
        "id": "ZcICXHZd2R56"
      },
      "execution_count": null,
      "outputs": []
    }
  ]
}