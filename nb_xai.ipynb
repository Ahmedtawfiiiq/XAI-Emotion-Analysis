{
  "metadata": {
    "colab": {
      "provenance": []
    },
    "kernelspec": {
      "name": "python3",
      "display_name": "Python 3",
      "language": "python"
    },
    "language_info": {
      "name": "python",
      "version": "3.10.12",
      "mimetype": "text/x-python",
      "codemirror_mode": {
        "name": "ipython",
        "version": 3
      },
      "pygments_lexer": "ipython3",
      "nbconvert_exporter": "python",
      "file_extension": ".py"
    }
  },
  "nbformat_minor": 0,
  "nbformat": 4,
  "cells": [
    {
      "cell_type": "code",
      "source": [
        "!pip install shap\n",
        "!pip install lime\n",
        "!pip install transformers"
      ],
      "metadata": {
        "id": "kgqxZh6h1GAd",
        "execution": {
          "iopub.status.busy": "2023-08-12T20:24:48.170117Z",
          "iopub.execute_input": "2023-08-12T20:24:48.170613Z",
          "iopub.status.idle": "2023-08-12T20:25:22.992388Z",
          "shell.execute_reply.started": "2023-08-12T20:24:48.170566Z",
          "shell.execute_reply": "2023-08-12T20:25:22.991179Z"
        },
        "trusted": true
      },
      "execution_count": null,
      "outputs": []
    },
    {
      "cell_type": "code",
      "source": [
        "import shap\n",
        "import pickle\n",
        "import numpy as np\n",
        "import pandas as pd\n",
        "from sklearn.naive_bayes import MultinomialNB, GaussianNB, CategoricalNB\n",
        "from sklearn.metrics import accuracy_score\n",
        "from sklearn.linear_model import LogisticRegression\n",
        "from sklearn.model_selection import train_test_split\n",
        "from sklearn.model_selection import GridSearchCV\n",
        "from sklearn.preprocessing import OneHotEncoder, LabelEncoder\n",
        "from sklearn.feature_extraction.text import TfidfVectorizer\n",
        "from sklearn.ensemble import RandomForestClassifier\n",
        "\n",
        "# LIME packages\n",
        "from lime import lime_text\n",
        "from lime.lime_text import LimeTextExplainer\n",
        "from sklearn.pipeline import make_pipeline\n",
        "from lime.lime_text import IndexedString,IndexedCharacters\n",
        "from lime.lime_base import LimeBase\n",
        "from sklearn.linear_model import Ridge, lars_path\n",
        "from lime.lime_text import explanation\n",
        "from functools import partial\n",
        "import scipy as sp\n",
        "from sklearn.utils import check_random_state\n",
        "from sklearn.metrics import classification_report, confusion_matrix\n",
        "\n",
        "from transformers import AutoTokenizer, TFAutoModel\n",
        "import tensorflow as tf\n",
        "from tqdm import tqdm"
      ],
      "metadata": {
        "id": "qf_rYKBH1SrJ",
        "execution": {
          "iopub.status.busy": "2023-08-12T20:28:16.803415Z",
          "iopub.execute_input": "2023-08-12T20:28:16.804436Z",
          "iopub.status.idle": "2023-08-12T20:28:16.815364Z",
          "shell.execute_reply.started": "2023-08-12T20:28:16.804386Z",
          "shell.execute_reply": "2023-08-12T20:28:16.813909Z"
        },
        "trusted": true
      },
      "execution_count": null,
      "outputs": []
    },
    {
      "cell_type": "code",
      "source": [
        "!pip install gdown"
      ],
      "metadata": {
        "id": "cC3GLLPk1VqD",
        "execution": {
          "iopub.status.busy": "2023-08-12T20:28:17.086599Z",
          "iopub.execute_input": "2023-08-12T20:28:17.086961Z",
          "iopub.status.idle": "2023-08-12T20:28:28.734673Z",
          "shell.execute_reply.started": "2023-08-12T20:28:17.086933Z",
          "shell.execute_reply": "2023-08-12T20:28:28.733505Z"
        },
        "trusted": true
      },
      "execution_count": null,
      "outputs": []
    },
    {
      "cell_type": "code",
      "source": [
        "'''\n",
        "https://drive.google.com/file/d/1Fs0PTy_xPsoX5bg4QTCrX6JAaQCHRzis/view?usp=drive_link\n",
        "https://drive.google.com/file/d/1JLa-ELhUskQINi0syf3YJWBX8jcCXdn4/view?usp=drive_link\n",
        "'''"
      ],
      "metadata": {
        "execution": {
          "iopub.status.busy": "2023-08-12T20:28:28.737419Z",
          "iopub.execute_input": "2023-08-12T20:28:28.737810Z",
          "iopub.status.idle": "2023-08-12T20:28:28.744825Z",
          "shell.execute_reply.started": "2023-08-12T20:28:28.737772Z",
          "shell.execute_reply": "2023-08-12T20:28:28.743747Z"
        },
        "trusted": true,
        "id": "VZ7x3F0xXiGE"
      },
      "execution_count": null,
      "outputs": []
    },
    {
      "cell_type": "code",
      "source": [
        "!gdown 1Fs0PTy_xPsoX5bg4QTCrX6JAaQCHRzis\n",
        "!gdown 1JLa-ELhUskQINi0syf3YJWBX8jcCXdn4"
      ],
      "metadata": {
        "execution": {
          "iopub.status.busy": "2023-08-12T20:28:28.746240Z",
          "iopub.execute_input": "2023-08-12T20:28:28.746599Z",
          "iopub.status.idle": "2023-08-12T20:28:34.188286Z",
          "shell.execute_reply.started": "2023-08-12T20:28:28.746566Z",
          "shell.execute_reply": "2023-08-12T20:28:34.186948Z"
        },
        "trusted": true,
        "id": "BEITrhVUXiGF"
      },
      "execution_count": null,
      "outputs": []
    },
    {
      "cell_type": "code",
      "source": [
        "FILE_PATH = \"/kaggle/working/train.pkl\"\n",
        "\n",
        "with open(FILE_PATH, 'rb') as f:\n",
        "    df_train = pickle.load(f)"
      ],
      "metadata": {
        "id": "-xf7q31x1YW3",
        "execution": {
          "iopub.status.busy": "2023-08-12T20:28:34.195461Z",
          "iopub.execute_input": "2023-08-12T20:28:34.197830Z",
          "iopub.status.idle": "2023-08-12T20:28:34.245101Z",
          "shell.execute_reply.started": "2023-08-12T20:28:34.197790Z",
          "shell.execute_reply": "2023-08-12T20:28:34.244163Z"
        },
        "trusted": true
      },
      "execution_count": null,
      "outputs": []
    },
    {
      "cell_type": "code",
      "source": [
        "FILE_PATH = \"/kaggle/working/test.pkl\"\n",
        "\n",
        "with open(FILE_PATH, 'rb') as f:\n",
        "    df_test = pickle.load(f)"
      ],
      "metadata": {
        "id": "byg3PJNQ13tX",
        "execution": {
          "iopub.status.busy": "2023-08-12T20:28:34.246610Z",
          "iopub.execute_input": "2023-08-12T20:28:34.247319Z",
          "iopub.status.idle": "2023-08-12T20:28:34.267716Z",
          "shell.execute_reply.started": "2023-08-12T20:28:34.247284Z",
          "shell.execute_reply": "2023-08-12T20:28:34.266804Z"
        },
        "trusted": true
      },
      "execution_count": null,
      "outputs": []
    },
    {
      "cell_type": "code",
      "source": [
        "df_train.reset_index(drop = True, inplace = True)\n",
        "df_test.reset_index(drop = True, inplace = True)"
      ],
      "metadata": {
        "execution": {
          "iopub.status.busy": "2023-08-12T20:28:34.269166Z",
          "iopub.execute_input": "2023-08-12T20:28:34.269895Z",
          "iopub.status.idle": "2023-08-12T20:28:34.275029Z",
          "shell.execute_reply.started": "2023-08-12T20:28:34.269861Z",
          "shell.execute_reply": "2023-08-12T20:28:34.274023Z"
        },
        "trusted": true,
        "id": "-5lCO05cXiGG"
      },
      "execution_count": null,
      "outputs": []
    },
    {
      "cell_type": "code",
      "source": [
        "df_train.head()"
      ],
      "metadata": {
        "id": "D9BmpiVX1-VC",
        "execution": {
          "iopub.status.busy": "2023-08-12T20:28:34.276443Z",
          "iopub.execute_input": "2023-08-12T20:28:34.276986Z",
          "iopub.status.idle": "2023-08-12T20:28:34.300686Z",
          "shell.execute_reply.started": "2023-08-12T20:28:34.276952Z",
          "shell.execute_reply": "2023-08-12T20:28:34.299644Z"
        },
        "trusted": true
      },
      "execution_count": null,
      "outputs": []
    },
    {
      "cell_type": "code",
      "source": [
        "marbert_model_path = 'UBC-NLP/MARBERT'\n",
        "tokenizer = AutoTokenizer.from_pretrained(marbert_model_path, from_tf=True)\n",
        "marbert_model = TFAutoModel.from_pretrained(marbert_model_path, output_hidden_states=True)"
      ],
      "metadata": {
        "id": "qL_UFV4NG6aw",
        "execution": {
          "iopub.status.busy": "2023-08-12T20:28:34.302343Z",
          "iopub.execute_input": "2023-08-12T20:28:34.303089Z",
          "iopub.status.idle": "2023-08-12T20:28:36.345071Z",
          "shell.execute_reply.started": "2023-08-12T20:28:34.303052Z",
          "shell.execute_reply": "2023-08-12T20:28:36.344084Z"
        },
        "trusted": true
      },
      "execution_count": null,
      "outputs": []
    },
    {
      "cell_type": "code",
      "source": [
        "remove_special_tokens=1  #change this to 0 if you want to keep the special token\n",
        "stemtype = 'Light Stemming'"
      ],
      "metadata": {
        "execution": {
          "iopub.status.busy": "2023-08-12T20:28:36.346462Z",
          "iopub.execute_input": "2023-08-12T20:28:36.346815Z",
          "iopub.status.idle": "2023-08-12T20:28:36.351614Z",
          "shell.execute_reply.started": "2023-08-12T20:28:36.346780Z",
          "shell.execute_reply": "2023-08-12T20:28:36.350653Z"
        },
        "trusted": true,
        "id": "yuO31yTpXiGH"
      },
      "execution_count": null,
      "outputs": []
    },
    {
      "cell_type": "code",
      "source": [
        "def bert_tokenize(text: str) -> dict:\n",
        "  tokens = tokenizer(text, padding='max_length', truncation=True, max_length=50)\n",
        "  if remove_special_tokens == 1:\n",
        "    shape = np.array(tokens['input_ids']).shape\n",
        "    modified_input_ids = np.zeros(shape).astype(np.int32)\n",
        "    modified_attention_mask = np.zeros(shape).astype(np.int32)\n",
        "    # Modify the input IDs and attention mask as per your requirement\n",
        "    for i in range(shape[0]):\n",
        "      modified_input_ids[i] = [0 if token_id == 1 else 0 if token_id == 3 else 0 if token_id == 0 else 0 if token_id == 2 else 0 if token_id == 4 else token_id for token_id in tokens['input_ids'][i]]\n",
        "      modified_attention_mask[i] = [0 if token_id in [1, 3, 0, 2, 4] else 1 for token_id in tokens['input_ids'][i]]\n",
        "    # Update the input IDs and attention mask in the tokens dictionary\n",
        "    tokens['input_ids'] = modified_input_ids\n",
        "    tokens['attention_mask'] = modified_attention_mask\n",
        "  return tokens"
      ],
      "metadata": {
        "id": "NuzA6W-nG_P9",
        "execution": {
          "iopub.status.busy": "2023-08-12T20:28:36.355827Z",
          "iopub.execute_input": "2023-08-12T20:28:36.356414Z",
          "iopub.status.idle": "2023-08-12T20:28:36.370151Z",
          "shell.execute_reply.started": "2023-08-12T20:28:36.356381Z",
          "shell.execute_reply": "2023-08-12T20:28:36.369189Z"
        },
        "trusted": true
      },
      "execution_count": null,
      "outputs": []
    },
    {
      "cell_type": "code",
      "source": [
        "def get_embeddings(ids, mask, type_ids):\n",
        "  ids = tf.convert_to_tensor(ids)\n",
        "  #print(ids.shape)\n",
        "  mask = tf.convert_to_tensor(mask)\n",
        "  #print(mask.shape)\n",
        "  #print(mask)\n",
        "  type_ids = tf.convert_to_tensor(type_ids)\n",
        "  #print(type_ids.shape)\n",
        "  hidden_states = marbert_model(input_ids=ids, attention_mask=mask, token_type_ids=type_ids)[0]\n",
        "  averaged_embedding = tf.reduce_mean(hidden_states, axis=1)\n",
        "  return averaged_embedding.numpy()"
      ],
      "metadata": {
        "id": "x9icYSzAHDJc",
        "execution": {
          "iopub.status.busy": "2023-08-12T20:28:36.372799Z",
          "iopub.execute_input": "2023-08-12T20:28:36.373083Z",
          "iopub.status.idle": "2023-08-12T20:28:36.382251Z",
          "shell.execute_reply.started": "2023-08-12T20:28:36.373058Z",
          "shell.execute_reply": "2023-08-12T20:28:36.381209Z"
        },
        "trusted": true
      },
      "execution_count": null,
      "outputs": []
    },
    {
      "cell_type": "code",
      "source": [
        "label_to_class = [\n",
        "    'none',\n",
        "    'anger',\n",
        "    'joy',\n",
        "    'sadness',\n",
        "    'love',\n",
        "    'sympathy',\n",
        "    'surprise',\n",
        "    'fear'\n",
        "]"
      ],
      "metadata": {
        "execution": {
          "iopub.status.busy": "2023-08-12T20:28:36.384941Z",
          "iopub.execute_input": "2023-08-12T20:28:36.386187Z",
          "iopub.status.idle": "2023-08-12T20:28:36.393170Z",
          "shell.execute_reply.started": "2023-08-12T20:28:36.386152Z",
          "shell.execute_reply": "2023-08-12T20:28:36.392196Z"
        },
        "trusted": true,
        "id": "AxxRTYXbXiGI"
      },
      "execution_count": null,
      "outputs": []
    },
    {
      "cell_type": "code",
      "source": [
        "x_train = df_train[stemtype].values.astype(str).tolist()\n",
        "x_train = bert_tokenize(x_train)\n",
        "\n",
        "#x_train = get_embeddings(x_train)\n",
        "#emb = emb.reshape(1, -1)\n",
        "xlen = np.array(x_train['input_ids']).shape[0]"
      ],
      "metadata": {
        "id": "J8z_R2fhoYZz",
        "execution": {
          "iopub.status.busy": "2023-08-12T20:28:36.394225Z",
          "iopub.execute_input": "2023-08-12T20:28:36.394519Z",
          "iopub.status.idle": "2023-08-12T20:28:37.603368Z",
          "shell.execute_reply.started": "2023-08-12T20:28:36.394487Z",
          "shell.execute_reply": "2023-08-12T20:28:37.602326Z"
        },
        "trusted": true
      },
      "execution_count": null,
      "outputs": []
    },
    {
      "cell_type": "code",
      "source": [
        "xlen"
      ],
      "metadata": {
        "execution": {
          "iopub.status.busy": "2023-08-12T20:28:37.604754Z",
          "iopub.execute_input": "2023-08-12T20:28:37.605201Z",
          "iopub.status.idle": "2023-08-12T20:28:37.612926Z",
          "shell.execute_reply.started": "2023-08-12T20:28:37.605167Z",
          "shell.execute_reply": "2023-08-12T20:28:37.611786Z"
        },
        "trusted": true,
        "id": "Mr6LpOtUXiGJ"
      },
      "execution_count": null,
      "outputs": []
    },
    {
      "cell_type": "code",
      "source": [
        "x_train_emb = np.zeros((xlen,768))\n",
        "for i in range(0,xlen,100):\n",
        "    if(i+100 < xlen):\n",
        "        input_ids = x_train['input_ids'][i:i+100]\n",
        "        attention_mask = x_train['attention_mask'][i:i+100]\n",
        "        token_type_ids = x_train['token_type_ids'][i:i+100]\n",
        "        x_train_emb[i:i+100] = get_embeddings(input_ids,attention_mask,token_type_ids)\n",
        "    else:\n",
        "        input_ids = x_train['input_ids'][i:xlen]\n",
        "        attention_mask = x_train['attention_mask'][i:xlen]\n",
        "        token_type_ids = x_train['token_type_ids'][i:xlen]\n",
        "        x_train_emb[i:xlen] = get_embeddings(input_ids,attention_mask,token_type_ids)"
      ],
      "metadata": {
        "execution": {
          "iopub.status.busy": "2023-08-12T20:28:37.614666Z",
          "iopub.execute_input": "2023-08-12T20:28:37.615188Z",
          "iopub.status.idle": "2023-08-12T20:28:53.438074Z",
          "shell.execute_reply.started": "2023-08-12T20:28:37.615155Z",
          "shell.execute_reply": "2023-08-12T20:28:53.437095Z"
        },
        "trusted": true,
        "id": "ygxv7Um2XiGJ"
      },
      "execution_count": null,
      "outputs": []
    },
    {
      "cell_type": "code",
      "source": [
        "x_train_emb.shape"
      ],
      "metadata": {
        "execution": {
          "iopub.status.busy": "2023-08-12T20:28:53.439688Z",
          "iopub.execute_input": "2023-08-12T20:28:53.440035Z",
          "iopub.status.idle": "2023-08-12T20:28:53.447098Z",
          "shell.execute_reply.started": "2023-08-12T20:28:53.440001Z",
          "shell.execute_reply": "2023-08-12T20:28:53.446145Z"
        },
        "trusted": true,
        "id": "8FjSf1UmXiGK"
      },
      "execution_count": null,
      "outputs": []
    },
    {
      "cell_type": "code",
      "source": [
        "x_test = df_test[stemtype].values.astype(str).tolist()\n",
        "x_test = bert_tokenize(x_test)\n",
        "\n",
        "#x_train = get_embeddings(x_train)\n",
        "#emb = emb.reshape(1, -1)\n",
        "xlen = np.array(x_test['input_ids']).shape[0]"
      ],
      "metadata": {
        "execution": {
          "iopub.status.busy": "2023-08-12T20:28:53.448667Z",
          "iopub.execute_input": "2023-08-12T20:28:53.449564Z",
          "iopub.status.idle": "2023-08-12T20:28:53.674884Z",
          "shell.execute_reply.started": "2023-08-12T20:28:53.449531Z",
          "shell.execute_reply": "2023-08-12T20:28:53.673785Z"
        },
        "trusted": true,
        "id": "vBqaDadIXiGK"
      },
      "execution_count": null,
      "outputs": []
    },
    {
      "cell_type": "code",
      "source": [
        "xlen"
      ],
      "metadata": {
        "execution": {
          "iopub.status.busy": "2023-08-12T20:28:53.676627Z",
          "iopub.execute_input": "2023-08-12T20:28:53.677035Z",
          "iopub.status.idle": "2023-08-12T20:28:53.685520Z",
          "shell.execute_reply.started": "2023-08-12T20:28:53.676998Z",
          "shell.execute_reply": "2023-08-12T20:28:53.684394Z"
        },
        "trusted": true,
        "id": "vghYc-HfXiGK"
      },
      "execution_count": null,
      "outputs": []
    },
    {
      "cell_type": "code",
      "source": [
        "x_test_emb = np.zeros((xlen,768))\n",
        "for i in range(0,xlen,100):\n",
        "    if(i+100 < xlen):\n",
        "        input_ids = x_test['input_ids'][i:i+100]\n",
        "        attention_mask = x_test['attention_mask'][i:i+100]\n",
        "        token_type_ids = x_test['token_type_ids'][i:i+100]\n",
        "        x_test_emb[i:i+100] = get_embeddings(input_ids,attention_mask,token_type_ids)\n",
        "    else:\n",
        "        input_ids = x_test['input_ids'][i:xlen]\n",
        "        attention_mask = x_test['attention_mask'][i:xlen]\n",
        "        token_type_ids = x_test['token_type_ids'][i:xlen]\n",
        "        x_test_emb[i:xlen] = get_embeddings(input_ids,attention_mask,token_type_ids)"
      ],
      "metadata": {
        "execution": {
          "iopub.status.busy": "2023-08-12T20:28:53.687812Z",
          "iopub.execute_input": "2023-08-12T20:28:53.688207Z",
          "iopub.status.idle": "2023-08-12T20:28:57.761482Z",
          "shell.execute_reply.started": "2023-08-12T20:28:53.688170Z",
          "shell.execute_reply": "2023-08-12T20:28:57.760408Z"
        },
        "trusted": true,
        "id": "MDKm3SrWXiGK"
      },
      "execution_count": null,
      "outputs": []
    },
    {
      "cell_type": "code",
      "source": [
        "x_test_emb.shape"
      ],
      "metadata": {
        "execution": {
          "iopub.status.busy": "2023-08-12T20:28:57.762964Z",
          "iopub.execute_input": "2023-08-12T20:28:57.763353Z",
          "iopub.status.idle": "2023-08-12T20:28:57.770533Z",
          "shell.execute_reply.started": "2023-08-12T20:28:57.763299Z",
          "shell.execute_reply": "2023-08-12T20:28:57.769524Z"
        },
        "trusted": true,
        "id": "X8R4gEfFXiGL"
      },
      "execution_count": null,
      "outputs": []
    },
    {
      "cell_type": "markdown",
      "source": [
        "## Naive Bayes Model"
      ],
      "metadata": {
        "id": "ErMdprRoEsTB"
      }
    },
    {
      "cell_type": "code",
      "source": [
        "# use Tfidf Vectorizer root stemming\n",
        "tfidf_vectorizer_rs = TfidfVectorizer()\n",
        "# fit and transform the training data\n",
        "X_train_tfidf_rs = tfidf_vectorizer_rs.fit_transform(df_train['Root Stemming'])\n",
        "# transform the test data using the same vectorizer\n",
        "X_test_tfidf_rs = tfidf_vectorizer_rs.transform(df_test['Root Stemming'])\n",
        "\n",
        "# use Tfidf Vectorizer light stemming\n",
        "tfidf_vectorizer_ls = TfidfVectorizer()\n",
        "# fit and transform the training data\n",
        "X_train_tfidf_ls = tfidf_vectorizer_ls.fit_transform(df_train['Light Stemming'])\n",
        "# transform the test data using the same vectorizer\n",
        "X_test_tfidf_ls = tfidf_vectorizer_ls.transform(df_test['Light Stemming'])"
      ],
      "metadata": {
        "execution": {
          "iopub.status.busy": "2023-08-12T20:28:57.776904Z",
          "iopub.execute_input": "2023-08-12T20:28:57.777744Z",
          "iopub.status.idle": "2023-08-12T20:28:58.252471Z",
          "shell.execute_reply.started": "2023-08-12T20:28:57.777708Z",
          "shell.execute_reply": "2023-08-12T20:28:58.251463Z"
        },
        "trusted": true,
        "id": "NeHel36vXiGN"
      },
      "execution_count": null,
      "outputs": []
    },
    {
      "cell_type": "markdown",
      "source": [
        "### Using CategoricalNB"
      ],
      "metadata": {
        "id": "ILGYNLGGXiGN"
      }
    },
    {
      "cell_type": "code",
      "source": [
        "nb_vec = CategoricalNB()\n",
        "nb_vec.fit(X_train_tfidf_rs.toarray(), df_train['label'])\n",
        "\n",
        "# train accuracy of tf-idf vectorizer\n",
        "y_pred = nb_vec.predict(X_train_tfidf_rs.toarray())\n",
        "# calculating the accuracy of the classifier\n",
        "accuracy = accuracy_score(df_train['label'], y_pred)\n",
        "print(\"Accuracy:\", accuracy)"
      ],
      "metadata": {
        "execution": {
          "iopub.status.busy": "2023-08-12T20:28:58.253890Z",
          "iopub.execute_input": "2023-08-12T20:28:58.254271Z",
          "iopub.status.idle": "2023-08-12T20:29:07.879373Z",
          "shell.execute_reply.started": "2023-08-12T20:28:58.254234Z",
          "shell.execute_reply": "2023-08-12T20:29:07.878377Z"
        },
        "trusted": true,
        "id": "n0Hk22ZEXiGO"
      },
      "execution_count": null,
      "outputs": []
    },
    {
      "cell_type": "code",
      "source": [
        "nb_vec = CategoricalNB()\n",
        "nb_vec.fit(X_train_tfidf_ls.toarray(), df_train['label'])\n",
        "\n",
        "# train accuracy of tf-idf vectorizer\n",
        "y_pred = nb_vec.predict(X_train_tfidf_ls.toarray())\n",
        "# calculating the accuracy of the classifier\n",
        "accuracy = accuracy_score(df_train['label'], y_pred)\n",
        "print(\"Accuracy:\", accuracy)"
      ],
      "metadata": {
        "execution": {
          "iopub.status.busy": "2023-08-12T20:29:07.881011Z",
          "iopub.execute_input": "2023-08-12T20:29:07.881409Z",
          "iopub.status.idle": "2023-08-12T20:29:36.832540Z",
          "shell.execute_reply.started": "2023-08-12T20:29:07.881372Z",
          "shell.execute_reply": "2023-08-12T20:29:36.830724Z"
        },
        "trusted": true,
        "id": "GEIP_e9sXiGO"
      },
      "execution_count": null,
      "outputs": []
    },
    {
      "cell_type": "markdown",
      "source": [
        "### Using GaussianNB"
      ],
      "metadata": {
        "id": "vdRkA9zJXiGP"
      }
    },
    {
      "cell_type": "code",
      "source": [
        "nb_vec = GaussianNB()\n",
        "nb_vec.fit(X_train_tfidf_rs.toarray(), df_train['label'])\n",
        "\n",
        "# test accuracy of tf-idf vectorizer\n",
        "y_pred = nb_vec.predict(X_test_tfidf_rs.toarray())\n",
        "# calculating the accuracy of the classifier\n",
        "accuracy = accuracy_score(df_test['label'], y_pred)\n",
        "print(\"Accuracy:\", accuracy)"
      ],
      "metadata": {
        "execution": {
          "iopub.status.busy": "2023-08-12T20:29:36.833840Z",
          "iopub.execute_input": "2023-08-12T20:29:36.834198Z",
          "iopub.status.idle": "2023-08-12T20:29:38.944057Z",
          "shell.execute_reply.started": "2023-08-12T20:29:36.834164Z",
          "shell.execute_reply": "2023-08-12T20:29:38.942946Z"
        },
        "trusted": true,
        "id": "GZYBwYL8XiGP"
      },
      "execution_count": null,
      "outputs": []
    },
    {
      "cell_type": "code",
      "source": [
        "print(classification_report(df_test['label'], y_pred, target_names = label_to_class))"
      ],
      "metadata": {
        "execution": {
          "iopub.status.busy": "2023-08-12T20:29:38.945464Z",
          "iopub.execute_input": "2023-08-12T20:29:38.946057Z",
          "iopub.status.idle": "2023-08-12T20:29:38.965822Z",
          "shell.execute_reply.started": "2023-08-12T20:29:38.946021Z",
          "shell.execute_reply": "2023-08-12T20:29:38.964950Z"
        },
        "trusted": true,
        "id": "2Ty80rHEXiGP"
      },
      "execution_count": null,
      "outputs": []
    },
    {
      "cell_type": "code",
      "source": [
        "# creatin a confusion matrix\n",
        "confusion_matrix(df_test['label'], y_pred)"
      ],
      "metadata": {
        "execution": {
          "iopub.status.busy": "2023-08-12T20:29:38.967224Z",
          "iopub.execute_input": "2023-08-12T20:29:38.967568Z",
          "iopub.status.idle": "2023-08-12T20:29:38.977886Z",
          "shell.execute_reply.started": "2023-08-12T20:29:38.967536Z",
          "shell.execute_reply": "2023-08-12T20:29:38.976871Z"
        },
        "trusted": true,
        "id": "f4VZnhcMXiGQ"
      },
      "execution_count": null,
      "outputs": []
    },
    {
      "cell_type": "code",
      "source": [
        "nb_vec = GaussianNB()\n",
        "nb_vec.fit(X_train_tfidf_ls.toarray(), df_train['label'])\n",
        "\n",
        "# test accuracy of tf-idf vectorizer\n",
        "y_pred = nb_vec.predict(X_test_tfidf_ls.toarray())\n",
        "# calculating the accuracy of the classifier\n",
        "accuracy = accuracy_score(df_test['label'], y_pred)\n",
        "print(\"Accuracy:\", accuracy)"
      ],
      "metadata": {
        "execution": {
          "iopub.status.busy": "2023-08-12T20:29:38.979311Z",
          "iopub.execute_input": "2023-08-12T20:29:38.980063Z",
          "iopub.status.idle": "2023-08-12T20:29:44.755291Z",
          "shell.execute_reply.started": "2023-08-12T20:29:38.980019Z",
          "shell.execute_reply": "2023-08-12T20:29:44.754263Z"
        },
        "trusted": true,
        "id": "jYjP69AjXiGQ"
      },
      "execution_count": null,
      "outputs": []
    },
    {
      "cell_type": "code",
      "source": [
        "print(classification_report(df_test['label'], y_pred, target_names = label_to_class))"
      ],
      "metadata": {
        "execution": {
          "iopub.status.busy": "2023-08-12T20:29:44.756825Z",
          "iopub.execute_input": "2023-08-12T20:29:44.757461Z",
          "iopub.status.idle": "2023-08-12T20:29:44.775730Z",
          "shell.execute_reply.started": "2023-08-12T20:29:44.757424Z",
          "shell.execute_reply": "2023-08-12T20:29:44.774552Z"
        },
        "trusted": true,
        "id": "IzyWAf5-XiGR"
      },
      "execution_count": null,
      "outputs": []
    },
    {
      "cell_type": "code",
      "source": [
        "# creatin a confusion matrix\n",
        "confusion_matrix(df_test['label'], y_pred)"
      ],
      "metadata": {
        "execution": {
          "iopub.status.busy": "2023-08-12T20:29:44.777492Z",
          "iopub.execute_input": "2023-08-12T20:29:44.777848Z",
          "iopub.status.idle": "2023-08-12T20:29:44.790938Z",
          "shell.execute_reply.started": "2023-08-12T20:29:44.777815Z",
          "shell.execute_reply": "2023-08-12T20:29:44.789982Z"
        },
        "trusted": true,
        "id": "fbCJJbEtXiGR"
      },
      "execution_count": null,
      "outputs": []
    },
    {
      "cell_type": "markdown",
      "source": [
        "### Using Light Stemming Embeddings"
      ],
      "metadata": {
        "id": "HY4p9yNlXiGS"
      }
    },
    {
      "cell_type": "code",
      "source": [
        "nb_ls = GaussianNB()\n",
        "nb_ls.fit(x_train_emb, df_train['label'])\n",
        "\n",
        "# test accuracy of light stemming embeddings\n",
        "y_pred = nb_ls.predict(x_test_emb)\n",
        "# calculating the accuracy of the classifier\n",
        "accuracy = accuracy_score(df_test['label'], y_pred)\n",
        "print(\"Accuracy:\", accuracy)"
      ],
      "metadata": {
        "execution": {
          "iopub.status.busy": "2023-08-12T20:29:44.792461Z",
          "iopub.execute_input": "2023-08-12T20:29:44.792944Z",
          "iopub.status.idle": "2023-08-12T20:29:44.914437Z",
          "shell.execute_reply.started": "2023-08-12T20:29:44.792906Z",
          "shell.execute_reply": "2023-08-12T20:29:44.913410Z"
        },
        "trusted": true,
        "id": "hnmjooeoXiGS"
      },
      "execution_count": null,
      "outputs": []
    },
    {
      "cell_type": "code",
      "source": [
        "print(classification_report(df_test['label'], y_pred, target_names = label_to_class))"
      ],
      "metadata": {
        "execution": {
          "iopub.status.busy": "2023-08-12T20:29:44.915707Z",
          "iopub.execute_input": "2023-08-12T20:29:44.916007Z",
          "iopub.status.idle": "2023-08-12T20:29:44.935548Z",
          "shell.execute_reply.started": "2023-08-12T20:29:44.915979Z",
          "shell.execute_reply": "2023-08-12T20:29:44.934611Z"
        },
        "trusted": true,
        "id": "nSENNsWIXiGS"
      },
      "execution_count": null,
      "outputs": []
    },
    {
      "cell_type": "code",
      "source": [
        "# creatin a confusion matrix\n",
        "confusion_matrix(df_test['label'], y_pred)"
      ],
      "metadata": {
        "execution": {
          "iopub.status.busy": "2023-08-12T20:29:44.937133Z",
          "iopub.execute_input": "2023-08-12T20:29:44.937516Z",
          "iopub.status.idle": "2023-08-12T20:29:44.947749Z",
          "shell.execute_reply.started": "2023-08-12T20:29:44.937482Z",
          "shell.execute_reply": "2023-08-12T20:29:44.946598Z"
        },
        "trusted": true,
        "id": "MhHBjddxXiGS"
      },
      "execution_count": null,
      "outputs": []
    },
    {
      "cell_type": "markdown",
      "source": [
        "### Random Forest"
      ],
      "metadata": {
        "id": "HuTQ1Is8XiGT"
      }
    },
    {
      "cell_type": "code",
      "source": [
        "rf_vec = RandomForestClassifier()\n",
        "rf_vec.fit(X_train_tfidf_rs, df_train['label'])\n",
        "\n",
        "# test accuracy of tf-idf vectorizer\n",
        "y_pred = rf_vec.predict(X_test_tfidf_rs)\n",
        "# calculating the accuracy of the classifier\n",
        "accuracy = accuracy_score(df_test['label'], y_pred)\n",
        "print(\"Accuracy:\", accuracy)"
      ],
      "metadata": {
        "execution": {
          "iopub.status.busy": "2023-08-12T20:29:44.949737Z",
          "iopub.execute_input": "2023-08-12T20:29:44.950150Z",
          "iopub.status.idle": "2023-08-12T20:29:57.077108Z",
          "shell.execute_reply.started": "2023-08-12T20:29:44.950111Z",
          "shell.execute_reply": "2023-08-12T20:29:57.076167Z"
        },
        "trusted": true,
        "id": "d9JwYahJXiGT"
      },
      "execution_count": null,
      "outputs": []
    },
    {
      "cell_type": "code",
      "source": [
        "print(classification_report(df_test['label'], y_pred, target_names = label_to_class))"
      ],
      "metadata": {
        "execution": {
          "iopub.status.busy": "2023-08-12T20:29:57.081492Z",
          "iopub.execute_input": "2023-08-12T20:29:57.083937Z",
          "iopub.status.idle": "2023-08-12T20:29:57.109587Z",
          "shell.execute_reply.started": "2023-08-12T20:29:57.083901Z",
          "shell.execute_reply": "2023-08-12T20:29:57.108615Z"
        },
        "trusted": true,
        "id": "E9pJt0miXiGU"
      },
      "execution_count": null,
      "outputs": []
    },
    {
      "cell_type": "code",
      "source": [
        "# creatin a confusion matrix\n",
        "confusion_matrix(df_test['label'], y_pred)"
      ],
      "metadata": {
        "execution": {
          "iopub.status.busy": "2023-08-12T20:29:57.113837Z",
          "iopub.execute_input": "2023-08-12T20:29:57.116108Z",
          "iopub.status.idle": "2023-08-12T20:29:57.129779Z",
          "shell.execute_reply.started": "2023-08-12T20:29:57.116073Z",
          "shell.execute_reply": "2023-08-12T20:29:57.128759Z"
        },
        "trusted": true,
        "id": "9p-K_X4xXiGU"
      },
      "execution_count": null,
      "outputs": []
    },
    {
      "cell_type": "code",
      "source": [
        "rf_vec = RandomForestClassifier()\n",
        "rf_vec.fit(X_train_tfidf_ls, df_train['label'])\n",
        "\n",
        "# test accuracy of tf-idf vectorizer\n",
        "y_pred = rf_vec.predict(X_test_tfidf_ls)\n",
        "# calculating the accuracy of the classifier\n",
        "accuracy = accuracy_score(df_test['label'], y_pred)\n",
        "print(\"Accuracy:\", accuracy)"
      ],
      "metadata": {
        "execution": {
          "iopub.status.busy": "2023-08-12T20:29:57.134078Z",
          "iopub.execute_input": "2023-08-12T20:29:57.136391Z",
          "iopub.status.idle": "2023-08-12T20:30:14.682468Z",
          "shell.execute_reply.started": "2023-08-12T20:29:57.136355Z",
          "shell.execute_reply": "2023-08-12T20:30:14.681408Z"
        },
        "trusted": true,
        "id": "AjeFRFg8XiGV"
      },
      "execution_count": null,
      "outputs": []
    },
    {
      "cell_type": "code",
      "source": [
        "print(classification_report(df_test['label'], y_pred, target_names = label_to_class))"
      ],
      "metadata": {
        "execution": {
          "iopub.status.busy": "2023-08-12T20:30:14.683861Z",
          "iopub.execute_input": "2023-08-12T20:30:14.685594Z",
          "iopub.status.idle": "2023-08-12T20:30:14.703787Z",
          "shell.execute_reply.started": "2023-08-12T20:30:14.685557Z",
          "shell.execute_reply": "2023-08-12T20:30:14.702922Z"
        },
        "trusted": true,
        "id": "QnciNCZDXiGV"
      },
      "execution_count": null,
      "outputs": []
    },
    {
      "cell_type": "code",
      "source": [
        "# creatin a confusion matrix\n",
        "confusion_matrix(df_test['label'], y_pred)"
      ],
      "metadata": {
        "execution": {
          "iopub.status.busy": "2023-08-12T20:30:14.705031Z",
          "iopub.execute_input": "2023-08-12T20:30:14.705396Z",
          "iopub.status.idle": "2023-08-12T20:30:14.714701Z",
          "shell.execute_reply.started": "2023-08-12T20:30:14.705361Z",
          "shell.execute_reply": "2023-08-12T20:30:14.713629Z"
        },
        "trusted": true,
        "id": "3ysyF7ZJXiGW"
      },
      "execution_count": null,
      "outputs": []
    },
    {
      "cell_type": "code",
      "source": [
        "rf_ls = RandomForestClassifier()\n",
        "rf_ls.fit(x_train_emb, df_train['label'])\n",
        "\n",
        "# test accuracy of light stemming embeddings\n",
        "y_pred = rf_ls.predict(x_test_emb)\n",
        "# calculating the accuracy of the classifier\n",
        "accuracy = accuracy_score(df_test['label'], y_pred)\n",
        "print(\"Accuracy:\", accuracy)"
      ],
      "metadata": {
        "execution": {
          "iopub.status.busy": "2023-08-12T20:30:14.721103Z",
          "iopub.execute_input": "2023-08-12T20:30:14.721392Z",
          "iopub.status.idle": "2023-08-12T20:30:35.312632Z",
          "shell.execute_reply.started": "2023-08-12T20:30:14.721364Z",
          "shell.execute_reply": "2023-08-12T20:30:35.311608Z"
        },
        "trusted": true,
        "id": "btJj9eSNXiGW"
      },
      "execution_count": null,
      "outputs": []
    },
    {
      "cell_type": "code",
      "source": [
        "print(classification_report(df_test['label'], y_pred, target_names = label_to_class))"
      ],
      "metadata": {
        "execution": {
          "iopub.status.busy": "2023-08-12T20:30:35.314100Z",
          "iopub.execute_input": "2023-08-12T20:30:35.314712Z",
          "iopub.status.idle": "2023-08-12T20:30:35.332845Z",
          "shell.execute_reply.started": "2023-08-12T20:30:35.314676Z",
          "shell.execute_reply": "2023-08-12T20:30:35.331804Z"
        },
        "trusted": true,
        "id": "eOZw21e2XiGX"
      },
      "execution_count": null,
      "outputs": []
    },
    {
      "cell_type": "code",
      "source": [
        "# creatin a confusion matrix\n",
        "confusion_matrix(df_test['label'], y_pred)"
      ],
      "metadata": {
        "execution": {
          "iopub.status.busy": "2023-08-12T20:30:35.334350Z",
          "iopub.execute_input": "2023-08-12T20:30:35.334695Z",
          "iopub.status.idle": "2023-08-12T20:30:35.344265Z",
          "shell.execute_reply.started": "2023-08-12T20:30:35.334661Z",
          "shell.execute_reply": "2023-08-12T20:30:35.343310Z"
        },
        "trusted": true,
        "id": "F7uHSuvWXiGX"
      },
      "execution_count": null,
      "outputs": []
    },
    {
      "cell_type": "markdown",
      "source": [
        "## Using MultinomialNB"
      ],
      "metadata": {
        "id": "3Id7kP-RXiGY"
      }
    },
    {
      "cell_type": "code",
      "source": [
        "nb_vec = MultinomialNB(force_alpha=True, alpha=0.1, fit_prior=True)\n",
        "nb_vec.fit(X_train_tfidf_rs, df_train['label'])\n",
        "\n",
        "# test accuracy of tf-idf vectorizer\n",
        "y_pred = nb_vec.predict(X_test_tfidf_rs.toarray())\n",
        "# calculating the accuracy of the classifier\n",
        "accuracy = accuracy_score(df_test['label'], y_pred)\n",
        "print(\"Accuracy:\", accuracy)"
      ],
      "metadata": {
        "execution": {
          "iopub.status.busy": "2023-08-12T20:30:35.345707Z",
          "iopub.execute_input": "2023-08-12T20:30:35.346394Z",
          "iopub.status.idle": "2023-08-12T20:30:35.493470Z",
          "shell.execute_reply.started": "2023-08-12T20:30:35.346356Z",
          "shell.execute_reply": "2023-08-12T20:30:35.492475Z"
        },
        "trusted": true,
        "id": "LuWyLZEAXiGY"
      },
      "execution_count": null,
      "outputs": []
    },
    {
      "cell_type": "code",
      "source": [
        "print(classification_report(df_test['label'], y_pred, target_names = label_to_class))"
      ],
      "metadata": {
        "execution": {
          "iopub.status.busy": "2023-08-12T20:30:35.494791Z",
          "iopub.execute_input": "2023-08-12T20:30:35.495734Z",
          "iopub.status.idle": "2023-08-12T20:30:35.529094Z",
          "shell.execute_reply.started": "2023-08-12T20:30:35.495697Z",
          "shell.execute_reply": "2023-08-12T20:30:35.528048Z"
        },
        "trusted": true,
        "id": "2tvNpByxXiGZ"
      },
      "execution_count": null,
      "outputs": []
    },
    {
      "cell_type": "code",
      "source": [
        "# creatin a confusion matrix\n",
        "confusion_matrix(df_test['label'], y_pred)"
      ],
      "metadata": {
        "execution": {
          "iopub.status.busy": "2023-08-12T20:30:35.530417Z",
          "iopub.execute_input": "2023-08-12T20:30:35.531010Z",
          "iopub.status.idle": "2023-08-12T20:30:35.541462Z",
          "shell.execute_reply.started": "2023-08-12T20:30:35.530974Z",
          "shell.execute_reply": "2023-08-12T20:30:35.540276Z"
        },
        "trusted": true,
        "id": "hN2Bccz6XiGZ"
      },
      "execution_count": null,
      "outputs": []
    },
    {
      "cell_type": "code",
      "source": [
        "nb_vec = MultinomialNB(force_alpha=True, alpha=0.1, fit_prior=True)\n",
        "nb_vec.fit(X_train_tfidf_ls, df_train['label'])\n",
        "\n",
        "# test accuracy of tf-idf vectorizer\n",
        "y_pred = nb_vec.predict(X_test_tfidf_ls.toarray())\n",
        "# calculating the accuracy of the classifier\n",
        "accuracy = accuracy_score(df_test['label'], y_pred)\n",
        "print(\"Accuracy:\", accuracy)"
      ],
      "metadata": {
        "execution": {
          "iopub.status.busy": "2023-08-12T20:30:35.543074Z",
          "iopub.execute_input": "2023-08-12T20:30:35.543936Z",
          "iopub.status.idle": "2023-08-12T20:30:35.862304Z",
          "shell.execute_reply.started": "2023-08-12T20:30:35.543903Z",
          "shell.execute_reply": "2023-08-12T20:30:35.860205Z"
        },
        "trusted": true,
        "id": "N-2ok1mEXiGa"
      },
      "execution_count": null,
      "outputs": []
    },
    {
      "cell_type": "code",
      "source": [
        "print(classification_report(df_test['label'], y_pred, target_names = label_to_class))"
      ],
      "metadata": {
        "execution": {
          "iopub.status.busy": "2023-08-12T20:30:35.863691Z",
          "iopub.execute_input": "2023-08-12T20:30:35.864025Z",
          "iopub.status.idle": "2023-08-12T20:30:35.889281Z",
          "shell.execute_reply.started": "2023-08-12T20:30:35.863991Z",
          "shell.execute_reply": "2023-08-12T20:30:35.888212Z"
        },
        "trusted": true,
        "id": "TRX4xYlyXiGa"
      },
      "execution_count": null,
      "outputs": []
    },
    {
      "cell_type": "code",
      "source": [
        "# creatin a confusion matrix\n",
        "confusion_matrix(df_test['label'], y_pred)"
      ],
      "metadata": {
        "execution": {
          "iopub.status.busy": "2023-08-12T19:38:15.927141Z",
          "iopub.execute_input": "2023-08-12T19:38:15.927514Z",
          "iopub.status.idle": "2023-08-12T19:38:15.938131Z",
          "shell.execute_reply.started": "2023-08-12T19:38:15.927483Z",
          "shell.execute_reply": "2023-08-12T19:38:15.936977Z"
        },
        "trusted": true,
        "id": "RZ6-IUNQXiGa"
      },
      "execution_count": null,
      "outputs": []
    },
    {
      "cell_type": "markdown",
      "source": [
        "## LIME"
      ],
      "metadata": {
        "id": "-fMzkWr2J9CC"
      }
    },
    {
      "cell_type": "code",
      "source": [
        "def model_predict(text):\n",
        "    vec = tfidf_vectorizer_ls.transform(text)\n",
        "    return nb_vec.predict_proba(vec)"
      ],
      "metadata": {
        "id": "HMvEfJVtI7VO",
        "execution": {
          "iopub.status.busy": "2023-08-12T20:33:01.197049Z",
          "iopub.execute_input": "2023-08-12T20:33:01.197471Z",
          "iopub.status.idle": "2023-08-12T20:33:01.203311Z",
          "shell.execute_reply.started": "2023-08-12T20:33:01.197436Z",
          "shell.execute_reply": "2023-08-12T20:33:01.202184Z"
        },
        "trusted": true
      },
      "execution_count": null,
      "outputs": []
    },
    {
      "cell_type": "markdown",
      "source": [
        "## SHAP"
      ],
      "metadata": {
        "id": "MQ5FCpgfKVdk"
      }
    },
    {
      "cell_type": "code",
      "source": [
        "def shap_model_predict(text):\n",
        "  text = text.astype(str).tolist()\n",
        "  tokens = bert_tokenize(text)\n",
        "  xlen = np.array(tokens['input_ids']).shape[0]\n",
        "  x_emb = np.zeros((xlen,768))\n",
        "  for i in range(0,xlen,100):\n",
        "    if(i+100 < xlen):\n",
        "        input_ids = tokens['input_ids'][i:i+100]\n",
        "        attention_mask = tokens['attention_mask'][i:i+100]\n",
        "        token_type_ids = tokens['token_type_ids'][i:i+100]\n",
        "        x_emb[i:i+100] = get_embeddings(input_ids,attention_mask,token_type_ids)\n",
        "    else:\n",
        "        input_ids = tokens['input_ids'][i:xlen]\n",
        "        attention_mask = tokens['attention_mask'][i:xlen]\n",
        "        token_type_ids = tokens['token_type_ids'][i:xlen]\n",
        "        x_emb[i:xlen] = get_embeddings(input_ids,attention_mask,token_type_ids)\n",
        "  return nb_ls.predict_proba(x_emb)"
      ],
      "metadata": {
        "execution": {
          "iopub.status.busy": "2023-08-12T19:05:48.372893Z",
          "iopub.execute_input": "2023-08-12T19:05:48.373317Z",
          "iopub.status.idle": "2023-08-12T19:05:48.382288Z",
          "shell.execute_reply.started": "2023-08-12T19:05:48.373282Z",
          "shell.execute_reply": "2023-08-12T19:05:48.381225Z"
        },
        "trusted": true,
        "id": "_Rk88-NAXiGc"
      },
      "execution_count": null,
      "outputs": []
    },
    {
      "cell_type": "code",
      "source": [
        "'''\n",
        "function that initializes shap with the appropriate model\n",
        "parameters\n",
        "model: an instance of your model, ex: LogisticRegression instance\n",
        "'''\n",
        "def initializeShap(model):\n",
        "  # split input text into tokens\n",
        "  masker = shap.maskers.Text(tokenizer=r\"\\W+\")\n",
        "  if isinstance(model, LogisticRegression):\n",
        "    explainer = shap.Explainer(model_predict, masker=masker, output_names=label_to_class)\n",
        "  elif isinstance(model, MultinomialNB):\n",
        "    explainer = shap.Explainer(model_predict, masker=masker, output_names=label_to_class)\n",
        "  else: print(\"Please use a valid model !\")\n",
        "  return explainer"
      ],
      "metadata": {
        "id": "j87-ZVCuKWo3",
        "execution": {
          "iopub.status.busy": "2023-08-12T20:33:35.830031Z",
          "iopub.execute_input": "2023-08-12T20:33:35.830422Z",
          "iopub.status.idle": "2023-08-12T20:33:35.836418Z",
          "shell.execute_reply.started": "2023-08-12T20:33:35.830388Z",
          "shell.execute_reply": "2023-08-12T20:33:35.835458Z"
        },
        "trusted": true
      },
      "execution_count": null,
      "outputs": []
    },
    {
      "cell_type": "code",
      "source": [
        "nb_explainer = initializeShap(model=nb_vec)"
      ],
      "metadata": {
        "id": "MgVp4KknPPku",
        "execution": {
          "iopub.status.busy": "2023-08-12T20:33:51.670385Z",
          "iopub.execute_input": "2023-08-12T20:33:51.671258Z",
          "iopub.status.idle": "2023-08-12T20:33:52.433454Z",
          "shell.execute_reply.started": "2023-08-12T20:33:51.671223Z",
          "shell.execute_reply": "2023-08-12T20:33:52.432486Z"
        },
        "trusted": true
      },
      "execution_count": null,
      "outputs": []
    },
    {
      "cell_type": "markdown",
      "source": [
        "## Exploration"
      ],
      "metadata": {
        "id": "jnXa6kUIXiGd"
      }
    },
    {
      "cell_type": "code",
      "source": [
        "tp = df_test['label'] != y_pred"
      ],
      "metadata": {
        "execution": {
          "iopub.status.busy": "2023-08-12T20:33:59.813972Z",
          "iopub.execute_input": "2023-08-12T20:33:59.814365Z",
          "iopub.status.idle": "2023-08-12T20:33:59.819803Z",
          "shell.execute_reply.started": "2023-08-12T20:33:59.814313Z",
          "shell.execute_reply": "2023-08-12T20:33:59.818690Z"
        },
        "trusted": true,
        "id": "s9iymblWXiGd"
      },
      "execution_count": null,
      "outputs": []
    },
    {
      "cell_type": "code",
      "source": [
        "tp = ((df_test['label'] == 7)*tp)"
      ],
      "metadata": {
        "execution": {
          "iopub.status.busy": "2023-08-12T20:34:02.228076Z",
          "iopub.execute_input": "2023-08-12T20:34:02.228545Z",
          "iopub.status.idle": "2023-08-12T20:34:02.242153Z",
          "shell.execute_reply.started": "2023-08-12T20:34:02.228505Z",
          "shell.execute_reply": "2023-08-12T20:34:02.239041Z"
        },
        "trusted": true,
        "id": "hN9TrgBJXiGd"
      },
      "execution_count": null,
      "outputs": []
    },
    {
      "cell_type": "code",
      "source": [
        "tp[tp == True]"
      ],
      "metadata": {
        "execution": {
          "iopub.status.busy": "2023-08-12T20:34:02.442988Z",
          "iopub.execute_input": "2023-08-12T20:34:02.443585Z",
          "iopub.status.idle": "2023-08-12T20:34:02.454654Z",
          "shell.execute_reply.started": "2023-08-12T20:34:02.443551Z",
          "shell.execute_reply": "2023-08-12T20:34:02.453689Z"
        },
        "trusted": true,
        "id": "WWmkw5OcXiGe"
      },
      "execution_count": null,
      "outputs": []
    },
    {
      "cell_type": "code",
      "source": [
        "label_to_class"
      ],
      "metadata": {
        "execution": {
          "iopub.status.busy": "2023-08-12T20:34:05.533379Z",
          "iopub.execute_input": "2023-08-12T20:34:05.533758Z",
          "iopub.status.idle": "2023-08-12T20:34:05.541748Z",
          "shell.execute_reply.started": "2023-08-12T20:34:05.533728Z",
          "shell.execute_reply": "2023-08-12T20:34:05.539706Z"
        },
        "trusted": true,
        "id": "VNvu8qXEXiGe"
      },
      "execution_count": null,
      "outputs": []
    },
    {
      "cell_type": "code",
      "source": [
        "def explain_example_lime(i):\n",
        "    instance = df_test[stemtype].iloc[i]\n",
        "    print(\"True label: \", label_to_class[df_test['label'].iloc[i]])\n",
        "    print(\"Original tweet: \", df_test['tweet'].iloc[i])\n",
        "    # creating a LimeTextExplainer\n",
        "    explainer = LimeTextExplainer(class_names=label_to_class)\n",
        "\n",
        "    # explaining the prediction\n",
        "    explanation = explainer.explain_instance(instance, model_predict, num_features=10, labels = range(8))\n",
        "\n",
        "    # showing the explanation\n",
        "    explanation.show_in_notebook()"
      ],
      "metadata": {
        "execution": {
          "iopub.status.busy": "2023-08-12T20:36:10.980998Z",
          "iopub.execute_input": "2023-08-12T20:36:10.981420Z",
          "iopub.status.idle": "2023-08-12T20:36:10.988590Z",
          "shell.execute_reply.started": "2023-08-12T20:36:10.981387Z",
          "shell.execute_reply": "2023-08-12T20:36:10.987473Z"
        },
        "trusted": true,
        "id": "zRwDjD74XiGf"
      },
      "execution_count": null,
      "outputs": []
    },
    {
      "cell_type": "code",
      "source": [
        "def explain_example_shap(i):\n",
        "    instance = df_test[stemtype].iloc[i:i+1].values.astype(str).tolist()\n",
        "    print(\"True label: \", label_to_class[df_test['label'].iloc[i]])\n",
        "    print(\"Original tweet: \", df_test['tweet'].iloc[i])\n",
        "    shap_values = nb_explainer(instance)\n",
        "    shap.text_plot(shap_values)"
      ],
      "metadata": {
        "id": "_Sq_6KoRK3Ex",
        "execution": {
          "iopub.status.busy": "2023-08-12T20:37:22.662269Z",
          "iopub.execute_input": "2023-08-12T20:37:22.662994Z",
          "iopub.status.idle": "2023-08-12T20:37:22.668802Z",
          "shell.execute_reply.started": "2023-08-12T20:37:22.662958Z",
          "shell.execute_reply": "2023-08-12T20:37:22.667794Z"
        },
        "trusted": true
      },
      "execution_count": null,
      "outputs": []
    },
    {
      "cell_type": "markdown",
      "source": [
        "## Label None predicted correctly"
      ],
      "metadata": {
        "id": "xMcSSaylXiGg"
      }
    },
    {
      "cell_type": "code",
      "source": [
        "explain_example_lime(2)"
      ],
      "metadata": {
        "id": "2tZSDiR2PbZr",
        "execution": {
          "iopub.status.busy": "2023-08-12T20:40:43.239464Z",
          "iopub.execute_input": "2023-08-12T20:40:43.240425Z",
          "iopub.status.idle": "2023-08-12T20:40:43.740634Z",
          "shell.execute_reply.started": "2023-08-12T20:40:43.240388Z",
          "shell.execute_reply": "2023-08-12T20:40:43.739370Z"
        },
        "trusted": true
      },
      "execution_count": null,
      "outputs": []
    },
    {
      "cell_type": "code",
      "source": [
        "explain_example_shap(2)"
      ],
      "metadata": {
        "execution": {
          "iopub.status.busy": "2023-08-12T20:40:50.938284Z",
          "iopub.execute_input": "2023-08-12T20:40:50.938701Z",
          "iopub.status.idle": "2023-08-12T20:40:51.200350Z",
          "shell.execute_reply.started": "2023-08-12T20:40:50.938668Z",
          "shell.execute_reply": "2023-08-12T20:40:51.199502Z"
        },
        "trusted": true,
        "id": "ZtSRTmH6XiGh"
      },
      "execution_count": null,
      "outputs": []
    },
    {
      "cell_type": "markdown",
      "source": [
        "## Label None predicted incorrectly"
      ],
      "metadata": {
        "id": "Hbyhmb7vXiGh"
      }
    },
    {
      "cell_type": "code",
      "source": [
        "explain_example_lime(244)"
      ],
      "metadata": {
        "execution": {
          "iopub.status.busy": "2023-08-12T20:41:54.285232Z",
          "iopub.execute_input": "2023-08-12T20:41:54.286195Z",
          "iopub.status.idle": "2023-08-12T20:41:54.701763Z",
          "shell.execute_reply.started": "2023-08-12T20:41:54.286160Z",
          "shell.execute_reply": "2023-08-12T20:41:54.700471Z"
        },
        "trusted": true,
        "id": "tu2KzgLPXiGi"
      },
      "execution_count": null,
      "outputs": []
    },
    {
      "cell_type": "code",
      "source": [
        "explain_example_shap(244)"
      ],
      "metadata": {
        "execution": {
          "iopub.status.busy": "2023-08-12T20:42:10.593857Z",
          "iopub.execute_input": "2023-08-12T20:42:10.594258Z",
          "iopub.status.idle": "2023-08-12T20:42:10.771114Z",
          "shell.execute_reply.started": "2023-08-12T20:42:10.594224Z",
          "shell.execute_reply": "2023-08-12T20:42:10.770144Z"
        },
        "trusted": true,
        "id": "cdzNzX8KXiGi"
      },
      "execution_count": null,
      "outputs": []
    },
    {
      "cell_type": "markdown",
      "source": [
        "## Label Anger predicted correctly"
      ],
      "metadata": {
        "id": "bZXqTfVVXiGi"
      }
    },
    {
      "cell_type": "code",
      "source": [
        "explain_example_lime(31)"
      ],
      "metadata": {
        "execution": {
          "iopub.status.busy": "2023-08-12T20:44:21.602659Z",
          "iopub.execute_input": "2023-08-12T20:44:21.603049Z",
          "iopub.status.idle": "2023-08-12T20:44:22.507346Z",
          "shell.execute_reply.started": "2023-08-12T20:44:21.603018Z",
          "shell.execute_reply": "2023-08-12T20:44:22.505963Z"
        },
        "trusted": true,
        "id": "TueoAFolXiGi"
      },
      "execution_count": null,
      "outputs": []
    },
    {
      "cell_type": "code",
      "source": [
        "explain_example_shap(31)"
      ],
      "metadata": {
        "execution": {
          "iopub.status.busy": "2023-08-12T20:44:34.274638Z",
          "iopub.execute_input": "2023-08-12T20:44:34.275013Z",
          "iopub.status.idle": "2023-08-12T20:44:34.457245Z",
          "shell.execute_reply.started": "2023-08-12T20:44:34.274981Z",
          "shell.execute_reply": "2023-08-12T20:44:34.456327Z"
        },
        "trusted": true,
        "id": "YAqhq7zVXiGj"
      },
      "execution_count": null,
      "outputs": []
    },
    {
      "cell_type": "markdown",
      "source": [
        "## Label Anger predicted incorrectly"
      ],
      "metadata": {
        "id": "u7dBAEwsXiGj"
      }
    },
    {
      "cell_type": "code",
      "source": [
        "explain_example_lime(49)"
      ],
      "metadata": {
        "execution": {
          "iopub.status.busy": "2023-08-12T20:45:28.931073Z",
          "iopub.execute_input": "2023-08-12T20:45:28.931493Z",
          "iopub.status.idle": "2023-08-12T20:45:29.409596Z",
          "shell.execute_reply.started": "2023-08-12T20:45:28.931457Z",
          "shell.execute_reply": "2023-08-12T20:45:29.408363Z"
        },
        "trusted": true,
        "id": "1xJawscnXiGk"
      },
      "execution_count": null,
      "outputs": []
    },
    {
      "cell_type": "code",
      "source": [
        "explain_example_shap(49)"
      ],
      "metadata": {
        "execution": {
          "iopub.status.busy": "2023-08-12T20:45:50.131751Z",
          "iopub.execute_input": "2023-08-12T20:45:50.132122Z",
          "iopub.status.idle": "2023-08-12T20:45:50.441119Z",
          "shell.execute_reply.started": "2023-08-12T20:45:50.132093Z",
          "shell.execute_reply": "2023-08-12T20:45:50.440244Z"
        },
        "trusted": true,
        "id": "SDGbmnBLXiGk"
      },
      "execution_count": null,
      "outputs": []
    },
    {
      "cell_type": "markdown",
      "source": [
        "## Label Joy predicted correctly"
      ],
      "metadata": {
        "id": "b4G7K6TRXiGl"
      }
    },
    {
      "cell_type": "code",
      "source": [
        "explain_example_lime(3)"
      ],
      "metadata": {
        "execution": {
          "iopub.status.busy": "2023-08-12T20:47:49.887447Z",
          "iopub.execute_input": "2023-08-12T20:47:49.887905Z",
          "iopub.status.idle": "2023-08-12T20:47:50.338857Z",
          "shell.execute_reply.started": "2023-08-12T20:47:49.887866Z",
          "shell.execute_reply": "2023-08-12T20:47:50.337394Z"
        },
        "trusted": true,
        "id": "rYdngRlHXiGl"
      },
      "execution_count": null,
      "outputs": []
    },
    {
      "cell_type": "code",
      "source": [
        "explain_example_shap(3)"
      ],
      "metadata": {
        "execution": {
          "iopub.status.busy": "2023-08-12T20:48:02.385984Z",
          "iopub.execute_input": "2023-08-12T20:48:02.386388Z",
          "iopub.status.idle": "2023-08-12T20:48:02.511308Z",
          "shell.execute_reply.started": "2023-08-12T20:48:02.386347Z",
          "shell.execute_reply": "2023-08-12T20:48:02.510388Z"
        },
        "trusted": true,
        "id": "WClWW2qEXiGl"
      },
      "execution_count": null,
      "outputs": []
    },
    {
      "cell_type": "markdown",
      "source": [
        "## Label Joy predicted incorrectly"
      ],
      "metadata": {
        "id": "H9oF0GixXiGm"
      }
    },
    {
      "cell_type": "code",
      "source": [
        "explain_example_lime(21)"
      ],
      "metadata": {
        "execution": {
          "iopub.status.busy": "2023-08-12T20:47:03.883823Z",
          "iopub.execute_input": "2023-08-12T20:47:03.884219Z",
          "iopub.status.idle": "2023-08-12T20:47:04.275705Z",
          "shell.execute_reply.started": "2023-08-12T20:47:03.884189Z",
          "shell.execute_reply": "2023-08-12T20:47:04.274367Z"
        },
        "trusted": true,
        "id": "VS5Md08IXiGm"
      },
      "execution_count": null,
      "outputs": []
    },
    {
      "cell_type": "code",
      "source": [
        "explain_example_shap(21)"
      ],
      "metadata": {
        "execution": {
          "iopub.status.busy": "2023-08-12T20:47:30.197323Z",
          "iopub.execute_input": "2023-08-12T20:47:30.197927Z",
          "iopub.status.idle": "2023-08-12T20:47:30.340834Z",
          "shell.execute_reply.started": "2023-08-12T20:47:30.197883Z",
          "shell.execute_reply": "2023-08-12T20:47:30.339935Z"
        },
        "trusted": true,
        "id": "_IzJ8CTsXiGm"
      },
      "execution_count": null,
      "outputs": []
    },
    {
      "cell_type": "markdown",
      "source": [
        "## Label Sadness predicted correctly"
      ],
      "metadata": {
        "id": "nAfIwLbLXiGn"
      }
    },
    {
      "cell_type": "code",
      "source": [
        "explain_example_lime(65)"
      ],
      "metadata": {
        "execution": {
          "iopub.status.busy": "2023-08-12T20:50:38.094828Z",
          "iopub.execute_input": "2023-08-12T20:50:38.095235Z",
          "iopub.status.idle": "2023-08-12T20:50:38.576224Z",
          "shell.execute_reply.started": "2023-08-12T20:50:38.095200Z",
          "shell.execute_reply": "2023-08-12T20:50:38.569973Z"
        },
        "trusted": true,
        "id": "rkGEh6SPXiGn"
      },
      "execution_count": null,
      "outputs": []
    },
    {
      "cell_type": "code",
      "source": [
        "explain_example_shap(65)"
      ],
      "metadata": {
        "execution": {
          "iopub.status.busy": "2023-08-12T20:50:57.952325Z",
          "iopub.execute_input": "2023-08-12T20:50:57.953420Z",
          "iopub.status.idle": "2023-08-12T20:50:58.201078Z",
          "shell.execute_reply.started": "2023-08-12T20:50:57.953368Z",
          "shell.execute_reply": "2023-08-12T20:50:58.200034Z"
        },
        "trusted": true,
        "id": "3WREXUlSXiGo"
      },
      "execution_count": null,
      "outputs": []
    },
    {
      "cell_type": "markdown",
      "source": [
        "## Label Sadness predicted incorrectly"
      ],
      "metadata": {
        "id": "42n5eDM9XiGo"
      }
    },
    {
      "cell_type": "code",
      "source": [
        "explain_example_lime(12)"
      ],
      "metadata": {
        "execution": {
          "iopub.status.busy": "2023-08-12T20:51:53.388929Z",
          "iopub.execute_input": "2023-08-12T20:51:53.389316Z",
          "iopub.status.idle": "2023-08-12T20:51:53.780661Z",
          "shell.execute_reply.started": "2023-08-12T20:51:53.389286Z",
          "shell.execute_reply": "2023-08-12T20:51:53.779379Z"
        },
        "trusted": true,
        "id": "nh27k_ROXiGp"
      },
      "execution_count": null,
      "outputs": []
    },
    {
      "cell_type": "code",
      "source": [
        "explain_example_shap(12)"
      ],
      "metadata": {
        "execution": {
          "iopub.status.busy": "2023-08-12T20:52:10.355485Z",
          "iopub.execute_input": "2023-08-12T20:52:10.355876Z",
          "iopub.status.idle": "2023-08-12T20:52:10.477002Z",
          "shell.execute_reply.started": "2023-08-12T20:52:10.355845Z",
          "shell.execute_reply": "2023-08-12T20:52:10.476110Z"
        },
        "trusted": true,
        "id": "YpmPbMZ9XiGp"
      },
      "execution_count": null,
      "outputs": []
    },
    {
      "cell_type": "markdown",
      "source": [
        "## Label Love predicted correctly"
      ],
      "metadata": {
        "id": "v81ktnKsXiGq"
      }
    },
    {
      "cell_type": "code",
      "source": [
        "explain_example_lime(0)"
      ],
      "metadata": {
        "execution": {
          "iopub.status.busy": "2023-08-12T20:52:51.161187Z",
          "iopub.execute_input": "2023-08-12T20:52:51.162302Z",
          "iopub.status.idle": "2023-08-12T20:52:51.603648Z",
          "shell.execute_reply.started": "2023-08-12T20:52:51.162260Z",
          "shell.execute_reply": "2023-08-12T20:52:51.602376Z"
        },
        "trusted": true,
        "id": "hxk7h4pYXiGr"
      },
      "execution_count": null,
      "outputs": []
    },
    {
      "cell_type": "code",
      "source": [
        "explain_example_shap(0)"
      ],
      "metadata": {
        "execution": {
          "iopub.status.busy": "2023-08-12T20:53:03.471061Z",
          "iopub.execute_input": "2023-08-12T20:53:03.471482Z",
          "iopub.status.idle": "2023-08-12T20:53:03.596927Z",
          "shell.execute_reply.started": "2023-08-12T20:53:03.471447Z",
          "shell.execute_reply": "2023-08-12T20:53:03.596009Z"
        },
        "trusted": true,
        "id": "IvzoqKpOXiGr"
      },
      "execution_count": null,
      "outputs": []
    },
    {
      "cell_type": "markdown",
      "source": [
        "## Label Love predicted incorrectly"
      ],
      "metadata": {
        "id": "6-hbmfi-XiGr"
      }
    },
    {
      "cell_type": "code",
      "source": [
        "explain_example_lime(10)"
      ],
      "metadata": {
        "execution": {
          "iopub.status.busy": "2023-08-12T20:53:41.351755Z",
          "iopub.execute_input": "2023-08-12T20:53:41.352142Z",
          "iopub.status.idle": "2023-08-12T20:53:41.829934Z",
          "shell.execute_reply.started": "2023-08-12T20:53:41.352110Z",
          "shell.execute_reply": "2023-08-12T20:53:41.829074Z"
        },
        "trusted": true,
        "id": "V9CD179cXiGr"
      },
      "execution_count": null,
      "outputs": []
    },
    {
      "cell_type": "code",
      "source": [
        "explain_example_shap(10)"
      ],
      "metadata": {
        "execution": {
          "iopub.status.busy": "2023-08-12T20:54:04.102599Z",
          "iopub.execute_input": "2023-08-12T20:54:04.103185Z",
          "iopub.status.idle": "2023-08-12T20:54:04.366026Z",
          "shell.execute_reply.started": "2023-08-12T20:54:04.103143Z",
          "shell.execute_reply": "2023-08-12T20:54:04.365193Z"
        },
        "trusted": true,
        "id": "dkE0ApiAXiGs"
      },
      "execution_count": null,
      "outputs": []
    },
    {
      "cell_type": "markdown",
      "source": [
        "## Label Sympathy predicted correctly"
      ],
      "metadata": {
        "id": "qHOCMM5UXiGs"
      }
    },
    {
      "cell_type": "code",
      "source": [
        "explain_example_lime(4)"
      ],
      "metadata": {
        "execution": {
          "iopub.status.busy": "2023-08-12T20:55:04.146034Z",
          "iopub.execute_input": "2023-08-12T20:55:04.146652Z",
          "iopub.status.idle": "2023-08-12T20:55:04.613571Z",
          "shell.execute_reply.started": "2023-08-12T20:55:04.146608Z",
          "shell.execute_reply": "2023-08-12T20:55:04.612363Z"
        },
        "trusted": true,
        "id": "S-Ulmx_8XiGt"
      },
      "execution_count": null,
      "outputs": []
    },
    {
      "cell_type": "code",
      "source": [
        "explain_example_shap(4)"
      ],
      "metadata": {
        "execution": {
          "iopub.status.busy": "2023-08-12T20:55:12.578681Z",
          "iopub.execute_input": "2023-08-12T20:55:12.579146Z",
          "iopub.status.idle": "2023-08-12T20:55:13.147879Z",
          "shell.execute_reply.started": "2023-08-12T20:55:12.579109Z",
          "shell.execute_reply": "2023-08-12T20:55:13.146891Z"
        },
        "trusted": true,
        "id": "V5Evt3CqXiGt"
      },
      "execution_count": null,
      "outputs": []
    },
    {
      "cell_type": "markdown",
      "source": [
        "## Label Sympathy predicted incorrectly"
      ],
      "metadata": {
        "id": "xN7QWppkXiGu"
      }
    },
    {
      "cell_type": "code",
      "source": [
        "explain_example_lime(98)"
      ],
      "metadata": {
        "execution": {
          "iopub.status.busy": "2023-08-12T20:55:52.358721Z",
          "iopub.execute_input": "2023-08-12T20:55:52.359105Z",
          "iopub.status.idle": "2023-08-12T20:55:52.861661Z",
          "shell.execute_reply.started": "2023-08-12T20:55:52.359075Z",
          "shell.execute_reply": "2023-08-12T20:55:52.860373Z"
        },
        "trusted": true,
        "id": "emn-6VDuXiGu"
      },
      "execution_count": null,
      "outputs": []
    },
    {
      "cell_type": "code",
      "source": [
        "explain_example_shap(98)"
      ],
      "metadata": {
        "execution": {
          "iopub.status.busy": "2023-08-12T20:56:06.435835Z",
          "iopub.execute_input": "2023-08-12T20:56:06.436797Z",
          "iopub.status.idle": "2023-08-12T20:56:06.690867Z",
          "shell.execute_reply.started": "2023-08-12T20:56:06.436748Z",
          "shell.execute_reply": "2023-08-12T20:56:06.689861Z"
        },
        "trusted": true,
        "id": "pMHmym6DXiGu"
      },
      "execution_count": null,
      "outputs": []
    },
    {
      "cell_type": "markdown",
      "source": [
        "## Label Surprise predicted correctly"
      ],
      "metadata": {
        "id": "T0w43y2RXiGv"
      }
    },
    {
      "cell_type": "code",
      "source": [
        "explain_example_lime(48)"
      ],
      "metadata": {
        "execution": {
          "iopub.status.busy": "2023-08-12T20:57:03.190222Z",
          "iopub.execute_input": "2023-08-12T20:57:03.191284Z",
          "iopub.status.idle": "2023-08-12T20:57:03.625443Z",
          "shell.execute_reply.started": "2023-08-12T20:57:03.191237Z",
          "shell.execute_reply": "2023-08-12T20:57:03.624568Z"
        },
        "trusted": true,
        "id": "ekUUn0M8XiGv"
      },
      "execution_count": null,
      "outputs": []
    },
    {
      "cell_type": "code",
      "source": [
        "explain_example_shap(48)"
      ],
      "metadata": {
        "execution": {
          "iopub.status.busy": "2023-08-12T20:57:11.013390Z",
          "iopub.execute_input": "2023-08-12T20:57:11.013762Z",
          "iopub.status.idle": "2023-08-12T20:57:11.176225Z",
          "shell.execute_reply.started": "2023-08-12T20:57:11.013734Z",
          "shell.execute_reply": "2023-08-12T20:57:11.175402Z"
        },
        "trusted": true,
        "id": "8lqgQ_XwXiGw"
      },
      "execution_count": null,
      "outputs": []
    },
    {
      "cell_type": "markdown",
      "source": [
        "## Label Surprise explained incorrectly"
      ],
      "metadata": {
        "id": "ZVdCtpVJXiGw"
      }
    },
    {
      "cell_type": "code",
      "source": [
        "explain_example_lime(23)"
      ],
      "metadata": {
        "execution": {
          "iopub.status.busy": "2023-08-12T20:57:53.871422Z",
          "iopub.execute_input": "2023-08-12T20:57:53.872305Z",
          "iopub.status.idle": "2023-08-12T20:57:54.347067Z",
          "shell.execute_reply.started": "2023-08-12T20:57:53.872270Z",
          "shell.execute_reply": "2023-08-12T20:57:54.345577Z"
        },
        "trusted": true,
        "id": "yygULqU2XiGw"
      },
      "execution_count": null,
      "outputs": []
    },
    {
      "cell_type": "code",
      "source": [
        "explain_example_shap(23)"
      ],
      "metadata": {
        "execution": {
          "iopub.status.busy": "2023-08-12T20:58:02.966084Z",
          "iopub.execute_input": "2023-08-12T20:58:02.966492Z",
          "iopub.status.idle": "2023-08-12T20:58:03.189781Z",
          "shell.execute_reply.started": "2023-08-12T20:58:02.966457Z",
          "shell.execute_reply": "2023-08-12T20:58:03.188914Z"
        },
        "trusted": true,
        "id": "meTD_rEhXiGx"
      },
      "execution_count": null,
      "outputs": []
    },
    {
      "cell_type": "markdown",
      "source": [
        "## Label Fear predicted correctly"
      ],
      "metadata": {
        "id": "Rq3hnCfLXiGx"
      }
    },
    {
      "cell_type": "code",
      "source": [
        "explain_example_lime(1)"
      ],
      "metadata": {
        "execution": {
          "iopub.status.busy": "2023-08-12T20:59:22.418535Z",
          "iopub.execute_input": "2023-08-12T20:59:22.418928Z",
          "iopub.status.idle": "2023-08-12T20:59:22.899691Z",
          "shell.execute_reply.started": "2023-08-12T20:59:22.418899Z",
          "shell.execute_reply": "2023-08-12T20:59:22.898396Z"
        },
        "trusted": true,
        "id": "cf_HLfF9XiGx"
      },
      "execution_count": null,
      "outputs": []
    },
    {
      "cell_type": "code",
      "source": [
        "explain_example_shap(1)"
      ],
      "metadata": {
        "execution": {
          "iopub.status.busy": "2023-08-12T20:59:29.020658Z",
          "iopub.execute_input": "2023-08-12T20:59:29.021083Z",
          "iopub.status.idle": "2023-08-12T20:59:29.174299Z",
          "shell.execute_reply.started": "2023-08-12T20:59:29.021052Z",
          "shell.execute_reply": "2023-08-12T20:59:29.173402Z"
        },
        "trusted": true,
        "id": "bOrb2dcSXiGy"
      },
      "execution_count": null,
      "outputs": []
    },
    {
      "cell_type": "markdown",
      "source": [
        "## Label Fear predicted correctly"
      ],
      "metadata": {
        "id": "GlmLseNFXiGy"
      }
    },
    {
      "cell_type": "code",
      "source": [
        "explain_example_lime(38)"
      ],
      "metadata": {
        "execution": {
          "iopub.status.busy": "2023-08-12T20:59:49.563894Z",
          "iopub.execute_input": "2023-08-12T20:59:49.564281Z",
          "iopub.status.idle": "2023-08-12T20:59:50.055663Z",
          "shell.execute_reply.started": "2023-08-12T20:59:49.564249Z",
          "shell.execute_reply": "2023-08-12T20:59:50.054735Z"
        },
        "trusted": true,
        "id": "bDpbXWsIXiGz"
      },
      "execution_count": null,
      "outputs": []
    },
    {
      "cell_type": "code",
      "source": [
        "explain_example_shap(38)"
      ],
      "metadata": {
        "execution": {
          "iopub.status.busy": "2023-08-12T20:59:58.106755Z",
          "iopub.execute_input": "2023-08-12T20:59:58.107793Z",
          "iopub.status.idle": "2023-08-12T20:59:58.335105Z",
          "shell.execute_reply.started": "2023-08-12T20:59:58.107745Z",
          "shell.execute_reply": "2023-08-12T20:59:58.334286Z"
        },
        "trusted": true,
        "id": "XTMmE0iAXiG0"
      },
      "execution_count": null,
      "outputs": []
    },
    {
      "cell_type": "code",
      "source": [],
      "metadata": {
        "id": "pw1qQ2bkXiG0"
      },
      "execution_count": null,
      "outputs": []
    }
  ]
}