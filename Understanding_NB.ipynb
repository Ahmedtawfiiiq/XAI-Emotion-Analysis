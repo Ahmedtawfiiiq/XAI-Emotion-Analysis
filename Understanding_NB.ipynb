{
  "cells": [
    {
      "cell_type": "code",
      "execution_count": 1,
      "metadata": {
        "colab": {
          "base_uri": "https://localhost:8080/"
        },
        "id": "kgqxZh6h1GAd",
        "outputId": "d2c7b283-48fb-4068-9de6-ac209b0b8d9d"
      },
      "outputs": [
        {
          "output_type": "stream",
          "name": "stdout",
          "text": [
            "Collecting shap\n",
            "  Downloading shap-0.42.1-cp310-cp310-manylinux_2_12_x86_64.manylinux2010_x86_64.manylinux_2_17_x86_64.manylinux2014_x86_64.whl (547 kB)\n",
            "\u001b[?25l     \u001b[90m━━━━━━━━━━━━━━━━━━━━━━━━━━━━━━━━━━━━━━━━\u001b[0m \u001b[32m0.0/547.9 kB\u001b[0m \u001b[31m?\u001b[0m eta \u001b[36m-:--:--\u001b[0m\r\u001b[2K     \u001b[91m━━━━━━━━━━\u001b[0m\u001b[90m╺\u001b[0m\u001b[90m━━━━━━━━━━━━━━━━━━━━━━━━━━━━\u001b[0m \u001b[32m143.4/547.9 kB\u001b[0m \u001b[31m4.1 MB/s\u001b[0m eta \u001b[36m0:00:01\u001b[0m\r\u001b[2K     \u001b[90m━━━━━━━━━━━━━━━━━━━━━━━━━━━━━━━━━━━━━━━\u001b[0m \u001b[32m547.9/547.9 kB\u001b[0m \u001b[31m9.1 MB/s\u001b[0m eta \u001b[36m0:00:00\u001b[0m\n",
            "\u001b[?25hRequirement already satisfied: numpy in /usr/local/lib/python3.10/dist-packages (from shap) (1.23.5)\n",
            "Requirement already satisfied: scipy in /usr/local/lib/python3.10/dist-packages (from shap) (1.10.1)\n",
            "Requirement already satisfied: scikit-learn in /usr/local/lib/python3.10/dist-packages (from shap) (1.2.2)\n",
            "Requirement already satisfied: pandas in /usr/local/lib/python3.10/dist-packages (from shap) (1.5.3)\n",
            "Requirement already satisfied: tqdm>=4.27.0 in /usr/local/lib/python3.10/dist-packages (from shap) (4.66.1)\n",
            "Requirement already satisfied: packaging>20.9 in /usr/local/lib/python3.10/dist-packages (from shap) (23.1)\n",
            "Collecting slicer==0.0.7 (from shap)\n",
            "  Downloading slicer-0.0.7-py3-none-any.whl (14 kB)\n",
            "Requirement already satisfied: numba in /usr/local/lib/python3.10/dist-packages (from shap) (0.56.4)\n",
            "Requirement already satisfied: cloudpickle in /usr/local/lib/python3.10/dist-packages (from shap) (2.2.1)\n",
            "Requirement already satisfied: llvmlite<0.40,>=0.39.0dev0 in /usr/local/lib/python3.10/dist-packages (from numba->shap) (0.39.1)\n",
            "Requirement already satisfied: setuptools in /usr/local/lib/python3.10/dist-packages (from numba->shap) (67.7.2)\n",
            "Requirement already satisfied: python-dateutil>=2.8.1 in /usr/local/lib/python3.10/dist-packages (from pandas->shap) (2.8.2)\n",
            "Requirement already satisfied: pytz>=2020.1 in /usr/local/lib/python3.10/dist-packages (from pandas->shap) (2023.3)\n",
            "Requirement already satisfied: joblib>=1.1.1 in /usr/local/lib/python3.10/dist-packages (from scikit-learn->shap) (1.3.2)\n",
            "Requirement already satisfied: threadpoolctl>=2.0.0 in /usr/local/lib/python3.10/dist-packages (from scikit-learn->shap) (3.2.0)\n",
            "Requirement already satisfied: six>=1.5 in /usr/local/lib/python3.10/dist-packages (from python-dateutil>=2.8.1->pandas->shap) (1.16.0)\n",
            "Installing collected packages: slicer, shap\n",
            "Successfully installed shap-0.42.1 slicer-0.0.7\n",
            "Collecting lime\n",
            "  Downloading lime-0.2.0.1.tar.gz (275 kB)\n",
            "\u001b[2K     \u001b[90m━━━━━━━━━━━━━━━━━━━━━━━━━━━━━━━━━━━━━━━\u001b[0m \u001b[32m275.7/275.7 kB\u001b[0m \u001b[31m4.6 MB/s\u001b[0m eta \u001b[36m0:00:00\u001b[0m\n",
            "\u001b[?25h  Preparing metadata (setup.py) ... \u001b[?25l\u001b[?25hdone\n",
            "Requirement already satisfied: matplotlib in /usr/local/lib/python3.10/dist-packages (from lime) (3.7.1)\n",
            "Requirement already satisfied: numpy in /usr/local/lib/python3.10/dist-packages (from lime) (1.23.5)\n",
            "Requirement already satisfied: scipy in /usr/local/lib/python3.10/dist-packages (from lime) (1.10.1)\n",
            "Requirement already satisfied: tqdm in /usr/local/lib/python3.10/dist-packages (from lime) (4.66.1)\n",
            "Requirement already satisfied: scikit-learn>=0.18 in /usr/local/lib/python3.10/dist-packages (from lime) (1.2.2)\n",
            "Requirement already satisfied: scikit-image>=0.12 in /usr/local/lib/python3.10/dist-packages (from lime) (0.19.3)\n",
            "Requirement already satisfied: networkx>=2.2 in /usr/local/lib/python3.10/dist-packages (from scikit-image>=0.12->lime) (3.1)\n",
            "Requirement already satisfied: pillow!=7.1.0,!=7.1.1,!=8.3.0,>=6.1.0 in /usr/local/lib/python3.10/dist-packages (from scikit-image>=0.12->lime) (9.4.0)\n",
            "Requirement already satisfied: imageio>=2.4.1 in /usr/local/lib/python3.10/dist-packages (from scikit-image>=0.12->lime) (2.31.1)\n",
            "Requirement already satisfied: tifffile>=2019.7.26 in /usr/local/lib/python3.10/dist-packages (from scikit-image>=0.12->lime) (2023.8.12)\n",
            "Requirement already satisfied: PyWavelets>=1.1.1 in /usr/local/lib/python3.10/dist-packages (from scikit-image>=0.12->lime) (1.4.1)\n",
            "Requirement already satisfied: packaging>=20.0 in /usr/local/lib/python3.10/dist-packages (from scikit-image>=0.12->lime) (23.1)\n",
            "Requirement already satisfied: joblib>=1.1.1 in /usr/local/lib/python3.10/dist-packages (from scikit-learn>=0.18->lime) (1.3.2)\n",
            "Requirement already satisfied: threadpoolctl>=2.0.0 in /usr/local/lib/python3.10/dist-packages (from scikit-learn>=0.18->lime) (3.2.0)\n",
            "Requirement already satisfied: contourpy>=1.0.1 in /usr/local/lib/python3.10/dist-packages (from matplotlib->lime) (1.1.0)\n",
            "Requirement already satisfied: cycler>=0.10 in /usr/local/lib/python3.10/dist-packages (from matplotlib->lime) (0.11.0)\n",
            "Requirement already satisfied: fonttools>=4.22.0 in /usr/local/lib/python3.10/dist-packages (from matplotlib->lime) (4.42.0)\n",
            "Requirement already satisfied: kiwisolver>=1.0.1 in /usr/local/lib/python3.10/dist-packages (from matplotlib->lime) (1.4.4)\n",
            "Requirement already satisfied: pyparsing>=2.3.1 in /usr/local/lib/python3.10/dist-packages (from matplotlib->lime) (3.1.1)\n",
            "Requirement already satisfied: python-dateutil>=2.7 in /usr/local/lib/python3.10/dist-packages (from matplotlib->lime) (2.8.2)\n",
            "Requirement already satisfied: six>=1.5 in /usr/local/lib/python3.10/dist-packages (from python-dateutil>=2.7->matplotlib->lime) (1.16.0)\n",
            "Building wheels for collected packages: lime\n",
            "  Building wheel for lime (setup.py) ... \u001b[?25l\u001b[?25hdone\n",
            "  Created wheel for lime: filename=lime-0.2.0.1-py3-none-any.whl size=283835 sha256=2ea1bf68e1abf75a2c5ea0ff18607cc5563499fd3661e87d26518b8d1fae9acf\n",
            "  Stored in directory: /root/.cache/pip/wheels/fd/a2/af/9ac0a1a85a27f314a06b39e1f492bee1547d52549a4606ed89\n",
            "Successfully built lime\n",
            "Installing collected packages: lime\n",
            "Successfully installed lime-0.2.0.1\n",
            "Collecting transformers\n",
            "  Downloading transformers-4.32.0-py3-none-any.whl (7.5 MB)\n",
            "\u001b[2K     \u001b[90m━━━━━━━━━━━━━━━━━━━━━━━━━━━━━━━━━━━━━━━━\u001b[0m \u001b[32m7.5/7.5 MB\u001b[0m \u001b[31m32.6 MB/s\u001b[0m eta \u001b[36m0:00:00\u001b[0m\n",
            "\u001b[?25hRequirement already satisfied: filelock in /usr/local/lib/python3.10/dist-packages (from transformers) (3.12.2)\n",
            "Collecting huggingface-hub<1.0,>=0.15.1 (from transformers)\n",
            "  Downloading huggingface_hub-0.16.4-py3-none-any.whl (268 kB)\n",
            "\u001b[2K     \u001b[90m━━━━━━━━━━━━━━━━━━━━━━━━━━━━━━━━━━━━━━\u001b[0m \u001b[32m268.8/268.8 kB\u001b[0m \u001b[31m29.2 MB/s\u001b[0m eta \u001b[36m0:00:00\u001b[0m\n",
            "\u001b[?25hRequirement already satisfied: numpy>=1.17 in /usr/local/lib/python3.10/dist-packages (from transformers) (1.23.5)\n",
            "Requirement already satisfied: packaging>=20.0 in /usr/local/lib/python3.10/dist-packages (from transformers) (23.1)\n",
            "Requirement already satisfied: pyyaml>=5.1 in /usr/local/lib/python3.10/dist-packages (from transformers) (6.0.1)\n",
            "Requirement already satisfied: regex!=2019.12.17 in /usr/local/lib/python3.10/dist-packages (from transformers) (2023.6.3)\n",
            "Requirement already satisfied: requests in /usr/local/lib/python3.10/dist-packages (from transformers) (2.31.0)\n",
            "Collecting tokenizers!=0.11.3,<0.14,>=0.11.1 (from transformers)\n",
            "  Downloading tokenizers-0.13.3-cp310-cp310-manylinux_2_17_x86_64.manylinux2014_x86_64.whl (7.8 MB)\n",
            "\u001b[2K     \u001b[90m━━━━━━━━━━━━━━━━━━━━━━━━━━━━━━━━━━━━━━━━\u001b[0m \u001b[32m7.8/7.8 MB\u001b[0m \u001b[31m58.0 MB/s\u001b[0m eta \u001b[36m0:00:00\u001b[0m\n",
            "\u001b[?25hCollecting safetensors>=0.3.1 (from transformers)\n",
            "  Downloading safetensors-0.3.3-cp310-cp310-manylinux_2_17_x86_64.manylinux2014_x86_64.whl (1.3 MB)\n",
            "\u001b[2K     \u001b[90m━━━━━━━━━━━━━━━━━━━━━━━━━━━━━━━━━━━━━━━━\u001b[0m \u001b[32m1.3/1.3 MB\u001b[0m \u001b[31m20.5 MB/s\u001b[0m eta \u001b[36m0:00:00\u001b[0m\n",
            "\u001b[?25hRequirement already satisfied: tqdm>=4.27 in /usr/local/lib/python3.10/dist-packages (from transformers) (4.66.1)\n",
            "Requirement already satisfied: fsspec in /usr/local/lib/python3.10/dist-packages (from huggingface-hub<1.0,>=0.15.1->transformers) (2023.6.0)\n",
            "Requirement already satisfied: typing-extensions>=3.7.4.3 in /usr/local/lib/python3.10/dist-packages (from huggingface-hub<1.0,>=0.15.1->transformers) (4.7.1)\n",
            "Requirement already satisfied: charset-normalizer<4,>=2 in /usr/local/lib/python3.10/dist-packages (from requests->transformers) (3.2.0)\n",
            "Requirement already satisfied: idna<4,>=2.5 in /usr/local/lib/python3.10/dist-packages (from requests->transformers) (3.4)\n",
            "Requirement already satisfied: urllib3<3,>=1.21.1 in /usr/local/lib/python3.10/dist-packages (from requests->transformers) (2.0.4)\n",
            "Requirement already satisfied: certifi>=2017.4.17 in /usr/local/lib/python3.10/dist-packages (from requests->transformers) (2023.7.22)\n",
            "Installing collected packages: tokenizers, safetensors, huggingface-hub, transformers\n",
            "Successfully installed huggingface-hub-0.16.4 safetensors-0.3.3 tokenizers-0.13.3 transformers-4.32.0\n"
          ]
        }
      ],
      "source": [
        "!pip install shap\n",
        "!pip install lime\n",
        "!pip install transformers"
      ]
    },
    {
      "cell_type": "code",
      "execution_count": 2,
      "metadata": {
        "colab": {
          "base_uri": "https://localhost:8080/"
        },
        "id": "qf_rYKBH1SrJ",
        "outputId": "779d9c3c-d48a-478d-8173-441688c36242"
      },
      "outputs": [
        {
          "output_type": "stream",
          "name": "stderr",
          "text": [
            "Using `tqdm.autonotebook.tqdm` in notebook mode. Use `tqdm.tqdm` instead to force console mode (e.g. in jupyter console)\n",
            "[nltk_data] Downloading package punkt to /root/nltk_data...\n",
            "[nltk_data]   Unzipping tokenizers/punkt.zip.\n"
          ]
        }
      ],
      "source": [
        "import shap\n",
        "import pickle\n",
        "import numpy as np\n",
        "import pandas as pd\n",
        "import seaborn as sns\n",
        "import matplotlib.pyplot as plt\n",
        "from sklearn.naive_bayes import MultinomialNB, GaussianNB, CategoricalNB\n",
        "from sklearn.metrics import accuracy_score\n",
        "from sklearn.linear_model import LogisticRegression\n",
        "from sklearn.model_selection import train_test_split\n",
        "from sklearn.model_selection import GridSearchCV\n",
        "from sklearn.preprocessing import OneHotEncoder, LabelEncoder\n",
        "from sklearn.feature_extraction.text import TfidfVectorizer\n",
        "\n",
        "from sklearn.utils import check_random_state\n",
        "from sklearn.metrics import classification_report, confusion_matrix\n",
        "\n",
        "import nltk\n",
        "nltk.download('punkt')\n",
        "from nltk.tokenize import word_tokenize\n",
        "\n",
        "# LIME packages\n",
        "from lime import lime_text\n",
        "from lime.lime_text import LimeTextExplainer\n",
        "from sklearn.pipeline import make_pipeline\n",
        "from lime.lime_text import IndexedString,IndexedCharacters\n",
        "from lime.lime_base import LimeBase\n",
        "from sklearn.linear_model import Ridge, lars_path\n",
        "from lime.lime_text import explanation\n",
        "from functools import partial\n",
        "import scipy as sp\n",
        "\n",
        "from transformers import AutoTokenizer, TFAutoModel\n",
        "import tensorflow as tf\n",
        "from tqdm import tqdm"
      ]
    },
    {
      "cell_type": "code",
      "execution_count": 3,
      "metadata": {
        "colab": {
          "base_uri": "https://localhost:8080/"
        },
        "id": "cC3GLLPk1VqD",
        "outputId": "6a4cf007-2d28-4ed3-a1ae-5a2653e9dd37"
      },
      "outputs": [
        {
          "output_type": "stream",
          "name": "stdout",
          "text": [
            "Requirement already satisfied: gdown in /usr/local/lib/python3.10/dist-packages (4.6.6)\n",
            "Requirement already satisfied: filelock in /usr/local/lib/python3.10/dist-packages (from gdown) (3.12.2)\n",
            "Requirement already satisfied: requests[socks] in /usr/local/lib/python3.10/dist-packages (from gdown) (2.31.0)\n",
            "Requirement already satisfied: six in /usr/local/lib/python3.10/dist-packages (from gdown) (1.16.0)\n",
            "Requirement already satisfied: tqdm in /usr/local/lib/python3.10/dist-packages (from gdown) (4.66.1)\n",
            "Requirement already satisfied: beautifulsoup4 in /usr/local/lib/python3.10/dist-packages (from gdown) (4.11.2)\n",
            "Requirement already satisfied: soupsieve>1.2 in /usr/local/lib/python3.10/dist-packages (from beautifulsoup4->gdown) (2.4.1)\n",
            "Requirement already satisfied: charset-normalizer<4,>=2 in /usr/local/lib/python3.10/dist-packages (from requests[socks]->gdown) (3.2.0)\n",
            "Requirement already satisfied: idna<4,>=2.5 in /usr/local/lib/python3.10/dist-packages (from requests[socks]->gdown) (3.4)\n",
            "Requirement already satisfied: urllib3<3,>=1.21.1 in /usr/local/lib/python3.10/dist-packages (from requests[socks]->gdown) (2.0.4)\n",
            "Requirement already satisfied: certifi>=2017.4.17 in /usr/local/lib/python3.10/dist-packages (from requests[socks]->gdown) (2023.7.22)\n",
            "Requirement already satisfied: PySocks!=1.5.7,>=1.5.6 in /usr/local/lib/python3.10/dist-packages (from requests[socks]->gdown) (1.7.1)\n"
          ]
        }
      ],
      "source": [
        "!pip install gdown"
      ]
    },
    {
      "cell_type": "code",
      "execution_count": 4,
      "metadata": {
        "colab": {
          "base_uri": "https://localhost:8080/",
          "height": 53
        },
        "id": "61Cg41SED-p1",
        "outputId": "0a901f62-e6d3-4caa-989a-aebd20ddb6e0"
      },
      "outputs": [
        {
          "output_type": "execute_result",
          "data": {
            "text/plain": [
              "'\\nhttps://drive.google.com/file/d/1-DTIOsUZVbmiGJZMMmLbcSN_NWuqSbql/view?usp=drivesdk\\nhttps://drive.google.com/file/d/1-FAL4G--bLerOPdtHWoUb2FelHAc-cRN/view?usp=drivesdk\\n'"
            ],
            "application/vnd.google.colaboratory.intrinsic+json": {
              "type": "string"
            }
          },
          "metadata": {},
          "execution_count": 4
        }
      ],
      "source": [
        "'''\n",
        "https://drive.google.com/file/d/1-DTIOsUZVbmiGJZMMmLbcSN_NWuqSbql/view?usp=drivesdk\n",
        "https://drive.google.com/file/d/1-FAL4G--bLerOPdtHWoUb2FelHAc-cRN/view?usp=drivesdk\n",
        "'''"
      ]
    },
    {
      "cell_type": "code",
      "execution_count": 5,
      "metadata": {
        "colab": {
          "base_uri": "https://localhost:8080/"
        },
        "id": "jyQVTshmD-p1",
        "outputId": "554c85f7-fcfc-41e2-9618-77469e73e52d"
      },
      "outputs": [
        {
          "output_type": "stream",
          "name": "stdout",
          "text": [
            "Downloading...\n",
            "From: https://drive.google.com/uc?id=1-DTIOsUZVbmiGJZMMmLbcSN_NWuqSbql\n",
            "To: /content/train.pkl\n",
            "100% 3.00M/3.00M [00:00<00:00, 44.5MB/s]\n",
            "Downloading...\n",
            "From: https://drive.google.com/uc?id=1-FAL4G--bLerOPdtHWoUb2FelHAc-cRN\n",
            "To: /content/test.pkl\n",
            "100% 638k/638k [00:00<00:00, 95.0MB/s]\n"
          ]
        }
      ],
      "source": [
        "!gdown 1-DTIOsUZVbmiGJZMMmLbcSN_NWuqSbql\n",
        "!gdown 1-FAL4G--bLerOPdtHWoUb2FelHAc-cRN"
      ]
    },
    {
      "cell_type": "code",
      "execution_count": 6,
      "metadata": {
        "id": "2vuTrza6kIsM"
      },
      "outputs": [],
      "source": [
        "FILE_PATH = \"train.pkl\"\n",
        "\n",
        "with open(FILE_PATH, 'rb') as f:\n",
        "    df_train = pickle.load(f)"
      ]
    },
    {
      "cell_type": "code",
      "execution_count": 7,
      "metadata": {
        "id": "AlFhBf7ekJBb"
      },
      "outputs": [],
      "source": [
        "FILE_PATH = \"test.pkl\"\n",
        "\n",
        "with open(FILE_PATH, 'rb') as f:\n",
        "    df_test = pickle.load(f)"
      ]
    },
    {
      "cell_type": "code",
      "execution_count": 8,
      "metadata": {
        "id": "clO-uksjkJUr"
      },
      "outputs": [],
      "source": [
        "df_train.reset_index(drop = True, inplace = True)\n",
        "df_test.reset_index(drop = True, inplace = True)"
      ]
    },
    {
      "cell_type": "code",
      "execution_count": 9,
      "metadata": {
        "id": "gKpirTH22SE2",
        "colab": {
          "base_uri": "https://localhost:8080/",
          "height": 206
        },
        "outputId": "0f641eaf-82df-476d-b456-2651d9e8ad8a"
      },
      "outputs": [
        {
          "output_type": "execute_result",
          "data": {
            "text/plain": [
              "                                               tweet  label  \\\n",
              "0  1996   يا مهند ياحبيبي انت تدور لبش مع اي احد ...      1   \n",
              "1  حلب عفرين  اعتقال عشرات الشباب من قريه باسوطه ...      3   \n",
              "2             انا نفسي مره اجرب اكون ليك حد اقرب : )      3   \n",
              "3  الصراحه احساس مخزي ونحن نكتفي بالتمثيل المشرف ...      3   \n",
              "4  57   عاجل الايطالي فابيو باسل يفوز بدهب الاولي...      0   \n",
              "\n",
              "                          tweet_with_replaced_emojis  \\\n",
              "0  1996   يا مهند ياحبيبي انت تدور لبش مع اي احد ...   \n",
              "1  حلب عفرين  اعتقال عشرات الشباب من قريه باسوطه ...   \n",
              "2             انا نفسي مره اجرب اكون ليك حد اقرب : )   \n",
              "3  الصراحه احساس مخزي ونحن نكتفي بالتمثيل المشرف ...   \n",
              "4  57   عاجل الايطالي فابيو باسل يفوز بدهب الاولي...   \n",
              "\n",
              "                   cleaned_data_with_replaced_emojis  \\\n",
              "0  يامهند ياحبيبي تدور لبش اي احد متاكد ابو جاسم ...   \n",
              "1  حلب عفرين اعتقال عشرات الشباب قريه باسوطه ريف ...   \n",
              "2                             مره اجرب اكون ليك اقرب   \n",
              "3  الصراحه احساس مخزي نكتفي بالتمثيل المشرف الاول...   \n",
              "4  عاجل الايطالي فابيو باسل يفوز بدهب الاوليمبياد...   \n",
              "\n",
              "                                      Light Stemming  \n",
              "0  يامهند ياحبيبي تدور لبش اي احد متاكد ابو جاسم ...  \n",
              "1  حلب عفر اعتقال عشر الشباب قريه باسوطه ريف عفر ...  \n",
              "2                             مره اجرب اكون ليك اقرب  \n",
              "3  الصراحه احساس مخزي نكتفي بالتمثيل المشرف الاول...  \n",
              "4  عاجل الايطالي فابيو باسل يفوز بدهب الاوليمبياد...  "
            ],
            "text/html": [
              "\n",
              "  <div id=\"df-47a25063-703a-44dd-81ab-a904629db186\" class=\"colab-df-container\">\n",
              "    <div>\n",
              "<style scoped>\n",
              "    .dataframe tbody tr th:only-of-type {\n",
              "        vertical-align: middle;\n",
              "    }\n",
              "\n",
              "    .dataframe tbody tr th {\n",
              "        vertical-align: top;\n",
              "    }\n",
              "\n",
              "    .dataframe thead th {\n",
              "        text-align: right;\n",
              "    }\n",
              "</style>\n",
              "<table border=\"1\" class=\"dataframe\">\n",
              "  <thead>\n",
              "    <tr style=\"text-align: right;\">\n",
              "      <th></th>\n",
              "      <th>tweet</th>\n",
              "      <th>label</th>\n",
              "      <th>tweet_with_replaced_emojis</th>\n",
              "      <th>cleaned_data_with_replaced_emojis</th>\n",
              "      <th>Light Stemming</th>\n",
              "    </tr>\n",
              "  </thead>\n",
              "  <tbody>\n",
              "    <tr>\n",
              "      <th>0</th>\n",
              "      <td>1996   يا مهند ياحبيبي انت تدور لبش مع اي احد ...</td>\n",
              "      <td>1</td>\n",
              "      <td>1996   يا مهند ياحبيبي انت تدور لبش مع اي احد ...</td>\n",
              "      <td>يامهند ياحبيبي تدور لبش اي احد متاكد ابو جاسم ...</td>\n",
              "      <td>يامهند ياحبيبي تدور لبش اي احد متاكد ابو جاسم ...</td>\n",
              "    </tr>\n",
              "    <tr>\n",
              "      <th>1</th>\n",
              "      <td>حلب عفرين  اعتقال عشرات الشباب من قريه باسوطه ...</td>\n",
              "      <td>3</td>\n",
              "      <td>حلب عفرين  اعتقال عشرات الشباب من قريه باسوطه ...</td>\n",
              "      <td>حلب عفرين اعتقال عشرات الشباب قريه باسوطه ريف ...</td>\n",
              "      <td>حلب عفر اعتقال عشر الشباب قريه باسوطه ريف عفر ...</td>\n",
              "    </tr>\n",
              "    <tr>\n",
              "      <th>2</th>\n",
              "      <td>انا نفسي مره اجرب اكون ليك حد اقرب : )</td>\n",
              "      <td>3</td>\n",
              "      <td>انا نفسي مره اجرب اكون ليك حد اقرب : )</td>\n",
              "      <td>مره اجرب اكون ليك اقرب</td>\n",
              "      <td>مره اجرب اكون ليك اقرب</td>\n",
              "    </tr>\n",
              "    <tr>\n",
              "      <th>3</th>\n",
              "      <td>الصراحه احساس مخزي ونحن نكتفي بالتمثيل المشرف ...</td>\n",
              "      <td>3</td>\n",
              "      <td>الصراحه احساس مخزي ونحن نكتفي بالتمثيل المشرف ...</td>\n",
              "      <td>الصراحه احساس مخزي نكتفي بالتمثيل المشرف الاول...</td>\n",
              "      <td>الصراحه احساس مخزي نكتفي بالتمثيل المشرف الاول...</td>\n",
              "    </tr>\n",
              "    <tr>\n",
              "      <th>4</th>\n",
              "      <td>57   عاجل الايطالي فابيو باسل يفوز بدهب الاولي...</td>\n",
              "      <td>0</td>\n",
              "      <td>57   عاجل الايطالي فابيو باسل يفوز بدهب الاولي...</td>\n",
              "      <td>عاجل الايطالي فابيو باسل يفوز بدهب الاوليمبياد...</td>\n",
              "      <td>عاجل الايطالي فابيو باسل يفوز بدهب الاوليمبياد...</td>\n",
              "    </tr>\n",
              "  </tbody>\n",
              "</table>\n",
              "</div>\n",
              "    <div class=\"colab-df-buttons\">\n",
              "\n",
              "  <div class=\"colab-df-container\">\n",
              "    <button class=\"colab-df-convert\" onclick=\"convertToInteractive('df-47a25063-703a-44dd-81ab-a904629db186')\"\n",
              "            title=\"Convert this dataframe to an interactive table.\"\n",
              "            style=\"display:none;\">\n",
              "\n",
              "  <svg xmlns=\"http://www.w3.org/2000/svg\" height=\"24px\" viewBox=\"0 -960 960 960\">\n",
              "    <path d=\"M120-120v-720h720v720H120Zm60-500h600v-160H180v160Zm220 220h160v-160H400v160Zm0 220h160v-160H400v160ZM180-400h160v-160H180v160Zm440 0h160v-160H620v160ZM180-180h160v-160H180v160Zm440 0h160v-160H620v160Z\"/>\n",
              "  </svg>\n",
              "    </button>\n",
              "\n",
              "  <style>\n",
              "    .colab-df-container {\n",
              "      display:flex;\n",
              "      gap: 12px;\n",
              "    }\n",
              "\n",
              "    .colab-df-convert {\n",
              "      background-color: #E8F0FE;\n",
              "      border: none;\n",
              "      border-radius: 50%;\n",
              "      cursor: pointer;\n",
              "      display: none;\n",
              "      fill: #1967D2;\n",
              "      height: 32px;\n",
              "      padding: 0 0 0 0;\n",
              "      width: 32px;\n",
              "    }\n",
              "\n",
              "    .colab-df-convert:hover {\n",
              "      background-color: #E2EBFA;\n",
              "      box-shadow: 0px 1px 2px rgba(60, 64, 67, 0.3), 0px 1px 3px 1px rgba(60, 64, 67, 0.15);\n",
              "      fill: #174EA6;\n",
              "    }\n",
              "\n",
              "    .colab-df-buttons div {\n",
              "      margin-bottom: 4px;\n",
              "    }\n",
              "\n",
              "    [theme=dark] .colab-df-convert {\n",
              "      background-color: #3B4455;\n",
              "      fill: #D2E3FC;\n",
              "    }\n",
              "\n",
              "    [theme=dark] .colab-df-convert:hover {\n",
              "      background-color: #434B5C;\n",
              "      box-shadow: 0px 1px 3px 1px rgba(0, 0, 0, 0.15);\n",
              "      filter: drop-shadow(0px 1px 2px rgba(0, 0, 0, 0.3));\n",
              "      fill: #FFFFFF;\n",
              "    }\n",
              "  </style>\n",
              "\n",
              "    <script>\n",
              "      const buttonEl =\n",
              "        document.querySelector('#df-47a25063-703a-44dd-81ab-a904629db186 button.colab-df-convert');\n",
              "      buttonEl.style.display =\n",
              "        google.colab.kernel.accessAllowed ? 'block' : 'none';\n",
              "\n",
              "      async function convertToInteractive(key) {\n",
              "        const element = document.querySelector('#df-47a25063-703a-44dd-81ab-a904629db186');\n",
              "        const dataTable =\n",
              "          await google.colab.kernel.invokeFunction('convertToInteractive',\n",
              "                                                    [key], {});\n",
              "        if (!dataTable) return;\n",
              "\n",
              "        const docLinkHtml = 'Like what you see? Visit the ' +\n",
              "          '<a target=\"_blank\" href=https://colab.research.google.com/notebooks/data_table.ipynb>data table notebook</a>'\n",
              "          + ' to learn more about interactive tables.';\n",
              "        element.innerHTML = '';\n",
              "        dataTable['output_type'] = 'display_data';\n",
              "        await google.colab.output.renderOutput(dataTable, element);\n",
              "        const docLink = document.createElement('div');\n",
              "        docLink.innerHTML = docLinkHtml;\n",
              "        element.appendChild(docLink);\n",
              "      }\n",
              "    </script>\n",
              "  </div>\n",
              "\n",
              "\n",
              "<div id=\"df-bb7f699f-88cd-4c7a-b928-e16cd593cfcb\">\n",
              "  <button class=\"colab-df-quickchart\" onclick=\"quickchart('df-bb7f699f-88cd-4c7a-b928-e16cd593cfcb')\"\n",
              "            title=\"Suggest charts.\"\n",
              "            style=\"display:none;\">\n",
              "\n",
              "<svg xmlns=\"http://www.w3.org/2000/svg\" height=\"24px\"viewBox=\"0 0 24 24\"\n",
              "     width=\"24px\">\n",
              "    <g>\n",
              "        <path d=\"M19 3H5c-1.1 0-2 .9-2 2v14c0 1.1.9 2 2 2h14c1.1 0 2-.9 2-2V5c0-1.1-.9-2-2-2zM9 17H7v-7h2v7zm4 0h-2V7h2v10zm4 0h-2v-4h2v4z\"/>\n",
              "    </g>\n",
              "</svg>\n",
              "  </button>\n",
              "\n",
              "<style>\n",
              "  .colab-df-quickchart {\n",
              "    background-color: #E8F0FE;\n",
              "    border: none;\n",
              "    border-radius: 50%;\n",
              "    cursor: pointer;\n",
              "    display: none;\n",
              "    fill: #1967D2;\n",
              "    height: 32px;\n",
              "    padding: 0 0 0 0;\n",
              "    width: 32px;\n",
              "  }\n",
              "\n",
              "  .colab-df-quickchart:hover {\n",
              "    background-color: #E2EBFA;\n",
              "    box-shadow: 0px 1px 2px rgba(60, 64, 67, 0.3), 0px 1px 3px 1px rgba(60, 64, 67, 0.15);\n",
              "    fill: #174EA6;\n",
              "  }\n",
              "\n",
              "  [theme=dark] .colab-df-quickchart {\n",
              "    background-color: #3B4455;\n",
              "    fill: #D2E3FC;\n",
              "  }\n",
              "\n",
              "  [theme=dark] .colab-df-quickchart:hover {\n",
              "    background-color: #434B5C;\n",
              "    box-shadow: 0px 1px 3px 1px rgba(0, 0, 0, 0.15);\n",
              "    filter: drop-shadow(0px 1px 2px rgba(0, 0, 0, 0.3));\n",
              "    fill: #FFFFFF;\n",
              "  }\n",
              "</style>\n",
              "\n",
              "  <script>\n",
              "    async function quickchart(key) {\n",
              "      const charts = await google.colab.kernel.invokeFunction(\n",
              "          'suggestCharts', [key], {});\n",
              "    }\n",
              "    (() => {\n",
              "      let quickchartButtonEl =\n",
              "        document.querySelector('#df-bb7f699f-88cd-4c7a-b928-e16cd593cfcb button');\n",
              "      quickchartButtonEl.style.display =\n",
              "        google.colab.kernel.accessAllowed ? 'block' : 'none';\n",
              "    })();\n",
              "  </script>\n",
              "</div>\n",
              "    </div>\n",
              "  </div>\n"
            ]
          },
          "metadata": {},
          "execution_count": 9
        }
      ],
      "source": [
        "df_train.head()"
      ]
    },
    {
      "cell_type": "code",
      "execution_count": 10,
      "metadata": {
        "id": "qL_UFV4NG6aw",
        "colab": {
          "base_uri": "https://localhost:8080/",
          "height": 246,
          "referenced_widgets": [
            "9b9c0e3195214c659e8eb525d93b3ba3",
            "bb6a553874a643b6857ba950b7066bd3",
            "f62d44c7dde9493ca9f6b9d335cf4232",
            "e3a0f344407548f4b33e28cc8e176503",
            "5cf624d7b86349cfa36fc65dd43b87e0",
            "4767e17a9c324d3e9599da5b12240397",
            "0d2ade87ef684caeb08229d67f48354d",
            "2a287113d6434a8b9daf588fbfda3a53",
            "257f37432d8f43b89c3ff06cb7e51f4f",
            "0823c20415d84cbfa39790768c4f115e",
            "b72bb07093c14b9e8f3aed7ee19848fc",
            "a510407cdda14f34b537ec920f973e54",
            "ceeda625dece402c9bb94e102f9ad2ad",
            "2cf9caf4ef54406e905b631e0b1899f3",
            "eabf7f29f5534e318a28e8a1c634023b",
            "13aa2af45aa64fe19dfb538399d4a67b",
            "17c3610035014c6393326f279ac84230",
            "369443d1e72b436ba88a58cefa9f157f",
            "084c4aa3c5e24790a88549f9f854c389",
            "3949efa074aa4a02bad606c10819bca4",
            "9a2d2e07114d4ddda430bb243cdcc8ca",
            "41a7bc92ae3a456494d84536f6e14672",
            "e3ae3e7d2b7947119fb2a52656eb30a2",
            "2d000f9af6054922a4c2fd450549fa8e",
            "058bdbff20cf42ff9b55d75a7a3b0e95",
            "d009ca83cc364f06ad91b07465cd19f9",
            "187a91cdeab543058951ef926bde9beb",
            "acb8f6838018413e84f123f4a09b1e8d",
            "ad91bc7f8dfc4e8ea3bce52289d98c13",
            "fc43a3259e6841a18760a33774899358",
            "7e34641c650840caa3ae06d58316dd0e",
            "6e3e7454ec1c48668f687c6da6b291ed",
            "c2095e480399409cb63ea084e58cab8a",
            "af9808a5336246adb2e12c3b56c2b891",
            "3907c706975442bf807d7afc2daf94cd",
            "13325fc6804b420da5fa8ca8695aab23",
            "4550b59a7dde48bb973cb85d959bc71a",
            "2281721b95b4414b896da4a1d97a15f5",
            "3409da18a52c40a3801924b4fa7acad1",
            "99d1dca0d77649da890c8dd3d55bf266",
            "656e18c56e7a47ef805a1568c5d9bcf9",
            "fef9254bda6f4a4285cd98cb25fa448b",
            "e264b8f21f31482e826acd2fc64a2a93",
            "79d659dfa2e6488fb81b73b41ce26495",
            "97d2bdd6896e4e60a0a7756156bdf75a",
            "0a2f6459794e45a7a0429c87ef68eb7d",
            "ae8a9c0b64b64ebaad67f15411b509f0",
            "97c4b0b3e696414ebfc3aec3fdd17e0d",
            "e95773d03f814f638d6c2c3eae213b77",
            "bf2369540fd9433b937d114077823ae7",
            "639b9014ab554bb3bf95f9d1cbf97779",
            "378176720dd7423c97ed38e385a2c34f",
            "5c48307e60ec400dac97f7cba8c90bc7",
            "3dc27cb21edd4a3db7af874f5ad6f6cb",
            "8ffa57462aeb4a118e213788f139c0d2"
          ]
        },
        "outputId": "01c1846a-f4dc-442b-c57e-21054a510ffd"
      },
      "outputs": [
        {
          "output_type": "display_data",
          "data": {
            "text/plain": [
              "Downloading (…)okenizer_config.json:   0%|          | 0.00/376 [00:00<?, ?B/s]"
            ],
            "application/vnd.jupyter.widget-view+json": {
              "version_major": 2,
              "version_minor": 0,
              "model_id": "9b9c0e3195214c659e8eb525d93b3ba3"
            }
          },
          "metadata": {}
        },
        {
          "output_type": "display_data",
          "data": {
            "text/plain": [
              "Downloading (…)lve/main/config.json:   0%|          | 0.00/701 [00:00<?, ?B/s]"
            ],
            "application/vnd.jupyter.widget-view+json": {
              "version_major": 2,
              "version_minor": 0,
              "model_id": "a510407cdda14f34b537ec920f973e54"
            }
          },
          "metadata": {}
        },
        {
          "output_type": "display_data",
          "data": {
            "text/plain": [
              "Downloading (…)solve/main/vocab.txt:   0%|          | 0.00/1.10M [00:00<?, ?B/s]"
            ],
            "application/vnd.jupyter.widget-view+json": {
              "version_major": 2,
              "version_minor": 0,
              "model_id": "e3ae3e7d2b7947119fb2a52656eb30a2"
            }
          },
          "metadata": {}
        },
        {
          "output_type": "display_data",
          "data": {
            "text/plain": [
              "Downloading (…)cial_tokens_map.json:   0%|          | 0.00/112 [00:00<?, ?B/s]"
            ],
            "application/vnd.jupyter.widget-view+json": {
              "version_major": 2,
              "version_minor": 0,
              "model_id": "af9808a5336246adb2e12c3b56c2b891"
            }
          },
          "metadata": {}
        },
        {
          "output_type": "display_data",
          "data": {
            "text/plain": [
              "Downloading tf_model.h5:   0%|          | 0.00/652M [00:00<?, ?B/s]"
            ],
            "application/vnd.jupyter.widget-view+json": {
              "version_major": 2,
              "version_minor": 0,
              "model_id": "97d2bdd6896e4e60a0a7756156bdf75a"
            }
          },
          "metadata": {}
        },
        {
          "output_type": "stream",
          "name": "stderr",
          "text": [
            "All model checkpoint layers were used when initializing TFBertModel.\n",
            "\n",
            "All the layers of TFBertModel were initialized from the model checkpoint at UBC-NLP/MARBERT.\n",
            "If your task is similar to the task the model of the checkpoint was trained on, you can already use TFBertModel for predictions without further training.\n"
          ]
        }
      ],
      "source": [
        "marbert_model_path = 'UBC-NLP/MARBERT'\n",
        "tokenizer = AutoTokenizer.from_pretrained(marbert_model_path, from_tf=True)\n",
        "marbert_model = TFAutoModel.from_pretrained(marbert_model_path, output_hidden_states=True)"
      ]
    },
    {
      "cell_type": "code",
      "execution_count": 11,
      "metadata": {
        "id": "wwcxfuKyn3Tf"
      },
      "outputs": [],
      "source": [
        "remove_special_tokens=1 #change this to 0 if you want to keep the special token\n",
        "stemtype = 'Light Stemming'"
      ]
    },
    {
      "cell_type": "code",
      "execution_count": 12,
      "metadata": {
        "id": "NuzA6W-nG_P9"
      },
      "outputs": [],
      "source": [
        "def bert_tokenize(text: str) -> dict:\n",
        "  tokens = tokenizer(text, padding='max_length', truncation=True, max_length=50)\n",
        "  if remove_special_tokens == 1:\n",
        "    shape = np.array(tokens['input_ids']).shape\n",
        "    modified_input_ids = np.zeros(shape).astype(np.int32)\n",
        "    modified_attention_mask = np.zeros(shape).astype(np.int32)\n",
        "    # Modify the input IDs and attention mask as per your requirement\n",
        "    for i in range(shape[0]):\n",
        "      modified_input_ids[i] = [0 if token_id == 1 else 0 if token_id == 3 else 0 if token_id == 0 else 0 if token_id == 2 else 0 if token_id == 4 else token_id for token_id in tokens['input_ids'][i]]\n",
        "      modified_attention_mask[i] = [0 if token_id in [1, 3, 0, 2, 4] else 1 for token_id in tokens['input_ids'][i]]\n",
        "    # Update the input IDs and attention mask in the tokens dictionary\n",
        "    tokens['input_ids'] = modified_input_ids\n",
        "    tokens['attention_mask'] = modified_attention_mask\n",
        "  return tokens"
      ]
    },
    {
      "cell_type": "code",
      "execution_count": 13,
      "metadata": {
        "id": "x9icYSzAHDJc"
      },
      "outputs": [],
      "source": [
        "def get_embeddings(ids, mask, type_ids):\n",
        "  ids = tf.convert_to_tensor(ids)\n",
        "  mask = tf.convert_to_tensor(mask)\n",
        "  type_ids = tf.convert_to_tensor(type_ids)\n",
        "  hidden_states = marbert_model(input_ids=ids, attention_mask=mask, token_type_ids=type_ids)[0]\n",
        "  averaged_embedding = tf.reduce_mean(hidden_states, axis=1)\n",
        "  return averaged_embedding.numpy()"
      ]
    },
    {
      "cell_type": "code",
      "execution_count": 14,
      "metadata": {
        "id": "Fk3mDsoPFZ6-"
      },
      "outputs": [],
      "source": [
        "label_to_class = [\n",
        "    'none',\n",
        "    'anger',\n",
        "    'joy',\n",
        "    'sadness',\n",
        "    'love',\n",
        "    'sympathy',\n",
        "    'surprise',\n",
        "    'fear'\n",
        "]\n",
        "label_to_class_dic = {\n",
        "    0:'none',\n",
        "    1:'anger',\n",
        "    2:'joy',\n",
        "    3:'sadness',\n",
        "    4:'love',\n",
        "    5:'sympathy',\n",
        "    6:'surprise',\n",
        "    7:'fear'\n",
        "}"
      ]
    },
    {
      "cell_type": "code",
      "execution_count": 15,
      "metadata": {
        "id": "2xW3WZbn2SE3"
      },
      "outputs": [],
      "source": [
        "def map_label_to_class(indices, classes):\n",
        "  return [classes[idx] for idx in indices]"
      ]
    },
    {
      "cell_type": "code",
      "execution_count": 16,
      "metadata": {
        "id": "FLpvTO3p2SE3"
      },
      "outputs": [],
      "source": [
        "def create_confusion_matrix(y_pred):\n",
        "  # creatin a confusion matrix\n",
        "  y_true = map_label_to_class(df_test['label'], label_to_class)\n",
        "  y_pred = map_label_to_class(y_pred, label_to_class)\n",
        "  cm = confusion_matrix(y_true, y_pred, labels=label_to_class)\n",
        "  # create a DataFrame for the confusion matrix with class names as index and columns\n",
        "  cm_df = pd.DataFrame(cm, index=label_to_class, columns=label_to_class)\n",
        "\n",
        "  # create a heatmap for visualization\n",
        "  plt.figure(figsize=(5, 5))\n",
        "  sns.heatmap(cm_df, annot=True, cmap='Blues', fmt='g')\n",
        "  plt.xlabel('Predicted')\n",
        "  plt.ylabel('True')\n",
        "  plt.title('Confusion Matrix')\n",
        "  plt.show()"
      ]
    },
    {
      "cell_type": "code",
      "execution_count": 17,
      "metadata": {
        "id": "vYs_XWjfn_n4"
      },
      "outputs": [],
      "source": [
        "x_train = df_train[stemtype].values.astype(str).tolist()\n",
        "x_train = bert_tokenize(x_train)\n",
        "\n",
        "xlen = np.array(x_train['input_ids']).shape[0]"
      ]
    },
    {
      "cell_type": "code",
      "execution_count": 18,
      "metadata": {
        "id": "EO4noTPVoCEi"
      },
      "outputs": [],
      "source": [
        "x_train_emb = np.zeros((xlen,768))\n",
        "for i in range(0,xlen,100):\n",
        "  if(i+100 < xlen):\n",
        "    input_ids = x_train['input_ids'][i:i+100]\n",
        "    attention_mask = x_train['attention_mask'][i:i+100]\n",
        "    token_type_ids = x_train['token_type_ids'][i:i+100]\n",
        "    x_train_emb[i:i+100] = get_embeddings(input_ids,attention_mask,token_type_ids)\n",
        "  else:\n",
        "    input_ids = x_train['input_ids'][i:xlen]\n",
        "    attention_mask = x_train['attention_mask'][i:xlen]\n",
        "    token_type_ids = x_train['token_type_ids'][i:xlen]\n",
        "    x_train_emb[i:xlen] = get_embeddings(input_ids,attention_mask,token_type_ids)"
      ]
    },
    {
      "cell_type": "code",
      "execution_count": 19,
      "metadata": {
        "id": "E-r2hxyooRy_"
      },
      "outputs": [],
      "source": [
        "x_test = df_test[stemtype].values.astype(str).tolist()\n",
        "x_test = bert_tokenize(x_test)\n",
        "\n",
        "xlen = np.array(x_test['input_ids']).shape[0]"
      ]
    },
    {
      "cell_type": "code",
      "execution_count": 20,
      "metadata": {
        "id": "MoHSe3uxoSjn"
      },
      "outputs": [],
      "source": [
        "x_test_emb = np.zeros((xlen,768))\n",
        "for i in range(0,xlen,100):\n",
        "  if(i+100 < xlen):\n",
        "    input_ids = x_test['input_ids'][i:i+100]\n",
        "    attention_mask = x_test['attention_mask'][i:i+100]\n",
        "    token_type_ids = x_test['token_type_ids'][i:i+100]\n",
        "    x_test_emb[i:i+100] = get_embeddings(input_ids,attention_mask,token_type_ids)\n",
        "  else:\n",
        "    input_ids = x_test['input_ids'][i:xlen]\n",
        "    attention_mask = x_test['attention_mask'][i:xlen]\n",
        "    token_type_ids = x_test['token_type_ids'][i:xlen]\n",
        "    x_test_emb[i:xlen] = get_embeddings(input_ids,attention_mask,token_type_ids)"
      ]
    },
    {
      "cell_type": "markdown",
      "metadata": {
        "id": "k5Ys46q6Ncfl"
      },
      "source": [
        "## Naive Bayes"
      ]
    },
    {
      "cell_type": "code",
      "execution_count": 63,
      "metadata": {
        "id": "AqHV1SK-pBSN",
        "colab": {
          "base_uri": "https://localhost:8080/"
        },
        "outputId": "9f3b6802-ed49-4b1a-9276-e7c426e46c05"
      },
      "outputs": [
        {
          "output_type": "stream",
          "name": "stdout",
          "text": [
            "Accuracy: 0.49205298013245036\n"
          ]
        }
      ],
      "source": [
        "nb_ls = GaussianNB(var_smoothing=1e-6)\n",
        "nb_ls.fit(x_train_emb, df_train['label'])\n",
        "\n",
        "# test accuracy of light stemming embeddings\n",
        "y_pred = nb_ls.predict(x_test_emb)\n",
        "# calculating the accuracy of the classifier\n",
        "accuracy = accuracy_score(df_test['label'], y_pred)\n",
        "print(\"Accuracy:\", accuracy)"
      ]
    },
    {
      "cell_type": "code",
      "execution_count": 64,
      "metadata": {
        "id": "byJeIe0rpDEf",
        "colab": {
          "base_uri": "https://localhost:8080/"
        },
        "outputId": "6e2043d3-a7e7-4ac5-f107-1cbb2daf0f20"
      },
      "outputs": [
        {
          "output_type": "stream",
          "name": "stdout",
          "text": [
            "              precision    recall  f1-score   support\n",
            "\n",
            "        none       0.54      0.84      0.66       229\n",
            "       anger       0.43      0.56      0.48       200\n",
            "         joy       0.38      0.28      0.32       205\n",
            "     sadness       0.34      0.25      0.29       185\n",
            "        love       0.49      0.62      0.54       193\n",
            "    sympathy       0.65      0.50      0.57       156\n",
            "    surprise       0.36      0.27      0.30       154\n",
            "        fear       0.77      0.53      0.63       188\n",
            "\n",
            "    accuracy                           0.49      1510\n",
            "   macro avg       0.49      0.48      0.47      1510\n",
            "weighted avg       0.49      0.49      0.48      1510\n",
            "\n"
          ]
        }
      ],
      "source": [
        "print(classification_report(df_test['label'], y_pred, target_names = label_to_class))"
      ]
    },
    {
      "cell_type": "code",
      "execution_count": 65,
      "metadata": {
        "id": "w7Ivu541pDSY",
        "colab": {
          "base_uri": "https://localhost:8080/",
          "height": 542
        },
        "outputId": "c20a1d25-7264-4e57-e616-0d1f6b6e4831"
      },
      "outputs": [
        {
          "output_type": "display_data",
          "data": {
            "text/plain": [
              "<Figure size 500x500 with 2 Axes>"
            ],
            "image/png": "[encoded data removed]"
          },
          "metadata": {}
        }
      ],
      "source": [
        "create_confusion_matrix(y_pred)"
      ]
    },
    {
      "cell_type": "markdown",
      "source": [
        "## MultinomialNB"
      ],
      "metadata": {
        "id": "I_kZUQDpdD47"
      }
    },
    {
      "cell_type": "code",
      "source": [
        "from sklearn.feature_extraction.text import CountVectorizer\n",
        "# Create a CountVectorizer\n",
        "vectorizer = CountVectorizer()\n",
        "\n",
        "# Transform the text data into a document-term matrix\n",
        "X_train_counts = vectorizer.fit_transform(df_train[\"Light Stemming\"])\n",
        "X_test_counts = vectorizer.transform(df_test[\"Light Stemming\"])\n",
        "\n",
        "# Create and train a Multinomial Naive Bayes classifier\n",
        "classifier = MultinomialNB()\n",
        "classifier.fit(X_train_counts, df_train[\"label\"])\n",
        "\n",
        "# Predict labels for the test set\n",
        "y_pred_mn = classifier.predict(X_test_counts)\n",
        "\n",
        "# Evaluate the classifier\n",
        "accuracy = accuracy_score(df_test[\"label\"], y_pred_mn)\n",
        "print(\"Accuracy:\", accuracy)"
      ],
      "metadata": {
        "colab": {
          "base_uri": "https://localhost:8080/"
        },
        "id": "s13TrzUJdGvb",
        "outputId": "72c0ceb5-2e1a-41ad-9023-751d88a76dfc"
      },
      "execution_count": 66,
      "outputs": [
        {
          "output_type": "stream",
          "name": "stdout",
          "text": [
            "Accuracy: 0.6185430463576159\n"
          ]
        }
      ]
    },
    {
      "cell_type": "markdown",
      "metadata": {
        "id": "-fMzkWr2J9CC"
      },
      "source": [
        "## LIME"
      ]
    },
    {
      "cell_type": "code",
      "execution_count": 67,
      "metadata": {
        "id": "rvnBVKthegIs"
      },
      "outputs": [],
      "source": [
        "def model_predict(text):\n",
        "  tokens = bert_tokenize(text)\n",
        "  xlen = np.array(tokens['input_ids']).shape[0]\n",
        "  x_emb = np.zeros((xlen,768))\n",
        "  for i in range(0,xlen,100):\n",
        "    if(i+100 < xlen):\n",
        "      input_ids = tokens['input_ids'][i:i+100]\n",
        "      attention_mask = tokens['attention_mask'][i:i+100]\n",
        "      token_type_ids = tokens['token_type_ids'][i:i+100]\n",
        "      x_emb[i:i+100] = get_embeddings(input_ids,attention_mask,token_type_ids)\n",
        "    else:\n",
        "      input_ids = tokens['input_ids'][i:xlen]\n",
        "      attention_mask = tokens['attention_mask'][i:xlen]\n",
        "      token_type_ids = tokens['token_type_ids'][i:xlen]\n",
        "      x_emb[i:xlen] = get_embeddings(input_ids,attention_mask,token_type_ids)\n",
        "  return nb_ls.predict_proba(x_emb)"
      ]
    },
    {
      "cell_type": "markdown",
      "metadata": {
        "id": "MQ5FCpgfKVdk"
      },
      "source": [
        "## SHAP"
      ]
    },
    {
      "cell_type": "code",
      "execution_count": 68,
      "metadata": {
        "id": "18IRAMPu2MQ1"
      },
      "outputs": [],
      "source": [
        "def shap_model_predict(text):\n",
        "  text = text.astype(str).tolist()\n",
        "  tokens = bert_tokenize(text)\n",
        "  xlen = np.array(tokens['input_ids']).shape[0]\n",
        "  x_emb = np.zeros((xlen,768))\n",
        "  for i in range(0,xlen,100):\n",
        "    if(i+100 < xlen):\n",
        "      input_ids = tokens['input_ids'][i:i+100]\n",
        "      attention_mask = tokens['attention_mask'][i:i+100]\n",
        "      token_type_ids = tokens['token_type_ids'][i:i+100]\n",
        "      x_emb[i:i+100] = get_embeddings(input_ids,attention_mask,token_type_ids)\n",
        "    else:\n",
        "      input_ids = tokens['input_ids'][i:xlen]\n",
        "      attention_mask = tokens['attention_mask'][i:xlen]\n",
        "      token_type_ids = tokens['token_type_ids'][i:xlen]\n",
        "      x_emb[i:xlen] = get_embeddings(input_ids,attention_mask,token_type_ids)\n",
        "  return nb_ls.predict_proba(x_emb)"
      ]
    },
    {
      "cell_type": "code",
      "execution_count": 69,
      "metadata": {
        "id": "Ck6Tve8E2V_D"
      },
      "outputs": [],
      "source": [
        "'''\n",
        "function that initializes shap with the appropriate model\n",
        "parameters\n",
        "model: an instance of your model, ex: LogisticRegression instance\n",
        "'''\n",
        "def initializeShap(model):\n",
        "  # split input text into tokens\n",
        "  masker = shap.maskers.Text(tokenizer=r\"\\W+\")\n",
        "  explainer = shap.Explainer(shap_model_predict, masker=masker, output_names=label_to_class)\n",
        "  return explainer"
      ]
    },
    {
      "cell_type": "markdown",
      "metadata": {
        "id": "0QokLx9yD-qL"
      },
      "source": [
        "## Exploration"
      ]
    },
    {
      "cell_type": "code",
      "execution_count": 70,
      "metadata": {
        "id": "VX26J8jpd6LY"
      },
      "outputs": [],
      "source": [
        "nb_explainer = initializeShap(model=nb_ls)"
      ]
    },
    {
      "cell_type": "code",
      "execution_count": 71,
      "metadata": {
        "id": "hyIL4zlr4Ar7"
      },
      "outputs": [],
      "source": [
        "def explain_example_lime(i, class_to_explain):\n",
        "  instance = df_test[\"Light Stemming\"].iloc[i]\n",
        "  print(df_test[\"tweet\"].iloc[i])\n",
        "  explainer = LimeTextExplainer(class_names=label_to_class)\n",
        "  explanation = explainer.explain_instance(instance, model_predict, num_features=10, labels=[class_to_explain])\n",
        "  explanation.show_in_notebook()"
      ]
    },
    {
      "cell_type": "code",
      "execution_count": 72,
      "metadata": {
        "id": "zvjTJiWhcOtd"
      },
      "outputs": [],
      "source": [
        "def explain_example_shap(i, class_to_explain):\n",
        "  instance = df_test[\"Light Stemming\"].iloc[i:i+1].values.astype(str).tolist()\n",
        "  print(df_test[\"tweet\"].iloc[i])\n",
        "  shap_values = nb_explainer(instance)\n",
        "  # waterfall plot\n",
        "  shap.plots.waterfall(shap_values[0][:, class_to_explain])"
      ]
    },
    {
      "cell_type": "code",
      "execution_count": 73,
      "metadata": {
        "id": "BPpW5-iH9JxI"
      },
      "outputs": [],
      "source": [
        "y_true = df_test['label']"
      ]
    },
    {
      "cell_type": "code",
      "execution_count": 74,
      "metadata": {
        "id": "OMIgANRwMqNG"
      },
      "outputs": [],
      "source": [
        "# get correctly and incorrectly classified examples\n",
        "correctly_classified, incorrectly_classified = [], []\n",
        "for i in range(len(y_true)):\n",
        "  if y_pred[i] == y_true[i]:  correctly_classified.append(i)\n",
        "  else: incorrectly_classified.append(i)"
      ]
    },
    {
      "cell_type": "markdown",
      "metadata": {
        "id": "hJTO1PIqNdY7"
      },
      "source": [
        "## find specific words"
      ]
    },
    {
      "cell_type": "markdown",
      "metadata": {
        "id": "99hOwkmPOKbO"
      },
      "source": [
        "### loop through all incorrectly classifies examples and exctract the most common words that led to the wrong classfication"
      ]
    },
    {
      "cell_type": "code",
      "execution_count": 75,
      "metadata": {
        "id": "PUK_0uvMN8E_"
      },
      "outputs": [],
      "source": [
        "def get_word_frequency(df):\n",
        "  # creating a dictionary to hold the number of times a specific word occurs\n",
        "  word_frequency = {}\n",
        "  for idx in incorrectly_classified:\n",
        "    # tokenizing the words\n",
        "    words_to_add = word_tokenize(df.iloc[idx])\n",
        "    # looping through each word in list\n",
        "    for word in words_to_add:\n",
        "      if word in word_frequency:\n",
        "        word_frequency[word] += 1\n",
        "      else: word_frequency[word] = 1\n",
        "  # soring the dictionary from most common words to least common\n",
        "  sorted_list = sorted(word_frequency.items(), key=lambda word: word[1], reverse=True)\n",
        "  return sorted_list"
      ]
    },
    {
      "cell_type": "code",
      "execution_count": 76,
      "metadata": {
        "id": "N-RT_VUOOy2A"
      },
      "outputs": [],
      "source": [
        "word_freq = get_word_frequency(df_test[\"Light Stemming\"])"
      ]
    },
    {
      "cell_type": "code",
      "execution_count": 77,
      "metadata": {
        "id": "Le2HiBb_OzzW",
        "colab": {
          "base_uri": "https://localhost:8080/"
        },
        "outputId": "14f6f52a-32e6-4566-cecb-fc01fe9ac781"
      },
      "outputs": [
        {
          "output_type": "stream",
          "name": "stdout",
          "text": [
            "[('الاوليمبياد', 191), ('حزن', 80), ('اللي', 69), ('لا', 65), ('سخريه', 63), ('الله', 61), ('حب', 59), ('مصر', 48), ('فرح', 44), ('مش', 44)]\n"
          ]
        }
      ],
      "source": [
        "# getting 10 most common words\n",
        "print(word_freq[:10])"
      ]
    },
    {
      "cell_type": "markdown",
      "metadata": {
        "id": "uQ188XxxUOx8"
      },
      "source": [
        "### as we can see above are the most common words that lead to missclassification, lets try to understand why?"
      ]
    },
    {
      "cell_type": "code",
      "execution_count": 78,
      "metadata": {
        "id": "Ty45sXkmQ11d"
      },
      "outputs": [],
      "source": [
        "# see how the words above influence the classes\n",
        "def word_occurance(word, df, y_pred):\n",
        "  label_dic = {0:0, 1:0, 2:0, 3:0, 4:0, 5:0, 6:0, 7:0}\n",
        "  for idx in incorrectly_classified:\n",
        "    if word in df.iloc[idx]:\n",
        "      label_dic[y_pred[idx]] += 1\n",
        "  # create a new dictionary using label_to_class as keys\n",
        "  new_dict = {label: label_dic.get(index, 0) for index, label in enumerate(label_to_class)}\n",
        "  return new_dict"
      ]
    },
    {
      "cell_type": "code",
      "execution_count": 79,
      "metadata": {
        "id": "dU6-xCppYX26",
        "colab": {
          "base_uri": "https://localhost:8080/"
        },
        "outputId": "b8819f0a-0ee0-46d9-dfbc-349a754b2bb8"
      },
      "outputs": [
        {
          "output_type": "stream",
          "name": "stdout",
          "text": [
            "['الاوليمبياد', 'حزن', 'اللي', 'لا', 'سخريه', 'الله', 'حب', 'مصر', 'فرح', 'مش']\n"
          ]
        }
      ],
      "source": [
        "problamatic_words = [word[0] for word in word_freq[:10]]\n",
        "print(problamatic_words)"
      ]
    },
    {
      "cell_type": "code",
      "execution_count": 80,
      "metadata": {
        "id": "obRfjhCvWmUS",
        "colab": {
          "base_uri": "https://localhost:8080/"
        },
        "outputId": "92b65e20-894d-4113-d37a-1bf3d4c94b5b"
      },
      "outputs": [
        {
          "output_type": "stream",
          "name": "stdout",
          "text": [
            "Classes for Word الاوليمبياد:\n",
            "{'none': 127, 'anger': 14, 'joy': 16, 'sadness': 13, 'love': 3, 'sympathy': 1, 'surprise': 12, 'fear': 1}\n",
            "\n",
            "Classes for Word حزن:\n",
            "{'none': 3, 'anger': 9, 'joy': 6, 'sadness': 11, 'love': 21, 'sympathy': 3, 'surprise': 4, 'fear': 1}\n",
            "\n",
            "Classes for Word اللي:\n",
            "{'none': 27, 'anger': 10, 'joy': 6, 'sadness': 12, 'love': 5, 'sympathy': 1, 'surprise': 9, 'fear': 2}\n",
            "\n",
            "Classes for Word لا:\n",
            "{'none': 142, 'anger': 86, 'joy': 37, 'sadness': 62, 'love': 59, 'sympathy': 24, 'surprise': 34, 'fear': 7}\n",
            "\n",
            "Classes for Word سخريه:\n",
            "{'none': 11, 'anger': 6, 'joy': 4, 'sadness': 4, 'love': 2, 'sympathy': 0, 'surprise': 3, 'fear': 2}\n",
            "\n",
            "Classes for Word الله:\n",
            "{'none': 12, 'anger': 21, 'joy': 10, 'sadness': 10, 'love': 13, 'sympathy': 10, 'surprise': 4, 'fear': 4}\n",
            "\n",
            "Classes for Word حب:\n",
            "{'none': 8, 'anger': 13, 'joy': 16, 'sadness': 14, 'love': 35, 'sympathy': 3, 'surprise': 4, 'fear': 3}\n",
            "\n",
            "Classes for Word مصر:\n",
            "{'none': 46, 'anger': 13, 'joy': 2, 'sadness': 5, 'love': 2, 'sympathy': 1, 'surprise': 2, 'fear': 0}\n",
            "\n",
            "Classes for Word فرح:\n",
            "{'none': 13, 'anger': 5, 'joy': 10, 'sadness': 7, 'love': 3, 'sympathy': 0, 'surprise': 1, 'fear': 1}\n",
            "\n",
            "Classes for Word مش:\n",
            "{'none': 33, 'anger': 16, 'joy': 3, 'sadness': 13, 'love': 3, 'sympathy': 2, 'surprise': 13, 'fear': 3}\n",
            "\n"
          ]
        }
      ],
      "source": [
        "for word in problamatic_words:\n",
        "  dic = word_occurance(word, df_test[\"Light Stemming\"], y_pred)\n",
        "  print(f\"Classes for Word {word}:\\n{dic}\", end=\"\\n\\n\")"
      ]
    },
    {
      "cell_type": "code",
      "execution_count": 81,
      "metadata": {
        "id": "LIuGQwxIAnZq"
      },
      "outputs": [],
      "source": [
        "def show_example(idx):\n",
        "  print(f\"True Label {label_to_class_dic[y_true[idx]]} - Predicted Label {label_to_class_dic[y_pred[idx]]}\")\n",
        "  print(f\"Explaining according to label {label_to_class_dic[y_pred[idx]]}\")\n",
        "  print(df_test[\"tweet\"].iloc[idx])\n",
        "  print(df_test[\"Light Stemming\"].iloc[idx])"
      ]
    },
    {
      "cell_type": "code",
      "execution_count": 82,
      "metadata": {
        "id": "u8Bj5DhMEdpO"
      },
      "outputs": [],
      "source": [
        "def explain_example(idx, explainer=\"lime\"):\n",
        "  print(f\"True Label {label_to_class_dic[y_true[idx]]} - Predicted Label {label_to_class_dic[y_pred[idx]]}\")\n",
        "  print(f\"Explaining according to label {label_to_class_dic[y_pred[idx]]}\")\n",
        "  if explainer == \"shap\":\n",
        "    explain_example_shap(idx, y_pred[idx])\n",
        "  else: explain_example_lime(idx, y_pred[idx])"
      ]
    },
    {
      "cell_type": "markdown",
      "metadata": {
        "id": "Y7hL3EH_VWjS"
      },
      "source": [
        "## short statements"
      ]
    },
    {
      "cell_type": "code",
      "execution_count": 83,
      "metadata": {
        "id": "hfCC2hjBVTMp"
      },
      "outputs": [],
      "source": [
        "short_statements = []\n",
        "for i in range(len(df_test)):\n",
        "  if len(df_test[\"Light Stemming\"].iloc[i]) <= 5:\n",
        "    short_statements.append(i)"
      ]
    },
    {
      "cell_type": "code",
      "execution_count": 84,
      "metadata": {
        "id": "Og_2D63xpLea",
        "colab": {
          "base_uri": "https://localhost:8080/"
        },
        "outputId": "9dd585ec-9dce-431e-f751-1f5281f35fc2"
      },
      "outputs": [
        {
          "output_type": "execute_result",
          "data": {
            "text/plain": [
              "16"
            ]
          },
          "metadata": {},
          "execution_count": 84
        }
      ],
      "source": [
        "len(short_statements)"
      ]
    },
    {
      "cell_type": "code",
      "source": [
        "# see how the words above influence the classes\n",
        "def word_occurance_train(word, df, df_label):\n",
        "  examples = [[] for i in range(8)]\n",
        "  label_dic = {0:0, 1:0, 2:0, 3:0, 4:0, 5:0, 6:0, 7:0}\n",
        "  for idx in range(len(df)):\n",
        "    if word in df.iloc[idx]:\n",
        "      label_dic[df_label.iloc[idx]] += 1\n",
        "      examples[df_label.iloc[idx]].append(df.iloc[idx] + f\" label: {label_to_class[df_label.iloc[idx]]}\")\n",
        "  # create a new dictionary using label_to_class as keys\n",
        "  new_dict = {label: label_dic.get(index, 0) for index, label in enumerate(label_to_class)}\n",
        "  return new_dict, examples"
      ],
      "metadata": {
        "id": "dbpt8Oy4vkSN"
      },
      "execution_count": 85,
      "outputs": []
    },
    {
      "cell_type": "code",
      "execution_count": 86,
      "metadata": {
        "id": "28eyh4Vhjz59",
        "colab": {
          "base_uri": "https://localhost:8080/"
        },
        "outputId": "d2d0d489-add6-4380-aac8-aa4d4fbb3114"
      },
      "outputs": [
        {
          "output_type": "stream",
          "name": "stdout",
          "text": [
            "NAME?\n",
            "\n",
            "True Label: none - Predicted Label: fear\n"
          ]
        }
      ],
      "source": [
        "idx = 0\n",
        "print(df_test[\"tweet\"].iloc[short_statements[idx]])\n",
        "print(df_test[\"Light Stemming\"].iloc[short_statements[idx]])\n",
        "print(f\"True Label: {label_to_class_dic[y_true[short_statements[idx]]]} - Predicted Label: {label_to_class_dic[y_pred[short_statements[idx]]]}\")"
      ]
    },
    {
      "cell_type": "code",
      "execution_count": 87,
      "metadata": {
        "id": "rkGzAwP8n_x5",
        "colab": {
          "base_uri": "https://localhost:8080/"
        },
        "outputId": "b9ce3ac6-f8ed-4333-a530-e05ff534a47a"
      },
      "outputs": [
        {
          "output_type": "stream",
          "name": "stdout",
          "text": [
            "lolo123   sabah   صباح الفل\n",
            "الفل\n",
            "True Label: joy\n",
            "Predicted Label using GaussianNB: joy\n",
            "Predicted Label using MultinomialNB: joy\n"
          ]
        }
      ],
      "source": [
        "idx = 1\n",
        "print(df_test[\"tweet\"].iloc[short_statements[idx]])\n",
        "print(df_test[\"Light Stemming\"].iloc[short_statements[idx]])\n",
        "print(f\"True Label: {label_to_class_dic[y_true[short_statements[idx]]]}\")\n",
        "print(f\"Predicted Label using GaussianNB: {label_to_class_dic[y_pred[short_statements[idx]]]}\")\n",
        "print(f\"Predicted Label using MultinomialNB: {label_to_class_dic[y_pred_mn[short_statements[idx]]]}\")"
      ]
    },
    {
      "cell_type": "code",
      "source": [
        "new_dict, examples = word_occurance_train(\"الفل\", df_train[\"Light Stemming\"], df_train[\"label\"])\n",
        "print(new_dict)\n",
        "for label_ex in examples:\n",
        "  for ex in label_ex: print(ex)"
      ],
      "metadata": {
        "colab": {
          "base_uri": "https://localhost:8080/"
        },
        "id": "SE4zahCo2ReQ",
        "outputId": "f69230f8-c1eb-4a34-99d5-0940840e300a"
      },
      "execution_count": 45,
      "outputs": [
        {
          "output_type": "stream",
          "name": "stdout",
          "text": [
            "{'none': 2, 'anger': 5, 'joy': 2, 'sadness': 4, 'love': 2, 'sympathy': 3, 'surprise': 4, 'fear': 0}\n",
            "الفل ياابراهيم تكلم شويه سيرجي بوبكا واليكسندر كارل بمناسبه الاوليمبياد label: none\n",
            "افتتاح الالعاب الاوليمبياد ريو جانيرو البرازيل دخول الفريق الفلسطي label: none\n",
            "لا تتريق ياالفله شف وجهك اول وبعد وش دخل ال سعود الموضوع label: anger\n",
            "الانكشاري اردوغ يعري الجنود الاتراك فعلت اسرائيل بالسجناء الفلسطين اريحا النازي الامريك سجن label: anger\n",
            "اليهود انفس يتبر العصابه الصهيونيه المحتله للاراضي الفلسطينيه سعودي ضد التطبيع label: anger\n",
            "ماخذبالقوه لن يستردالابالقوه والصهاينه اغتصبو فلسط بالقوه بدعم الاستعمار وتواطيءوتخاذل العرب وخيانه الفلسطين label: anger\n",
            "للاسف الان الفلسطين نتم تجريد العرب السنت خونت حتي نستطيع تحرير القدس وفلسط لوحد يطعن العرب label: anger\n",
            "اشطه لول ياوي نتايج حلوه الاوليمبياد والبلد زي الفل وماشيه نجاح وانا بحب احارب النجاح اللي سخريه سخريه فرح label: joy\n",
            "لا خالص الكنت بضحك الفل label: joy\n",
            "اول سافرت مصر حصلي دروب صعب والفلوس اللي معا اتسرقت ومكانش مكان انام والحياه قفلت وشي label: sadness\n",
            "لحظات العصيبه قلوب تهفو وعيون تدمع لاجل الفلوجه فيارب سلم معتد وغادر اقتحام الفلوجه label: sadness\n",
            "البدري فرغلي ياخسارتك يامصر الجنسيه هتتباع بالفلوس ولسه ياما هنشوف لسه العميل القزم العوض label: sadness\n",
            "تايو والفلب وكسوفو حقق ميدالي ذهبيه امس الاوليمبياد واح اصحاب سنه حضاره بندور التمثيل المشرف كفايه قله ادب وكوسه بقي label: sadness\n",
            "لاصدقائي مروا بحياتي لقلوب الصافيه لهام الف دعوه بالتوفيق والفلاح احب جميعا صديقتي عطر ولقاء label: love\n",
            "لاصدقائي مروا بحياتي لقلوب الصافيه لهام الف دعوه بالتوفيق والفلاح احب جميعا صديقتي عطر ولقاء label: love\n",
            "لا قوه الا بالله محمود عبد العزيز حقيقي الناس اللي بعشق الفلام القديمه عشق وافلامه ليها عشق خاص label: sympathy\n",
            "مراكز الكلي مش لاقيه لوازم وبتقفل الادويه اللبن المحاليل والفلاتر مرضي الغسيل الكلوي حيموت المرضي اهم كتير العاصمه الاداريه label: sympathy\n",
            "ذبيح الفلوجه كاظم الركابي اهالي قلعه سكر الناصريه ترك ايتام وبالمناسبه لا احد تكلم لا احد وصل صوت اهله الله يرحمه label: sympathy\n",
            "الفل بقوا كتير كدا ليه مش ممكن label: surprise\n",
            "تقريبا بتفرج لاعب مصري الاوليمبياد بنحسه وبيخسر العيال بتبقي ماشيه زي الفل اول افتح القناه الاقي بيموت خالص فرح label: surprise\n",
            "اليم اسرائيل سيجن قصيده لبيرم الداعشي وزير الدفاع جن جنونه لاذاعه قصيده الشاعر الفلسطي العظيم label: surprise\n",
            "مش اعتراض خلقه ربنا خالص ازاي عامله حواجب بالفلوماستر باين label: surprise\n"
          ]
        }
      ]
    },
    {
      "cell_type": "code",
      "execution_count": 88,
      "metadata": {
        "id": "crtEXCyeoB6V",
        "colab": {
          "base_uri": "https://localhost:8080/"
        },
        "outputId": "45f7a674-eabb-4ff8-a5f8-f3b644823faf"
      },
      "outputs": [
        {
          "output_type": "stream",
          "name": "stdout",
          "text": [
            "انا سعيده.\n",
            "سعيده\n",
            "True Label: joy\n",
            "Predicted Label using GaussianNB: fear\n",
            "Predicted Label using MultinomialNB: joy\n"
          ]
        }
      ],
      "source": [
        "idx = 2\n",
        "print(df_test[\"tweet\"].iloc[short_statements[idx]])\n",
        "print(df_test[\"Light Stemming\"].iloc[short_statements[idx]])\n",
        "print(f\"True Label: {label_to_class_dic[y_true[short_statements[idx]]]}\")\n",
        "print(f\"Predicted Label using GaussianNB: {label_to_class_dic[y_pred[short_statements[idx]]]}\")\n",
        "print(f\"Predicted Label using MultinomialNB: {label_to_class_dic[y_pred_mn[short_statements[idx]]]}\")"
      ]
    },
    {
      "cell_type": "code",
      "source": [
        "new_dict, examples = word_occurance_train(\"سعيده\", df_train[\"Light Stemming\"], df_train[\"label\"])\n",
        "print(new_dict)\n",
        "for label_ex in examples:\n",
        "  for ex in label_ex: print(ex)"
      ],
      "metadata": {
        "colab": {
          "base_uri": "https://localhost:8080/"
        },
        "id": "K6AIyOoV3LOb",
        "outputId": "402710e8-2488-4939-edde-c84afe93c642"
      },
      "execution_count": 89,
      "outputs": [
        {
          "output_type": "stream",
          "name": "stdout",
          "text": [
            "{'none': 0, 'anger': 0, 'joy': 4, 'sadness': 0, 'love': 1, 'sympathy': 0, 'surprise': 0, 'fear': 0}\n",
            "سنه وانت طيب وسنه سعيده عليك يارب وداي متجمع المحبه label: joy\n",
            "سنه وانت طيب ياصاحبي وعقبال سنه ويارب سنه سعيده وتحقق احلامك حب راي label: joy\n",
            "اتم امسيه سعيده فرح وسرور label: joy\n",
            "الحاج السعيده اللي حصلت الاسبوع برضو ديلبوترو طلع اللطخ نوڤاك الدور الاول الاوليمبياد label: joy\n",
            "اللحظ السعيده بصحبه نحب صباحي انتم صباح حب حب label: love\n"
          ]
        }
      ]
    },
    {
      "cell_type": "code",
      "execution_count": 91,
      "metadata": {
        "id": "BnVztLetoEyY",
        "colab": {
          "base_uri": "https://localhost:8080/"
        },
        "outputId": "8706469b-f475-43de-8bb3-9d875a8433db"
      },
      "outputs": [
        {
          "output_type": "stream",
          "name": "stdout",
          "text": [
            "وقلبي معكم ...\n",
            "وقلبي\n",
            "True Label: sympathy\n",
            "Predicted Label using GaussianNB: sympathy\n",
            "Predicted Label using MultinomialNB: love\n"
          ]
        }
      ],
      "source": [
        "idx = 3\n",
        "print(df_test[\"tweet\"].iloc[short_statements[idx]])\n",
        "print(df_test[\"Light Stemming\"].iloc[short_statements[idx]])\n",
        "print(f\"True Label: {label_to_class_dic[y_true[short_statements[idx]]]}\")\n",
        "print(f\"Predicted Label using GaussianNB: {label_to_class_dic[y_pred[short_statements[idx]]]}\")\n",
        "print(f\"Predicted Label using MultinomialNB: {label_to_class_dic[y_pred_mn[short_statements[idx]]]}\")"
      ]
    },
    {
      "cell_type": "code",
      "source": [
        "new_dict, examples = word_occurance_train(\"وقلبي\", df_train[\"Light Stemming\"], df_train[\"label\"])\n",
        "print(new_dict)\n",
        "for label_ex in examples:\n",
        "  for ex in label_ex: print(ex)"
      ],
      "metadata": {
        "colab": {
          "base_uri": "https://localhost:8080/"
        },
        "id": "dpq1ENoRiDqH",
        "outputId": "b6f3878c-3442-4374-c553-63d71478b72d"
      },
      "execution_count": 92,
      "outputs": [
        {
          "output_type": "stream",
          "name": "stdout",
          "text": [
            "{'none': 0, 'anger': 0, 'joy': 0, 'sadness': 0, 'love': 2, 'sympathy': 0, 'surprise': 0, 'fear': 1}\n",
            "ويظن اني امي لغي ره اني وقلبي باسمه مكتوب شربت الحب الا مره والكل كاسه مسكوب شعر حب label: love\n",
            "عيون صغيره وقلبي يعشق تحمل الملامح ابي شهد العسل محيا وحروف اسم الدليل درب الصداقه للدعم label: love\n",
            "امانه شعور يقهر خايفه مدري ايش يدي ترجف وقلبي يوجع وحرارتي ارتفعت مدري شفي وجع خلاص label: fear\n"
          ]
        }
      ]
    },
    {
      "cell_type": "code",
      "source": [
        "idx = 4\n",
        "print(df_test[\"tweet\"].iloc[short_statements[idx]])\n",
        "print(df_test[\"Light Stemming\"].iloc[short_statements[idx]])\n",
        "print(f\"True Label: {label_to_class_dic[y_true[short_statements[idx]]]}\")\n",
        "print(f\"Predicted Label using GaussianNB: {label_to_class_dic[y_pred[short_statements[idx]]]}\")\n",
        "print(f\"Predicted Label using MultinomialNB: {label_to_class_dic[y_pred_mn[short_statements[idx]]]}\")"
      ],
      "metadata": {
        "colab": {
          "base_uri": "https://localhost:8080/"
        },
        "id": "d9vLNtb5iULw",
        "outputId": "6c840f14-85cf-4079-b3da-82b818eb7567"
      },
      "execution_count": 93,
      "outputs": [
        {
          "output_type": "stream",
          "name": "stdout",
          "text": [
            "هو انت عايش ؟!!!!\n",
            "عايش\n",
            "True Label: surprise\n",
            "Predicted Label using GaussianNB: love\n",
            "Predicted Label using MultinomialNB: sadness\n"
          ]
        }
      ]
    },
    {
      "cell_type": "code",
      "execution_count": 94,
      "metadata": {
        "id": "pl7OblqioDPY",
        "colab": {
          "base_uri": "https://localhost:8080/"
        },
        "outputId": "c8222ab8-6e36-47fb-acaf-591feceff9d5"
      },
      "outputs": [
        {
          "output_type": "stream",
          "name": "stdout",
          "text": [
            "{'none': 2, 'anger': 7, 'joy': 2, 'sadness': 9, 'love': 2, 'sympathy': 3, 'surprise': 7, 'fear': 4}\n",
            "البرلم ارسل خمسه اعضائه لحضور الاوليمبياد بهدف كسب وتبادل الخبر ومعايشه اللاعب والتعرف اسباب حصول الدول الميدالي label: none\n",
            "كريم الزغبي الفارس المصري المشارك الاوليمبياد عايش هولندا والحص بتاعه واكيد المدرب بتوعه الجميل بقي فريق كامل label: none\n",
            "مهزرتش معاك اصلا عشان عامل مقموص وعايش الدور واللي هزرت معا ناس ليا معا هزار label: anger\n",
            "اخردوري للهلال القذافي عايش وحس مبارك رئيس مصروالشعب السعودي يروح سياحه سورياعلي صالح يخزن قات بالقصرالجمهوري فساد الله لا label: anger\n",
            "ليه عايش المفروض يست اما يموت يرجع البلد معزز مكرم بلد مش بتفتكر الناس يموت ادعم دكتور محمد امام label: anger\n",
            "اقسم بالله مندهشه مش مصدقه اللي الناس وصلتله ليه استفدت وعايش مبسوط عادي مش بيانيك ضميرك label: anger\n",
            "اكبر طائفي وحاقد ومسموم واتم الله يفضحك امام الشيعه تقول انك متعايش label: anger\n",
            "جثم احمد زويل يرجع سليم الامريك مش هيسيبوه هيشيله لان عايش الاستنساخ ابعت وزير الخارجيه اللي هيشل السيسي شيري label: anger\n",
            "لازم نستفيد التجربه الاماراتيه منع الالعاب ربع يحظر الالعاب سبب او سبب تافه حسابي اماراتي اني عايش بالسعوديه label: anger\n",
            "عايشه حاله حب معاك وخدا حب حب حب label: joy\n",
            "متابعه الاوليمبياد حاجه كويسه بدل الرو اللي عايش label: joy\n",
            "ماليش اتفرج بجد عمال نخرج واحد ورا التا الاوليمبياد ولسه عايش الو الرياضه مش اهلي وزمالك قمه القمه label: sadness\n",
            "اكتفيت وحدتك ومزيكتك والاوضه الضلمه والسكوت والامبالاه عايش هرب بنص ميت label: sadness\n",
            "شي حلو احرف حلو عايش احزا خاف بيوم ارجع ابتسم حزن label: sadness\n",
            "ابوك عايش اعرف انك مستخبي ورا جبل الجبل يتهد صدق هتتبهدل اوي كنت جدع راي راي label: sadness\n",
            "اتمرمطت قوي ياراضي اتمرمطت قوي مش عارف حعيش ازاي عادي زي المصر عايش طاب label: sadness\n",
            "عارف ليه عايش الياس ودافن شويه زكري زباله وحد يجي يكلمك الصح بتزعل عشان عقلك وقف الصدمه كويس محتاج label: sadness\n",
            "تحيه صمود واحد عايش مصر لحد دلوقتي ومشربش سجاير شيشه بيحشش جرب اي نوع المخدر يواجه الواقع البائس label: sadness\n",
            "الله يرحمك ياابو عايش لليوم الله يرحمه برضو ورشته تشتغل النحاس الدهب يابومه العصر label: sadness\n",
            "تعتبر عايش انه مات بتبقي اصعي موته label: sadness\n",
            "مجن عايش label: love\n",
            "كلمو بعيد لبعيد عرفو اني لسه بحب مليش حبايب واللي باقيلي عايش حب label: love\n",
            "كنت عايش وراضي لله اخو label: sympathy\n",
            "الواقع اللي عايشينه اهل السنه بالعراق الله عون الحشد يدهس طفل بالدبابه label: sympathy\n",
            "يعيش حيات الميت سرير عايش ممتنع الحياه الله عون النواصره يفد الوطن قبيله النواصره label: sympathy\n",
            "افتح تويتر الاقي ناس بتدور ادويه مهمه مش موجوده الخرا الي عايش label: surprise\n",
            "جميل انك تلاقي ست متابعه الاوليمبياد حقيقي الواحد فرح بيكي بجد انتي عايشه مصر بجد label: surprise\n",
            "الي يوم كاتمندو هيك حاسه انه الي سنه عايشه هون label: surprise\n",
            "المستغرب اللعيبه بتعات بتخرج الاوليمبياد مدلي عايش معا البلد طيب صغير مثلا ميعرفوش تاريخ الاوليمبي label: surprise\n",
            "افهم وين عايش label: surprise\n",
            "الساع معرفش عدو عليا ازاي الحمدلله اني لسه عايشه label: surprise\n",
            "خدت الحاج امتي هنجح ازاي عايش ليه واحد قاعد امتح الميدتيرم label: surprise\n",
            "بيقولي طول ابوكي عايش متخفيش اهو دلوقتي خلت لازم اخاف label: fear\n",
            "كنت عايش اسكندريه واعرف بنت اسكندريه جريئه الاخر لبط واحده تتخطف وسط البشر غريبه فعلا label: fear\n",
            "الحمدلله اننا لسه عايش كنت خايفه ميطلعش عليا نهار وايهاب كانت صعبه لله ياسيسي وحكومتك label: fear\n",
            "مو خايفه عشان الاختبار قربت خايفه لان عقلي مسوي سكيب للاختبار وعايشه جو الاجازه الح label: fear\n"
          ]
        }
      ],
      "source": [
        "new_dict, examples = word_occurance_train(\"عايش\", df_train[\"Light Stemming\"], df_train[\"label\"])\n",
        "print(new_dict)\n",
        "for label_ex in examples:\n",
        "  for ex in label_ex: print(ex)"
      ]
    },
    {
      "cell_type": "code",
      "execution_count": 56,
      "metadata": {
        "id": "AU_S6UoDoGjE",
        "colab": {
          "base_uri": "https://localhost:8080/"
        },
        "outputId": "dca4ba07-7ba8-47e8-980b-b954f6899e97"
      },
      "outputs": [
        {
          "output_type": "stream",
          "name": "stdout",
          "text": [
            "ازعل\n",
            "True Label: surprise - Predicted Label: love\n"
          ]
        }
      ],
      "source": [
        "idx = 5\n",
        "print(df_test[\"Light Stemming\"].iloc[short_statements[idx]])\n",
        "print(f\"True Label: {label_to_class_dic[y_true[short_statements[idx]]]} - Predicted Label: {label_to_class_dic[y_pred[short_statements[idx]]]}\")"
      ]
    },
    {
      "cell_type": "markdown",
      "metadata": {
        "id": "P29nfLbdkfi9"
      },
      "source": [
        "as we can see there are a lot of one word tweets and 15 tweets of length 5 or less, there's and even empty tweet after preprocessing."
      ]
    },
    {
      "cell_type": "markdown",
      "metadata": {
        "id": "7kAlgnI3lrCy"
      },
      "source": [
        "## Is there a lack of sufficient training data for a particular label?"
      ]
    },
    {
      "cell_type": "code",
      "execution_count": 48,
      "metadata": {
        "id": "uyZMd6pTloEK",
        "colab": {
          "base_uri": "https://localhost:8080/"
        },
        "outputId": "ae8f3cea-4968-4494-b7a0-b3afbaffbfae"
      },
      "outputs": [
        {
          "output_type": "execute_result",
          "data": {
            "text/plain": [
              "0    1074\n",
              "1    1019\n",
              "2     891\n",
              "3     885\n",
              "4     850\n",
              "7     842\n",
              "5     755\n",
              "6     729\n",
              "Name: label, dtype: int64"
            ]
          },
          "metadata": {},
          "execution_count": 48
        }
      ],
      "source": [
        "df_train['label'].value_counts()"
      ]
    },
    {
      "cell_type": "markdown",
      "metadata": {
        "id": "N86JNsd3q38g"
      },
      "source": [
        "class surprise has 300+ less examples than none, but is that enough to make a big difference?\n",
        "however when you think about it in terms of ratio 300 is almost a third of number of examples of none."
      ]
    },
    {
      "cell_type": "markdown",
      "metadata": {
        "id": "zy-ehKawmotP"
      },
      "source": [
        "### Observation: root stemming seems to break the words meaning and reduce accuracy below the no stemming, however light stemming seems to preserve word meaning and even improve the baseline accuracy"
      ]
    },
    {
      "cell_type": "code",
      "source": [
        "# use Tfidf Vectorizer light stemming\n",
        "tfidf_vectorizer = TfidfVectorizer()\n",
        "\n",
        "# fit and transform the training data\n",
        "X_train_tfidf = tfidf_vectorizer.fit_transform(df_train['Light Stemming'])\n",
        "# transform the test data using the same vectorizer\n",
        "X_test_tfidf = tfidf_vectorizer.transform(df_test['Light Stemming'])\n",
        "\n",
        "nb_large = GaussianNB(var_smoothing=1e-6)\n",
        "nb_large.fit(X_train_tfidf.toarray(), df_train['label'])\n",
        "\n",
        "\n",
        "y_pred = nb_large.predict(X_test_tfidf.toarray())\n",
        "# calculating the accuracy of the classifier\n",
        "accuracy = accuracy_score(df_test['label'], y_pred)\n",
        "print(\"Accuracy:\", accuracy)"
      ],
      "metadata": {
        "colab": {
          "base_uri": "https://localhost:8080/"
        },
        "id": "1u8jIn_Yo9Kw",
        "outputId": "50938f11-e4ef-43cf-e879-aad0b8608af4"
      },
      "execution_count": 49,
      "outputs": [
        {
          "output_type": "stream",
          "name": "stdout",
          "text": [
            "Accuracy: 0.44039735099337746\n"
          ]
        }
      ]
    },
    {
      "cell_type": "code",
      "execution_count": 50,
      "metadata": {
        "colab": {
          "base_uri": "https://localhost:8080/"
        },
        "outputId": "bd64af9c-37a7-4df4-ffdd-863de1cdb554",
        "id": "c92kRUSmrDx8"
      },
      "outputs": [
        {
          "output_type": "stream",
          "name": "stdout",
          "text": [
            "              precision    recall  f1-score   support\n",
            "\n",
            "        none       0.45      0.44      0.45       229\n",
            "       anger       0.48      0.59      0.53       200\n",
            "         joy       0.39      0.28      0.33       205\n",
            "     sadness       0.28      0.28      0.28       185\n",
            "        love       0.53      0.54      0.53       193\n",
            "    sympathy       0.62      0.59      0.60       156\n",
            "    surprise       0.27      0.30      0.28       154\n",
            "        fear       0.49      0.50      0.49       188\n",
            "\n",
            "    accuracy                           0.44      1510\n",
            "   macro avg       0.44      0.44      0.44      1510\n",
            "weighted avg       0.44      0.44      0.44      1510\n",
            "\n"
          ]
        }
      ],
      "source": [
        "print(classification_report(df_test['label'], y_pred, target_names = label_to_class))"
      ]
    },
    {
      "cell_type": "code",
      "execution_count": 51,
      "metadata": {
        "colab": {
          "base_uri": "https://localhost:8080/",
          "height": 542
        },
        "outputId": "ff97cc40-da6b-4c1e-d792-91722e466533",
        "id": "tgfm_MrirDx9"
      },
      "outputs": [
        {
          "output_type": "display_data",
          "data": {
            "text/plain": [
              "<Figure size 500x500 with 2 Axes>"
            ],
            "image/png": "[encoded data removed]"
          },
          "metadata": {}
        }
      ],
      "source": [
        "create_confusion_matrix(y_pred)"
      ]
    },
    {
      "cell_type": "code",
      "execution_count": 52,
      "metadata": {
        "id": "Zw75ScZlGOKn"
      },
      "outputs": [],
      "source": [
        "x_train, y_train = [], []\n",
        "counts = {0:0, 1:0, 2:0, 3:0, 4:0, 5:0, 6:0, 7:0}\n",
        "\n",
        "for i in range(len(df_train)):\n",
        "  if counts[df_train[\"label\"].iloc[i]] < 729:\n",
        "    counts[df_train[\"label\"].iloc[i]] += 1\n",
        "    x_train.append(df_train[\"Light Stemming\"].iloc[i])\n",
        "    y_train.append(df_train[\"label\"].iloc[i])"
      ]
    },
    {
      "cell_type": "code",
      "source": [
        "len(x_train), 729 * 8"
      ],
      "metadata": {
        "colab": {
          "base_uri": "https://localhost:8080/"
        },
        "id": "uWWQzNsHnddB",
        "outputId": "3b352cb0-5763-41f3-af34-f3868abf24ac"
      },
      "execution_count": 53,
      "outputs": [
        {
          "output_type": "execute_result",
          "data": {
            "text/plain": [
              "(5832, 5832)"
            ]
          },
          "metadata": {},
          "execution_count": 53
        }
      ]
    },
    {
      "cell_type": "code",
      "source": [
        "# use Tfidf Vectorizer light stemming\n",
        "tfidf_vectorizer = TfidfVectorizer()\n",
        "\n",
        "# fit and transform the training data\n",
        "X_train_tfidf = tfidf_vectorizer.fit_transform(x_train)\n",
        "# transform the test data using the same vectorizer\n",
        "X_test_tfidf = tfidf_vectorizer.transform(df_test['Light Stemming'])\n",
        "\n",
        "nb_small = GaussianNB(var_smoothing=1e-6)\n",
        "nb_small.fit(X_train_tfidf.toarray(), y_train)\n",
        "\n",
        "\n",
        "y_pred = nb_small.predict(X_test_tfidf.toarray())\n",
        "# calculating the accuracy of the classifier\n",
        "accuracy = accuracy_score(df_test['label'], y_pred)\n",
        "print(\"Accuracy:\", accuracy)"
      ],
      "metadata": {
        "colab": {
          "base_uri": "https://localhost:8080/"
        },
        "outputId": "1efbe256-51e3-4c87-8f15-6347d4dfd686",
        "id": "oTIDEt1MpNhs"
      },
      "execution_count": 54,
      "outputs": [
        {
          "output_type": "stream",
          "name": "stdout",
          "text": [
            "Accuracy: 0.44039735099337746\n"
          ]
        }
      ]
    },
    {
      "cell_type": "code",
      "execution_count": 55,
      "metadata": {
        "colab": {
          "base_uri": "https://localhost:8080/"
        },
        "outputId": "fe3d49c7-cf46-4caa-f599-b790e891f476",
        "id": "xaxaz6syoCHj"
      },
      "outputs": [
        {
          "output_type": "stream",
          "name": "stdout",
          "text": [
            "              precision    recall  f1-score   support\n",
            "\n",
            "        none       0.48      0.48      0.48       229\n",
            "       anger       0.50      0.52      0.51       200\n",
            "         joy       0.37      0.26      0.30       205\n",
            "     sadness       0.29      0.29      0.29       185\n",
            "        love       0.53      0.52      0.53       193\n",
            "    sympathy       0.58      0.62      0.60       156\n",
            "    surprise       0.26      0.27      0.26       154\n",
            "        fear       0.46      0.55      0.50       188\n",
            "\n",
            "    accuracy                           0.44      1510\n",
            "   macro avg       0.43      0.44      0.44      1510\n",
            "weighted avg       0.44      0.44      0.44      1510\n",
            "\n"
          ]
        }
      ],
      "source": [
        "print(classification_report(df_test['label'], y_pred, target_names = label_to_class))"
      ]
    },
    {
      "cell_type": "code",
      "execution_count": 56,
      "metadata": {
        "colab": {
          "base_uri": "https://localhost:8080/",
          "height": 542
        },
        "outputId": "877479ba-f97b-45fb-923d-3294709bfdf6",
        "id": "08iIWfNJoCHj"
      },
      "outputs": [
        {
          "output_type": "display_data",
          "data": {
            "text/plain": [
              "<Figure size 500x500 with 2 Axes>"
            ],
            "image/png": "[encoded data removed]"
          },
          "metadata": {}
        }
      ],
      "source": [
        "create_confusion_matrix(y_pred)"
      ]
    },
    {
      "cell_type": "code",
      "source": [
        "from sklearn.feature_extraction.text import CountVectorizer\n",
        "# Create a CountVectorizer\n",
        "vectorizer = CountVectorizer()\n",
        "\n",
        "# Transform the text data into a document-term matrix\n",
        "X_train_counts = vectorizer.fit_transform(x_train)\n",
        "X_test_counts = vectorizer.transform(df_test[\"Light Stemming\"])\n",
        "\n",
        "# Create and train a Multinomial Naive Bayes classifier\n",
        "classifier = MultinomialNB()\n",
        "classifier.fit(X_train_counts, y_train)\n",
        "\n",
        "# Predict labels for the test set\n",
        "y_pred = classifier.predict(X_test_counts)\n",
        "\n",
        "# Evaluate the classifier\n",
        "accuracy = accuracy_score(df_test[\"label\"], y_pred)\n",
        "print(\"Accuracy:\", accuracy)"
      ],
      "metadata": {
        "colab": {
          "base_uri": "https://localhost:8080/"
        },
        "id": "t5BjRRszq71w",
        "outputId": "bc3bd701-d117-4dd8-e21e-3b2bcf9baf23"
      },
      "execution_count": 59,
      "outputs": [
        {
          "output_type": "stream",
          "name": "stdout",
          "text": [
            "Accuracy: 0.6192052980132451\n"
          ]
        }
      ]
    },
    {
      "cell_type": "code",
      "source": [],
      "metadata": {
        "id": "qvJFkK5ceDMT"
      },
      "execution_count": null,
      "outputs": []
    }
  ],
  "metadata": {
    "accelerator": "GPU",
    "colab": {
      "provenance": []
    },
    "kernelspec": {
      "display_name": "Python 3",
      "name": "python3"
    },
    "language_info": {
      "codemirror_mode": {
        "name": "ipython",
        "version": 3
      },
      "file_extension": ".py",
      "mimetype": "text/x-python",
      "name": "python",
      "nbconvert_exporter": "python",
      "pygments_lexer": "ipython3",
      "version": "3.10.12"
    },
    "widgets": {
      "application/vnd.jupyter.widget-state+json": {
        "9b9c0e3195214c659e8eb525d93b3ba3": {
          "model_module": "@jupyter-widgets/controls",
          "model_name": "HBoxModel",
          "model_module_version": "1.5.0",
          "state": {
            "_dom_classes": [],
            "_model_module": "@jupyter-widgets/controls",
            "_model_module_version": "1.5.0",
            "_model_name": "HBoxModel",
            "_view_count": null,
            "_view_module": "@jupyter-widgets/controls",
            "_view_module_version": "1.5.0",
            "_view_name": "HBoxView",
            "box_style": "",
            "children": [
              "IPY_MODEL_bb6a553874a643b6857ba950b7066bd3",
              "IPY_MODEL_f62d44c7dde9493ca9f6b9d335cf4232",
              "IPY_MODEL_e3a0f344407548f4b33e28cc8e176503"
            ],
            "layout": "IPY_MODEL_5cf624d7b86349cfa36fc65dd43b87e0"
          }
        },
        "bb6a553874a643b6857ba950b7066bd3": {
          "model_module": "@jupyter-widgets/controls",
          "model_name": "HTMLModel",
          "model_module_version": "1.5.0",
          "state": {
            "_dom_classes": [],
            "_model_module": "@jupyter-widgets/controls",
            "_model_module_version": "1.5.0",
            "_model_name": "HTMLModel",
            "_view_count": null,
            "_view_module": "@jupyter-widgets/controls",
            "_view_module_version": "1.5.0",
            "_view_name": "HTMLView",
            "description": "",
            "description_tooltip": null,
            "layout": "IPY_MODEL_4767e17a9c324d3e9599da5b12240397",
            "placeholder": "​",
            "style": "IPY_MODEL_0d2ade87ef684caeb08229d67f48354d",
            "value": "Downloading (…)okenizer_config.json: 100%"
          }
        },
        "f62d44c7dde9493ca9f6b9d335cf4232": {
          "model_module": "@jupyter-widgets/controls",
          "model_name": "FloatProgressModel",
          "model_module_version": "1.5.0",
          "state": {
            "_dom_classes": [],
            "_model_module": "@jupyter-widgets/controls",
            "_model_module_version": "1.5.0",
            "_model_name": "FloatProgressModel",
            "_view_count": null,
            "_view_module": "@jupyter-widgets/controls",
            "_view_module_version": "1.5.0",
            "_view_name": "ProgressView",
            "bar_style": "success",
            "description": "",
            "description_tooltip": null,
            "layout": "IPY_MODEL_2a287113d6434a8b9daf588fbfda3a53",
            "max": 376,
            "min": 0,
            "orientation": "horizontal",
            "style": "IPY_MODEL_257f37432d8f43b89c3ff06cb7e51f4f",
            "value": 376
          }
        },
        "e3a0f344407548f4b33e28cc8e176503": {
          "model_module": "@jupyter-widgets/controls",
          "model_name": "HTMLModel",
          "model_module_version": "1.5.0",
          "state": {
            "_dom_classes": [],
            "_model_module": "@jupyter-widgets/controls",
            "_model_module_version": "1.5.0",
            "_model_name": "HTMLModel",
            "_view_count": null,
            "_view_module": "@jupyter-widgets/controls",
            "_view_module_version": "1.5.0",
            "_view_name": "HTMLView",
            "description": "",
            "description_tooltip": null,
            "layout": "IPY_MODEL_0823c20415d84cbfa39790768c4f115e",
            "placeholder": "​",
            "style": "IPY_MODEL_b72bb07093c14b9e8f3aed7ee19848fc",
            "value": " 376/376 [00:00&lt;00:00, 7.25kB/s]"
          }
        },
        "5cf624d7b86349cfa36fc65dd43b87e0": {
          "model_module": "@jupyter-widgets/base",
          "model_name": "LayoutModel",
          "model_module_version": "1.2.0",
          "state": {
            "_model_module": "@jupyter-widgets/base",
            "_model_module_version": "1.2.0",
            "_model_name": "LayoutModel",
            "_view_count": null,
            "_view_module": "@jupyter-widgets/base",
            "_view_module_version": "1.2.0",
            "_view_name": "LayoutView",
            "align_content": null,
            "align_items": null,
            "align_self": null,
            "border": null,
            "bottom": null,
            "display": null,
            "flex": null,
            "flex_flow": null,
            "grid_area": null,
            "grid_auto_columns": null,
            "grid_auto_flow": null,
            "grid_auto_rows": null,
            "grid_column": null,
            "grid_gap": null,
            "grid_row": null,
            "grid_template_areas": null,
            "grid_template_columns": null,
            "grid_template_rows": null,
            "height": null,
            "justify_content": null,
            "justify_items": null,
            "left": null,
            "margin": null,
            "max_height": null,
            "max_width": null,
            "min_height": null,
            "min_width": null,
            "object_fit": null,
            "object_position": null,
            "order": null,
            "overflow": null,
            "overflow_x": null,
            "overflow_y": null,
            "padding": null,
            "right": null,
            "top": null,
            "visibility": null,
            "width": null
          }
        },
        "4767e17a9c324d3e9599da5b12240397": {
          "model_module": "@jupyter-widgets/base",
          "model_name": "LayoutModel",
          "model_module_version": "1.2.0",
          "state": {
            "_model_module": "@jupyter-widgets/base",
            "_model_module_version": "1.2.0",
            "_model_name": "LayoutModel",
            "_view_count": null,
            "_view_module": "@jupyter-widgets/base",
            "_view_module_version": "1.2.0",
            "_view_name": "LayoutView",
            "align_content": null,
            "align_items": null,
            "align_self": null,
            "border": null,
            "bottom": null,
            "display": null,
            "flex": null,
            "flex_flow": null,
            "grid_area": null,
            "grid_auto_columns": null,
            "grid_auto_flow": null,
            "grid_auto_rows": null,
            "grid_column": null,
            "grid_gap": null,
            "grid_row": null,
            "grid_template_areas": null,
            "grid_template_columns": null,
            "grid_template_rows": null,
            "height": null,
            "justify_content": null,
            "justify_items": null,
            "left": null,
            "margin": null,
            "max_height": null,
            "max_width": null,
            "min_height": null,
            "min_width": null,
            "object_fit": null,
            "object_position": null,
            "order": null,
            "overflow": null,
            "overflow_x": null,
            "overflow_y": null,
            "padding": null,
            "right": null,
            "top": null,
            "visibility": null,
            "width": null
          }
        },
        "0d2ade87ef684caeb08229d67f48354d": {
          "model_module": "@jupyter-widgets/controls",
          "model_name": "DescriptionStyleModel",
          "model_module_version": "1.5.0",
          "state": {
            "_model_module": "@jupyter-widgets/controls",
            "_model_module_version": "1.5.0",
            "_model_name": "DescriptionStyleModel",
            "_view_count": null,
            "_view_module": "@jupyter-widgets/base",
            "_view_module_version": "1.2.0",
            "_view_name": "StyleView",
            "description_width": ""
          }
        },
        "2a287113d6434a8b9daf588fbfda3a53": {
          "model_module": "@jupyter-widgets/base",
          "model_name": "LayoutModel",
          "model_module_version": "1.2.0",
          "state": {
            "_model_module": "@jupyter-widgets/base",
            "_model_module_version": "1.2.0",
            "_model_name": "LayoutModel",
            "_view_count": null,
            "_view_module": "@jupyter-widgets/base",
            "_view_module_version": "1.2.0",
            "_view_name": "LayoutView",
            "align_content": null,
            "align_items": null,
            "align_self": null,
            "border": null,
            "bottom": null,
            "display": null,
            "flex": null,
            "flex_flow": null,
            "grid_area": null,
            "grid_auto_columns": null,
            "grid_auto_flow": null,
            "grid_auto_rows": null,
            "grid_column": null,
            "grid_gap": null,
            "grid_row": null,
            "grid_template_areas": null,
            "grid_template_columns": null,
            "grid_template_rows": null,
            "height": null,
            "justify_content": null,
            "justify_items": null,
            "left": null,
            "margin": null,
            "max_height": null,
            "max_width": null,
            "min_height": null,
            "min_width": null,
            "object_fit": null,
            "object_position": null,
            "order": null,
            "overflow": null,
            "overflow_x": null,
            "overflow_y": null,
            "padding": null,
            "right": null,
            "top": null,
            "visibility": null,
            "width": null
          }
        },
        "257f37432d8f43b89c3ff06cb7e51f4f": {
          "model_module": "@jupyter-widgets/controls",
          "model_name": "ProgressStyleModel",
          "model_module_version": "1.5.0",
          "state": {
            "_model_module": "@jupyter-widgets/controls",
            "_model_module_version": "1.5.0",
            "_model_name": "ProgressStyleModel",
            "_view_count": null,
            "_view_module": "@jupyter-widgets/base",
            "_view_module_version": "1.2.0",
            "_view_name": "StyleView",
            "bar_color": null,
            "description_width": ""
          }
        },
        "0823c20415d84cbfa39790768c4f115e": {
          "model_module": "@jupyter-widgets/base",
          "model_name": "LayoutModel",
          "model_module_version": "1.2.0",
          "state": {
            "_model_module": "@jupyter-widgets/base",
            "_model_module_version": "1.2.0",
            "_model_name": "LayoutModel",
            "_view_count": null,
            "_view_module": "@jupyter-widgets/base",
            "_view_module_version": "1.2.0",
            "_view_name": "LayoutView",
            "align_content": null,
            "align_items": null,
            "align_self": null,
            "border": null,
            "bottom": null,
            "display": null,
            "flex": null,
            "flex_flow": null,
            "grid_area": null,
            "grid_auto_columns": null,
            "grid_auto_flow": null,
            "grid_auto_rows": null,
            "grid_column": null,
            "grid_gap": null,
            "grid_row": null,
            "grid_template_areas": null,
            "grid_template_columns": null,
            "grid_template_rows": null,
            "height": null,
            "justify_content": null,
            "justify_items": null,
            "left": null,
            "margin": null,
            "max_height": null,
            "max_width": null,
            "min_height": null,
            "min_width": null,
            "object_fit": null,
            "object_position": null,
            "order": null,
            "overflow": null,
            "overflow_x": null,
            "overflow_y": null,
            "padding": null,
            "right": null,
            "top": null,
            "visibility": null,
            "width": null
          }
        },
        "b72bb07093c14b9e8f3aed7ee19848fc": {
          "model_module": "@jupyter-widgets/controls",
          "model_name": "DescriptionStyleModel",
          "model_module_version": "1.5.0",
          "state": {
            "_model_module": "@jupyter-widgets/controls",
            "_model_module_version": "1.5.0",
            "_model_name": "DescriptionStyleModel",
            "_view_count": null,
            "_view_module": "@jupyter-widgets/base",
            "_view_module_version": "1.2.0",
            "_view_name": "StyleView",
            "description_width": ""
          }
        },
        "a510407cdda14f34b537ec920f973e54": {
          "model_module": "@jupyter-widgets/controls",
          "model_name": "HBoxModel",
          "model_module_version": "1.5.0",
          "state": {
            "_dom_classes": [],
            "_model_module": "@jupyter-widgets/controls",
            "_model_module_version": "1.5.0",
            "_model_name": "HBoxModel",
            "_view_count": null,
            "_view_module": "@jupyter-widgets/controls",
            "_view_module_version": "1.5.0",
            "_view_name": "HBoxView",
            "box_style": "",
            "children": [
              "IPY_MODEL_ceeda625dece402c9bb94e102f9ad2ad",
              "IPY_MODEL_2cf9caf4ef54406e905b631e0b1899f3",
              "IPY_MODEL_eabf7f29f5534e318a28e8a1c634023b"
            ],
            "layout": "IPY_MODEL_13aa2af45aa64fe19dfb538399d4a67b"
          }
        },
        "ceeda625dece402c9bb94e102f9ad2ad": {
          "model_module": "@jupyter-widgets/controls",
          "model_name": "HTMLModel",
          "model_module_version": "1.5.0",
          "state": {
            "_dom_classes": [],
            "_model_module": "@jupyter-widgets/controls",
            "_model_module_version": "1.5.0",
            "_model_name": "HTMLModel",
            "_view_count": null,
            "_view_module": "@jupyter-widgets/controls",
            "_view_module_version": "1.5.0",
            "_view_name": "HTMLView",
            "description": "",
            "description_tooltip": null,
            "layout": "IPY_MODEL_17c3610035014c6393326f279ac84230",
            "placeholder": "​",
            "style": "IPY_MODEL_369443d1e72b436ba88a58cefa9f157f",
            "value": "Downloading (…)lve/main/config.json: 100%"
          }
        },
        "2cf9caf4ef54406e905b631e0b1899f3": {
          "model_module": "@jupyter-widgets/controls",
          "model_name": "FloatProgressModel",
          "model_module_version": "1.5.0",
          "state": {
            "_dom_classes": [],
            "_model_module": "@jupyter-widgets/controls",
            "_model_module_version": "1.5.0",
            "_model_name": "FloatProgressModel",
            "_view_count": null,
            "_view_module": "@jupyter-widgets/controls",
            "_view_module_version": "1.5.0",
            "_view_name": "ProgressView",
            "bar_style": "success",
            "description": "",
            "description_tooltip": null,
            "layout": "IPY_MODEL_084c4aa3c5e24790a88549f9f854c389",
            "max": 701,
            "min": 0,
            "orientation": "horizontal",
            "style": "IPY_MODEL_3949efa074aa4a02bad606c10819bca4",
            "value": 701
          }
        },
        "eabf7f29f5534e318a28e8a1c634023b": {
          "model_module": "@jupyter-widgets/controls",
          "model_name": "HTMLModel",
          "model_module_version": "1.5.0",
          "state": {
            "_dom_classes": [],
            "_model_module": "@jupyter-widgets/controls",
            "_model_module_version": "1.5.0",
            "_model_name": "HTMLModel",
            "_view_count": null,
            "_view_module": "@jupyter-widgets/controls",
            "_view_module_version": "1.5.0",
            "_view_name": "HTMLView",
            "description": "",
            "description_tooltip": null,
            "layout": "IPY_MODEL_9a2d2e07114d4ddda430bb243cdcc8ca",
            "placeholder": "​",
            "style": "IPY_MODEL_41a7bc92ae3a456494d84536f6e14672",
            "value": " 701/701 [00:00&lt;00:00, 49.6kB/s]"
          }
        },
        "13aa2af45aa64fe19dfb538399d4a67b": {
          "model_module": "@jupyter-widgets/base",
          "model_name": "LayoutModel",
          "model_module_version": "1.2.0",
          "state": {
            "_model_module": "@jupyter-widgets/base",
            "_model_module_version": "1.2.0",
            "_model_name": "LayoutModel",
            "_view_count": null,
            "_view_module": "@jupyter-widgets/base",
            "_view_module_version": "1.2.0",
            "_view_name": "LayoutView",
            "align_content": null,
            "align_items": null,
            "align_self": null,
            "border": null,
            "bottom": null,
            "display": null,
            "flex": null,
            "flex_flow": null,
            "grid_area": null,
            "grid_auto_columns": null,
            "grid_auto_flow": null,
            "grid_auto_rows": null,
            "grid_column": null,
            "grid_gap": null,
            "grid_row": null,
            "grid_template_areas": null,
            "grid_template_columns": null,
            "grid_template_rows": null,
            "height": null,
            "justify_content": null,
            "justify_items": null,
            "left": null,
            "margin": null,
            "max_height": null,
            "max_width": null,
            "min_height": null,
            "min_width": null,
            "object_fit": null,
            "object_position": null,
            "order": null,
            "overflow": null,
            "overflow_x": null,
            "overflow_y": null,
            "padding": null,
            "right": null,
            "top": null,
            "visibility": null,
            "width": null
          }
        },
        "17c3610035014c6393326f279ac84230": {
          "model_module": "@jupyter-widgets/base",
          "model_name": "LayoutModel",
          "model_module_version": "1.2.0",
          "state": {
            "_model_module": "@jupyter-widgets/base",
            "_model_module_version": "1.2.0",
            "_model_name": "LayoutModel",
            "_view_count": null,
            "_view_module": "@jupyter-widgets/base",
            "_view_module_version": "1.2.0",
            "_view_name": "LayoutView",
            "align_content": null,
            "align_items": null,
            "align_self": null,
            "border": null,
            "bottom": null,
            "display": null,
            "flex": null,
            "flex_flow": null,
            "grid_area": null,
            "grid_auto_columns": null,
            "grid_auto_flow": null,
            "grid_auto_rows": null,
            "grid_column": null,
            "grid_gap": null,
            "grid_row": null,
            "grid_template_areas": null,
            "grid_template_columns": null,
            "grid_template_rows": null,
            "height": null,
            "justify_content": null,
            "justify_items": null,
            "left": null,
            "margin": null,
            "max_height": null,
            "max_width": null,
            "min_height": null,
            "min_width": null,
            "object_fit": null,
            "object_position": null,
            "order": null,
            "overflow": null,
            "overflow_x": null,
            "overflow_y": null,
            "padding": null,
            "right": null,
            "top": null,
            "visibility": null,
            "width": null
          }
        },
        "369443d1e72b436ba88a58cefa9f157f": {
          "model_module": "@jupyter-widgets/controls",
          "model_name": "DescriptionStyleModel",
          "model_module_version": "1.5.0",
          "state": {
            "_model_module": "@jupyter-widgets/controls",
            "_model_module_version": "1.5.0",
            "_model_name": "DescriptionStyleModel",
            "_view_count": null,
            "_view_module": "@jupyter-widgets/base",
            "_view_module_version": "1.2.0",
            "_view_name": "StyleView",
            "description_width": ""
          }
        },
        "084c4aa3c5e24790a88549f9f854c389": {
          "model_module": "@jupyter-widgets/base",
          "model_name": "LayoutModel",
          "model_module_version": "1.2.0",
          "state": {
            "_model_module": "@jupyter-widgets/base",
            "_model_module_version": "1.2.0",
            "_model_name": "LayoutModel",
            "_view_count": null,
            "_view_module": "@jupyter-widgets/base",
            "_view_module_version": "1.2.0",
            "_view_name": "LayoutView",
            "align_content": null,
            "align_items": null,
            "align_self": null,
            "border": null,
            "bottom": null,
            "display": null,
            "flex": null,
            "flex_flow": null,
            "grid_area": null,
            "grid_auto_columns": null,
            "grid_auto_flow": null,
            "grid_auto_rows": null,
            "grid_column": null,
            "grid_gap": null,
            "grid_row": null,
            "grid_template_areas": null,
            "grid_template_columns": null,
            "grid_template_rows": null,
            "height": null,
            "justify_content": null,
            "justify_items": null,
            "left": null,
            "margin": null,
            "max_height": null,
            "max_width": null,
            "min_height": null,
            "min_width": null,
            "object_fit": null,
            "object_position": null,
            "order": null,
            "overflow": null,
            "overflow_x": null,
            "overflow_y": null,
            "padding": null,
            "right": null,
            "top": null,
            "visibility": null,
            "width": null
          }
        },
        "3949efa074aa4a02bad606c10819bca4": {
          "model_module": "@jupyter-widgets/controls",
          "model_name": "ProgressStyleModel",
          "model_module_version": "1.5.0",
          "state": {
            "_model_module": "@jupyter-widgets/controls",
            "_model_module_version": "1.5.0",
            "_model_name": "ProgressStyleModel",
            "_view_count": null,
            "_view_module": "@jupyter-widgets/base",
            "_view_module_version": "1.2.0",
            "_view_name": "StyleView",
            "bar_color": null,
            "description_width": ""
          }
        },
        "9a2d2e07114d4ddda430bb243cdcc8ca": {
          "model_module": "@jupyter-widgets/base",
          "model_name": "LayoutModel",
          "model_module_version": "1.2.0",
          "state": {
            "_model_module": "@jupyter-widgets/base",
            "_model_module_version": "1.2.0",
            "_model_name": "LayoutModel",
            "_view_count": null,
            "_view_module": "@jupyter-widgets/base",
            "_view_module_version": "1.2.0",
            "_view_name": "LayoutView",
            "align_content": null,
            "align_items": null,
            "align_self": null,
            "border": null,
            "bottom": null,
            "display": null,
            "flex": null,
            "flex_flow": null,
            "grid_area": null,
            "grid_auto_columns": null,
            "grid_auto_flow": null,
            "grid_auto_rows": null,
            "grid_column": null,
            "grid_gap": null,
            "grid_row": null,
            "grid_template_areas": null,
            "grid_template_columns": null,
            "grid_template_rows": null,
            "height": null,
            "justify_content": null,
            "justify_items": null,
            "left": null,
            "margin": null,
            "max_height": null,
            "max_width": null,
            "min_height": null,
            "min_width": null,
            "object_fit": null,
            "object_position": null,
            "order": null,
            "overflow": null,
            "overflow_x": null,
            "overflow_y": null,
            "padding": null,
            "right": null,
            "top": null,
            "visibility": null,
            "width": null
          }
        },
        "41a7bc92ae3a456494d84536f6e14672": {
          "model_module": "@jupyter-widgets/controls",
          "model_name": "DescriptionStyleModel",
          "model_module_version": "1.5.0",
          "state": {
            "_model_module": "@jupyter-widgets/controls",
            "_model_module_version": "1.5.0",
            "_model_name": "DescriptionStyleModel",
            "_view_count": null,
            "_view_module": "@jupyter-widgets/base",
            "_view_module_version": "1.2.0",
            "_view_name": "StyleView",
            "description_width": ""
          }
        },
        "e3ae3e7d2b7947119fb2a52656eb30a2": {
          "model_module": "@jupyter-widgets/controls",
          "model_name": "HBoxModel",
          "model_module_version": "1.5.0",
          "state": {
            "_dom_classes": [],
            "_model_module": "@jupyter-widgets/controls",
            "_model_module_version": "1.5.0",
            "_model_name": "HBoxModel",
            "_view_count": null,
            "_view_module": "@jupyter-widgets/controls",
            "_view_module_version": "1.5.0",
            "_view_name": "HBoxView",
            "box_style": "",
            "children": [
              "IPY_MODEL_2d000f9af6054922a4c2fd450549fa8e",
              "IPY_MODEL_058bdbff20cf42ff9b55d75a7a3b0e95",
              "IPY_MODEL_d009ca83cc364f06ad91b07465cd19f9"
            ],
            "layout": "IPY_MODEL_187a91cdeab543058951ef926bde9beb"
          }
        },
        "2d000f9af6054922a4c2fd450549fa8e": {
          "model_module": "@jupyter-widgets/controls",
          "model_name": "HTMLModel",
          "model_module_version": "1.5.0",
          "state": {
            "_dom_classes": [],
            "_model_module": "@jupyter-widgets/controls",
            "_model_module_version": "1.5.0",
            "_model_name": "HTMLModel",
            "_view_count": null,
            "_view_module": "@jupyter-widgets/controls",
            "_view_module_version": "1.5.0",
            "_view_name": "HTMLView",
            "description": "",
            "description_tooltip": null,
            "layout": "IPY_MODEL_acb8f6838018413e84f123f4a09b1e8d",
            "placeholder": "​",
            "style": "IPY_MODEL_ad91bc7f8dfc4e8ea3bce52289d98c13",
            "value": "Downloading (…)solve/main/vocab.txt: 100%"
          }
        },
        "058bdbff20cf42ff9b55d75a7a3b0e95": {
          "model_module": "@jupyter-widgets/controls",
          "model_name": "FloatProgressModel",
          "model_module_version": "1.5.0",
          "state": {
            "_dom_classes": [],
            "_model_module": "@jupyter-widgets/controls",
            "_model_module_version": "1.5.0",
            "_model_name": "FloatProgressModel",
            "_view_count": null,
            "_view_module": "@jupyter-widgets/controls",
            "_view_module_version": "1.5.0",
            "_view_name": "ProgressView",
            "bar_style": "success",
            "description": "",
            "description_tooltip": null,
            "layout": "IPY_MODEL_fc43a3259e6841a18760a33774899358",
            "max": 1099714,
            "min": 0,
            "orientation": "horizontal",
            "style": "IPY_MODEL_7e34641c650840caa3ae06d58316dd0e",
            "value": 1099714
          }
        },
        "d009ca83cc364f06ad91b07465cd19f9": {
          "model_module": "@jupyter-widgets/controls",
          "model_name": "HTMLModel",
          "model_module_version": "1.5.0",
          "state": {
            "_dom_classes": [],
            "_model_module": "@jupyter-widgets/controls",
            "_model_module_version": "1.5.0",
            "_model_name": "HTMLModel",
            "_view_count": null,
            "_view_module": "@jupyter-widgets/controls",
            "_view_module_version": "1.5.0",
            "_view_name": "HTMLView",
            "description": "",
            "description_tooltip": null,
            "layout": "IPY_MODEL_6e3e7454ec1c48668f687c6da6b291ed",
            "placeholder": "​",
            "style": "IPY_MODEL_c2095e480399409cb63ea084e58cab8a",
            "value": " 1.10M/1.10M [00:00&lt;00:00, 1.50MB/s]"
          }
        },
        "187a91cdeab543058951ef926bde9beb": {
          "model_module": "@jupyter-widgets/base",
          "model_name": "LayoutModel",
          "model_module_version": "1.2.0",
          "state": {
            "_model_module": "@jupyter-widgets/base",
            "_model_module_version": "1.2.0",
            "_model_name": "LayoutModel",
            "_view_count": null,
            "_view_module": "@jupyter-widgets/base",
            "_view_module_version": "1.2.0",
            "_view_name": "LayoutView",
            "align_content": null,
            "align_items": null,
            "align_self": null,
            "border": null,
            "bottom": null,
            "display": null,
            "flex": null,
            "flex_flow": null,
            "grid_area": null,
            "grid_auto_columns": null,
            "grid_auto_flow": null,
            "grid_auto_rows": null,
            "grid_column": null,
            "grid_gap": null,
            "grid_row": null,
            "grid_template_areas": null,
            "grid_template_columns": null,
            "grid_template_rows": null,
            "height": null,
            "justify_content": null,
            "justify_items": null,
            "left": null,
            "margin": null,
            "max_height": null,
            "max_width": null,
            "min_height": null,
            "min_width": null,
            "object_fit": null,
            "object_position": null,
            "order": null,
            "overflow": null,
            "overflow_x": null,
            "overflow_y": null,
            "padding": null,
            "right": null,
            "top": null,
            "visibility": null,
            "width": null
          }
        },
        "acb8f6838018413e84f123f4a09b1e8d": {
          "model_module": "@jupyter-widgets/base",
          "model_name": "LayoutModel",
          "model_module_version": "1.2.0",
          "state": {
            "_model_module": "@jupyter-widgets/base",
            "_model_module_version": "1.2.0",
            "_model_name": "LayoutModel",
            "_view_count": null,
            "_view_module": "@jupyter-widgets/base",
            "_view_module_version": "1.2.0",
            "_view_name": "LayoutView",
            "align_content": null,
            "align_items": null,
            "align_self": null,
            "border": null,
            "bottom": null,
            "display": null,
            "flex": null,
            "flex_flow": null,
            "grid_area": null,
            "grid_auto_columns": null,
            "grid_auto_flow": null,
            "grid_auto_rows": null,
            "grid_column": null,
            "grid_gap": null,
            "grid_row": null,
            "grid_template_areas": null,
            "grid_template_columns": null,
            "grid_template_rows": null,
            "height": null,
            "justify_content": null,
            "justify_items": null,
            "left": null,
            "margin": null,
            "max_height": null,
            "max_width": null,
            "min_height": null,
            "min_width": null,
            "object_fit": null,
            "object_position": null,
            "order": null,
            "overflow": null,
            "overflow_x": null,
            "overflow_y": null,
            "padding": null,
            "right": null,
            "top": null,
            "visibility": null,
            "width": null
          }
        },
        "ad91bc7f8dfc4e8ea3bce52289d98c13": {
          "model_module": "@jupyter-widgets/controls",
          "model_name": "DescriptionStyleModel",
          "model_module_version": "1.5.0",
          "state": {
            "_model_module": "@jupyter-widgets/controls",
            "_model_module_version": "1.5.0",
            "_model_name": "DescriptionStyleModel",
            "_view_count": null,
            "_view_module": "@jupyter-widgets/base",
            "_view_module_version": "1.2.0",
            "_view_name": "StyleView",
            "description_width": ""
          }
        },
        "fc43a3259e6841a18760a33774899358": {
          "model_module": "@jupyter-widgets/base",
          "model_name": "LayoutModel",
          "model_module_version": "1.2.0",
          "state": {
            "_model_module": "@jupyter-widgets/base",
            "_model_module_version": "1.2.0",
            "_model_name": "LayoutModel",
            "_view_count": null,
            "_view_module": "@jupyter-widgets/base",
            "_view_module_version": "1.2.0",
            "_view_name": "LayoutView",
            "align_content": null,
            "align_items": null,
            "align_self": null,
            "border": null,
            "bottom": null,
            "display": null,
            "flex": null,
            "flex_flow": null,
            "grid_area": null,
            "grid_auto_columns": null,
            "grid_auto_flow": null,
            "grid_auto_rows": null,
            "grid_column": null,
            "grid_gap": null,
            "grid_row": null,
            "grid_template_areas": null,
            "grid_template_columns": null,
            "grid_template_rows": null,
            "height": null,
            "justify_content": null,
            "justify_items": null,
            "left": null,
            "margin": null,
            "max_height": null,
            "max_width": null,
            "min_height": null,
            "min_width": null,
            "object_fit": null,
            "object_position": null,
            "order": null,
            "overflow": null,
            "overflow_x": null,
            "overflow_y": null,
            "padding": null,
            "right": null,
            "top": null,
            "visibility": null,
            "width": null
          }
        },
        "7e34641c650840caa3ae06d58316dd0e": {
          "model_module": "@jupyter-widgets/controls",
          "model_name": "ProgressStyleModel",
          "model_module_version": "1.5.0",
          "state": {
            "_model_module": "@jupyter-widgets/controls",
            "_model_module_version": "1.5.0",
            "_model_name": "ProgressStyleModel",
            "_view_count": null,
            "_view_module": "@jupyter-widgets/base",
            "_view_module_version": "1.2.0",
            "_view_name": "StyleView",
            "bar_color": null,
            "description_width": ""
          }
        },
        "6e3e7454ec1c48668f687c6da6b291ed": {
          "model_module": "@jupyter-widgets/base",
          "model_name": "LayoutModel",
          "model_module_version": "1.2.0",
          "state": {
            "_model_module": "@jupyter-widgets/base",
            "_model_module_version": "1.2.0",
            "_model_name": "LayoutModel",
            "_view_count": null,
            "_view_module": "@jupyter-widgets/base",
            "_view_module_version": "1.2.0",
            "_view_name": "LayoutView",
            "align_content": null,
            "align_items": null,
            "align_self": null,
            "border": null,
            "bottom": null,
            "display": null,
            "flex": null,
            "flex_flow": null,
            "grid_area": null,
            "grid_auto_columns": null,
            "grid_auto_flow": null,
            "grid_auto_rows": null,
            "grid_column": null,
            "grid_gap": null,
            "grid_row": null,
            "grid_template_areas": null,
            "grid_template_columns": null,
            "grid_template_rows": null,
            "height": null,
            "justify_content": null,
            "justify_items": null,
            "left": null,
            "margin": null,
            "max_height": null,
            "max_width": null,
            "min_height": null,
            "min_width": null,
            "object_fit": null,
            "object_position": null,
            "order": null,
            "overflow": null,
            "overflow_x": null,
            "overflow_y": null,
            "padding": null,
            "right": null,
            "top": null,
            "visibility": null,
            "width": null
          }
        },
        "c2095e480399409cb63ea084e58cab8a": {
          "model_module": "@jupyter-widgets/controls",
          "model_name": "DescriptionStyleModel",
          "model_module_version": "1.5.0",
          "state": {
            "_model_module": "@jupyter-widgets/controls",
            "_model_module_version": "1.5.0",
            "_model_name": "DescriptionStyleModel",
            "_view_count": null,
            "_view_module": "@jupyter-widgets/base",
            "_view_module_version": "1.2.0",
            "_view_name": "StyleView",
            "description_width": ""
          }
        },
        "af9808a5336246adb2e12c3b56c2b891": {
          "model_module": "@jupyter-widgets/controls",
          "model_name": "HBoxModel",
          "model_module_version": "1.5.0",
          "state": {
            "_dom_classes": [],
            "_model_module": "@jupyter-widgets/controls",
            "_model_module_version": "1.5.0",
            "_model_name": "HBoxModel",
            "_view_count": null,
            "_view_module": "@jupyter-widgets/controls",
            "_view_module_version": "1.5.0",
            "_view_name": "HBoxView",
            "box_style": "",
            "children": [
              "IPY_MODEL_3907c706975442bf807d7afc2daf94cd",
              "IPY_MODEL_13325fc6804b420da5fa8ca8695aab23",
              "IPY_MODEL_4550b59a7dde48bb973cb85d959bc71a"
            ],
            "layout": "IPY_MODEL_2281721b95b4414b896da4a1d97a15f5"
          }
        },
        "3907c706975442bf807d7afc2daf94cd": {
          "model_module": "@jupyter-widgets/controls",
          "model_name": "HTMLModel",
          "model_module_version": "1.5.0",
          "state": {
            "_dom_classes": [],
            "_model_module": "@jupyter-widgets/controls",
            "_model_module_version": "1.5.0",
            "_model_name": "HTMLModel",
            "_view_count": null,
            "_view_module": "@jupyter-widgets/controls",
            "_view_module_version": "1.5.0",
            "_view_name": "HTMLView",
            "description": "",
            "description_tooltip": null,
            "layout": "IPY_MODEL_3409da18a52c40a3801924b4fa7acad1",
            "placeholder": "​",
            "style": "IPY_MODEL_99d1dca0d77649da890c8dd3d55bf266",
            "value": "Downloading (…)cial_tokens_map.json: 100%"
          }
        },
        "13325fc6804b420da5fa8ca8695aab23": {
          "model_module": "@jupyter-widgets/controls",
          "model_name": "FloatProgressModel",
          "model_module_version": "1.5.0",
          "state": {
            "_dom_classes": [],
            "_model_module": "@jupyter-widgets/controls",
            "_model_module_version": "1.5.0",
            "_model_name": "FloatProgressModel",
            "_view_count": null,
            "_view_module": "@jupyter-widgets/controls",
            "_view_module_version": "1.5.0",
            "_view_name": "ProgressView",
            "bar_style": "success",
            "description": "",
            "description_tooltip": null,
            "layout": "IPY_MODEL_656e18c56e7a47ef805a1568c5d9bcf9",
            "max": 112,
            "min": 0,
            "orientation": "horizontal",
            "style": "IPY_MODEL_fef9254bda6f4a4285cd98cb25fa448b",
            "value": 112
          }
        },
        "4550b59a7dde48bb973cb85d959bc71a": {
          "model_module": "@jupyter-widgets/controls",
          "model_name": "HTMLModel",
          "model_module_version": "1.5.0",
          "state": {
            "_dom_classes": [],
            "_model_module": "@jupyter-widgets/controls",
            "_model_module_version": "1.5.0",
            "_model_name": "HTMLModel",
            "_view_count": null,
            "_view_module": "@jupyter-widgets/controls",
            "_view_module_version": "1.5.0",
            "_view_name": "HTMLView",
            "description": "",
            "description_tooltip": null,
            "layout": "IPY_MODEL_e264b8f21f31482e826acd2fc64a2a93",
            "placeholder": "​",
            "style": "IPY_MODEL_79d659dfa2e6488fb81b73b41ce26495",
            "value": " 112/112 [00:00&lt;00:00, 4.96kB/s]"
          }
        },
        "2281721b95b4414b896da4a1d97a15f5": {
          "model_module": "@jupyter-widgets/base",
          "model_name": "LayoutModel",
          "model_module_version": "1.2.0",
          "state": {
            "_model_module": "@jupyter-widgets/base",
            "_model_module_version": "1.2.0",
            "_model_name": "LayoutModel",
            "_view_count": null,
            "_view_module": "@jupyter-widgets/base",
            "_view_module_version": "1.2.0",
            "_view_name": "LayoutView",
            "align_content": null,
            "align_items": null,
            "align_self": null,
            "border": null,
            "bottom": null,
            "display": null,
            "flex": null,
            "flex_flow": null,
            "grid_area": null,
            "grid_auto_columns": null,
            "grid_auto_flow": null,
            "grid_auto_rows": null,
            "grid_column": null,
            "grid_gap": null,
            "grid_row": null,
            "grid_template_areas": null,
            "grid_template_columns": null,
            "grid_template_rows": null,
            "height": null,
            "justify_content": null,
            "justify_items": null,
            "left": null,
            "margin": null,
            "max_height": null,
            "max_width": null,
            "min_height": null,
            "min_width": null,
            "object_fit": null,
            "object_position": null,
            "order": null,
            "overflow": null,
            "overflow_x": null,
            "overflow_y": null,
            "padding": null,
            "right": null,
            "top": null,
            "visibility": null,
            "width": null
          }
        },
        "3409da18a52c40a3801924b4fa7acad1": {
          "model_module": "@jupyter-widgets/base",
          "model_name": "LayoutModel",
          "model_module_version": "1.2.0",
          "state": {
            "_model_module": "@jupyter-widgets/base",
            "_model_module_version": "1.2.0",
            "_model_name": "LayoutModel",
            "_view_count": null,
            "_view_module": "@jupyter-widgets/base",
            "_view_module_version": "1.2.0",
            "_view_name": "LayoutView",
            "align_content": null,
            "align_items": null,
            "align_self": null,
            "border": null,
            "bottom": null,
            "display": null,
            "flex": null,
            "flex_flow": null,
            "grid_area": null,
            "grid_auto_columns": null,
            "grid_auto_flow": null,
            "grid_auto_rows": null,
            "grid_column": null,
            "grid_gap": null,
            "grid_row": null,
            "grid_template_areas": null,
            "grid_template_columns": null,
            "grid_template_rows": null,
            "height": null,
            "justify_content": null,
            "justify_items": null,
            "left": null,
            "margin": null,
            "max_height": null,
            "max_width": null,
            "min_height": null,
            "min_width": null,
            "object_fit": null,
            "object_position": null,
            "order": null,
            "overflow": null,
            "overflow_x": null,
            "overflow_y": null,
            "padding": null,
            "right": null,
            "top": null,
            "visibility": null,
            "width": null
          }
        },
        "99d1dca0d77649da890c8dd3d55bf266": {
          "model_module": "@jupyter-widgets/controls",
          "model_name": "DescriptionStyleModel",
          "model_module_version": "1.5.0",
          "state": {
            "_model_module": "@jupyter-widgets/controls",
            "_model_module_version": "1.5.0",
            "_model_name": "DescriptionStyleModel",
            "_view_count": null,
            "_view_module": "@jupyter-widgets/base",
            "_view_module_version": "1.2.0",
            "_view_name": "StyleView",
            "description_width": ""
          }
        },
        "656e18c56e7a47ef805a1568c5d9bcf9": {
          "model_module": "@jupyter-widgets/base",
          "model_name": "LayoutModel",
          "model_module_version": "1.2.0",
          "state": {
            "_model_module": "@jupyter-widgets/base",
            "_model_module_version": "1.2.0",
            "_model_name": "LayoutModel",
            "_view_count": null,
            "_view_module": "@jupyter-widgets/base",
            "_view_module_version": "1.2.0",
            "_view_name": "LayoutView",
            "align_content": null,
            "align_items": null,
            "align_self": null,
            "border": null,
            "bottom": null,
            "display": null,
            "flex": null,
            "flex_flow": null,
            "grid_area": null,
            "grid_auto_columns": null,
            "grid_auto_flow": null,
            "grid_auto_rows": null,
            "grid_column": null,
            "grid_gap": null,
            "grid_row": null,
            "grid_template_areas": null,
            "grid_template_columns": null,
            "grid_template_rows": null,
            "height": null,
            "justify_content": null,
            "justify_items": null,
            "left": null,
            "margin": null,
            "max_height": null,
            "max_width": null,
            "min_height": null,
            "min_width": null,
            "object_fit": null,
            "object_position": null,
            "order": null,
            "overflow": null,
            "overflow_x": null,
            "overflow_y": null,
            "padding": null,
            "right": null,
            "top": null,
            "visibility": null,
            "width": null
          }
        },
        "fef9254bda6f4a4285cd98cb25fa448b": {
          "model_module": "@jupyter-widgets/controls",
          "model_name": "ProgressStyleModel",
          "model_module_version": "1.5.0",
          "state": {
            "_model_module": "@jupyter-widgets/controls",
            "_model_module_version": "1.5.0",
            "_model_name": "ProgressStyleModel",
            "_view_count": null,
            "_view_module": "@jupyter-widgets/base",
            "_view_module_version": "1.2.0",
            "_view_name": "StyleView",
            "bar_color": null,
            "description_width": ""
          }
        },
        "e264b8f21f31482e826acd2fc64a2a93": {
          "model_module": "@jupyter-widgets/base",
          "model_name": "LayoutModel",
          "model_module_version": "1.2.0",
          "state": {
            "_model_module": "@jupyter-widgets/base",
            "_model_module_version": "1.2.0",
            "_model_name": "LayoutModel",
            "_view_count": null,
            "_view_module": "@jupyter-widgets/base",
            "_view_module_version": "1.2.0",
            "_view_name": "LayoutView",
            "align_content": null,
            "align_items": null,
            "align_self": null,
            "border": null,
            "bottom": null,
            "display": null,
            "flex": null,
            "flex_flow": null,
            "grid_area": null,
            "grid_auto_columns": null,
            "grid_auto_flow": null,
            "grid_auto_rows": null,
            "grid_column": null,
            "grid_gap": null,
            "grid_row": null,
            "grid_template_areas": null,
            "grid_template_columns": null,
            "grid_template_rows": null,
            "height": null,
            "justify_content": null,
            "justify_items": null,
            "left": null,
            "margin": null,
            "max_height": null,
            "max_width": null,
            "min_height": null,
            "min_width": null,
            "object_fit": null,
            "object_position": null,
            "order": null,
            "overflow": null,
            "overflow_x": null,
            "overflow_y": null,
            "padding": null,
            "right": null,
            "top": null,
            "visibility": null,
            "width": null
          }
        },
        "79d659dfa2e6488fb81b73b41ce26495": {
          "model_module": "@jupyter-widgets/controls",
          "model_name": "DescriptionStyleModel",
          "model_module_version": "1.5.0",
          "state": {
            "_model_module": "@jupyter-widgets/controls",
            "_model_module_version": "1.5.0",
            "_model_name": "DescriptionStyleModel",
            "_view_count": null,
            "_view_module": "@jupyter-widgets/base",
            "_view_module_version": "1.2.0",
            "_view_name": "StyleView",
            "description_width": ""
          }
        },
        "97d2bdd6896e4e60a0a7756156bdf75a": {
          "model_module": "@jupyter-widgets/controls",
          "model_name": "HBoxModel",
          "model_module_version": "1.5.0",
          "state": {
            "_dom_classes": [],
            "_model_module": "@jupyter-widgets/controls",
            "_model_module_version": "1.5.0",
            "_model_name": "HBoxModel",
            "_view_count": null,
            "_view_module": "@jupyter-widgets/controls",
            "_view_module_version": "1.5.0",
            "_view_name": "HBoxView",
            "box_style": "",
            "children": [
              "IPY_MODEL_0a2f6459794e45a7a0429c87ef68eb7d",
              "IPY_MODEL_ae8a9c0b64b64ebaad67f15411b509f0",
              "IPY_MODEL_97c4b0b3e696414ebfc3aec3fdd17e0d"
            ],
            "layout": "IPY_MODEL_e95773d03f814f638d6c2c3eae213b77"
          }
        },
        "0a2f6459794e45a7a0429c87ef68eb7d": {
          "model_module": "@jupyter-widgets/controls",
          "model_name": "HTMLModel",
          "model_module_version": "1.5.0",
          "state": {
            "_dom_classes": [],
            "_model_module": "@jupyter-widgets/controls",
            "_model_module_version": "1.5.0",
            "_model_name": "HTMLModel",
            "_view_count": null,
            "_view_module": "@jupyter-widgets/controls",
            "_view_module_version": "1.5.0",
            "_view_name": "HTMLView",
            "description": "",
            "description_tooltip": null,
            "layout": "IPY_MODEL_bf2369540fd9433b937d114077823ae7",
            "placeholder": "​",
            "style": "IPY_MODEL_639b9014ab554bb3bf95f9d1cbf97779",
            "value": "Downloading tf_model.h5: 100%"
          }
        },
        "ae8a9c0b64b64ebaad67f15411b509f0": {
          "model_module": "@jupyter-widgets/controls",
          "model_name": "FloatProgressModel",
          "model_module_version": "1.5.0",
          "state": {
            "_dom_classes": [],
            "_model_module": "@jupyter-widgets/controls",
            "_model_module_version": "1.5.0",
            "_model_name": "FloatProgressModel",
            "_view_count": null,
            "_view_module": "@jupyter-widgets/controls",
            "_view_module_version": "1.5.0",
            "_view_name": "ProgressView",
            "bar_style": "success",
            "description": "",
            "description_tooltip": null,
            "layout": "IPY_MODEL_378176720dd7423c97ed38e385a2c34f",
            "max": 651627688,
            "min": 0,
            "orientation": "horizontal",
            "style": "IPY_MODEL_5c48307e60ec400dac97f7cba8c90bc7",
            "value": 651627688
          }
        },
        "97c4b0b3e696414ebfc3aec3fdd17e0d": {
          "model_module": "@jupyter-widgets/controls",
          "model_name": "HTMLModel",
          "model_module_version": "1.5.0",
          "state": {
            "_dom_classes": [],
            "_model_module": "@jupyter-widgets/controls",
            "_model_module_version": "1.5.0",
            "_model_name": "HTMLModel",
            "_view_count": null,
            "_view_module": "@jupyter-widgets/controls",
            "_view_module_version": "1.5.0",
            "_view_name": "HTMLView",
            "description": "",
            "description_tooltip": null,
            "layout": "IPY_MODEL_3dc27cb21edd4a3db7af874f5ad6f6cb",
            "placeholder": "​",
            "style": "IPY_MODEL_8ffa57462aeb4a118e213788f139c0d2",
            "value": " 652M/652M [00:02&lt;00:00, 270MB/s]"
          }
        },
        "e95773d03f814f638d6c2c3eae213b77": {
          "model_module": "@jupyter-widgets/base",
          "model_name": "LayoutModel",
          "model_module_version": "1.2.0",
          "state": {
            "_model_module": "@jupyter-widgets/base",
            "_model_module_version": "1.2.0",
            "_model_name": "LayoutModel",
            "_view_count": null,
            "_view_module": "@jupyter-widgets/base",
            "_view_module_version": "1.2.0",
            "_view_name": "LayoutView",
            "align_content": null,
            "align_items": null,
            "align_self": null,
            "border": null,
            "bottom": null,
            "display": null,
            "flex": null,
            "flex_flow": null,
            "grid_area": null,
            "grid_auto_columns": null,
            "grid_auto_flow": null,
            "grid_auto_rows": null,
            "grid_column": null,
            "grid_gap": null,
            "grid_row": null,
            "grid_template_areas": null,
            "grid_template_columns": null,
            "grid_template_rows": null,
            "height": null,
            "justify_content": null,
            "justify_items": null,
            "left": null,
            "margin": null,
            "max_height": null,
            "max_width": null,
            "min_height": null,
            "min_width": null,
            "object_fit": null,
            "object_position": null,
            "order": null,
            "overflow": null,
            "overflow_x": null,
            "overflow_y": null,
            "padding": null,
            "right": null,
            "top": null,
            "visibility": null,
            "width": null
          }
        },
        "bf2369540fd9433b937d114077823ae7": {
          "model_module": "@jupyter-widgets/base",
          "model_name": "LayoutModel",
          "model_module_version": "1.2.0",
          "state": {
            "_model_module": "@jupyter-widgets/base",
            "_model_module_version": "1.2.0",
            "_model_name": "LayoutModel",
            "_view_count": null,
            "_view_module": "@jupyter-widgets/base",
            "_view_module_version": "1.2.0",
            "_view_name": "LayoutView",
            "align_content": null,
            "align_items": null,
            "align_self": null,
            "border": null,
            "bottom": null,
            "display": null,
            "flex": null,
            "flex_flow": null,
            "grid_area": null,
            "grid_auto_columns": null,
            "grid_auto_flow": null,
            "grid_auto_rows": null,
            "grid_column": null,
            "grid_gap": null,
            "grid_row": null,
            "grid_template_areas": null,
            "grid_template_columns": null,
            "grid_template_rows": null,
            "height": null,
            "justify_content": null,
            "justify_items": null,
            "left": null,
            "margin": null,
            "max_height": null,
            "max_width": null,
            "min_height": null,
            "min_width": null,
            "object_fit": null,
            "object_position": null,
            "order": null,
            "overflow": null,
            "overflow_x": null,
            "overflow_y": null,
            "padding": null,
            "right": null,
            "top": null,
            "visibility": null,
            "width": null
          }
        },
        "639b9014ab554bb3bf95f9d1cbf97779": {
          "model_module": "@jupyter-widgets/controls",
          "model_name": "DescriptionStyleModel",
          "model_module_version": "1.5.0",
          "state": {
            "_model_module": "@jupyter-widgets/controls",
            "_model_module_version": "1.5.0",
            "_model_name": "DescriptionStyleModel",
            "_view_count": null,
            "_view_module": "@jupyter-widgets/base",
            "_view_module_version": "1.2.0",
            "_view_name": "StyleView",
            "description_width": ""
          }
        },
        "378176720dd7423c97ed38e385a2c34f": {
          "model_module": "@jupyter-widgets/base",
          "model_name": "LayoutModel",
          "model_module_version": "1.2.0",
          "state": {
            "_model_module": "@jupyter-widgets/base",
            "_model_module_version": "1.2.0",
            "_model_name": "LayoutModel",
            "_view_count": null,
            "_view_module": "@jupyter-widgets/base",
            "_view_module_version": "1.2.0",
            "_view_name": "LayoutView",
            "align_content": null,
            "align_items": null,
            "align_self": null,
            "border": null,
            "bottom": null,
            "display": null,
            "flex": null,
            "flex_flow": null,
            "grid_area": null,
            "grid_auto_columns": null,
            "grid_auto_flow": null,
            "grid_auto_rows": null,
            "grid_column": null,
            "grid_gap": null,
            "grid_row": null,
            "grid_template_areas": null,
            "grid_template_columns": null,
            "grid_template_rows": null,
            "height": null,
            "justify_content": null,
            "justify_items": null,
            "left": null,
            "margin": null,
            "max_height": null,
            "max_width": null,
            "min_height": null,
            "min_width": null,
            "object_fit": null,
            "object_position": null,
            "order": null,
            "overflow": null,
            "overflow_x": null,
            "overflow_y": null,
            "padding": null,
            "right": null,
            "top": null,
            "visibility": null,
            "width": null
          }
        },
        "5c48307e60ec400dac97f7cba8c90bc7": {
          "model_module": "@jupyter-widgets/controls",
          "model_name": "ProgressStyleModel",
          "model_module_version": "1.5.0",
          "state": {
            "_model_module": "@jupyter-widgets/controls",
            "_model_module_version": "1.5.0",
            "_model_name": "ProgressStyleModel",
            "_view_count": null,
            "_view_module": "@jupyter-widgets/base",
            "_view_module_version": "1.2.0",
            "_view_name": "StyleView",
            "bar_color": null,
            "description_width": ""
          }
        },
        "3dc27cb21edd4a3db7af874f5ad6f6cb": {
          "model_module": "@jupyter-widgets/base",
          "model_name": "LayoutModel",
          "model_module_version": "1.2.0",
          "state": {
            "_model_module": "@jupyter-widgets/base",
            "_model_module_version": "1.2.0",
            "_model_name": "LayoutModel",
            "_view_count": null,
            "_view_module": "@jupyter-widgets/base",
            "_view_module_version": "1.2.0",
            "_view_name": "LayoutView",
            "align_content": null,
            "align_items": null,
            "align_self": null,
            "border": null,
            "bottom": null,
            "display": null,
            "flex": null,
            "flex_flow": null,
            "grid_area": null,
            "grid_auto_columns": null,
            "grid_auto_flow": null,
            "grid_auto_rows": null,
            "grid_column": null,
            "grid_gap": null,
            "grid_row": null,
            "grid_template_areas": null,
            "grid_template_columns": null,
            "grid_template_rows": null,
            "height": null,
            "justify_content": null,
            "justify_items": null,
            "left": null,
            "margin": null,
            "max_height": null,
            "max_width": null,
            "min_height": null,
            "min_width": null,
            "object_fit": null,
            "object_position": null,
            "order": null,
            "overflow": null,
            "overflow_x": null,
            "overflow_y": null,
            "padding": null,
            "right": null,
            "top": null,
            "visibility": null,
            "width": null
          }
        },
        "8ffa57462aeb4a118e213788f139c0d2": {
          "model_module": "@jupyter-widgets/controls",
          "model_name": "DescriptionStyleModel",
          "model_module_version": "1.5.0",
          "state": {
            "_model_module": "@jupyter-widgets/controls",
            "_model_module_version": "1.5.0",
            "_model_name": "DescriptionStyleModel",
            "_view_count": null,
            "_view_module": "@jupyter-widgets/base",
            "_view_module_version": "1.2.0",
            "_view_name": "StyleView",
            "description_width": ""
          }
        }
      }
    }
  },
  "nbformat": 4,
  "nbformat_minor": 0
}