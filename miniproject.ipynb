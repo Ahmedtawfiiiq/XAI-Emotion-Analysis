{
  "nbformat": 4,
  "nbformat_minor": 0,
  "metadata": {
    "colab": {
      "provenance": [],
      "gpuType": "T4"
    },
    "kernelspec": {
      "name": "python3",
      "display_name": "Python 3"
    },
    "language_info": {
      "name": "python"
    },
    "accelerator": "GPU"
  },
  "cells": [
    {
      "cell_type": "code",
      "source": [
        "!pip install nlpaug"
      ],
      "metadata": {
        "colab": {
          "base_uri": "https://localhost:8080/"
        },
        "id": "oNKOxbrA7Ec-",
        "outputId": "30496f5e-45e5-4fe2-a622-17de9b0f36f5"
      },
      "execution_count": null,
      "outputs": [
        {
          "output_type": "stream",
          "name": "stdout",
          "text": [
            "Requirement already satisfied: nlpaug in /usr/local/lib/python3.10/dist-packages (1.1.11)\n",
            "Requirement already satisfied: numpy>=1.16.2 in /usr/local/lib/python3.10/dist-packages (from nlpaug) (1.22.4)\n",
            "Requirement already satisfied: pandas>=1.2.0 in /usr/local/lib/python3.10/dist-packages (from nlpaug) (1.5.3)\n",
            "Requirement already satisfied: requests>=2.22.0 in /usr/local/lib/python3.10/dist-packages (from nlpaug) (2.27.1)\n",
            "Requirement already satisfied: gdown>=4.0.0 in /usr/local/lib/python3.10/dist-packages (from nlpaug) (4.6.6)\n",
            "Requirement already satisfied: filelock in /usr/local/lib/python3.10/dist-packages (from gdown>=4.0.0->nlpaug) (3.12.2)\n",
            "Requirement already satisfied: six in /usr/local/lib/python3.10/dist-packages (from gdown>=4.0.0->nlpaug) (1.16.0)\n",
            "Requirement already satisfied: tqdm in /usr/local/lib/python3.10/dist-packages (from gdown>=4.0.0->nlpaug) (4.65.0)\n",
            "Requirement already satisfied: beautifulsoup4 in /usr/local/lib/python3.10/dist-packages (from gdown>=4.0.0->nlpaug) (4.11.2)\n",
            "Requirement already satisfied: python-dateutil>=2.8.1 in /usr/local/lib/python3.10/dist-packages (from pandas>=1.2.0->nlpaug) (2.8.2)\n",
            "Requirement already satisfied: pytz>=2020.1 in /usr/local/lib/python3.10/dist-packages (from pandas>=1.2.0->nlpaug) (2022.7.1)\n",
            "Requirement already satisfied: urllib3<1.27,>=1.21.1 in /usr/local/lib/python3.10/dist-packages (from requests>=2.22.0->nlpaug) (1.26.16)\n",
            "Requirement already satisfied: certifi>=2017.4.17 in /usr/local/lib/python3.10/dist-packages (from requests>=2.22.0->nlpaug) (2023.7.22)\n",
            "Requirement already satisfied: charset-normalizer~=2.0.0 in /usr/local/lib/python3.10/dist-packages (from requests>=2.22.0->nlpaug) (2.0.12)\n",
            "Requirement already satisfied: idna<4,>=2.5 in /usr/local/lib/python3.10/dist-packages (from requests>=2.22.0->nlpaug) (3.4)\n",
            "Requirement already satisfied: soupsieve>1.2 in /usr/local/lib/python3.10/dist-packages (from beautifulsoup4->gdown>=4.0.0->nlpaug) (2.4.1)\n",
            "Requirement already satisfied: PySocks!=1.5.7,>=1.5.6 in /usr/local/lib/python3.10/dist-packages (from requests>=2.22.0->nlpaug) (1.7.1)\n"
          ]
        }
      ]
    },
    {
      "cell_type": "code",
      "source": [
        "import re\n",
        "import nltk\n",
        "nltk.download('punkt')\n",
        "import nlpaug.augmenter.word as naw\n",
        "import tqdm\n",
        "import gensim\n",
        "import random\n",
        "import copy\n",
        "import unicodedata\n",
        "import numpy as np\n",
        "import pandas as pd\n",
        "import matplotlib.pyplot as plt\n",
        "import tensorflow.keras.layers  as l\n",
        "from sklearn.svm import LinearSVC\n",
        "from bs4 import BeautifulSoup\n",
        "from google.colab import drive\n",
        "from nltk.stem import ISRIStemmer\n",
        "from gensim.models import word2vec\n",
        "from sklearn.metrics import accuracy_score\n",
        "from tensorflow.keras.regularizers import l2\n",
        "from sklearn.preprocessing import LabelEncoder\n",
        "from tensorflow.keras.models import Sequential\n",
        "from tensorflow.keras.models import load_model\n",
        "from sklearn.linear_model import LogisticRegression\n",
        "from sklearn.model_selection import train_test_split\n",
        "from tensorflow.keras.callbacks import EarlyStopping\n",
        "from tensorflow.keras.callbacks import ModelCheckpoint\n",
        "from tensorflow.keras.preprocessing import sequence\n",
        "from tensorflow.keras.preprocessing.text import Tokenizer\n",
        "from sklearn.feature_extraction.text import TfidfVectorizer\n",
        "from tensorflow.keras.backend import clear_session\n",
        "from sklearn.calibration import CalibratedClassifierCV"
      ],
      "metadata": {
        "colab": {
          "base_uri": "https://localhost:8080/"
        },
        "id": "BuNU4M4XN3Xf",
        "outputId": "13195d35-3b74-4f80-f240-322abad35a51"
      },
      "execution_count": null,
      "outputs": [
        {
          "output_type": "stream",
          "name": "stderr",
          "text": [
            "[nltk_data] Downloading package punkt to /root/nltk_data...\n",
            "[nltk_data]   Package punkt is already up-to-date!\n"
          ]
        }
      ]
    },
    {
      "cell_type": "code",
      "source": [
        "drive.mount('/content/drive')"
      ],
      "metadata": {
        "colab": {
          "base_uri": "https://localhost:8080/"
        },
        "id": "6udRqA5WJIMG",
        "outputId": "de9d5bc9-39c8-4dcb-c496-7cafe5805301"
      },
      "execution_count": null,
      "outputs": [
        {
          "output_type": "stream",
          "name": "stdout",
          "text": [
            "Drive already mounted at /content/drive; to attempt to forcibly remount, call drive.mount(\"/content/drive\", force_remount=True).\n"
          ]
        }
      ]
    },
    {
      "cell_type": "code",
      "source": [
        "FILE_PATH = \"/content/drive/MyDrive/Copy of LABR-book-reviews.csv\"\n",
        "df = pd.read_csv(FILE_PATH)\n",
        "df.info()"
      ],
      "metadata": {
        "colab": {
          "base_uri": "https://localhost:8080/"
        },
        "id": "Y2wSzaZo7Zn_",
        "outputId": "318026c1-d080-4904-ab60-bd94d71b2ec0"
      },
      "execution_count": null,
      "outputs": [
        {
          "output_type": "stream",
          "name": "stdout",
          "text": [
            "<class 'pandas.core.frame.DataFrame'>\n",
            "RangeIndex: 16448 entries, 0 to 16447\n",
            "Data columns (total 2 columns):\n",
            " #   Column     Non-Null Count  Dtype \n",
            "---  ------     --------------  ----- \n",
            " 0   sentiment  16448 non-null  int64 \n",
            " 1   txt        16448 non-null  object\n",
            "dtypes: int64(1), object(1)\n",
            "memory usage: 257.1+ KB\n"
          ]
        }
      ]
    },
    {
      "cell_type": "code",
      "source": [
        "df.head()"
      ],
      "metadata": {
        "colab": {
          "base_uri": "https://localhost:8080/",
          "height": 206
        },
        "id": "Q32j-IGlOtLE",
        "outputId": "cf829df6-5d5c-4d08-e309-41aa9ea59e24"
      },
      "execution_count": null,
      "outputs": [
        {
          "output_type": "execute_result",
          "data": {
            "text/plain": [
              "   sentiment                                                txt\n",
              "0          0                      مكملتش أكتر من 30 صفحة. بضان.\n",
              "1          0   من النادر جدا ان يعجبني الفلم اكثر من الرواية...\n",
              "2          0   كتاب سي جدا .الاسلوب غير ممتع ,نهاية مفتوحة و...\n",
              "3          0   قصه مشوقه ونهايه مفتوحه ، أسوء صفحه فى هذه ال...\n",
              "4          0   ابدع الكاتب في سرد الحقائق التاريخية او بمعنى..."
            ],
            "text/html": [
              "\n",
              "\n",
              "  <div id=\"df-c7539a18-8659-4a88-9daf-35be38c9c378\">\n",
              "    <div class=\"colab-df-container\">\n",
              "      <div>\n",
              "<style scoped>\n",
              "    .dataframe tbody tr th:only-of-type {\n",
              "        vertical-align: middle;\n",
              "    }\n",
              "\n",
              "    .dataframe tbody tr th {\n",
              "        vertical-align: top;\n",
              "    }\n",
              "\n",
              "    .dataframe thead th {\n",
              "        text-align: right;\n",
              "    }\n",
              "</style>\n",
              "<table border=\"1\" class=\"dataframe\">\n",
              "  <thead>\n",
              "    <tr style=\"text-align: right;\">\n",
              "      <th></th>\n",
              "      <th>sentiment</th>\n",
              "      <th>txt</th>\n",
              "    </tr>\n",
              "  </thead>\n",
              "  <tbody>\n",
              "    <tr>\n",
              "      <th>0</th>\n",
              "      <td>0</td>\n",
              "      <td>مكملتش أكتر من 30 صفحة. بضان.</td>\n",
              "    </tr>\n",
              "    <tr>\n",
              "      <th>1</th>\n",
              "      <td>0</td>\n",
              "      <td>من النادر جدا ان يعجبني الفلم اكثر من الرواية...</td>\n",
              "    </tr>\n",
              "    <tr>\n",
              "      <th>2</th>\n",
              "      <td>0</td>\n",
              "      <td>كتاب سي جدا .الاسلوب غير ممتع ,نهاية مفتوحة و...</td>\n",
              "    </tr>\n",
              "    <tr>\n",
              "      <th>3</th>\n",
              "      <td>0</td>\n",
              "      <td>قصه مشوقه ونهايه مفتوحه ، أسوء صفحه فى هذه ال...</td>\n",
              "    </tr>\n",
              "    <tr>\n",
              "      <th>4</th>\n",
              "      <td>0</td>\n",
              "      <td>ابدع الكاتب في سرد الحقائق التاريخية او بمعنى...</td>\n",
              "    </tr>\n",
              "  </tbody>\n",
              "</table>\n",
              "</div>\n",
              "      <button class=\"colab-df-convert\" onclick=\"convertToInteractive('df-c7539a18-8659-4a88-9daf-35be38c9c378')\"\n",
              "              title=\"Convert this dataframe to an interactive table.\"\n",
              "              style=\"display:none;\">\n",
              "\n",
              "  <svg xmlns=\"http://www.w3.org/2000/svg\" height=\"24px\"viewBox=\"0 0 24 24\"\n",
              "       width=\"24px\">\n",
              "    <path d=\"M0 0h24v24H0V0z\" fill=\"none\"/>\n",
              "    <path d=\"M18.56 5.44l.94 2.06.94-2.06 2.06-.94-2.06-.94-.94-2.06-.94 2.06-2.06.94zm-11 1L8.5 8.5l.94-2.06 2.06-.94-2.06-.94L8.5 2.5l-.94 2.06-2.06.94zm10 10l.94 2.06.94-2.06 2.06-.94-2.06-.94-.94-2.06-.94 2.06-2.06.94z\"/><path d=\"M17.41 7.96l-1.37-1.37c-.4-.4-.92-.59-1.43-.59-.52 0-1.04.2-1.43.59L10.3 9.45l-7.72 7.72c-.78.78-.78 2.05 0 2.83L4 21.41c.39.39.9.59 1.41.59.51 0 1.02-.2 1.41-.59l7.78-7.78 2.81-2.81c.8-.78.8-2.07 0-2.86zM5.41 20L4 18.59l7.72-7.72 1.47 1.35L5.41 20z\"/>\n",
              "  </svg>\n",
              "      </button>\n",
              "\n",
              "\n",
              "\n",
              "    <div id=\"df-6339fca8-fbc1-40be-83d0-9f1fc7f6c0b4\">\n",
              "      <button class=\"colab-df-quickchart\" onclick=\"quickchart('df-6339fca8-fbc1-40be-83d0-9f1fc7f6c0b4')\"\n",
              "              title=\"Suggest charts.\"\n",
              "              style=\"display:none;\">\n",
              "\n",
              "<svg xmlns=\"http://www.w3.org/2000/svg\" height=\"24px\"viewBox=\"0 0 24 24\"\n",
              "     width=\"24px\">\n",
              "    <g>\n",
              "        <path d=\"M19 3H5c-1.1 0-2 .9-2 2v14c0 1.1.9 2 2 2h14c1.1 0 2-.9 2-2V5c0-1.1-.9-2-2-2zM9 17H7v-7h2v7zm4 0h-2V7h2v10zm4 0h-2v-4h2v4z\"/>\n",
              "    </g>\n",
              "</svg>\n",
              "      </button>\n",
              "    </div>\n",
              "\n",
              "<style>\n",
              "  .colab-df-quickchart {\n",
              "    background-color: #E8F0FE;\n",
              "    border: none;\n",
              "    border-radius: 50%;\n",
              "    cursor: pointer;\n",
              "    display: none;\n",
              "    fill: #1967D2;\n",
              "    height: 32px;\n",
              "    padding: 0 0 0 0;\n",
              "    width: 32px;\n",
              "  }\n",
              "\n",
              "  .colab-df-quickchart:hover {\n",
              "    background-color: #E2EBFA;\n",
              "    box-shadow: 0px 1px 2px rgba(60, 64, 67, 0.3), 0px 1px 3px 1px rgba(60, 64, 67, 0.15);\n",
              "    fill: #174EA6;\n",
              "  }\n",
              "\n",
              "  [theme=dark] .colab-df-quickchart {\n",
              "    background-color: #3B4455;\n",
              "    fill: #D2E3FC;\n",
              "  }\n",
              "\n",
              "  [theme=dark] .colab-df-quickchart:hover {\n",
              "    background-color: #434B5C;\n",
              "    box-shadow: 0px 1px 3px 1px rgba(0, 0, 0, 0.15);\n",
              "    filter: drop-shadow(0px 1px 2px rgba(0, 0, 0, 0.3));\n",
              "    fill: #FFFFFF;\n",
              "  }\n",
              "</style>\n",
              "\n",
              "    <script>\n",
              "      async function quickchart(key) {\n",
              "        const containerElement = document.querySelector('#' + key);\n",
              "        const charts = await google.colab.kernel.invokeFunction(\n",
              "            'suggestCharts', [key], {});\n",
              "      }\n",
              "    </script>\n",
              "\n",
              "      <script>\n",
              "\n",
              "function displayQuickchartButton(domScope) {\n",
              "  let quickchartButtonEl =\n",
              "    domScope.querySelector('#df-6339fca8-fbc1-40be-83d0-9f1fc7f6c0b4 button.colab-df-quickchart');\n",
              "  quickchartButtonEl.style.display =\n",
              "    google.colab.kernel.accessAllowed ? 'block' : 'none';\n",
              "}\n",
              "\n",
              "        displayQuickchartButton(document);\n",
              "      </script>\n",
              "      <style>\n",
              "    .colab-df-container {\n",
              "      display:flex;\n",
              "      flex-wrap:wrap;\n",
              "      gap: 12px;\n",
              "    }\n",
              "\n",
              "    .colab-df-convert {\n",
              "      background-color: #E8F0FE;\n",
              "      border: none;\n",
              "      border-radius: 50%;\n",
              "      cursor: pointer;\n",
              "      display: none;\n",
              "      fill: #1967D2;\n",
              "      height: 32px;\n",
              "      padding: 0 0 0 0;\n",
              "      width: 32px;\n",
              "    }\n",
              "\n",
              "    .colab-df-convert:hover {\n",
              "      background-color: #E2EBFA;\n",
              "      box-shadow: 0px 1px 2px rgba(60, 64, 67, 0.3), 0px 1px 3px 1px rgba(60, 64, 67, 0.15);\n",
              "      fill: #174EA6;\n",
              "    }\n",
              "\n",
              "    [theme=dark] .colab-df-convert {\n",
              "      background-color: #3B4455;\n",
              "      fill: #D2E3FC;\n",
              "    }\n",
              "\n",
              "    [theme=dark] .colab-df-convert:hover {\n",
              "      background-color: #434B5C;\n",
              "      box-shadow: 0px 1px 3px 1px rgba(0, 0, 0, 0.15);\n",
              "      filter: drop-shadow(0px 1px 2px rgba(0, 0, 0, 0.3));\n",
              "      fill: #FFFFFF;\n",
              "    }\n",
              "  </style>\n",
              "\n",
              "      <script>\n",
              "        const buttonEl =\n",
              "          document.querySelector('#df-c7539a18-8659-4a88-9daf-35be38c9c378 button.colab-df-convert');\n",
              "        buttonEl.style.display =\n",
              "          google.colab.kernel.accessAllowed ? 'block' : 'none';\n",
              "\n",
              "        async function convertToInteractive(key) {\n",
              "          const element = document.querySelector('#df-c7539a18-8659-4a88-9daf-35be38c9c378');\n",
              "          const dataTable =\n",
              "            await google.colab.kernel.invokeFunction('convertToInteractive',\n",
              "                                                     [key], {});\n",
              "          if (!dataTable) return;\n",
              "\n",
              "          const docLinkHtml = 'Like what you see? Visit the ' +\n",
              "            '<a target=\"_blank\" href=https://colab.research.google.com/notebooks/data_table.ipynb>data table notebook</a>'\n",
              "            + ' to learn more about interactive tables.';\n",
              "          element.innerHTML = '';\n",
              "          dataTable['output_type'] = 'display_data';\n",
              "          await google.colab.output.renderOutput(dataTable, element);\n",
              "          const docLink = document.createElement('div');\n",
              "          docLink.innerHTML = docLinkHtml;\n",
              "          element.appendChild(docLink);\n",
              "        }\n",
              "      </script>\n",
              "    </div>\n",
              "  </div>\n"
            ]
          },
          "metadata": {},
          "execution_count": 9
        }
      ]
    },
    {
      "cell_type": "code",
      "source": [
        "'''\n",
        "function used to remove HTML tags\n",
        "and the content between the tags\n",
        "for data preprocessing\n",
        "'''\n",
        "def strip_html_tags(text):\n",
        "  soup = BeautifulSoup(text, \"html.parser\")\n",
        "  # remove iframe & script tags\n",
        "  [s.extract() for s in soup(['iframe', 'script'])]\n",
        "  stripped_text = soup.get_text()\n",
        "  # replace new lines and carriage return with new line\n",
        "  stripped_text = re.sub(r'[\\r|\\n|\\r\\n]+', '\\n', stripped_text)\n",
        "  return stripped_text"
      ],
      "metadata": {
        "id": "W-rFWNM-Ospb"
      },
      "execution_count": null,
      "outputs": []
    },
    {
      "cell_type": "code",
      "source": [
        "'''\n",
        "function used to handle accented char\n",
        "in multilingual scenarios\n",
        "'''\n",
        "def remove_accented_chars(text):\n",
        "  # normalize the text to remove accented char\n",
        "  text = unicodedata.normalize('NFKD', text)\n",
        "  # encode it to ASCII\n",
        "  text = text.encode('ascii', 'ignore')\n",
        "  # decode it back ti unicode\n",
        "  text = text.decode('utf-8', 'ignore')\n",
        "  return text"
      ],
      "metadata": {
        "id": "-iFGgTCCO0nN"
      },
      "execution_count": null,
      "outputs": []
    },
    {
      "cell_type": "code",
      "source": [
        "def stem_sentence(sentence):\n",
        "  '''\n",
        "  function used for stemming the sentece word wise\n",
        "  '''\n",
        "  isri_stemmer = ISRIStemmer()\n",
        "  # tokenize the sentence into words\n",
        "  words = nltk.word_tokenize(sentence)\n",
        "  # stem each word in the sentence\n",
        "  stemmed_sentence = [isri_stemmer.stem(word) for word in words]\n",
        "  # join the stemmed words back into a sentence\n",
        "  stemmed_sentence = \" \".join(stemmed_sentence)\n",
        "  return stemmed_sentence"
      ],
      "metadata": {
        "id": "6wTdlXEMlmkj"
      },
      "execution_count": null,
      "outputs": []
    },
    {
      "cell_type": "code",
      "source": [
        "def remove_emojis(text):\n",
        "  \"\"\"Removes emojis from a text string.\n",
        "\n",
        "  Args:\n",
        "    text: The text string to be cleaned.\n",
        "\n",
        "  Returns:\n",
        "    A string without emojis.\n",
        "  \"\"\"\n",
        "\n",
        "  emojis = re.compile(u'[\\U00010000-\\U0010ffff]', re.UNICODE)\n",
        "  text = emojis.sub(r'', text)\n",
        "  return text\n",
        "\n",
        "if __name__ == \"__main__\":\n",
        "  text = \"This is a text with 😀 emojis.\"\n",
        "  print(remove_emojis(text))"
      ],
      "metadata": {
        "colab": {
          "base_uri": "https://localhost:8080/"
        },
        "id": "Sr7T7d-DgpzM",
        "outputId": "11a7ce68-65a8-43e8-c512-a70e6aaf3adb"
      },
      "execution_count": null,
      "outputs": [
        {
          "output_type": "stream",
          "name": "stdout",
          "text": [
            "This is a text with  emojis.\n"
          ]
        }
      ]
    },
    {
      "cell_type": "code",
      "source": [
        "def clean_str(text):\n",
        "  search = [\"أ\",\"إ\",\"آ\",\"ة\",\"_\",\"-\",\"/\",\".\",\"،\",\" و \",\" يا \",'\"',\"ـ\",\"'\",\"ى\",\"\\\\\",'\\n', '\\t','&quot;','?','؟','!', '“']\n",
        "  replace = [\"ا\",\"ا\",\"ا\",\"ه\",\" \",\" \",\" \",\" \",\" \",\" و\",\" يا\",\"\",\"\",\"\",\"ي\",\"\",' ', ' ',' ',' ? ',' ؟ ',' ! ', '']\n",
        "\n",
        "  #remove tashkeel\n",
        "  p_tashkeel = re.compile(r'[\\u0617-\\u061A\\u064B-\\u0652]')\n",
        "  text = re.sub(p_tashkeel,\"\", text)\n",
        "\n",
        "  #remove longation\n",
        "  p_longation = re.compile(r'(.)\\1+')\n",
        "  subst = r\"\\1\\1\"\n",
        "  text = re.sub(p_longation, subst, text)\n",
        "\n",
        "  text = text.replace('وو', 'و')\n",
        "  text = text.replace('يي', 'ي')\n",
        "  text = text.replace('اا', 'ا')\n",
        "\n",
        "  for i in range(0, len(search)):\n",
        "      text = text.replace(search[i], replace[i])\n",
        "\n",
        "  #trim\n",
        "  text = text.strip()\n",
        "  text = remove_emojis(text)\n",
        "\n",
        "  return text"
      ],
      "metadata": {
        "id": "iZIPcCdcOLOM"
      },
      "execution_count": null,
      "outputs": []
    },
    {
      "cell_type": "code",
      "source": [
        "'''\n",
        "main function for text preprocessing\n",
        "'''\n",
        "def pre_process_corpus(docs):\n",
        "  norm_docs = []\n",
        "  for doc in tqdm.tqdm(docs):\n",
        "    # removing html chars\n",
        "    doc = strip_html_tags(doc)\n",
        "    # replace newline, tab, and carriage return with 3 spaces\n",
        "    doc = doc.translate(doc.maketrans(\"\\n\\t\\r\", \"   \"))\n",
        "    # replace one or more spaces with a single space\n",
        "    doc = re.sub(' +', ' ', doc)\n",
        "    # remove leading and trailing spaces\n",
        "    doc = doc.strip()\n",
        "    # remove numbers\n",
        "    doc = re.sub(r'\\d+', '', doc)\n",
        "    # clean string from tashkeel and further cleaning\n",
        "    doc = clean_str(doc)\n",
        "    # stem the sentence\n",
        "    doc = stem_sentence(doc)\n",
        "    norm_docs.append(doc)\n",
        "  return norm_docs"
      ],
      "metadata": {
        "id": "GwmTLxD8O0PT"
      },
      "execution_count": null,
      "outputs": []
    },
    {
      "cell_type": "code",
      "source": [
        "df_train, df_test = train_test_split(df, shuffle=True, test_size=0.1)"
      ],
      "metadata": {
        "id": "8_DRSmvPJPb8"
      },
      "execution_count": null,
      "outputs": []
    },
    {
      "cell_type": "code",
      "source": [
        "len(df_train), len(df_test)"
      ],
      "metadata": {
        "colab": {
          "base_uri": "https://localhost:8080/"
        },
        "id": "87O6gWUuJseq",
        "outputId": "b4ff0fee-ee7b-4453-ac26-c6771bc4d073"
      },
      "execution_count": null,
      "outputs": [
        {
          "output_type": "execute_result",
          "data": {
            "text/plain": [
              "(14803, 1645)"
            ]
          },
          "metadata": {},
          "execution_count": 17
        }
      ]
    },
    {
      "cell_type": "code",
      "source": [
        "x_train, y_train = df_train[\"txt\"], df_train[\"sentiment\"]\n",
        "x_test, y_test = df_test[\"txt\"], df_test[\"sentiment\"]"
      ],
      "metadata": {
        "id": "5w_4Mw3ZOz2l"
      },
      "execution_count": null,
      "outputs": []
    },
    {
      "cell_type": "code",
      "source": [
        "# transfer everything to numpy arrays\n",
        "x_train, x_test = np.array(x_train), np.array(x_test)\n",
        "y_train, y_test = np.array(y_train), np.array(y_test)"
      ],
      "metadata": {
        "id": "_oXeRfPoPEbM"
      },
      "execution_count": null,
      "outputs": []
    },
    {
      "cell_type": "code",
      "source": [
        "x_train[0]"
      ],
      "metadata": {
        "colab": {
          "base_uri": "https://localhost:8080/",
          "height": 53
        },
        "id": "L6_aO2LWPRZc",
        "outputId": "fc243423-41b8-4829-e695-3409d488b510"
      },
      "execution_count": null,
      "outputs": [
        {
          "output_type": "execute_result",
          "data": {
            "text/plain": [
              "' المنفعة و غايات المجد و السلطة , بكلّ الوسائل . ليس هذا الكتاب مختلفاً كثيرا بالمناسبة - من ناحية الجوهر - عن المأثور من أدب السلطان في أخبار العرب , و إن كانت هذه الأخيرة أقرب إلى القلب و العقل و الرحمة (أحياناً ) و أولى بمكامن المتعة و الطرب فيه .'"
            ],
            "application/vnd.google.colaboratory.intrinsic+json": {
              "type": "string"
            }
          },
          "metadata": {},
          "execution_count": 20
        }
      ]
    },
    {
      "cell_type": "code",
      "source": [
        "x_train = pre_process_corpus(x_train)\n",
        "x_test  = pre_process_corpus(x_test)"
      ],
      "metadata": {
        "colab": {
          "base_uri": "https://localhost:8080/"
        },
        "id": "ik8XRykjPGaM",
        "outputId": "61e4ab2d-b85b-4161-be12-66f1b281a690"
      },
      "execution_count": null,
      "outputs": [
        {
          "output_type": "stream",
          "name": "stderr",
          "text": [
            "  0%|          | 0/14803 [00:00<?, ?it/s]<ipython-input-10-b87f0e810a41>:7: MarkupResemblesLocatorWarning: The input looks more like a filename than markup. You may want to open this file and pass the filehandle into Beautiful Soup.\n",
            "  soup = BeautifulSoup(text, \"html.parser\")\n",
            "100%|██████████| 14803/14803 [00:26<00:00, 549.98it/s]\n",
            "100%|██████████| 1645/1645 [00:03<00:00, 425.72it/s]\n"
          ]
        }
      ]
    },
    {
      "cell_type": "code",
      "source": [
        "x_train[0]"
      ],
      "metadata": {
        "colab": {
          "base_uri": "https://localhost:8080/",
          "height": 35
        },
        "id": "9G4VBmkUPIbS",
        "outputId": "ddf85966-84b9-4321-e265-f8d29624e8d1"
      },
      "execution_count": null,
      "outputs": [
        {
          "output_type": "execute_result",
          "data": {
            "text/plain": [
              "'فعه وغي مجد سلط , بكل وسل ليس هذا كتب خلف كثر نسب من نحي جوهر عن اثر من ادب سلط في خبر عرب , وان كانت هذه اخر قرب الي قلب عقل رحم ( احا ) وول كام تعه طرب فيه'"
            ],
            "application/vnd.google.colaboratory.intrinsic+json": {
              "type": "string"
            }
          },
          "metadata": {},
          "execution_count": 22
        }
      ]
    },
    {
      "cell_type": "code",
      "source": [
        "# handle out of vocab words\n",
        "tokenizer = Tokenizer(oov_token='<UNK>')\n",
        "# fit the tokenizer on the documents\n",
        "tokenizer.fit_on_texts(x_train)\n",
        "tokenizer.word_index['<PAD>'] = 0"
      ],
      "metadata": {
        "id": "FzqM67-8nCLN"
      },
      "execution_count": null,
      "outputs": []
    },
    {
      "cell_type": "code",
      "source": [
        "# showing the words with the max index\n",
        "word_with_max_idx = max([(k, v) for k, v in tokenizer.word_index.items()], key = lambda x:x[1])\n",
        "# showing the words with the min index\n",
        "word_with_min_idx = min([(k, v) for k, v in tokenizer.word_index.items()], key = lambda x:x[1])\n",
        "idx_of_UNK = tokenizer.word_index['<UNK>']\n",
        "print(word_with_max_idx, word_with_min_idx, idx_of_UNK)"
      ],
      "metadata": {
        "id": "cn2vi7r8ncIc",
        "colab": {
          "base_uri": "https://localhost:8080/"
        },
        "outputId": "084a155a-5d73-4580-f3ff-46e059d7cb16"
      },
      "execution_count": null,
      "outputs": [
        {
          "output_type": "stream",
          "name": "stdout",
          "text": [
            "('جذي', 15000) ('<PAD>', 0) 1\n"
          ]
        }
      ]
    },
    {
      "cell_type": "code",
      "source": [
        "print(f\"Vocabulary size: {len(tokenizer.word_index)}\")\n",
        "print(f\"Number of Documents: {tokenizer.document_count}\")"
      ],
      "metadata": {
        "colab": {
          "base_uri": "https://localhost:8080/"
        },
        "id": "PGJr1wwAno87",
        "outputId": "7a234b84-b50e-47bc-8ea1-597471b5a5b6"
      },
      "execution_count": null,
      "outputs": [
        {
          "output_type": "stream",
          "name": "stdout",
          "text": [
            "Vocabulary size: 15001\n",
            "Number of Documents: 14803\n"
          ]
        }
      ]
    },
    {
      "cell_type": "code",
      "source": [
        "train_sequences = tokenizer.texts_to_sequences(x_train)\n",
        "test_sequences = tokenizer.texts_to_sequences(x_test)"
      ],
      "metadata": {
        "id": "mIWAX8P_npvt"
      },
      "execution_count": null,
      "outputs": []
    },
    {
      "cell_type": "code",
      "source": [
        "print(train_sequences[0])"
      ],
      "metadata": {
        "colab": {
          "base_uri": "https://localhost:8080/"
        },
        "id": "ObpSNUptnvla",
        "outputId": "aec56a40-f9aa-4698-faf9-d5819abbd542"
      },
      "execution_count": null,
      "outputs": [
        {
          "output_type": "stream",
          "name": "stdout",
          "text": [
            "[4669, 4412, 1221, 620, 231, 1125, 88, 17, 4, 80, 10, 137, 3, 639, 1495, 11, 210, 3, 95, 620, 2, 474, 82, 106, 61, 42, 31, 158, 15, 117, 132, 294, 443, 2692, 1704, 650, 3161, 19]\n"
          ]
        }
      ]
    },
    {
      "cell_type": "code",
      "source": [
        "MAX_SEQUENCE_LENGTH = 1000\n",
        "# pad dataset to a maximum review length in words\n",
        "X_train = sequence.pad_sequences(train_sequences, maxlen=MAX_SEQUENCE_LENGTH)\n",
        "X_test = sequence.pad_sequences(test_sequences, maxlen=MAX_SEQUENCE_LENGTH)\n",
        "X_train.shape, X_test.shape"
      ],
      "metadata": {
        "colab": {
          "base_uri": "https://localhost:8080/"
        },
        "id": "2jxE2MRXnzi1",
        "outputId": "2d261133-1685-45d1-e3cd-c83f613b12da"
      },
      "execution_count": null,
      "outputs": [
        {
          "output_type": "execute_result",
          "data": {
            "text/plain": [
              "((14803, 1000), (1645, 1000))"
            ]
          },
          "metadata": {},
          "execution_count": 28
        }
      ]
    },
    {
      "cell_type": "code",
      "source": [
        "le = LabelEncoder()\n",
        "num_classes = 2\n",
        "y_train = le.fit_transform(y_train)\n",
        "y_test = le.transform(y_test)"
      ],
      "metadata": {
        "id": "v5FyOhLmn3o_"
      },
      "execution_count": null,
      "outputs": []
    },
    {
      "cell_type": "code",
      "source": [
        "y_train"
      ],
      "metadata": {
        "colab": {
          "base_uri": "https://localhost:8080/"
        },
        "id": "z1udlsGin5xP",
        "outputId": "2493a69a-385c-4f4e-c39c-85a9e148fc6f"
      },
      "execution_count": null,
      "outputs": [
        {
          "output_type": "execute_result",
          "data": {
            "text/plain": [
              "array([0, 1, 0, ..., 1, 1, 0])"
            ]
          },
          "metadata": {},
          "execution_count": 30
        }
      ]
    },
    {
      "cell_type": "code",
      "source": [
        "VOCAB_SIZE = len(tokenizer.word_index)"
      ],
      "metadata": {
        "id": "H7PQgLkfn8fz"
      },
      "execution_count": null,
      "outputs": []
    },
    {
      "cell_type": "code",
      "source": [
        "ARAVEC_PATH = \"/content/drive/MyDrive/Copy of Copy of full_grams_sg_300_twitter.mdl\"\n",
        "w2v_model = gensim.models.Word2Vec.load(ARAVEC_PATH)"
      ],
      "metadata": {
        "id": "940eKesw-Ejq"
      },
      "execution_count": null,
      "outputs": []
    },
    {
      "cell_type": "code",
      "source": [
        "embedding_vectors = {}\n",
        "for word in w2v_model.wv.key_to_index:\n",
        "  embedding_vectors[word] = w2v_model.wv[word]\n",
        "print(f\"Size of vocabulary in Aravec: {len(embedding_vectors)}\")"
      ],
      "metadata": {
        "colab": {
          "base_uri": "https://localhost:8080/"
        },
        "id": "D3CQrAqoLS9O",
        "outputId": "706ce2de-7bd2-4e5a-8c77-1a3be077d0e7"
      },
      "execution_count": null,
      "outputs": [
        {
          "output_type": "stream",
          "name": "stdout",
          "text": [
            "Size of vocabulary in Aravec: 1476715\n"
          ]
        }
      ]
    },
    {
      "cell_type": "code",
      "source": [
        "len(embedding_vectors[\"شمس\"])"
      ],
      "metadata": {
        "colab": {
          "base_uri": "https://localhost:8080/"
        },
        "id": "HMCPaaw_dhRi",
        "outputId": "34a87679-3bf6-41dc-e3aa-8100510f90f4"
      },
      "execution_count": null,
      "outputs": [
        {
          "output_type": "execute_result",
          "data": {
            "text/plain": [
              "300"
            ]
          },
          "metadata": {},
          "execution_count": 34
        }
      ]
    },
    {
      "cell_type": "code",
      "source": [
        "# initializing the embedding matrix with zeros\n",
        "emb_dim = 300\n",
        "vocab_len = len(tokenizer.word_index) + 1\n",
        "embedding_matrix = np.zeros((vocab_len, emb_dim))\n",
        "oov_count = 0\n",
        "oov_words = []\n",
        "for word, idx in tokenizer.word_index.items():\n",
        "  if idx < vocab_len:\n",
        "    embedding_vector = embedding_vectors.get(word)\n",
        "    if embedding_vector is not None:\n",
        "      embedding_matrix[idx] = embedding_vector\n",
        "    else:\n",
        "      oov_count += 1\n",
        "      oov_words.append(word)\n",
        "# print some of the out of vocabulary words\n",
        "print(f'Some out of valubulary words: {oov_words[0:5]}')"
      ],
      "metadata": {
        "colab": {
          "base_uri": "https://localhost:8080/"
        },
        "id": "5BbVp8QVL30N",
        "outputId": "fd3aaa0e-ae82-47de-fe18-75a7490544f1"
      },
      "execution_count": null,
      "outputs": [
        {
          "output_type": "stream",
          "name": "stdout",
          "text": [
            "Some out of valubulary words: ['<UNK>', 'لمذ', 'صطف', 'غرناط', 'بنء']\n"
          ]
        }
      ]
    },
    {
      "cell_type": "code",
      "source": [
        "len(tokenizer.word_index)"
      ],
      "metadata": {
        "colab": {
          "base_uri": "https://localhost:8080/"
        },
        "id": "5eMzaa_WMRRj",
        "outputId": "01ccdf11-18d6-462e-da1b-7b803a8f8c13"
      },
      "execution_count": null,
      "outputs": [
        {
          "output_type": "execute_result",
          "data": {
            "text/plain": [
              "15001"
            ]
          },
          "metadata": {},
          "execution_count": 36
        }
      ]
    },
    {
      "cell_type": "code",
      "source": [
        "len(oov_words)"
      ],
      "metadata": {
        "colab": {
          "base_uri": "https://localhost:8080/"
        },
        "id": "5wYgRYfWMG09",
        "outputId": "69d05cff-aa6d-452c-ef94-80d5eef06871"
      },
      "execution_count": null,
      "outputs": [
        {
          "output_type": "execute_result",
          "data": {
            "text/plain": [
              "3825"
            ]
          },
          "metadata": {},
          "execution_count": 37
        }
      ]
    },
    {
      "cell_type": "code",
      "source": [
        "X_train.shape"
      ],
      "metadata": {
        "colab": {
          "base_uri": "https://localhost:8080/"
        },
        "id": "xYCMfEbhQ95v",
        "outputId": "56fb49e2-2a9b-454d-8a1b-3e9240eb9027"
      },
      "execution_count": null,
      "outputs": [
        {
          "output_type": "execute_result",
          "data": {
            "text/plain": [
              "(14803, 1000)"
            ]
          },
          "metadata": {},
          "execution_count": 38
        }
      ]
    },
    {
      "cell_type": "code",
      "source": [
        "gru_model = Sequential()\n",
        "gru_model.add(l.Embedding(vocab_len, emb_dim, trainable=True, weights=[embedding_matrix]))\n",
        "gru_model.add(l.Bidirectional(l.GRU(128, return_sequences=False)))\n",
        "gru_model.add(l.Dropout(0.5))\n",
        "gru_model.add(l.Dense(1, activation='sigmoid'))\n",
        "gru_model.compile(loss='binary_crossentropy', optimizer='adam', metrics=['accuracy'])\n",
        "gru_model.summary()"
      ],
      "metadata": {
        "colab": {
          "base_uri": "https://localhost:8080/"
        },
        "id": "U4kUTv0gqGV_",
        "outputId": "28ba91a3-6bb0-48c0-de5e-6ca781df26b6"
      },
      "execution_count": null,
      "outputs": [
        {
          "output_type": "stream",
          "name": "stdout",
          "text": [
            "Model: \"sequential\"\n",
            "_________________________________________________________________\n",
            " Layer (type)                Output Shape              Param #   \n",
            "=================================================================\n",
            " embedding (Embedding)       (None, None, 300)         4500600   \n",
            "                                                                 \n",
            " bidirectional (Bidirectiona  (None, 256)              330240    \n",
            " l)                                                              \n",
            "                                                                 \n",
            " dropout (Dropout)           (None, 256)               0         \n",
            "                                                                 \n",
            " dense (Dense)               (None, 1)                 257       \n",
            "                                                                 \n",
            "=================================================================\n",
            "Total params: 4,831,097\n",
            "Trainable params: 4,831,097\n",
            "Non-trainable params: 0\n",
            "_________________________________________________________________\n"
          ]
        }
      ]
    },
    {
      "cell_type": "code",
      "source": [
        "batch_size = 256\n",
        "epochs = 9\n",
        "# early_stopping = EarlyStopping(monitor='val_loss', patience=5, restore_best_weights=True)\n",
        "# # path to save the model checkpoints\n",
        "# checkpoint_path = \"gru_model_checkpoint.h5\"\n",
        "# # creating the ModelCheckpoint callback\n",
        "# gru_checkpoint = ModelCheckpoint(checkpoint_path, save_best_only=True)\n",
        "gru_history = gru_model.fit(X_train, y_train.reshape((-1,1)),batch_size=batch_size, epochs=epochs) # , callbacks=[early_stopping, gru_checkpoint])"
      ],
      "metadata": {
        "colab": {
          "base_uri": "https://localhost:8080/"
        },
        "id": "QZqCRnkisCqk",
        "outputId": "7a20d0bc-00ed-4132-a998-82fe5a8abb0f"
      },
      "execution_count": null,
      "outputs": [
        {
          "output_type": "stream",
          "name": "stdout",
          "text": [
            "Epoch 1/9\n",
            "58/58 [==============================] - 35s 415ms/step - loss: 0.5909 - accuracy: 0.6691\n",
            "Epoch 2/9\n",
            "58/58 [==============================] - 21s 369ms/step - loss: 0.3982 - accuracy: 0.8258\n",
            "Epoch 3/9\n",
            "58/58 [==============================] - 22s 384ms/step - loss: 0.3133 - accuracy: 0.8722\n",
            "Epoch 4/9\n",
            "58/58 [==============================] - 21s 357ms/step - loss: 0.2516 - accuracy: 0.9041\n",
            "Epoch 5/9\n",
            "58/58 [==============================] - 21s 362ms/step - loss: 0.1970 - accuracy: 0.9278\n",
            "Epoch 6/9\n",
            "58/58 [==============================] - 19s 334ms/step - loss: 0.1619 - accuracy: 0.9414\n",
            "Epoch 7/9\n",
            "58/58 [==============================] - 19s 335ms/step - loss: 0.1309 - accuracy: 0.9547\n",
            "Epoch 8/9\n",
            "58/58 [==============================] - 20s 339ms/step - loss: 0.1096 - accuracy: 0.9609\n",
            "Epoch 9/9\n",
            "58/58 [==============================] - 18s 320ms/step - loss: 0.0861 - accuracy: 0.9714\n"
          ]
        }
      ]
    },
    {
      "cell_type": "code",
      "source": [
        "gru_model.evaluate(X_test, y_test)"
      ],
      "metadata": {
        "colab": {
          "base_uri": "https://localhost:8080/"
        },
        "id": "Dpv7RZpCbJ6N",
        "outputId": "0680caa3-29ad-4400-f273-1cb35e0bff0a"
      },
      "execution_count": null,
      "outputs": [
        {
          "output_type": "stream",
          "name": "stdout",
          "text": [
            "52/52 [==============================] - 2s 27ms/step - loss: 0.6736 - accuracy: 0.8328\n"
          ]
        },
        {
          "output_type": "execute_result",
          "data": {
            "text/plain": [
              "[0.6736352443695068, 0.8328267335891724]"
            ]
          },
          "metadata": {},
          "execution_count": 41
        }
      ]
    },
    {
      "cell_type": "code",
      "source": [
        "clear_session()"
      ],
      "metadata": {
        "id": "4OZYxS5tX1eP"
      },
      "execution_count": null,
      "outputs": []
    },
    {
      "cell_type": "code",
      "source": [
        "# Reset the states of the model\n",
        "gru_model.reset_states()\n",
        "del gru_model"
      ],
      "metadata": {
        "id": "inWlGDJ_CwTU"
      },
      "execution_count": null,
      "outputs": []
    },
    {
      "cell_type": "code",
      "source": [
        "# use Tfidf Vectorizer\n",
        "tfidf_vectorizer = TfidfVectorizer()\n",
        "# fit and transform the training data\n",
        "X_train_tfidf = tfidf_vectorizer.fit_transform(x_train)\n",
        "# transform the test data using the same vectorizer\n",
        "X_test_tfidf = tfidf_vectorizer.transform(x_test)"
      ],
      "metadata": {
        "id": "qFybYPKwOZH7"
      },
      "execution_count": null,
      "outputs": []
    },
    {
      "cell_type": "markdown",
      "source": [
        "## SVM Classifier"
      ],
      "metadata": {
        "id": "agMPuh4nSGlV"
      }
    },
    {
      "cell_type": "code",
      "source": [
        "# initialize the model\n",
        "svm_classifier = CalibratedClassifierCV(LinearSVC()).fit(X_train_tfidf, y_train)\n",
        "# predict on the test set\n",
        "y_pred = svm_classifier.predict(X_test_tfidf)\n",
        "# calculate the accuracy of the classifier\n",
        "accuracy = accuracy_score(y_test, y_pred)\n",
        "print(\"Accuracy:\", accuracy)"
      ],
      "metadata": {
        "id": "2AZBBSaFsTtA",
        "colab": {
          "base_uri": "https://localhost:8080/"
        },
        "outputId": "87c345cc-e26a-4d5d-fdbd-dee2156797cc"
      },
      "execution_count": null,
      "outputs": [
        {
          "output_type": "stream",
          "name": "stdout",
          "text": [
            "Accuracy: 0.851063829787234\n"
          ]
        }
      ]
    },
    {
      "cell_type": "markdown",
      "source": [
        "## Logistic Regression Classifier"
      ],
      "metadata": {
        "id": "GS0MLkACSEMx"
      }
    },
    {
      "cell_type": "code",
      "source": [
        "# initialize the model\n",
        "logreg_classifier = LogisticRegression().fit(X_train_tfidf, y_train)\n",
        "# predict on the test set\n",
        "y_pred = logreg_classifier.predict(X_test_tfidf)\n",
        "# calculate the accuracy of the classifier\n",
        "accuracy = accuracy_score(y_test, y_pred)\n",
        "print(\"Accuracy:\", accuracy)"
      ],
      "metadata": {
        "id": "q_AKgr0mSPPd",
        "colab": {
          "base_uri": "https://localhost:8080/"
        },
        "outputId": "cd8d8e06-cd2e-4133-8836-7b4889e567fb"
      },
      "execution_count": null,
      "outputs": [
        {
          "output_type": "stream",
          "name": "stdout",
          "text": [
            "Accuracy: 0.8492401215805471\n"
          ]
        }
      ]
    },
    {
      "cell_type": "code",
      "source": [
        "svm_prob = svm_classifier.predict_proba(X_test_tfidf)\n",
        "log_prob = logreg_classifier.predict_proba(X_test_tfidf)"
      ],
      "metadata": {
        "id": "Ww8smvx6fnNv"
      },
      "execution_count": null,
      "outputs": []
    },
    {
      "cell_type": "code",
      "source": [
        "svm_prob"
      ],
      "metadata": {
        "id": "cTietuUJLQ0Z",
        "colab": {
          "base_uri": "https://localhost:8080/"
        },
        "outputId": "5043f8fd-1b6a-4883-ab17-b7e4de09147d"
      },
      "execution_count": null,
      "outputs": [
        {
          "output_type": "execute_result",
          "data": {
            "text/plain": [
              "array([[0.90251703, 0.09748297],\n",
              "       [0.95759146, 0.04240854],\n",
              "       [0.37597663, 0.62402337],\n",
              "       ...,\n",
              "       [0.53658429, 0.46341571],\n",
              "       [0.02575837, 0.97424163],\n",
              "       [0.60870792, 0.39129208]])"
            ]
          },
          "metadata": {},
          "execution_count": 48
        }
      ]
    },
    {
      "cell_type": "code",
      "source": [
        "del logreg_classifier\n",
        "del svm_classifier"
      ],
      "metadata": {
        "id": "OmB-FwU5jIy4"
      },
      "execution_count": null,
      "outputs": []
    },
    {
      "cell_type": "code",
      "source": [
        "def get_balanced_samples(data, sentiment, n):\n",
        "    \"\"\"\n",
        "    Gets n samples from the data that have the specified sentiment.\n",
        "\n",
        "    Args:\n",
        "        data: The data to sample from.\n",
        "        sentiment: The sentiment of the samples to return.\n",
        "        n: The number of samples to return.\n",
        "\n",
        "    Returns:\n",
        "        A tuple containing two dataframes. The first dataframe contains n samples with the specified sentiment,\n",
        "        and the second dataframe contains all the rows that were not included in the balanced sample.\n",
        "    \"\"\"\n",
        "\n",
        "    samples = []\n",
        "    count = 0\n",
        "    untaken_rows = []\n",
        "\n",
        "    idx = 0\n",
        "    for i, row in data.iterrows():\n",
        "        idx += 1\n",
        "        if row[0] == sentiment:\n",
        "            samples.append(row)\n",
        "            count += 1\n",
        "            if count >= n:\n",
        "                break\n",
        "        else:\n",
        "            untaken_rows.append(row)\n",
        "\n",
        "    untaken_rows = pd.DataFrame(untaken_rows, columns=data.columns)\n",
        "    untaken_df = pd.concat([untaken_rows, data.iloc[idx:]])\n",
        "\n",
        "    random.shuffle(samples)\n",
        "\n",
        "    balanced_samples = samples\n",
        "    balanced_df = pd.DataFrame(balanced_samples, columns=data.columns)\n",
        "\n",
        "    #untaken_df = pd.DataFrame(untaken_df, columns=data.columns)\n",
        "\n",
        "    return balanced_df, untaken_df"
      ],
      "metadata": {
        "id": "tfbKOTp-SlWy"
      },
      "execution_count": null,
      "outputs": []
    },
    {
      "cell_type": "code",
      "source": [
        "def divide_dataset(df):\n",
        "  sentiment1 = 0\n",
        "  sentiment2 = 1\n",
        "  n = 5000\n",
        "\n",
        "  balanced_samples,untaken = get_balanced_samples(df, sentiment1, n)\n",
        "  untaken = pd.DataFrame(untaken)\n",
        "\n",
        "\n",
        "  balanced_samples2,untaken2 = get_balanced_samples(untaken, sentiment2, n)\n",
        "  untaken2 = pd.DataFrame(untaken2)\n",
        "\n",
        "\n",
        "  balanced_samples = pd.DataFrame(balanced_samples)\n",
        "  balanced_samples2 = pd.DataFrame(balanced_samples2)\n",
        "\n",
        "  concatenated_df = pd.concat([balanced_samples, balanced_samples2])\n",
        "  shuffled_df = concatenated_df .sample(frac=1, random_state=0).reset_index(drop=True)\n",
        "  return shuffled_df,untaken2"
      ],
      "metadata": {
        "id": "1C_fDGVYgZrJ"
      },
      "execution_count": null,
      "outputs": []
    },
    {
      "cell_type": "code",
      "source": [
        "labeled, unlabeled = divide_dataset(df_train)"
      ],
      "metadata": {
        "id": "Jh8VPg5_ggwi"
      },
      "execution_count": null,
      "outputs": []
    },
    {
      "cell_type": "code",
      "source": [
        "unlabeled, true_labels = list(unlabeled[\"txt\"]), list(unlabeled[\"sentiment\"])\n",
        "# create a new list, same size as true labels, but with incorrect labels\n",
        "# and change those labels at each iteration\n",
        "pred_labels = [3 for i in range(len(true_labels))]"
      ],
      "metadata": {
        "id": "U5-dDWCU14oK"
      },
      "execution_count": null,
      "outputs": []
    },
    {
      "cell_type": "code",
      "source": [
        "x_lab, y_lab = list(labeled[\"txt\"]), list(labeled[\"sentiment\"])"
      ],
      "metadata": {
        "id": "XzyezwjnneQt"
      },
      "execution_count": null,
      "outputs": []
    },
    {
      "cell_type": "code",
      "source": [
        "x_lab = pre_process_corpus(x_lab)\n",
        "unlabeled = pre_process_corpus(unlabeled)\n",
        "unlabeled_copy = copy.deepcopy(unlabeled)"
      ],
      "metadata": {
        "colab": {
          "base_uri": "https://localhost:8080/"
        },
        "id": "5wcZ_oQvZiit",
        "outputId": "822e001a-4abc-4eb6-b780-e64bccf3c09e"
      },
      "execution_count": null,
      "outputs": [
        {
          "output_type": "stream",
          "name": "stderr",
          "text": [
            "  0%|          | 0/10000 [00:00<?, ?it/s]<ipython-input-10-b87f0e810a41>:7: MarkupResemblesLocatorWarning: The input looks more like a filename than markup. You may want to open this file and pass the filehandle into Beautiful Soup.\n",
            "  soup = BeautifulSoup(text, \"html.parser\")\n",
            "100%|██████████| 10000/10000 [00:10<00:00, 947.32it/s]\n",
            "100%|██████████| 4803/4803 [00:03<00:00, 1310.71it/s]\n"
          ]
        }
      ]
    },
    {
      "cell_type": "code",
      "source": [
        "def get_label(prob1):\n",
        "  if prob1 >= 0.8: return 0\n",
        "  elif prob1 <= 0.2: return 1\n",
        "  else: return 2"
      ],
      "metadata": {
        "id": "ROV7DkOah8_-"
      },
      "execution_count": null,
      "outputs": []
    },
    {
      "cell_type": "code",
      "source": [
        "def filter(dt_prob, svm_prob, log_prob):\n",
        "  # identify to take which samples\n",
        "  taken = []\n",
        "  for prob1, prob2, prob3 in zip(dt_prob, svm_prob, log_prob):\n",
        "    label_count = [0, 0, 0]\n",
        "    label_count[get_label(prob1[0])] += 1\n",
        "    label_count[get_label(prob2[0])] += 1\n",
        "    label_count[get_label(prob3[0])] += 1\n",
        "    taken.append(np.argmax(label_count))\n",
        "\n",
        "  # add to labeled dataset\n",
        "  popped_list = []\n",
        "  for i, label in enumerate(taken):\n",
        "    if label != 2:\n",
        "      x_lab.append(unlabeled[i])\n",
        "      y_lab.append(label)\n",
        "      popped_list.append(i)\n",
        "\n",
        "  # remove from unlabeled dataset\n",
        "  for i in reversed(popped_list):\n",
        "    unlabeled.pop(i)\n",
        "  return x_lab, y_lab, unlabeled"
      ],
      "metadata": {
        "id": "8Ne4mkDBiV8j"
      },
      "execution_count": null,
      "outputs": []
    },
    {
      "cell_type": "code",
      "source": [
        "def train_models(x_train, y_train):\n",
        "  y_train = np.array(y_train)\n",
        "\n",
        "  # use Tfidf Vectorizer\n",
        "\n",
        "  tfidf_vectorizer = TfidfVectorizer()\n",
        "  # fit and transform the training data\n",
        "  X_train_tfidf = tfidf_vectorizer.fit_transform(x_train)\n",
        "  # transform the test data using the same vectorizer\n",
        "  X_test_tfidf = tfidf_vectorizer.transform(x_test)\n",
        "\n",
        "  # SVM\n",
        "  # initialize the model\n",
        "  svm_classifier = CalibratedClassifierCV(LinearSVC()).fit(X_train_tfidf, y_train)\n",
        "  # predict on the test set\n",
        "  y_pred = svm_classifier.predict(X_test_tfidf)\n",
        "  # calculate the accuracy of the classifier\n",
        "  accuracy = accuracy_score(y_test, y_pred)\n",
        "  print(\"SVM Accuracy:\", accuracy)\n",
        "\n",
        "  # Logistic Regression\n",
        "  # initialize the model\n",
        "  logreg_classifier = LogisticRegression().fit(X_train_tfidf, y_train)\n",
        "  # predict on the test set\n",
        "  y_pred = logreg_classifier.predict(X_test_tfidf)\n",
        "  # calculate the accuracy of the classifier\n",
        "  accuracy = accuracy_score(y_test, y_pred)\n",
        "  print(\"Logistic Regression Accuracy:\", accuracy)\n",
        "\n",
        "  train_sequences = tokenizer.texts_to_sequences(x_train)\n",
        "  train_sequences = sequence.pad_sequences(train_sequences, maxlen=MAX_SEQUENCE_LENGTH)\n",
        "  # GRU\n",
        "  gru_model = Sequential()\n",
        "  gru_model.add(l.Embedding(vocab_len, emb_dim, trainable=False, weights=[embedding_matrix]))\n",
        "  gru_model.add(l.Bidirectional(l.GRU(128, return_sequences=False)))\n",
        "  gru_model.add(l.Dropout(0.5))\n",
        "  gru_model.add(l.Dense(1, activation='sigmoid'))\n",
        "  gru_model.compile(loss='binary_crossentropy', optimizer='adam', metrics=['accuracy'])\n",
        "\n",
        "  batch_size = 256\n",
        "  epochs = 10\n",
        "  gru_history = gru_model.fit(train_sequences, y_train.reshape((-1,1)), batch_size=batch_size, epochs=epochs, verbose=0)\n",
        "  accuracy = gru_model.evaluate(X_test, y_test)\n",
        "  print(\"GRU Accuracy:\", accuracy)\n",
        "\n",
        "\n",
        "\n",
        "\n",
        "  # from sklearn.tree import DecisionTreeClassifier\n",
        "\n",
        "  # # Create a Decision Tree Classifier\n",
        "  # dt_classifier = DecisionTreeClassifier().fit(X_train_tfidf, y_train)\n",
        "  # # Make predictions on the test data\n",
        "  # y_pred = dt_classifier.predict(X_test_tfidf)\n",
        "  # # Calculate the accuracy of the classifier\n",
        "  # accuracy = accuracy_score(y_test, y_pred)\n",
        "  # print(\"DT Accuracy:\", accuracy)\n",
        "\n",
        "  unlabeled_tfidf = tfidf_vectorizer.transform(unlabeled)\n",
        "  # predict with probability\n",
        "  svm_prob = svm_classifier.predict_proba(unlabeled_tfidf)\n",
        "  log_prob = logreg_classifier.predict_proba(unlabeled_tfidf)\n",
        "\n",
        "\n",
        "  # dt_prob = dt_classifier.predict_proba(unlabeled_tfidf)\n",
        "\n",
        "\n",
        "  test_sequences = tokenizer.texts_to_sequences(unlabeled)\n",
        "  test_sequences = sequence.pad_sequences(test_sequences, maxlen=MAX_SEQUENCE_LENGTH)\n",
        "  gru_prob = gru_model.predict(test_sequences)\n",
        "\n",
        "  clear_session()\n",
        "  # Reset the states of the model\n",
        "  gru_model.reset_states()\n",
        "  del gru_model\n",
        "  del logreg_classifier\n",
        "  del svm_classifier\n",
        "\n",
        "  return svm_prob, log_prob, gru_prob"
      ],
      "metadata": {
        "id": "w6E2ckgloxGt"
      },
      "execution_count": null,
      "outputs": []
    },
    {
      "cell_type": "code",
      "source": [
        "#def augment_text(sentence):\n",
        "#  words = sentence.split()\n",
        "#  augmented_sentence = \"\"\n",
        "#  for i in range(len(words)):\n",
        "#    synonym = w2v_model.wv.most_similar(words[i])[0][0]\n",
        "#    augmented_sentence += synonym + \" \"\n",
        "#  return augmented_sentence\n",
        "\n",
        "def get_syn(word):\n",
        "  try:\n",
        "    return w2v_model.wv.most_similar(word)[0][0]\n",
        "  except KeyError:\n",
        "    return word\n",
        "def augment_text2(sentence, n=1):\n",
        "  words = sentence.split()\n",
        "  augmented_sentence = \"\"\n",
        "  random_numbers = random.sample(range(len(words)), n)\n",
        "  for i in range(len(words)):\n",
        "    if i in random_numbers:\n",
        "      synonym = get_syn(words[i])\n",
        "    else:\n",
        "      synonym = words[i]\n",
        "    augmented_sentence += synonym + \" \"\n",
        "  return augmented_sentence"
      ],
      "metadata": {
        "id": "-3kEFItW2GF7"
      },
      "execution_count": null,
      "outputs": []
    },
    {
      "cell_type": "code",
      "source": [
        "def calculate_dataset(y):\n",
        "  class_1 = sum(y == 0)\n",
        "  return class_1, len(y) - class_1"
      ],
      "metadata": {
        "id": "Xg0bczn96bUl"
      },
      "execution_count": null,
      "outputs": []
    },
    {
      "cell_type": "code",
      "source": [
        "def augment_data_set(dataset):\n",
        "  positive_dataset, negative_dataset = calculate_dataset(dataset['sentiment'])\n",
        "  initial_len=len(dataset)\n",
        "  if positive_dataset > negative_dataset:\n",
        "    for row in range(0,initial_len):\n",
        "      if dataset['sentiment'][row] == 0:\n",
        "        augmented_text = augment_text2(dataset['txt'][row])\n",
        "        df_row = pd.DataFrame({'txt': [augmented_text], 'sentiment': [0]})\n",
        "        dataset = pd.concat([dataset, df_row])\n",
        "        negative_dataset += 1\n",
        "        if positive_dataset == negative_dataset:\n",
        "          return 1,dataset\n",
        "\n",
        "  elif positive_dataset < negative_dataset:\n",
        "    for row in range(0,initial_len):\n",
        "      if dataset['sentiment'][row] == 1:\n",
        "        augmented_text = augment_text2(dataset['txt'][row])\n",
        "        df_row = pd.DataFrame({'txt': [augmented_text], 'sentiment': [1]})\n",
        "        dataset = pd.concat([dataset, df_row])\n",
        "        positive_dataset += 1\n",
        "        if positive_dataset == negative_dataset:\n",
        "          return 1,dataset\n",
        "\n",
        "  else:\n",
        "    return 1, dataset\n",
        "\n",
        "  return 0, dataset"
      ],
      "metadata": {
        "id": "-vZlkogDBdk6"
      },
      "execution_count": null,
      "outputs": []
    },
    {
      "cell_type": "code",
      "source": [
        "prev = 0\n",
        "while((len(unlabeled) > 0) and (len(unlabeled) != prev)):\n",
        "  prev = len(unlabeled)\n",
        "  svm_prob, log_prob, gru_prob = train_models(x_lab, y_lab)\n",
        "  x_lab, y_lab, unlabeled = filter(svm_prob, log_prob, gru_prob)\n",
        "  print(f\"{len(unlabeled)} Unlabeled examples left\\n\")\n",
        "  # # data augmentation\n",
        "  # df = pd.DataFrame({'txt': x_lab, 'sentiment': y_lab})\n",
        "  # flag = 0\n",
        "  # while flag!=1:\n",
        "  #   flag,dataset = augment_data_set(df)\n",
        "  # x_lab, y_lab = list(dataset[\"txt\"]), list(dataset[\"sentiment\"])"
      ],
      "metadata": {
        "id": "KR0go8DIFvXz",
        "colab": {
          "base_uri": "https://localhost:8080/"
        },
        "outputId": "af01e15c-34ed-4582-b27d-94dcd21323ad"
      },
      "execution_count": null,
      "outputs": [
        {
          "output_type": "stream",
          "name": "stdout",
          "text": [
            "SVM Accuracy: 0.8449848024316109\n",
            "Logistic Regression Accuracy: 0.8443768996960487\n",
            "52/52 [==============================] - 3s 34ms/step - loss: 0.4341 - accuracy: 0.8079\n",
            "GRU Accuracy: [0.434074342250824, 0.8079027533531189]\n",
            "151/151 [==============================] - 5s 25ms/step\n",
            "2257 Unlabeled examples left\n",
            "\n",
            "SVM Accuracy: 0.835258358662614\n",
            "Logistic Regression Accuracy: 0.8370820668693009\n",
            "52/52 [==============================] - 3s 36ms/step - loss: 0.4899 - accuracy: 0.7733\n",
            "GRU Accuracy: [0.4899318814277649, 0.7732523083686829]\n",
            "71/71 [==============================] - 2s 24ms/step\n",
            "1947 Unlabeled examples left\n",
            "\n",
            "SVM Accuracy: 0.835258358662614\n",
            "Logistic Regression Accuracy: 0.8382978723404255\n",
            "52/52 [==============================] - 2s 36ms/step - loss: 0.4768 - accuracy: 0.8000\n",
            "GRU Accuracy: [0.4768018126487732, 0.800000011920929]\n",
            "61/61 [==============================] - 3s 30ms/step\n",
            "1802 Unlabeled examples left\n",
            "\n",
            "SVM Accuracy: 0.8358662613981763\n",
            "Logistic Regression Accuracy: 0.8364741641337387\n",
            "52/52 [==============================] - 2s 30ms/step - loss: 0.4356 - accuracy: 0.8073\n",
            "GRU Accuracy: [0.4356331527233124, 0.8072948455810547]\n",
            "57/57 [==============================] - 3s 33ms/step\n",
            "1765 Unlabeled examples left\n",
            "\n",
            "SVM Accuracy: 0.835258358662614\n",
            "Logistic Regression Accuracy: 0.8358662613981763\n",
            "52/52 [==============================] - 2s 29ms/step - loss: 0.4522 - accuracy: 0.7903\n",
            "GRU Accuracy: [0.45217692852020264, 0.7902735471725464]\n",
            "56/56 [==============================] - 2s 28ms/step\n",
            "1743 Unlabeled examples left\n",
            "\n",
            "SVM Accuracy: 0.8346504559270517\n",
            "Logistic Regression Accuracy: 0.8364741641337387\n",
            "52/52 [==============================] - 2s 29ms/step - loss: 0.5077 - accuracy: 0.7581\n",
            "GRU Accuracy: [0.5076780915260315, 0.7580547332763672]\n",
            "55/55 [==============================] - 2s 25ms/step\n",
            "1679 Unlabeled examples left\n",
            "\n",
            "SVM Accuracy: 0.833434650455927\n",
            "Logistic Regression Accuracy: 0.8364741641337387\n",
            "52/52 [==============================] - 2s 27ms/step - loss: 0.4319 - accuracy: 0.8146\n",
            "GRU Accuracy: [0.4318543076515198, 0.8145896792411804]\n",
            "53/53 [==============================] - 2s 24ms/step\n",
            "1668 Unlabeled examples left\n",
            "\n",
            "SVM Accuracy: 0.8328267477203647\n",
            "Logistic Regression Accuracy: 0.8346504559270517\n",
            "52/52 [==============================] - 2s 29ms/step - loss: 0.4333 - accuracy: 0.8018\n",
            "GRU Accuracy: [0.4333246350288391, 0.8018237352371216]\n",
            "53/53 [==============================] - 3s 33ms/step\n",
            "1649 Unlabeled examples left\n",
            "\n",
            "SVM Accuracy: 0.833434650455927\n",
            "Logistic Regression Accuracy: 0.835258358662614\n",
            "52/52 [==============================] - 2s 27ms/step - loss: 0.4376 - accuracy: 0.7988\n",
            "GRU Accuracy: [0.43758705258369446, 0.7987841963768005]\n",
            "52/52 [==============================] - 2s 26ms/step\n",
            "1644 Unlabeled examples left\n",
            "\n",
            "SVM Accuracy: 0.8346504559270517\n",
            "Logistic Regression Accuracy: 0.8346504559270517\n",
            "52/52 [==============================] - 2s 30ms/step - loss: 0.4309 - accuracy: 0.8043\n",
            "GRU Accuracy: [0.43086740374565125, 0.8042553067207336]\n",
            "52/52 [==============================] - 2s 24ms/step\n",
            "1636 Unlabeled examples left\n",
            "\n",
            "SVM Accuracy: 0.8340425531914893\n",
            "Logistic Regression Accuracy: 0.835258358662614\n",
            "52/52 [==============================] - 2s 30ms/step - loss: 0.4220 - accuracy: 0.8213\n",
            "GRU Accuracy: [0.42199498414993286, 0.8212766051292419]\n",
            "52/52 [==============================] - 3s 33ms/step\n",
            "1633 Unlabeled examples left\n",
            "\n",
            "SVM Accuracy: 0.8358662613981763\n",
            "Logistic Regression Accuracy: 0.8340425531914893\n",
            "52/52 [==============================] - 2s 30ms/step - loss: 0.5005 - accuracy: 0.7818\n",
            "GRU Accuracy: [0.5005168318748474, 0.7817628979682922]\n",
            "52/52 [==============================] - 3s 33ms/step\n",
            "1618 Unlabeled examples left\n",
            "\n",
            "SVM Accuracy: 0.8346504559270517\n",
            "Logistic Regression Accuracy: 0.8364741641337387\n",
            "52/52 [==============================] - 2s 28ms/step - loss: 0.4318 - accuracy: 0.8146\n",
            "GRU Accuracy: [0.4317990839481354, 0.8145896792411804]\n",
            "51/51 [==============================] - 2s 24ms/step\n",
            "1612 Unlabeled examples left\n",
            "\n",
            "SVM Accuracy: 0.833434650455927\n",
            "Logistic Regression Accuracy: 0.835258358662614\n",
            "52/52 [==============================] - 2s 30ms/step - loss: 0.4740 - accuracy: 0.7951\n",
            "GRU Accuracy: [0.4740211069583893, 0.7951367497444153]\n",
            "51/51 [==============================] - 2s 24ms/step\n",
            "1609 Unlabeled examples left\n",
            "\n",
            "SVM Accuracy: 0.833434650455927\n",
            "Logistic Regression Accuracy: 0.8346504559270517\n",
            "52/52 [==============================] - 2s 30ms/step - loss: 0.4291 - accuracy: 0.8213\n",
            "GRU Accuracy: [0.42905473709106445, 0.8212766051292419]\n",
            "51/51 [==============================] - 2s 24ms/step\n",
            "1608 Unlabeled examples left\n",
            "\n",
            "SVM Accuracy: 0.8328267477203647\n",
            "Logistic Regression Accuracy: 0.8346504559270517\n",
            "52/52 [==============================] - 2s 29ms/step - loss: 0.4767 - accuracy: 0.7884\n",
            "GRU Accuracy: [0.47672808170318604, 0.7884498238563538]\n",
            "51/51 [==============================] - 2s 24ms/step\n",
            "1603 Unlabeled examples left\n",
            "\n",
            "SVM Accuracy: 0.833434650455927\n",
            "Logistic Regression Accuracy: 0.8346504559270517\n",
            "52/52 [==============================] - 3s 34ms/step - loss: 0.4438 - accuracy: 0.8006\n",
            "GRU Accuracy: [0.443824827671051, 0.8006079196929932]\n",
            "51/51 [==============================] - 2s 24ms/step\n",
            "1603 Unlabeled examples left\n",
            "\n"
          ]
        }
      ]
    },
    {
      "cell_type": "code",
      "source": [
        "def find_labels_by_data(X_train, y_train, data_points):\n",
        "  labels = []\n",
        "  for data_point in data_points:\n",
        "    if data_point in X_train:\n",
        "      index = X_train.index(data_point)\n",
        "      labels.append(y_train[index])\n",
        "    else:\n",
        "      labels.append(3)\n",
        "  return labels"
      ],
      "metadata": {
        "id": "9pHBcwcHYShI"
      },
      "execution_count": null,
      "outputs": []
    },
    {
      "cell_type": "code",
      "source": [
        "def num_correct_predictions(pred_labels, true_labels, unlabeled):\n",
        "  pred_labels, true_labels = np.array(pred_labels), np.array(true_labels)\n",
        "  correct_pred = np.sum(pred_labels == true_labels) - len(unlabeled)\n",
        "  incorrect_pred = np.sum(pred_labels != true_labels) - len(unlabeled)\n",
        "  print(f\"{correct_pred} Correctly predicted\")\n",
        "  print(f\"{incorrect_pred} Incorrectly predicted\")\n",
        "  print(f\"{len(unlabeled)} Not predicted at all\")"
      ],
      "metadata": {
        "id": "fbzOofl-_gDH"
      },
      "execution_count": null,
      "outputs": []
    },
    {
      "cell_type": "code",
      "source": [
        "pred_labels = find_labels_by_data(x_lab, y_lab, unlabeled_copy)"
      ],
      "metadata": {
        "id": "UKc8hmNY-cn2"
      },
      "execution_count": null,
      "outputs": []
    },
    {
      "cell_type": "code",
      "source": [
        "num_correct_predictions(pred_labels, true_labels, unlabeled)"
      ],
      "metadata": {
        "colab": {
          "base_uri": "https://localhost:8080/"
        },
        "id": "YWot3UrR_K6m",
        "outputId": "53e59afd-b471-47a7-8eb2-563e3d7a51c2"
      },
      "execution_count": null,
      "outputs": [
        {
          "output_type": "stream",
          "name": "stdout",
          "text": [
            "1216 Correctly predicted\n",
            "381 Incorrectly predicted\n",
            "1603 Not predicted at all\n"
          ]
        }
      ]
    },
    {
      "cell_type": "code",
      "source": [
        "import matplotlib.pyplot as plt\n",
        "SVM = [0.8437689969604864, 0.841337386018237, 0.8389057750759878, 0.8370820668693009, 0.8279635258358663, 0.827355623100304]\n",
        "Logistic_Regression = [0.8303951367781155,  0.8285714285714286, 0.8206686930091185, 0.8042553191489362, 0.772644376899696, 0.7458966565349544]\n",
        "GRU = [ 0.8206686973571777, 0.7823708057403564, 0.8279635310173035, 0.8109422326087952, 0.7884498238563538, 0.7969604730606079]\n",
        "fig, ax = plt.subplots()\n",
        "ax.plot(SVM, label='SVM')\n",
        "ax.plot(Logistic_Regression, label='Logistic Regression')\n",
        "ax.plot(GRU, label='GRU')\n",
        "ax.set_title('Accuracy of three models')\n",
        "ax.set_xlabel('Iteration')\n",
        "ax.set_ylabel('Test Accuracy')\n",
        "ax.legend()\n",
        "plt.show()"
      ],
      "metadata": {
        "id": "uc2suZ28AMcr",
        "colab": {
          "base_uri": "https://localhost:8080/",
          "height": 472
        },
        "outputId": "8950b62d-83f7-45a2-c227-af528544edb9"
      },
      "execution_count": null,
      "outputs": [
        {
          "output_type": "display_data",
          "data": {
            "text/plain": [
              "<Figure size 640x480 with 1 Axes>"
            ],
            "image/png": "[encoded data removed]"
          },
          "metadata": {}
        }
      ]
    }
  ]
}